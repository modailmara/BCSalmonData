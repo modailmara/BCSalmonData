{
 "cells": [
  {
   "cell_type": "code",
   "execution_count": null,
   "outputs": [],
   "source": [],
   "metadata": {
    "collapsed": false,
    "pycharm": {
     "name": "#%%\n"
    }
   }
  },
  {
   "cell_type": "markdown",
   "source": [
    "## This notebook creates a CSV that maps between facility indexes by the Department of Fisheries and Oceans Canada (DFO) and the facility IDs in the industry data"
   ],
   "metadata": {
    "collapsed": false,
    "pycharm": {
     "name": "#%% md\n"
    }
   }
  },
  {
   "cell_type": "code",
   "execution_count": 2,
   "outputs": [],
   "source": [
    "import pandas as pd\n",
    "from pathlib import Path"
   ],
   "metadata": {
    "collapsed": false,
    "pycharm": {
     "name": "#%%\n"
    }
   }
  },
  {
   "cell_type": "markdown",
   "source": [
    "### Path configuration variables"
   ],
   "metadata": {
    "collapsed": false,
    "pycharm": {
     "name": "#%% md\n"
    }
   }
  },
  {
   "cell_type": "code",
   "execution_count": 28,
   "outputs": [],
   "source": [
    "# DFO data path\n",
    "dfo_farm_data_filepath = Path('DFO') / 'lice-count-dens-pou-2011-ongoing-rpt-pac-dfo-mpo-aquaculture-eng.csv'\n",
    "# industry data path\n",
    "industry_farm_details_filepath = Path('.') / 'industry_farm_details.csv'\n",
    "\n",
    "# mapping file from DFO 'Facility Reference Number' to 'facility_id'\n",
    "ref_to_id_map_filepath = Path('.') / 'DFO_facility_mapping.csv'"
   ],
   "metadata": {
    "collapsed": false,
    "pycharm": {
     "name": "#%%\n"
    }
   }
  },
  {
   "cell_type": "code",
   "execution_count": 22,
   "outputs": [],
   "source": [
    "# mapping\n",
    "# done manually as it's more transparent and less error-prone than algorithmically\n",
    "ref_to_id_map = {\n",
    "    78: 121,  # Phillips Arm\n",
    "    100: 92,  # Lees Bay\n",
    "    136: 35,  # Cliff Bay\n",
    "    137: 39,  # Conville Bay\n",
    "    141: 124,  # Port Elizabeth\n",
    "    143: 91,  # Larsen Island\n",
    "    144: 88,  # Koskimo Bay\n",
    "    169: None,  # Barkley. Not included.\n",
    "    211: 117,  # Okisollo (Sonora Island)\n",
    "    221: 165,  # Vantage\n",
    "    227: 12,  # Bawden\n",
    "    234: 50,  # Dixon Bay\n",
    "    303: None,  # Glacial Creek. Not included.\n",
    "    304: 131,  # Raza Island\n",
    "    306: 166,  # Venture Point\n",
    "    314: 134,  # Ross Pass\n",
    "    332: 135,  # Salten\n",
    "    377: None,  # Bickley Bay. Not included.\n",
    "    378: 160,  # Thurlow Point\n",
    "    380: 148,  # Sonora Point\n",
    "    388: 24,  # Brougham Point\n",
    "    412: 60,  # Site 9 / Farm 9\n",
    "    458: 45,  # Cypress Harbour\n",
    "    465: 156,  # Swanson Island\n",
    "    466: 5,  # Arrow Passage\n",
    "    467: 105,  # Midsummer Island\n",
    "    520: 14,  # Bedwell\n",
    "    526: 129,  # Rant Point\n",
    "    527: 139,  # Saranac Island\n",
    "    540: 62,  # Fortune Channel\n",
    "    543: 110,  # Mussel Rock\n",
    "    553: 63,  # Frederick Arm\n",
    "    728: 146,  # Sir Edmund Bay\n",
    "    733: 46,  # Cyrus Rocks\n",
    "    739: 164,  # Upper Retreat\n",
    "    746: 59,  # Site 13 / Farm 13\n",
    "    753: None,  # Cormorant. Not Included.\n",
    "    790: 29,  # Chancellor Channel\n",
    "    819: 27,  # Cecil Island\n",
    "    820: 173,  # Wicklow Point\n",
    "    821: 69,  # Glacier Falls\n",
    "    831: 144,  # Shelter Passage\n",
    "    869: 103,  # Maude Island\n",
    "    871: 11,  # Barnes Bay\n",
    "    884: 96,  # Localsh Bay\n",
    "    892: 15,  # Bell Island\n",
    "    1059: 140,  # Sargeaunt Passage\n",
    "    1078: 97,  # Lutes Creek\n",
    "    1079: 152,  # Steamer\n",
    "    1136: 141,  # Shaw Point\n",
    "    1144: 25,  # Burdwood\n",
    "    1145: 125,  # Potts Bay\n",
    "    1148: 19,  # Binns Island\n",
    "    1164: 61,  # Farside\n",
    "    1198: 130,  # Raynor Group\n",
    "    1237: 107,  # Monday Rocks\n",
    "    1238: 100,  # Mahatta West\n",
    "    1288: 52,  # Doyle Island\n",
    "    1291: 98,  # MacIntyre\n",
    "    1293: 53,  # Duncan Island\n",
    "    1300: 3,  # Althorpe\n",
    "    1335: 171,  # Wehlis Bay\n",
    "    1336: 145,  # Simmonds Point\n",
    "    1338: 99,  # Mahatta East\n",
    "    1350: 143,  # Shelter Bay\n",
    "    1351: 102,  # Marsh Bay\n",
    "    1376: None,  # Cleagh Creek. Not included.\n",
    "    1382: 133,  # Robertson Cr\n",
    "    1401: 23,  # Brent Island\n",
    "    1472: 172,  # Westside\n",
    "    1507: 106,  # Millar\n",
    "    1537: 9,  # Bare Bluff\n",
    "    1580: 82,  # Jackson Passage\n",
    "    1581: 73,  # Hardwicke Island\n",
    "    1586: 51,  # Doctor Islets\n",
    "    1618: 79,  # Humphrey Rocks\n",
    "    1691: 85,  # Kid Bay\n",
    "    1697: 44,  # Culloden\n",
    "    1698: 1,  # Ahlstrom\n",
    "    1700: 109,  # Muchalat South\n",
    "    1702: 70,  # Goat Cove\n",
    "    1705: 174,  # Williamson\n",
    "    1738: 7,  # Atrevida\n",
    "    1762: 72,  # Gore\n",
    "    1789: 37,  # Concepcion\n",
    "    1825: 113,  # Noo-la\n",
    "    1839: 168,  # Wa-kwa\n",
    "    1849: 108,  # Muchalat North\n",
    "    1862: 76,  # Hecate\n",
    "    1863: 58,  # Esperanza\n",
    "    1895: 142,  # Sheep Passage\n",
    "    1896: 94,  # Lime Point / Lime Bay\n",
    "    6668: 123,  # Plover Point\n",
    "    7053: 67,  # Ghi ya (Bull Harbour)\n",
    "    7054: 169,  # Wanx talis (Heath Bay)\n",
    "    7273: 161,  # Tsa-ya\n",
    "    7713: 42,  # Cougar\n",
    "    7714: 2,  # Alexander Inlet\n",
    "}"
   ],
   "metadata": {
    "collapsed": false,
    "pycharm": {
     "name": "#%%\n"
    }
   }
  },
  {
   "cell_type": "code",
   "execution_count": 23,
   "outputs": [
    {
     "data": {
      "text/plain": "   Facility Reference Number Site Common Name Aquaculture Management Unit  \\\n0                         78     Phillips Arm           Discovery Islands   \n1                        100         Lees Bay           Discovery Islands   \n2                        136        Cliff Bay       Broughton Archipelago   \n3                        137     Conville Bay           Discovery Islands   \n4                        141   Port Elizabeth       Broughton Archipelago   \n\n   Year  Month  Licence Holder  Latitude  Longitude  Sample Type  \\\n0   212    212             212       212        212          212   \n1   173    173             173       173        173          173   \n2    15     15              15        15         15           15   \n3    23     23              23        23         23           23   \n4   227    227             227       227        227          227   \n\n   Incident Date  Number of Pens Sampled  \\\n0            189                     212   \n1            153                     173   \n2              5                      15   \n3             18                      23   \n4            206                     227   \n\n   Average L. salmonis motiles per fish  Average L. salmonis females per fish  \\\n0                                   189                                   189   \n1                                   153                                   153   \n2                                     5                                     5   \n3                                    18                                    18   \n4                                   206                                   206   \n\n   Average chalimus per fish  Average caligus per fish  Comments  Year Class  \n0                        189                       189        90         206  \n1                        153                       153        95         168  \n2                          5                         5        10          13  \n3                         18                        18         7          22  \n4                        206                       206        91         219  ",
      "text/html": "<div>\n<style scoped>\n    .dataframe tbody tr th:only-of-type {\n        vertical-align: middle;\n    }\n\n    .dataframe tbody tr th {\n        vertical-align: top;\n    }\n\n    .dataframe thead th {\n        text-align: right;\n    }\n</style>\n<table border=\"1\" class=\"dataframe\">\n  <thead>\n    <tr style=\"text-align: right;\">\n      <th></th>\n      <th>Facility Reference Number</th>\n      <th>Site Common Name</th>\n      <th>Aquaculture Management Unit</th>\n      <th>Year</th>\n      <th>Month</th>\n      <th>Licence Holder</th>\n      <th>Latitude</th>\n      <th>Longitude</th>\n      <th>Sample Type</th>\n      <th>Incident Date</th>\n      <th>Number of Pens Sampled</th>\n      <th>Average L. salmonis motiles per fish</th>\n      <th>Average L. salmonis females per fish</th>\n      <th>Average chalimus per fish</th>\n      <th>Average caligus per fish</th>\n      <th>Comments</th>\n      <th>Year Class</th>\n    </tr>\n  </thead>\n  <tbody>\n    <tr>\n      <th>0</th>\n      <td>78</td>\n      <td>Phillips Arm</td>\n      <td>Discovery Islands</td>\n      <td>212</td>\n      <td>212</td>\n      <td>212</td>\n      <td>212</td>\n      <td>212</td>\n      <td>212</td>\n      <td>189</td>\n      <td>212</td>\n      <td>189</td>\n      <td>189</td>\n      <td>189</td>\n      <td>189</td>\n      <td>90</td>\n      <td>206</td>\n    </tr>\n    <tr>\n      <th>1</th>\n      <td>100</td>\n      <td>Lees Bay</td>\n      <td>Discovery Islands</td>\n      <td>173</td>\n      <td>173</td>\n      <td>173</td>\n      <td>173</td>\n      <td>173</td>\n      <td>173</td>\n      <td>153</td>\n      <td>173</td>\n      <td>153</td>\n      <td>153</td>\n      <td>153</td>\n      <td>153</td>\n      <td>95</td>\n      <td>168</td>\n    </tr>\n    <tr>\n      <th>2</th>\n      <td>136</td>\n      <td>Cliff Bay</td>\n      <td>Broughton Archipelago</td>\n      <td>15</td>\n      <td>15</td>\n      <td>15</td>\n      <td>15</td>\n      <td>15</td>\n      <td>15</td>\n      <td>5</td>\n      <td>15</td>\n      <td>5</td>\n      <td>5</td>\n      <td>5</td>\n      <td>5</td>\n      <td>10</td>\n      <td>13</td>\n    </tr>\n    <tr>\n      <th>3</th>\n      <td>137</td>\n      <td>Conville Bay</td>\n      <td>Discovery Islands</td>\n      <td>23</td>\n      <td>23</td>\n      <td>23</td>\n      <td>23</td>\n      <td>23</td>\n      <td>23</td>\n      <td>18</td>\n      <td>23</td>\n      <td>18</td>\n      <td>18</td>\n      <td>18</td>\n      <td>18</td>\n      <td>7</td>\n      <td>22</td>\n    </tr>\n    <tr>\n      <th>4</th>\n      <td>141</td>\n      <td>Port Elizabeth</td>\n      <td>Broughton Archipelago</td>\n      <td>227</td>\n      <td>227</td>\n      <td>227</td>\n      <td>227</td>\n      <td>227</td>\n      <td>227</td>\n      <td>206</td>\n      <td>227</td>\n      <td>206</td>\n      <td>206</td>\n      <td>206</td>\n      <td>206</td>\n      <td>91</td>\n      <td>219</td>\n    </tr>\n  </tbody>\n</table>\n</div>"
     },
     "execution_count": 23,
     "metadata": {},
     "output_type": "execute_result"
    }
   ],
   "source": [
    "# load the DFO data file and group to get facility reference numbers\n",
    "dfo_df = pd.read_csv(dfo_farm_data_filepath)\n",
    "\n",
    "dfo_ref_group = dfo_df.groupby(['Facility Reference Number', 'Site Common Name', 'Aquaculture Management Unit'])\n",
    "dfo_ref_df = dfo_ref_group.count().reset_index()\n",
    "dfo_ref_df.head()"
   ],
   "metadata": {
    "collapsed": false,
    "pycharm": {
     "name": "#%%\n"
    }
   }
  },
  {
   "cell_type": "code",
   "execution_count": 24,
   "outputs": [],
   "source": [
    "dfo_ref_df['facility_id'] = dfo_ref_df['Facility Reference Number']. apply(lambda ref: ref_to_id_map[ref])"
   ],
   "metadata": {
    "collapsed": false,
    "pycharm": {
     "name": "#%%\n"
    }
   }
  },
  {
   "cell_type": "code",
   "execution_count": 26,
   "outputs": [
    {
     "data": {
      "text/plain": "array([  78,  100,  136,  137,  141,  143,  144,  169,  211,  221,  227,\n        234,  303,  304,  306,  314,  332,  377,  378,  380,  388,  412,\n        458,  465,  466,  467,  520,  526,  527,  540,  543,  553,  728,\n        733,  739,  746,  753,  790,  819,  820,  821,  831,  869,  871,\n        884,  892, 1059, 1078, 1079, 1136, 1144, 1145, 1148, 1164, 1198,\n       1237, 1238, 1288, 1291, 1293, 1300, 1335, 1336, 1338, 1350, 1351,\n       1376, 1382, 1401, 1472, 1507, 1537, 1580, 1581, 1586, 1618, 1691,\n       1697, 1698, 1700, 1702, 1705, 1738, 1762, 1789, 1825, 1839, 1849,\n       1862, 1863, 1895, 1896, 6668, 7053, 7054, 7273, 7713, 7714])"
     },
     "execution_count": 26,
     "metadata": {},
     "output_type": "execute_result"
    }
   ],
   "source": [
    "dfo_ref_df['Facility Reference Number'].unique()"
   ],
   "metadata": {
    "collapsed": false,
    "pycharm": {
     "name": "#%%\n"
    }
   }
  },
  {
   "cell_type": "code",
   "execution_count": 27,
   "outputs": [
    {
     "data": {
      "text/plain": "Index(['Facility Reference Number', 'Site Common Name',\n       'Aquaculture Management Unit', 'Year', 'Month', 'Licence Holder',\n       'Latitude', 'Longitude', 'Sample Type', 'Incident Date',\n       'Number of Pens Sampled', 'Average L. salmonis motiles per fish',\n       'Average L. salmonis females per fish', 'Average chalimus per fish',\n       'Average caligus per fish', 'Comments', 'Year Class', 'facility_id'],\n      dtype='object')"
     },
     "execution_count": 27,
     "metadata": {},
     "output_type": "execute_result"
    }
   ],
   "source": [
    "dfo_ref_df.columns"
   ],
   "metadata": {
    "collapsed": false,
    "pycharm": {
     "name": "#%%\n"
    }
   }
  },
  {
   "cell_type": "code",
   "execution_count": 29,
   "outputs": [],
   "source": [
    "# load the industry farm details\n",
    "industry_farm_df = pd.read_csv(industry_farm_details_filepath)"
   ],
   "metadata": {
    "collapsed": false,
    "pycharm": {
     "name": "#%%\n"
    }
   }
  },
  {
   "cell_type": "code",
   "execution_count": 32,
   "outputs": [
    {
     "data": {
      "text/plain": "   Facility Reference Number Site Common Name Aquaculture Management Unit  \\\n0                       78.0     Phillips Arm           Discovery Islands   \n1                      100.0         Lees Bay           Discovery Islands   \n2                      136.0        Cliff Bay       Broughton Archipelago   \n3                      137.0     Conville Bay           Discovery Islands   \n4                      141.0   Port Elizabeth       Broughton Archipelago   \n\n   separator  facility_id            name            region_name  \n0        NaN        121.0    Phillips Arm      Discovery Islands  \n1        NaN         92.0        Lees Bay      Discovery Islands  \n2        NaN         35.0       Cliff Bay  Broughton Archipelago  \n3        NaN         39.0    Conville Bay      Discovery Islands  \n4        NaN        124.0  Port Elizabeth  Broughton Archipelago  ",
      "text/html": "<div>\n<style scoped>\n    .dataframe tbody tr th:only-of-type {\n        vertical-align: middle;\n    }\n\n    .dataframe tbody tr th {\n        vertical-align: top;\n    }\n\n    .dataframe thead th {\n        text-align: right;\n    }\n</style>\n<table border=\"1\" class=\"dataframe\">\n  <thead>\n    <tr style=\"text-align: right;\">\n      <th></th>\n      <th>Facility Reference Number</th>\n      <th>Site Common Name</th>\n      <th>Aquaculture Management Unit</th>\n      <th>separator</th>\n      <th>facility_id</th>\n      <th>name</th>\n      <th>region_name</th>\n    </tr>\n  </thead>\n  <tbody>\n    <tr>\n      <th>0</th>\n      <td>78.0</td>\n      <td>Phillips Arm</td>\n      <td>Discovery Islands</td>\n      <td>NaN</td>\n      <td>121.0</td>\n      <td>Phillips Arm</td>\n      <td>Discovery Islands</td>\n    </tr>\n    <tr>\n      <th>1</th>\n      <td>100.0</td>\n      <td>Lees Bay</td>\n      <td>Discovery Islands</td>\n      <td>NaN</td>\n      <td>92.0</td>\n      <td>Lees Bay</td>\n      <td>Discovery Islands</td>\n    </tr>\n    <tr>\n      <th>2</th>\n      <td>136.0</td>\n      <td>Cliff Bay</td>\n      <td>Broughton Archipelago</td>\n      <td>NaN</td>\n      <td>35.0</td>\n      <td>Cliff Bay</td>\n      <td>Broughton Archipelago</td>\n    </tr>\n    <tr>\n      <th>3</th>\n      <td>137.0</td>\n      <td>Conville Bay</td>\n      <td>Discovery Islands</td>\n      <td>NaN</td>\n      <td>39.0</td>\n      <td>Conville Bay</td>\n      <td>Discovery Islands</td>\n    </tr>\n    <tr>\n      <th>4</th>\n      <td>141.0</td>\n      <td>Port Elizabeth</td>\n      <td>Broughton Archipelago</td>\n      <td>NaN</td>\n      <td>124.0</td>\n      <td>Port Elizabeth</td>\n      <td>Broughton Archipelago</td>\n    </tr>\n  </tbody>\n</table>\n</div>"
     },
     "execution_count": 32,
     "metadata": {},
     "output_type": "execute_result"
    }
   ],
   "source": [
    "ref_to_id_df = pd.merge(dfo_ref_df, industry_farm_df, on='facility_id', how='outer')\n",
    "ref_to_id_df =  ref_to_id_df.reindex(\n",
    "    columns=['Facility Reference Number', 'Site Common Name', 'Aquaculture Management Unit', 'separator',\n",
    "    'facility_id', 'name', 'region_name'])\n",
    "ref_to_id_df.head()"
   ],
   "metadata": {
    "collapsed": false,
    "pycharm": {
     "name": "#%%\n"
    }
   }
  },
  {
   "cell_type": "code",
   "execution_count": 33,
   "outputs": [],
   "source": [
    "# write out the mapping DF for use in formatting\n",
    "ref_to_id_df.to_csv(ref_to_id_map_filepath, index=False)"
   ],
   "metadata": {
    "collapsed": false,
    "pycharm": {
     "name": "#%%\n"
    }
   }
  },
  {
   "cell_type": "code",
   "execution_count": null,
   "outputs": [],
   "source": [],
   "metadata": {
    "collapsed": false,
    "pycharm": {
     "name": "#%%\n"
    }
   }
  }
 ],
 "metadata": {
  "kernelspec": {
   "display_name": "Python 3",
   "language": "python",
   "name": "python3"
  },
  "language_info": {
   "codemirror_mode": {
    "name": "ipython",
    "version": 2
   },
   "file_extension": ".py",
   "mimetype": "text/x-python",
   "name": "python",
   "nbconvert_exporter": "python",
   "pygments_lexer": "ipython2",
   "version": "2.7.6"
  }
 },
 "nbformat": 4,
 "nbformat_minor": 0
}