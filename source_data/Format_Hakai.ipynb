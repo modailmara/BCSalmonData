{
 "cells": [
  {
   "cell_type": "markdown",
   "source": [
    "## This Notebook formats the Hakai Institute wild sampling data to fit the format of our wild sampling data.\n",
    "### To integrate it with other wild data, run 'Integrate_Wild_Data.ipynb' after generating the formatted data.\n",
    "\n",
    "The data was downloaded on 12 March 2025 from [GitHub](https://github.com/HakaiInstitute/jsp-data) linked from the [Hakai site](https://catalogue.hakai.org/dataset/ca-cioos_6c449900-c726-4e9a-b241-707711e253a7)"
   ],
   "metadata": {
    "collapsed": false,
    "pycharm": {
     "name": "#%% md\n"
    }
   }
  },
  {
   "cell_type": "code",
   "execution_count": 789,
   "outputs": [],
   "source": [
    "import pandas as pd\n",
    "from pathlib import Path"
   ],
   "metadata": {
    "collapsed": false,
    "pycharm": {
     "name": "#%%\n"
    }
   }
  },
  {
   "cell_type": "markdown",
   "source": [
    "### Path configuration variables"
   ],
   "metadata": {
    "collapsed": false,
    "pycharm": {
     "name": "#%% md\n"
    }
   }
  },
  {
   "cell_type": "code",
   "execution_count": 790,
   "outputs": [],
   "source": [
    "raw_data_dir = Path('.') / 'Hakai' / 'supplemental_materials' / 'raw_data'\n",
    "\n",
    "sites_filepath = raw_data_dir / 'sites.csv'\n",
    "seine_filepath = raw_data_dir / 'seine_data.csv'\n",
    "survey_filepath = raw_data_dir / 'survey_data.csv'\n",
    "\n",
    "fish_field_filepath = raw_data_dir / 'fish_field_data.csv'\n",
    "fish_lab_filepath = raw_data_dir / 'fish_lab_data.csv'\n",
    "\n",
    "sealice_dir = raw_data_dir / 'sample_results' / 'sealice'\n",
    "sealice_lab_fs_filepath = sealice_dir / 'sealice_lab_fs.csv'\n",
    "sealice_lab_mot_filepath = sealice_dir / 'sealice_lab_mot.csv'\n",
    "sealice_field_filepath = sealice_dir / 'sealice_field.csv'\n",
    "\n",
    "# output paths for writing the formatted Hakai Institute data\n",
    "wild_data_dir = Path('.')\n",
    "hakai_formatted_events_filepath = wild_data_dir / 'hakai_wild_sample_events.csv'\n",
    "hakai_formatted_lice_filepath = wild_data_dir / 'hakai_wild_fish_lice.csv'"
   ],
   "metadata": {
    "collapsed": false,
    "pycharm": {
     "name": "#%%\n"
    }
   }
  },
  {
   "cell_type": "markdown",
   "source": [
    "### Load the dataframes"
   ],
   "metadata": {
    "collapsed": false,
    "pycharm": {
     "name": "#%% md\n"
    }
   }
  },
  {
   "cell_type": "code",
   "execution_count": 791,
   "outputs": [],
   "source": [
    "sites_df = pd.read_csv(sites_filepath)\n",
    "seine_df = pd.read_csv(seine_filepath)\n",
    "survey_df = pd.read_csv(survey_filepath, parse_dates=['survey_date'])\n",
    "\n",
    "fish_field_df = pd.read_csv(fish_field_filepath)\n",
    "fish_lab_df = pd.read_csv(fish_lab_filepath)\n",
    "\n",
    "sealice_field_df = pd.read_csv(sealice_field_filepath)\n",
    "sealice_lab_fs_df = pd.read_csv(sealice_lab_fs_filepath, parse_dates=['date_liced'])\n",
    "sealice_lab_mot_df = pd.read_csv(sealice_lab_mot_filepath)"
   ],
   "metadata": {
    "collapsed": false,
    "pycharm": {
     "name": "#%%\n"
    }
   }
  },
  {
   "cell_type": "code",
   "execution_count": 792,
   "outputs": [
    {
     "data": {
      "text/plain": "0     2020-05-15\n1     2020-05-19\n2     2020-05-22\n3     2020-05-26\n4     2020-05-27\n         ...    \n777   2023-06-28\n778   2023-06-29\n779   2023-07-03\n780   2023-07-04\n781   2023-07-05\nName: survey_date, Length: 782, dtype: datetime64[ns]"
     },
     "execution_count": 792,
     "metadata": {},
     "output_type": "execute_result"
    }
   ],
   "source": [
    "# survey_date is a full datetime with timezone - make timezone naive as it makes combining with other data easier\n",
    "survey_df['survey_date'] = survey_df.survey_date.dt.tz_localize(None)\n",
    "survey_df.survey_date"
   ],
   "metadata": {
    "collapsed": false,
    "pycharm": {
     "name": "#%%\n"
    }
   }
  },
  {
   "cell_type": "markdown",
   "source": [
    "# Make the events file\n",
    "The sample_events that we use are most similar to seine_data in the Hakai data.\n",
    "We use survey_data to get the date. We use sites to get a string name of the site, and the region."
   ],
   "metadata": {
    "collapsed": false,
    "pycharm": {
     "name": "#%% md\n"
    }
   }
  },
  {
   "cell_type": "code",
   "execution_count": 793,
   "outputs": [
    {
     "data": {
      "text/plain": "Index(['seine_id', 'survey_id', 'set_number', 'set_type', 'lat', 'long',\n       'set_time', 'time_searching', 'set_sliders', 'set_poppers',\n       'set_dimpling', 'fish_retained', 'so_taken', 'so_total', 'pi_taken',\n       'pi_total', 'cu_taken', 'cu_total', 'co_taken', 'co_total', 'he_taken',\n       'he_total', 'ck_taken', 'ck_total', 'collection_protocol',\n       'seine_comments', 'seine_quality_log', 'survey_date', 'site_id', 'crew',\n       'precip', 'cloud_cover', 'sea_state', 'wind_speed', 'wind_direction',\n       'tide_state', 'survey_time_start', 'survey_time_end', 'net_sets',\n       'secchi', 'ysi_bout', 'ctd_bout', 'zoop_bout', 'survey_type',\n       'survey_comments', 'site_name', 'region', 'zone', 'site_priority',\n       'pfma', 'site_notes', 'survey_start_lat', 'survey_start_lon',\n       'survey_end_lat', 'survey_end_lon', 'ocgy_std_lat', 'ocgy_std_lon'],\n      dtype='object')"
     },
     "execution_count": 793,
     "metadata": {},
     "output_type": "execute_result"
    }
   ],
   "source": [
    "seine_survey_df = pd.merge(seine_df, survey_df, on='survey_id', how='left')\n",
    "seine_survey_site_df = pd.merge(seine_survey_df, sites_df, on='site_id', how='left')\n",
    "seine_survey_site_df.columns"
   ],
   "metadata": {
    "collapsed": false,
    "pycharm": {
     "name": "#%%\n"
    }
   }
  },
  {
   "cell_type": "code",
   "execution_count": 794,
   "outputs": [
    {
     "data": {
      "text/plain": "array(['DI', 'JS'], dtype=object)"
     },
     "execution_count": 794,
     "metadata": {},
     "output_type": "execute_result"
    }
   ],
   "source": [
    "seine_survey_site_df.region.unique()"
   ],
   "metadata": {
    "collapsed": false,
    "pycharm": {
     "name": "#%%\n"
    }
   }
  },
  {
   "cell_type": "code",
   "execution_count": 795,
   "outputs": [],
   "source": [
    "# use the seine_id as the event_id and prepend 'hakai_' to make unique among other wild data\n",
    "seine_survey_site_df['event_id'] = seine_survey_df.seine_id.apply(lambda eid: 'hakai_' + str(eid))"
   ],
   "metadata": {
    "collapsed": false,
    "pycharm": {
     "name": "#%%\n"
    }
   }
  },
  {
   "cell_type": "code",
   "execution_count": 796,
   "outputs": [],
   "source": [
    "# rename some columns to fit the format\n",
    "seine_survey_site_df.rename(columns={'survey_date': 'sampledate',\n",
    "                                'lat': 'latitude',\n",
    "                                'long': 'longitude',\n",
    "                                'site_name': 'sample_site'},\n",
    "                       inplace=True)"
   ],
   "metadata": {
    "collapsed": false,
    "pycharm": {
     "name": "#%%\n"
    }
   }
  },
  {
   "cell_type": "code",
   "execution_count": 797,
   "outputs": [],
   "source": [
    "# mapping from Hakai regions to the regions we use and the DFO zones\n",
    "region_map = {'DI': ('Discovery Islands', '3_2'),\n",
    "              'JS': ('Broughton Archipelago', '3_3')}\n",
    "# add/rename the column values. Have to do dfozone first.\n",
    "seine_survey_site_df['dfozone'] = seine_survey_site_df.region.apply(\n",
    "    lambda x: region_map[x][1] if x in region_map else None)\n",
    "seine_survey_site_df['region'] = seine_survey_site_df.region.apply(\n",
    "    lambda x: region_map[x][0] if x in region_map else None)\n",
    "\n",
    "seine_survey_site_df.region.unique()\n",
    "\n",
    "# Region mapping Hakai regions to DFO zones is not perfect. Some of the JS (Johnstone Straight) sites are on\n",
    "# the border of Discovery and Broughton.\n",
    "# We set all sites with longitude between -126.5 and -125.9 to None so they are not used in any region grouping\n",
    "seine_survey_site_df['region'] = seine_survey_site_df.apply(\n",
    "    lambda row: None if pd.isnull(row.longitude) or -126.5 < row.longitude < -125.9 else row.region,\n",
    "    axis=1\n",
    ")\n",
    "seine_survey_site_df['dfozone'] = seine_survey_site_df.apply(\n",
    "    lambda row: None if pd.isnull(row.longitude) or -126.5 < row.longitude < -125.9 else row.dfozone,\n",
    "    axis=1\n",
    ")\n",
    "\n",
    "# seine_survey_site_df.head()"
   ],
   "metadata": {
    "collapsed": false,
    "pycharm": {
     "name": "#%%\n"
    }
   }
  },
  {
   "cell_type": "code",
   "execution_count": 798,
   "outputs": [
    {
     "data": {
      "text/plain": "array([None, 'Discovery Islands', 'Broughton Archipelago'], dtype=object)"
     },
     "execution_count": 798,
     "metadata": {},
     "output_type": "execute_result"
    }
   ],
   "source": [
    "seine_survey_site_df.region.unique()"
   ],
   "metadata": {
    "collapsed": false,
    "pycharm": {
     "name": "#%%\n"
    }
   }
  },
  {
   "cell_type": "code",
   "execution_count": 799,
   "outputs": [],
   "source": [
    "# outputs some lat/long files for visual debugging in mapping software, e.g. QGIS\n",
    "ba_df = seine_survey_site_df[seine_survey_site_df['region'] == 'Broughton Archipelago'][['latitude', 'longitude']]\n",
    "ba_df.to_csv('BA.csv', index=False)\n",
    "di_df = seine_survey_site_df[seine_survey_site_df['region'] == 'Discovery Islands'][['latitude', 'longitude']]\n",
    "di_df.to_csv('DI.csv', index=False)\n",
    "na_df = seine_survey_site_df[pd.isnull(seine_survey_site_df['region'])][['latitude', 'longitude']]\n",
    "na_df.to_csv('NA.csv', index=False)"
   ],
   "metadata": {
    "collapsed": false,
    "pycharm": {
     "name": "#%%\n"
    }
   }
  },
  {
   "cell_type": "code",
   "execution_count": 800,
   "outputs": [],
   "source": [
    "seine_survey_site_df['source'] = 'Hakai Institute'"
   ],
   "metadata": {
    "collapsed": false,
    "pycharm": {
     "name": "#%%\n"
    }
   }
  },
  {
   "cell_type": "code",
   "execution_count": 801,
   "outputs": [
    {
     "data": {
      "text/plain": "        event_id sampledate             region dfozone      sample_site  \\\n0  hakai_DE100N2 2015-05-12               None    None    Hurtado Point   \n1  hakai_DE100N1 2015-05-12               None    None    Hurtado Point   \n2  hakai_DE100N3 2015-05-12  Discovery Islands     3_2    Hurtado Point   \n3  hakai_DE101N1 2015-05-13  Discovery Islands     3_2  Kinghorn Island   \n4  hakai_DE102N1 2015-05-14  Discovery Islands     3_2  Francisco Point   \n\n   latitude  longitude           source  \n0       NaN        NaN  Hakai Institute  \n1       NaN        NaN  Hakai Institute  \n2  49.96130  -124.7470  Hakai Institute  \n3  50.07902  -124.8509  Hakai Institute  \n4  49.99932  -125.1395  Hakai Institute  ",
      "text/html": "<div>\n<style scoped>\n    .dataframe tbody tr th:only-of-type {\n        vertical-align: middle;\n    }\n\n    .dataframe tbody tr th {\n        vertical-align: top;\n    }\n\n    .dataframe thead th {\n        text-align: right;\n    }\n</style>\n<table border=\"1\" class=\"dataframe\">\n  <thead>\n    <tr style=\"text-align: right;\">\n      <th></th>\n      <th>event_id</th>\n      <th>sampledate</th>\n      <th>region</th>\n      <th>dfozone</th>\n      <th>sample_site</th>\n      <th>latitude</th>\n      <th>longitude</th>\n      <th>source</th>\n    </tr>\n  </thead>\n  <tbody>\n    <tr>\n      <th>0</th>\n      <td>hakai_DE100N2</td>\n      <td>2015-05-12</td>\n      <td>None</td>\n      <td>None</td>\n      <td>Hurtado Point</td>\n      <td>NaN</td>\n      <td>NaN</td>\n      <td>Hakai Institute</td>\n    </tr>\n    <tr>\n      <th>1</th>\n      <td>hakai_DE100N1</td>\n      <td>2015-05-12</td>\n      <td>None</td>\n      <td>None</td>\n      <td>Hurtado Point</td>\n      <td>NaN</td>\n      <td>NaN</td>\n      <td>Hakai Institute</td>\n    </tr>\n    <tr>\n      <th>2</th>\n      <td>hakai_DE100N3</td>\n      <td>2015-05-12</td>\n      <td>Discovery Islands</td>\n      <td>3_2</td>\n      <td>Hurtado Point</td>\n      <td>49.96130</td>\n      <td>-124.7470</td>\n      <td>Hakai Institute</td>\n    </tr>\n    <tr>\n      <th>3</th>\n      <td>hakai_DE101N1</td>\n      <td>2015-05-13</td>\n      <td>Discovery Islands</td>\n      <td>3_2</td>\n      <td>Kinghorn Island</td>\n      <td>50.07902</td>\n      <td>-124.8509</td>\n      <td>Hakai Institute</td>\n    </tr>\n    <tr>\n      <th>4</th>\n      <td>hakai_DE102N1</td>\n      <td>2015-05-14</td>\n      <td>Discovery Islands</td>\n      <td>3_2</td>\n      <td>Francisco Point</td>\n      <td>49.99932</td>\n      <td>-125.1395</td>\n      <td>Hakai Institute</td>\n    </tr>\n  </tbody>\n</table>\n</div>"
     },
     "execution_count": 801,
     "metadata": {},
     "output_type": "execute_result"
    }
   ],
   "source": [
    "# restrict to just the required columns\n",
    "hakai_events_df = seine_survey_site_df.reindex(columns=['event_id', 'sampledate', 'region', 'dfozone', 'sample_site',\n",
    "                                                        'latitude', 'longitude', 'source'])\n",
    "hakai_events_df.head()"
   ],
   "metadata": {
    "collapsed": false,
    "pycharm": {
     "name": "#%%\n"
    }
   }
  },
  {
   "cell_type": "code",
   "execution_count": 802,
   "outputs": [],
   "source": [
    "hakai_events_df.to_csv(hakai_formatted_events_filepath, index=False)"
   ],
   "metadata": {
    "collapsed": false,
    "pycharm": {
     "name": "#%%\n"
    }
   }
  },
  {
   "cell_type": "markdown",
   "source": [
    "# Make the Fish Lice file\n",
    "Hakai data has two each fish data files - labelled Lab and Field. There are three lice files: field, lab_fs, and mot.\n",
    "Our interpretation:\n",
    "Fish are collected in the field in a seine event. All the fish are documented in the fish_field_data, some of them have lice counts\n",
    "documented in sealice_field. Some of the fish are also sent to the lab and some of those have lice counts documented in sealice_lab_fs.\n",
    "Some fish (distinct from lab_fs) underwent a different lab analysis just counting motiles - they are in lab_mot\n",
    "\n",
    "We use lab counts of sea lice if they are available, and default to field counts if they are not."
   ],
   "metadata": {
    "collapsed": false,
    "pycharm": {
     "name": "#%% md\n"
    }
   }
  },
  {
   "cell_type": "code",
   "execution_count": 803,
   "outputs": [
    {
     "data": {
      "text/plain": "     ufn              semsp_id seine_id species package_id fish_time_out  \\\n0  U5531   2015-05-12-D01-CO-1  DE100N3      CO        NaN           NaN   \n1  U5521   2015-05-12-D01-CU-1  DE100N3      CU        NaN           NaN   \n2  U5530  2015-05-12-D01-CU-10  DE100N3      CU        NaN           NaN   \n3  U5522   2015-05-12-D01-CU-2  DE100N3      CU        NaN           NaN   \n4  U5523   2015-05-12-D01-CU-3  DE100N3      CU        NaN           NaN   \n\n  fish_time_dewar  fork_length_field  height_field  weight_field  \\\n0             NaN                NaN           NaN           NaN   \n1             NaN                NaN           NaN           NaN   \n2             NaN                NaN           NaN           NaN   \n3             NaN                NaN           NaN           NaN   \n4             NaN                NaN           NaN           NaN   \n\n  lice_id_protocol_field lice_presence_absence analysis_planned  \\\n0                    NaN                   NaN            SEMSP   \n1                    NaN                   NaN            SEMSP   \n2                    NaN                   NaN            SEMSP   \n3                    NaN                   NaN            SEMSP   \n4                    NaN                   NaN            SEMSP   \n\n  fish_field_comments quality_log  \n0                 NaN         NaN  \n1                 NaN         NaN  \n2                 NaN         NaN  \n3                 NaN         NaN  \n4                 NaN         NaN  ",
      "text/html": "<div>\n<style scoped>\n    .dataframe tbody tr th:only-of-type {\n        vertical-align: middle;\n    }\n\n    .dataframe tbody tr th {\n        vertical-align: top;\n    }\n\n    .dataframe thead th {\n        text-align: right;\n    }\n</style>\n<table border=\"1\" class=\"dataframe\">\n  <thead>\n    <tr style=\"text-align: right;\">\n      <th></th>\n      <th>ufn</th>\n      <th>semsp_id</th>\n      <th>seine_id</th>\n      <th>species</th>\n      <th>package_id</th>\n      <th>fish_time_out</th>\n      <th>fish_time_dewar</th>\n      <th>fork_length_field</th>\n      <th>height_field</th>\n      <th>weight_field</th>\n      <th>lice_id_protocol_field</th>\n      <th>lice_presence_absence</th>\n      <th>analysis_planned</th>\n      <th>fish_field_comments</th>\n      <th>quality_log</th>\n    </tr>\n  </thead>\n  <tbody>\n    <tr>\n      <th>0</th>\n      <td>U5531</td>\n      <td>2015-05-12-D01-CO-1</td>\n      <td>DE100N3</td>\n      <td>CO</td>\n      <td>NaN</td>\n      <td>NaN</td>\n      <td>NaN</td>\n      <td>NaN</td>\n      <td>NaN</td>\n      <td>NaN</td>\n      <td>NaN</td>\n      <td>NaN</td>\n      <td>SEMSP</td>\n      <td>NaN</td>\n      <td>NaN</td>\n    </tr>\n    <tr>\n      <th>1</th>\n      <td>U5521</td>\n      <td>2015-05-12-D01-CU-1</td>\n      <td>DE100N3</td>\n      <td>CU</td>\n      <td>NaN</td>\n      <td>NaN</td>\n      <td>NaN</td>\n      <td>NaN</td>\n      <td>NaN</td>\n      <td>NaN</td>\n      <td>NaN</td>\n      <td>NaN</td>\n      <td>SEMSP</td>\n      <td>NaN</td>\n      <td>NaN</td>\n    </tr>\n    <tr>\n      <th>2</th>\n      <td>U5530</td>\n      <td>2015-05-12-D01-CU-10</td>\n      <td>DE100N3</td>\n      <td>CU</td>\n      <td>NaN</td>\n      <td>NaN</td>\n      <td>NaN</td>\n      <td>NaN</td>\n      <td>NaN</td>\n      <td>NaN</td>\n      <td>NaN</td>\n      <td>NaN</td>\n      <td>SEMSP</td>\n      <td>NaN</td>\n      <td>NaN</td>\n    </tr>\n    <tr>\n      <th>3</th>\n      <td>U5522</td>\n      <td>2015-05-12-D01-CU-2</td>\n      <td>DE100N3</td>\n      <td>CU</td>\n      <td>NaN</td>\n      <td>NaN</td>\n      <td>NaN</td>\n      <td>NaN</td>\n      <td>NaN</td>\n      <td>NaN</td>\n      <td>NaN</td>\n      <td>NaN</td>\n      <td>SEMSP</td>\n      <td>NaN</td>\n      <td>NaN</td>\n    </tr>\n    <tr>\n      <th>4</th>\n      <td>U5523</td>\n      <td>2015-05-12-D01-CU-3</td>\n      <td>DE100N3</td>\n      <td>CU</td>\n      <td>NaN</td>\n      <td>NaN</td>\n      <td>NaN</td>\n      <td>NaN</td>\n      <td>NaN</td>\n      <td>NaN</td>\n      <td>NaN</td>\n      <td>NaN</td>\n      <td>SEMSP</td>\n      <td>NaN</td>\n      <td>NaN</td>\n    </tr>\n  </tbody>\n</table>\n</div>"
     },
     "execution_count": 803,
     "metadata": {},
     "output_type": "execute_result"
    }
   ],
   "source": [
    "fish_field_df.head()"
   ],
   "metadata": {
    "collapsed": false,
    "pycharm": {
     "name": "#%%\n"
    }
   }
  },
  {
   "cell_type": "code",
   "execution_count": 804,
   "outputs": [
    {
     "data": {
      "text/plain": "   ufn        date_processed   cwt  adipose  weight  standard_length  \\\n0  U01  2015-09-10T00:00:00Z  None  Present     NaN              NaN   \n1  U02  2015-09-10T00:00:00Z  None  Present    22.2              NaN   \n2  U11  2015-09-10T00:00:00Z  None  Present     NaN              NaN   \n3  U12  2015-09-10T00:00:00Z  None  Present     NaN              NaN   \n4  U03  2015-09-11T00:00:00Z  None  Present    24.0              NaN   \n\n   fork_length                                  comments_protocol  \\\n0        118.0         From thawed JS fish. One otolith collected   \n1        128.0                                From thawed JS fish   \n2        132.0                                From thawed JS fish   \n3        143.0            From thawed JS fish. One broken otolith   \n4        134.0  From thawed JS fish. Sample weighed w/ some ic...   \n\n  comments_fish_health_lab dissector dissection_protocol  \\\n0                      NaN        CK              nocold   \n1             Small spleen        CK              nocold   \n2                      NaN        KI              nocold   \n3       One broken otolith        KI              nocold   \n4           liver was pale        DS              nocold   \n\n  lice_collection_protocol lice_id_protocol_lab  \n0            lab_fine_2015                  NaN  \n1            lab_fine_2015                  NaN  \n2            lab_fine_2015                  NaN  \n3            lab_fine_2015                  NaN  \n4            lab_fine_2015                  NaN  ",
      "text/html": "<div>\n<style scoped>\n    .dataframe tbody tr th:only-of-type {\n        vertical-align: middle;\n    }\n\n    .dataframe tbody tr th {\n        vertical-align: top;\n    }\n\n    .dataframe thead th {\n        text-align: right;\n    }\n</style>\n<table border=\"1\" class=\"dataframe\">\n  <thead>\n    <tr style=\"text-align: right;\">\n      <th></th>\n      <th>ufn</th>\n      <th>date_processed</th>\n      <th>cwt</th>\n      <th>adipose</th>\n      <th>weight</th>\n      <th>standard_length</th>\n      <th>fork_length</th>\n      <th>comments_protocol</th>\n      <th>comments_fish_health_lab</th>\n      <th>dissector</th>\n      <th>dissection_protocol</th>\n      <th>lice_collection_protocol</th>\n      <th>lice_id_protocol_lab</th>\n    </tr>\n  </thead>\n  <tbody>\n    <tr>\n      <th>0</th>\n      <td>U01</td>\n      <td>2015-09-10T00:00:00Z</td>\n      <td>None</td>\n      <td>Present</td>\n      <td>NaN</td>\n      <td>NaN</td>\n      <td>118.0</td>\n      <td>From thawed JS fish. One otolith collected</td>\n      <td>NaN</td>\n      <td>CK</td>\n      <td>nocold</td>\n      <td>lab_fine_2015</td>\n      <td>NaN</td>\n    </tr>\n    <tr>\n      <th>1</th>\n      <td>U02</td>\n      <td>2015-09-10T00:00:00Z</td>\n      <td>None</td>\n      <td>Present</td>\n      <td>22.2</td>\n      <td>NaN</td>\n      <td>128.0</td>\n      <td>From thawed JS fish</td>\n      <td>Small spleen</td>\n      <td>CK</td>\n      <td>nocold</td>\n      <td>lab_fine_2015</td>\n      <td>NaN</td>\n    </tr>\n    <tr>\n      <th>2</th>\n      <td>U11</td>\n      <td>2015-09-10T00:00:00Z</td>\n      <td>None</td>\n      <td>Present</td>\n      <td>NaN</td>\n      <td>NaN</td>\n      <td>132.0</td>\n      <td>From thawed JS fish</td>\n      <td>NaN</td>\n      <td>KI</td>\n      <td>nocold</td>\n      <td>lab_fine_2015</td>\n      <td>NaN</td>\n    </tr>\n    <tr>\n      <th>3</th>\n      <td>U12</td>\n      <td>2015-09-10T00:00:00Z</td>\n      <td>None</td>\n      <td>Present</td>\n      <td>NaN</td>\n      <td>NaN</td>\n      <td>143.0</td>\n      <td>From thawed JS fish. One broken otolith</td>\n      <td>One broken otolith</td>\n      <td>KI</td>\n      <td>nocold</td>\n      <td>lab_fine_2015</td>\n      <td>NaN</td>\n    </tr>\n    <tr>\n      <th>4</th>\n      <td>U03</td>\n      <td>2015-09-11T00:00:00Z</td>\n      <td>None</td>\n      <td>Present</td>\n      <td>24.0</td>\n      <td>NaN</td>\n      <td>134.0</td>\n      <td>From thawed JS fish. Sample weighed w/ some ic...</td>\n      <td>liver was pale</td>\n      <td>DS</td>\n      <td>nocold</td>\n      <td>lab_fine_2015</td>\n      <td>NaN</td>\n    </tr>\n  </tbody>\n</table>\n</div>"
     },
     "execution_count": 804,
     "metadata": {},
     "output_type": "execute_result"
    }
   ],
   "source": [
    "fish_lab_df.head()"
   ],
   "metadata": {
    "collapsed": false,
    "pycharm": {
     "name": "#%%\n"
    }
   }
  },
  {
   "cell_type": "code",
   "execution_count": 805,
   "outputs": [],
   "source": [
    "# collect all info on the fish.\n",
    "# lab fish is a subset of field fish so merge on field ufn\n",
    "fish_df = pd.merge(fish_field_df, fish_lab_df, on='ufn', how='left')"
   ],
   "metadata": {
    "collapsed": false,
    "pycharm": {
     "name": "#%%\n"
    }
   }
  },
  {
   "cell_type": "code",
   "execution_count": 806,
   "outputs": [
    {
     "data": {
      "text/plain": "      ufn  cal_cope_field  lep_cope_field  chal_a_field  chal_b_field  \\\n0  U11324             0.0             0.0           0.0           0.0   \n1  U11325             0.0             0.0           0.0           0.0   \n2  U11326             0.0             0.0           0.0           0.0   \n3  U11327             0.0             0.0           0.0           0.0   \n4  U11328             0.0             0.0           9.0           3.0   \n\n   cal_mot_field  cgf_field  lpam_field  lpaf_field  lam_field  ...  cs  ms  \\\n0              1          1           0           0          0  ...   0   0   \n1              0          0           0           0          0  ...   0   0   \n2              1          0           0           0          0  ...   0   0   \n3              0          0           0           0          0  ...   0   0   \n4              0          1           0           0          0  ...   0   0   \n\n   ps  hem  egp  ggp  mg  pb  comments_fish_health_field  quality_log  \n0   0    1    0    0   0   0                       H:ANF          NaN  \n1   0    0    0    0   0   0                         NaN          NaN  \n2   0    1    0    0   0   0       Dorsal surface lesion          NaN  \n3   0    0    0    0   0   0                         NaN          NaN  \n4   0    0    0    0   0   0                         NaN          NaN  \n\n[5 rows x 24 columns]",
      "text/html": "<div>\n<style scoped>\n    .dataframe tbody tr th:only-of-type {\n        vertical-align: middle;\n    }\n\n    .dataframe tbody tr th {\n        vertical-align: top;\n    }\n\n    .dataframe thead th {\n        text-align: right;\n    }\n</style>\n<table border=\"1\" class=\"dataframe\">\n  <thead>\n    <tr style=\"text-align: right;\">\n      <th></th>\n      <th>ufn</th>\n      <th>cal_cope_field</th>\n      <th>lep_cope_field</th>\n      <th>chal_a_field</th>\n      <th>chal_b_field</th>\n      <th>cal_mot_field</th>\n      <th>cgf_field</th>\n      <th>lpam_field</th>\n      <th>lpaf_field</th>\n      <th>lam_field</th>\n      <th>...</th>\n      <th>cs</th>\n      <th>ms</th>\n      <th>ps</th>\n      <th>hem</th>\n      <th>egp</th>\n      <th>ggp</th>\n      <th>mg</th>\n      <th>pb</th>\n      <th>comments_fish_health_field</th>\n      <th>quality_log</th>\n    </tr>\n  </thead>\n  <tbody>\n    <tr>\n      <th>0</th>\n      <td>U11324</td>\n      <td>0.0</td>\n      <td>0.0</td>\n      <td>0.0</td>\n      <td>0.0</td>\n      <td>1</td>\n      <td>1</td>\n      <td>0</td>\n      <td>0</td>\n      <td>0</td>\n      <td>...</td>\n      <td>0</td>\n      <td>0</td>\n      <td>0</td>\n      <td>1</td>\n      <td>0</td>\n      <td>0</td>\n      <td>0</td>\n      <td>0</td>\n      <td>H:ANF</td>\n      <td>NaN</td>\n    </tr>\n    <tr>\n      <th>1</th>\n      <td>U11325</td>\n      <td>0.0</td>\n      <td>0.0</td>\n      <td>0.0</td>\n      <td>0.0</td>\n      <td>0</td>\n      <td>0</td>\n      <td>0</td>\n      <td>0</td>\n      <td>0</td>\n      <td>...</td>\n      <td>0</td>\n      <td>0</td>\n      <td>0</td>\n      <td>0</td>\n      <td>0</td>\n      <td>0</td>\n      <td>0</td>\n      <td>0</td>\n      <td>NaN</td>\n      <td>NaN</td>\n    </tr>\n    <tr>\n      <th>2</th>\n      <td>U11326</td>\n      <td>0.0</td>\n      <td>0.0</td>\n      <td>0.0</td>\n      <td>0.0</td>\n      <td>1</td>\n      <td>0</td>\n      <td>0</td>\n      <td>0</td>\n      <td>0</td>\n      <td>...</td>\n      <td>0</td>\n      <td>0</td>\n      <td>0</td>\n      <td>1</td>\n      <td>0</td>\n      <td>0</td>\n      <td>0</td>\n      <td>0</td>\n      <td>Dorsal surface lesion</td>\n      <td>NaN</td>\n    </tr>\n    <tr>\n      <th>3</th>\n      <td>U11327</td>\n      <td>0.0</td>\n      <td>0.0</td>\n      <td>0.0</td>\n      <td>0.0</td>\n      <td>0</td>\n      <td>0</td>\n      <td>0</td>\n      <td>0</td>\n      <td>0</td>\n      <td>...</td>\n      <td>0</td>\n      <td>0</td>\n      <td>0</td>\n      <td>0</td>\n      <td>0</td>\n      <td>0</td>\n      <td>0</td>\n      <td>0</td>\n      <td>NaN</td>\n      <td>NaN</td>\n    </tr>\n    <tr>\n      <th>4</th>\n      <td>U11328</td>\n      <td>0.0</td>\n      <td>0.0</td>\n      <td>9.0</td>\n      <td>3.0</td>\n      <td>0</td>\n      <td>1</td>\n      <td>0</td>\n      <td>0</td>\n      <td>0</td>\n      <td>...</td>\n      <td>0</td>\n      <td>0</td>\n      <td>0</td>\n      <td>0</td>\n      <td>0</td>\n      <td>0</td>\n      <td>0</td>\n      <td>0</td>\n      <td>NaN</td>\n      <td>NaN</td>\n    </tr>\n  </tbody>\n</table>\n<p>5 rows × 24 columns</p>\n</div>"
     },
     "execution_count": 806,
     "metadata": {},
     "output_type": "execute_result"
    }
   ],
   "source": [
    "sealice_field_df.head()"
   ],
   "metadata": {
    "collapsed": false,
    "pycharm": {
     "name": "#%%\n"
    }
   }
  },
  {
   "cell_type": "code",
   "execution_count": 807,
   "outputs": [
    {
     "data": {
      "text/plain": "    ufn sample_id date_liced  lab_count_fine_no_id  lab_count_fine_total  \\\n0  U929   S929SL1 2016-11-15                  11.0                  10.0   \n1  U997   S997SL1 2016-11-15                   4.0                   4.0   \n2  U273   S273SL1 2016-11-17                   4.0                   4.0   \n3  U357   S357SL1 2016-11-17                  16.0                  15.0   \n4  U394   S394SL1 2016-11-17                   5.0                   6.0   \n\n   lep_cop  lep_cunifer_cop  lep_chal_a  lep_chal_b  lep_pa_m_1  ...  \\\n0      0.0              0.0         0.0         0.0         0.0  ...   \n1      0.0              0.0         0.0         0.0         0.0  ...   \n2      0.0              0.0         0.0         0.0         0.0  ...   \n3      0.0              0.0         1.0         0.0         0.0  ...   \n4      0.0              0.0         0.0         0.0         0.0  ...   \n\n   cal_pa_f  cal_a_m  cal_a_f  cal_grav_f  cal_mot_unid  unid_louse  \\\n0       0.0      1.0      0.0         1.0           0.0         0.0   \n1       0.0      0.0      0.0         0.0           0.0         0.0   \n2       0.0      0.0      0.0         0.0           0.0         0.0   \n3       0.0      0.0      0.0         0.0           0.0         0.0   \n4       0.0      0.0      0.0         0.0           0.0         0.0   \n\n   lab_staff                  comments  quality_level  quality_log  \n0         LP  Cal C4 UNID missing tail            Raw          NaN  \n1         LP                       NaN            Raw          NaN  \n2         LP                       NaN            Raw          NaN  \n3         LP                       NaN            Raw          NaN  \n4         LP                       NaN            Raw          NaN  \n\n[5 rows x 37 columns]",
      "text/html": "<div>\n<style scoped>\n    .dataframe tbody tr th:only-of-type {\n        vertical-align: middle;\n    }\n\n    .dataframe tbody tr th {\n        vertical-align: top;\n    }\n\n    .dataframe thead th {\n        text-align: right;\n    }\n</style>\n<table border=\"1\" class=\"dataframe\">\n  <thead>\n    <tr style=\"text-align: right;\">\n      <th></th>\n      <th>ufn</th>\n      <th>sample_id</th>\n      <th>date_liced</th>\n      <th>lab_count_fine_no_id</th>\n      <th>lab_count_fine_total</th>\n      <th>lep_cop</th>\n      <th>lep_cunifer_cop</th>\n      <th>lep_chal_a</th>\n      <th>lep_chal_b</th>\n      <th>lep_pa_m_1</th>\n      <th>...</th>\n      <th>cal_pa_f</th>\n      <th>cal_a_m</th>\n      <th>cal_a_f</th>\n      <th>cal_grav_f</th>\n      <th>cal_mot_unid</th>\n      <th>unid_louse</th>\n      <th>lab_staff</th>\n      <th>comments</th>\n      <th>quality_level</th>\n      <th>quality_log</th>\n    </tr>\n  </thead>\n  <tbody>\n    <tr>\n      <th>0</th>\n      <td>U929</td>\n      <td>S929SL1</td>\n      <td>2016-11-15</td>\n      <td>11.0</td>\n      <td>10.0</td>\n      <td>0.0</td>\n      <td>0.0</td>\n      <td>0.0</td>\n      <td>0.0</td>\n      <td>0.0</td>\n      <td>...</td>\n      <td>0.0</td>\n      <td>1.0</td>\n      <td>0.0</td>\n      <td>1.0</td>\n      <td>0.0</td>\n      <td>0.0</td>\n      <td>LP</td>\n      <td>Cal C4 UNID missing tail</td>\n      <td>Raw</td>\n      <td>NaN</td>\n    </tr>\n    <tr>\n      <th>1</th>\n      <td>U997</td>\n      <td>S997SL1</td>\n      <td>2016-11-15</td>\n      <td>4.0</td>\n      <td>4.0</td>\n      <td>0.0</td>\n      <td>0.0</td>\n      <td>0.0</td>\n      <td>0.0</td>\n      <td>0.0</td>\n      <td>...</td>\n      <td>0.0</td>\n      <td>0.0</td>\n      <td>0.0</td>\n      <td>0.0</td>\n      <td>0.0</td>\n      <td>0.0</td>\n      <td>LP</td>\n      <td>NaN</td>\n      <td>Raw</td>\n      <td>NaN</td>\n    </tr>\n    <tr>\n      <th>2</th>\n      <td>U273</td>\n      <td>S273SL1</td>\n      <td>2016-11-17</td>\n      <td>4.0</td>\n      <td>4.0</td>\n      <td>0.0</td>\n      <td>0.0</td>\n      <td>0.0</td>\n      <td>0.0</td>\n      <td>0.0</td>\n      <td>...</td>\n      <td>0.0</td>\n      <td>0.0</td>\n      <td>0.0</td>\n      <td>0.0</td>\n      <td>0.0</td>\n      <td>0.0</td>\n      <td>LP</td>\n      <td>NaN</td>\n      <td>Raw</td>\n      <td>NaN</td>\n    </tr>\n    <tr>\n      <th>3</th>\n      <td>U357</td>\n      <td>S357SL1</td>\n      <td>2016-11-17</td>\n      <td>16.0</td>\n      <td>15.0</td>\n      <td>0.0</td>\n      <td>0.0</td>\n      <td>1.0</td>\n      <td>0.0</td>\n      <td>0.0</td>\n      <td>...</td>\n      <td>0.0</td>\n      <td>0.0</td>\n      <td>0.0</td>\n      <td>0.0</td>\n      <td>0.0</td>\n      <td>0.0</td>\n      <td>LP</td>\n      <td>NaN</td>\n      <td>Raw</td>\n      <td>NaN</td>\n    </tr>\n    <tr>\n      <th>4</th>\n      <td>U394</td>\n      <td>S394SL1</td>\n      <td>2016-11-17</td>\n      <td>5.0</td>\n      <td>6.0</td>\n      <td>0.0</td>\n      <td>0.0</td>\n      <td>0.0</td>\n      <td>0.0</td>\n      <td>0.0</td>\n      <td>...</td>\n      <td>0.0</td>\n      <td>0.0</td>\n      <td>0.0</td>\n      <td>0.0</td>\n      <td>0.0</td>\n      <td>0.0</td>\n      <td>LP</td>\n      <td>NaN</td>\n      <td>Raw</td>\n      <td>NaN</td>\n    </tr>\n  </tbody>\n</table>\n<p>5 rows × 37 columns</p>\n</div>"
     },
     "execution_count": 807,
     "metadata": {},
     "output_type": "execute_result"
    }
   ],
   "source": [
    "sealice_lab_fs_df.head()"
   ],
   "metadata": {
    "collapsed": false,
    "pycharm": {
     "name": "#%%\n"
    }
   }
  },
  {
   "cell_type": "code",
   "execution_count": 808,
   "outputs": [
    {
     "data": {
      "text/plain": "      ufn  cm_lab  cpaf_lab  caf_lab  cgf_lab  ucal_lab  lpaf_lab  lpam_lab  \\\n0  U11001       0         0        0        0         0         0         0   \n1  U11002       0         0        0        0         0         0         0   \n2  U11003       0         0        0        0         0         1         0   \n3  U11004       0         0        0        0         0         0         0   \n4  U11005       0         0        0        0         0         0         0   \n\n   lam_lab  laf_lab  lgf_lab  ulep_lab  lab_count_motiles  comments  \\\n0        0        0        0         0                  0       NaN   \n1        0        0        0         0                  0       NaN   \n2        0        0        0         0                  1       NaN   \n3        0        0        0         0                  0       NaN   \n4        0        0        0         0                  0       NaN   \n\n  quality_level  quality_log  \n0           Raw          NaN  \n1           Raw          NaN  \n2           Raw          NaN  \n3           Raw          NaN  \n4           Raw          NaN  ",
      "text/html": "<div>\n<style scoped>\n    .dataframe tbody tr th:only-of-type {\n        vertical-align: middle;\n    }\n\n    .dataframe tbody tr th {\n        vertical-align: top;\n    }\n\n    .dataframe thead th {\n        text-align: right;\n    }\n</style>\n<table border=\"1\" class=\"dataframe\">\n  <thead>\n    <tr style=\"text-align: right;\">\n      <th></th>\n      <th>ufn</th>\n      <th>cm_lab</th>\n      <th>cpaf_lab</th>\n      <th>caf_lab</th>\n      <th>cgf_lab</th>\n      <th>ucal_lab</th>\n      <th>lpaf_lab</th>\n      <th>lpam_lab</th>\n      <th>lam_lab</th>\n      <th>laf_lab</th>\n      <th>lgf_lab</th>\n      <th>ulep_lab</th>\n      <th>lab_count_motiles</th>\n      <th>comments</th>\n      <th>quality_level</th>\n      <th>quality_log</th>\n    </tr>\n  </thead>\n  <tbody>\n    <tr>\n      <th>0</th>\n      <td>U11001</td>\n      <td>0</td>\n      <td>0</td>\n      <td>0</td>\n      <td>0</td>\n      <td>0</td>\n      <td>0</td>\n      <td>0</td>\n      <td>0</td>\n      <td>0</td>\n      <td>0</td>\n      <td>0</td>\n      <td>0</td>\n      <td>NaN</td>\n      <td>Raw</td>\n      <td>NaN</td>\n    </tr>\n    <tr>\n      <th>1</th>\n      <td>U11002</td>\n      <td>0</td>\n      <td>0</td>\n      <td>0</td>\n      <td>0</td>\n      <td>0</td>\n      <td>0</td>\n      <td>0</td>\n      <td>0</td>\n      <td>0</td>\n      <td>0</td>\n      <td>0</td>\n      <td>0</td>\n      <td>NaN</td>\n      <td>Raw</td>\n      <td>NaN</td>\n    </tr>\n    <tr>\n      <th>2</th>\n      <td>U11003</td>\n      <td>0</td>\n      <td>0</td>\n      <td>0</td>\n      <td>0</td>\n      <td>0</td>\n      <td>1</td>\n      <td>0</td>\n      <td>0</td>\n      <td>0</td>\n      <td>0</td>\n      <td>0</td>\n      <td>1</td>\n      <td>NaN</td>\n      <td>Raw</td>\n      <td>NaN</td>\n    </tr>\n    <tr>\n      <th>3</th>\n      <td>U11004</td>\n      <td>0</td>\n      <td>0</td>\n      <td>0</td>\n      <td>0</td>\n      <td>0</td>\n      <td>0</td>\n      <td>0</td>\n      <td>0</td>\n      <td>0</td>\n      <td>0</td>\n      <td>0</td>\n      <td>0</td>\n      <td>NaN</td>\n      <td>Raw</td>\n      <td>NaN</td>\n    </tr>\n    <tr>\n      <th>4</th>\n      <td>U11005</td>\n      <td>0</td>\n      <td>0</td>\n      <td>0</td>\n      <td>0</td>\n      <td>0</td>\n      <td>0</td>\n      <td>0</td>\n      <td>0</td>\n      <td>0</td>\n      <td>0</td>\n      <td>0</td>\n      <td>0</td>\n      <td>NaN</td>\n      <td>Raw</td>\n      <td>NaN</td>\n    </tr>\n  </tbody>\n</table>\n</div>"
     },
     "execution_count": 808,
     "metadata": {},
     "output_type": "execute_result"
    }
   ],
   "source": [
    "sealice_lab_mot_df.head()"
   ],
   "metadata": {
    "collapsed": false,
    "pycharm": {
     "name": "#%%\n"
    }
   }
  },
  {
   "cell_type": "code",
   "execution_count": 809,
   "outputs": [
    {
     "data": {
      "text/plain": "      ufn  cal_cope_field  lep_cope_field  chal_a_field  chal_b_field  \\\n0  U11324             0.0             0.0           0.0           0.0   \n1  U11325             0.0             0.0           0.0           0.0   \n2  U11326             0.0             0.0           0.0           0.0   \n3  U11327             0.0             0.0           0.0           0.0   \n4  U11328             0.0             0.0           9.0           3.0   \n\n   cal_mot_field  cgf_field  lpam_field  lpaf_field  lam_field  ...  lpaf_lab  \\\n0            1.0        1.0         0.0         0.0        0.0  ...       0.0   \n1            0.0        0.0         0.0         0.0        0.0  ...       0.0   \n2            1.0        0.0         0.0         0.0        0.0  ...       0.0   \n3            0.0        0.0         0.0         0.0        0.0  ...       0.0   \n4            0.0        1.0         0.0         0.0        0.0  ...       0.0   \n\n   lpam_lab  lam_lab  laf_lab  lgf_lab  ulep_lab  lab_count_motiles  \\\n0       0.0      0.0      0.0      0.0       0.0                1.0   \n1       0.0      0.0      0.0      0.0       0.0                1.0   \n2       0.0      0.0      0.0      0.0       0.0                0.0   \n3       0.0      0.0      0.0      0.0       0.0                0.0   \n4       0.0      0.0      0.0      0.0       0.0                1.0   \n\n   comments_y  quality_level_y  quality_log  \n0         NaN              Raw          NaN  \n1         NaN              Raw          NaN  \n2         NaN              Raw          NaN  \n3         NaN              Raw          NaN  \n4         NaN              Raw          NaN  \n\n[5 rows x 75 columns]",
      "text/html": "<div>\n<style scoped>\n    .dataframe tbody tr th:only-of-type {\n        vertical-align: middle;\n    }\n\n    .dataframe tbody tr th {\n        vertical-align: top;\n    }\n\n    .dataframe thead th {\n        text-align: right;\n    }\n</style>\n<table border=\"1\" class=\"dataframe\">\n  <thead>\n    <tr style=\"text-align: right;\">\n      <th></th>\n      <th>ufn</th>\n      <th>cal_cope_field</th>\n      <th>lep_cope_field</th>\n      <th>chal_a_field</th>\n      <th>chal_b_field</th>\n      <th>cal_mot_field</th>\n      <th>cgf_field</th>\n      <th>lpam_field</th>\n      <th>lpaf_field</th>\n      <th>lam_field</th>\n      <th>...</th>\n      <th>lpaf_lab</th>\n      <th>lpam_lab</th>\n      <th>lam_lab</th>\n      <th>laf_lab</th>\n      <th>lgf_lab</th>\n      <th>ulep_lab</th>\n      <th>lab_count_motiles</th>\n      <th>comments_y</th>\n      <th>quality_level_y</th>\n      <th>quality_log</th>\n    </tr>\n  </thead>\n  <tbody>\n    <tr>\n      <th>0</th>\n      <td>U11324</td>\n      <td>0.0</td>\n      <td>0.0</td>\n      <td>0.0</td>\n      <td>0.0</td>\n      <td>1.0</td>\n      <td>1.0</td>\n      <td>0.0</td>\n      <td>0.0</td>\n      <td>0.0</td>\n      <td>...</td>\n      <td>0.0</td>\n      <td>0.0</td>\n      <td>0.0</td>\n      <td>0.0</td>\n      <td>0.0</td>\n      <td>0.0</td>\n      <td>1.0</td>\n      <td>NaN</td>\n      <td>Raw</td>\n      <td>NaN</td>\n    </tr>\n    <tr>\n      <th>1</th>\n      <td>U11325</td>\n      <td>0.0</td>\n      <td>0.0</td>\n      <td>0.0</td>\n      <td>0.0</td>\n      <td>0.0</td>\n      <td>0.0</td>\n      <td>0.0</td>\n      <td>0.0</td>\n      <td>0.0</td>\n      <td>...</td>\n      <td>0.0</td>\n      <td>0.0</td>\n      <td>0.0</td>\n      <td>0.0</td>\n      <td>0.0</td>\n      <td>0.0</td>\n      <td>1.0</td>\n      <td>NaN</td>\n      <td>Raw</td>\n      <td>NaN</td>\n    </tr>\n    <tr>\n      <th>2</th>\n      <td>U11326</td>\n      <td>0.0</td>\n      <td>0.0</td>\n      <td>0.0</td>\n      <td>0.0</td>\n      <td>1.0</td>\n      <td>0.0</td>\n      <td>0.0</td>\n      <td>0.0</td>\n      <td>0.0</td>\n      <td>...</td>\n      <td>0.0</td>\n      <td>0.0</td>\n      <td>0.0</td>\n      <td>0.0</td>\n      <td>0.0</td>\n      <td>0.0</td>\n      <td>0.0</td>\n      <td>NaN</td>\n      <td>Raw</td>\n      <td>NaN</td>\n    </tr>\n    <tr>\n      <th>3</th>\n      <td>U11327</td>\n      <td>0.0</td>\n      <td>0.0</td>\n      <td>0.0</td>\n      <td>0.0</td>\n      <td>0.0</td>\n      <td>0.0</td>\n      <td>0.0</td>\n      <td>0.0</td>\n      <td>0.0</td>\n      <td>...</td>\n      <td>0.0</td>\n      <td>0.0</td>\n      <td>0.0</td>\n      <td>0.0</td>\n      <td>0.0</td>\n      <td>0.0</td>\n      <td>0.0</td>\n      <td>NaN</td>\n      <td>Raw</td>\n      <td>NaN</td>\n    </tr>\n    <tr>\n      <th>4</th>\n      <td>U11328</td>\n      <td>0.0</td>\n      <td>0.0</td>\n      <td>9.0</td>\n      <td>3.0</td>\n      <td>0.0</td>\n      <td>1.0</td>\n      <td>0.0</td>\n      <td>0.0</td>\n      <td>0.0</td>\n      <td>...</td>\n      <td>0.0</td>\n      <td>0.0</td>\n      <td>0.0</td>\n      <td>0.0</td>\n      <td>0.0</td>\n      <td>0.0</td>\n      <td>1.0</td>\n      <td>NaN</td>\n      <td>Raw</td>\n      <td>NaN</td>\n    </tr>\n  </tbody>\n</table>\n<p>5 rows × 75 columns</p>\n</div>"
     },
     "execution_count": 809,
     "metadata": {},
     "output_type": "execute_result"
    }
   ],
   "source": [
    "# join the three sealice dataframes together\n",
    "# the sets have a small overlap but are mostly distinct, so merge keeping everything\n",
    "lice_df = pd.merge(sealice_field_df, sealice_lab_fs_df, on='ufn', how='outer')\n",
    "lice_df = pd.merge(lice_df, sealice_lab_mot_df, on='ufn', how='outer')\n",
    "lice_df.head()"
   ],
   "metadata": {
    "collapsed": false,
    "pycharm": {
     "name": "#%%\n"
    }
   }
  },
  {
   "cell_type": "code",
   "execution_count": 810,
   "outputs": [
    {
     "name": "stdout",
     "output_type": "stream",
     "text": [
      "field: 2411\n",
      "fs: 1469\n",
      "mot: 4580\n",
      "total: 7509\n"
     ]
    }
   ],
   "source": [
    "print(\"field: {}\\nfs: {}\\nmot: {}\\ntotal: {}\".format(len(sealice_field_df), len(sealice_lab_fs_df),\n",
    "                                                     len(sealice_lab_mot_df), len(lice_df)))"
   ],
   "metadata": {
    "collapsed": false,
    "pycharm": {
     "name": "#%%\n"
    }
   }
  },
  {
   "cell_type": "code",
   "execution_count": 811,
   "outputs": [
    {
     "data": {
      "text/plain": "{'quality_log', 'ufn'}"
     },
     "execution_count": 811,
     "metadata": {},
     "output_type": "execute_result"
    }
   ],
   "source": [
    "set.intersection(set(fish_df.columns), set(lice_df.columns))"
   ],
   "metadata": {
    "collapsed": false,
    "pycharm": {
     "name": "#%%\n"
    }
   }
  },
  {
   "cell_type": "code",
   "execution_count": 812,
   "outputs": [],
   "source": [
    "# this duplicate column makes things complicated later and we don't use it, so get rid of it here\n",
    "fish_df.drop('quality_log', axis=1, inplace=True)\n",
    "lice_df.drop('quality_log', axis=1, inplace=True)"
   ],
   "metadata": {
    "collapsed": false,
    "pycharm": {
     "name": "#%%\n"
    }
   }
  },
  {
   "cell_type": "code",
   "execution_count": 813,
   "outputs": [],
   "source": [
    "# merge fish and lice together\n",
    "fish_lice_df = pd.merge(fish_df, lice_df, on='ufn', how='left')"
   ],
   "metadata": {
    "collapsed": false,
    "pycharm": {
     "name": "#%%\n"
    }
   }
  },
  {
   "cell_type": "code",
   "execution_count": 814,
   "outputs": [
    {
     "data": {
      "text/plain": "array(['CO', 'CU', 'HE', 'SO', 'PI', 'CK'], dtype=object)"
     },
     "execution_count": 814,
     "metadata": {},
     "output_type": "execute_result"
    }
   ],
   "source": [
    "fish_lice_df.species.unique()"
   ],
   "metadata": {
    "collapsed": false,
    "pycharm": {
     "name": "#%%\n"
    }
   }
  },
  {
   "cell_type": "code",
   "execution_count": 815,
   "outputs": [],
   "source": [
    "# convert columns to our names and format\n",
    "fish_lice_df['event_id'] = fish_lice_df.seine_id.apply(lambda sid: 'hakai_' + sid)\n",
    "fish_lice_df['fish_id'] = fish_lice_df.ufn.apply(lambda ufn: 'hakai_' + ufn)\n",
    "fish_lice_df.replace({'species': {'SO': 'Sockeye Salmon',\n",
    "                                  'PI': 'Pink Salmon',\n",
    "                                  'CU': 'Chum Salmon',\n",
    "                                  'CO': 'Coho Salmon',\n",
    "                                  'CK': 'Chinook Salmon',\n",
    "                                  'HE': 'Pacific Herring'}},\n",
    "                     inplace=True)\n",
    "fish_lice_df.rename(columns={'species': 'fish_species'}, inplace=True)"
   ],
   "metadata": {
    "collapsed": false,
    "pycharm": {
     "name": "#%%\n"
    }
   }
  },
  {
   "cell_type": "code",
   "execution_count": 816,
   "outputs": [
    {
     "data": {
      "text/plain": "Index(['ufn', 'cal_cope_field', 'lep_cope_field', 'chal_a_field',\n       'chal_b_field', 'cal_mot_field', 'cgf_field', 'lpam_field',\n       'lpaf_field', 'lam_field', 'laf_field', 'lgf_field', 'unid_cope_field',\n       'unid_chal_field', 'cs', 'ms', 'ps', 'hem', 'egp', 'ggp', 'mg', 'pb',\n       'comments_fish_health_field', 'quality_log'],\n      dtype='object')"
     },
     "execution_count": 816,
     "metadata": {},
     "output_type": "execute_result"
    }
   ],
   "source": [
    "sealice_field_df.columns"
   ],
   "metadata": {
    "collapsed": false,
    "pycharm": {
     "name": "#%%\n"
    }
   }
  },
  {
   "cell_type": "code",
   "execution_count": 817,
   "outputs": [
    {
     "data": {
      "text/plain": "Index(['ufn', 'sample_id', 'date_liced', 'lab_count_fine_no_id',\n       'lab_count_fine_total', 'lep_cop', 'lep_cunifer_cop', 'lep_chal_a',\n       'lep_chal_b', 'lep_pa_m_1', 'lep_pa_m_2', 'lep_pa_f_1', 'lep_pa_f_2',\n       'lep_pa_unid', 'lep_a_m', 'lep_a_f', 'lep_grav_f', 'cal_cop',\n       'cal_chal_a_1', 'cal_chal_a_2', 'cal_chal_b_3', 'cal_chal_b_4_f',\n       'cal_chal_b_4_m', 'cal_chal_4_unid', 'cal_chal_a_unid',\n       'cal_chal_b_unid', 'cal_pa_m', 'cal_pa_f', 'cal_a_m', 'cal_a_f',\n       'cal_grav_f', 'cal_mot_unid', 'unid_louse', 'lab_staff', 'comments',\n       'quality_level', 'quality_log'],\n      dtype='object')"
     },
     "execution_count": 817,
     "metadata": {},
     "output_type": "execute_result"
    }
   ],
   "source": [
    "sealice_lab_fs_df.columns"
   ],
   "metadata": {
    "collapsed": false,
    "pycharm": {
     "name": "#%%\n"
    }
   }
  },
  {
   "cell_type": "code",
   "execution_count": 818,
   "outputs": [
    {
     "data": {
      "text/plain": "Index(['ufn', 'cm_lab', 'cpaf_lab', 'caf_lab', 'cgf_lab', 'ucal_lab',\n       'lpaf_lab', 'lpam_lab', 'lam_lab', 'laf_lab', 'lgf_lab', 'ulep_lab',\n       'lab_count_motiles', 'comments', 'quality_level', 'quality_log'],\n      dtype='object')"
     },
     "execution_count": 818,
     "metadata": {},
     "output_type": "execute_result"
    }
   ],
   "source": [
    "sealice_lab_mot_df.columns"
   ],
   "metadata": {
    "collapsed": false,
    "pycharm": {
     "name": "#%%\n"
    }
   }
  },
  {
   "cell_type": "code",
   "execution_count": 819,
   "outputs": [],
   "source": [
    "# convert NaN lice counts to 0\n",
    "col_names = [\n",
    "    # field counts\n",
    "    'cal_cope_field', 'lep_cope_field', 'chal_a_field', 'chal_b_field', 'cal_mot_field', 'cgf_field',\n",
    "    'lpam_field', 'lpaf_field', 'lam_field', 'laf_field', 'lgf_field', 'unid_cope_field', 'unid_chal_field',\n",
    "    # lab finescale counts\n",
    "    'lep_cop', 'lep_cunifer_cop', 'lep_chal_a',\n",
    "    'lep_chal_b', 'lep_pa_m_1', 'lep_pa_m_2', 'lep_pa_f_1', 'lep_pa_f_2',\n",
    "    'lep_pa_unid', 'lep_a_m', 'lep_a_f', 'lep_grav_f', 'cal_cop',\n",
    "    'cal_chal_a_1', 'cal_chal_a_2', 'cal_chal_b_3', 'cal_chal_b_4_f',\n",
    "    'cal_chal_b_4_m', 'cal_chal_4_unid', 'cal_chal_a_unid',\n",
    "    'cal_chal_b_unid', 'cal_pa_m', 'cal_pa_f', 'cal_a_m', 'cal_a_f',\n",
    "    'cal_grav_f', 'cal_mot_unid', 'unid_louse',\n",
    "    # lab mot counts\n",
    "    'cm_lab', 'cpaf_lab', 'caf_lab', 'cgf_lab', 'ucal_lab',\n",
    "    'lpaf_lab', 'lpam_lab', 'lam_lab', 'laf_lab', 'lgf_lab', 'ulep_lab',\n",
    "    'lab_count_motiles'\n",
    "]\n",
    "\n",
    "# first, make sure our expression checking for NaN works\n",
    "assert fish_lice_df[col_names].isnull().values.any()\n",
    "\n",
    "# fill all the NaNs\n",
    "fill_dict = {col: 0 for col in col_names}\n",
    "fish_lice_df.fillna(value=fill_dict, inplace=True)\n",
    "\n",
    "# confirm all nulls have been filled with values\n",
    "assert not fish_lice_df[col_names].isnull().values.any()"
   ],
   "metadata": {
    "collapsed": false,
    "pycharm": {
     "name": "#%%\n"
    }
   }
  },
  {
   "cell_type": "code",
   "execution_count": 820,
   "outputs": [],
   "source": [
    "# fill in the fish fields we use, with preference for lab counts otherwise use field values\n",
    "# (lice_id_protocol_lab is not null if the fish has gone to the lab)\n",
    "fish_lice_df['length'] = fish_lice_df.apply(\n",
    "    lambda row: row['fork_length'] if not pd.isnull(row.lice_id_protocol_lab) else row['fork_length_field'],\n",
    "    axis=1\n",
    ")\n",
    "fish_lice_df['weight'] = fish_lice_df.apply(\n",
    "    lambda row: row['weight'] if not pd.isnull(row.lice_id_protocol_lab) else row['weight_field'],\n",
    "    axis=1\n",
    ")\n",
    "# no lab measurement for height\n",
    "fish_lice_df['height'] = fish_lice_df['height_field']"
   ],
   "metadata": {
    "collapsed": false,
    "pycharm": {
     "name": "#%%\n"
    }
   }
  },
  {
   "cell_type": "code",
   "execution_count": 821,
   "outputs": [],
   "source": [
    "# split fish_lice_df into lab and field-only for lice counts\n",
    "lab_fish_lice_df = fish_lice_df.loc[~pd.isnull(fish_lice_df.lice_id_protocol_lab)]\n",
    "field_fish_lice_df = fish_lice_df.loc[pd.isnull(fish_lice_df.lice_id_protocol_lab)]"
   ],
   "metadata": {
    "collapsed": false,
    "pycharm": {
     "name": "#%%\n"
    }
   }
  },
  {
   "cell_type": "code",
   "execution_count": 822,
   "outputs": [
    {
     "name": "stderr",
     "output_type": "stream",
     "text": [
      "/tmp/ipykernel_731336/1717126531.py:4: SettingWithCopyWarning: \n",
      "A value is trying to be set on a copy of a slice from a DataFrame.\n",
      "Try using .loc[row_indexer,col_indexer] = value instead\n",
      "\n",
      "See the caveats in the documentation: https://pandas.pydata.org/pandas-docs/stable/user_guide/indexing.html#returning-a-view-versus-a-copy\n",
      "  lab_fish_lice_df['lep_chal'] = lab_fish_lice_df.lep_chal_a + lab_fish_lice_df.lep_chal_b\n",
      "/tmp/ipykernel_731336/1717126531.py:7: SettingWithCopyWarning: \n",
      "A value is trying to be set on a copy of a slice from a DataFrame.\n",
      "Try using .loc[row_indexer,col_indexer] = value instead\n",
      "\n",
      "See the caveats in the documentation: https://pandas.pydata.org/pandas-docs/stable/user_guide/indexing.html#returning-a-view-versus-a-copy\n",
      "  lab_fish_lice_df['lep_motile'] = lab_fish_lice_df[lep_motile_cols].sum(axis=1)\n",
      "/tmp/ipykernel_731336/1717126531.py:8: SettingWithCopyWarning: \n",
      "A value is trying to be set on a copy of a slice from a DataFrame.\n",
      "Try using .loc[row_indexer,col_indexer] = value instead\n",
      "\n",
      "See the caveats in the documentation: https://pandas.pydata.org/pandas-docs/stable/user_guide/indexing.html#returning-a-view-versus-a-copy\n",
      "  lab_fish_lice_df['lep_unknown'] = lab_fish_lice_df.ulep_lab\n",
      "/tmp/ipykernel_731336/1717126531.py:14: SettingWithCopyWarning: \n",
      "A value is trying to be set on a copy of a slice from a DataFrame.\n",
      "Try using .loc[row_indexer,col_indexer] = value instead\n",
      "\n",
      "See the caveats in the documentation: https://pandas.pydata.org/pandas-docs/stable/user_guide/indexing.html#returning-a-view-versus-a-copy\n",
      "  lab_fish_lice_df['cal_chal'] = lab_fish_lice_df[cal_chal_cols].sum(axis=1)\n",
      "/tmp/ipykernel_731336/1717126531.py:17: SettingWithCopyWarning: \n",
      "A value is trying to be set on a copy of a slice from a DataFrame.\n",
      "Try using .loc[row_indexer,col_indexer] = value instead\n",
      "\n",
      "See the caveats in the documentation: https://pandas.pydata.org/pandas-docs/stable/user_guide/indexing.html#returning-a-view-versus-a-copy\n",
      "  lab_fish_lice_df['cal_motile'] = lab_fish_lice_df[cal_motile_cols].sum(axis=1)\n",
      "/tmp/ipykernel_731336/1717126531.py:18: SettingWithCopyWarning: \n",
      "A value is trying to be set on a copy of a slice from a DataFrame.\n",
      "Try using .loc[row_indexer,col_indexer] = value instead\n",
      "\n",
      "See the caveats in the documentation: https://pandas.pydata.org/pandas-docs/stable/user_guide/indexing.html#returning-a-view-versus-a-copy\n",
      "  lab_fish_lice_df['cal_unknown'] = lab_fish_lice_df.ucal_lab\n",
      "/tmp/ipykernel_731336/1717126531.py:19: SettingWithCopyWarning: \n",
      "A value is trying to be set on a copy of a slice from a DataFrame.\n",
      "Try using .loc[row_indexer,col_indexer] = value instead\n",
      "\n",
      "See the caveats in the documentation: https://pandas.pydata.org/pandas-docs/stable/user_guide/indexing.html#returning-a-view-versus-a-copy\n",
      "  lab_fish_lice_df['unknown_cop'] = 0\n",
      "/tmp/ipykernel_731336/1717126531.py:20: SettingWithCopyWarning: \n",
      "A value is trying to be set on a copy of a slice from a DataFrame.\n",
      "Try using .loc[row_indexer,col_indexer] = value instead\n",
      "\n",
      "See the caveats in the documentation: https://pandas.pydata.org/pandas-docs/stable/user_guide/indexing.html#returning-a-view-versus-a-copy\n",
      "  lab_fish_lice_df['unknown_chal'] = 0\n",
      "/tmp/ipykernel_731336/1717126531.py:21: SettingWithCopyWarning: \n",
      "A value is trying to be set on a copy of a slice from a DataFrame.\n",
      "Try using .loc[row_indexer,col_indexer] = value instead\n",
      "\n",
      "See the caveats in the documentation: https://pandas.pydata.org/pandas-docs/stable/user_guide/indexing.html#returning-a-view-versus-a-copy\n",
      "  lab_fish_lice_df['unknown_unknown'] = lab_fish_lice_df['unid_louse']\n",
      "/tmp/ipykernel_731336/1717126531.py:24: SettingWithCopyWarning: \n",
      "A value is trying to be set on a copy of a slice from a DataFrame.\n",
      "Try using .loc[row_indexer,col_indexer] = value instead\n",
      "\n",
      "See the caveats in the documentation: https://pandas.pydata.org/pandas-docs/stable/user_guide/indexing.html#returning-a-view-versus-a-copy\n",
      "  lab_fish_lice_df['lice_protocol'] = lab_fish_lice_df.lice_id_protocol_lab\n"
     ]
    }
   ],
   "source": [
    "# Get the lice counts for lab fish\n",
    "\n",
    "# lab_fish_lice_df['lep_cop'] = lab_fish_lice_df.lep_cop\n",
    "lab_fish_lice_df['lep_chal'] = lab_fish_lice_df.lep_chal_a + lab_fish_lice_df.lep_chal_b\n",
    "lep_motile_cols = ['lep_pa_m_1', 'lep_pa_m_2', 'lep_pa_f_1', 'lep_pa_f_2', 'lep_pa_unid', 'lep_a_m',\n",
    "                   'lep_a_f', 'lep_grav_f', 'lpaf_lab', 'lpam_lab', 'lam_lab', 'laf_lab', 'lgf_lab']\n",
    "lab_fish_lice_df['lep_motile'] = lab_fish_lice_df[lep_motile_cols].sum(axis=1)\n",
    "lab_fish_lice_df['lep_unknown'] = lab_fish_lice_df.ulep_lab\n",
    "\n",
    "# lab_fish_lice_df['cal_cop'] = lab_fish_lice_df.cal_cop\n",
    "# already a cal_cop field with the correct count\n",
    "cal_chal_cols = ['cal_chal_a_1', 'cal_chal_a_2', 'cal_chal_b_3', 'cal_chal_b_4_f',\n",
    "                 'cal_chal_b_4_m', 'cal_chal_4_unid', 'cal_chal_a_unid', 'cal_chal_b_unid']\n",
    "lab_fish_lice_df['cal_chal'] = lab_fish_lice_df[cal_chal_cols].sum(axis=1)\n",
    "cal_motile_cols = ['cal_pa_m', 'cal_pa_f', 'cal_a_m', 'cal_a_f', 'cal_grav_f', 'cal_mot_unid',\n",
    "                   'cm_lab', 'cpaf_lab', 'caf_lab', 'cgf_lab']\n",
    "lab_fish_lice_df['cal_motile'] = lab_fish_lice_df[cal_motile_cols].sum(axis=1)\n",
    "lab_fish_lice_df['cal_unknown'] = lab_fish_lice_df.ucal_lab\n",
    "lab_fish_lice_df['unknown_cop'] = 0\n",
    "lab_fish_lice_df['unknown_chal'] = 0\n",
    "lab_fish_lice_df['unknown_unknown'] = lab_fish_lice_df['unid_louse']\n",
    "\n",
    "# keep the lice protocol\n",
    "lab_fish_lice_df['lice_protocol'] = lab_fish_lice_df.lice_id_protocol_lab"
   ],
   "metadata": {
    "collapsed": false,
    "pycharm": {
     "name": "#%%\n"
    }
   }
  },
  {
   "cell_type": "code",
   "execution_count": 823,
   "outputs": [
    {
     "data": {
      "text/plain": "     ufn              semsp_id seine_id    fish_species package_id  \\\n13  U344   2015-05-12-D01-SO-1  DE100N3  Sockeye Salmon        NaN   \n14  U338  2015-05-12-D01-SO-10  DE100N3  Sockeye Salmon        NaN   \n24  U340   2015-05-12-D01-SO-2  DE100N3  Sockeye Salmon        NaN   \n35  U352   2015-05-12-D01-SO-3  DE100N3  Sockeye Salmon        NaN   \n37  U337   2015-05-12-D01-SO-4  DE100N3  Sockeye Salmon        NaN   \n\n   fish_time_out fish_time_dewar  fork_length_field  height_field  \\\n13           NaN             NaN                NaN           NaN   \n14           NaN             NaN                NaN           NaN   \n24           NaN             NaN                NaN           NaN   \n35           NaN             NaN                NaN           NaN   \n37           NaN             NaN                NaN           NaN   \n\n    weight_field  ... lep_chal lep_motile lep_unknown cal_chal cal_motile  \\\n13           NaN  ...      0.0        0.0         0.0      0.0        0.0   \n14           NaN  ...      0.0        0.0         0.0      6.0        0.0   \n24           NaN  ...      0.0        0.0         0.0      2.0        0.0   \n35           NaN  ...      0.0        0.0         0.0      4.0        0.0   \n37           NaN  ...      0.0        0.0         0.0      2.0        0.0   \n\n   cal_unknown unknown_cop  unknown_chal  unknown_unknown  lice_protocol  \n13         0.0           0             0              0.0  lportner_fine  \n14         0.0           0             0              0.0  lportner_fine  \n24         0.0           0             0              0.0  lportner_fine  \n35         0.0           0             0              0.0  lportner_fine  \n37         0.0           0             0              0.0  lportner_fine  \n\n[5 rows x 113 columns]",
      "text/html": "<div>\n<style scoped>\n    .dataframe tbody tr th:only-of-type {\n        vertical-align: middle;\n    }\n\n    .dataframe tbody tr th {\n        vertical-align: top;\n    }\n\n    .dataframe thead th {\n        text-align: right;\n    }\n</style>\n<table border=\"1\" class=\"dataframe\">\n  <thead>\n    <tr style=\"text-align: right;\">\n      <th></th>\n      <th>ufn</th>\n      <th>semsp_id</th>\n      <th>seine_id</th>\n      <th>fish_species</th>\n      <th>package_id</th>\n      <th>fish_time_out</th>\n      <th>fish_time_dewar</th>\n      <th>fork_length_field</th>\n      <th>height_field</th>\n      <th>weight_field</th>\n      <th>...</th>\n      <th>lep_chal</th>\n      <th>lep_motile</th>\n      <th>lep_unknown</th>\n      <th>cal_chal</th>\n      <th>cal_motile</th>\n      <th>cal_unknown</th>\n      <th>unknown_cop</th>\n      <th>unknown_chal</th>\n      <th>unknown_unknown</th>\n      <th>lice_protocol</th>\n    </tr>\n  </thead>\n  <tbody>\n    <tr>\n      <th>13</th>\n      <td>U344</td>\n      <td>2015-05-12-D01-SO-1</td>\n      <td>DE100N3</td>\n      <td>Sockeye Salmon</td>\n      <td>NaN</td>\n      <td>NaN</td>\n      <td>NaN</td>\n      <td>NaN</td>\n      <td>NaN</td>\n      <td>NaN</td>\n      <td>...</td>\n      <td>0.0</td>\n      <td>0.0</td>\n      <td>0.0</td>\n      <td>0.0</td>\n      <td>0.0</td>\n      <td>0.0</td>\n      <td>0</td>\n      <td>0</td>\n      <td>0.0</td>\n      <td>lportner_fine</td>\n    </tr>\n    <tr>\n      <th>14</th>\n      <td>U338</td>\n      <td>2015-05-12-D01-SO-10</td>\n      <td>DE100N3</td>\n      <td>Sockeye Salmon</td>\n      <td>NaN</td>\n      <td>NaN</td>\n      <td>NaN</td>\n      <td>NaN</td>\n      <td>NaN</td>\n      <td>NaN</td>\n      <td>...</td>\n      <td>0.0</td>\n      <td>0.0</td>\n      <td>0.0</td>\n      <td>6.0</td>\n      <td>0.0</td>\n      <td>0.0</td>\n      <td>0</td>\n      <td>0</td>\n      <td>0.0</td>\n      <td>lportner_fine</td>\n    </tr>\n    <tr>\n      <th>24</th>\n      <td>U340</td>\n      <td>2015-05-12-D01-SO-2</td>\n      <td>DE100N3</td>\n      <td>Sockeye Salmon</td>\n      <td>NaN</td>\n      <td>NaN</td>\n      <td>NaN</td>\n      <td>NaN</td>\n      <td>NaN</td>\n      <td>NaN</td>\n      <td>...</td>\n      <td>0.0</td>\n      <td>0.0</td>\n      <td>0.0</td>\n      <td>2.0</td>\n      <td>0.0</td>\n      <td>0.0</td>\n      <td>0</td>\n      <td>0</td>\n      <td>0.0</td>\n      <td>lportner_fine</td>\n    </tr>\n    <tr>\n      <th>35</th>\n      <td>U352</td>\n      <td>2015-05-12-D01-SO-3</td>\n      <td>DE100N3</td>\n      <td>Sockeye Salmon</td>\n      <td>NaN</td>\n      <td>NaN</td>\n      <td>NaN</td>\n      <td>NaN</td>\n      <td>NaN</td>\n      <td>NaN</td>\n      <td>...</td>\n      <td>0.0</td>\n      <td>0.0</td>\n      <td>0.0</td>\n      <td>4.0</td>\n      <td>0.0</td>\n      <td>0.0</td>\n      <td>0</td>\n      <td>0</td>\n      <td>0.0</td>\n      <td>lportner_fine</td>\n    </tr>\n    <tr>\n      <th>37</th>\n      <td>U337</td>\n      <td>2015-05-12-D01-SO-4</td>\n      <td>DE100N3</td>\n      <td>Sockeye Salmon</td>\n      <td>NaN</td>\n      <td>NaN</td>\n      <td>NaN</td>\n      <td>NaN</td>\n      <td>NaN</td>\n      <td>NaN</td>\n      <td>...</td>\n      <td>0.0</td>\n      <td>0.0</td>\n      <td>0.0</td>\n      <td>2.0</td>\n      <td>0.0</td>\n      <td>0.0</td>\n      <td>0</td>\n      <td>0</td>\n      <td>0.0</td>\n      <td>lportner_fine</td>\n    </tr>\n  </tbody>\n</table>\n<p>5 rows × 113 columns</p>\n</div>"
     },
     "execution_count": 823,
     "metadata": {},
     "output_type": "execute_result"
    }
   ],
   "source": [
    "lab_fish_lice_df.head()"
   ],
   "metadata": {
    "collapsed": false,
    "pycharm": {
     "name": "#%%\n"
    }
   }
  },
  {
   "cell_type": "code",
   "execution_count": 824,
   "outputs": [
    {
     "name": "stderr",
     "output_type": "stream",
     "text": [
      "/tmp/ipykernel_731336/2758052484.py:3: SettingWithCopyWarning: \n",
      "A value is trying to be set on a copy of a slice from a DataFrame.\n",
      "Try using .loc[row_indexer,col_indexer] = value instead\n",
      "\n",
      "See the caveats in the documentation: https://pandas.pydata.org/pandas-docs/stable/user_guide/indexing.html#returning-a-view-versus-a-copy\n",
      "  field_fish_lice_df['lep_cop'] = field_fish_lice_df['lep_cope_field']\n",
      "/tmp/ipykernel_731336/2758052484.py:4: SettingWithCopyWarning: \n",
      "A value is trying to be set on a copy of a slice from a DataFrame.\n",
      "Try using .loc[row_indexer,col_indexer] = value instead\n",
      "\n",
      "See the caveats in the documentation: https://pandas.pydata.org/pandas-docs/stable/user_guide/indexing.html#returning-a-view-versus-a-copy\n",
      "  field_fish_lice_df['lep_chal'] = 0  # Hakai doesn't differentiate species of chalimus in the field\n",
      "/tmp/ipykernel_731336/2758052484.py:6: SettingWithCopyWarning: \n",
      "A value is trying to be set on a copy of a slice from a DataFrame.\n",
      "Try using .loc[row_indexer,col_indexer] = value instead\n",
      "\n",
      "See the caveats in the documentation: https://pandas.pydata.org/pandas-docs/stable/user_guide/indexing.html#returning-a-view-versus-a-copy\n",
      "  field_fish_lice_df['lep_motile'] = field_fish_lice_df[field_lep_motile_cols].sum(axis=1)\n",
      "/tmp/ipykernel_731336/2758052484.py:7: SettingWithCopyWarning: \n",
      "A value is trying to be set on a copy of a slice from a DataFrame.\n",
      "Try using .loc[row_indexer,col_indexer] = value instead\n",
      "\n",
      "See the caveats in the documentation: https://pandas.pydata.org/pandas-docs/stable/user_guide/indexing.html#returning-a-view-versus-a-copy\n",
      "  field_fish_lice_df['lep_unknown'] = 0\n",
      "/tmp/ipykernel_731336/2758052484.py:8: SettingWithCopyWarning: \n",
      "A value is trying to be set on a copy of a slice from a DataFrame.\n",
      "Try using .loc[row_indexer,col_indexer] = value instead\n",
      "\n",
      "See the caveats in the documentation: https://pandas.pydata.org/pandas-docs/stable/user_guide/indexing.html#returning-a-view-versus-a-copy\n",
      "  field_fish_lice_df['cal_cop'] = field_fish_lice_df.cal_cope_field\n",
      "/tmp/ipykernel_731336/2758052484.py:9: SettingWithCopyWarning: \n",
      "A value is trying to be set on a copy of a slice from a DataFrame.\n",
      "Try using .loc[row_indexer,col_indexer] = value instead\n",
      "\n",
      "See the caveats in the documentation: https://pandas.pydata.org/pandas-docs/stable/user_guide/indexing.html#returning-a-view-versus-a-copy\n",
      "  field_fish_lice_df['cal_chal'] = field_fish_lice_df.chal_a_field + field_fish_lice_df.chal_b_field\n",
      "/tmp/ipykernel_731336/2758052484.py:10: SettingWithCopyWarning: \n",
      "A value is trying to be set on a copy of a slice from a DataFrame.\n",
      "Try using .loc[row_indexer,col_indexer] = value instead\n",
      "\n",
      "See the caveats in the documentation: https://pandas.pydata.org/pandas-docs/stable/user_guide/indexing.html#returning-a-view-versus-a-copy\n",
      "  field_fish_lice_df['cal_motile'] = field_fish_lice_df.cal_mot_field + field_fish_lice_df.cgf_field\n",
      "/tmp/ipykernel_731336/2758052484.py:11: SettingWithCopyWarning: \n",
      "A value is trying to be set on a copy of a slice from a DataFrame.\n",
      "Try using .loc[row_indexer,col_indexer] = value instead\n",
      "\n",
      "See the caveats in the documentation: https://pandas.pydata.org/pandas-docs/stable/user_guide/indexing.html#returning-a-view-versus-a-copy\n",
      "  field_fish_lice_df['cal_unknown'] = 0\n",
      "/tmp/ipykernel_731336/2758052484.py:12: SettingWithCopyWarning: \n",
      "A value is trying to be set on a copy of a slice from a DataFrame.\n",
      "Try using .loc[row_indexer,col_indexer] = value instead\n",
      "\n",
      "See the caveats in the documentation: https://pandas.pydata.org/pandas-docs/stable/user_guide/indexing.html#returning-a-view-versus-a-copy\n",
      "  field_fish_lice_df['unknown_cop'] = field_fish_lice_df.unid_cope_field\n",
      "/tmp/ipykernel_731336/2758052484.py:14: SettingWithCopyWarning: \n",
      "A value is trying to be set on a copy of a slice from a DataFrame.\n",
      "Try using .loc[row_indexer,col_indexer] = value instead\n",
      "\n",
      "See the caveats in the documentation: https://pandas.pydata.org/pandas-docs/stable/user_guide/indexing.html#returning-a-view-versus-a-copy\n",
      "  field_fish_lice_df['unknown_chal'] = field_fish_lice_df[field_unknown_chal_cols].sum(axis=1)\n",
      "/tmp/ipykernel_731336/2758052484.py:15: SettingWithCopyWarning: \n",
      "A value is trying to be set on a copy of a slice from a DataFrame.\n",
      "Try using .loc[row_indexer,col_indexer] = value instead\n",
      "\n",
      "See the caveats in the documentation: https://pandas.pydata.org/pandas-docs/stable/user_guide/indexing.html#returning-a-view-versus-a-copy\n",
      "  field_fish_lice_df['unknown_motile'] = 0\n",
      "/tmp/ipykernel_731336/2758052484.py:16: SettingWithCopyWarning: \n",
      "A value is trying to be set on a copy of a slice from a DataFrame.\n",
      "Try using .loc[row_indexer,col_indexer] = value instead\n",
      "\n",
      "See the caveats in the documentation: https://pandas.pydata.org/pandas-docs/stable/user_guide/indexing.html#returning-a-view-versus-a-copy\n",
      "  field_fish_lice_df['unknown_unknown'] = 0\n",
      "/tmp/ipykernel_731336/2758052484.py:19: SettingWithCopyWarning: \n",
      "A value is trying to be set on a copy of a slice from a DataFrame.\n",
      "Try using .loc[row_indexer,col_indexer] = value instead\n",
      "\n",
      "See the caveats in the documentation: https://pandas.pydata.org/pandas-docs/stable/user_guide/indexing.html#returning-a-view-versus-a-copy\n",
      "  field_fish_lice_df['lice_protocol'] = field_fish_lice_df.lice_id_protocol_field\n"
     ]
    }
   ],
   "source": [
    "# Get the lice counts for field-only fish\n",
    "\n",
    "field_fish_lice_df['lep_cop'] = field_fish_lice_df['lep_cope_field']\n",
    "field_fish_lice_df['lep_chal'] = 0  # Hakai doesn't differentiate species of chalimus in the field\n",
    "field_lep_motile_cols = ['lpam_field', 'lpaf_field', 'lam_field', 'laf_field', 'lgf_field']\n",
    "field_fish_lice_df['lep_motile'] = field_fish_lice_df[field_lep_motile_cols].sum(axis=1)\n",
    "field_fish_lice_df['lep_unknown'] = 0\n",
    "field_fish_lice_df['cal_cop'] = field_fish_lice_df.cal_cope_field\n",
    "field_fish_lice_df['cal_chal'] = field_fish_lice_df.chal_a_field + field_fish_lice_df.chal_b_field\n",
    "field_fish_lice_df['cal_motile'] = field_fish_lice_df.cal_mot_field + field_fish_lice_df.cgf_field\n",
    "field_fish_lice_df['cal_unknown'] = 0\n",
    "field_fish_lice_df['unknown_cop'] = field_fish_lice_df.unid_cope_field\n",
    "field_unknown_chal_cols = ['chal_a_field', 'chal_b_field', 'unid_chal_field']\n",
    "field_fish_lice_df['unknown_chal'] = field_fish_lice_df[field_unknown_chal_cols].sum(axis=1)\n",
    "field_fish_lice_df['unknown_motile'] = 0\n",
    "field_fish_lice_df['unknown_unknown'] = 0\n",
    "\n",
    "# keep the lice protocol\n",
    "field_fish_lice_df['lice_protocol'] = field_fish_lice_df.lice_id_protocol_field"
   ],
   "metadata": {
    "collapsed": false,
    "pycharm": {
     "name": "#%%\n"
    }
   }
  },
  {
   "cell_type": "code",
   "execution_count": 825,
   "outputs": [
    {
     "data": {
      "text/plain": "          ufn              semsp_id  seine_id fish_species package_id  \\\n0       U5531   2015-05-12-D01-CO-1   DE100N3  Coho Salmon        NaN   \n1       U5521   2015-05-12-D01-CU-1   DE100N3  Chum Salmon        NaN   \n2       U5530  2015-05-12-D01-CU-10   DE100N3  Chum Salmon        NaN   \n3       U5522   2015-05-12-D01-CU-2   DE100N3  Chum Salmon        NaN   \n4       U5523   2015-05-12-D01-CU-3   DE100N3  Chum Salmon        NaN   \n...       ...                   ...       ...          ...        ...   \n17240  U25207                   NaN  DE1028N1  Pink Salmon        NaN   \n17241  U25208                   NaN  DE1028N1  Pink Salmon        NaN   \n17242  U25209                   NaN  DE1028N1  Pink Salmon        NaN   \n17243  U25210                   NaN  DE1028N1  Pink Salmon        NaN   \n17244  U25211                   NaN  DE1028N1  Pink Salmon        NaN   \n\n      fish_time_out fish_time_dewar  fork_length_field  height_field  \\\n0               NaN             NaN                NaN           NaN   \n1               NaN             NaN                NaN           NaN   \n2               NaN             NaN                NaN           NaN   \n3               NaN             NaN                NaN           NaN   \n4               NaN             NaN                NaN           NaN   \n...             ...             ...                ...           ...   \n17240           NaN             NaN              104.0          19.0   \n17241           NaN             NaN              106.0          17.0   \n17242           NaN             NaN               83.0          13.0   \n17243           NaN             NaN               85.0          13.0   \n17244           NaN             NaN               86.0          13.0   \n\n       weight_field  ... lep_motile lep_unknown cal_chal cal_motile  \\\n0               NaN  ...        0.0           0      0.0        0.0   \n1               NaN  ...        0.0           0      0.0        0.0   \n2               NaN  ...        0.0           0      0.0        0.0   \n3               NaN  ...        0.0           0      0.0        0.0   \n4               NaN  ...        0.0           0      0.0        0.0   \n...             ...  ...        ...         ...      ...        ...   \n17240           9.9  ...        0.0           0      0.0        0.0   \n17241           9.0  ...        0.0           0      0.0        0.0   \n17242           5.0  ...        0.0           0      0.0        0.0   \n17243           5.9  ...        0.0           0      0.0        0.0   \n17244           5.8  ...        0.0           0      0.0        0.0   \n\n      cal_unknown unknown_cop unknown_chal  unknown_motile  unknown_unknown  \\\n0               0         0.0          0.0               0                0   \n1               0         0.0          0.0               0                0   \n2               0         0.0          0.0               0                0   \n3               0         0.0          0.0               0                0   \n4               0         0.0          0.0               0                0   \n...           ...         ...          ...             ...              ...   \n17240           0         0.0          0.0               0                0   \n17241           0         0.0          0.0               0                0   \n17242           0         0.0          0.0               0                0   \n17243           0         0.0          0.0               0                0   \n17244           0         0.0          0.0               0                0   \n\n                        lice_protocol  \n0                                 NaN  \n1                                 NaN  \n2                                 NaN  \n3                                 NaN  \n4                                 NaN  \n...                               ...  \n17240  modified_salmoncaost_allstages  \n17241  modified_salmoncaost_allstages  \n17242  modified_salmoncaost_allstages  \n17243  modified_salmoncaost_allstages  \n17244  modified_salmoncaost_allstages  \n\n[10168 rows x 114 columns]",
      "text/html": "<div>\n<style scoped>\n    .dataframe tbody tr th:only-of-type {\n        vertical-align: middle;\n    }\n\n    .dataframe tbody tr th {\n        vertical-align: top;\n    }\n\n    .dataframe thead th {\n        text-align: right;\n    }\n</style>\n<table border=\"1\" class=\"dataframe\">\n  <thead>\n    <tr style=\"text-align: right;\">\n      <th></th>\n      <th>ufn</th>\n      <th>semsp_id</th>\n      <th>seine_id</th>\n      <th>fish_species</th>\n      <th>package_id</th>\n      <th>fish_time_out</th>\n      <th>fish_time_dewar</th>\n      <th>fork_length_field</th>\n      <th>height_field</th>\n      <th>weight_field</th>\n      <th>...</th>\n      <th>lep_motile</th>\n      <th>lep_unknown</th>\n      <th>cal_chal</th>\n      <th>cal_motile</th>\n      <th>cal_unknown</th>\n      <th>unknown_cop</th>\n      <th>unknown_chal</th>\n      <th>unknown_motile</th>\n      <th>unknown_unknown</th>\n      <th>lice_protocol</th>\n    </tr>\n  </thead>\n  <tbody>\n    <tr>\n      <th>0</th>\n      <td>U5531</td>\n      <td>2015-05-12-D01-CO-1</td>\n      <td>DE100N3</td>\n      <td>Coho Salmon</td>\n      <td>NaN</td>\n      <td>NaN</td>\n      <td>NaN</td>\n      <td>NaN</td>\n      <td>NaN</td>\n      <td>NaN</td>\n      <td>...</td>\n      <td>0.0</td>\n      <td>0</td>\n      <td>0.0</td>\n      <td>0.0</td>\n      <td>0</td>\n      <td>0.0</td>\n      <td>0.0</td>\n      <td>0</td>\n      <td>0</td>\n      <td>NaN</td>\n    </tr>\n    <tr>\n      <th>1</th>\n      <td>U5521</td>\n      <td>2015-05-12-D01-CU-1</td>\n      <td>DE100N3</td>\n      <td>Chum Salmon</td>\n      <td>NaN</td>\n      <td>NaN</td>\n      <td>NaN</td>\n      <td>NaN</td>\n      <td>NaN</td>\n      <td>NaN</td>\n      <td>...</td>\n      <td>0.0</td>\n      <td>0</td>\n      <td>0.0</td>\n      <td>0.0</td>\n      <td>0</td>\n      <td>0.0</td>\n      <td>0.0</td>\n      <td>0</td>\n      <td>0</td>\n      <td>NaN</td>\n    </tr>\n    <tr>\n      <th>2</th>\n      <td>U5530</td>\n      <td>2015-05-12-D01-CU-10</td>\n      <td>DE100N3</td>\n      <td>Chum Salmon</td>\n      <td>NaN</td>\n      <td>NaN</td>\n      <td>NaN</td>\n      <td>NaN</td>\n      <td>NaN</td>\n      <td>NaN</td>\n      <td>...</td>\n      <td>0.0</td>\n      <td>0</td>\n      <td>0.0</td>\n      <td>0.0</td>\n      <td>0</td>\n      <td>0.0</td>\n      <td>0.0</td>\n      <td>0</td>\n      <td>0</td>\n      <td>NaN</td>\n    </tr>\n    <tr>\n      <th>3</th>\n      <td>U5522</td>\n      <td>2015-05-12-D01-CU-2</td>\n      <td>DE100N3</td>\n      <td>Chum Salmon</td>\n      <td>NaN</td>\n      <td>NaN</td>\n      <td>NaN</td>\n      <td>NaN</td>\n      <td>NaN</td>\n      <td>NaN</td>\n      <td>...</td>\n      <td>0.0</td>\n      <td>0</td>\n      <td>0.0</td>\n      <td>0.0</td>\n      <td>0</td>\n      <td>0.0</td>\n      <td>0.0</td>\n      <td>0</td>\n      <td>0</td>\n      <td>NaN</td>\n    </tr>\n    <tr>\n      <th>4</th>\n      <td>U5523</td>\n      <td>2015-05-12-D01-CU-3</td>\n      <td>DE100N3</td>\n      <td>Chum Salmon</td>\n      <td>NaN</td>\n      <td>NaN</td>\n      <td>NaN</td>\n      <td>NaN</td>\n      <td>NaN</td>\n      <td>NaN</td>\n      <td>...</td>\n      <td>0.0</td>\n      <td>0</td>\n      <td>0.0</td>\n      <td>0.0</td>\n      <td>0</td>\n      <td>0.0</td>\n      <td>0.0</td>\n      <td>0</td>\n      <td>0</td>\n      <td>NaN</td>\n    </tr>\n    <tr>\n      <th>...</th>\n      <td>...</td>\n      <td>...</td>\n      <td>...</td>\n      <td>...</td>\n      <td>...</td>\n      <td>...</td>\n      <td>...</td>\n      <td>...</td>\n      <td>...</td>\n      <td>...</td>\n      <td>...</td>\n      <td>...</td>\n      <td>...</td>\n      <td>...</td>\n      <td>...</td>\n      <td>...</td>\n      <td>...</td>\n      <td>...</td>\n      <td>...</td>\n      <td>...</td>\n      <td>...</td>\n    </tr>\n    <tr>\n      <th>17240</th>\n      <td>U25207</td>\n      <td>NaN</td>\n      <td>DE1028N1</td>\n      <td>Pink Salmon</td>\n      <td>NaN</td>\n      <td>NaN</td>\n      <td>NaN</td>\n      <td>104.0</td>\n      <td>19.0</td>\n      <td>9.9</td>\n      <td>...</td>\n      <td>0.0</td>\n      <td>0</td>\n      <td>0.0</td>\n      <td>0.0</td>\n      <td>0</td>\n      <td>0.0</td>\n      <td>0.0</td>\n      <td>0</td>\n      <td>0</td>\n      <td>modified_salmoncaost_allstages</td>\n    </tr>\n    <tr>\n      <th>17241</th>\n      <td>U25208</td>\n      <td>NaN</td>\n      <td>DE1028N1</td>\n      <td>Pink Salmon</td>\n      <td>NaN</td>\n      <td>NaN</td>\n      <td>NaN</td>\n      <td>106.0</td>\n      <td>17.0</td>\n      <td>9.0</td>\n      <td>...</td>\n      <td>0.0</td>\n      <td>0</td>\n      <td>0.0</td>\n      <td>0.0</td>\n      <td>0</td>\n      <td>0.0</td>\n      <td>0.0</td>\n      <td>0</td>\n      <td>0</td>\n      <td>modified_salmoncaost_allstages</td>\n    </tr>\n    <tr>\n      <th>17242</th>\n      <td>U25209</td>\n      <td>NaN</td>\n      <td>DE1028N1</td>\n      <td>Pink Salmon</td>\n      <td>NaN</td>\n      <td>NaN</td>\n      <td>NaN</td>\n      <td>83.0</td>\n      <td>13.0</td>\n      <td>5.0</td>\n      <td>...</td>\n      <td>0.0</td>\n      <td>0</td>\n      <td>0.0</td>\n      <td>0.0</td>\n      <td>0</td>\n      <td>0.0</td>\n      <td>0.0</td>\n      <td>0</td>\n      <td>0</td>\n      <td>modified_salmoncaost_allstages</td>\n    </tr>\n    <tr>\n      <th>17243</th>\n      <td>U25210</td>\n      <td>NaN</td>\n      <td>DE1028N1</td>\n      <td>Pink Salmon</td>\n      <td>NaN</td>\n      <td>NaN</td>\n      <td>NaN</td>\n      <td>85.0</td>\n      <td>13.0</td>\n      <td>5.9</td>\n      <td>...</td>\n      <td>0.0</td>\n      <td>0</td>\n      <td>0.0</td>\n      <td>0.0</td>\n      <td>0</td>\n      <td>0.0</td>\n      <td>0.0</td>\n      <td>0</td>\n      <td>0</td>\n      <td>modified_salmoncaost_allstages</td>\n    </tr>\n    <tr>\n      <th>17244</th>\n      <td>U25211</td>\n      <td>NaN</td>\n      <td>DE1028N1</td>\n      <td>Pink Salmon</td>\n      <td>NaN</td>\n      <td>NaN</td>\n      <td>NaN</td>\n      <td>86.0</td>\n      <td>13.0</td>\n      <td>5.8</td>\n      <td>...</td>\n      <td>0.0</td>\n      <td>0</td>\n      <td>0.0</td>\n      <td>0.0</td>\n      <td>0</td>\n      <td>0.0</td>\n      <td>0.0</td>\n      <td>0</td>\n      <td>0</td>\n      <td>modified_salmoncaost_allstages</td>\n    </tr>\n  </tbody>\n</table>\n<p>10168 rows × 114 columns</p>\n</div>"
     },
     "execution_count": 825,
     "metadata": {},
     "output_type": "execute_result"
    }
   ],
   "source": [
    "field_fish_lice_df.reindex()"
   ],
   "metadata": {
    "collapsed": false,
    "pycharm": {
     "name": "#%%\n"
    }
   }
  },
  {
   "cell_type": "code",
   "execution_count": 826,
   "outputs": [],
   "source": [
    "field_fish_lice_df = field_fish_lice_df.reindex(\n",
    "        columns=['event_id', 'fish_id', 'length','weight', 'height', 'fish_species',\n",
    "             'lep_cop', 'lep_chal', 'lep_motile', 'lep_unknown',\n",
    "             'cal_cop', 'cal_chal', 'cal_motile', 'cal_unknown',\n",
    "             'unknown_cop', 'unknown_chal', 'unknown_motile', 'unknown_unknown',\n",
    "             'lice_protocol']\n",
    ")"
   ],
   "metadata": {
    "collapsed": false,
    "pycharm": {
     "name": "#%%\n"
    }
   }
  },
  {
   "cell_type": "code",
   "execution_count": 826,
   "outputs": [],
   "source": [],
   "metadata": {
    "collapsed": false,
    "pycharm": {
     "name": "#%%\n"
    }
   }
  },
  {
   "cell_type": "code",
   "execution_count": 827,
   "outputs": [
    {
     "data": {
      "text/plain": "    ufn              semsp_id seine_id    fish_species package_id  \\\n0  U344   2015-05-12-D01-SO-1  DE100N3  Sockeye Salmon        NaN   \n1  U338  2015-05-12-D01-SO-10  DE100N3  Sockeye Salmon        NaN   \n2  U340   2015-05-12-D01-SO-2  DE100N3  Sockeye Salmon        NaN   \n3  U352   2015-05-12-D01-SO-3  DE100N3  Sockeye Salmon        NaN   \n4  U337   2015-05-12-D01-SO-4  DE100N3  Sockeye Salmon        NaN   \n\n  fish_time_out fish_time_dewar  fork_length_field  height_field  \\\n0           NaN             NaN                NaN           NaN   \n1           NaN             NaN                NaN           NaN   \n2           NaN             NaN                NaN           NaN   \n3           NaN             NaN                NaN           NaN   \n4           NaN             NaN                NaN           NaN   \n\n   weight_field  ... lep_motile lep_unknown cal_chal cal_motile cal_unknown  \\\n0           NaN  ...        0.0         0.0      0.0        0.0         0.0   \n1           NaN  ...        0.0         0.0      6.0        0.0         0.0   \n2           NaN  ...        0.0         0.0      2.0        0.0         0.0   \n3           NaN  ...        0.0         0.0      4.0        0.0         0.0   \n4           NaN  ...        0.0         0.0      2.0        0.0         0.0   \n\n  unknown_cop unknown_chal  unknown_unknown  lice_protocol  unknown_motile  \n0         0.0          0.0              0.0  lportner_fine             NaN  \n1         0.0          0.0              0.0  lportner_fine             NaN  \n2         0.0          0.0              0.0  lportner_fine             NaN  \n3         0.0          0.0              0.0  lportner_fine             NaN  \n4         0.0          0.0              0.0  lportner_fine             NaN  \n\n[5 rows x 114 columns]",
      "text/html": "<div>\n<style scoped>\n    .dataframe tbody tr th:only-of-type {\n        vertical-align: middle;\n    }\n\n    .dataframe tbody tr th {\n        vertical-align: top;\n    }\n\n    .dataframe thead th {\n        text-align: right;\n    }\n</style>\n<table border=\"1\" class=\"dataframe\">\n  <thead>\n    <tr style=\"text-align: right;\">\n      <th></th>\n      <th>ufn</th>\n      <th>semsp_id</th>\n      <th>seine_id</th>\n      <th>fish_species</th>\n      <th>package_id</th>\n      <th>fish_time_out</th>\n      <th>fish_time_dewar</th>\n      <th>fork_length_field</th>\n      <th>height_field</th>\n      <th>weight_field</th>\n      <th>...</th>\n      <th>lep_motile</th>\n      <th>lep_unknown</th>\n      <th>cal_chal</th>\n      <th>cal_motile</th>\n      <th>cal_unknown</th>\n      <th>unknown_cop</th>\n      <th>unknown_chal</th>\n      <th>unknown_unknown</th>\n      <th>lice_protocol</th>\n      <th>unknown_motile</th>\n    </tr>\n  </thead>\n  <tbody>\n    <tr>\n      <th>0</th>\n      <td>U344</td>\n      <td>2015-05-12-D01-SO-1</td>\n      <td>DE100N3</td>\n      <td>Sockeye Salmon</td>\n      <td>NaN</td>\n      <td>NaN</td>\n      <td>NaN</td>\n      <td>NaN</td>\n      <td>NaN</td>\n      <td>NaN</td>\n      <td>...</td>\n      <td>0.0</td>\n      <td>0.0</td>\n      <td>0.0</td>\n      <td>0.0</td>\n      <td>0.0</td>\n      <td>0.0</td>\n      <td>0.0</td>\n      <td>0.0</td>\n      <td>lportner_fine</td>\n      <td>NaN</td>\n    </tr>\n    <tr>\n      <th>1</th>\n      <td>U338</td>\n      <td>2015-05-12-D01-SO-10</td>\n      <td>DE100N3</td>\n      <td>Sockeye Salmon</td>\n      <td>NaN</td>\n      <td>NaN</td>\n      <td>NaN</td>\n      <td>NaN</td>\n      <td>NaN</td>\n      <td>NaN</td>\n      <td>...</td>\n      <td>0.0</td>\n      <td>0.0</td>\n      <td>6.0</td>\n      <td>0.0</td>\n      <td>0.0</td>\n      <td>0.0</td>\n      <td>0.0</td>\n      <td>0.0</td>\n      <td>lportner_fine</td>\n      <td>NaN</td>\n    </tr>\n    <tr>\n      <th>2</th>\n      <td>U340</td>\n      <td>2015-05-12-D01-SO-2</td>\n      <td>DE100N3</td>\n      <td>Sockeye Salmon</td>\n      <td>NaN</td>\n      <td>NaN</td>\n      <td>NaN</td>\n      <td>NaN</td>\n      <td>NaN</td>\n      <td>NaN</td>\n      <td>...</td>\n      <td>0.0</td>\n      <td>0.0</td>\n      <td>2.0</td>\n      <td>0.0</td>\n      <td>0.0</td>\n      <td>0.0</td>\n      <td>0.0</td>\n      <td>0.0</td>\n      <td>lportner_fine</td>\n      <td>NaN</td>\n    </tr>\n    <tr>\n      <th>3</th>\n      <td>U352</td>\n      <td>2015-05-12-D01-SO-3</td>\n      <td>DE100N3</td>\n      <td>Sockeye Salmon</td>\n      <td>NaN</td>\n      <td>NaN</td>\n      <td>NaN</td>\n      <td>NaN</td>\n      <td>NaN</td>\n      <td>NaN</td>\n      <td>...</td>\n      <td>0.0</td>\n      <td>0.0</td>\n      <td>4.0</td>\n      <td>0.0</td>\n      <td>0.0</td>\n      <td>0.0</td>\n      <td>0.0</td>\n      <td>0.0</td>\n      <td>lportner_fine</td>\n      <td>NaN</td>\n    </tr>\n    <tr>\n      <th>4</th>\n      <td>U337</td>\n      <td>2015-05-12-D01-SO-4</td>\n      <td>DE100N3</td>\n      <td>Sockeye Salmon</td>\n      <td>NaN</td>\n      <td>NaN</td>\n      <td>NaN</td>\n      <td>NaN</td>\n      <td>NaN</td>\n      <td>NaN</td>\n      <td>...</td>\n      <td>0.0</td>\n      <td>0.0</td>\n      <td>2.0</td>\n      <td>0.0</td>\n      <td>0.0</td>\n      <td>0.0</td>\n      <td>0.0</td>\n      <td>0.0</td>\n      <td>lportner_fine</td>\n      <td>NaN</td>\n    </tr>\n  </tbody>\n</table>\n<p>5 rows × 114 columns</p>\n</div>"
     },
     "execution_count": 827,
     "metadata": {},
     "output_type": "execute_result"
    }
   ],
   "source": [
    "# recombine the field and lab dataframes\n",
    "\n",
    "fish_lice_df = pd.concat([lab_fish_lice_df, field_fish_lice_df], ignore_index=True, sort=False)\n",
    "fish_lice_df.head()"
   ],
   "metadata": {
    "collapsed": false,
    "pycharm": {
     "name": "#%%\n"
    }
   }
  },
  {
   "cell_type": "code",
   "execution_count": 828,
   "outputs": [
    {
     "data": {
      "text/plain": "        event_id     fish_id  length  weight  height    fish_species  lep_cop  \\\n0  hakai_DE100N3  hakai_U344    95.0    10.3     NaN  Sockeye Salmon      0.0   \n1  hakai_DE100N3  hakai_U338   105.0    14.6     NaN  Sockeye Salmon      0.0   \n2  hakai_DE100N3  hakai_U340    95.0    11.7     NaN  Sockeye Salmon      0.0   \n3  hakai_DE100N3  hakai_U352    86.0     8.7     NaN  Sockeye Salmon      0.0   \n4  hakai_DE100N3  hakai_U337    95.0    10.6     NaN  Sockeye Salmon      0.0   \n\n   lep_chal  lep_motile  lep_unknown  cal_cop  cal_chal  cal_motile  \\\n0       0.0         0.0          0.0      0.0       0.0         0.0   \n1       0.0         0.0          0.0      0.0       6.0         0.0   \n2       0.0         0.0          0.0      0.0       2.0         0.0   \n3       0.0         0.0          0.0      0.0       4.0         0.0   \n4       0.0         0.0          0.0      0.0       2.0         0.0   \n\n   cal_unknown  unknown_cop  unknown_chal  unknown_motile  unknown_unknown  \\\n0          0.0          0.0           0.0             NaN              0.0   \n1          0.0          0.0           0.0             NaN              0.0   \n2          0.0          0.0           0.0             NaN              0.0   \n3          0.0          0.0           0.0             NaN              0.0   \n4          0.0          0.0           0.0             NaN              0.0   \n\n   lice_protocol  \n0  lportner_fine  \n1  lportner_fine  \n2  lportner_fine  \n3  lportner_fine  \n4  lportner_fine  ",
      "text/html": "<div>\n<style scoped>\n    .dataframe tbody tr th:only-of-type {\n        vertical-align: middle;\n    }\n\n    .dataframe tbody tr th {\n        vertical-align: top;\n    }\n\n    .dataframe thead th {\n        text-align: right;\n    }\n</style>\n<table border=\"1\" class=\"dataframe\">\n  <thead>\n    <tr style=\"text-align: right;\">\n      <th></th>\n      <th>event_id</th>\n      <th>fish_id</th>\n      <th>length</th>\n      <th>weight</th>\n      <th>height</th>\n      <th>fish_species</th>\n      <th>lep_cop</th>\n      <th>lep_chal</th>\n      <th>lep_motile</th>\n      <th>lep_unknown</th>\n      <th>cal_cop</th>\n      <th>cal_chal</th>\n      <th>cal_motile</th>\n      <th>cal_unknown</th>\n      <th>unknown_cop</th>\n      <th>unknown_chal</th>\n      <th>unknown_motile</th>\n      <th>unknown_unknown</th>\n      <th>lice_protocol</th>\n    </tr>\n  </thead>\n  <tbody>\n    <tr>\n      <th>0</th>\n      <td>hakai_DE100N3</td>\n      <td>hakai_U344</td>\n      <td>95.0</td>\n      <td>10.3</td>\n      <td>NaN</td>\n      <td>Sockeye Salmon</td>\n      <td>0.0</td>\n      <td>0.0</td>\n      <td>0.0</td>\n      <td>0.0</td>\n      <td>0.0</td>\n      <td>0.0</td>\n      <td>0.0</td>\n      <td>0.0</td>\n      <td>0.0</td>\n      <td>0.0</td>\n      <td>NaN</td>\n      <td>0.0</td>\n      <td>lportner_fine</td>\n    </tr>\n    <tr>\n      <th>1</th>\n      <td>hakai_DE100N3</td>\n      <td>hakai_U338</td>\n      <td>105.0</td>\n      <td>14.6</td>\n      <td>NaN</td>\n      <td>Sockeye Salmon</td>\n      <td>0.0</td>\n      <td>0.0</td>\n      <td>0.0</td>\n      <td>0.0</td>\n      <td>0.0</td>\n      <td>6.0</td>\n      <td>0.0</td>\n      <td>0.0</td>\n      <td>0.0</td>\n      <td>0.0</td>\n      <td>NaN</td>\n      <td>0.0</td>\n      <td>lportner_fine</td>\n    </tr>\n    <tr>\n      <th>2</th>\n      <td>hakai_DE100N3</td>\n      <td>hakai_U340</td>\n      <td>95.0</td>\n      <td>11.7</td>\n      <td>NaN</td>\n      <td>Sockeye Salmon</td>\n      <td>0.0</td>\n      <td>0.0</td>\n      <td>0.0</td>\n      <td>0.0</td>\n      <td>0.0</td>\n      <td>2.0</td>\n      <td>0.0</td>\n      <td>0.0</td>\n      <td>0.0</td>\n      <td>0.0</td>\n      <td>NaN</td>\n      <td>0.0</td>\n      <td>lportner_fine</td>\n    </tr>\n    <tr>\n      <th>3</th>\n      <td>hakai_DE100N3</td>\n      <td>hakai_U352</td>\n      <td>86.0</td>\n      <td>8.7</td>\n      <td>NaN</td>\n      <td>Sockeye Salmon</td>\n      <td>0.0</td>\n      <td>0.0</td>\n      <td>0.0</td>\n      <td>0.0</td>\n      <td>0.0</td>\n      <td>4.0</td>\n      <td>0.0</td>\n      <td>0.0</td>\n      <td>0.0</td>\n      <td>0.0</td>\n      <td>NaN</td>\n      <td>0.0</td>\n      <td>lportner_fine</td>\n    </tr>\n    <tr>\n      <th>4</th>\n      <td>hakai_DE100N3</td>\n      <td>hakai_U337</td>\n      <td>95.0</td>\n      <td>10.6</td>\n      <td>NaN</td>\n      <td>Sockeye Salmon</td>\n      <td>0.0</td>\n      <td>0.0</td>\n      <td>0.0</td>\n      <td>0.0</td>\n      <td>0.0</td>\n      <td>2.0</td>\n      <td>0.0</td>\n      <td>0.0</td>\n      <td>0.0</td>\n      <td>0.0</td>\n      <td>NaN</td>\n      <td>0.0</td>\n      <td>lportner_fine</td>\n    </tr>\n  </tbody>\n</table>\n</div>"
     },
     "execution_count": 828,
     "metadata": {},
     "output_type": "execute_result"
    }
   ],
   "source": [
    "# restrict to the columns we want\n",
    "hakai_fish_lice_df = fish_lice_df.reindex(\n",
    "    columns=['event_id', 'fish_id', 'length','weight', 'height', 'fish_species',\n",
    "             'lep_cop', 'lep_chal', 'lep_motile', 'lep_unknown',\n",
    "             'cal_cop', 'cal_chal', 'cal_motile', 'cal_unknown',\n",
    "             'unknown_cop', 'unknown_chal', 'unknown_motile', 'unknown_unknown',\n",
    "             'lice_protocol'])\n",
    "hakai_fish_lice_df.head()"
   ],
   "metadata": {
    "collapsed": false,
    "pycharm": {
     "name": "#%%\n"
    }
   }
  },
  {
   "cell_type": "code",
   "execution_count": 829,
   "outputs": [
    {
     "data": {
      "text/plain": "array(['lportner_fine', 'lab_motiles', nan, 'salmoncoast_allstages',\n       'salmoncoast_motiles', 'presence/absence',\n       'modified_salmoncaost_allstages'], dtype=object)"
     },
     "execution_count": 829,
     "metadata": {},
     "output_type": "execute_result"
    }
   ],
   "source": [
    "hakai_fish_lice_df.lice_protocol.unique()"
   ],
   "metadata": {
    "collapsed": false,
    "pycharm": {
     "name": "#%%\n"
    }
   }
  },
  {
   "cell_type": "code",
   "execution_count": 830,
   "outputs": [],
   "source": [
    "hakai_fish_lice_df.to_csv(hakai_formatted_lice_filepath, index=False)"
   ],
   "metadata": {
    "collapsed": false,
    "pycharm": {
     "name": "#%%\n"
    }
   }
  },
  {
   "cell_type": "code",
   "execution_count": 830,
   "outputs": [],
   "source": [],
   "metadata": {
    "collapsed": false,
    "pycharm": {
     "name": "#%%\n"
    }
   }
  },
  {
   "cell_type": "code",
   "execution_count": 831,
   "outputs": [
    {
     "data": {
      "text/plain": "Index(['event_id', 'sampledate', 'region', 'dfozone', 'sample_site',\n       'latitude', 'longitude', 'source'],\n      dtype='object')"
     },
     "execution_count": 831,
     "metadata": {},
     "output_type": "execute_result"
    }
   ],
   "source": [
    "hakai_events_df.columns"
   ],
   "metadata": {
    "collapsed": false,
    "pycharm": {
     "name": "#%%\n"
    }
   }
  },
  {
   "cell_type": "code",
   "execution_count": 832,
   "outputs": [
    {
     "data": {
      "text/plain": "dtype('<M8[ns]')"
     },
     "execution_count": 832,
     "metadata": {},
     "output_type": "execute_result"
    }
   ],
   "source": [
    "hakai_events_df.sampledate.dtype"
   ],
   "metadata": {
    "collapsed": false,
    "pycharm": {
     "name": "#%%\n"
    }
   }
  },
  {
   "cell_type": "code",
   "execution_count": 832,
   "outputs": [],
   "source": [],
   "metadata": {
    "collapsed": false,
    "pycharm": {
     "name": "#%%\n"
    }
   }
  }
 ],
 "metadata": {
  "kernelspec": {
   "display_name": "Python 3",
   "language": "python",
   "name": "python3"
  },
  "language_info": {
   "codemirror_mode": {
    "name": "ipython",
    "version": 2
   },
   "file_extension": ".py",
   "mimetype": "text/x-python",
   "name": "python",
   "nbconvert_exporter": "python",
   "pygments_lexer": "ipython2",
   "version": "2.7.6"
  }
 },
 "nbformat": 4,
 "nbformat_minor": 0
}