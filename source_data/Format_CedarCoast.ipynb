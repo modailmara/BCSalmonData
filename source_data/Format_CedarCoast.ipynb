{
 "cells": [
  {
   "cell_type": "markdown",
   "source": [
    "## This Notebook formats the Salmon Coast Research Station wild sampling data to fit the format of our wild sampling data.\n",
    "### To integrate it with other wild data, run 'Integrate_Wild_Data.ipynb' after generating the formatted data.\n",
    "\n",
    "The data was downloaded on 13 March 2025 from [GitHub](https://github.com/CedarCoastFieldStation/Sea-lice-database). The [Cedar Coast site](https://cedarcoastsociety.org)"
   ],
   "metadata": {
    "collapsed": false,
    "pycharm": {
     "name": "#%% md\n"
    }
   }
  },
  {
   "cell_type": "code",
   "execution_count": 555,
   "outputs": [],
   "source": [
    "import pandas as pd\n",
    "from pathlib import Path"
   ],
   "metadata": {
    "collapsed": false,
    "pycharm": {
     "name": "#%%\n"
    }
   }
  },
  {
   "cell_type": "markdown",
   "source": [
    "### Configuration variables for this notebook\n",
    "Adjust for your local setup"
   ],
   "metadata": {
    "collapsed": false,
    "pycharm": {
     "name": "#%% md\n"
    }
   }
  },
  {
   "cell_type": "code",
   "execution_count": 556,
   "outputs": [],
   "source": [
    "# paths to the source Cedar Creek data files\n",
    "ccfs_wild_data_dir = Path('CedarCoast') / 'Data'\n",
    "ccfs_events_filepath = ccfs_wild_data_dir / 'ClayoquotSeaLice_Site_Data.csv'\n",
    "ccfs_fish_lice_filepath = ccfs_wild_data_dir / 'ClayoquotSeaLice_fishData.csv'\n",
    "\n",
    "# output paths for writing the formatted Cedar Creek Field Station data\n",
    "wild_data_dir = Path('.')\n",
    "ccfs_formatted_events_filepath = wild_data_dir / 'cedar_coast_wild_sample_events.csv'\n",
    "ccfs_formatted_lice_filepath = wild_data_dir / 'cedar_coast_wild_fish_lice.csv'"
   ],
   "metadata": {
    "collapsed": false,
    "pycharm": {
     "name": "#%%\n"
    }
   }
  },
  {
   "cell_type": "markdown",
   "source": [
    "# Format the event file"
   ],
   "metadata": {
    "collapsed": false,
    "pycharm": {
     "name": "#%% md\n"
    }
   }
  },
  {
   "cell_type": "code",
   "execution_count": 557,
   "outputs": [
    {
     "data": {
      "text/plain": "  sampledate  Site ID time     location  salt_surf  salt_1m  temp_surf  \\\n0 2018-04-26        1  NaN   Buckle Bay        NaN      NaN        NaN   \n1 2018-05-16        2  NaN   Buckle Bay      28.04    28.11      11.88   \n2 2018-05-16        3  NaN   Elbow Bank      26.73    26.65      12.12   \n3 2018-05-16        4  NaN  Cypre River      25.10    25.18      12.28   \n4 2018-05-10        5  NaN   Elbow Bank      24.80    24.81      11.56   \n\n   temp_1m  salmon_captured  salmon_examined  ...  chum_examined  \\\n0      NaN             47.0             47.0  ...           47.0   \n1    11.72             35.0             16.0  ...           16.0   \n2    12.14             53.0             53.0  ...           48.0   \n3    12.12              8.0              8.0  ...            NaN   \n4    11.47             26.0             26.0  ...           26.0   \n\n   sockeye_examined  morts_recovery  morts_other  P_ratio  C_ratio   latitude  \\\n0               NaN             NaN          NaN      NaN      NaN        NaN   \n1               NaN             NaN          NaN      NaN      NaN  49°10.921   \n2               NaN             NaN          NaN      NaN      NaN  49°12.290   \n3               NaN             NaN          NaN      NaN      NaN  49°16.192   \n4               NaN             NaN          NaN      NaN      NaN  49°11.798   \n\n      longitude                                            bycatch notes  \n0           NaN                                                NaN   NaN  \n1  --125°57.883                                         1 oolichan   NaN  \n2  --125°57.134  tube snout, 4 lingcod, 4 flatfish, 2 sculpin, ...   NaN  \n3  --125°54.358                                         tube snout   NaN  \n4   -125°56.885            1 sculpin, 25-30 flatfish, juvenile cod   NaN  \n\n[5 rows x 23 columns]",
      "text/html": "<div>\n<style scoped>\n    .dataframe tbody tr th:only-of-type {\n        vertical-align: middle;\n    }\n\n    .dataframe tbody tr th {\n        vertical-align: top;\n    }\n\n    .dataframe thead th {\n        text-align: right;\n    }\n</style>\n<table border=\"1\" class=\"dataframe\">\n  <thead>\n    <tr style=\"text-align: right;\">\n      <th></th>\n      <th>sampledate</th>\n      <th>Site ID</th>\n      <th>time</th>\n      <th>location</th>\n      <th>salt_surf</th>\n      <th>salt_1m</th>\n      <th>temp_surf</th>\n      <th>temp_1m</th>\n      <th>salmon_captured</th>\n      <th>salmon_examined</th>\n      <th>...</th>\n      <th>chum_examined</th>\n      <th>sockeye_examined</th>\n      <th>morts_recovery</th>\n      <th>morts_other</th>\n      <th>P_ratio</th>\n      <th>C_ratio</th>\n      <th>latitude</th>\n      <th>longitude</th>\n      <th>bycatch</th>\n      <th>notes</th>\n    </tr>\n  </thead>\n  <tbody>\n    <tr>\n      <th>0</th>\n      <td>2018-04-26</td>\n      <td>1</td>\n      <td>NaN</td>\n      <td>Buckle Bay</td>\n      <td>NaN</td>\n      <td>NaN</td>\n      <td>NaN</td>\n      <td>NaN</td>\n      <td>47.0</td>\n      <td>47.0</td>\n      <td>...</td>\n      <td>47.0</td>\n      <td>NaN</td>\n      <td>NaN</td>\n      <td>NaN</td>\n      <td>NaN</td>\n      <td>NaN</td>\n      <td>NaN</td>\n      <td>NaN</td>\n      <td>NaN</td>\n      <td>NaN</td>\n    </tr>\n    <tr>\n      <th>1</th>\n      <td>2018-05-16</td>\n      <td>2</td>\n      <td>NaN</td>\n      <td>Buckle Bay</td>\n      <td>28.04</td>\n      <td>28.11</td>\n      <td>11.88</td>\n      <td>11.72</td>\n      <td>35.0</td>\n      <td>16.0</td>\n      <td>...</td>\n      <td>16.0</td>\n      <td>NaN</td>\n      <td>NaN</td>\n      <td>NaN</td>\n      <td>NaN</td>\n      <td>NaN</td>\n      <td>49°10.921</td>\n      <td>--125°57.883</td>\n      <td>1 oolichan</td>\n      <td>NaN</td>\n    </tr>\n    <tr>\n      <th>2</th>\n      <td>2018-05-16</td>\n      <td>3</td>\n      <td>NaN</td>\n      <td>Elbow Bank</td>\n      <td>26.73</td>\n      <td>26.65</td>\n      <td>12.12</td>\n      <td>12.14</td>\n      <td>53.0</td>\n      <td>53.0</td>\n      <td>...</td>\n      <td>48.0</td>\n      <td>NaN</td>\n      <td>NaN</td>\n      <td>NaN</td>\n      <td>NaN</td>\n      <td>NaN</td>\n      <td>49°12.290</td>\n      <td>--125°57.134</td>\n      <td>tube snout, 4 lingcod, 4 flatfish, 2 sculpin, ...</td>\n      <td>NaN</td>\n    </tr>\n    <tr>\n      <th>3</th>\n      <td>2018-05-16</td>\n      <td>4</td>\n      <td>NaN</td>\n      <td>Cypre River</td>\n      <td>25.10</td>\n      <td>25.18</td>\n      <td>12.28</td>\n      <td>12.12</td>\n      <td>8.0</td>\n      <td>8.0</td>\n      <td>...</td>\n      <td>NaN</td>\n      <td>NaN</td>\n      <td>NaN</td>\n      <td>NaN</td>\n      <td>NaN</td>\n      <td>NaN</td>\n      <td>49°16.192</td>\n      <td>--125°54.358</td>\n      <td>tube snout</td>\n      <td>NaN</td>\n    </tr>\n    <tr>\n      <th>4</th>\n      <td>2018-05-10</td>\n      <td>5</td>\n      <td>NaN</td>\n      <td>Elbow Bank</td>\n      <td>24.80</td>\n      <td>24.81</td>\n      <td>11.56</td>\n      <td>11.47</td>\n      <td>26.0</td>\n      <td>26.0</td>\n      <td>...</td>\n      <td>26.0</td>\n      <td>NaN</td>\n      <td>NaN</td>\n      <td>NaN</td>\n      <td>NaN</td>\n      <td>NaN</td>\n      <td>49°11.798</td>\n      <td>-125°56.885</td>\n      <td>1 sculpin, 25-30 flatfish, juvenile cod</td>\n      <td>NaN</td>\n    </tr>\n  </tbody>\n</table>\n<p>5 rows × 23 columns</p>\n</div>"
     },
     "execution_count": 557,
     "metadata": {},
     "output_type": "execute_result"
    }
   ],
   "source": [
    "# read in the event file and parse the year, month, day columns into a date\n",
    "ccfs_events_df = pd.read_csv(ccfs_events_filepath, parse_dates={'sampledate': ['year', 'month', 'day']})\n",
    "ccfs_events_df.head()"
   ],
   "metadata": {
    "collapsed": false,
    "pycharm": {
     "name": "#%%\n"
    }
   }
  },
  {
   "cell_type": "code",
   "execution_count": 558,
   "outputs": [
    {
     "data": {
      "text/plain": "array(['2018-04-26T00:00:00.000000000', '2018-05-16T00:00:00.000000000',\n       '2018-05-10T00:00:00.000000000', '2018-05-23T00:00:00.000000000',\n       '2018-05-27T00:00:00.000000000', '2018-06-09T00:00:00.000000000',\n       '2018-06-23T00:00:00.000000000', '2019-03-01T00:00:00.000000000',\n       '2019-03-05T00:00:00.000000000', '2019-03-14T00:00:00.000000000',\n       '2019-03-29T00:00:00.000000000', '2019-04-10T00:00:00.000000000',\n       '2019-04-17T00:00:00.000000000', '2019-04-18T00:00:00.000000000',\n       '2019-04-25T00:00:00.000000000', '2019-04-30T00:00:00.000000000',\n       '2019-05-01T00:00:00.000000000', '2019-05-02T00:00:00.000000000',\n       '2019-05-04T00:00:00.000000000', '2019-05-08T00:00:00.000000000',\n       '2019-05-10T00:00:00.000000000', '2019-05-14T00:00:00.000000000',\n       '2019-05-15T00:00:00.000000000', '2019-05-22T00:00:00.000000000',\n       '2019-05-23T00:00:00.000000000', '2019-05-30T00:00:00.000000000',\n       '2019-05-31T00:00:00.000000000', '2019-06-01T00:00:00.000000000',\n       '2019-06-08T00:00:00.000000000', '2019-06-13T00:00:00.000000000',\n       '2019-06-14T00:00:00.000000000', '2019-06-17T00:00:00.000000000',\n       '2019-06-20T00:00:00.000000000', '2019-07-04T00:00:00.000000000',\n       '2019-07-10T00:00:00.000000000', '2020-03-13T00:00:00.000000000',\n       '2020-04-10T00:00:00.000000000', '2020-04-18T00:00:00.000000000',\n       '2020-04-24T00:00:00.000000000', '2020-04-30T00:00:00.000000000',\n       '2020-05-08T00:00:00.000000000', '2020-05-15T00:00:00.000000000',\n       '2020-05-23T00:00:00.000000000', '2020-05-30T00:00:00.000000000',\n       '2020-06-05T00:00:00.000000000', '2020-06-12T00:00:00.000000000',\n       '2020-06-19T00:00:00.000000000', '2020-06-26T00:00:00.000000000',\n       '2020-07-05T00:00:00.000000000', '2021-03-26T00:00:00.000000000',\n       '2021-04-02T00:00:00.000000000', '2021-04-11T00:00:00.000000000',\n       '2021-04-14T00:00:00.000000000', '2021-04-15T00:00:00.000000000',\n       '2021-04-16T00:00:00.000000000', '2021-04-22T00:00:00.000000000',\n       '2021-04-23T00:00:00.000000000', '2021-04-28T00:00:00.000000000',\n       '2021-04-29T00:00:00.000000000', '2021-04-30T00:00:00.000000000',\n       '2021-05-06T00:00:00.000000000', '2021-05-07T00:00:00.000000000',\n       '2021-05-12T00:00:00.000000000', '2021-05-13T00:00:00.000000000',\n       '2021-05-14T00:00:00.000000000', '2021-05-19T00:00:00.000000000',\n       '2021-05-25T00:00:00.000000000', '2021-06-01T00:00:00.000000000',\n       '2021-06-09T00:00:00.000000000', '2021-06-17T00:00:00.000000000'],\n      dtype='datetime64[ns]')"
     },
     "execution_count": 558,
     "metadata": {},
     "output_type": "execute_result"
    }
   ],
   "source": [
    "ccfs_events_df.sampledate.unique()"
   ],
   "metadata": {
    "collapsed": false,
    "pycharm": {
     "name": "#%%\n"
    }
   }
  },
  {
   "cell_type": "code",
   "execution_count": 559,
   "outputs": [
    {
     "data": {
      "text/plain": "False"
     },
     "execution_count": 559,
     "metadata": {},
     "output_type": "execute_result"
    }
   ],
   "source": [
    "len(ccfs_events_df) == len(ccfs_events_df['Site ID'].unique())"
   ],
   "metadata": {
    "collapsed": false,
    "pycharm": {
     "name": "#%%\n"
    }
   }
  },
  {
   "cell_type": "code",
   "execution_count": 560,
   "outputs": [
    {
     "data": {
      "text/plain": "  sampledate  Site ID time     location  salt_surf  salt_1m  temp_surf  \\\n0 2018-04-26        1  NaN   Buckle Bay        NaN      NaN        NaN   \n1 2018-05-16        2  NaN   Buckle Bay      28.04    28.11      11.88   \n2 2018-05-16        3  NaN   Elbow Bank      26.73    26.65      12.12   \n3 2018-05-16        4  NaN  Cypre River      25.10    25.18      12.28   \n4 2018-05-10        5  NaN   Elbow Bank      24.80    24.81      11.56   \n\n   temp_1m  salmon_captured  salmon_examined  ...  sockeye_examined  \\\n0      NaN             47.0             47.0  ...               NaN   \n1    11.72             35.0             16.0  ...               NaN   \n2    12.14             53.0             53.0  ...               NaN   \n3    12.12              8.0              8.0  ...               NaN   \n4    11.47             26.0             26.0  ...               NaN   \n\n   morts_recovery  morts_other  P_ratio  C_ratio   latitude     longitude  \\\n0             NaN          NaN      NaN      NaN        NaN           NaN   \n1             NaN          NaN      NaN      NaN  49°10.921  --125°57.883   \n2             NaN          NaN      NaN      NaN  49°12.290  --125°57.134   \n3             NaN          NaN      NaN      NaN  49°16.192  --125°54.358   \n4             NaN          NaN      NaN      NaN  49°11.798   -125°56.885   \n\n                                             bycatch  notes           event_id  \n0                                                NaN    NaN  ccfs_2018-04-26_1  \n1                                         1 oolichan    NaN  ccfs_2018-05-16_2  \n2  tube snout, 4 lingcod, 4 flatfish, 2 sculpin, ...    NaN  ccfs_2018-05-16_3  \n3                                         tube snout    NaN  ccfs_2018-05-16_4  \n4            1 sculpin, 25-30 flatfish, juvenile cod    NaN  ccfs_2018-05-10_5  \n\n[5 rows x 24 columns]",
      "text/html": "<div>\n<style scoped>\n    .dataframe tbody tr th:only-of-type {\n        vertical-align: middle;\n    }\n\n    .dataframe tbody tr th {\n        vertical-align: top;\n    }\n\n    .dataframe thead th {\n        text-align: right;\n    }\n</style>\n<table border=\"1\" class=\"dataframe\">\n  <thead>\n    <tr style=\"text-align: right;\">\n      <th></th>\n      <th>sampledate</th>\n      <th>Site ID</th>\n      <th>time</th>\n      <th>location</th>\n      <th>salt_surf</th>\n      <th>salt_1m</th>\n      <th>temp_surf</th>\n      <th>temp_1m</th>\n      <th>salmon_captured</th>\n      <th>salmon_examined</th>\n      <th>...</th>\n      <th>sockeye_examined</th>\n      <th>morts_recovery</th>\n      <th>morts_other</th>\n      <th>P_ratio</th>\n      <th>C_ratio</th>\n      <th>latitude</th>\n      <th>longitude</th>\n      <th>bycatch</th>\n      <th>notes</th>\n      <th>event_id</th>\n    </tr>\n  </thead>\n  <tbody>\n    <tr>\n      <th>0</th>\n      <td>2018-04-26</td>\n      <td>1</td>\n      <td>NaN</td>\n      <td>Buckle Bay</td>\n      <td>NaN</td>\n      <td>NaN</td>\n      <td>NaN</td>\n      <td>NaN</td>\n      <td>47.0</td>\n      <td>47.0</td>\n      <td>...</td>\n      <td>NaN</td>\n      <td>NaN</td>\n      <td>NaN</td>\n      <td>NaN</td>\n      <td>NaN</td>\n      <td>NaN</td>\n      <td>NaN</td>\n      <td>NaN</td>\n      <td>NaN</td>\n      <td>ccfs_2018-04-26_1</td>\n    </tr>\n    <tr>\n      <th>1</th>\n      <td>2018-05-16</td>\n      <td>2</td>\n      <td>NaN</td>\n      <td>Buckle Bay</td>\n      <td>28.04</td>\n      <td>28.11</td>\n      <td>11.88</td>\n      <td>11.72</td>\n      <td>35.0</td>\n      <td>16.0</td>\n      <td>...</td>\n      <td>NaN</td>\n      <td>NaN</td>\n      <td>NaN</td>\n      <td>NaN</td>\n      <td>NaN</td>\n      <td>49°10.921</td>\n      <td>--125°57.883</td>\n      <td>1 oolichan</td>\n      <td>NaN</td>\n      <td>ccfs_2018-05-16_2</td>\n    </tr>\n    <tr>\n      <th>2</th>\n      <td>2018-05-16</td>\n      <td>3</td>\n      <td>NaN</td>\n      <td>Elbow Bank</td>\n      <td>26.73</td>\n      <td>26.65</td>\n      <td>12.12</td>\n      <td>12.14</td>\n      <td>53.0</td>\n      <td>53.0</td>\n      <td>...</td>\n      <td>NaN</td>\n      <td>NaN</td>\n      <td>NaN</td>\n      <td>NaN</td>\n      <td>NaN</td>\n      <td>49°12.290</td>\n      <td>--125°57.134</td>\n      <td>tube snout, 4 lingcod, 4 flatfish, 2 sculpin, ...</td>\n      <td>NaN</td>\n      <td>ccfs_2018-05-16_3</td>\n    </tr>\n    <tr>\n      <th>3</th>\n      <td>2018-05-16</td>\n      <td>4</td>\n      <td>NaN</td>\n      <td>Cypre River</td>\n      <td>25.10</td>\n      <td>25.18</td>\n      <td>12.28</td>\n      <td>12.12</td>\n      <td>8.0</td>\n      <td>8.0</td>\n      <td>...</td>\n      <td>NaN</td>\n      <td>NaN</td>\n      <td>NaN</td>\n      <td>NaN</td>\n      <td>NaN</td>\n      <td>49°16.192</td>\n      <td>--125°54.358</td>\n      <td>tube snout</td>\n      <td>NaN</td>\n      <td>ccfs_2018-05-16_4</td>\n    </tr>\n    <tr>\n      <th>4</th>\n      <td>2018-05-10</td>\n      <td>5</td>\n      <td>NaN</td>\n      <td>Elbow Bank</td>\n      <td>24.80</td>\n      <td>24.81</td>\n      <td>11.56</td>\n      <td>11.47</td>\n      <td>26.0</td>\n      <td>26.0</td>\n      <td>...</td>\n      <td>NaN</td>\n      <td>NaN</td>\n      <td>NaN</td>\n      <td>NaN</td>\n      <td>NaN</td>\n      <td>49°11.798</td>\n      <td>-125°56.885</td>\n      <td>1 sculpin, 25-30 flatfish, juvenile cod</td>\n      <td>NaN</td>\n      <td>ccfs_2018-05-10_5</td>\n    </tr>\n  </tbody>\n</table>\n<p>5 rows × 24 columns</p>\n</div>"
     },
     "execution_count": 560,
     "metadata": {},
     "output_type": "execute_result"
    }
   ],
   "source": [
    "# the Site ID column is not unique (there is one repeat) so can't be used as an event ID.\n",
    "# However, date and site ID is, so use that with the Cedar Creek prefix so it's globally unique\n",
    "ccfs_events_df['event_id'] = 'ccfs_' \\\n",
    "                             + ccfs_events_df.sampledate.astype(str).str.strip() \\\n",
    "                             + '_' + ccfs_events_df['Site ID'].astype(str).str.strip()\n",
    "ccfs_events_df.head()"
   ],
   "metadata": {
    "collapsed": false,
    "pycharm": {
     "name": "#%%\n"
    }
   }
  },
  {
   "cell_type": "code",
   "execution_count": 561,
   "outputs": [
    {
     "data": {
      "text/plain": "True"
     },
     "execution_count": 561,
     "metadata": {},
     "output_type": "execute_result"
    }
   ],
   "source": [
    "len(ccfs_events_df) == len(ccfs_events_df['event_id'].unique())"
   ],
   "metadata": {
    "collapsed": false,
    "pycharm": {
     "name": "#%%\n"
    }
   }
  },
  {
   "cell_type": "code",
   "execution_count": 562,
   "outputs": [
    {
     "data": {
      "text/plain": "184"
     },
     "execution_count": 562,
     "metadata": {},
     "output_type": "execute_result"
    }
   ],
   "source": [
    "# debugging\n",
    "event_event_ids = list(ccfs_events_df.event_id.unique())\n",
    "len(event_event_ids)"
   ],
   "metadata": {
    "collapsed": false,
    "pycharm": {
     "name": "#%%\n"
    }
   }
  },
  {
   "cell_type": "code",
   "execution_count": 563,
   "outputs": [
    {
     "data": {
      "text/plain": "True"
     },
     "execution_count": 563,
     "metadata": {},
     "output_type": "execute_result"
    }
   ],
   "source": [
    "len(ccfs_events_df) == len(ccfs_events_df.event_id.unique())"
   ],
   "metadata": {
    "collapsed": false,
    "pycharm": {
     "name": "#%%\n"
    }
   }
  },
  {
   "cell_type": "code",
   "execution_count": 564,
   "outputs": [],
   "source": [
    "# add in columns needed for future processing\n",
    "# These didn't make sense in a single region, single source setting\n",
    "ccfs_events_df['region'] = 'Clayoquot Sound'\n",
    "ccfs_events_df['dfozone'] = '2_3'\n",
    "ccfs_events_df['sample_site'] = ccfs_events_df['location'].str.strip()\n",
    "ccfs_events_df['source'] = 'Cedar Coast Field Station'"
   ],
   "metadata": {
    "collapsed": false,
    "pycharm": {
     "name": "#%%\n"
    }
   }
  },
  {
   "cell_type": "code",
   "execution_count": 565,
   "outputs": [],
   "source": [
    "# there are a couple of inconsistencies in the location names\n",
    "ccfs_events_df['sample_site'].replace('Bedwell estuary', 'Bedwell Estuary', inplace=True)\n",
    "ccfs_events_df['sample_site'].replace('Cypre', 'Cypre River', inplace=True)\n",
    "ccfs_events_df['sample_site'].replace('Meares North', 'North Meares', inplace=True)\n",
    "ccfs_events_df['sample_site'].replace('Cancer', 'Cancer (Herbert)', inplace=True)"
   ],
   "metadata": {
    "collapsed": false,
    "pycharm": {
     "name": "#%%\n"
    }
   }
  },
  {
   "cell_type": "code",
   "execution_count": 566,
   "outputs": [],
   "source": [
    "def convert_deg_min_to_dec_deg(deg_min):\n",
    "    \"\"\"\n",
    "    Converts a lat or long expressed as a string with degrees and decimal minutes, to a float of decimal degrees.\n",
    "    :param deg_min: Degree and decimal minutes, e.g. \"--125°57.883\"\n",
    "    :type deg_min: str\n",
    "    :return: Decimal degree equivalent\n",
    "    :rtype: float\n",
    "    \"\"\"\n",
    "    # sometimes it's null - just return it\n",
    "    if pd.isnull(deg_min):\n",
    "        return deg_min\n",
    "\n",
    "    # split the string at the degree symbol. strip to remove any extra spaces\n",
    "    try:\n",
    "        degree_str, minute_str = [x.strip() for x in deg_min.split('°')]\n",
    "    except AttributeError as e:\n",
    "        print(\"{} ({})\".format(deg_min, type(deg_min)))\n",
    "        raise e\n",
    "\n",
    "    # sometimes the degree has '--' at the front\n",
    "    if degree_str.startswith('--'):\n",
    "        degree_str = degree_str[1:]\n",
    "\n",
    "    degree = float(degree_str)\n",
    "    minute = float(minute_str) if degree > 0 else -float(minute_str)\n",
    "    dec_degree = degree + minute / 60\n",
    "\n",
    "    return dec_degree"
   ],
   "metadata": {
    "collapsed": false,
    "pycharm": {
     "name": "#%%\n"
    }
   }
  },
  {
   "cell_type": "code",
   "execution_count": 567,
   "outputs": [
    {
     "data": {
      "text/plain": "  sampledate  Site ID time     location  salt_surf  salt_1m  temp_surf  \\\n0 2018-04-26        1  NaN   Buckle Bay        NaN      NaN        NaN   \n1 2018-05-16        2  NaN   Buckle Bay      28.04    28.11      11.88   \n2 2018-05-16        3  NaN   Elbow Bank      26.73    26.65      12.12   \n3 2018-05-16        4  NaN  Cypre River      25.10    25.18      12.28   \n4 2018-05-10        5  NaN   Elbow Bank      24.80    24.81      11.56   \n\n   temp_1m  salmon_captured  salmon_examined  ...  C_ratio   latitude  \\\n0      NaN             47.0             47.0  ...      NaN        NaN   \n1    11.72             35.0             16.0  ...      NaN  49.182017   \n2    12.14             53.0             53.0  ...      NaN  49.204833   \n3    12.12              8.0              8.0  ...      NaN  49.269867   \n4    11.47             26.0             26.0  ...      NaN  49.196633   \n\n    longitude                                            bycatch  notes  \\\n0         NaN                                                NaN    NaN   \n1 -125.964717                                         1 oolichan    NaN   \n2 -125.952233  tube snout, 4 lingcod, 4 flatfish, 2 sculpin, ...    NaN   \n3 -125.905967                                         tube snout    NaN   \n4 -125.948083            1 sculpin, 25-30 flatfish, juvenile cod    NaN   \n\n            event_id           region  dfozone  sample_site  \\\n0  ccfs_2018-04-26_1  Clayoquot Sound      2_3   Buckle Bay   \n1  ccfs_2018-05-16_2  Clayoquot Sound      2_3   Buckle Bay   \n2  ccfs_2018-05-16_3  Clayoquot Sound      2_3   Elbow Bank   \n3  ccfs_2018-05-16_4  Clayoquot Sound      2_3  Cypre River   \n4  ccfs_2018-05-10_5  Clayoquot Sound      2_3   Elbow Bank   \n\n                      source  \n0  Cedar Coast Field Station  \n1  Cedar Coast Field Station  \n2  Cedar Coast Field Station  \n3  Cedar Coast Field Station  \n4  Cedar Coast Field Station  \n\n[5 rows x 28 columns]",
      "text/html": "<div>\n<style scoped>\n    .dataframe tbody tr th:only-of-type {\n        vertical-align: middle;\n    }\n\n    .dataframe tbody tr th {\n        vertical-align: top;\n    }\n\n    .dataframe thead th {\n        text-align: right;\n    }\n</style>\n<table border=\"1\" class=\"dataframe\">\n  <thead>\n    <tr style=\"text-align: right;\">\n      <th></th>\n      <th>sampledate</th>\n      <th>Site ID</th>\n      <th>time</th>\n      <th>location</th>\n      <th>salt_surf</th>\n      <th>salt_1m</th>\n      <th>temp_surf</th>\n      <th>temp_1m</th>\n      <th>salmon_captured</th>\n      <th>salmon_examined</th>\n      <th>...</th>\n      <th>C_ratio</th>\n      <th>latitude</th>\n      <th>longitude</th>\n      <th>bycatch</th>\n      <th>notes</th>\n      <th>event_id</th>\n      <th>region</th>\n      <th>dfozone</th>\n      <th>sample_site</th>\n      <th>source</th>\n    </tr>\n  </thead>\n  <tbody>\n    <tr>\n      <th>0</th>\n      <td>2018-04-26</td>\n      <td>1</td>\n      <td>NaN</td>\n      <td>Buckle Bay</td>\n      <td>NaN</td>\n      <td>NaN</td>\n      <td>NaN</td>\n      <td>NaN</td>\n      <td>47.0</td>\n      <td>47.0</td>\n      <td>...</td>\n      <td>NaN</td>\n      <td>NaN</td>\n      <td>NaN</td>\n      <td>NaN</td>\n      <td>NaN</td>\n      <td>ccfs_2018-04-26_1</td>\n      <td>Clayoquot Sound</td>\n      <td>2_3</td>\n      <td>Buckle Bay</td>\n      <td>Cedar Coast Field Station</td>\n    </tr>\n    <tr>\n      <th>1</th>\n      <td>2018-05-16</td>\n      <td>2</td>\n      <td>NaN</td>\n      <td>Buckle Bay</td>\n      <td>28.04</td>\n      <td>28.11</td>\n      <td>11.88</td>\n      <td>11.72</td>\n      <td>35.0</td>\n      <td>16.0</td>\n      <td>...</td>\n      <td>NaN</td>\n      <td>49.182017</td>\n      <td>-125.964717</td>\n      <td>1 oolichan</td>\n      <td>NaN</td>\n      <td>ccfs_2018-05-16_2</td>\n      <td>Clayoquot Sound</td>\n      <td>2_3</td>\n      <td>Buckle Bay</td>\n      <td>Cedar Coast Field Station</td>\n    </tr>\n    <tr>\n      <th>2</th>\n      <td>2018-05-16</td>\n      <td>3</td>\n      <td>NaN</td>\n      <td>Elbow Bank</td>\n      <td>26.73</td>\n      <td>26.65</td>\n      <td>12.12</td>\n      <td>12.14</td>\n      <td>53.0</td>\n      <td>53.0</td>\n      <td>...</td>\n      <td>NaN</td>\n      <td>49.204833</td>\n      <td>-125.952233</td>\n      <td>tube snout, 4 lingcod, 4 flatfish, 2 sculpin, ...</td>\n      <td>NaN</td>\n      <td>ccfs_2018-05-16_3</td>\n      <td>Clayoquot Sound</td>\n      <td>2_3</td>\n      <td>Elbow Bank</td>\n      <td>Cedar Coast Field Station</td>\n    </tr>\n    <tr>\n      <th>3</th>\n      <td>2018-05-16</td>\n      <td>4</td>\n      <td>NaN</td>\n      <td>Cypre River</td>\n      <td>25.10</td>\n      <td>25.18</td>\n      <td>12.28</td>\n      <td>12.12</td>\n      <td>8.0</td>\n      <td>8.0</td>\n      <td>...</td>\n      <td>NaN</td>\n      <td>49.269867</td>\n      <td>-125.905967</td>\n      <td>tube snout</td>\n      <td>NaN</td>\n      <td>ccfs_2018-05-16_4</td>\n      <td>Clayoquot Sound</td>\n      <td>2_3</td>\n      <td>Cypre River</td>\n      <td>Cedar Coast Field Station</td>\n    </tr>\n    <tr>\n      <th>4</th>\n      <td>2018-05-10</td>\n      <td>5</td>\n      <td>NaN</td>\n      <td>Elbow Bank</td>\n      <td>24.80</td>\n      <td>24.81</td>\n      <td>11.56</td>\n      <td>11.47</td>\n      <td>26.0</td>\n      <td>26.0</td>\n      <td>...</td>\n      <td>NaN</td>\n      <td>49.196633</td>\n      <td>-125.948083</td>\n      <td>1 sculpin, 25-30 flatfish, juvenile cod</td>\n      <td>NaN</td>\n      <td>ccfs_2018-05-10_5</td>\n      <td>Clayoquot Sound</td>\n      <td>2_3</td>\n      <td>Elbow Bank</td>\n      <td>Cedar Coast Field Station</td>\n    </tr>\n  </tbody>\n</table>\n<p>5 rows × 28 columns</p>\n</div>"
     },
     "execution_count": 567,
     "metadata": {},
     "output_type": "execute_result"
    }
   ],
   "source": [
    "# convert latitude and longitude to decimal degrees\n",
    "ccfs_events_df.latitude = ccfs_events_df.latitude.apply(convert_deg_min_to_dec_deg)\n",
    "ccfs_events_df.longitude = ccfs_events_df.longitude.apply(convert_deg_min_to_dec_deg)\n",
    "\n",
    "ccfs_events_df.head()"
   ],
   "metadata": {
    "collapsed": false,
    "pycharm": {
     "name": "#%%\n"
    }
   }
  },
  {
   "cell_type": "code",
   "execution_count": 568,
   "outputs": [],
   "source": [
    "# limit to the common columns with the main events file\n",
    "ccfs_events_df = ccfs_events_df.reindex(columns=['event_id', 'sampledate', 'region',\n",
    "                                                 'dfozone', 'sample_site', 'latitude',\n",
    "                                                 'longitude', 'source'])"
   ],
   "metadata": {
    "collapsed": false,
    "pycharm": {
     "name": "#%%\n"
    }
   }
  },
  {
   "cell_type": "code",
   "execution_count": 569,
   "outputs": [
    {
     "data": {
      "text/plain": "dtype('<M8[ns]')"
     },
     "execution_count": 569,
     "metadata": {},
     "output_type": "execute_result"
    }
   ],
   "source": [
    "ccfs_events_df.sampledate.dtype"
   ],
   "metadata": {
    "collapsed": false,
    "pycharm": {
     "name": "#%%\n"
    }
   }
  },
  {
   "cell_type": "code",
   "execution_count": 570,
   "outputs": [],
   "source": [
    "# write out to a CSV\n",
    "ccfs_events_df.to_csv(ccfs_formatted_events_filepath, index=False)"
   ],
   "metadata": {
    "collapsed": false,
    "pycharm": {
     "name": "#%%\n"
    }
   }
  },
  {
   "cell_type": "code",
   "execution_count": 571,
   "outputs": [
    {
     "data": {
      "text/plain": "dtype('<M8[ns]')"
     },
     "execution_count": 571,
     "metadata": {},
     "output_type": "execute_result"
    }
   ],
   "source": [
    "ccfs_events_df.sampledate.dtype"
   ],
   "metadata": {
    "collapsed": false,
    "pycharm": {
     "name": "#%%\n"
    }
   }
  },
  {
   "cell_type": "markdown",
   "source": [
    "# Format the fish and lice data file"
   ],
   "metadata": {
    "collapsed": false,
    "pycharm": {
     "name": "#%% md\n"
    }
   }
  },
  {
   "cell_type": "code",
   "execution_count": 572,
   "outputs": [
    {
     "data": {
      "text/plain": "  sampledate  fish_id  site_id    location  fish_num species  length  height  \\\n0 2018-04-26        1        1  Buckle Bay         1    chum    44.0     5.0   \n1 2018-04-26        2        1  Buckle Bay         2    chum    46.0     7.0   \n2 2018-04-26        3        1  Buckle Bay         3    chum    49.0     6.0   \n3 2018-04-26        4        1  Buckle Bay         4    chum    48.0     9.0   \n4 2018-04-26        5        1  Buckle Bay         5    chum    50.0    10.0   \n\n  Lep_cope  chalA  ...  white_eye  Grazed_gill_plate  Lironca  comments  \\\n0        1    2.0  ...        NaN                NaN      NaN       NaN   \n1      NaN    1.0  ...        NaN                NaN      NaN       NaN   \n2      NaN    2.0  ...        NaN                NaN      NaN       NaN   \n3      NaN    3.0  ...        NaN                NaN      NaN       NaN   \n4      NaN    1.0  ...        NaN                NaN      NaN       NaN   \n\n   sum_all_lice  Prevalence  Motile Lep  Motile Caligus  chal  attached  \n0           3.0         1.0         0.0             0.0   2.0       3.0  \n1           2.0         1.0         0.0             0.0   2.0       2.0  \n2           4.0         1.0         0.0             0.0   4.0       4.0  \n3           3.0         1.0         0.0             0.0   3.0       3.0  \n4           2.0         1.0         0.0             0.0   2.0       2.0  \n\n[5 rows x 42 columns]",
      "text/html": "<div>\n<style scoped>\n    .dataframe tbody tr th:only-of-type {\n        vertical-align: middle;\n    }\n\n    .dataframe tbody tr th {\n        vertical-align: top;\n    }\n\n    .dataframe thead th {\n        text-align: right;\n    }\n</style>\n<table border=\"1\" class=\"dataframe\">\n  <thead>\n    <tr style=\"text-align: right;\">\n      <th></th>\n      <th>sampledate</th>\n      <th>fish_id</th>\n      <th>site_id</th>\n      <th>location</th>\n      <th>fish_num</th>\n      <th>species</th>\n      <th>length</th>\n      <th>height</th>\n      <th>Lep_cope</th>\n      <th>chalA</th>\n      <th>...</th>\n      <th>white_eye</th>\n      <th>Grazed_gill_plate</th>\n      <th>Lironca</th>\n      <th>comments</th>\n      <th>sum_all_lice</th>\n      <th>Prevalence</th>\n      <th>Motile Lep</th>\n      <th>Motile Caligus</th>\n      <th>chal</th>\n      <th>attached</th>\n    </tr>\n  </thead>\n  <tbody>\n    <tr>\n      <th>0</th>\n      <td>2018-04-26</td>\n      <td>1</td>\n      <td>1</td>\n      <td>Buckle Bay</td>\n      <td>1</td>\n      <td>chum</td>\n      <td>44.0</td>\n      <td>5.0</td>\n      <td>1</td>\n      <td>2.0</td>\n      <td>...</td>\n      <td>NaN</td>\n      <td>NaN</td>\n      <td>NaN</td>\n      <td>NaN</td>\n      <td>3.0</td>\n      <td>1.0</td>\n      <td>0.0</td>\n      <td>0.0</td>\n      <td>2.0</td>\n      <td>3.0</td>\n    </tr>\n    <tr>\n      <th>1</th>\n      <td>2018-04-26</td>\n      <td>2</td>\n      <td>1</td>\n      <td>Buckle Bay</td>\n      <td>2</td>\n      <td>chum</td>\n      <td>46.0</td>\n      <td>7.0</td>\n      <td>NaN</td>\n      <td>1.0</td>\n      <td>...</td>\n      <td>NaN</td>\n      <td>NaN</td>\n      <td>NaN</td>\n      <td>NaN</td>\n      <td>2.0</td>\n      <td>1.0</td>\n      <td>0.0</td>\n      <td>0.0</td>\n      <td>2.0</td>\n      <td>2.0</td>\n    </tr>\n    <tr>\n      <th>2</th>\n      <td>2018-04-26</td>\n      <td>3</td>\n      <td>1</td>\n      <td>Buckle Bay</td>\n      <td>3</td>\n      <td>chum</td>\n      <td>49.0</td>\n      <td>6.0</td>\n      <td>NaN</td>\n      <td>2.0</td>\n      <td>...</td>\n      <td>NaN</td>\n      <td>NaN</td>\n      <td>NaN</td>\n      <td>NaN</td>\n      <td>4.0</td>\n      <td>1.0</td>\n      <td>0.0</td>\n      <td>0.0</td>\n      <td>4.0</td>\n      <td>4.0</td>\n    </tr>\n    <tr>\n      <th>3</th>\n      <td>2018-04-26</td>\n      <td>4</td>\n      <td>1</td>\n      <td>Buckle Bay</td>\n      <td>4</td>\n      <td>chum</td>\n      <td>48.0</td>\n      <td>9.0</td>\n      <td>NaN</td>\n      <td>3.0</td>\n      <td>...</td>\n      <td>NaN</td>\n      <td>NaN</td>\n      <td>NaN</td>\n      <td>NaN</td>\n      <td>3.0</td>\n      <td>1.0</td>\n      <td>0.0</td>\n      <td>0.0</td>\n      <td>3.0</td>\n      <td>3.0</td>\n    </tr>\n    <tr>\n      <th>4</th>\n      <td>2018-04-26</td>\n      <td>5</td>\n      <td>1</td>\n      <td>Buckle Bay</td>\n      <td>5</td>\n      <td>chum</td>\n      <td>50.0</td>\n      <td>10.0</td>\n      <td>NaN</td>\n      <td>1.0</td>\n      <td>...</td>\n      <td>NaN</td>\n      <td>NaN</td>\n      <td>NaN</td>\n      <td>NaN</td>\n      <td>2.0</td>\n      <td>1.0</td>\n      <td>0.0</td>\n      <td>0.0</td>\n      <td>2.0</td>\n      <td>2.0</td>\n    </tr>\n  </tbody>\n</table>\n<p>5 rows × 42 columns</p>\n</div>"
     },
     "execution_count": 572,
     "metadata": {},
     "output_type": "execute_result"
    }
   ],
   "source": [
    "# load the fish and lice data files\n",
    "ccfs_fish_lice_df = pd.read_csv(ccfs_fish_lice_filepath, parse_dates={'sampledate': ['year', 'month', 'day']})\n",
    "ccfs_fish_lice_df.head()"
   ],
   "metadata": {
    "collapsed": false,
    "pycharm": {
     "name": "#%%\n"
    }
   }
  },
  {
   "cell_type": "code",
   "execution_count": 573,
   "outputs": [
    {
     "data": {
      "text/plain": "array(['2018-04-26T00:00:00.000000000', '2018-05-16T00:00:00.000000000',\n       '2018-05-10T00:00:00.000000000', '2018-05-23T00:00:00.000000000',\n       '2018-06-09T00:00:00.000000000', '2018-06-23T00:00:00.000000000',\n       '2019-03-01T00:00:00.000000000', '2019-03-05T00:00:00.000000000',\n       '2019-03-14T00:00:00.000000000', '2019-03-29T00:00:00.000000000',\n       '2019-04-10T00:00:00.000000000', '2019-04-17T00:00:00.000000000',\n       '2019-04-18T00:00:00.000000000', '2019-04-25T00:00:00.000000000',\n       '2019-04-30T00:00:00.000000000', '2019-05-01T00:00:00.000000000',\n       '2019-05-02T00:00:00.000000000', '2019-05-04T00:00:00.000000000',\n       '2019-05-08T00:00:00.000000000', '2019-05-10T00:00:00.000000000',\n       '2019-05-14T00:00:00.000000000', '2019-05-15T00:00:00.000000000',\n       '2019-05-22T00:00:00.000000000', '2019-05-23T00:00:00.000000000',\n       '2019-05-30T00:00:00.000000000', '2019-05-31T00:00:00.000000000',\n       '2019-06-01T00:00:00.000000000', '2019-06-08T00:00:00.000000000',\n       '2019-06-13T00:00:00.000000000', '2019-06-14T00:00:00.000000000',\n       '2019-06-17T00:00:00.000000000', '2019-06-20T00:00:00.000000000',\n       '2019-07-04T00:00:00.000000000', '2019-07-10T00:00:00.000000000',\n       '2020-04-10T00:00:00.000000000', '2020-04-18T00:00:00.000000000',\n       '2020-04-24T00:00:00.000000000', '2020-04-30T00:00:00.000000000',\n       '2020-05-08T00:00:00.000000000', '2020-05-15T00:00:00.000000000',\n       '2020-05-23T00:00:00.000000000', '2020-05-30T00:00:00.000000000',\n       '2020-06-05T00:00:00.000000000', '2020-06-12T00:00:00.000000000',\n       '2020-06-19T00:00:00.000000000', '2020-06-26T00:00:00.000000000',\n       '2020-07-05T00:00:00.000000000', '2021-03-26T00:00:00.000000000',\n       '2021-04-02T00:00:00.000000000', '2021-04-11T00:00:00.000000000',\n       '2021-04-14T00:00:00.000000000', '2021-04-15T00:00:00.000000000',\n       '2021-04-16T00:00:00.000000000', '2021-04-22T00:00:00.000000000',\n       '2021-04-23T00:00:00.000000000', '2021-04-28T00:00:00.000000000',\n       '2021-04-29T00:00:00.000000000', '2021-04-30T00:00:00.000000000',\n       '2021-05-06T00:00:00.000000000', '2021-05-07T00:00:00.000000000',\n       '2021-05-12T00:00:00.000000000', '2021-05-14T00:00:00.000000000',\n       '2021-05-19T00:00:00.000000000', '2021-05-25T00:00:00.000000000',\n       '2021-06-01T00:00:00.000000000', '2021-06-09T00:00:00.000000000',\n       '2021-06-17T00:00:00.000000000'], dtype='datetime64[ns]')"
     },
     "execution_count": 573,
     "metadata": {},
     "output_type": "execute_result"
    }
   ],
   "source": [
    "ccfs_fish_lice_df.sampledate.unique()"
   ],
   "metadata": {
    "collapsed": false,
    "pycharm": {
     "name": "#%%\n"
    }
   }
  },
  {
   "cell_type": "code",
   "execution_count": 574,
   "outputs": [],
   "source": [
    "# rename Cedar Coast columns that have equivalent data\n",
    "ccfs_fish_lice_df.rename(columns={'species': 'fish_species',\n",
    "                                  'Lep_cope': 'lep_cop',\n",
    "                                  'Caligus_cope': 'cal_cop',\n",
    "                                  'unid_cope': 'unknown_cop'},\n",
    "                         inplace=True)"
   ],
   "metadata": {
    "collapsed": false,
    "pycharm": {
     "name": "#%%\n"
    }
   }
  },
  {
   "cell_type": "markdown",
   "source": [
    "### Convert event_id and fish_id"
   ],
   "metadata": {
    "collapsed": false,
    "pycharm": {
     "name": "#%% md\n"
    }
   }
  },
  {
   "cell_type": "code",
   "execution_count": 575,
   "outputs": [],
   "source": [
    "# make the event_id column in fish_lice matche the event_id in the events\n",
    "ccfs_fish_lice_df['event_id'] = 'ccfs_' \\\n",
    "                              + ccfs_fish_lice_df.sampledate.astype(str).str.strip() \\\n",
    "                              + '_' + ccfs_fish_lice_df['site_id'].astype(str).str.strip()"
   ],
   "metadata": {
    "collapsed": false,
    "pycharm": {
     "name": "#%%\n"
    }
   }
  },
  {
   "cell_type": "code",
   "execution_count": 576,
   "outputs": [
    {
     "data": {
      "text/plain": "40"
     },
     "execution_count": 576,
     "metadata": {},
     "output_type": "execute_result"
    }
   ],
   "source": [
    "# debugging\n",
    "fish_event_ids = list(ccfs_fish_lice_df.event_id.unique())\n",
    "fish_not_event_ids = [eid for eid in fish_event_ids if eid not in event_event_ids]\n",
    "len(fish_not_event_ids)"
   ],
   "metadata": {
    "collapsed": false,
    "pycharm": {
     "name": "#%%\n"
    }
   }
  },
  {
   "cell_type": "code",
   "execution_count": 577,
   "outputs": [
    {
     "data": {
      "text/plain": "1177"
     },
     "execution_count": 577,
     "metadata": {},
     "output_type": "execute_result"
    }
   ],
   "source": [
    "fish_without_events_df = ccfs_fish_lice_df[ccfs_fish_lice_df.event_id.isin(fish_not_event_ids)]\n",
    "fish_without_events_df.to_csv('CC_fish_without_events.csv', index=False)\n",
    "len(fish_without_events_df)"
   ],
   "metadata": {
    "collapsed": false,
    "pycharm": {
     "name": "#%%\n"
    }
   }
  },
  {
   "cell_type": "code",
   "execution_count": 578,
   "outputs": [],
   "source": [
    "# there are 1177 fish without an event in the events file"
   ],
   "metadata": {
    "collapsed": false,
    "pycharm": {
     "name": "#%%\n"
    }
   }
  },
  {
   "cell_type": "code",
   "execution_count": 579,
   "outputs": [],
   "source": [
    "# make sure Cedar Coast fish get globally unique IDs - use the same prefix method as event IDs\n",
    "ccfs_fish_lice_df['fish_id'] = 'ccfs_' + ccfs_fish_lice_df.fish_id.astype(str).str.strip()"
   ],
   "metadata": {
    "collapsed": false,
    "pycharm": {
     "name": "#%%\n"
    }
   }
  },
  {
   "cell_type": "code",
   "execution_count": 580,
   "outputs": [
    {
     "data": {
      "text/plain": "  sampledate fish_id  site_id    location  fish_num fish_species  length  \\\n0 2018-04-26  ccfs_1        1  Buckle Bay         1         chum    44.0   \n1 2018-04-26  ccfs_2        1  Buckle Bay         2         chum    46.0   \n2 2018-04-26  ccfs_3        1  Buckle Bay         3         chum    49.0   \n3 2018-04-26  ccfs_4        1  Buckle Bay         4         chum    48.0   \n4 2018-04-26  ccfs_5        1  Buckle Bay         5         chum    50.0   \n\n   height lep_cop  chalA  ...  Grazed_gill_plate  Lironca  comments  \\\n0     5.0       1    2.0  ...                NaN      NaN       NaN   \n1     7.0     NaN    1.0  ...                NaN      NaN       NaN   \n2     6.0     NaN    2.0  ...                NaN      NaN       NaN   \n3     9.0     NaN    3.0  ...                NaN      NaN       NaN   \n4    10.0     NaN    1.0  ...                NaN      NaN       NaN   \n\n   sum_all_lice  Prevalence  Motile Lep  Motile Caligus  chal  attached  \\\n0           3.0         1.0         0.0             0.0   2.0       3.0   \n1           2.0         1.0         0.0             0.0   2.0       2.0   \n2           4.0         1.0         0.0             0.0   4.0       4.0   \n3           3.0         1.0         0.0             0.0   3.0       3.0   \n4           2.0         1.0         0.0             0.0   2.0       2.0   \n\n            event_id  \n0  ccfs_2018-04-26_1  \n1  ccfs_2018-04-26_1  \n2  ccfs_2018-04-26_1  \n3  ccfs_2018-04-26_1  \n4  ccfs_2018-04-26_1  \n\n[5 rows x 43 columns]",
      "text/html": "<div>\n<style scoped>\n    .dataframe tbody tr th:only-of-type {\n        vertical-align: middle;\n    }\n\n    .dataframe tbody tr th {\n        vertical-align: top;\n    }\n\n    .dataframe thead th {\n        text-align: right;\n    }\n</style>\n<table border=\"1\" class=\"dataframe\">\n  <thead>\n    <tr style=\"text-align: right;\">\n      <th></th>\n      <th>sampledate</th>\n      <th>fish_id</th>\n      <th>site_id</th>\n      <th>location</th>\n      <th>fish_num</th>\n      <th>fish_species</th>\n      <th>length</th>\n      <th>height</th>\n      <th>lep_cop</th>\n      <th>chalA</th>\n      <th>...</th>\n      <th>Grazed_gill_plate</th>\n      <th>Lironca</th>\n      <th>comments</th>\n      <th>sum_all_lice</th>\n      <th>Prevalence</th>\n      <th>Motile Lep</th>\n      <th>Motile Caligus</th>\n      <th>chal</th>\n      <th>attached</th>\n      <th>event_id</th>\n    </tr>\n  </thead>\n  <tbody>\n    <tr>\n      <th>0</th>\n      <td>2018-04-26</td>\n      <td>ccfs_1</td>\n      <td>1</td>\n      <td>Buckle Bay</td>\n      <td>1</td>\n      <td>chum</td>\n      <td>44.0</td>\n      <td>5.0</td>\n      <td>1</td>\n      <td>2.0</td>\n      <td>...</td>\n      <td>NaN</td>\n      <td>NaN</td>\n      <td>NaN</td>\n      <td>3.0</td>\n      <td>1.0</td>\n      <td>0.0</td>\n      <td>0.0</td>\n      <td>2.0</td>\n      <td>3.0</td>\n      <td>ccfs_2018-04-26_1</td>\n    </tr>\n    <tr>\n      <th>1</th>\n      <td>2018-04-26</td>\n      <td>ccfs_2</td>\n      <td>1</td>\n      <td>Buckle Bay</td>\n      <td>2</td>\n      <td>chum</td>\n      <td>46.0</td>\n      <td>7.0</td>\n      <td>NaN</td>\n      <td>1.0</td>\n      <td>...</td>\n      <td>NaN</td>\n      <td>NaN</td>\n      <td>NaN</td>\n      <td>2.0</td>\n      <td>1.0</td>\n      <td>0.0</td>\n      <td>0.0</td>\n      <td>2.0</td>\n      <td>2.0</td>\n      <td>ccfs_2018-04-26_1</td>\n    </tr>\n    <tr>\n      <th>2</th>\n      <td>2018-04-26</td>\n      <td>ccfs_3</td>\n      <td>1</td>\n      <td>Buckle Bay</td>\n      <td>3</td>\n      <td>chum</td>\n      <td>49.0</td>\n      <td>6.0</td>\n      <td>NaN</td>\n      <td>2.0</td>\n      <td>...</td>\n      <td>NaN</td>\n      <td>NaN</td>\n      <td>NaN</td>\n      <td>4.0</td>\n      <td>1.0</td>\n      <td>0.0</td>\n      <td>0.0</td>\n      <td>4.0</td>\n      <td>4.0</td>\n      <td>ccfs_2018-04-26_1</td>\n    </tr>\n    <tr>\n      <th>3</th>\n      <td>2018-04-26</td>\n      <td>ccfs_4</td>\n      <td>1</td>\n      <td>Buckle Bay</td>\n      <td>4</td>\n      <td>chum</td>\n      <td>48.0</td>\n      <td>9.0</td>\n      <td>NaN</td>\n      <td>3.0</td>\n      <td>...</td>\n      <td>NaN</td>\n      <td>NaN</td>\n      <td>NaN</td>\n      <td>3.0</td>\n      <td>1.0</td>\n      <td>0.0</td>\n      <td>0.0</td>\n      <td>3.0</td>\n      <td>3.0</td>\n      <td>ccfs_2018-04-26_1</td>\n    </tr>\n    <tr>\n      <th>4</th>\n      <td>2018-04-26</td>\n      <td>ccfs_5</td>\n      <td>1</td>\n      <td>Buckle Bay</td>\n      <td>5</td>\n      <td>chum</td>\n      <td>50.0</td>\n      <td>10.0</td>\n      <td>NaN</td>\n      <td>1.0</td>\n      <td>...</td>\n      <td>NaN</td>\n      <td>NaN</td>\n      <td>NaN</td>\n      <td>2.0</td>\n      <td>1.0</td>\n      <td>0.0</td>\n      <td>0.0</td>\n      <td>2.0</td>\n      <td>2.0</td>\n      <td>ccfs_2018-04-26_1</td>\n    </tr>\n  </tbody>\n</table>\n<p>5 rows × 43 columns</p>\n</div>"
     },
     "execution_count": 580,
     "metadata": {},
     "output_type": "execute_result"
    }
   ],
   "source": [
    "ccfs_fish_lice_df.head()"
   ],
   "metadata": {
    "collapsed": false,
    "pycharm": {
     "name": "#%%\n"
    }
   }
  },
  {
   "cell_type": "code",
   "execution_count": 581,
   "outputs": [
    {
     "data": {
      "text/plain": "4953"
     },
     "execution_count": 581,
     "metadata": {},
     "output_type": "execute_result"
    }
   ],
   "source": [
    "len(ccfs_fish_lice_df)"
   ],
   "metadata": {
    "collapsed": false,
    "pycharm": {
     "name": "#%%\n"
    }
   }
  },
  {
   "cell_type": "markdown",
   "source": [
    "## Convert Cedar Coast fish species to match the names we use\n",
    "Our names: ['Chum Salmon', 'Pink Salmon', 'Coho Salmon',\n",
    "       'Three-Spined Stickleback', 'Chinook Salmon', 'Other Species',\n",
    "       'Pacific Herring', 'Sockeye Salmon']"
   ],
   "metadata": {
    "collapsed": false,
    "pycharm": {
     "name": "#%% md\n"
    }
   }
  },
  {
   "cell_type": "code",
   "execution_count": 582,
   "outputs": [
    {
     "data": {
      "text/plain": "['chum',\n 'coho',\n 'pink',\n 'chinook',\n 'chum ',\n 'coho ',\n 'sockeye',\n 'herring',\n 'chinook ']"
     },
     "execution_count": 582,
     "metadata": {},
     "output_type": "execute_result"
    }
   ],
   "source": [
    "# check the fish species in the SRS dataset\n",
    "list(ccfs_fish_lice_df.fish_species.unique())"
   ],
   "metadata": {
    "collapsed": false,
    "pycharm": {
     "name": "#%%\n"
    }
   }
  },
  {
   "cell_type": "code",
   "execution_count": 583,
   "outputs": [],
   "source": [
    "# replace salmon species names as the string literals differ\n",
    "ccfs_fish_lice_df.replace({'fish_species': {'chum': 'Chum Salmon',\n",
    "                                          'chum ': 'Chum Salmon',\n",
    "                                          'coho': 'Coho Salmon',\n",
    "                                          'coho ': 'Coho Salmon',\n",
    "                                          'pink': 'Pink Salmon',\n",
    "                                          'chinook': 'Chinook Salmon',\n",
    "                                          'chinook ': 'Chinook Salmon',\n",
    "                                          'sockeye': 'Sockeye Salmon',\n",
    "                                          'herring': 'Pacific Herring',\n",
    "                                          }},\n",
    "                     inplace=True)"
   ],
   "metadata": {
    "collapsed": false,
    "pycharm": {
     "name": "#%%\n"
    }
   }
  },
  {
   "cell_type": "markdown",
   "source": [
    "## Convert Cedar Coast lice counts to have the same groupings that we use"
   ],
   "metadata": {
    "collapsed": false,
    "pycharm": {
     "name": "#%% md\n"
    }
   }
  },
  {
   "cell_type": "code",
   "execution_count": 584,
   "outputs": [],
   "source": [
    "# convert all the NaN in lice counts to 0\n",
    "# first, make sure our expression checking for NaN works\n",
    "assert ccfs_fish_lice_df.loc[:, 'lep_cop':'unid_adult'].isnull().values.any()"
   ],
   "metadata": {
    "collapsed": false,
    "pycharm": {
     "name": "#%%\n"
    }
   }
  },
  {
   "cell_type": "code",
   "execution_count": 585,
   "outputs": [],
   "source": [
    "# convert all the NaN lice counts to 0\n",
    "col_names = ccfs_fish_lice_df.loc[:, 'lep_cop':'unid_adult'].columns\n",
    "fill_dict = {col: 0 for col in col_names}\n",
    "ccfs_fish_lice_df.fillna(value=fill_dict, inplace=True)\n",
    "\n",
    "# confirm that they are all converted\n",
    "assert not ccfs_fish_lice_df.loc[:, 'lep_cop':'unid_adult'].isnull().values.any()"
   ],
   "metadata": {
    "collapsed": false,
    "pycharm": {
     "name": "#%%\n"
    }
   }
  },
  {
   "cell_type": "code",
   "execution_count": 586,
   "outputs": [],
   "source": [
    "# generate lice count fields to match our data from the SRS lice counts\n",
    "ccfs_fish_lice_df['unknown_chal'] = ccfs_fish_lice_df['chalA'] + \\\n",
    "                               ccfs_fish_lice_df['chalB'] + \\\n",
    "                               ccfs_fish_lice_df['chal_unid']\n",
    "\n",
    "ccfs_fish_lice_df['lep_motile'] = ccfs_fish_lice_df['Lep_PAmale'] + \\\n",
    "                            ccfs_fish_lice_df['Lep_PAfemale'] + \\\n",
    "                            ccfs_fish_lice_df['Lep_male'] + \\\n",
    "                            ccfs_fish_lice_df['Lep_nongravid'] + \\\n",
    "                            ccfs_fish_lice_df['Lep_gravid']\n",
    "\n",
    "ccfs_fish_lice_df['cal_motile'] = ccfs_fish_lice_df['Caligus_mot'] + ccfs_fish_lice_df['Caligus_gravid']\n",
    "\n",
    "ccfs_fish_lice_df['unknown_motile'] = ccfs_fish_lice_df['unid_PA'] + ccfs_fish_lice_df['unid_adult']"
   ],
   "metadata": {
    "collapsed": false,
    "pycharm": {
     "name": "#%%\n"
    }
   }
  },
  {
   "cell_type": "code",
   "execution_count": 587,
   "outputs": [
    {
     "data": {
      "text/plain": "            event_id fish_id  length  weight  height fish_species lep_cop  \\\n0  ccfs_2018-04-26_1  ccfs_1    44.0     NaN     5.0  Chum Salmon       1   \n1  ccfs_2018-04-26_1  ccfs_2    46.0     NaN     7.0  Chum Salmon       0   \n2  ccfs_2018-04-26_1  ccfs_3    49.0     NaN     6.0  Chum Salmon       0   \n3  ccfs_2018-04-26_1  ccfs_4    48.0     NaN     9.0  Chum Salmon       0   \n4  ccfs_2018-04-26_1  ccfs_5    50.0     NaN    10.0  Chum Salmon       0   \n\n   lep_chal  lep_motile  lep_unknown  cal_cop  cal_chal  cal_motile  \\\n0       NaN         0.0          NaN      0.0       NaN         0.0   \n1       NaN         0.0          NaN      0.0       NaN         0.0   \n2       NaN         0.0          NaN      0.0       NaN         0.0   \n3       NaN         0.0          NaN      0.0       NaN         0.0   \n4       NaN         0.0          NaN      0.0       NaN         0.0   \n\n   cal_unknown  unknown_cop  unknown_chal  unknown_motile  unknown_unknown  \n0          NaN          0.0           2.0             0.0              NaN  \n1          NaN          0.0           2.0             0.0              NaN  \n2          NaN          0.0           4.0             0.0              NaN  \n3          NaN          0.0           3.0             0.0              NaN  \n4          NaN          0.0           2.0             0.0              NaN  ",
      "text/html": "<div>\n<style scoped>\n    .dataframe tbody tr th:only-of-type {\n        vertical-align: middle;\n    }\n\n    .dataframe tbody tr th {\n        vertical-align: top;\n    }\n\n    .dataframe thead th {\n        text-align: right;\n    }\n</style>\n<table border=\"1\" class=\"dataframe\">\n  <thead>\n    <tr style=\"text-align: right;\">\n      <th></th>\n      <th>event_id</th>\n      <th>fish_id</th>\n      <th>length</th>\n      <th>weight</th>\n      <th>height</th>\n      <th>fish_species</th>\n      <th>lep_cop</th>\n      <th>lep_chal</th>\n      <th>lep_motile</th>\n      <th>lep_unknown</th>\n      <th>cal_cop</th>\n      <th>cal_chal</th>\n      <th>cal_motile</th>\n      <th>cal_unknown</th>\n      <th>unknown_cop</th>\n      <th>unknown_chal</th>\n      <th>unknown_motile</th>\n      <th>unknown_unknown</th>\n    </tr>\n  </thead>\n  <tbody>\n    <tr>\n      <th>0</th>\n      <td>ccfs_2018-04-26_1</td>\n      <td>ccfs_1</td>\n      <td>44.0</td>\n      <td>NaN</td>\n      <td>5.0</td>\n      <td>Chum Salmon</td>\n      <td>1</td>\n      <td>NaN</td>\n      <td>0.0</td>\n      <td>NaN</td>\n      <td>0.0</td>\n      <td>NaN</td>\n      <td>0.0</td>\n      <td>NaN</td>\n      <td>0.0</td>\n      <td>2.0</td>\n      <td>0.0</td>\n      <td>NaN</td>\n    </tr>\n    <tr>\n      <th>1</th>\n      <td>ccfs_2018-04-26_1</td>\n      <td>ccfs_2</td>\n      <td>46.0</td>\n      <td>NaN</td>\n      <td>7.0</td>\n      <td>Chum Salmon</td>\n      <td>0</td>\n      <td>NaN</td>\n      <td>0.0</td>\n      <td>NaN</td>\n      <td>0.0</td>\n      <td>NaN</td>\n      <td>0.0</td>\n      <td>NaN</td>\n      <td>0.0</td>\n      <td>2.0</td>\n      <td>0.0</td>\n      <td>NaN</td>\n    </tr>\n    <tr>\n      <th>2</th>\n      <td>ccfs_2018-04-26_1</td>\n      <td>ccfs_3</td>\n      <td>49.0</td>\n      <td>NaN</td>\n      <td>6.0</td>\n      <td>Chum Salmon</td>\n      <td>0</td>\n      <td>NaN</td>\n      <td>0.0</td>\n      <td>NaN</td>\n      <td>0.0</td>\n      <td>NaN</td>\n      <td>0.0</td>\n      <td>NaN</td>\n      <td>0.0</td>\n      <td>4.0</td>\n      <td>0.0</td>\n      <td>NaN</td>\n    </tr>\n    <tr>\n      <th>3</th>\n      <td>ccfs_2018-04-26_1</td>\n      <td>ccfs_4</td>\n      <td>48.0</td>\n      <td>NaN</td>\n      <td>9.0</td>\n      <td>Chum Salmon</td>\n      <td>0</td>\n      <td>NaN</td>\n      <td>0.0</td>\n      <td>NaN</td>\n      <td>0.0</td>\n      <td>NaN</td>\n      <td>0.0</td>\n      <td>NaN</td>\n      <td>0.0</td>\n      <td>3.0</td>\n      <td>0.0</td>\n      <td>NaN</td>\n    </tr>\n    <tr>\n      <th>4</th>\n      <td>ccfs_2018-04-26_1</td>\n      <td>ccfs_5</td>\n      <td>50.0</td>\n      <td>NaN</td>\n      <td>10.0</td>\n      <td>Chum Salmon</td>\n      <td>0</td>\n      <td>NaN</td>\n      <td>0.0</td>\n      <td>NaN</td>\n      <td>0.0</td>\n      <td>NaN</td>\n      <td>0.0</td>\n      <td>NaN</td>\n      <td>0.0</td>\n      <td>2.0</td>\n      <td>0.0</td>\n      <td>NaN</td>\n    </tr>\n  </tbody>\n</table>\n</div>"
     },
     "execution_count": 587,
     "metadata": {},
     "output_type": "execute_result"
    }
   ],
   "source": [
    "# remove all the redundant working columns\n",
    "# easiest (not most efficient) way is to load our data file and use that list of columns\n",
    "our_fish_lice_data_df = pd.read_csv(wild_data_dir / \"wild_fish_lice.csv\")\n",
    "ccfs_fish_lice_df = ccfs_fish_lice_df.reindex(columns=our_fish_lice_data_df.columns)\n",
    "ccfs_fish_lice_df.head()"
   ],
   "metadata": {
    "collapsed": false,
    "pycharm": {
     "name": "#%%\n"
    }
   }
  },
  {
   "cell_type": "code",
   "execution_count": 588,
   "outputs": [
    {
     "data": {
      "text/plain": "4953"
     },
     "execution_count": 588,
     "metadata": {},
     "output_type": "execute_result"
    }
   ],
   "source": [
    "len(ccfs_fish_lice_df)"
   ],
   "metadata": {
    "collapsed": false,
    "pycharm": {
     "name": "#%%\n"
    }
   }
  },
  {
   "cell_type": "code",
   "execution_count": 589,
   "outputs": [],
   "source": [
    "# There are some new lice count columns - so again make sure all lice count columns NaN means 0\n",
    "col_names = ccfs_fish_lice_df.loc[:, 'lep_cop':'unknown_unknown'].columns\n",
    "fill_dict = {col: 0 for col in col_names}\n",
    "ccfs_fish_lice_df.fillna(value=fill_dict, inplace=True)\n",
    "\n",
    "# check if there are any NaN in the lice counts\n",
    "assert not ccfs_fish_lice_df.loc[:, 'lep_cop':'unknown_unknown'].isnull().values.any()"
   ],
   "metadata": {
    "collapsed": false,
    "pycharm": {
     "name": "#%%\n"
    }
   }
  },
  {
   "cell_type": "code",
   "execution_count": 590,
   "outputs": [],
   "source": [
    "# write out to CSV file\n",
    "ccfs_fish_lice_df.to_csv(ccfs_formatted_lice_filepath, index=False)"
   ],
   "metadata": {
    "collapsed": false,
    "pycharm": {
     "name": "#%%\n"
    }
   }
  },
  {
   "cell_type": "markdown",
   "source": [
    "## Some data checks"
   ],
   "metadata": {
    "collapsed": false,
    "pycharm": {
     "name": "#%% md\n"
    }
   }
  },
  {
   "cell_type": "code",
   "execution_count": 591,
   "outputs": [
    {
     "data": {
      "text/plain": "dtype('<M8[ns]')"
     },
     "execution_count": 591,
     "metadata": {},
     "output_type": "execute_result"
    }
   ],
   "source": [
    "ccfs_events_df.sampledate.dtype"
   ],
   "metadata": {
    "collapsed": false,
    "pycharm": {
     "name": "#%%\n"
    }
   }
  },
  {
   "cell_type": "code",
   "execution_count": 592,
   "outputs": [
    {
     "data": {
      "text/plain": "151"
     },
     "execution_count": 592,
     "metadata": {},
     "output_type": "execute_result"
    }
   ],
   "source": [
    "fish_event_ids = list(ccfs_fish_lice_df.event_id.unique())\n",
    "len(fish_event_ids)"
   ],
   "metadata": {
    "collapsed": false,
    "pycharm": {
     "name": "#%%\n"
    }
   }
  },
  {
   "cell_type": "code",
   "execution_count": 593,
   "outputs": [
    {
     "data": {
      "text/plain": "40"
     },
     "execution_count": 593,
     "metadata": {},
     "output_type": "execute_result"
    }
   ],
   "source": [
    "fish_event_ids = list(ccfs_fish_lice_df.event_id.unique())\n",
    "fish_not_event_ids = [eid for eid in fish_event_ids if eid not in event_event_ids]\n",
    "len(fish_not_event_ids)"
   ],
   "metadata": {
    "collapsed": false,
    "pycharm": {
     "name": "#%%\n"
    }
   }
  },
  {
   "cell_type": "code",
   "execution_count": 594,
   "outputs": [
    {
     "data": {
      "text/plain": "dict_keys(['51', '72', '74', '76', '77', '79', '78', '80', '81', '82', '83', '84', '85', '86', '87', '88', '89', '90', '91', '92', '93', '94', '95', '96', '97', '98', '99', '101', '100', '102', '103', '105', '106', '107', '112', '113', '125'])"
     },
     "execution_count": 594,
     "metadata": {},
     "output_type": "execute_result"
    }
   ],
   "source": [
    "unique_sid = {}\n",
    "for eid in fish_not_event_ids:\n",
    "    unique_sid[eid.split('_')[-1]] = 1\n",
    "unique_sid.keys()"
   ],
   "metadata": {
    "collapsed": false,
    "pycharm": {
     "name": "#%%\n"
    }
   }
  },
  {
   "cell_type": "code",
   "execution_count": 595,
   "outputs": [
    {
     "data": {
      "text/plain": "              event_id sampledate           region dfozone    sample_site  \\\n51  ccfs_2019-05-14_52 2019-05-14  Clayoquot Sound     2_3  Bedwell River   \n52  ccfs_2019-05-14_53 2019-05-14  Clayoquot Sound     2_3  Bedwell River   \n53  ccfs_2019-05-14_54 2019-05-14  Clayoquot Sound     2_3  Bedwell River   \n\n     latitude   longitude                     source  \n51  49.360867 -125.775533  Cedar Coast Field Station  \n52  49.360867 -125.775533  Cedar Coast Field Station  \n53  49.360867 -125.775533  Cedar Coast Field Station  ",
      "text/html": "<div>\n<style scoped>\n    .dataframe tbody tr th:only-of-type {\n        vertical-align: middle;\n    }\n\n    .dataframe tbody tr th {\n        vertical-align: top;\n    }\n\n    .dataframe thead th {\n        text-align: right;\n    }\n</style>\n<table border=\"1\" class=\"dataframe\">\n  <thead>\n    <tr style=\"text-align: right;\">\n      <th></th>\n      <th>event_id</th>\n      <th>sampledate</th>\n      <th>region</th>\n      <th>dfozone</th>\n      <th>sample_site</th>\n      <th>latitude</th>\n      <th>longitude</th>\n      <th>source</th>\n    </tr>\n  </thead>\n  <tbody>\n    <tr>\n      <th>51</th>\n      <td>ccfs_2019-05-14_52</td>\n      <td>2019-05-14</td>\n      <td>Clayoquot Sound</td>\n      <td>2_3</td>\n      <td>Bedwell River</td>\n      <td>49.360867</td>\n      <td>-125.775533</td>\n      <td>Cedar Coast Field Station</td>\n    </tr>\n    <tr>\n      <th>52</th>\n      <td>ccfs_2019-05-14_53</td>\n      <td>2019-05-14</td>\n      <td>Clayoquot Sound</td>\n      <td>2_3</td>\n      <td>Bedwell River</td>\n      <td>49.360867</td>\n      <td>-125.775533</td>\n      <td>Cedar Coast Field Station</td>\n    </tr>\n    <tr>\n      <th>53</th>\n      <td>ccfs_2019-05-14_54</td>\n      <td>2019-05-14</td>\n      <td>Clayoquot Sound</td>\n      <td>2_3</td>\n      <td>Bedwell River</td>\n      <td>49.360867</td>\n      <td>-125.775533</td>\n      <td>Cedar Coast Field Station</td>\n    </tr>\n  </tbody>\n</table>\n</div>"
     },
     "execution_count": 595,
     "metadata": {},
     "output_type": "execute_result"
    }
   ],
   "source": [
    "ccfs_events_df[ccfs_events_df['event_id'].str.startswith('ccfs_2019-05-14')]"
   ],
   "metadata": {
    "collapsed": false,
    "pycharm": {
     "name": "#%%\n"
    }
   }
  },
  {
   "cell_type": "code",
   "execution_count": 596,
   "outputs": [],
   "source": [
    "# wild_df = pd.merge(ccfs_events_df, cc_fish_lice_df, on='event_id', how='left')"
   ],
   "metadata": {
    "collapsed": false,
    "pycharm": {
     "name": "#%%\n"
    }
   }
  },
  {
   "cell_type": "code",
   "execution_count": 597,
   "outputs": [],
   "source": [
    "# wild_df.sampledate.dtype"
   ],
   "metadata": {
    "collapsed": false,
    "pycharm": {
     "name": "#%%\n"
    }
   }
  },
  {
   "cell_type": "code",
   "execution_count": 597,
   "outputs": [],
   "source": [],
   "metadata": {
    "collapsed": false,
    "pycharm": {
     "name": "#%%\n"
    }
   }
  }
 ],
 "metadata": {
  "kernelspec": {
   "display_name": "Python 3",
   "language": "python",
   "name": "python3"
  },
  "language_info": {
   "codemirror_mode": {
    "name": "ipython",
    "version": 2
   },
   "file_extension": ".py",
   "mimetype": "text/x-python",
   "name": "python",
   "nbconvert_exporter": "python",
   "pygments_lexer": "ipython2",
   "version": "2.7.6"
  }
 },
 "nbformat": 4,
 "nbformat_minor": 0
}