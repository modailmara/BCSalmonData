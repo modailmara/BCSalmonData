{
 "cells": [
  {
   "cell_type": "markdown",
   "source": [
    "## This Notebook formats the Salmon Coast Research Station wild sampling data to fit the format of our wild sampling data.\n",
    "### To integrate it with other wild data, run 'Integrate_Wild_Data.ipynb' after generating the formatted data.\n",
    "\n",
    "The data was downloaded on 13 March 2025 from [GitHub](https://github.com/CedarCoastFieldStation/Sea-lice-database). The [Cedar Coast site](https://cedarcoastsociety.org)"
   ],
   "metadata": {
    "collapsed": false,
    "pycharm": {
     "name": "#%% md\n"
    }
   }
  },
  {
   "cell_type": "code",
   "execution_count": 352,
   "outputs": [],
   "source": [
    "import pandas as pd\n",
    "from pathlib import Path"
   ],
   "metadata": {
    "collapsed": false,
    "pycharm": {
     "name": "#%%\n"
    }
   }
  },
  {
   "cell_type": "markdown",
   "source": [
    "### Configuration variables for this notebook\n",
    "Adjust for your local setup"
   ],
   "metadata": {
    "collapsed": false,
    "pycharm": {
     "name": "#%% md\n"
    }
   }
  },
  {
   "cell_type": "code",
   "execution_count": 353,
   "outputs": [],
   "source": [
    "# paths to the source Cedar Creek data files\n",
    "ccfs_wild_data_dir = Path('CedarCoast') / 'Data'\n",
    "ccfs_events_filepath = ccfs_wild_data_dir / 'ClayoquotSeaLice_Site_Data.csv'\n",
    "ccfs_fish_lice_filepath = ccfs_wild_data_dir / 'ClayoquotSeaLice_fishData.csv'\n",
    "\n",
    "# output paths for writing the formatted Cedar Creek Field Station data\n",
    "wild_data_dir = Path('.')\n",
    "ccfs_formatted_events_filepath = wild_data_dir / 'cedar_coast_wild_sample_events.csv'\n",
    "ccfs_formatted_lice_filepath = wild_data_dir / 'cedar_coast_wild_fish_lice.csv'"
   ],
   "metadata": {
    "collapsed": false,
    "pycharm": {
     "name": "#%%\n"
    }
   }
  },
  {
   "cell_type": "markdown",
   "source": [
    "# Format the event file\n",
    "\n",
    "We think that the \"Site ID\" is intended to be the same as the \"event_id\" field that we use - a unique label for a location and date.\n",
    "However, there are some duplicate \"Site ID\" in the Site_Data file, and many fish in fishData that don't correspond to \"Site ID\" in Site_Data.\n",
    "\n",
    "Our solution is to construct an events file from the information given, with the following properties:\n",
    "- event_id is \"ccfs_\" + location + date\n",
    "- there will be one lat/long for each location string\n",
    "- lat/long is the mean of all the lat/long for that location in Site_Data\n",
    "- the list of unique event_id is the union of unique event_id from Site_Data and fishData"
   ],
   "metadata": {
    "collapsed": false,
    "pycharm": {
     "name": "#%% md\n"
    }
   }
  },
  {
   "cell_type": "code",
   "execution_count": 354,
   "outputs": [
    {
     "data": {
      "text/plain": "  sampledate  Site ID time     location  salt_surf  salt_1m  temp_surf  \\\n0 2018-04-26        1  NaN   Buckle Bay        NaN      NaN        NaN   \n1 2018-05-16        2  NaN   Buckle Bay      28.04    28.11      11.88   \n2 2018-05-16        3  NaN   Elbow Bank      26.73    26.65      12.12   \n3 2018-05-16        4  NaN  Cypre River      25.10    25.18      12.28   \n4 2018-05-10        5  NaN   Elbow Bank      24.80    24.81      11.56   \n\n   temp_1m  salmon_captured  salmon_examined  ...  chum_examined  \\\n0      NaN             47.0             47.0  ...           47.0   \n1    11.72             35.0             16.0  ...           16.0   \n2    12.14             53.0             53.0  ...           48.0   \n3    12.12              8.0              8.0  ...            NaN   \n4    11.47             26.0             26.0  ...           26.0   \n\n   sockeye_examined  morts_recovery  morts_other  P_ratio  C_ratio   latitude  \\\n0               NaN             NaN          NaN      NaN      NaN        NaN   \n1               NaN             NaN          NaN      NaN      NaN  49°10.921   \n2               NaN             NaN          NaN      NaN      NaN  49°12.290   \n3               NaN             NaN          NaN      NaN      NaN  49°16.192   \n4               NaN             NaN          NaN      NaN      NaN  49°11.798   \n\n      longitude                                            bycatch notes  \n0           NaN                                                NaN   NaN  \n1  --125°57.883                                         1 oolichan   NaN  \n2  --125°57.134  tube snout, 4 lingcod, 4 flatfish, 2 sculpin, ...   NaN  \n3  --125°54.358                                         tube snout   NaN  \n4   -125°56.885            1 sculpin, 25-30 flatfish, juvenile cod   NaN  \n\n[5 rows x 23 columns]",
      "text/html": "<div>\n<style scoped>\n    .dataframe tbody tr th:only-of-type {\n        vertical-align: middle;\n    }\n\n    .dataframe tbody tr th {\n        vertical-align: top;\n    }\n\n    .dataframe thead th {\n        text-align: right;\n    }\n</style>\n<table border=\"1\" class=\"dataframe\">\n  <thead>\n    <tr style=\"text-align: right;\">\n      <th></th>\n      <th>sampledate</th>\n      <th>Site ID</th>\n      <th>time</th>\n      <th>location</th>\n      <th>salt_surf</th>\n      <th>salt_1m</th>\n      <th>temp_surf</th>\n      <th>temp_1m</th>\n      <th>salmon_captured</th>\n      <th>salmon_examined</th>\n      <th>...</th>\n      <th>chum_examined</th>\n      <th>sockeye_examined</th>\n      <th>morts_recovery</th>\n      <th>morts_other</th>\n      <th>P_ratio</th>\n      <th>C_ratio</th>\n      <th>latitude</th>\n      <th>longitude</th>\n      <th>bycatch</th>\n      <th>notes</th>\n    </tr>\n  </thead>\n  <tbody>\n    <tr>\n      <th>0</th>\n      <td>2018-04-26</td>\n      <td>1</td>\n      <td>NaN</td>\n      <td>Buckle Bay</td>\n      <td>NaN</td>\n      <td>NaN</td>\n      <td>NaN</td>\n      <td>NaN</td>\n      <td>47.0</td>\n      <td>47.0</td>\n      <td>...</td>\n      <td>47.0</td>\n      <td>NaN</td>\n      <td>NaN</td>\n      <td>NaN</td>\n      <td>NaN</td>\n      <td>NaN</td>\n      <td>NaN</td>\n      <td>NaN</td>\n      <td>NaN</td>\n      <td>NaN</td>\n    </tr>\n    <tr>\n      <th>1</th>\n      <td>2018-05-16</td>\n      <td>2</td>\n      <td>NaN</td>\n      <td>Buckle Bay</td>\n      <td>28.04</td>\n      <td>28.11</td>\n      <td>11.88</td>\n      <td>11.72</td>\n      <td>35.0</td>\n      <td>16.0</td>\n      <td>...</td>\n      <td>16.0</td>\n      <td>NaN</td>\n      <td>NaN</td>\n      <td>NaN</td>\n      <td>NaN</td>\n      <td>NaN</td>\n      <td>49°10.921</td>\n      <td>--125°57.883</td>\n      <td>1 oolichan</td>\n      <td>NaN</td>\n    </tr>\n    <tr>\n      <th>2</th>\n      <td>2018-05-16</td>\n      <td>3</td>\n      <td>NaN</td>\n      <td>Elbow Bank</td>\n      <td>26.73</td>\n      <td>26.65</td>\n      <td>12.12</td>\n      <td>12.14</td>\n      <td>53.0</td>\n      <td>53.0</td>\n      <td>...</td>\n      <td>48.0</td>\n      <td>NaN</td>\n      <td>NaN</td>\n      <td>NaN</td>\n      <td>NaN</td>\n      <td>NaN</td>\n      <td>49°12.290</td>\n      <td>--125°57.134</td>\n      <td>tube snout, 4 lingcod, 4 flatfish, 2 sculpin, ...</td>\n      <td>NaN</td>\n    </tr>\n    <tr>\n      <th>3</th>\n      <td>2018-05-16</td>\n      <td>4</td>\n      <td>NaN</td>\n      <td>Cypre River</td>\n      <td>25.10</td>\n      <td>25.18</td>\n      <td>12.28</td>\n      <td>12.12</td>\n      <td>8.0</td>\n      <td>8.0</td>\n      <td>...</td>\n      <td>NaN</td>\n      <td>NaN</td>\n      <td>NaN</td>\n      <td>NaN</td>\n      <td>NaN</td>\n      <td>NaN</td>\n      <td>49°16.192</td>\n      <td>--125°54.358</td>\n      <td>tube snout</td>\n      <td>NaN</td>\n    </tr>\n    <tr>\n      <th>4</th>\n      <td>2018-05-10</td>\n      <td>5</td>\n      <td>NaN</td>\n      <td>Elbow Bank</td>\n      <td>24.80</td>\n      <td>24.81</td>\n      <td>11.56</td>\n      <td>11.47</td>\n      <td>26.0</td>\n      <td>26.0</td>\n      <td>...</td>\n      <td>26.0</td>\n      <td>NaN</td>\n      <td>NaN</td>\n      <td>NaN</td>\n      <td>NaN</td>\n      <td>NaN</td>\n      <td>49°11.798</td>\n      <td>-125°56.885</td>\n      <td>1 sculpin, 25-30 flatfish, juvenile cod</td>\n      <td>NaN</td>\n    </tr>\n  </tbody>\n</table>\n<p>5 rows × 23 columns</p>\n</div>"
     },
     "execution_count": 354,
     "metadata": {},
     "output_type": "execute_result"
    }
   ],
   "source": [
    "# read in the event file and parse the year, month, day columns into a date\n",
    "ccfs_events_df = pd.read_csv(ccfs_events_filepath, parse_dates={'sampledate': ['year', 'month', 'day']})\n",
    "ccfs_events_df.head()"
   ],
   "metadata": {
    "collapsed": false,
    "pycharm": {
     "name": "#%%\n"
    }
   }
  },
  {
   "cell_type": "code",
   "execution_count": 355,
   "outputs": [],
   "source": [
    "# there are a couple of inconsistencies in the location names\n",
    "# define a function as we'll need to do this to the fish_lice dataframe as well\n",
    "def fix_locations(dataframe):\n",
    "    \"\"\"\n",
    "    Renames 'location' as 'sample_site' and makes some manual fixes so the strings are consistent.\n",
    "    Modifies in place.\n",
    "\n",
    "    :param dataframe: The dataframe to make a sample_site column\n",
    "    :type dataframe: pandas.DataFrame object\n",
    "    \"\"\"\n",
    "    # remove any surrounding spaces\n",
    "    dataframe['sample_site'] = dataframe.location.str.strip()\n",
    "\n",
    "    # replace some names for consistency\n",
    "    dataframe['sample_site'].replace('Bedwell estuary', 'Bedwell Estuary', inplace=True)\n",
    "    dataframe['sample_site'].replace('Bedwell estuary 2', 'Bedwell Estuary 2', inplace=True)\n",
    "    dataframe['sample_site'].replace('Bedwell estuary 3', 'Bedwell Estuary 3', inplace=True)\n",
    "    dataframe['sample_site'].replace('Bedwell estuary 4', 'Bedwell Estuary 4', inplace=True)\n",
    "    dataframe['sample_site'].replace('Cypre', 'Cypre River', inplace=True)\n",
    "    dataframe['sample_site'].replace('Meares North', 'North Meares', inplace=True)\n",
    "    dataframe['sample_site'].replace('Cancer', 'Cancer (Herbert)', inplace=True)\n",
    "    dataframe['sample_site'].replace('Tranquil estuary', 'Tranquil Estuary', inplace=True)"
   ],
   "metadata": {
    "collapsed": false,
    "pycharm": {
     "name": "#%%\n"
    }
   }
  },
  {
   "cell_type": "code",
   "execution_count": 356,
   "outputs": [],
   "source": [
    "fix_locations(ccfs_events_df)"
   ],
   "metadata": {
    "collapsed": false,
    "pycharm": {
     "name": "#%%\n"
    }
   }
  },
  {
   "cell_type": "code",
   "execution_count": 357,
   "outputs": [],
   "source": [
    "# define a function as we'll need to do this to the fish_lice dataframe as well\n",
    "def make_event_id(dataframe):\n",
    "    \"\"\"\n",
    "    Make a new column in the dataframe \"event_id\" that is \"ccfs_\" + sample_site + sampledate\n",
    "    Assumes the dataframe has columns 'sample_site' and 'sampledate'\n",
    "    Modifies in place.\n",
    "\n",
    "    :param dataframe: A dataframe to add event_id column to\n",
    "    :type dataframe: pandas.DataFrame object\n",
    "    \"\"\"\n",
    "    dataframe['event_id'] = 'ccfs_' + dataframe['sample_site'] + '_' + dataframe.sampledate.dt.strftime('%Y-%m-%d')\n",
    "\n",
    "    # replace spaces with '_' to avoid multiple words\n",
    "    dataframe['event_id'] = dataframe['event_id'].str.replace(' ', '_')"
   ],
   "metadata": {
    "collapsed": false,
    "pycharm": {
     "name": "#%%\n"
    }
   }
  },
  {
   "cell_type": "code",
   "execution_count": 358,
   "outputs": [
    {
     "data": {
      "text/plain": "  sampledate  Site ID time     location  salt_surf  salt_1m  temp_surf  \\\n0 2018-04-26        1  NaN   Buckle Bay        NaN      NaN        NaN   \n1 2018-05-16        2  NaN   Buckle Bay      28.04    28.11      11.88   \n2 2018-05-16        3  NaN   Elbow Bank      26.73    26.65      12.12   \n3 2018-05-16        4  NaN  Cypre River      25.10    25.18      12.28   \n4 2018-05-10        5  NaN   Elbow Bank      24.80    24.81      11.56   \n\n   temp_1m  salmon_captured  salmon_examined  ...  morts_recovery  \\\n0      NaN             47.0             47.0  ...             NaN   \n1    11.72             35.0             16.0  ...             NaN   \n2    12.14             53.0             53.0  ...             NaN   \n3    12.12              8.0              8.0  ...             NaN   \n4    11.47             26.0             26.0  ...             NaN   \n\n   morts_other  P_ratio  C_ratio   latitude     longitude  \\\n0          NaN      NaN      NaN        NaN           NaN   \n1          NaN      NaN      NaN  49°10.921  --125°57.883   \n2          NaN      NaN      NaN  49°12.290  --125°57.134   \n3          NaN      NaN      NaN  49°16.192  --125°54.358   \n4          NaN      NaN      NaN  49°11.798   -125°56.885   \n\n                                             bycatch  notes  sample_site  \\\n0                                                NaN    NaN   Buckle Bay   \n1                                         1 oolichan    NaN   Buckle Bay   \n2  tube snout, 4 lingcod, 4 flatfish, 2 sculpin, ...    NaN   Elbow Bank   \n3                                         tube snout    NaN  Cypre River   \n4            1 sculpin, 25-30 flatfish, juvenile cod    NaN   Elbow Bank   \n\n                      event_id  \n0   ccfs_Buckle_Bay_2018-04-26  \n1   ccfs_Buckle_Bay_2018-05-16  \n2   ccfs_Elbow_Bank_2018-05-16  \n3  ccfs_Cypre_River_2018-05-16  \n4   ccfs_Elbow_Bank_2018-05-10  \n\n[5 rows x 25 columns]",
      "text/html": "<div>\n<style scoped>\n    .dataframe tbody tr th:only-of-type {\n        vertical-align: middle;\n    }\n\n    .dataframe tbody tr th {\n        vertical-align: top;\n    }\n\n    .dataframe thead th {\n        text-align: right;\n    }\n</style>\n<table border=\"1\" class=\"dataframe\">\n  <thead>\n    <tr style=\"text-align: right;\">\n      <th></th>\n      <th>sampledate</th>\n      <th>Site ID</th>\n      <th>time</th>\n      <th>location</th>\n      <th>salt_surf</th>\n      <th>salt_1m</th>\n      <th>temp_surf</th>\n      <th>temp_1m</th>\n      <th>salmon_captured</th>\n      <th>salmon_examined</th>\n      <th>...</th>\n      <th>morts_recovery</th>\n      <th>morts_other</th>\n      <th>P_ratio</th>\n      <th>C_ratio</th>\n      <th>latitude</th>\n      <th>longitude</th>\n      <th>bycatch</th>\n      <th>notes</th>\n      <th>sample_site</th>\n      <th>event_id</th>\n    </tr>\n  </thead>\n  <tbody>\n    <tr>\n      <th>0</th>\n      <td>2018-04-26</td>\n      <td>1</td>\n      <td>NaN</td>\n      <td>Buckle Bay</td>\n      <td>NaN</td>\n      <td>NaN</td>\n      <td>NaN</td>\n      <td>NaN</td>\n      <td>47.0</td>\n      <td>47.0</td>\n      <td>...</td>\n      <td>NaN</td>\n      <td>NaN</td>\n      <td>NaN</td>\n      <td>NaN</td>\n      <td>NaN</td>\n      <td>NaN</td>\n      <td>NaN</td>\n      <td>NaN</td>\n      <td>Buckle Bay</td>\n      <td>ccfs_Buckle_Bay_2018-04-26</td>\n    </tr>\n    <tr>\n      <th>1</th>\n      <td>2018-05-16</td>\n      <td>2</td>\n      <td>NaN</td>\n      <td>Buckle Bay</td>\n      <td>28.04</td>\n      <td>28.11</td>\n      <td>11.88</td>\n      <td>11.72</td>\n      <td>35.0</td>\n      <td>16.0</td>\n      <td>...</td>\n      <td>NaN</td>\n      <td>NaN</td>\n      <td>NaN</td>\n      <td>NaN</td>\n      <td>49°10.921</td>\n      <td>--125°57.883</td>\n      <td>1 oolichan</td>\n      <td>NaN</td>\n      <td>Buckle Bay</td>\n      <td>ccfs_Buckle_Bay_2018-05-16</td>\n    </tr>\n    <tr>\n      <th>2</th>\n      <td>2018-05-16</td>\n      <td>3</td>\n      <td>NaN</td>\n      <td>Elbow Bank</td>\n      <td>26.73</td>\n      <td>26.65</td>\n      <td>12.12</td>\n      <td>12.14</td>\n      <td>53.0</td>\n      <td>53.0</td>\n      <td>...</td>\n      <td>NaN</td>\n      <td>NaN</td>\n      <td>NaN</td>\n      <td>NaN</td>\n      <td>49°12.290</td>\n      <td>--125°57.134</td>\n      <td>tube snout, 4 lingcod, 4 flatfish, 2 sculpin, ...</td>\n      <td>NaN</td>\n      <td>Elbow Bank</td>\n      <td>ccfs_Elbow_Bank_2018-05-16</td>\n    </tr>\n    <tr>\n      <th>3</th>\n      <td>2018-05-16</td>\n      <td>4</td>\n      <td>NaN</td>\n      <td>Cypre River</td>\n      <td>25.10</td>\n      <td>25.18</td>\n      <td>12.28</td>\n      <td>12.12</td>\n      <td>8.0</td>\n      <td>8.0</td>\n      <td>...</td>\n      <td>NaN</td>\n      <td>NaN</td>\n      <td>NaN</td>\n      <td>NaN</td>\n      <td>49°16.192</td>\n      <td>--125°54.358</td>\n      <td>tube snout</td>\n      <td>NaN</td>\n      <td>Cypre River</td>\n      <td>ccfs_Cypre_River_2018-05-16</td>\n    </tr>\n    <tr>\n      <th>4</th>\n      <td>2018-05-10</td>\n      <td>5</td>\n      <td>NaN</td>\n      <td>Elbow Bank</td>\n      <td>24.80</td>\n      <td>24.81</td>\n      <td>11.56</td>\n      <td>11.47</td>\n      <td>26.0</td>\n      <td>26.0</td>\n      <td>...</td>\n      <td>NaN</td>\n      <td>NaN</td>\n      <td>NaN</td>\n      <td>NaN</td>\n      <td>49°11.798</td>\n      <td>-125°56.885</td>\n      <td>1 sculpin, 25-30 flatfish, juvenile cod</td>\n      <td>NaN</td>\n      <td>Elbow Bank</td>\n      <td>ccfs_Elbow_Bank_2018-05-10</td>\n    </tr>\n  </tbody>\n</table>\n<p>5 rows × 25 columns</p>\n</div>"
     },
     "execution_count": 358,
     "metadata": {},
     "output_type": "execute_result"
    }
   ],
   "source": [
    "make_event_id(ccfs_events_df)\n",
    "ccfs_events_df.head()"
   ],
   "metadata": {
    "collapsed": false,
    "pycharm": {
     "name": "#%%\n"
    }
   }
  },
  {
   "cell_type": "code",
   "execution_count": 359,
   "outputs": [],
   "source": [
    "def convert_deg_min_to_dec_deg(deg_min):\n",
    "    \"\"\"\n",
    "    Converts a lat or long expressed as a string with degrees and decimal minutes, to a float of decimal degrees.\n",
    "    :param deg_min: Degree and decimal minutes, e.g. \"--125°57.883\"\n",
    "    :type deg_min: str\n",
    "    :return: Decimal degree equivalent\n",
    "    :rtype: float\n",
    "    \"\"\"\n",
    "    # sometimes it's null - just return it\n",
    "    if pd.isnull(deg_min):\n",
    "        return deg_min\n",
    "\n",
    "    # split the string at the degree symbol. strip to remove any extra spaces\n",
    "    try:\n",
    "        degree_str, minute_str = [x.strip() for x in deg_min.split('°')]\n",
    "    except AttributeError as e:\n",
    "        print(\"{} ({})\".format(deg_min, type(deg_min)))\n",
    "        raise e\n",
    "\n",
    "    # sometimes the degree has '--' at the front\n",
    "    if degree_str.startswith('--'):\n",
    "        degree_str = degree_str[1:]\n",
    "\n",
    "    degree = float(degree_str)\n",
    "    minute = float(minute_str) if degree > 0 else -float(minute_str)\n",
    "    dec_degree = degree + minute / 60\n",
    "\n",
    "    return dec_degree"
   ],
   "metadata": {
    "collapsed": false,
    "pycharm": {
     "name": "#%%\n"
    }
   }
  },
  {
   "cell_type": "code",
   "execution_count": 360,
   "outputs": [
    {
     "data": {
      "text/plain": "  sampledate  Site ID time     location  salt_surf  salt_1m  temp_surf  \\\n0 2018-04-26        1  NaN   Buckle Bay        NaN      NaN        NaN   \n1 2018-05-16        2  NaN   Buckle Bay      28.04    28.11      11.88   \n2 2018-05-16        3  NaN   Elbow Bank      26.73    26.65      12.12   \n3 2018-05-16        4  NaN  Cypre River      25.10    25.18      12.28   \n4 2018-05-10        5  NaN   Elbow Bank      24.80    24.81      11.56   \n\n   temp_1m  salmon_captured  salmon_examined  ...  morts_recovery  \\\n0      NaN             47.0             47.0  ...             NaN   \n1    11.72             35.0             16.0  ...             NaN   \n2    12.14             53.0             53.0  ...             NaN   \n3    12.12              8.0              8.0  ...             NaN   \n4    11.47             26.0             26.0  ...             NaN   \n\n   morts_other  P_ratio  C_ratio   latitude   longitude  \\\n0          NaN      NaN      NaN        NaN         NaN   \n1          NaN      NaN      NaN  49.182017 -125.964717   \n2          NaN      NaN      NaN  49.204833 -125.952233   \n3          NaN      NaN      NaN  49.269867 -125.905967   \n4          NaN      NaN      NaN  49.196633 -125.948083   \n\n                                             bycatch  notes  sample_site  \\\n0                                                NaN    NaN   Buckle Bay   \n1                                         1 oolichan    NaN   Buckle Bay   \n2  tube snout, 4 lingcod, 4 flatfish, 2 sculpin, ...    NaN   Elbow Bank   \n3                                         tube snout    NaN  Cypre River   \n4            1 sculpin, 25-30 flatfish, juvenile cod    NaN   Elbow Bank   \n\n                      event_id  \n0   ccfs_Buckle_Bay_2018-04-26  \n1   ccfs_Buckle_Bay_2018-05-16  \n2   ccfs_Elbow_Bank_2018-05-16  \n3  ccfs_Cypre_River_2018-05-16  \n4   ccfs_Elbow_Bank_2018-05-10  \n\n[5 rows x 25 columns]",
      "text/html": "<div>\n<style scoped>\n    .dataframe tbody tr th:only-of-type {\n        vertical-align: middle;\n    }\n\n    .dataframe tbody tr th {\n        vertical-align: top;\n    }\n\n    .dataframe thead th {\n        text-align: right;\n    }\n</style>\n<table border=\"1\" class=\"dataframe\">\n  <thead>\n    <tr style=\"text-align: right;\">\n      <th></th>\n      <th>sampledate</th>\n      <th>Site ID</th>\n      <th>time</th>\n      <th>location</th>\n      <th>salt_surf</th>\n      <th>salt_1m</th>\n      <th>temp_surf</th>\n      <th>temp_1m</th>\n      <th>salmon_captured</th>\n      <th>salmon_examined</th>\n      <th>...</th>\n      <th>morts_recovery</th>\n      <th>morts_other</th>\n      <th>P_ratio</th>\n      <th>C_ratio</th>\n      <th>latitude</th>\n      <th>longitude</th>\n      <th>bycatch</th>\n      <th>notes</th>\n      <th>sample_site</th>\n      <th>event_id</th>\n    </tr>\n  </thead>\n  <tbody>\n    <tr>\n      <th>0</th>\n      <td>2018-04-26</td>\n      <td>1</td>\n      <td>NaN</td>\n      <td>Buckle Bay</td>\n      <td>NaN</td>\n      <td>NaN</td>\n      <td>NaN</td>\n      <td>NaN</td>\n      <td>47.0</td>\n      <td>47.0</td>\n      <td>...</td>\n      <td>NaN</td>\n      <td>NaN</td>\n      <td>NaN</td>\n      <td>NaN</td>\n      <td>NaN</td>\n      <td>NaN</td>\n      <td>NaN</td>\n      <td>NaN</td>\n      <td>Buckle Bay</td>\n      <td>ccfs_Buckle_Bay_2018-04-26</td>\n    </tr>\n    <tr>\n      <th>1</th>\n      <td>2018-05-16</td>\n      <td>2</td>\n      <td>NaN</td>\n      <td>Buckle Bay</td>\n      <td>28.04</td>\n      <td>28.11</td>\n      <td>11.88</td>\n      <td>11.72</td>\n      <td>35.0</td>\n      <td>16.0</td>\n      <td>...</td>\n      <td>NaN</td>\n      <td>NaN</td>\n      <td>NaN</td>\n      <td>NaN</td>\n      <td>49.182017</td>\n      <td>-125.964717</td>\n      <td>1 oolichan</td>\n      <td>NaN</td>\n      <td>Buckle Bay</td>\n      <td>ccfs_Buckle_Bay_2018-05-16</td>\n    </tr>\n    <tr>\n      <th>2</th>\n      <td>2018-05-16</td>\n      <td>3</td>\n      <td>NaN</td>\n      <td>Elbow Bank</td>\n      <td>26.73</td>\n      <td>26.65</td>\n      <td>12.12</td>\n      <td>12.14</td>\n      <td>53.0</td>\n      <td>53.0</td>\n      <td>...</td>\n      <td>NaN</td>\n      <td>NaN</td>\n      <td>NaN</td>\n      <td>NaN</td>\n      <td>49.204833</td>\n      <td>-125.952233</td>\n      <td>tube snout, 4 lingcod, 4 flatfish, 2 sculpin, ...</td>\n      <td>NaN</td>\n      <td>Elbow Bank</td>\n      <td>ccfs_Elbow_Bank_2018-05-16</td>\n    </tr>\n    <tr>\n      <th>3</th>\n      <td>2018-05-16</td>\n      <td>4</td>\n      <td>NaN</td>\n      <td>Cypre River</td>\n      <td>25.10</td>\n      <td>25.18</td>\n      <td>12.28</td>\n      <td>12.12</td>\n      <td>8.0</td>\n      <td>8.0</td>\n      <td>...</td>\n      <td>NaN</td>\n      <td>NaN</td>\n      <td>NaN</td>\n      <td>NaN</td>\n      <td>49.269867</td>\n      <td>-125.905967</td>\n      <td>tube snout</td>\n      <td>NaN</td>\n      <td>Cypre River</td>\n      <td>ccfs_Cypre_River_2018-05-16</td>\n    </tr>\n    <tr>\n      <th>4</th>\n      <td>2018-05-10</td>\n      <td>5</td>\n      <td>NaN</td>\n      <td>Elbow Bank</td>\n      <td>24.80</td>\n      <td>24.81</td>\n      <td>11.56</td>\n      <td>11.47</td>\n      <td>26.0</td>\n      <td>26.0</td>\n      <td>...</td>\n      <td>NaN</td>\n      <td>NaN</td>\n      <td>NaN</td>\n      <td>NaN</td>\n      <td>49.196633</td>\n      <td>-125.948083</td>\n      <td>1 sculpin, 25-30 flatfish, juvenile cod</td>\n      <td>NaN</td>\n      <td>Elbow Bank</td>\n      <td>ccfs_Elbow_Bank_2018-05-10</td>\n    </tr>\n  </tbody>\n</table>\n<p>5 rows × 25 columns</p>\n</div>"
     },
     "execution_count": 360,
     "metadata": {},
     "output_type": "execute_result"
    }
   ],
   "source": [
    "# convert latitude and longitude to decimal degrees\n",
    "ccfs_events_df.latitude = ccfs_events_df.latitude.apply(convert_deg_min_to_dec_deg)\n",
    "ccfs_events_df.longitude = ccfs_events_df.longitude.apply(convert_deg_min_to_dec_deg)\n",
    "\n",
    "ccfs_events_df.head()"
   ],
   "metadata": {
    "collapsed": false,
    "pycharm": {
     "name": "#%%\n"
    }
   }
  },
  {
   "cell_type": "code",
   "execution_count": 361,
   "outputs": [
    {
     "data": {
      "text/plain": "184"
     },
     "execution_count": 361,
     "metadata": {},
     "output_type": "execute_result"
    }
   ],
   "source": [
    "len(ccfs_events_df)"
   ],
   "metadata": {
    "collapsed": false,
    "pycharm": {
     "name": "#%%\n"
    }
   }
  },
  {
   "cell_type": "code",
   "execution_count": 362,
   "outputs": [
    {
     "data": {
      "text/plain": "                  latitude   longitude\nsample_site                           \nBare Bluff       49.331303 -125.798773\nBarkley Sound    49.024417 -125.288800\nBedwell 2        49.321752 -125.816217\nBedwell 3        49.267990 -125.837204\nBedwell Estuary  49.312400 -125.814778",
      "text/html": "<div>\n<style scoped>\n    .dataframe tbody tr th:only-of-type {\n        vertical-align: middle;\n    }\n\n    .dataframe tbody tr th {\n        vertical-align: top;\n    }\n\n    .dataframe thead th {\n        text-align: right;\n    }\n</style>\n<table border=\"1\" class=\"dataframe\">\n  <thead>\n    <tr style=\"text-align: right;\">\n      <th></th>\n      <th>latitude</th>\n      <th>longitude</th>\n    </tr>\n    <tr>\n      <th>sample_site</th>\n      <th></th>\n      <th></th>\n    </tr>\n  </thead>\n  <tbody>\n    <tr>\n      <th>Bare Bluff</th>\n      <td>49.331303</td>\n      <td>-125.798773</td>\n    </tr>\n    <tr>\n      <th>Barkley Sound</th>\n      <td>49.024417</td>\n      <td>-125.288800</td>\n    </tr>\n    <tr>\n      <th>Bedwell 2</th>\n      <td>49.321752</td>\n      <td>-125.816217</td>\n    </tr>\n    <tr>\n      <th>Bedwell 3</th>\n      <td>49.267990</td>\n      <td>-125.837204</td>\n    </tr>\n    <tr>\n      <th>Bedwell Estuary</th>\n      <td>49.312400</td>\n      <td>-125.814778</td>\n    </tr>\n  </tbody>\n</table>\n</div>"
     },
     "execution_count": 362,
     "metadata": {},
     "output_type": "execute_result"
    }
   ],
   "source": [
    "# make a lat/long lookup dataframe with mean lat/long\n",
    "site_group = ccfs_events_df.groupby('sample_site')\n",
    "position_lookup = site_group[['latitude', 'longitude']].mean()\n",
    "position_lookup.head()"
   ],
   "metadata": {
    "collapsed": false,
    "pycharm": {
     "name": "#%%\n"
    }
   }
  },
  {
   "cell_type": "markdown",
   "source": [
    "### !! Pause processing events until getting the fish events !!"
   ],
   "metadata": {
    "collapsed": false,
    "pycharm": {
     "name": "#%% md\n"
    }
   }
  },
  {
   "cell_type": "code",
   "execution_count": 362,
   "outputs": [],
   "source": [],
   "metadata": {
    "collapsed": false,
    "pycharm": {
     "name": "#%%\n"
    }
   }
  },
  {
   "cell_type": "code",
   "execution_count": 362,
   "outputs": [],
   "source": [],
   "metadata": {
    "collapsed": false,
    "pycharm": {
     "name": "#%%\n"
    }
   }
  },
  {
   "cell_type": "code",
   "execution_count": 362,
   "outputs": [],
   "source": [],
   "metadata": {
    "collapsed": false,
    "pycharm": {
     "name": "#%%\n"
    }
   }
  },
  {
   "cell_type": "markdown",
   "source": [
    "# Format the fish and lice data file"
   ],
   "metadata": {
    "collapsed": false,
    "pycharm": {
     "name": "#%% md\n"
    }
   }
  },
  {
   "cell_type": "code",
   "execution_count": 363,
   "outputs": [
    {
     "data": {
      "text/plain": "  sampledate  fish_id  site_id    location  fish_num species  length  height  \\\n0 2018-04-26        1        1  Buckle Bay         1    chum    44.0     5.0   \n1 2018-04-26        2        1  Buckle Bay         2    chum    46.0     7.0   \n2 2018-04-26        3        1  Buckle Bay         3    chum    49.0     6.0   \n3 2018-04-26        4        1  Buckle Bay         4    chum    48.0     9.0   \n4 2018-04-26        5        1  Buckle Bay         5    chum    50.0    10.0   \n\n  Lep_cope  chalA  ...  white_eye  Grazed_gill_plate  Lironca  comments  \\\n0        1    2.0  ...        NaN                NaN      NaN       NaN   \n1      NaN    1.0  ...        NaN                NaN      NaN       NaN   \n2      NaN    2.0  ...        NaN                NaN      NaN       NaN   \n3      NaN    3.0  ...        NaN                NaN      NaN       NaN   \n4      NaN    1.0  ...        NaN                NaN      NaN       NaN   \n\n   sum_all_lice  Prevalence  Motile Lep  Motile Caligus  chal  attached  \n0           3.0         1.0         0.0             0.0   2.0       3.0  \n1           2.0         1.0         0.0             0.0   2.0       2.0  \n2           4.0         1.0         0.0             0.0   4.0       4.0  \n3           3.0         1.0         0.0             0.0   3.0       3.0  \n4           2.0         1.0         0.0             0.0   2.0       2.0  \n\n[5 rows x 42 columns]",
      "text/html": "<div>\n<style scoped>\n    .dataframe tbody tr th:only-of-type {\n        vertical-align: middle;\n    }\n\n    .dataframe tbody tr th {\n        vertical-align: top;\n    }\n\n    .dataframe thead th {\n        text-align: right;\n    }\n</style>\n<table border=\"1\" class=\"dataframe\">\n  <thead>\n    <tr style=\"text-align: right;\">\n      <th></th>\n      <th>sampledate</th>\n      <th>fish_id</th>\n      <th>site_id</th>\n      <th>location</th>\n      <th>fish_num</th>\n      <th>species</th>\n      <th>length</th>\n      <th>height</th>\n      <th>Lep_cope</th>\n      <th>chalA</th>\n      <th>...</th>\n      <th>white_eye</th>\n      <th>Grazed_gill_plate</th>\n      <th>Lironca</th>\n      <th>comments</th>\n      <th>sum_all_lice</th>\n      <th>Prevalence</th>\n      <th>Motile Lep</th>\n      <th>Motile Caligus</th>\n      <th>chal</th>\n      <th>attached</th>\n    </tr>\n  </thead>\n  <tbody>\n    <tr>\n      <th>0</th>\n      <td>2018-04-26</td>\n      <td>1</td>\n      <td>1</td>\n      <td>Buckle Bay</td>\n      <td>1</td>\n      <td>chum</td>\n      <td>44.0</td>\n      <td>5.0</td>\n      <td>1</td>\n      <td>2.0</td>\n      <td>...</td>\n      <td>NaN</td>\n      <td>NaN</td>\n      <td>NaN</td>\n      <td>NaN</td>\n      <td>3.0</td>\n      <td>1.0</td>\n      <td>0.0</td>\n      <td>0.0</td>\n      <td>2.0</td>\n      <td>3.0</td>\n    </tr>\n    <tr>\n      <th>1</th>\n      <td>2018-04-26</td>\n      <td>2</td>\n      <td>1</td>\n      <td>Buckle Bay</td>\n      <td>2</td>\n      <td>chum</td>\n      <td>46.0</td>\n      <td>7.0</td>\n      <td>NaN</td>\n      <td>1.0</td>\n      <td>...</td>\n      <td>NaN</td>\n      <td>NaN</td>\n      <td>NaN</td>\n      <td>NaN</td>\n      <td>2.0</td>\n      <td>1.0</td>\n      <td>0.0</td>\n      <td>0.0</td>\n      <td>2.0</td>\n      <td>2.0</td>\n    </tr>\n    <tr>\n      <th>2</th>\n      <td>2018-04-26</td>\n      <td>3</td>\n      <td>1</td>\n      <td>Buckle Bay</td>\n      <td>3</td>\n      <td>chum</td>\n      <td>49.0</td>\n      <td>6.0</td>\n      <td>NaN</td>\n      <td>2.0</td>\n      <td>...</td>\n      <td>NaN</td>\n      <td>NaN</td>\n      <td>NaN</td>\n      <td>NaN</td>\n      <td>4.0</td>\n      <td>1.0</td>\n      <td>0.0</td>\n      <td>0.0</td>\n      <td>4.0</td>\n      <td>4.0</td>\n    </tr>\n    <tr>\n      <th>3</th>\n      <td>2018-04-26</td>\n      <td>4</td>\n      <td>1</td>\n      <td>Buckle Bay</td>\n      <td>4</td>\n      <td>chum</td>\n      <td>48.0</td>\n      <td>9.0</td>\n      <td>NaN</td>\n      <td>3.0</td>\n      <td>...</td>\n      <td>NaN</td>\n      <td>NaN</td>\n      <td>NaN</td>\n      <td>NaN</td>\n      <td>3.0</td>\n      <td>1.0</td>\n      <td>0.0</td>\n      <td>0.0</td>\n      <td>3.0</td>\n      <td>3.0</td>\n    </tr>\n    <tr>\n      <th>4</th>\n      <td>2018-04-26</td>\n      <td>5</td>\n      <td>1</td>\n      <td>Buckle Bay</td>\n      <td>5</td>\n      <td>chum</td>\n      <td>50.0</td>\n      <td>10.0</td>\n      <td>NaN</td>\n      <td>1.0</td>\n      <td>...</td>\n      <td>NaN</td>\n      <td>NaN</td>\n      <td>NaN</td>\n      <td>NaN</td>\n      <td>2.0</td>\n      <td>1.0</td>\n      <td>0.0</td>\n      <td>0.0</td>\n      <td>2.0</td>\n      <td>2.0</td>\n    </tr>\n  </tbody>\n</table>\n<p>5 rows × 42 columns</p>\n</div>"
     },
     "execution_count": 363,
     "metadata": {},
     "output_type": "execute_result"
    }
   ],
   "source": [
    "# load the fish and lice data files\n",
    "ccfs_fish_lice_df = pd.read_csv(ccfs_fish_lice_filepath, parse_dates={'sampledate': ['year', 'month', 'day']})\n",
    "ccfs_fish_lice_df.head()"
   ],
   "metadata": {
    "collapsed": false,
    "pycharm": {
     "name": "#%%\n"
    }
   }
  },
  {
   "cell_type": "code",
   "execution_count": 364,
   "outputs": [
    {
     "data": {
      "text/plain": "  sampledate  fish_id  site_id    location  fish_num species  length  height  \\\n0 2018-04-26        1        1  Buckle Bay         1    chum    44.0     5.0   \n1 2018-04-26        2        1  Buckle Bay         2    chum    46.0     7.0   \n2 2018-04-26        3        1  Buckle Bay         3    chum    49.0     6.0   \n3 2018-04-26        4        1  Buckle Bay         4    chum    48.0     9.0   \n4 2018-04-26        5        1  Buckle Bay         5    chum    50.0    10.0   \n\n  Lep_cope  chalA  ...  Lironca  comments  sum_all_lice  Prevalence  \\\n0        1    2.0  ...      NaN       NaN           3.0         1.0   \n1      NaN    1.0  ...      NaN       NaN           2.0         1.0   \n2      NaN    2.0  ...      NaN       NaN           4.0         1.0   \n3      NaN    3.0  ...      NaN       NaN           3.0         1.0   \n4      NaN    1.0  ...      NaN       NaN           2.0         1.0   \n\n   Motile Lep  Motile Caligus  chal  attached  sample_site  \\\n0         0.0             0.0   2.0       3.0   Buckle Bay   \n1         0.0             0.0   2.0       2.0   Buckle Bay   \n2         0.0             0.0   4.0       4.0   Buckle Bay   \n3         0.0             0.0   3.0       3.0   Buckle Bay   \n4         0.0             0.0   2.0       2.0   Buckle Bay   \n\n                     event_id  \n0  ccfs_Buckle_Bay_2018-04-26  \n1  ccfs_Buckle_Bay_2018-04-26  \n2  ccfs_Buckle_Bay_2018-04-26  \n3  ccfs_Buckle_Bay_2018-04-26  \n4  ccfs_Buckle_Bay_2018-04-26  \n\n[5 rows x 44 columns]",
      "text/html": "<div>\n<style scoped>\n    .dataframe tbody tr th:only-of-type {\n        vertical-align: middle;\n    }\n\n    .dataframe tbody tr th {\n        vertical-align: top;\n    }\n\n    .dataframe thead th {\n        text-align: right;\n    }\n</style>\n<table border=\"1\" class=\"dataframe\">\n  <thead>\n    <tr style=\"text-align: right;\">\n      <th></th>\n      <th>sampledate</th>\n      <th>fish_id</th>\n      <th>site_id</th>\n      <th>location</th>\n      <th>fish_num</th>\n      <th>species</th>\n      <th>length</th>\n      <th>height</th>\n      <th>Lep_cope</th>\n      <th>chalA</th>\n      <th>...</th>\n      <th>Lironca</th>\n      <th>comments</th>\n      <th>sum_all_lice</th>\n      <th>Prevalence</th>\n      <th>Motile Lep</th>\n      <th>Motile Caligus</th>\n      <th>chal</th>\n      <th>attached</th>\n      <th>sample_site</th>\n      <th>event_id</th>\n    </tr>\n  </thead>\n  <tbody>\n    <tr>\n      <th>0</th>\n      <td>2018-04-26</td>\n      <td>1</td>\n      <td>1</td>\n      <td>Buckle Bay</td>\n      <td>1</td>\n      <td>chum</td>\n      <td>44.0</td>\n      <td>5.0</td>\n      <td>1</td>\n      <td>2.0</td>\n      <td>...</td>\n      <td>NaN</td>\n      <td>NaN</td>\n      <td>3.0</td>\n      <td>1.0</td>\n      <td>0.0</td>\n      <td>0.0</td>\n      <td>2.0</td>\n      <td>3.0</td>\n      <td>Buckle Bay</td>\n      <td>ccfs_Buckle_Bay_2018-04-26</td>\n    </tr>\n    <tr>\n      <th>1</th>\n      <td>2018-04-26</td>\n      <td>2</td>\n      <td>1</td>\n      <td>Buckle Bay</td>\n      <td>2</td>\n      <td>chum</td>\n      <td>46.0</td>\n      <td>7.0</td>\n      <td>NaN</td>\n      <td>1.0</td>\n      <td>...</td>\n      <td>NaN</td>\n      <td>NaN</td>\n      <td>2.0</td>\n      <td>1.0</td>\n      <td>0.0</td>\n      <td>0.0</td>\n      <td>2.0</td>\n      <td>2.0</td>\n      <td>Buckle Bay</td>\n      <td>ccfs_Buckle_Bay_2018-04-26</td>\n    </tr>\n    <tr>\n      <th>2</th>\n      <td>2018-04-26</td>\n      <td>3</td>\n      <td>1</td>\n      <td>Buckle Bay</td>\n      <td>3</td>\n      <td>chum</td>\n      <td>49.0</td>\n      <td>6.0</td>\n      <td>NaN</td>\n      <td>2.0</td>\n      <td>...</td>\n      <td>NaN</td>\n      <td>NaN</td>\n      <td>4.0</td>\n      <td>1.0</td>\n      <td>0.0</td>\n      <td>0.0</td>\n      <td>4.0</td>\n      <td>4.0</td>\n      <td>Buckle Bay</td>\n      <td>ccfs_Buckle_Bay_2018-04-26</td>\n    </tr>\n    <tr>\n      <th>3</th>\n      <td>2018-04-26</td>\n      <td>4</td>\n      <td>1</td>\n      <td>Buckle Bay</td>\n      <td>4</td>\n      <td>chum</td>\n      <td>48.0</td>\n      <td>9.0</td>\n      <td>NaN</td>\n      <td>3.0</td>\n      <td>...</td>\n      <td>NaN</td>\n      <td>NaN</td>\n      <td>3.0</td>\n      <td>1.0</td>\n      <td>0.0</td>\n      <td>0.0</td>\n      <td>3.0</td>\n      <td>3.0</td>\n      <td>Buckle Bay</td>\n      <td>ccfs_Buckle_Bay_2018-04-26</td>\n    </tr>\n    <tr>\n      <th>4</th>\n      <td>2018-04-26</td>\n      <td>5</td>\n      <td>1</td>\n      <td>Buckle Bay</td>\n      <td>5</td>\n      <td>chum</td>\n      <td>50.0</td>\n      <td>10.0</td>\n      <td>NaN</td>\n      <td>1.0</td>\n      <td>...</td>\n      <td>NaN</td>\n      <td>NaN</td>\n      <td>2.0</td>\n      <td>1.0</td>\n      <td>0.0</td>\n      <td>0.0</td>\n      <td>2.0</td>\n      <td>2.0</td>\n      <td>Buckle Bay</td>\n      <td>ccfs_Buckle_Bay_2018-04-26</td>\n    </tr>\n  </tbody>\n</table>\n<p>5 rows × 44 columns</p>\n</div>"
     },
     "execution_count": 364,
     "metadata": {},
     "output_type": "execute_result"
    }
   ],
   "source": [
    "# make a sample_site column and event_id column\n",
    "fix_locations(ccfs_fish_lice_df)\n",
    "make_event_id(ccfs_fish_lice_df)\n",
    "ccfs_fish_lice_df.head()"
   ],
   "metadata": {
    "collapsed": false,
    "pycharm": {
     "name": "#%%\n"
    }
   }
  },
  {
   "cell_type": "code",
   "execution_count": 365,
   "outputs": [
    {
     "data": {
      "text/plain": "154"
     },
     "execution_count": 365,
     "metadata": {},
     "output_type": "execute_result"
    }
   ],
   "source": [
    "# now that we have event_id for fish, merge into the events file\n",
    "ccfs_events_df = pd.merge(ccfs_events_df, ccfs_fish_lice_df, on=['event_id', 'sample_site', 'sampledate'], how='outer')\n",
    "\n",
    "# only want one of each event_id\n",
    "ccfs_events_df.drop_duplicates(subset=['event_id'], ignore_index=True, inplace=True)\n",
    "\n",
    "len(ccfs_events_df)"
   ],
   "metadata": {
    "collapsed": false,
    "pycharm": {
     "name": "#%%\n"
    }
   }
  },
  {
   "cell_type": "code",
   "execution_count": 366,
   "outputs": [],
   "source": [
    "# rename Cedar Coast columns that have equivalent data\n",
    "ccfs_fish_lice_df.rename(columns={'species': 'fish_species',\n",
    "                                  'Lep_cope': 'lep_cop',\n",
    "                                  'Caligus_cope': 'cal_cop',\n",
    "                                  'unid_cope': 'unknown_cop'},\n",
    "                         inplace=True)"
   ],
   "metadata": {
    "collapsed": false,
    "pycharm": {
     "name": "#%%\n"
    }
   }
  },
  {
   "cell_type": "code",
   "execution_count": 367,
   "outputs": [
    {
     "data": {
      "text/plain": "  sampledate fish_id  site_id    location  fish_num fish_species  length  \\\n0 2018-04-26  ccfs_1        1  Buckle Bay         1         chum    44.0   \n1 2018-04-26  ccfs_2        1  Buckle Bay         2         chum    46.0   \n2 2018-04-26  ccfs_3        1  Buckle Bay         3         chum    49.0   \n3 2018-04-26  ccfs_4        1  Buckle Bay         4         chum    48.0   \n4 2018-04-26  ccfs_5        1  Buckle Bay         5         chum    50.0   \n\n   height lep_cop  chalA  ...  Lironca  comments  sum_all_lice  Prevalence  \\\n0     5.0       1    2.0  ...      NaN       NaN           3.0         1.0   \n1     7.0     NaN    1.0  ...      NaN       NaN           2.0         1.0   \n2     6.0     NaN    2.0  ...      NaN       NaN           4.0         1.0   \n3     9.0     NaN    3.0  ...      NaN       NaN           3.0         1.0   \n4    10.0     NaN    1.0  ...      NaN       NaN           2.0         1.0   \n\n   Motile Lep  Motile Caligus  chal  attached  sample_site  \\\n0         0.0             0.0   2.0       3.0   Buckle Bay   \n1         0.0             0.0   2.0       2.0   Buckle Bay   \n2         0.0             0.0   4.0       4.0   Buckle Bay   \n3         0.0             0.0   3.0       3.0   Buckle Bay   \n4         0.0             0.0   2.0       2.0   Buckle Bay   \n\n                     event_id  \n0  ccfs_Buckle_Bay_2018-04-26  \n1  ccfs_Buckle_Bay_2018-04-26  \n2  ccfs_Buckle_Bay_2018-04-26  \n3  ccfs_Buckle_Bay_2018-04-26  \n4  ccfs_Buckle_Bay_2018-04-26  \n\n[5 rows x 44 columns]",
      "text/html": "<div>\n<style scoped>\n    .dataframe tbody tr th:only-of-type {\n        vertical-align: middle;\n    }\n\n    .dataframe tbody tr th {\n        vertical-align: top;\n    }\n\n    .dataframe thead th {\n        text-align: right;\n    }\n</style>\n<table border=\"1\" class=\"dataframe\">\n  <thead>\n    <tr style=\"text-align: right;\">\n      <th></th>\n      <th>sampledate</th>\n      <th>fish_id</th>\n      <th>site_id</th>\n      <th>location</th>\n      <th>fish_num</th>\n      <th>fish_species</th>\n      <th>length</th>\n      <th>height</th>\n      <th>lep_cop</th>\n      <th>chalA</th>\n      <th>...</th>\n      <th>Lironca</th>\n      <th>comments</th>\n      <th>sum_all_lice</th>\n      <th>Prevalence</th>\n      <th>Motile Lep</th>\n      <th>Motile Caligus</th>\n      <th>chal</th>\n      <th>attached</th>\n      <th>sample_site</th>\n      <th>event_id</th>\n    </tr>\n  </thead>\n  <tbody>\n    <tr>\n      <th>0</th>\n      <td>2018-04-26</td>\n      <td>ccfs_1</td>\n      <td>1</td>\n      <td>Buckle Bay</td>\n      <td>1</td>\n      <td>chum</td>\n      <td>44.0</td>\n      <td>5.0</td>\n      <td>1</td>\n      <td>2.0</td>\n      <td>...</td>\n      <td>NaN</td>\n      <td>NaN</td>\n      <td>3.0</td>\n      <td>1.0</td>\n      <td>0.0</td>\n      <td>0.0</td>\n      <td>2.0</td>\n      <td>3.0</td>\n      <td>Buckle Bay</td>\n      <td>ccfs_Buckle_Bay_2018-04-26</td>\n    </tr>\n    <tr>\n      <th>1</th>\n      <td>2018-04-26</td>\n      <td>ccfs_2</td>\n      <td>1</td>\n      <td>Buckle Bay</td>\n      <td>2</td>\n      <td>chum</td>\n      <td>46.0</td>\n      <td>7.0</td>\n      <td>NaN</td>\n      <td>1.0</td>\n      <td>...</td>\n      <td>NaN</td>\n      <td>NaN</td>\n      <td>2.0</td>\n      <td>1.0</td>\n      <td>0.0</td>\n      <td>0.0</td>\n      <td>2.0</td>\n      <td>2.0</td>\n      <td>Buckle Bay</td>\n      <td>ccfs_Buckle_Bay_2018-04-26</td>\n    </tr>\n    <tr>\n      <th>2</th>\n      <td>2018-04-26</td>\n      <td>ccfs_3</td>\n      <td>1</td>\n      <td>Buckle Bay</td>\n      <td>3</td>\n      <td>chum</td>\n      <td>49.0</td>\n      <td>6.0</td>\n      <td>NaN</td>\n      <td>2.0</td>\n      <td>...</td>\n      <td>NaN</td>\n      <td>NaN</td>\n      <td>4.0</td>\n      <td>1.0</td>\n      <td>0.0</td>\n      <td>0.0</td>\n      <td>4.0</td>\n      <td>4.0</td>\n      <td>Buckle Bay</td>\n      <td>ccfs_Buckle_Bay_2018-04-26</td>\n    </tr>\n    <tr>\n      <th>3</th>\n      <td>2018-04-26</td>\n      <td>ccfs_4</td>\n      <td>1</td>\n      <td>Buckle Bay</td>\n      <td>4</td>\n      <td>chum</td>\n      <td>48.0</td>\n      <td>9.0</td>\n      <td>NaN</td>\n      <td>3.0</td>\n      <td>...</td>\n      <td>NaN</td>\n      <td>NaN</td>\n      <td>3.0</td>\n      <td>1.0</td>\n      <td>0.0</td>\n      <td>0.0</td>\n      <td>3.0</td>\n      <td>3.0</td>\n      <td>Buckle Bay</td>\n      <td>ccfs_Buckle_Bay_2018-04-26</td>\n    </tr>\n    <tr>\n      <th>4</th>\n      <td>2018-04-26</td>\n      <td>ccfs_5</td>\n      <td>1</td>\n      <td>Buckle Bay</td>\n      <td>5</td>\n      <td>chum</td>\n      <td>50.0</td>\n      <td>10.0</td>\n      <td>NaN</td>\n      <td>1.0</td>\n      <td>...</td>\n      <td>NaN</td>\n      <td>NaN</td>\n      <td>2.0</td>\n      <td>1.0</td>\n      <td>0.0</td>\n      <td>0.0</td>\n      <td>2.0</td>\n      <td>2.0</td>\n      <td>Buckle Bay</td>\n      <td>ccfs_Buckle_Bay_2018-04-26</td>\n    </tr>\n  </tbody>\n</table>\n<p>5 rows × 44 columns</p>\n</div>"
     },
     "execution_count": 367,
     "metadata": {},
     "output_type": "execute_result"
    }
   ],
   "source": [
    "# make sure Cedar Coast fish get globally unique IDs - use the same prefix method as event IDs\n",
    "ccfs_fish_lice_df['fish_id'] = 'ccfs_' + ccfs_fish_lice_df.fish_id.astype(str).str.strip()\n",
    "ccfs_fish_lice_df.head()"
   ],
   "metadata": {
    "collapsed": false,
    "pycharm": {
     "name": "#%%\n"
    }
   }
  },
  {
   "cell_type": "markdown",
   "source": [
    "## Convert Cedar Coast fish species to match the names we use\n",
    "Our names: ['Chum Salmon', 'Pink Salmon', 'Coho Salmon',\n",
    "       'Three-Spined Stickleback', 'Chinook Salmon', 'Other Species',\n",
    "       'Pacific Herring', 'Sockeye Salmon']"
   ],
   "metadata": {
    "collapsed": false,
    "pycharm": {
     "name": "#%% md\n"
    }
   }
  },
  {
   "cell_type": "code",
   "execution_count": 368,
   "outputs": [
    {
     "data": {
      "text/plain": "['chum',\n 'coho',\n 'pink',\n 'chinook',\n 'chum ',\n 'coho ',\n 'sockeye',\n 'herring',\n 'chinook ']"
     },
     "execution_count": 368,
     "metadata": {},
     "output_type": "execute_result"
    }
   ],
   "source": [
    "# check the fish species in the SRS dataset\n",
    "list(ccfs_fish_lice_df.fish_species.unique())"
   ],
   "metadata": {
    "collapsed": false,
    "pycharm": {
     "name": "#%%\n"
    }
   }
  },
  {
   "cell_type": "code",
   "execution_count": 369,
   "outputs": [
    {
     "data": {
      "text/plain": "['Chum Salmon',\n 'Coho Salmon',\n 'Pink Salmon',\n 'Chinook Salmon',\n 'Sockeye Salmon',\n 'Pacific Herring']"
     },
     "execution_count": 369,
     "metadata": {},
     "output_type": "execute_result"
    }
   ],
   "source": [
    "# remove extra surrounding spaces\n",
    "ccfs_fish_lice_df.fish_species.str.strip()\n",
    "# replace salmon species names as the string literals differ\n",
    "ccfs_fish_lice_df.replace({'fish_species': {'chum': 'Chum Salmon',\n",
    "                                          'chum ': 'Chum Salmon',\n",
    "                                          'coho': 'Coho Salmon',\n",
    "                                          'coho ': 'Coho Salmon',\n",
    "                                          'pink': 'Pink Salmon',\n",
    "                                          'chinook': 'Chinook Salmon',\n",
    "                                          'chinook ': 'Chinook Salmon',\n",
    "                                          'sockeye': 'Sockeye Salmon',\n",
    "                                          'herring': 'Pacific Herring',\n",
    "                                          }},\n",
    "                     inplace=True)\n",
    "list(ccfs_fish_lice_df.fish_species.unique())"
   ],
   "metadata": {
    "collapsed": false,
    "pycharm": {
     "name": "#%%\n"
    }
   }
  },
  {
   "cell_type": "markdown",
   "source": [
    "## Convert Cedar Coast lice counts to have the same groupings that we use"
   ],
   "metadata": {
    "collapsed": false,
    "pycharm": {
     "name": "#%% md\n"
    }
   }
  },
  {
   "cell_type": "code",
   "execution_count": 370,
   "outputs": [],
   "source": [
    "# convert all the NaN in lice counts to 0\n",
    "# first, make sure our expression checking for NaN works\n",
    "assert ccfs_fish_lice_df.loc[:, 'lep_cop':'unid_adult'].isnull().values.any()"
   ],
   "metadata": {
    "collapsed": false,
    "pycharm": {
     "name": "#%%\n"
    }
   }
  },
  {
   "cell_type": "code",
   "execution_count": 371,
   "outputs": [],
   "source": [
    "# convert all the NaN lice counts to 0\n",
    "col_names = ccfs_fish_lice_df.loc[:, 'lep_cop':'unid_adult'].columns\n",
    "fill_dict = {col: 0 for col in col_names}\n",
    "ccfs_fish_lice_df.fillna(value=fill_dict, inplace=True)\n",
    "\n",
    "# confirm that they are all converted\n",
    "assert not ccfs_fish_lice_df.loc[:, 'lep_cop':'unid_adult'].isnull().values.any()"
   ],
   "metadata": {
    "collapsed": false,
    "pycharm": {
     "name": "#%%\n"
    }
   }
  },
  {
   "cell_type": "code",
   "execution_count": 372,
   "outputs": [],
   "source": [
    "# generate lice count fields to match our data from the SRS lice counts\n",
    "ccfs_fish_lice_df['unknown_chal'] = ccfs_fish_lice_df['chalA'] + \\\n",
    "                               ccfs_fish_lice_df['chalB'] + \\\n",
    "                               ccfs_fish_lice_df['chal_unid']\n",
    "\n",
    "ccfs_fish_lice_df['lep_motile'] = ccfs_fish_lice_df['Lep_PAmale'] + \\\n",
    "                            ccfs_fish_lice_df['Lep_PAfemale'] + \\\n",
    "                            ccfs_fish_lice_df['Lep_male'] + \\\n",
    "                            ccfs_fish_lice_df['Lep_nongravid'] + \\\n",
    "                            ccfs_fish_lice_df['Lep_gravid']\n",
    "\n",
    "ccfs_fish_lice_df['cal_motile'] = ccfs_fish_lice_df['Caligus_mot'] + ccfs_fish_lice_df['Caligus_gravid']\n",
    "\n",
    "ccfs_fish_lice_df['unknown_motile'] = ccfs_fish_lice_df['unid_PA'] + ccfs_fish_lice_df['unid_adult']\n",
    "\n",
    "ccfs_fish_lice_df['unknown_unknown'] = 0"
   ],
   "metadata": {
    "collapsed": false,
    "pycharm": {
     "name": "#%%\n"
    }
   }
  },
  {
   "cell_type": "code",
   "execution_count": 373,
   "outputs": [
    {
     "data": {
      "text/plain": "                     event_id fish_id  length  weight  height fish_species  \\\n0  ccfs_Buckle_Bay_2018-04-26  ccfs_1    44.0     NaN     5.0  Chum Salmon   \n1  ccfs_Buckle_Bay_2018-04-26  ccfs_2    46.0     NaN     7.0  Chum Salmon   \n2  ccfs_Buckle_Bay_2018-04-26  ccfs_3    49.0     NaN     6.0  Chum Salmon   \n3  ccfs_Buckle_Bay_2018-04-26  ccfs_4    48.0     NaN     9.0  Chum Salmon   \n4  ccfs_Buckle_Bay_2018-04-26  ccfs_5    50.0     NaN    10.0  Chum Salmon   \n\n  lep_cop  lep_chal  lep_motile  lep_unknown  cal_cop  cal_chal  cal_motile  \\\n0       1       NaN         0.0          NaN      0.0       NaN         0.0   \n1       0       NaN         0.0          NaN      0.0       NaN         0.0   \n2       0       NaN         0.0          NaN      0.0       NaN         0.0   \n3       0       NaN         0.0          NaN      0.0       NaN         0.0   \n4       0       NaN         0.0          NaN      0.0       NaN         0.0   \n\n   cal_unknown  unknown_cop  unknown_chal  unknown_motile  unknown_unknown  \n0          NaN          0.0           2.0             0.0                0  \n1          NaN          0.0           2.0             0.0                0  \n2          NaN          0.0           4.0             0.0                0  \n3          NaN          0.0           3.0             0.0                0  \n4          NaN          0.0           2.0             0.0                0  ",
      "text/html": "<div>\n<style scoped>\n    .dataframe tbody tr th:only-of-type {\n        vertical-align: middle;\n    }\n\n    .dataframe tbody tr th {\n        vertical-align: top;\n    }\n\n    .dataframe thead th {\n        text-align: right;\n    }\n</style>\n<table border=\"1\" class=\"dataframe\">\n  <thead>\n    <tr style=\"text-align: right;\">\n      <th></th>\n      <th>event_id</th>\n      <th>fish_id</th>\n      <th>length</th>\n      <th>weight</th>\n      <th>height</th>\n      <th>fish_species</th>\n      <th>lep_cop</th>\n      <th>lep_chal</th>\n      <th>lep_motile</th>\n      <th>lep_unknown</th>\n      <th>cal_cop</th>\n      <th>cal_chal</th>\n      <th>cal_motile</th>\n      <th>cal_unknown</th>\n      <th>unknown_cop</th>\n      <th>unknown_chal</th>\n      <th>unknown_motile</th>\n      <th>unknown_unknown</th>\n    </tr>\n  </thead>\n  <tbody>\n    <tr>\n      <th>0</th>\n      <td>ccfs_Buckle_Bay_2018-04-26</td>\n      <td>ccfs_1</td>\n      <td>44.0</td>\n      <td>NaN</td>\n      <td>5.0</td>\n      <td>Chum Salmon</td>\n      <td>1</td>\n      <td>NaN</td>\n      <td>0.0</td>\n      <td>NaN</td>\n      <td>0.0</td>\n      <td>NaN</td>\n      <td>0.0</td>\n      <td>NaN</td>\n      <td>0.0</td>\n      <td>2.0</td>\n      <td>0.0</td>\n      <td>0</td>\n    </tr>\n    <tr>\n      <th>1</th>\n      <td>ccfs_Buckle_Bay_2018-04-26</td>\n      <td>ccfs_2</td>\n      <td>46.0</td>\n      <td>NaN</td>\n      <td>7.0</td>\n      <td>Chum Salmon</td>\n      <td>0</td>\n      <td>NaN</td>\n      <td>0.0</td>\n      <td>NaN</td>\n      <td>0.0</td>\n      <td>NaN</td>\n      <td>0.0</td>\n      <td>NaN</td>\n      <td>0.0</td>\n      <td>2.0</td>\n      <td>0.0</td>\n      <td>0</td>\n    </tr>\n    <tr>\n      <th>2</th>\n      <td>ccfs_Buckle_Bay_2018-04-26</td>\n      <td>ccfs_3</td>\n      <td>49.0</td>\n      <td>NaN</td>\n      <td>6.0</td>\n      <td>Chum Salmon</td>\n      <td>0</td>\n      <td>NaN</td>\n      <td>0.0</td>\n      <td>NaN</td>\n      <td>0.0</td>\n      <td>NaN</td>\n      <td>0.0</td>\n      <td>NaN</td>\n      <td>0.0</td>\n      <td>4.0</td>\n      <td>0.0</td>\n      <td>0</td>\n    </tr>\n    <tr>\n      <th>3</th>\n      <td>ccfs_Buckle_Bay_2018-04-26</td>\n      <td>ccfs_4</td>\n      <td>48.0</td>\n      <td>NaN</td>\n      <td>9.0</td>\n      <td>Chum Salmon</td>\n      <td>0</td>\n      <td>NaN</td>\n      <td>0.0</td>\n      <td>NaN</td>\n      <td>0.0</td>\n      <td>NaN</td>\n      <td>0.0</td>\n      <td>NaN</td>\n      <td>0.0</td>\n      <td>3.0</td>\n      <td>0.0</td>\n      <td>0</td>\n    </tr>\n    <tr>\n      <th>4</th>\n      <td>ccfs_Buckle_Bay_2018-04-26</td>\n      <td>ccfs_5</td>\n      <td>50.0</td>\n      <td>NaN</td>\n      <td>10.0</td>\n      <td>Chum Salmon</td>\n      <td>0</td>\n      <td>NaN</td>\n      <td>0.0</td>\n      <td>NaN</td>\n      <td>0.0</td>\n      <td>NaN</td>\n      <td>0.0</td>\n      <td>NaN</td>\n      <td>0.0</td>\n      <td>2.0</td>\n      <td>0.0</td>\n      <td>0</td>\n    </tr>\n  </tbody>\n</table>\n</div>"
     },
     "execution_count": 373,
     "metadata": {},
     "output_type": "execute_result"
    }
   ],
   "source": [
    "# remove all the redundant working columns\n",
    "# easiest (not most efficient) way is to load our data file and use that list of columns\n",
    "db_fish_lice_data_df = pd.read_csv(wild_data_dir / \"wild_fish_lice.csv\")\n",
    "ccfs_fish_lice_df = ccfs_fish_lice_df.reindex(columns=db_fish_lice_data_df.columns)\n",
    "ccfs_fish_lice_df.head()"
   ],
   "metadata": {
    "collapsed": false,
    "pycharm": {
     "name": "#%%\n"
    }
   }
  },
  {
   "cell_type": "code",
   "execution_count": 373,
   "outputs": [],
   "source": [],
   "metadata": {
    "collapsed": false,
    "pycharm": {
     "name": "#%%\n"
    }
   }
  },
  {
   "cell_type": "code",
   "execution_count": 374,
   "outputs": [],
   "source": [
    "# write out to CSV file\n",
    "ccfs_fish_lice_df.to_csv(ccfs_formatted_lice_filepath, index=False)"
   ],
   "metadata": {
    "collapsed": false,
    "pycharm": {
     "name": "#%%\n"
    }
   }
  },
  {
   "cell_type": "markdown",
   "source": [
    "# Finish off the events file processing"
   ],
   "metadata": {
    "collapsed": false,
    "pycharm": {
     "name": "#%% md\n"
    }
   }
  },
  {
   "cell_type": "code",
   "execution_count": 375,
   "outputs": [
    {
     "data": {
      "text/plain": "  sampledate  Site ID time   location_x  salt_surf  salt_1m  temp_surf  \\\n0 2018-04-26      1.0  NaN   Buckle Bay        NaN      NaN        NaN   \n1 2018-05-16      2.0  NaN   Buckle Bay      28.04    28.11      11.88   \n2 2018-05-16      3.0  NaN   Elbow Bank      26.73    26.65      12.12   \n3 2018-05-16      4.0  NaN  Cypre River      25.10    25.18      12.28   \n4 2018-05-10      5.0  NaN   Elbow Bank      24.80    24.81      11.56   \n\n   temp_1m  salmon_captured  salmon_examined  ...  white_eye  \\\n0      NaN             47.0             47.0  ...        NaN   \n1    11.72             35.0             16.0  ...        NaN   \n2    12.14             53.0             53.0  ...        NaN   \n3    12.12              8.0              8.0  ...        NaN   \n4    11.47             26.0             26.0  ...        NaN   \n\n   Grazed_gill_plate  Lironca  comments  sum_all_lice  Prevalence  Motile Lep  \\\n0                NaN      NaN       NaN           3.0         1.0         0.0   \n1                NaN      NaN        CS           4.0         1.0         1.0   \n2                NaN      NaN       NaN          14.0         1.0         4.0   \n3                NaN      NaN        CS           4.0         1.0         0.0   \n4                NaN      NaN       NaN           7.0         1.0         0.0   \n\n   Motile Caligus  chal  attached  \n0             0.0   2.0       3.0  \n1             0.0   3.0       3.0  \n2             0.0   9.0      10.0  \n3             2.0   1.0       2.0  \n4             0.0   4.0       7.0  \n\n[5 rows x 66 columns]",
      "text/html": "<div>\n<style scoped>\n    .dataframe tbody tr th:only-of-type {\n        vertical-align: middle;\n    }\n\n    .dataframe tbody tr th {\n        vertical-align: top;\n    }\n\n    .dataframe thead th {\n        text-align: right;\n    }\n</style>\n<table border=\"1\" class=\"dataframe\">\n  <thead>\n    <tr style=\"text-align: right;\">\n      <th></th>\n      <th>sampledate</th>\n      <th>Site ID</th>\n      <th>time</th>\n      <th>location_x</th>\n      <th>salt_surf</th>\n      <th>salt_1m</th>\n      <th>temp_surf</th>\n      <th>temp_1m</th>\n      <th>salmon_captured</th>\n      <th>salmon_examined</th>\n      <th>...</th>\n      <th>white_eye</th>\n      <th>Grazed_gill_plate</th>\n      <th>Lironca</th>\n      <th>comments</th>\n      <th>sum_all_lice</th>\n      <th>Prevalence</th>\n      <th>Motile Lep</th>\n      <th>Motile Caligus</th>\n      <th>chal</th>\n      <th>attached</th>\n    </tr>\n  </thead>\n  <tbody>\n    <tr>\n      <th>0</th>\n      <td>2018-04-26</td>\n      <td>1.0</td>\n      <td>NaN</td>\n      <td>Buckle Bay</td>\n      <td>NaN</td>\n      <td>NaN</td>\n      <td>NaN</td>\n      <td>NaN</td>\n      <td>47.0</td>\n      <td>47.0</td>\n      <td>...</td>\n      <td>NaN</td>\n      <td>NaN</td>\n      <td>NaN</td>\n      <td>NaN</td>\n      <td>3.0</td>\n      <td>1.0</td>\n      <td>0.0</td>\n      <td>0.0</td>\n      <td>2.0</td>\n      <td>3.0</td>\n    </tr>\n    <tr>\n      <th>1</th>\n      <td>2018-05-16</td>\n      <td>2.0</td>\n      <td>NaN</td>\n      <td>Buckle Bay</td>\n      <td>28.04</td>\n      <td>28.11</td>\n      <td>11.88</td>\n      <td>11.72</td>\n      <td>35.0</td>\n      <td>16.0</td>\n      <td>...</td>\n      <td>NaN</td>\n      <td>NaN</td>\n      <td>NaN</td>\n      <td>CS</td>\n      <td>4.0</td>\n      <td>1.0</td>\n      <td>1.0</td>\n      <td>0.0</td>\n      <td>3.0</td>\n      <td>3.0</td>\n    </tr>\n    <tr>\n      <th>2</th>\n      <td>2018-05-16</td>\n      <td>3.0</td>\n      <td>NaN</td>\n      <td>Elbow Bank</td>\n      <td>26.73</td>\n      <td>26.65</td>\n      <td>12.12</td>\n      <td>12.14</td>\n      <td>53.0</td>\n      <td>53.0</td>\n      <td>...</td>\n      <td>NaN</td>\n      <td>NaN</td>\n      <td>NaN</td>\n      <td>NaN</td>\n      <td>14.0</td>\n      <td>1.0</td>\n      <td>4.0</td>\n      <td>0.0</td>\n      <td>9.0</td>\n      <td>10.0</td>\n    </tr>\n    <tr>\n      <th>3</th>\n      <td>2018-05-16</td>\n      <td>4.0</td>\n      <td>NaN</td>\n      <td>Cypre River</td>\n      <td>25.10</td>\n      <td>25.18</td>\n      <td>12.28</td>\n      <td>12.12</td>\n      <td>8.0</td>\n      <td>8.0</td>\n      <td>...</td>\n      <td>NaN</td>\n      <td>NaN</td>\n      <td>NaN</td>\n      <td>CS</td>\n      <td>4.0</td>\n      <td>1.0</td>\n      <td>0.0</td>\n      <td>2.0</td>\n      <td>1.0</td>\n      <td>2.0</td>\n    </tr>\n    <tr>\n      <th>4</th>\n      <td>2018-05-10</td>\n      <td>5.0</td>\n      <td>NaN</td>\n      <td>Elbow Bank</td>\n      <td>24.80</td>\n      <td>24.81</td>\n      <td>11.56</td>\n      <td>11.47</td>\n      <td>26.0</td>\n      <td>26.0</td>\n      <td>...</td>\n      <td>NaN</td>\n      <td>NaN</td>\n      <td>NaN</td>\n      <td>NaN</td>\n      <td>7.0</td>\n      <td>1.0</td>\n      <td>0.0</td>\n      <td>0.0</td>\n      <td>4.0</td>\n      <td>7.0</td>\n    </tr>\n  </tbody>\n</table>\n<p>5 rows × 66 columns</p>\n</div>"
     },
     "execution_count": 375,
     "metadata": {},
     "output_type": "execute_result"
    }
   ],
   "source": [
    "ccfs_events_df.head()"
   ],
   "metadata": {
    "collapsed": false,
    "pycharm": {
     "name": "#%%\n"
    }
   }
  },
  {
   "cell_type": "code",
   "execution_count": 376,
   "outputs": [],
   "source": [
    "# add in columns needed for future processing\n",
    "ccfs_events_df['region'] = 'Clayoquot Sound'\n",
    "ccfs_events_df['dfozone'] = '2_3'\n",
    "ccfs_events_df['source'] = 'Cedar Coast Field Station'"
   ],
   "metadata": {
    "collapsed": false,
    "pycharm": {
     "name": "#%%\n"
    }
   }
  },
  {
   "cell_type": "code",
   "execution_count": 377,
   "outputs": [
    {
     "data": {
      "text/plain": "  sampledate  Site ID time   location_x  salt_surf  salt_1m  temp_surf  \\\n0 2018-04-26      1.0  NaN   Buckle Bay        NaN      NaN        NaN   \n1 2018-05-16      2.0  NaN   Buckle Bay      28.04    28.11      11.88   \n2 2018-05-16      3.0  NaN   Elbow Bank      26.73    26.65      12.12   \n3 2018-05-16      4.0  NaN  Cypre River      25.10    25.18      12.28   \n4 2018-05-10      5.0  NaN   Elbow Bank      24.80    24.81      11.56   \n\n   temp_1m  salmon_captured  salmon_examined  ...  comments  sum_all_lice  \\\n0      NaN             47.0             47.0  ...       NaN           3.0   \n1    11.72             35.0             16.0  ...        CS           4.0   \n2    12.14             53.0             53.0  ...       NaN          14.0   \n3    12.12              8.0              8.0  ...        CS           4.0   \n4    11.47             26.0             26.0  ...       NaN           7.0   \n\n   Prevalence  Motile Lep  Motile Caligus  chal  attached           region  \\\n0         1.0         0.0             0.0   2.0       3.0  Clayoquot Sound   \n1         1.0         1.0             0.0   3.0       3.0  Clayoquot Sound   \n2         1.0         4.0             0.0   9.0      10.0  Clayoquot Sound   \n3         1.0         0.0             2.0   1.0       2.0  Clayoquot Sound   \n4         1.0         0.0             0.0   4.0       7.0  Clayoquot Sound   \n\n   dfozone                     source  \n0      2_3  Cedar Coast Field Station  \n1      2_3  Cedar Coast Field Station  \n2      2_3  Cedar Coast Field Station  \n3      2_3  Cedar Coast Field Station  \n4      2_3  Cedar Coast Field Station  \n\n[5 rows x 69 columns]",
      "text/html": "<div>\n<style scoped>\n    .dataframe tbody tr th:only-of-type {\n        vertical-align: middle;\n    }\n\n    .dataframe tbody tr th {\n        vertical-align: top;\n    }\n\n    .dataframe thead th {\n        text-align: right;\n    }\n</style>\n<table border=\"1\" class=\"dataframe\">\n  <thead>\n    <tr style=\"text-align: right;\">\n      <th></th>\n      <th>sampledate</th>\n      <th>Site ID</th>\n      <th>time</th>\n      <th>location_x</th>\n      <th>salt_surf</th>\n      <th>salt_1m</th>\n      <th>temp_surf</th>\n      <th>temp_1m</th>\n      <th>salmon_captured</th>\n      <th>salmon_examined</th>\n      <th>...</th>\n      <th>comments</th>\n      <th>sum_all_lice</th>\n      <th>Prevalence</th>\n      <th>Motile Lep</th>\n      <th>Motile Caligus</th>\n      <th>chal</th>\n      <th>attached</th>\n      <th>region</th>\n      <th>dfozone</th>\n      <th>source</th>\n    </tr>\n  </thead>\n  <tbody>\n    <tr>\n      <th>0</th>\n      <td>2018-04-26</td>\n      <td>1.0</td>\n      <td>NaN</td>\n      <td>Buckle Bay</td>\n      <td>NaN</td>\n      <td>NaN</td>\n      <td>NaN</td>\n      <td>NaN</td>\n      <td>47.0</td>\n      <td>47.0</td>\n      <td>...</td>\n      <td>NaN</td>\n      <td>3.0</td>\n      <td>1.0</td>\n      <td>0.0</td>\n      <td>0.0</td>\n      <td>2.0</td>\n      <td>3.0</td>\n      <td>Clayoquot Sound</td>\n      <td>2_3</td>\n      <td>Cedar Coast Field Station</td>\n    </tr>\n    <tr>\n      <th>1</th>\n      <td>2018-05-16</td>\n      <td>2.0</td>\n      <td>NaN</td>\n      <td>Buckle Bay</td>\n      <td>28.04</td>\n      <td>28.11</td>\n      <td>11.88</td>\n      <td>11.72</td>\n      <td>35.0</td>\n      <td>16.0</td>\n      <td>...</td>\n      <td>CS</td>\n      <td>4.0</td>\n      <td>1.0</td>\n      <td>1.0</td>\n      <td>0.0</td>\n      <td>3.0</td>\n      <td>3.0</td>\n      <td>Clayoquot Sound</td>\n      <td>2_3</td>\n      <td>Cedar Coast Field Station</td>\n    </tr>\n    <tr>\n      <th>2</th>\n      <td>2018-05-16</td>\n      <td>3.0</td>\n      <td>NaN</td>\n      <td>Elbow Bank</td>\n      <td>26.73</td>\n      <td>26.65</td>\n      <td>12.12</td>\n      <td>12.14</td>\n      <td>53.0</td>\n      <td>53.0</td>\n      <td>...</td>\n      <td>NaN</td>\n      <td>14.0</td>\n      <td>1.0</td>\n      <td>4.0</td>\n      <td>0.0</td>\n      <td>9.0</td>\n      <td>10.0</td>\n      <td>Clayoquot Sound</td>\n      <td>2_3</td>\n      <td>Cedar Coast Field Station</td>\n    </tr>\n    <tr>\n      <th>3</th>\n      <td>2018-05-16</td>\n      <td>4.0</td>\n      <td>NaN</td>\n      <td>Cypre River</td>\n      <td>25.10</td>\n      <td>25.18</td>\n      <td>12.28</td>\n      <td>12.12</td>\n      <td>8.0</td>\n      <td>8.0</td>\n      <td>...</td>\n      <td>CS</td>\n      <td>4.0</td>\n      <td>1.0</td>\n      <td>0.0</td>\n      <td>2.0</td>\n      <td>1.0</td>\n      <td>2.0</td>\n      <td>Clayoquot Sound</td>\n      <td>2_3</td>\n      <td>Cedar Coast Field Station</td>\n    </tr>\n    <tr>\n      <th>4</th>\n      <td>2018-05-10</td>\n      <td>5.0</td>\n      <td>NaN</td>\n      <td>Elbow Bank</td>\n      <td>24.80</td>\n      <td>24.81</td>\n      <td>11.56</td>\n      <td>11.47</td>\n      <td>26.0</td>\n      <td>26.0</td>\n      <td>...</td>\n      <td>NaN</td>\n      <td>7.0</td>\n      <td>1.0</td>\n      <td>0.0</td>\n      <td>0.0</td>\n      <td>4.0</td>\n      <td>7.0</td>\n      <td>Clayoquot Sound</td>\n      <td>2_3</td>\n      <td>Cedar Coast Field Station</td>\n    </tr>\n  </tbody>\n</table>\n<p>5 rows × 69 columns</p>\n</div>"
     },
     "execution_count": 377,
     "metadata": {},
     "output_type": "execute_result"
    }
   ],
   "source": [
    "# use the lookup table to fill in the lat/long\n",
    "ccfs_events_df['latitude'] = ccfs_events_df.sample_site.apply(lambda site: position_lookup.loc[site, 'latitude'])\n",
    "ccfs_events_df['longitude'] = ccfs_events_df.sample_site.apply(lambda site: position_lookup.loc[site, 'longitude'])\n",
    "ccfs_events_df.head()"
   ],
   "metadata": {
    "collapsed": false,
    "pycharm": {
     "name": "#%%\n"
    }
   }
  },
  {
   "cell_type": "code",
   "execution_count": 378,
   "outputs": [
    {
     "data": {
      "text/plain": "                      event_id sampledate           region dfozone  \\\n0   ccfs_Buckle_Bay_2018-04-26 2018-04-26  Clayoquot Sound     2_3   \n1   ccfs_Buckle_Bay_2018-05-16 2018-05-16  Clayoquot Sound     2_3   \n2   ccfs_Elbow_Bank_2018-05-16 2018-05-16  Clayoquot Sound     2_3   \n3  ccfs_Cypre_River_2018-05-16 2018-05-16  Clayoquot Sound     2_3   \n4   ccfs_Elbow_Bank_2018-05-10 2018-05-10  Clayoquot Sound     2_3   \n\n   sample_site   latitude   longitude                     source  \n0   Buckle Bay  49.172229 -125.964604  Cedar Coast Field Station  \n1   Buckle Bay  49.172229 -125.964604  Cedar Coast Field Station  \n2   Elbow Bank  49.200812 -125.950004  Cedar Coast Field Station  \n3  Cypre River  49.277706 -125.900085  Cedar Coast Field Station  \n4   Elbow Bank  49.200812 -125.950004  Cedar Coast Field Station  ",
      "text/html": "<div>\n<style scoped>\n    .dataframe tbody tr th:only-of-type {\n        vertical-align: middle;\n    }\n\n    .dataframe tbody tr th {\n        vertical-align: top;\n    }\n\n    .dataframe thead th {\n        text-align: right;\n    }\n</style>\n<table border=\"1\" class=\"dataframe\">\n  <thead>\n    <tr style=\"text-align: right;\">\n      <th></th>\n      <th>event_id</th>\n      <th>sampledate</th>\n      <th>region</th>\n      <th>dfozone</th>\n      <th>sample_site</th>\n      <th>latitude</th>\n      <th>longitude</th>\n      <th>source</th>\n    </tr>\n  </thead>\n  <tbody>\n    <tr>\n      <th>0</th>\n      <td>ccfs_Buckle_Bay_2018-04-26</td>\n      <td>2018-04-26</td>\n      <td>Clayoquot Sound</td>\n      <td>2_3</td>\n      <td>Buckle Bay</td>\n      <td>49.172229</td>\n      <td>-125.964604</td>\n      <td>Cedar Coast Field Station</td>\n    </tr>\n    <tr>\n      <th>1</th>\n      <td>ccfs_Buckle_Bay_2018-05-16</td>\n      <td>2018-05-16</td>\n      <td>Clayoquot Sound</td>\n      <td>2_3</td>\n      <td>Buckle Bay</td>\n      <td>49.172229</td>\n      <td>-125.964604</td>\n      <td>Cedar Coast Field Station</td>\n    </tr>\n    <tr>\n      <th>2</th>\n      <td>ccfs_Elbow_Bank_2018-05-16</td>\n      <td>2018-05-16</td>\n      <td>Clayoquot Sound</td>\n      <td>2_3</td>\n      <td>Elbow Bank</td>\n      <td>49.200812</td>\n      <td>-125.950004</td>\n      <td>Cedar Coast Field Station</td>\n    </tr>\n    <tr>\n      <th>3</th>\n      <td>ccfs_Cypre_River_2018-05-16</td>\n      <td>2018-05-16</td>\n      <td>Clayoquot Sound</td>\n      <td>2_3</td>\n      <td>Cypre River</td>\n      <td>49.277706</td>\n      <td>-125.900085</td>\n      <td>Cedar Coast Field Station</td>\n    </tr>\n    <tr>\n      <th>4</th>\n      <td>ccfs_Elbow_Bank_2018-05-10</td>\n      <td>2018-05-10</td>\n      <td>Clayoquot Sound</td>\n      <td>2_3</td>\n      <td>Elbow Bank</td>\n      <td>49.200812</td>\n      <td>-125.950004</td>\n      <td>Cedar Coast Field Station</td>\n    </tr>\n  </tbody>\n</table>\n</div>"
     },
     "execution_count": 378,
     "metadata": {},
     "output_type": "execute_result"
    }
   ],
   "source": [
    "# limit to the common columns with the main events file\n",
    "ccfs_events_df = ccfs_events_df.reindex(columns=['event_id', 'sampledate', 'region',\n",
    "                                                 'dfozone', 'sample_site', 'latitude',\n",
    "                                                 'longitude', 'source'])\n",
    "ccfs_events_df.head()"
   ],
   "metadata": {
    "collapsed": false,
    "pycharm": {
     "name": "#%%\n"
    }
   }
  },
  {
   "cell_type": "code",
   "execution_count": 379,
   "outputs": [],
   "source": [
    "# make sure the event_ids in events_df are all unique\n",
    "assert len(ccfs_events_df.event_id.unique()) == len(ccfs_events_df)"
   ],
   "metadata": {
    "collapsed": false,
    "pycharm": {
     "name": "#%%\n"
    }
   }
  },
  {
   "cell_type": "code",
   "execution_count": 380,
   "outputs": [],
   "source": [
    "# make sure all event_ids in fish_lice are in events_df\n",
    "assert len(set(ccfs_fish_lice_df.event_id.unique()) - set(ccfs_events_df.event_id.unique())) == 0"
   ],
   "metadata": {
    "collapsed": false,
    "pycharm": {
     "name": "#%%\n"
    }
   }
  },
  {
   "cell_type": "code",
   "execution_count": 381,
   "outputs": [],
   "source": [
    "# write out to a CSV\n",
    "ccfs_events_df.to_csv(ccfs_formatted_events_filepath, index=False)"
   ],
   "metadata": {
    "collapsed": false,
    "pycharm": {
     "name": "#%%\n"
    }
   }
  }
 ],
 "metadata": {
  "kernelspec": {
   "display_name": "Python 3",
   "language": "python",
   "name": "python3"
  },
  "language_info": {
   "codemirror_mode": {
    "name": "ipython",
    "version": 2
   },
   "file_extension": ".py",
   "mimetype": "text/x-python",
   "name": "python",
   "nbconvert_exporter": "python",
   "pygments_lexer": "ipython2",
   "version": "2.7.6"
  }
 },
 "nbformat": 4,
 "nbformat_minor": 0
}