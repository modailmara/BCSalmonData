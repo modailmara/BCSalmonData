{
 "cells": [
  {
   "cell_type": "markdown",
   "source": [
    "## This Notebook integrates all the wild data sources.\n",
    "### This includes our data from a variety of sources, as well as data from Salmon Coast Field Station, Cedar Creek Field Station, and the Hakai Institute"
   ],
   "metadata": {
    "collapsed": false,
    "pycharm": {
     "name": "#%% md\n"
    }
   }
  },
  {
   "cell_type": "code",
   "execution_count": 72,
   "outputs": [],
   "source": [
    "import pandas as pd\n",
    "from pathlib import Path"
   ],
   "metadata": {
    "collapsed": false,
    "pycharm": {
     "name": "#%%\n"
    }
   }
  },
  {
   "cell_type": "markdown",
   "source": [
    "## Configuration variables for this notebook"
   ],
   "metadata": {
    "collapsed": false,
    "pycharm": {
     "name": "#%% md\n"
    }
   }
  },
  {
   "cell_type": "code",
   "execution_count": 73,
   "outputs": [],
   "source": [
    "\n",
    "# paths to files for our data\n",
    "wild_data_dir = Path('.')\n",
    "events_filepath = wild_data_dir / 'wild_sample_events.csv'\n",
    "fish_lice_filepath = wild_data_dir / 'wild_fish_lice.csv'\n",
    "\n",
    "# paths to the Salmon Coast Field Station data files\n",
    "scfs_events_filepath = wild_data_dir / 'salmon_coast_wild_sample_events.csv'\n",
    "scfs_fish_lice_filepath = wild_data_dir / 'salmon_coast_wild_fish_lice.csv'\n",
    "\n",
    "# paths to the Cedar Creek Field Station data files\n",
    "ccfs_events_filepath = wild_data_dir / 'cedar_coast_wild_sample_events.csv'\n",
    "ccfs_fish_lice_filepath = wild_data_dir / 'cedar_coast_wild_fish_lice.csv'\n",
    "\n",
    "# paths to the Hakai Institute data files\n",
    "hakai_events_filepath = wild_data_dir / 'hakai_wild_sample_events.csv'\n",
    "hakai_fish_lice_filepath = wild_data_dir / 'hakai_wild_fish_lice.csv'\n",
    "\n",
    "\n",
    "# -- OUTPUT paths for writing the combined data\n",
    "\n",
    "all_events_filepath = wild_data_dir / 'all_wild_sample_events.csv'\n",
    "all_fish_lice_filepath = wild_data_dir / 'all_wild_fish_lice.csv'"
   ],
   "metadata": {
    "collapsed": false,
    "pycharm": {
     "name": "#%%\n"
    }
   }
  },
  {
   "cell_type": "markdown",
   "source": [
    "## Join all the event data"
   ],
   "metadata": {
    "collapsed": false,
    "pycharm": {
     "name": "#%% md\n"
    }
   }
  },
  {
   "cell_type": "code",
   "execution_count": 74,
   "outputs": [],
   "source": [
    "# load the event data files\n",
    "events_df = pd.read_csv(events_filepath, parse_dates=['sampledate'])\n",
    "scfs_events_df = pd.read_csv(scfs_events_filepath, parse_dates=['sampledate'])\n",
    "ccfs_events_df = pd.read_csv(ccfs_events_filepath, parse_dates=['sampledate'])\n",
    "hakai_events_df = pd.read_csv(hakai_events_filepath, parse_dates=['sampledate'])"
   ],
   "metadata": {
    "collapsed": false,
    "pycharm": {
     "name": "#%%\n"
    }
   }
  },
  {
   "cell_type": "code",
   "execution_count": 75,
   "outputs": [
    {
     "data": {
      "text/plain": "   event_id sampledate                 region dfozone   sample_site  latitude  \\\n0         1 2003-05-13  Broughton Archipelago     3_3  Adeane Point  50.71978   \n1         2 2003-05-21  Broughton Archipelago     3_3  Adeane Point  50.71978   \n2         3 2003-05-26  Broughton Archipelago     3_3  Adeane Point  50.71970   \n3         4 2003-06-02  Broughton Archipelago     3_3  Adeane Point  50.71970   \n4         5 2003-05-13  Broughton Archipelago     3_3  Adeane Point  50.73840   \n\n   longitude                       source  \n0 -125.67950  Fisheries and Oceans Canada  \n1 -125.67950  Fisheries and Oceans Canada  \n2 -125.67950  Fisheries and Oceans Canada  \n3 -125.67950  Fisheries and Oceans Canada  \n4 -125.67985  Fisheries and Oceans Canada  ",
      "text/html": "<div>\n<style scoped>\n    .dataframe tbody tr th:only-of-type {\n        vertical-align: middle;\n    }\n\n    .dataframe tbody tr th {\n        vertical-align: top;\n    }\n\n    .dataframe thead th {\n        text-align: right;\n    }\n</style>\n<table border=\"1\" class=\"dataframe\">\n  <thead>\n    <tr style=\"text-align: right;\">\n      <th></th>\n      <th>event_id</th>\n      <th>sampledate</th>\n      <th>region</th>\n      <th>dfozone</th>\n      <th>sample_site</th>\n      <th>latitude</th>\n      <th>longitude</th>\n      <th>source</th>\n    </tr>\n  </thead>\n  <tbody>\n    <tr>\n      <th>0</th>\n      <td>1</td>\n      <td>2003-05-13</td>\n      <td>Broughton Archipelago</td>\n      <td>3_3</td>\n      <td>Adeane Point</td>\n      <td>50.71978</td>\n      <td>-125.67950</td>\n      <td>Fisheries and Oceans Canada</td>\n    </tr>\n    <tr>\n      <th>1</th>\n      <td>2</td>\n      <td>2003-05-21</td>\n      <td>Broughton Archipelago</td>\n      <td>3_3</td>\n      <td>Adeane Point</td>\n      <td>50.71978</td>\n      <td>-125.67950</td>\n      <td>Fisheries and Oceans Canada</td>\n    </tr>\n    <tr>\n      <th>2</th>\n      <td>3</td>\n      <td>2003-05-26</td>\n      <td>Broughton Archipelago</td>\n      <td>3_3</td>\n      <td>Adeane Point</td>\n      <td>50.71970</td>\n      <td>-125.67950</td>\n      <td>Fisheries and Oceans Canada</td>\n    </tr>\n    <tr>\n      <th>3</th>\n      <td>4</td>\n      <td>2003-06-02</td>\n      <td>Broughton Archipelago</td>\n      <td>3_3</td>\n      <td>Adeane Point</td>\n      <td>50.71970</td>\n      <td>-125.67950</td>\n      <td>Fisheries and Oceans Canada</td>\n    </tr>\n    <tr>\n      <th>4</th>\n      <td>5</td>\n      <td>2003-05-13</td>\n      <td>Broughton Archipelago</td>\n      <td>3_3</td>\n      <td>Adeane Point</td>\n      <td>50.73840</td>\n      <td>-125.67985</td>\n      <td>Fisheries and Oceans Canada</td>\n    </tr>\n  </tbody>\n</table>\n</div>"
     },
     "execution_count": 75,
     "metadata": {},
     "output_type": "execute_result"
    }
   ],
   "source": [
    "events_df.head()"
   ],
   "metadata": {
    "collapsed": false,
    "pycharm": {
     "name": "#%%\n"
    }
   }
  },
  {
   "cell_type": "code",
   "execution_count": 76,
   "outputs": [
    {
     "data": {
      "text/plain": "  event_id sampledate                 region dfozone   sample_site  latitude  \\\n0     bc_1 2003-05-13  Broughton Archipelago     3_3  Adeane Point  50.71978   \n1     bc_2 2003-05-21  Broughton Archipelago     3_3  Adeane Point  50.71978   \n2     bc_3 2003-05-26  Broughton Archipelago     3_3  Adeane Point  50.71970   \n3     bc_4 2003-06-02  Broughton Archipelago     3_3  Adeane Point  50.71970   \n4     bc_5 2003-05-13  Broughton Archipelago     3_3  Adeane Point  50.73840   \n\n   longitude                       source  \n0 -125.67950  Fisheries and Oceans Canada  \n1 -125.67950  Fisheries and Oceans Canada  \n2 -125.67950  Fisheries and Oceans Canada  \n3 -125.67950  Fisheries and Oceans Canada  \n4 -125.67985  Fisheries and Oceans Canada  ",
      "text/html": "<div>\n<style scoped>\n    .dataframe tbody tr th:only-of-type {\n        vertical-align: middle;\n    }\n\n    .dataframe tbody tr th {\n        vertical-align: top;\n    }\n\n    .dataframe thead th {\n        text-align: right;\n    }\n</style>\n<table border=\"1\" class=\"dataframe\">\n  <thead>\n    <tr style=\"text-align: right;\">\n      <th></th>\n      <th>event_id</th>\n      <th>sampledate</th>\n      <th>region</th>\n      <th>dfozone</th>\n      <th>sample_site</th>\n      <th>latitude</th>\n      <th>longitude</th>\n      <th>source</th>\n    </tr>\n  </thead>\n  <tbody>\n    <tr>\n      <th>0</th>\n      <td>bc_1</td>\n      <td>2003-05-13</td>\n      <td>Broughton Archipelago</td>\n      <td>3_3</td>\n      <td>Adeane Point</td>\n      <td>50.71978</td>\n      <td>-125.67950</td>\n      <td>Fisheries and Oceans Canada</td>\n    </tr>\n    <tr>\n      <th>1</th>\n      <td>bc_2</td>\n      <td>2003-05-21</td>\n      <td>Broughton Archipelago</td>\n      <td>3_3</td>\n      <td>Adeane Point</td>\n      <td>50.71978</td>\n      <td>-125.67950</td>\n      <td>Fisheries and Oceans Canada</td>\n    </tr>\n    <tr>\n      <th>2</th>\n      <td>bc_3</td>\n      <td>2003-05-26</td>\n      <td>Broughton Archipelago</td>\n      <td>3_3</td>\n      <td>Adeane Point</td>\n      <td>50.71970</td>\n      <td>-125.67950</td>\n      <td>Fisheries and Oceans Canada</td>\n    </tr>\n    <tr>\n      <th>3</th>\n      <td>bc_4</td>\n      <td>2003-06-02</td>\n      <td>Broughton Archipelago</td>\n      <td>3_3</td>\n      <td>Adeane Point</td>\n      <td>50.71970</td>\n      <td>-125.67950</td>\n      <td>Fisheries and Oceans Canada</td>\n    </tr>\n    <tr>\n      <th>4</th>\n      <td>bc_5</td>\n      <td>2003-05-13</td>\n      <td>Broughton Archipelago</td>\n      <td>3_3</td>\n      <td>Adeane Point</td>\n      <td>50.73840</td>\n      <td>-125.67985</td>\n      <td>Fisheries and Oceans Canada</td>\n    </tr>\n  </tbody>\n</table>\n</div>"
     },
     "execution_count": 76,
     "metadata": {},
     "output_type": "execute_result"
    }
   ],
   "source": [
    "# prepend a string to the main event IDs. Currently they are numbers and the mixed types can confuse data parsing later\n",
    "events_df['event_id'] = events_df.event_id.apply(lambda eid: 'bc_' + str(eid).strip())\n",
    "events_df.head()"
   ],
   "metadata": {
    "collapsed": false,
    "pycharm": {
     "name": "#%%\n"
    }
   }
  },
  {
   "cell_type": "code",
   "execution_count": 77,
   "outputs": [
    {
     "data": {
      "text/plain": "array(['Fisheries and Oceans Canada', 'Mainstream Biological Consulting',\n       'Broughton Archipelago Monitoring Plan',\n       'Marine Environmental Research Program', 'Marty Krkosek',\n       'Pacificus Biological Services', 'Kitasoo First Nation',\n       'Salmon Coast Field Station', 'Cedar Coast Field Station',\n       'Hakai Institute'], dtype=object)"
     },
     "execution_count": 77,
     "metadata": {},
     "output_type": "execute_result"
    }
   ],
   "source": [
    "# concatenate all the files\n",
    "all_events_df = pd.concat([events_df, scfs_events_df, ccfs_events_df, hakai_events_df], ignore_index=True, sort=False)\n",
    "all_events_df.source.unique()"
   ],
   "metadata": {
    "collapsed": false,
    "pycharm": {
     "name": "#%%\n"
    }
   }
  },
  {
   "cell_type": "code",
   "execution_count": 78,
   "outputs": [
    {
     "data": {
      "text/plain": "array(['DFO', 'MBC', 'BAMP', 'MERP', 'MK', 'Pacif', 'Kit', 'SCS', 'CC',\n       'Hak'], dtype=object)"
     },
     "execution_count": 78,
     "metadata": {},
     "output_type": "execute_result"
    }
   ],
   "source": [
    "# make a useful source_code column - redundant but easier typing\n",
    "source_code_mapping = {\n",
    "    'Fisheries and Oceans Canada': 'DFO',\n",
    "    'Mainstream Biological Consulting': 'MBC',\n",
    "    'Broughton Archipelago Monitoring Plan': 'BAMP',\n",
    "    'Marine Environmental Research Program': 'MERP',\n",
    "    'Marty Krkosek': 'MK',\n",
    "    'Pacificus Biological Services': 'Pacif',\n",
    "    'Kitasoo First Nation': 'Kit',\n",
    "    'Salmon Coast Field Station': 'SCS',\n",
    "    'Cedar Coast Field Station': 'CC',\n",
    "    'Hakai Institute': 'Hak'\n",
    "}\n",
    "all_events_df['source_code'] = all_events_df['source'].apply(\n",
    "    lambda x: source_code_mapping[x] if x in source_code_mapping else None)\n",
    "all_events_df.source_code.unique()"
   ],
   "metadata": {
    "collapsed": false,
    "pycharm": {
     "name": "#%%\n"
    }
   }
  },
  {
   "cell_type": "code",
   "execution_count": 79,
   "outputs": [],
   "source": [
    "# document the protocol for fish sampling at each event\n",
    "# (i) enter \"Lethal\" into all rows for 'protocol';\n",
    "all_events_df['protocol'] = 'Lethal'\n",
    "# (ii) over-write \"Mixed\" into all rows that have source_code = \"Hak\";\n",
    "all_events_df.loc[all_events_df.source_code == 'Hak', 'protocol'] = 'Mixed'\n",
    "# (iii) over-write \"Non-lethal\" into all rows that have source_code (IN) \"SCS\", \"MK\" or \"CC\"\n",
    "all_events_df.loc[all_events_df.source_code.isin(['SCS', 'MK', 'CC']), 'protocol'] = 'Non-lethal'\n",
    "# (iv) over-write back to \"Lethal\" all row that have [source_code = \"SCS\" AND sampledate < 01/01/2005]\n",
    "#         (Salmon Coast only switched to non-lethal from 2005...)\n",
    "start_2005 = pd.Timestamp(year=2005, month=1, day=1)\n",
    "all_events_df.loc[(all_events_df.source_code == 'SCS') & (all_events_df['sampledate'] < start_2005), 'protocol'] = 'Lethal'"
   ],
   "metadata": {
    "collapsed": false,
    "pycharm": {
     "name": "#%%\n"
    }
   }
  },
  {
   "cell_type": "code",
   "execution_count": 80,
   "outputs": [
    {
     "data": {
      "text/plain": "            event_id sampledate             region dfozone      sample_site  \\\n16110  hakai_DE100N2 2015-05-12       BA/DI border     NaN    Hurtado Point   \n16111  hakai_DE100N1 2015-05-12       BA/DI border     NaN    Hurtado Point   \n16112  hakai_DE100N3 2015-05-12  Discovery Islands     3_2    Hurtado Point   \n16113  hakai_DE101N1 2015-05-13  Discovery Islands     3_2  Kinghorn Island   \n16114  hakai_DE102N1 2015-05-14  Discovery Islands     3_2  Francisco Point   \n\n       latitude  longitude           source source_code protocol  \n16110       NaN        NaN  Hakai Institute         Hak    Mixed  \n16111       NaN        NaN  Hakai Institute         Hak    Mixed  \n16112   49.9613  -124.7470  Hakai Institute         Hak    Mixed  \n16113  50.07902  -124.8509  Hakai Institute         Hak    Mixed  \n16114  49.99932  -125.1395  Hakai Institute         Hak    Mixed  ",
      "text/html": "<div>\n<style scoped>\n    .dataframe tbody tr th:only-of-type {\n        vertical-align: middle;\n    }\n\n    .dataframe tbody tr th {\n        vertical-align: top;\n    }\n\n    .dataframe thead th {\n        text-align: right;\n    }\n</style>\n<table border=\"1\" class=\"dataframe\">\n  <thead>\n    <tr style=\"text-align: right;\">\n      <th></th>\n      <th>event_id</th>\n      <th>sampledate</th>\n      <th>region</th>\n      <th>dfozone</th>\n      <th>sample_site</th>\n      <th>latitude</th>\n      <th>longitude</th>\n      <th>source</th>\n      <th>source_code</th>\n      <th>protocol</th>\n    </tr>\n  </thead>\n  <tbody>\n    <tr>\n      <th>16110</th>\n      <td>hakai_DE100N2</td>\n      <td>2015-05-12</td>\n      <td>BA/DI border</td>\n      <td>NaN</td>\n      <td>Hurtado Point</td>\n      <td>NaN</td>\n      <td>NaN</td>\n      <td>Hakai Institute</td>\n      <td>Hak</td>\n      <td>Mixed</td>\n    </tr>\n    <tr>\n      <th>16111</th>\n      <td>hakai_DE100N1</td>\n      <td>2015-05-12</td>\n      <td>BA/DI border</td>\n      <td>NaN</td>\n      <td>Hurtado Point</td>\n      <td>NaN</td>\n      <td>NaN</td>\n      <td>Hakai Institute</td>\n      <td>Hak</td>\n      <td>Mixed</td>\n    </tr>\n    <tr>\n      <th>16112</th>\n      <td>hakai_DE100N3</td>\n      <td>2015-05-12</td>\n      <td>Discovery Islands</td>\n      <td>3_2</td>\n      <td>Hurtado Point</td>\n      <td>49.9613</td>\n      <td>-124.7470</td>\n      <td>Hakai Institute</td>\n      <td>Hak</td>\n      <td>Mixed</td>\n    </tr>\n    <tr>\n      <th>16113</th>\n      <td>hakai_DE101N1</td>\n      <td>2015-05-13</td>\n      <td>Discovery Islands</td>\n      <td>3_2</td>\n      <td>Kinghorn Island</td>\n      <td>50.07902</td>\n      <td>-124.8509</td>\n      <td>Hakai Institute</td>\n      <td>Hak</td>\n      <td>Mixed</td>\n    </tr>\n    <tr>\n      <th>16114</th>\n      <td>hakai_DE102N1</td>\n      <td>2015-05-14</td>\n      <td>Discovery Islands</td>\n      <td>3_2</td>\n      <td>Francisco Point</td>\n      <td>49.99932</td>\n      <td>-125.1395</td>\n      <td>Hakai Institute</td>\n      <td>Hak</td>\n      <td>Mixed</td>\n    </tr>\n  </tbody>\n</table>\n</div>"
     },
     "execution_count": 80,
     "metadata": {},
     "output_type": "execute_result"
    }
   ],
   "source": [
    "all_events_df[all_events_df.source_code == 'Hak'].head()"
   ],
   "metadata": {
    "collapsed": false,
    "pycharm": {
     "name": "#%%\n"
    }
   }
  },
  {
   "cell_type": "code",
   "execution_count": 81,
   "outputs": [],
   "source": [
    "# write out to CSV\n",
    "all_events_df.to_csv(all_events_filepath, index=False)"
   ],
   "metadata": {
    "collapsed": false,
    "pycharm": {
     "name": "#%%\n"
    }
   }
  },
  {
   "cell_type": "markdown",
   "source": [
    "## Join all the fish/lice data"
   ],
   "metadata": {
    "collapsed": false,
    "pycharm": {
     "name": "#%% md\n"
    }
   }
  },
  {
   "cell_type": "code",
   "execution_count": 82,
   "outputs": [],
   "source": [
    "# load the fish/lice files\n",
    "fish_lice_df = pd.read_csv(fish_lice_filepath)\n",
    "scfs_fish_lice_df = pd.read_csv(scfs_fish_lice_filepath)\n",
    "ccfs_fish_lice_df = pd.read_csv(ccfs_fish_lice_filepath)\n",
    "hakai_fish_lice_df = pd.read_csv(hakai_fish_lice_filepath)"
   ],
   "metadata": {
    "collapsed": false,
    "pycharm": {
     "name": "#%%\n"
    }
   }
  },
  {
   "cell_type": "code",
   "execution_count": 83,
   "outputs": [
    {
     "data": {
      "text/plain": "  event_id  fish_id  length  weight  height fish_species  lep_cop  lep_chal  \\\n0  bc_5666        1    44.0    0.96     NaN  Chum Salmon      1.0       0.0   \n1  bc_5666        2    39.0    0.61     NaN  Pink Salmon      0.0       1.0   \n2  bc_5666        3    45.0    0.94     NaN  Pink Salmon      0.0       0.0   \n3  bc_5666        4    43.0    0.84     NaN  Chum Salmon      0.0       0.0   \n4  bc_5666        5    38.0    0.53     NaN  Pink Salmon      0.0       0.0   \n\n   lep_motile  lep_unknown  cal_cop  cal_chal  cal_motile  cal_unknown  \\\n0         0.0          0.0      0.0       0.0         0.0          0.0   \n1         0.0          0.0      0.0       1.0         0.0          0.0   \n2         0.0          0.0      0.0       2.0         0.0          0.0   \n3         0.0          0.0      0.0       0.0         0.0          0.0   \n4         0.0          0.0      0.0       3.0         0.0          0.0   \n\n   unknown_cop  unknown_chal  unknown_motile  unknown_unknown  \n0          0.0           0.0             0.0              0.0  \n1          0.0           0.0             0.0              0.0  \n2          0.0           0.0             0.0              0.0  \n3          0.0           0.0             0.0              0.0  \n4          0.0           0.0             0.0              0.0  ",
      "text/html": "<div>\n<style scoped>\n    .dataframe tbody tr th:only-of-type {\n        vertical-align: middle;\n    }\n\n    .dataframe tbody tr th {\n        vertical-align: top;\n    }\n\n    .dataframe thead th {\n        text-align: right;\n    }\n</style>\n<table border=\"1\" class=\"dataframe\">\n  <thead>\n    <tr style=\"text-align: right;\">\n      <th></th>\n      <th>event_id</th>\n      <th>fish_id</th>\n      <th>length</th>\n      <th>weight</th>\n      <th>height</th>\n      <th>fish_species</th>\n      <th>lep_cop</th>\n      <th>lep_chal</th>\n      <th>lep_motile</th>\n      <th>lep_unknown</th>\n      <th>cal_cop</th>\n      <th>cal_chal</th>\n      <th>cal_motile</th>\n      <th>cal_unknown</th>\n      <th>unknown_cop</th>\n      <th>unknown_chal</th>\n      <th>unknown_motile</th>\n      <th>unknown_unknown</th>\n    </tr>\n  </thead>\n  <tbody>\n    <tr>\n      <th>0</th>\n      <td>bc_5666</td>\n      <td>1</td>\n      <td>44.0</td>\n      <td>0.96</td>\n      <td>NaN</td>\n      <td>Chum Salmon</td>\n      <td>1.0</td>\n      <td>0.0</td>\n      <td>0.0</td>\n      <td>0.0</td>\n      <td>0.0</td>\n      <td>0.0</td>\n      <td>0.0</td>\n      <td>0.0</td>\n      <td>0.0</td>\n      <td>0.0</td>\n      <td>0.0</td>\n      <td>0.0</td>\n    </tr>\n    <tr>\n      <th>1</th>\n      <td>bc_5666</td>\n      <td>2</td>\n      <td>39.0</td>\n      <td>0.61</td>\n      <td>NaN</td>\n      <td>Pink Salmon</td>\n      <td>0.0</td>\n      <td>1.0</td>\n      <td>0.0</td>\n      <td>0.0</td>\n      <td>0.0</td>\n      <td>1.0</td>\n      <td>0.0</td>\n      <td>0.0</td>\n      <td>0.0</td>\n      <td>0.0</td>\n      <td>0.0</td>\n      <td>0.0</td>\n    </tr>\n    <tr>\n      <th>2</th>\n      <td>bc_5666</td>\n      <td>3</td>\n      <td>45.0</td>\n      <td>0.94</td>\n      <td>NaN</td>\n      <td>Pink Salmon</td>\n      <td>0.0</td>\n      <td>0.0</td>\n      <td>0.0</td>\n      <td>0.0</td>\n      <td>0.0</td>\n      <td>2.0</td>\n      <td>0.0</td>\n      <td>0.0</td>\n      <td>0.0</td>\n      <td>0.0</td>\n      <td>0.0</td>\n      <td>0.0</td>\n    </tr>\n    <tr>\n      <th>3</th>\n      <td>bc_5666</td>\n      <td>4</td>\n      <td>43.0</td>\n      <td>0.84</td>\n      <td>NaN</td>\n      <td>Chum Salmon</td>\n      <td>0.0</td>\n      <td>0.0</td>\n      <td>0.0</td>\n      <td>0.0</td>\n      <td>0.0</td>\n      <td>0.0</td>\n      <td>0.0</td>\n      <td>0.0</td>\n      <td>0.0</td>\n      <td>0.0</td>\n      <td>0.0</td>\n      <td>0.0</td>\n    </tr>\n    <tr>\n      <th>4</th>\n      <td>bc_5666</td>\n      <td>5</td>\n      <td>38.0</td>\n      <td>0.53</td>\n      <td>NaN</td>\n      <td>Pink Salmon</td>\n      <td>0.0</td>\n      <td>0.0</td>\n      <td>0.0</td>\n      <td>0.0</td>\n      <td>0.0</td>\n      <td>3.0</td>\n      <td>0.0</td>\n      <td>0.0</td>\n      <td>0.0</td>\n      <td>0.0</td>\n      <td>0.0</td>\n      <td>0.0</td>\n    </tr>\n  </tbody>\n</table>\n</div>"
     },
     "execution_count": 83,
     "metadata": {},
     "output_type": "execute_result"
    }
   ],
   "source": [
    "# prepend a string to the main event IDs to match events_df\n",
    "# Currently they are numbers and the mixed types can confuse data parsing later\n",
    "fish_lice_df['event_id'] = fish_lice_df.event_id.apply(lambda eid: 'bc_' + str(eid).strip())\n",
    "fish_lice_df.head()"
   ],
   "metadata": {
    "collapsed": false,
    "pycharm": {
     "name": "#%%\n"
    }
   }
  },
  {
   "cell_type": "code",
   "execution_count": 84,
   "outputs": [],
   "source": [
    "# concatenate all the files\n",
    "all_fish_lice_df = pd.concat([fish_lice_df, scfs_fish_lice_df, ccfs_fish_lice_df, hakai_fish_lice_df],\n",
    "                             ignore_index=True, sort=False)"
   ],
   "metadata": {
    "collapsed": false,
    "pycharm": {
     "name": "#%%\n"
    }
   }
  },
  {
   "cell_type": "code",
   "execution_count": 85,
   "outputs": [
    {
     "data": {
      "text/plain": "  event_id fish_id  length  weight  height fish_species lep_cop  lep_chal  \\\n0  bc_5666       1    44.0    0.96     NaN  Chum Salmon     1.0       0.0   \n1  bc_5666       2    39.0    0.61     NaN  Pink Salmon     0.0       1.0   \n2  bc_5666       3    45.0    0.94     NaN  Pink Salmon     0.0       0.0   \n3  bc_5666       4    43.0    0.84     NaN  Chum Salmon     0.0       0.0   \n4  bc_5666       5    38.0    0.53     NaN  Pink Salmon     0.0       0.0   \n\n   lep_motile  lep_unknown  cal_cop  cal_chal  cal_motile  cal_unknown  \\\n0         0.0          0.0      0.0       0.0         0.0          0.0   \n1         0.0          0.0      0.0       1.0         0.0          0.0   \n2         0.0          0.0      0.0       2.0         0.0          0.0   \n3         0.0          0.0      0.0       0.0         0.0          0.0   \n4         0.0          0.0      0.0       3.0         0.0          0.0   \n\n   unknown_cop  unknown_chal  unknown_motile  unknown_unknown  \n0          0.0           0.0             0.0              0.0  \n1          0.0           0.0             0.0              0.0  \n2          0.0           0.0             0.0              0.0  \n3          0.0           0.0             0.0              0.0  \n4          0.0           0.0             0.0              0.0  ",
      "text/html": "<div>\n<style scoped>\n    .dataframe tbody tr th:only-of-type {\n        vertical-align: middle;\n    }\n\n    .dataframe tbody tr th {\n        vertical-align: top;\n    }\n\n    .dataframe thead th {\n        text-align: right;\n    }\n</style>\n<table border=\"1\" class=\"dataframe\">\n  <thead>\n    <tr style=\"text-align: right;\">\n      <th></th>\n      <th>event_id</th>\n      <th>fish_id</th>\n      <th>length</th>\n      <th>weight</th>\n      <th>height</th>\n      <th>fish_species</th>\n      <th>lep_cop</th>\n      <th>lep_chal</th>\n      <th>lep_motile</th>\n      <th>lep_unknown</th>\n      <th>cal_cop</th>\n      <th>cal_chal</th>\n      <th>cal_motile</th>\n      <th>cal_unknown</th>\n      <th>unknown_cop</th>\n      <th>unknown_chal</th>\n      <th>unknown_motile</th>\n      <th>unknown_unknown</th>\n    </tr>\n  </thead>\n  <tbody>\n    <tr>\n      <th>0</th>\n      <td>bc_5666</td>\n      <td>1</td>\n      <td>44.0</td>\n      <td>0.96</td>\n      <td>NaN</td>\n      <td>Chum Salmon</td>\n      <td>1.0</td>\n      <td>0.0</td>\n      <td>0.0</td>\n      <td>0.0</td>\n      <td>0.0</td>\n      <td>0.0</td>\n      <td>0.0</td>\n      <td>0.0</td>\n      <td>0.0</td>\n      <td>0.0</td>\n      <td>0.0</td>\n      <td>0.0</td>\n    </tr>\n    <tr>\n      <th>1</th>\n      <td>bc_5666</td>\n      <td>2</td>\n      <td>39.0</td>\n      <td>0.61</td>\n      <td>NaN</td>\n      <td>Pink Salmon</td>\n      <td>0.0</td>\n      <td>1.0</td>\n      <td>0.0</td>\n      <td>0.0</td>\n      <td>0.0</td>\n      <td>1.0</td>\n      <td>0.0</td>\n      <td>0.0</td>\n      <td>0.0</td>\n      <td>0.0</td>\n      <td>0.0</td>\n      <td>0.0</td>\n    </tr>\n    <tr>\n      <th>2</th>\n      <td>bc_5666</td>\n      <td>3</td>\n      <td>45.0</td>\n      <td>0.94</td>\n      <td>NaN</td>\n      <td>Pink Salmon</td>\n      <td>0.0</td>\n      <td>0.0</td>\n      <td>0.0</td>\n      <td>0.0</td>\n      <td>0.0</td>\n      <td>2.0</td>\n      <td>0.0</td>\n      <td>0.0</td>\n      <td>0.0</td>\n      <td>0.0</td>\n      <td>0.0</td>\n      <td>0.0</td>\n    </tr>\n    <tr>\n      <th>3</th>\n      <td>bc_5666</td>\n      <td>4</td>\n      <td>43.0</td>\n      <td>0.84</td>\n      <td>NaN</td>\n      <td>Chum Salmon</td>\n      <td>0.0</td>\n      <td>0.0</td>\n      <td>0.0</td>\n      <td>0.0</td>\n      <td>0.0</td>\n      <td>0.0</td>\n      <td>0.0</td>\n      <td>0.0</td>\n      <td>0.0</td>\n      <td>0.0</td>\n      <td>0.0</td>\n      <td>0.0</td>\n    </tr>\n    <tr>\n      <th>4</th>\n      <td>bc_5666</td>\n      <td>5</td>\n      <td>38.0</td>\n      <td>0.53</td>\n      <td>NaN</td>\n      <td>Pink Salmon</td>\n      <td>0.0</td>\n      <td>0.0</td>\n      <td>0.0</td>\n      <td>0.0</td>\n      <td>0.0</td>\n      <td>3.0</td>\n      <td>0.0</td>\n      <td>0.0</td>\n      <td>0.0</td>\n      <td>0.0</td>\n      <td>0.0</td>\n      <td>0.0</td>\n    </tr>\n  </tbody>\n</table>\n</div>"
     },
     "execution_count": 85,
     "metadata": {},
     "output_type": "execute_result"
    }
   ],
   "source": [
    "# remove the lice_protocol field as the information is now in events to make it easier for data management later\n",
    "all_fish_lice_df.drop('lice_protocol', axis=1, inplace=True)\n",
    "all_fish_lice_df.head()"
   ],
   "metadata": {
    "collapsed": false,
    "pycharm": {
     "name": "#%%\n"
    }
   }
  },
  {
   "cell_type": "code",
   "execution_count": 86,
   "outputs": [],
   "source": [
    "# write out to csv\n",
    "all_fish_lice_df.to_csv(all_fish_lice_filepath, index=False)"
   ],
   "metadata": {
    "collapsed": false,
    "pycharm": {
     "name": "#%%\n"
    }
   }
  },
  {
   "cell_type": "code",
   "execution_count": 87,
   "outputs": [
    {
     "data": {
      "text/plain": "['Chum Salmon',\n 'Pink Salmon',\n 'Coho Salmon',\n 'Three-Spined Stickleback',\n 'Chinook Salmon',\n 'Other Species',\n 'Pacific Herring',\n 'Sockeye Salmon']"
     },
     "execution_count": 87,
     "metadata": {},
     "output_type": "execute_result"
    }
   ],
   "source": [
    "list(all_fish_lice_df.fish_species.unique())"
   ],
   "metadata": {
    "collapsed": false,
    "pycharm": {
     "name": "#%%\n"
    }
   }
  },
  {
   "cell_type": "code",
   "execution_count": 87,
   "outputs": [],
   "source": [],
   "metadata": {
    "collapsed": false,
    "pycharm": {
     "name": "#%%\n"
    }
   }
  }
 ],
 "metadata": {
  "kernelspec": {
   "display_name": "Python 3",
   "language": "python",
   "name": "python3"
  },
  "language_info": {
   "codemirror_mode": {
    "name": "ipython",
    "version": 2
   },
   "file_extension": ".py",
   "mimetype": "text/x-python",
   "name": "python",
   "nbconvert_exporter": "python",
   "pygments_lexer": "ipython2",
   "version": "2.7.6"
  }
 },
 "nbformat": 4,
 "nbformat_minor": 0
}