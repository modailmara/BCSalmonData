{
 "cells": [
  {
   "cell_type": "markdown",
   "source": [
    "## This Notebook integrates all the wild data sources.\n",
    "### This includes our data from a variety of sources, as well as data from Salmon Coast Field Station, Cedar Creek Field Station, and the Hakai Institute"
   ],
   "metadata": {
    "collapsed": false,
    "pycharm": {
     "name": "#%% md\n"
    }
   }
  },
  {
   "cell_type": "code",
   "execution_count": 193,
   "outputs": [],
   "source": [
    "import pandas as pd\n",
    "from pathlib import Path"
   ],
   "metadata": {
    "collapsed": false,
    "pycharm": {
     "name": "#%%\n"
    }
   }
  },
  {
   "cell_type": "markdown",
   "source": [
    "## Configuration variables for this notebook"
   ],
   "metadata": {
    "collapsed": false,
    "pycharm": {
     "name": "#%% md\n"
    }
   }
  },
  {
   "cell_type": "code",
   "execution_count": 194,
   "outputs": [],
   "source": [
    "\n",
    "# paths to files for our data\n",
    "wild_data_dir = Path('.')\n",
    "events_filepath = wild_data_dir / 'wild_sample_events.csv'\n",
    "fish_lice_filepath = wild_data_dir / 'wild_fish_lice.csv'\n",
    "\n",
    "# paths to the Salmon Coast Field Station data files\n",
    "scfs_events_filepath = wild_data_dir / 'salmon_coast_wild_sample_events.csv'\n",
    "scfs_fish_lice_filepath = wild_data_dir / 'salmon_coast_wild_fish_lice.csv'\n",
    "\n",
    "# paths to the Cedar Creek Field Station data files\n",
    "ccfs_events_filepath = wild_data_dir / 'cedar_coast_wild_sample_events.csv'\n",
    "ccfs_fish_lice_filepath = wild_data_dir / 'cedar_coast_wild_fish_lice.csv'\n",
    "\n",
    "# paths to the Hakai Institute data files\n",
    "hakai_events_filepath = wild_data_dir / 'hakai_wild_sample_events.csv'\n",
    "hakai_fish_lice_filepath = wild_data_dir / 'hakai_wild_fish_lice.csv'\n",
    "\n",
    "# -- OUTPUT --\n",
    "\n",
    "# output paths for writing the combined data\n",
    "all_events_filepath = wild_data_dir / 'all_wild_sample_events.csv'\n",
    "all_fish_lice_filepath = wild_data_dir / 'all_wild_fish_lice.csv'"
   ],
   "metadata": {
    "collapsed": false,
    "pycharm": {
     "name": "#%%\n"
    }
   }
  },
  {
   "cell_type": "markdown",
   "source": [
    "## Join all the event data"
   ],
   "metadata": {
    "collapsed": false,
    "pycharm": {
     "name": "#%% md\n"
    }
   }
  },
  {
   "cell_type": "code",
   "execution_count": 195,
   "outputs": [],
   "source": [
    "# load the event data files\n",
    "events_df = pd.read_csv(events_filepath, parse_dates=['sampledate'])\n",
    "scfs_events_df = pd.read_csv(scfs_events_filepath, parse_dates=['sampledate'])\n",
    "ccfs_events_df = pd.read_csv(ccfs_events_filepath, parse_dates=['sampledate'])\n",
    "hakai_events_df = pd.read_csv(hakai_events_filepath, parse_dates=['sampledate'])"
   ],
   "metadata": {
    "collapsed": false,
    "pycharm": {
     "name": "#%%\n"
    }
   }
  },
  {
   "cell_type": "code",
   "execution_count": 196,
   "outputs": [
    {
     "data": {
      "text/plain": "dtype('<M8[ns]')"
     },
     "execution_count": 196,
     "metadata": {},
     "output_type": "execute_result"
    }
   ],
   "source": [
    "hakai_events_df.sampledate.dtype"
   ],
   "metadata": {
    "collapsed": false,
    "pycharm": {
     "name": "#%%\n"
    }
   }
  },
  {
   "cell_type": "code",
   "execution_count": 197,
   "outputs": [
    {
     "data": {
      "text/plain": "array(['Fisheries and Oceans Canada', 'Mainstream Biological Consulting',\n       'Broughton Archipelago Monitoring Plan',\n       'Marine Environmental Research Program', 'Marty Krkosek',\n       'Pacificus Biological Services', 'Kitasoo First Nation',\n       'Salmon Coast Field Station', 'Cedar Coast Field Station',\n       'Hakai Institute'], dtype=object)"
     },
     "execution_count": 197,
     "metadata": {},
     "output_type": "execute_result"
    }
   ],
   "source": [
    "# concatenate all the files\n",
    "all_events_df = pd.concat([events_df, scfs_events_df, ccfs_events_df, hakai_events_df], ignore_index=True, sort=False)\n",
    "all_events_df.source.unique()"
   ],
   "metadata": {
    "collapsed": false,
    "pycharm": {
     "name": "#%%\n"
    }
   }
  },
  {
   "cell_type": "code",
   "execution_count": 198,
   "outputs": [
    {
     "data": {
      "text/plain": "array(['DFO', 'MBC', 'BAMP', 'MERP', 'MK', 'Pacif', 'Kit', 'SCS', 'CC',\n       'Hak'], dtype=object)"
     },
     "execution_count": 198,
     "metadata": {},
     "output_type": "execute_result"
    }
   ],
   "source": [
    "# make a useful source_code column - redundant but easier typing\n",
    "source_code_mapping = {\n",
    "    'Fisheries and Oceans Canada': 'DFO',\n",
    "    'Mainstream Biological Consulting': 'MBC',\n",
    "    'Broughton Archipelago Monitoring Plan': 'BAMP',\n",
    "    'Marine Environmental Research Program': 'MERP',\n",
    "    'Marty Krkosek': 'MK',\n",
    "    'Pacificus Biological Services': 'Pacif',\n",
    "    'Kitasoo First Nation': 'Kit',\n",
    "    'Salmon Coast Field Station': 'SCS',\n",
    "    'Cedar Coast Field Station': 'CC',\n",
    "    'Hakai Institute': 'Hak'\n",
    "}\n",
    "all_events_df['source_code'] = all_events_df['source'].apply(\n",
    "    lambda x: source_code_mapping[x] if x in source_code_mapping else None)\n",
    "all_events_df.source_code.unique()"
   ],
   "metadata": {
    "collapsed": false,
    "pycharm": {
     "name": "#%%\n"
    }
   }
  },
  {
   "cell_type": "code",
   "execution_count": 199,
   "outputs": [],
   "source": [
    "# write out to CSV\n",
    "all_events_df.to_csv(all_events_filepath, index=False)"
   ],
   "metadata": {
    "collapsed": false,
    "pycharm": {
     "name": "#%%\n"
    }
   }
  },
  {
   "cell_type": "markdown",
   "source": [
    "## Join all the fish/lice data"
   ],
   "metadata": {
    "collapsed": false,
    "pycharm": {
     "name": "#%% md\n"
    }
   }
  },
  {
   "cell_type": "code",
   "execution_count": 200,
   "outputs": [],
   "source": [
    "# load the fish/lice files\n",
    "fish_lice_df = pd.read_csv(fish_lice_filepath)\n",
    "scfs_fish_lice_df = pd.read_csv(scfs_fish_lice_filepath)\n",
    "ccfs_fish_lice_df = pd.read_csv(ccfs_fish_lice_filepath)\n",
    "hakai_fish_lice_df = pd.read_csv(hakai_fish_lice_filepath)"
   ],
   "metadata": {
    "collapsed": false,
    "pycharm": {
     "name": "#%%\n"
    }
   }
  },
  {
   "cell_type": "code",
   "execution_count": 201,
   "outputs": [
    {
     "data": {
      "text/plain": "array(['Pink Salmon', 'Chum Salmon', 'Sockeye Salmon'], dtype=object)"
     },
     "execution_count": 201,
     "metadata": {},
     "output_type": "execute_result"
    }
   ],
   "source": [
    "scfs_fish_lice_df.fish_species.unique()"
   ],
   "metadata": {
    "collapsed": false,
    "pycharm": {
     "name": "#%%\n"
    }
   }
  },
  {
   "cell_type": "code",
   "execution_count": 202,
   "outputs": [
    {
     "data": {
      "text/plain": "  event_id fish_id  length  weight  height fish_species lep_cop  lep_chal  \\\n0     5666       1    44.0    0.96     NaN  Chum Salmon     1.0       0.0   \n1     5666       2    39.0    0.61     NaN  Pink Salmon     0.0       1.0   \n2     5666       3    45.0    0.94     NaN  Pink Salmon     0.0       0.0   \n3     5666       4    43.0    0.84     NaN  Chum Salmon     0.0       0.0   \n4     5666       5    38.0    0.53     NaN  Pink Salmon     0.0       0.0   \n\n   lep_motile  lep_unknown  cal_cop  cal_chal  cal_motile  cal_unknown  \\\n0         0.0          0.0      0.0       0.0         0.0          0.0   \n1         0.0          0.0      0.0       1.0         0.0          0.0   \n2         0.0          0.0      0.0       2.0         0.0          0.0   \n3         0.0          0.0      0.0       0.0         0.0          0.0   \n4         0.0          0.0      0.0       3.0         0.0          0.0   \n\n   unknown_cop  unknown_chal  unknown_motile  unknown_unknown lice_protocol  \n0          0.0           0.0             0.0              0.0           NaN  \n1          0.0           0.0             0.0              0.0           NaN  \n2          0.0           0.0             0.0              0.0           NaN  \n3          0.0           0.0             0.0              0.0           NaN  \n4          0.0           0.0             0.0              0.0           NaN  ",
      "text/html": "<div>\n<style scoped>\n    .dataframe tbody tr th:only-of-type {\n        vertical-align: middle;\n    }\n\n    .dataframe tbody tr th {\n        vertical-align: top;\n    }\n\n    .dataframe thead th {\n        text-align: right;\n    }\n</style>\n<table border=\"1\" class=\"dataframe\">\n  <thead>\n    <tr style=\"text-align: right;\">\n      <th></th>\n      <th>event_id</th>\n      <th>fish_id</th>\n      <th>length</th>\n      <th>weight</th>\n      <th>height</th>\n      <th>fish_species</th>\n      <th>lep_cop</th>\n      <th>lep_chal</th>\n      <th>lep_motile</th>\n      <th>lep_unknown</th>\n      <th>cal_cop</th>\n      <th>cal_chal</th>\n      <th>cal_motile</th>\n      <th>cal_unknown</th>\n      <th>unknown_cop</th>\n      <th>unknown_chal</th>\n      <th>unknown_motile</th>\n      <th>unknown_unknown</th>\n      <th>lice_protocol</th>\n    </tr>\n  </thead>\n  <tbody>\n    <tr>\n      <th>0</th>\n      <td>5666</td>\n      <td>1</td>\n      <td>44.0</td>\n      <td>0.96</td>\n      <td>NaN</td>\n      <td>Chum Salmon</td>\n      <td>1.0</td>\n      <td>0.0</td>\n      <td>0.0</td>\n      <td>0.0</td>\n      <td>0.0</td>\n      <td>0.0</td>\n      <td>0.0</td>\n      <td>0.0</td>\n      <td>0.0</td>\n      <td>0.0</td>\n      <td>0.0</td>\n      <td>0.0</td>\n      <td>NaN</td>\n    </tr>\n    <tr>\n      <th>1</th>\n      <td>5666</td>\n      <td>2</td>\n      <td>39.0</td>\n      <td>0.61</td>\n      <td>NaN</td>\n      <td>Pink Salmon</td>\n      <td>0.0</td>\n      <td>1.0</td>\n      <td>0.0</td>\n      <td>0.0</td>\n      <td>0.0</td>\n      <td>1.0</td>\n      <td>0.0</td>\n      <td>0.0</td>\n      <td>0.0</td>\n      <td>0.0</td>\n      <td>0.0</td>\n      <td>0.0</td>\n      <td>NaN</td>\n    </tr>\n    <tr>\n      <th>2</th>\n      <td>5666</td>\n      <td>3</td>\n      <td>45.0</td>\n      <td>0.94</td>\n      <td>NaN</td>\n      <td>Pink Salmon</td>\n      <td>0.0</td>\n      <td>0.0</td>\n      <td>0.0</td>\n      <td>0.0</td>\n      <td>0.0</td>\n      <td>2.0</td>\n      <td>0.0</td>\n      <td>0.0</td>\n      <td>0.0</td>\n      <td>0.0</td>\n      <td>0.0</td>\n      <td>0.0</td>\n      <td>NaN</td>\n    </tr>\n    <tr>\n      <th>3</th>\n      <td>5666</td>\n      <td>4</td>\n      <td>43.0</td>\n      <td>0.84</td>\n      <td>NaN</td>\n      <td>Chum Salmon</td>\n      <td>0.0</td>\n      <td>0.0</td>\n      <td>0.0</td>\n      <td>0.0</td>\n      <td>0.0</td>\n      <td>0.0</td>\n      <td>0.0</td>\n      <td>0.0</td>\n      <td>0.0</td>\n      <td>0.0</td>\n      <td>0.0</td>\n      <td>0.0</td>\n      <td>NaN</td>\n    </tr>\n    <tr>\n      <th>4</th>\n      <td>5666</td>\n      <td>5</td>\n      <td>38.0</td>\n      <td>0.53</td>\n      <td>NaN</td>\n      <td>Pink Salmon</td>\n      <td>0.0</td>\n      <td>0.0</td>\n      <td>0.0</td>\n      <td>0.0</td>\n      <td>0.0</td>\n      <td>3.0</td>\n      <td>0.0</td>\n      <td>0.0</td>\n      <td>0.0</td>\n      <td>0.0</td>\n      <td>0.0</td>\n      <td>0.0</td>\n      <td>NaN</td>\n    </tr>\n  </tbody>\n</table>\n</div>"
     },
     "execution_count": 202,
     "metadata": {},
     "output_type": "execute_result"
    }
   ],
   "source": [
    "# concatenate all the files\n",
    "all_fish_lice_df = pd.concat([fish_lice_df, scfs_fish_lice_df, ccfs_fish_lice_df, hakai_fish_lice_df],\n",
    "                             ignore_index=True, sort=False)\n",
    "all_fish_lice_df.head()"
   ],
   "metadata": {
    "collapsed": false,
    "pycharm": {
     "name": "#%%\n"
    }
   }
  },
  {
   "cell_type": "code",
   "execution_count": 203,
   "outputs": [],
   "source": [
    "# for our processing we are interested in lethal vs non-lethal lice protocols\n",
    "def set_lice_protocol(source_code, protocol_value):\n",
    "    \"\"\"\n",
    "    Sets the lice protocol values for events matching the source code.\n",
    "    Lice protocol values are attached to fish in all_fish_lice\n",
    "    :param source_code: Code for the source of the fish data (matches one of source_code in all_events_df)\n",
    "    :type source_code: str\n",
    "    :param protocol_value: The value to put in the lice_protocol field\n",
    "    :type protocol_value: str\n",
    "    \"\"\"\n",
    "    source_event_ids = list(all_events_df[all_events_df['source_code'] == source_code].event_id.unique())\n",
    "    assert len(source_event_ids) > 0\n",
    "    all_fish_lice_df.loc[all_fish_lice_df['event_id'].isin(source_event_ids), 'lice_protocol'] = protocol_value"
   ],
   "metadata": {
    "collapsed": false,
    "pycharm": {
     "name": "#%%\n"
    }
   }
  },
  {
   "cell_type": "code",
   "execution_count": 204,
   "outputs": [
    {
     "data": {
      "text/plain": "array(['Lethal', 'Non-lethal', nan, 'Mixed'], dtype=object)"
     },
     "execution_count": 204,
     "metadata": {},
     "output_type": "execute_result"
    }
   ],
   "source": [
    "# convert all the lice_protocol values for the sources that did all one kind of sampling\n",
    "set_lice_protocol('SCS', 'Non-lethal')\n",
    "set_lice_protocol('MK', 'Non-lethal')\n",
    "set_lice_protocol('CC', 'Non-lethal')\n",
    "set_lice_protocol('Kit', 'Lethal')\n",
    "set_lice_protocol('DFO', 'Lethal')\n",
    "set_lice_protocol('BAMP', 'Lethal')\n",
    "set_lice_protocol('MERP', 'Lethal')\n",
    "set_lice_protocol('MBC', 'Lethal')\n",
    "set_lice_protocol('Pacif', 'Lethal')\n",
    "set_lice_protocol('Hak', 'Mixed')\n",
    "\n",
    "all_fish_lice_df.lice_protocol.unique()"
   ],
   "metadata": {
    "collapsed": false,
    "pycharm": {
     "name": "#%%\n"
    }
   }
  },
  {
   "cell_type": "code",
   "execution_count": 205,
   "outputs": [
    {
     "data": {
      "text/plain": "array(['Non-lethal'], dtype=object)"
     },
     "execution_count": 205,
     "metadata": {},
     "output_type": "execute_result"
    }
   ],
   "source": [
    "source_event_ids = list(all_events_df[all_events_df['source_code'] == 'CC'].event_id.unique())\n",
    "assert len(source_event_ids) > 0\n",
    "all_fish_lice_df.loc[all_fish_lice_df['event_id'].isin(source_event_ids), 'lice_protocol'].unique()\n",
    "# all_fish_lice_df[pd.isnull(all_fish_lice_df['lice_protocol'])]"
   ],
   "metadata": {
    "collapsed": false,
    "pycharm": {
     "name": "#%%\n"
    }
   }
  },
  {
   "cell_type": "code",
   "execution_count": 206,
   "outputs": [],
   "source": [
    "# write out to csv\n",
    "all_fish_lice_df.to_csv(all_fish_lice_filepath, index=False)"
   ],
   "metadata": {
    "collapsed": false,
    "pycharm": {
     "name": "#%%\n"
    }
   }
  },
  {
   "cell_type": "code",
   "execution_count": 207,
   "outputs": [],
   "source": [
    "wild_df = pd.merge(all_events_df, all_fish_lice_df, on='event_id', how='left')"
   ],
   "metadata": {
    "collapsed": false,
    "pycharm": {
     "name": "#%%\n"
    }
   }
  },
  {
   "cell_type": "code",
   "execution_count": 208,
   "outputs": [
    {
     "data": {
      "text/plain": "dtype('<M8[ns]')"
     },
     "execution_count": 208,
     "metadata": {},
     "output_type": "execute_result"
    }
   ],
   "source": [
    "wild_df.sampledate.dtype"
   ],
   "metadata": {
    "collapsed": false,
    "pycharm": {
     "name": "#%%\n"
    }
   }
  },
  {
   "cell_type": "code",
   "execution_count": 208,
   "outputs": [],
   "source": [],
   "metadata": {
    "collapsed": false,
    "pycharm": {
     "name": "#%%\n"
    }
   }
  }
 ],
 "metadata": {
  "kernelspec": {
   "display_name": "Python 3",
   "language": "python",
   "name": "python3"
  },
  "language_info": {
   "codemirror_mode": {
    "name": "ipython",
    "version": 2
   },
   "file_extension": ".py",
   "mimetype": "text/x-python",
   "name": "python",
   "nbconvert_exporter": "python",
   "pygments_lexer": "ipython2",
   "version": "2.7.6"
  }
 },
 "nbformat": 4,
 "nbformat_minor": 0
}