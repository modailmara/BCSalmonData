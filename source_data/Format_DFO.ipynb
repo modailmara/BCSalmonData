{
 "cells": [
  {
   "cell_type": "markdown",
   "source": [
    "## This notebook formats the data published by the Department of Fisheries and Oceans Canada (DFO)\n",
    "### Note that this formatted data is not merged into the rest of the industry counts and is not used in the figures or tables."
   ],
   "metadata": {
    "collapsed": false,
    "pycharm": {
     "name": "#%% md\n"
    }
   }
  },
  {
   "cell_type": "markdown",
   "source": [
    "The data from DFO consists of lice counts on salmon farms. The counts are reported by the companies. The data here was downloaded from [Industry sea lice counts at BC marine finfish aquaculture sites](https://open.canada.ca/data/en/dataset/3cafbe89-c98b-4b44-88f1-594e8d28838d) from the Government of Canada Open Government site on 17 March 2025."
   ],
   "metadata": {
    "collapsed": false,
    "pycharm": {
     "name": "#%% md\n"
    }
   }
  },
  {
   "cell_type": "markdown",
   "source": [
    "We format the DFO count data to match that in *industry_farm_abundances.csv*. We replace the DFO field *Facility Reference Number* with *facility_id* to link to site descriptions in *industry_farm_details.csv*."
   ],
   "metadata": {
    "collapsed": false,
    "pycharm": {
     "name": "#%% md\n"
    }
   }
  },
  {
   "cell_type": "code",
   "execution_count": 2,
   "outputs": [],
   "source": [
    "import pandas as pd\n",
    "from pathlib import Path"
   ],
   "metadata": {
    "collapsed": false,
    "pycharm": {
     "name": "#%%\n"
    }
   }
  },
  {
   "cell_type": "markdown",
   "source": [
    "### Path configuration variables"
   ],
   "metadata": {
    "collapsed": false,
    "pycharm": {
     "name": "#%% md\n"
    }
   }
  },
  {
   "cell_type": "code",
   "execution_count": 28,
   "outputs": [],
   "source": [
    "# DFO data path\n",
    "dfo_farm_data_filepath = Path('DFO') / 'lice-count-dens-pou-2011-ongoing-rpt-pac-dfo-mpo-aquaculture-eng.csv'\n",
    "# industry data path\n",
    "industry_farm_details_filepath = Path('.') / 'industry_farm_details.csv'\n",
    "\n",
    "# output for formatted data\n",
    "dfo_formatted_farm_filepath = Path('.') / 'DFO_farm_abundance.csv'\n",
    "\n",
    "# mapping file from DFO 'Facility Reference Number' to 'facility_id'\n",
    "ref_to_id_map_filepath = Path('.') / 'DFO_facility_mapping.csv'"
   ],
   "metadata": {
    "collapsed": false,
    "pycharm": {
     "name": "#%%\n"
    }
   }
  },
  {
   "cell_type": "code",
   "execution_count": null,
   "outputs": [],
   "source": [],
   "metadata": {
    "collapsed": false,
    "pycharm": {
     "name": "#%%\n"
    }
   }
  }
 ],
 "metadata": {
  "kernelspec": {
   "display_name": "Python 3",
   "language": "python",
   "name": "python3"
  },
  "language_info": {
   "codemirror_mode": {
    "name": "ipython",
    "version": 2
   },
   "file_extension": ".py",
   "mimetype": "text/x-python",
   "name": "python",
   "nbconvert_exporter": "python",
   "pygments_lexer": "ipython2",
   "version": "2.7.6"
  }
 },
 "nbformat": 4,
 "nbformat_minor": 0
}