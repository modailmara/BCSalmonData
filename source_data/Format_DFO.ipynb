{
 "cells": [
  {
   "cell_type": "markdown",
   "source": [
    "## This notebook formats the data published by the Department of Fisheries and Oceans Canada (DFO)\n",
    "### Note that this formatted data is not merged into the rest of the industry counts and is not used in the figures or tables."
   ],
   "metadata": {
    "collapsed": false,
    "pycharm": {
     "name": "#%% md\n"
    }
   }
  },
  {
   "cell_type": "markdown",
   "source": [
    "The data from DFO consists of lice counts on salmon farms. The counts are reported by the companies. The data here was downloaded from [Industry sea lice counts at BC marine finfish aquaculture sites](https://open.canada.ca/data/en/dataset/3cafbe89-c98b-4b44-88f1-594e8d28838d) from the Government of Canada Open Government site on 17 March 2025."
   ],
   "metadata": {
    "collapsed": false,
    "pycharm": {
     "name": "#%% md\n"
    }
   }
  },
  {
   "cell_type": "markdown",
   "source": [
    "We format the DFO count data to match that in *industry_farm_abundances.csv*. We replace the DFO field *Facility Reference Number* with *facility_id* to link to site descriptions in *industry_farm_details.csv*."
   ],
   "metadata": {
    "collapsed": false,
    "pycharm": {
     "name": "#%% md\n"
    }
   }
  },
  {
   "cell_type": "code",
   "execution_count": 65,
   "outputs": [],
   "source": [
    "import pandas as pd\n",
    "from pathlib import Path\n",
    "import calendar"
   ],
   "metadata": {
    "collapsed": false,
    "pycharm": {
     "name": "#%%\n"
    }
   }
  },
  {
   "cell_type": "markdown",
   "source": [
    "### Path configuration variables"
   ],
   "metadata": {
    "collapsed": false,
    "pycharm": {
     "name": "#%% md\n"
    }
   }
  },
  {
   "cell_type": "code",
   "execution_count": 66,
   "outputs": [],
   "source": [
    "# DFO data path\n",
    "dfo_farm_data_filepath = Path('DFO') / 'lice-count-dens-pou-2011-ongoing-rpt-pac-dfo-mpo-aquaculture-eng.csv'\n",
    "# mapping file from DFO 'Facility Reference Number' to 'facility_id'\n",
    "ref_to_id_map_filepath = Path('.') / 'DFO_facility_mapping.csv'\n",
    "# path to industry Farm information\n",
    "farm_info_path = Path('.') / 'industry_farm_details.csv'\n",
    "\n",
    "# output for formatted data\n",
    "dfo_formatted_farm_filepath = Path('.') / 'DFO_farm_abundance.csv'\n",
    "\n",
    "# path to"
   ],
   "metadata": {
    "collapsed": false,
    "pycharm": {
     "name": "#%%\n"
    }
   }
  },
  {
   "cell_type": "markdown",
   "source": [
    "### Load the source data"
   ],
   "metadata": {
    "collapsed": false,
    "pycharm": {
     "name": "#%% md\n"
    }
   }
  },
  {
   "cell_type": "code",
   "execution_count": 67,
   "outputs": [
    {
     "data": {
      "text/plain": "   Year    Month  Facility Reference Number         Sample Type Incident Date  \\\n0  2011  January                        466  Routine monitoring    2011-01-27   \n1  2011  January                       1144  Routine monitoring    2011-01-01   \n2  2011  January                       1144       Pre-treatment    2011-01-15   \n3  2011  January                        458  Routine monitoring    2011-01-05   \n4  2011  January                       1586           Follow-up    2011-01-20   \n\n   Number of Pens Sampled  Average L. salmonis motiles per fish  \\\n0                       3                                0.2500   \n1                       3                                1.3833   \n2                       3                                2.7833   \n3                       2                                0.3500   \n4                       3                                0.0667   \n\n   Average L. salmonis females per fish  Average chalimus per fish  \\\n0                                0.0000                     0.2167   \n1                                0.2500                     1.1000   \n2                                1.2167                     1.8333   \n3                                0.1750                     0.1000   \n4                                0.0000                     0.2500   \n\n   Average caligus per fish  \\\n0                    0.0500   \n1                    0.5000   \n2                    0.3667   \n3                    0.0000   \n4                    0.0167   \n\n                                            Comments Year Class  \n0                                                NaN          1  \n1                                                NaN          2  \n2                                  In-feed treatment          2  \n3  Sampling methodology does not meet requirement...      Brood  \n4                                                NaN          1  ",
      "text/html": "<div>\n<style scoped>\n    .dataframe tbody tr th:only-of-type {\n        vertical-align: middle;\n    }\n\n    .dataframe tbody tr th {\n        vertical-align: top;\n    }\n\n    .dataframe thead th {\n        text-align: right;\n    }\n</style>\n<table border=\"1\" class=\"dataframe\">\n  <thead>\n    <tr style=\"text-align: right;\">\n      <th></th>\n      <th>Year</th>\n      <th>Month</th>\n      <th>Facility Reference Number</th>\n      <th>Sample Type</th>\n      <th>Incident Date</th>\n      <th>Number of Pens Sampled</th>\n      <th>Average L. salmonis motiles per fish</th>\n      <th>Average L. salmonis females per fish</th>\n      <th>Average chalimus per fish</th>\n      <th>Average caligus per fish</th>\n      <th>Comments</th>\n      <th>Year Class</th>\n    </tr>\n  </thead>\n  <tbody>\n    <tr>\n      <th>0</th>\n      <td>2011</td>\n      <td>January</td>\n      <td>466</td>\n      <td>Routine monitoring</td>\n      <td>2011-01-27</td>\n      <td>3</td>\n      <td>0.2500</td>\n      <td>0.0000</td>\n      <td>0.2167</td>\n      <td>0.0500</td>\n      <td>NaN</td>\n      <td>1</td>\n    </tr>\n    <tr>\n      <th>1</th>\n      <td>2011</td>\n      <td>January</td>\n      <td>1144</td>\n      <td>Routine monitoring</td>\n      <td>2011-01-01</td>\n      <td>3</td>\n      <td>1.3833</td>\n      <td>0.2500</td>\n      <td>1.1000</td>\n      <td>0.5000</td>\n      <td>NaN</td>\n      <td>2</td>\n    </tr>\n    <tr>\n      <th>2</th>\n      <td>2011</td>\n      <td>January</td>\n      <td>1144</td>\n      <td>Pre-treatment</td>\n      <td>2011-01-15</td>\n      <td>3</td>\n      <td>2.7833</td>\n      <td>1.2167</td>\n      <td>1.8333</td>\n      <td>0.3667</td>\n      <td>In-feed treatment</td>\n      <td>2</td>\n    </tr>\n    <tr>\n      <th>3</th>\n      <td>2011</td>\n      <td>January</td>\n      <td>458</td>\n      <td>Routine monitoring</td>\n      <td>2011-01-05</td>\n      <td>2</td>\n      <td>0.3500</td>\n      <td>0.1750</td>\n      <td>0.1000</td>\n      <td>0.0000</td>\n      <td>Sampling methodology does not meet requirement...</td>\n      <td>Brood</td>\n    </tr>\n    <tr>\n      <th>4</th>\n      <td>2011</td>\n      <td>January</td>\n      <td>1586</td>\n      <td>Follow-up</td>\n      <td>2011-01-20</td>\n      <td>3</td>\n      <td>0.0667</td>\n      <td>0.0000</td>\n      <td>0.2500</td>\n      <td>0.0167</td>\n      <td>NaN</td>\n      <td>1</td>\n    </tr>\n  </tbody>\n</table>\n</div>"
     },
     "execution_count": 67,
     "metadata": {},
     "output_type": "execute_result"
    }
   ],
   "source": [
    "dfo_farm_data_df = pd.read_csv(dfo_farm_data_filepath)\n",
    "\n",
    "# strip out the columns that aren't needed\n",
    "drop_columns = ['Licence Holder', 'Site Common Name', 'Latitude', 'Longitude', 'Aquaculture Management Unit']\n",
    "dfo_farm_data_df.drop(drop_columns, axis=1, inplace=True)\n",
    "\n",
    "dfo_farm_data_df.head()"
   ],
   "metadata": {
    "collapsed": false,
    "pycharm": {
     "name": "#%%\n"
    }
   }
  },
  {
   "cell_type": "code",
   "execution_count": 68,
   "outputs": [
    {
     "data": {
      "text/plain": "   Year    Month  Facility Reference Number         Sample Type Incident Date  \\\n0  2011  January                        466  Routine monitoring    2011-01-27   \n1  2011  January                       1144  Routine monitoring    2011-01-01   \n2  2011  January                       1144       Pre-treatment    2011-01-15   \n3  2011  January                        458  Routine monitoring    2011-01-05   \n4  2011  January                       1586           Follow-up    2011-01-20   \n\n   Number of Pens Sampled  Average L. salmonis motiles per fish  \\\n0                       3                                0.2500   \n1                       3                                1.3833   \n2                       3                                2.7833   \n3                       2                                0.3500   \n4                       3                                0.0667   \n\n   Average L. salmonis females per fish  Average chalimus per fish  \\\n0                                0.0000                     0.2167   \n1                                0.2500                     1.1000   \n2                                1.2167                     1.8333   \n3                                0.1750                     0.1000   \n4                                0.0000                     0.2500   \n\n   Average caligus per fish  \\\n0                    0.0500   \n1                    0.5000   \n2                    0.3667   \n3                    0.0000   \n4                    0.0167   \n\n                                            Comments Year Class  year  month  \\\n0                                                NaN          1  2011      1   \n1                                                NaN          2  2011      1   \n2                                  In-feed treatment          2  2011      1   \n3  Sampling methodology does not meet requirement...      Brood  2011      1   \n4                                                NaN          1  2011      1   \n\n        date   day  \n0 2011-01-27  27.0  \n1 2011-01-01   1.0  \n2 2011-01-15  15.0  \n3 2011-01-05   5.0  \n4 2011-01-20  20.0  ",
      "text/html": "<div>\n<style scoped>\n    .dataframe tbody tr th:only-of-type {\n        vertical-align: middle;\n    }\n\n    .dataframe tbody tr th {\n        vertical-align: top;\n    }\n\n    .dataframe thead th {\n        text-align: right;\n    }\n</style>\n<table border=\"1\" class=\"dataframe\">\n  <thead>\n    <tr style=\"text-align: right;\">\n      <th></th>\n      <th>Year</th>\n      <th>Month</th>\n      <th>Facility Reference Number</th>\n      <th>Sample Type</th>\n      <th>Incident Date</th>\n      <th>Number of Pens Sampled</th>\n      <th>Average L. salmonis motiles per fish</th>\n      <th>Average L. salmonis females per fish</th>\n      <th>Average chalimus per fish</th>\n      <th>Average caligus per fish</th>\n      <th>Comments</th>\n      <th>Year Class</th>\n      <th>year</th>\n      <th>month</th>\n      <th>date</th>\n      <th>day</th>\n    </tr>\n  </thead>\n  <tbody>\n    <tr>\n      <th>0</th>\n      <td>2011</td>\n      <td>January</td>\n      <td>466</td>\n      <td>Routine monitoring</td>\n      <td>2011-01-27</td>\n      <td>3</td>\n      <td>0.2500</td>\n      <td>0.0000</td>\n      <td>0.2167</td>\n      <td>0.0500</td>\n      <td>NaN</td>\n      <td>1</td>\n      <td>2011</td>\n      <td>1</td>\n      <td>2011-01-27</td>\n      <td>27.0</td>\n    </tr>\n    <tr>\n      <th>1</th>\n      <td>2011</td>\n      <td>January</td>\n      <td>1144</td>\n      <td>Routine monitoring</td>\n      <td>2011-01-01</td>\n      <td>3</td>\n      <td>1.3833</td>\n      <td>0.2500</td>\n      <td>1.1000</td>\n      <td>0.5000</td>\n      <td>NaN</td>\n      <td>2</td>\n      <td>2011</td>\n      <td>1</td>\n      <td>2011-01-01</td>\n      <td>1.0</td>\n    </tr>\n    <tr>\n      <th>2</th>\n      <td>2011</td>\n      <td>January</td>\n      <td>1144</td>\n      <td>Pre-treatment</td>\n      <td>2011-01-15</td>\n      <td>3</td>\n      <td>2.7833</td>\n      <td>1.2167</td>\n      <td>1.8333</td>\n      <td>0.3667</td>\n      <td>In-feed treatment</td>\n      <td>2</td>\n      <td>2011</td>\n      <td>1</td>\n      <td>2011-01-15</td>\n      <td>15.0</td>\n    </tr>\n    <tr>\n      <th>3</th>\n      <td>2011</td>\n      <td>January</td>\n      <td>458</td>\n      <td>Routine monitoring</td>\n      <td>2011-01-05</td>\n      <td>2</td>\n      <td>0.3500</td>\n      <td>0.1750</td>\n      <td>0.1000</td>\n      <td>0.0000</td>\n      <td>Sampling methodology does not meet requirement...</td>\n      <td>Brood</td>\n      <td>2011</td>\n      <td>1</td>\n      <td>2011-01-05</td>\n      <td>5.0</td>\n    </tr>\n    <tr>\n      <th>4</th>\n      <td>2011</td>\n      <td>January</td>\n      <td>1586</td>\n      <td>Follow-up</td>\n      <td>2011-01-20</td>\n      <td>3</td>\n      <td>0.0667</td>\n      <td>0.0000</td>\n      <td>0.2500</td>\n      <td>0.0167</td>\n      <td>NaN</td>\n      <td>1</td>\n      <td>2011</td>\n      <td>1</td>\n      <td>2011-01-20</td>\n      <td>20.0</td>\n    </tr>\n  </tbody>\n</table>\n</div>"
     },
     "execution_count": 68,
     "metadata": {},
     "output_type": "execute_result"
    }
   ],
   "source": [
    "# put sampling date into numeric year, month, day (when available)\n",
    "dfo_farm_data_df['year'] = dfo_farm_data_df['Year']\n",
    "\n",
    "month_to_num_dict = {month_name: num for num, month_name in enumerate(calendar.month_name)}\n",
    "dfo_farm_data_df['month'] = dfo_farm_data_df['Month'].apply(lambda month_name: month_to_num_dict[month_name])\n",
    "\n",
    "dfo_farm_data_df['date'] = pd.to_datetime(dfo_farm_data_df['Incident Date'], errors='coerce')\n",
    "dfo_farm_data_df['day'] = dfo_farm_data_df['date'].apply(lambda sample_date: None if pd.isnull(sample_date) else sample_date.day)\n",
    "\n",
    "dfo_farm_data_df.head()"
   ],
   "metadata": {
    "collapsed": false,
    "pycharm": {
     "name": "#%%\n"
    }
   }
  },
  {
   "cell_type": "markdown",
   "source": [
    "### Combine facility mapping with the DFO data to get out facility_id"
   ],
   "metadata": {
    "collapsed": false,
    "pycharm": {
     "name": "#%% md\n"
    }
   }
  },
  {
   "cell_type": "code",
   "execution_count": 69,
   "outputs": [
    {
     "data": {
      "text/plain": "   Year    Month  Facility Reference Number         Sample Type Incident Date  \\\n0  2011  January                        466  Routine monitoring    2011-01-27   \n1  2011  January                       1144  Routine monitoring    2011-01-01   \n2  2011  January                       1144       Pre-treatment    2011-01-15   \n3  2011  January                        458  Routine monitoring    2011-01-05   \n4  2011  January                       1586           Follow-up    2011-01-20   \n\n   Number of Pens Sampled  Average L. salmonis motiles per fish  \\\n0                       3                                0.2500   \n1                       3                                1.3833   \n2                       3                                2.7833   \n3                       2                                0.3500   \n4                       3                                0.0667   \n\n   Average L. salmonis females per fish  Average chalimus per fish  \\\n0                                0.0000                     0.2167   \n1                                0.2500                     1.1000   \n2                                1.2167                     1.8333   \n3                                0.1750                     0.1000   \n4                                0.0000                     0.2500   \n\n   Average caligus per fish  ...  year month       date   day  \\\n0                    0.0500  ...  2011     1 2011-01-27  27.0   \n1                    0.5000  ...  2011     1 2011-01-01   1.0   \n2                    0.3667  ...  2011     1 2011-01-15  15.0   \n3                    0.0000  ...  2011     1 2011-01-05   5.0   \n4                    0.0167  ...  2011     1 2011-01-20  20.0   \n\n  Site Common Name  Aquaculture Management Unit separator facility_id  \\\n0       Arrow Pass        Broughton Archipelago       NaN         5.0   \n1         Burdwood        Broughton Archipelago       NaN        25.0   \n2         Burdwood        Broughton Archipelago       NaN        25.0   \n3  Cypress Harbour        Broughton Archipelago       NaN        45.0   \n4    Doctor Islets        Broughton Archipelago       NaN        51.0   \n\n              name            region_name  \n0    Arrow Passage  Broughton Archipelago  \n1         Burdwood  Broughton Archipelago  \n2         Burdwood  Broughton Archipelago  \n3  Cypress Harbour  Broughton Archipelago  \n4    Doctor Islets  Broughton Archipelago  \n\n[5 rows x 22 columns]",
      "text/html": "<div>\n<style scoped>\n    .dataframe tbody tr th:only-of-type {\n        vertical-align: middle;\n    }\n\n    .dataframe tbody tr th {\n        vertical-align: top;\n    }\n\n    .dataframe thead th {\n        text-align: right;\n    }\n</style>\n<table border=\"1\" class=\"dataframe\">\n  <thead>\n    <tr style=\"text-align: right;\">\n      <th></th>\n      <th>Year</th>\n      <th>Month</th>\n      <th>Facility Reference Number</th>\n      <th>Sample Type</th>\n      <th>Incident Date</th>\n      <th>Number of Pens Sampled</th>\n      <th>Average L. salmonis motiles per fish</th>\n      <th>Average L. salmonis females per fish</th>\n      <th>Average chalimus per fish</th>\n      <th>Average caligus per fish</th>\n      <th>...</th>\n      <th>year</th>\n      <th>month</th>\n      <th>date</th>\n      <th>day</th>\n      <th>Site Common Name</th>\n      <th>Aquaculture Management Unit</th>\n      <th>separator</th>\n      <th>facility_id</th>\n      <th>name</th>\n      <th>region_name</th>\n    </tr>\n  </thead>\n  <tbody>\n    <tr>\n      <th>0</th>\n      <td>2011</td>\n      <td>January</td>\n      <td>466</td>\n      <td>Routine monitoring</td>\n      <td>2011-01-27</td>\n      <td>3</td>\n      <td>0.2500</td>\n      <td>0.0000</td>\n      <td>0.2167</td>\n      <td>0.0500</td>\n      <td>...</td>\n      <td>2011</td>\n      <td>1</td>\n      <td>2011-01-27</td>\n      <td>27.0</td>\n      <td>Arrow Pass</td>\n      <td>Broughton Archipelago</td>\n      <td>NaN</td>\n      <td>5.0</td>\n      <td>Arrow Passage</td>\n      <td>Broughton Archipelago</td>\n    </tr>\n    <tr>\n      <th>1</th>\n      <td>2011</td>\n      <td>January</td>\n      <td>1144</td>\n      <td>Routine monitoring</td>\n      <td>2011-01-01</td>\n      <td>3</td>\n      <td>1.3833</td>\n      <td>0.2500</td>\n      <td>1.1000</td>\n      <td>0.5000</td>\n      <td>...</td>\n      <td>2011</td>\n      <td>1</td>\n      <td>2011-01-01</td>\n      <td>1.0</td>\n      <td>Burdwood</td>\n      <td>Broughton Archipelago</td>\n      <td>NaN</td>\n      <td>25.0</td>\n      <td>Burdwood</td>\n      <td>Broughton Archipelago</td>\n    </tr>\n    <tr>\n      <th>2</th>\n      <td>2011</td>\n      <td>January</td>\n      <td>1144</td>\n      <td>Pre-treatment</td>\n      <td>2011-01-15</td>\n      <td>3</td>\n      <td>2.7833</td>\n      <td>1.2167</td>\n      <td>1.8333</td>\n      <td>0.3667</td>\n      <td>...</td>\n      <td>2011</td>\n      <td>1</td>\n      <td>2011-01-15</td>\n      <td>15.0</td>\n      <td>Burdwood</td>\n      <td>Broughton Archipelago</td>\n      <td>NaN</td>\n      <td>25.0</td>\n      <td>Burdwood</td>\n      <td>Broughton Archipelago</td>\n    </tr>\n    <tr>\n      <th>3</th>\n      <td>2011</td>\n      <td>January</td>\n      <td>458</td>\n      <td>Routine monitoring</td>\n      <td>2011-01-05</td>\n      <td>2</td>\n      <td>0.3500</td>\n      <td>0.1750</td>\n      <td>0.1000</td>\n      <td>0.0000</td>\n      <td>...</td>\n      <td>2011</td>\n      <td>1</td>\n      <td>2011-01-05</td>\n      <td>5.0</td>\n      <td>Cypress Harbour</td>\n      <td>Broughton Archipelago</td>\n      <td>NaN</td>\n      <td>45.0</td>\n      <td>Cypress Harbour</td>\n      <td>Broughton Archipelago</td>\n    </tr>\n    <tr>\n      <th>4</th>\n      <td>2011</td>\n      <td>January</td>\n      <td>1586</td>\n      <td>Follow-up</td>\n      <td>2011-01-20</td>\n      <td>3</td>\n      <td>0.0667</td>\n      <td>0.0000</td>\n      <td>0.2500</td>\n      <td>0.0167</td>\n      <td>...</td>\n      <td>2011</td>\n      <td>1</td>\n      <td>2011-01-20</td>\n      <td>20.0</td>\n      <td>Doctor Islets</td>\n      <td>Broughton Archipelago</td>\n      <td>NaN</td>\n      <td>51.0</td>\n      <td>Doctor Islets</td>\n      <td>Broughton Archipelago</td>\n    </tr>\n  </tbody>\n</table>\n<p>5 rows × 22 columns</p>\n</div>"
     },
     "execution_count": 69,
     "metadata": {},
     "output_type": "execute_result"
    }
   ],
   "source": [
    "facility_map_df = pd.read_csv(ref_to_id_map_filepath)\n",
    "\n",
    "dfo_formatted_df = pd.merge(dfo_farm_data_df, facility_map_df, on='Facility Reference Number', how='left')\n",
    "\n",
    "dfo_formatted_df.head()"
   ],
   "metadata": {
    "collapsed": false,
    "pycharm": {
     "name": "#%%\n"
    }
   }
  },
  {
   "cell_type": "markdown",
   "source": [
    "### Convert the format to match industry data"
   ],
   "metadata": {
    "collapsed": false,
    "pycharm": {
     "name": "#%% md\n"
    }
   }
  },
  {
   "cell_type": "code",
   "execution_count": 70,
   "outputs": [
    {
     "data": {
      "text/plain": "   Year    Month  Facility Reference Number         sample_type Incident Date  \\\n0  2011  January                        466  Routine monitoring    2011-01-27   \n1  2011  January                       1144  Routine monitoring    2011-01-01   \n2  2011  January                       1144       Pre-treatment    2011-01-15   \n3  2011  January                        458  Routine monitoring    2011-01-05   \n4  2011  January                       1586           Follow-up    2011-01-20   \n\n   num_pens_sampled  lep_motile_ab  lep_af_ab  chalimus_ab  cal_motile_ab  \\\n0                 3         0.2500     0.0000       0.2167         0.0500   \n1                 3         1.3833     0.2500       1.1000         0.5000   \n2                 3         2.7833     1.2167       1.8333         0.3667   \n3                 2         0.3500     0.1750       0.1000         0.0000   \n4                 3         0.0667     0.0000       0.2500         0.0167   \n\n   ...  year month       date   day Site Common Name  \\\n0  ...  2011     1 2011-01-27  27.0       Arrow Pass   \n1  ...  2011     1 2011-01-01   1.0         Burdwood   \n2  ...  2011     1 2011-01-15  15.0         Burdwood   \n3  ...  2011     1 2011-01-05   5.0  Cypress Harbour   \n4  ...  2011     1 2011-01-20  20.0    Doctor Islets   \n\n   Aquaculture Management Unit separator facility_id             name  \\\n0        Broughton Archipelago       NaN         5.0    Arrow Passage   \n1        Broughton Archipelago       NaN        25.0         Burdwood   \n2        Broughton Archipelago       NaN        25.0         Burdwood   \n3        Broughton Archipelago       NaN        45.0  Cypress Harbour   \n4        Broughton Archipelago       NaN        51.0    Doctor Islets   \n\n             region_name  \n0  Broughton Archipelago  \n1  Broughton Archipelago  \n2  Broughton Archipelago  \n3  Broughton Archipelago  \n4  Broughton Archipelago  \n\n[5 rows x 22 columns]",
      "text/html": "<div>\n<style scoped>\n    .dataframe tbody tr th:only-of-type {\n        vertical-align: middle;\n    }\n\n    .dataframe tbody tr th {\n        vertical-align: top;\n    }\n\n    .dataframe thead th {\n        text-align: right;\n    }\n</style>\n<table border=\"1\" class=\"dataframe\">\n  <thead>\n    <tr style=\"text-align: right;\">\n      <th></th>\n      <th>Year</th>\n      <th>Month</th>\n      <th>Facility Reference Number</th>\n      <th>sample_type</th>\n      <th>Incident Date</th>\n      <th>num_pens_sampled</th>\n      <th>lep_motile_ab</th>\n      <th>lep_af_ab</th>\n      <th>chalimus_ab</th>\n      <th>cal_motile_ab</th>\n      <th>...</th>\n      <th>year</th>\n      <th>month</th>\n      <th>date</th>\n      <th>day</th>\n      <th>Site Common Name</th>\n      <th>Aquaculture Management Unit</th>\n      <th>separator</th>\n      <th>facility_id</th>\n      <th>name</th>\n      <th>region_name</th>\n    </tr>\n  </thead>\n  <tbody>\n    <tr>\n      <th>0</th>\n      <td>2011</td>\n      <td>January</td>\n      <td>466</td>\n      <td>Routine monitoring</td>\n      <td>2011-01-27</td>\n      <td>3</td>\n      <td>0.2500</td>\n      <td>0.0000</td>\n      <td>0.2167</td>\n      <td>0.0500</td>\n      <td>...</td>\n      <td>2011</td>\n      <td>1</td>\n      <td>2011-01-27</td>\n      <td>27.0</td>\n      <td>Arrow Pass</td>\n      <td>Broughton Archipelago</td>\n      <td>NaN</td>\n      <td>5.0</td>\n      <td>Arrow Passage</td>\n      <td>Broughton Archipelago</td>\n    </tr>\n    <tr>\n      <th>1</th>\n      <td>2011</td>\n      <td>January</td>\n      <td>1144</td>\n      <td>Routine monitoring</td>\n      <td>2011-01-01</td>\n      <td>3</td>\n      <td>1.3833</td>\n      <td>0.2500</td>\n      <td>1.1000</td>\n      <td>0.5000</td>\n      <td>...</td>\n      <td>2011</td>\n      <td>1</td>\n      <td>2011-01-01</td>\n      <td>1.0</td>\n      <td>Burdwood</td>\n      <td>Broughton Archipelago</td>\n      <td>NaN</td>\n      <td>25.0</td>\n      <td>Burdwood</td>\n      <td>Broughton Archipelago</td>\n    </tr>\n    <tr>\n      <th>2</th>\n      <td>2011</td>\n      <td>January</td>\n      <td>1144</td>\n      <td>Pre-treatment</td>\n      <td>2011-01-15</td>\n      <td>3</td>\n      <td>2.7833</td>\n      <td>1.2167</td>\n      <td>1.8333</td>\n      <td>0.3667</td>\n      <td>...</td>\n      <td>2011</td>\n      <td>1</td>\n      <td>2011-01-15</td>\n      <td>15.0</td>\n      <td>Burdwood</td>\n      <td>Broughton Archipelago</td>\n      <td>NaN</td>\n      <td>25.0</td>\n      <td>Burdwood</td>\n      <td>Broughton Archipelago</td>\n    </tr>\n    <tr>\n      <th>3</th>\n      <td>2011</td>\n      <td>January</td>\n      <td>458</td>\n      <td>Routine monitoring</td>\n      <td>2011-01-05</td>\n      <td>2</td>\n      <td>0.3500</td>\n      <td>0.1750</td>\n      <td>0.1000</td>\n      <td>0.0000</td>\n      <td>...</td>\n      <td>2011</td>\n      <td>1</td>\n      <td>2011-01-05</td>\n      <td>5.0</td>\n      <td>Cypress Harbour</td>\n      <td>Broughton Archipelago</td>\n      <td>NaN</td>\n      <td>45.0</td>\n      <td>Cypress Harbour</td>\n      <td>Broughton Archipelago</td>\n    </tr>\n    <tr>\n      <th>4</th>\n      <td>2011</td>\n      <td>January</td>\n      <td>1586</td>\n      <td>Follow-up</td>\n      <td>2011-01-20</td>\n      <td>3</td>\n      <td>0.0667</td>\n      <td>0.0000</td>\n      <td>0.2500</td>\n      <td>0.0167</td>\n      <td>...</td>\n      <td>2011</td>\n      <td>1</td>\n      <td>2011-01-20</td>\n      <td>20.0</td>\n      <td>Doctor Islets</td>\n      <td>Broughton Archipelago</td>\n      <td>NaN</td>\n      <td>51.0</td>\n      <td>Doctor Islets</td>\n      <td>Broughton Archipelago</td>\n    </tr>\n  </tbody>\n</table>\n<p>5 rows × 22 columns</p>\n</div>"
     },
     "execution_count": 70,
     "metadata": {},
     "output_type": "execute_result"
    }
   ],
   "source": [
    "# rename the lice data columns to match industry_farm_abundance\n",
    "dfo_formatted_df.rename(columns={\n",
    "    # lice numbers\n",
    "    'Average L. salmonis motiles per fish': 'lep_motile_ab',\n",
    "    'Average L. salmonis females per fish': 'lep_af_ab',\n",
    "    'Average chalimus per fish': 'chalimus_ab',\n",
    "    'Average caligus per fish': 'cal_motile_ab',\n",
    "\n",
    "    # other columns\n",
    "    'Number of Pens Sampled': 'num_pens_sampled',\n",
    "    'Sample Type': 'sample_type',\n",
    "    'Comments': 'comments'\n",
    "},\n",
    "inplace=True)\n",
    "\n",
    "dfo_formatted_df.head()"
   ],
   "metadata": {
    "collapsed": false,
    "pycharm": {
     "name": "#%%\n"
    }
   }
  },
  {
   "cell_type": "code",
   "execution_count": 71,
   "outputs": [],
   "source": [
    "# make string \"n/a\" into null\n",
    "dfo_formatted_df.replace('n/a', None, inplace=True)"
   ],
   "metadata": {
    "collapsed": false,
    "pycharm": {
     "name": "#%%\n"
    }
   }
  },
  {
   "cell_type": "code",
   "execution_count": 72,
   "outputs": [
    {
     "data": {
      "text/plain": "18808"
     },
     "execution_count": 72,
     "metadata": {},
     "output_type": "execute_result"
    }
   ],
   "source": [
    "# remove columns and reorder to match industry - leave some extra useful/interesting data\n",
    "dfo_formatted_df = dfo_formatted_df.reindex(\n",
    "    columns=['facility_id', 'year', 'month', 'day', 'fish_selected', 'num_pens_sampled',\n",
    "             'chalimus_ab', 'lep_motile_ab', 'lep_af_ab', 'cal_motile_ab',\n",
    "             'sample_type', 'comments'])\n",
    "\n",
    "# dfo_formatted_df.head()\n",
    "len(dfo_formatted_df)"
   ],
   "metadata": {
    "collapsed": false,
    "pycharm": {
     "name": "#%%\n"
    }
   }
  },
  {
   "cell_type": "code",
   "execution_count": 73,
   "outputs": [
    {
     "data": {
      "text/plain": "18625"
     },
     "execution_count": 73,
     "metadata": {},
     "output_type": "execute_result"
    }
   ],
   "source": [
    "# remove all lines with null facility id\n",
    "dfo_formatted_df.dropna(axis='rows', subset=['facility_id'], inplace=True)\n",
    "\n",
    "dfo_formatted_df['facility_id'] = dfo_formatted_df['facility_id'].apply(lambda x: int(x))\n",
    "# dfo_formatted_df.head()\n",
    "len(dfo_formatted_df)"
   ],
   "metadata": {
    "collapsed": false,
    "pycharm": {
     "name": "#%%\n"
    }
   }
  },
  {
   "cell_type": "markdown",
   "source": [
    "### Write formatted data to file"
   ],
   "metadata": {
    "collapsed": false,
    "pycharm": {
     "name": "#%% md\n"
    }
   }
  },
  {
   "cell_type": "code",
   "execution_count": 74,
   "outputs": [],
   "source": [
    "dfo_formatted_df.to_csv(dfo_formatted_farm_filepath, index=False)"
   ],
   "metadata": {
    "collapsed": false,
    "pycharm": {
     "name": "#%%\n"
    }
   }
  },
  {
   "cell_type": "code",
   "execution_count": 74,
   "outputs": [],
   "source": [],
   "metadata": {
    "collapsed": false,
    "pycharm": {
     "name": "#%%\n"
    }
   }
  }
 ],
 "metadata": {
  "kernelspec": {
   "display_name": "Python 3",
   "language": "python",
   "name": "python3"
  },
  "language_info": {
   "codemirror_mode": {
    "name": "ipython",
    "version": 2
   },
   "file_extension": ".py",
   "mimetype": "text/x-python",
   "name": "python",
   "nbconvert_exporter": "python",
   "pygments_lexer": "ipython2",
   "version": "2.7.6"
  }
 },
 "nbformat": 4,
 "nbformat_minor": 0
}