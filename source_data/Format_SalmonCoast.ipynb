{
 "cells": [
  {
   "cell_type": "markdown",
   "source": [
    "## This Notebook formats the Salmon Coast Research Station wild sampling data to fit the format of our wild sampling data.\n",
    "### To integrate it with other wild data, run 'Integrate_Wild_Data.ipynb' after generating the formatted data."
   ],
   "metadata": {
    "collapsed": false,
    "pycharm": {
     "name": "#%% md\n"
    }
   }
  },
  {
   "cell_type": "code",
   "execution_count": 32,
   "outputs": [],
   "source": [
    "import pandas as pd\n",
    "from pathlib import Path"
   ],
   "metadata": {
    "collapsed": false,
    "pycharm": {
     "name": "#%%\n"
    }
   }
  },
  {
   "cell_type": "markdown",
   "source": [
    "### Configuration variables for this notebook\n",
    "Adjust for your local setup"
   ],
   "metadata": {
    "collapsed": false,
    "pycharm": {
     "name": "#%% md\n"
    }
   }
  },
  {
   "cell_type": "code",
   "execution_count": 33,
   "outputs": [],
   "source": [
    "# paths to the source Salmon Coast data files\n",
    "scfs_wild_data_dir = Path('SalmonCoast') / 'Data'\n",
    "scfs_events_filepath = scfs_wild_data_dir / 'BroughtonSeaLice_siteData.csv'\n",
    "scfs_fish_lice_filepath = scfs_wild_data_dir / 'BroughtonSeaLice_fishData.csv'\n",
    "\n",
    "# output paths for writing the formatted Salmon Coast Field Station data\n",
    "wild_data_dir = Path('.')\n",
    "scfs_formatted_events_filepath = wild_data_dir / 'salmon_coast_wild_sample_events.csv'\n",
    "scfs_formatted_lice_filepath = wild_data_dir / 'salmon_coast_wild_fish_lice.csv'"
   ],
   "metadata": {
    "collapsed": false,
    "pycharm": {
     "name": "#%%\n"
    }
   }
  },
  {
   "cell_type": "markdown",
   "source": [
    "# Format the event file"
   ],
   "metadata": {
    "collapsed": false,
    "pycharm": {
     "name": "#%% md\n"
    }
   }
  },
  {
   "cell_type": "code",
   "execution_count": 34,
   "outputs": [
    {
     "data": {
      "text/plain": "  sampledate  site_id  location  salt  temp  salmon_captured  salmon_examined  \\\n0 2001-06-12      1.0  Burdwood   NaN   NaN              NaN             18.0   \n1 2001-06-13      2.0   Wicklow   NaN   NaN              NaN             10.0   \n2 2001-06-16      3.0   Glacier   NaN   NaN              NaN             77.0   \n3 2001-06-23      4.0  Burdwood   NaN   NaN              NaN             11.0   \n4 2001-06-24      5.0  Burdwood   NaN   NaN              NaN             12.0   \n\n   pink_examined  chum_examined  sockeye_examined  morts_recovery  \\\n0           18.0            0.0               0.0             NaN   \n1           10.0            0.0               0.0             NaN   \n2           77.0            0.0               0.0             NaN   \n3           11.0            0.0               0.0             NaN   \n4           12.0            0.0               0.0             NaN   \n\n   morts_other  P_ratio  C_ratio latitude longitude bycatch notes  \n0          NaN      NaN      NaN      NaN       NaN     NaN   NaN  \n1          NaN      NaN      NaN      NaN       NaN     NaN   NaN  \n2          NaN      NaN      NaN      NaN       NaN     NaN   NaN  \n3          NaN      NaN      NaN      NaN       NaN     NaN   NaN  \n4          NaN      NaN      NaN      NaN       NaN     NaN   NaN  ",
      "text/html": "<div>\n<style scoped>\n    .dataframe tbody tr th:only-of-type {\n        vertical-align: middle;\n    }\n\n    .dataframe tbody tr th {\n        vertical-align: top;\n    }\n\n    .dataframe thead th {\n        text-align: right;\n    }\n</style>\n<table border=\"1\" class=\"dataframe\">\n  <thead>\n    <tr style=\"text-align: right;\">\n      <th></th>\n      <th>sampledate</th>\n      <th>site_id</th>\n      <th>location</th>\n      <th>salt</th>\n      <th>temp</th>\n      <th>salmon_captured</th>\n      <th>salmon_examined</th>\n      <th>pink_examined</th>\n      <th>chum_examined</th>\n      <th>sockeye_examined</th>\n      <th>morts_recovery</th>\n      <th>morts_other</th>\n      <th>P_ratio</th>\n      <th>C_ratio</th>\n      <th>latitude</th>\n      <th>longitude</th>\n      <th>bycatch</th>\n      <th>notes</th>\n    </tr>\n  </thead>\n  <tbody>\n    <tr>\n      <th>0</th>\n      <td>2001-06-12</td>\n      <td>1.0</td>\n      <td>Burdwood</td>\n      <td>NaN</td>\n      <td>NaN</td>\n      <td>NaN</td>\n      <td>18.0</td>\n      <td>18.0</td>\n      <td>0.0</td>\n      <td>0.0</td>\n      <td>NaN</td>\n      <td>NaN</td>\n      <td>NaN</td>\n      <td>NaN</td>\n      <td>NaN</td>\n      <td>NaN</td>\n      <td>NaN</td>\n      <td>NaN</td>\n    </tr>\n    <tr>\n      <th>1</th>\n      <td>2001-06-13</td>\n      <td>2.0</td>\n      <td>Wicklow</td>\n      <td>NaN</td>\n      <td>NaN</td>\n      <td>NaN</td>\n      <td>10.0</td>\n      <td>10.0</td>\n      <td>0.0</td>\n      <td>0.0</td>\n      <td>NaN</td>\n      <td>NaN</td>\n      <td>NaN</td>\n      <td>NaN</td>\n      <td>NaN</td>\n      <td>NaN</td>\n      <td>NaN</td>\n      <td>NaN</td>\n    </tr>\n    <tr>\n      <th>2</th>\n      <td>2001-06-16</td>\n      <td>3.0</td>\n      <td>Glacier</td>\n      <td>NaN</td>\n      <td>NaN</td>\n      <td>NaN</td>\n      <td>77.0</td>\n      <td>77.0</td>\n      <td>0.0</td>\n      <td>0.0</td>\n      <td>NaN</td>\n      <td>NaN</td>\n      <td>NaN</td>\n      <td>NaN</td>\n      <td>NaN</td>\n      <td>NaN</td>\n      <td>NaN</td>\n      <td>NaN</td>\n    </tr>\n    <tr>\n      <th>3</th>\n      <td>2001-06-23</td>\n      <td>4.0</td>\n      <td>Burdwood</td>\n      <td>NaN</td>\n      <td>NaN</td>\n      <td>NaN</td>\n      <td>11.0</td>\n      <td>11.0</td>\n      <td>0.0</td>\n      <td>0.0</td>\n      <td>NaN</td>\n      <td>NaN</td>\n      <td>NaN</td>\n      <td>NaN</td>\n      <td>NaN</td>\n      <td>NaN</td>\n      <td>NaN</td>\n      <td>NaN</td>\n    </tr>\n    <tr>\n      <th>4</th>\n      <td>2001-06-24</td>\n      <td>5.0</td>\n      <td>Burdwood</td>\n      <td>NaN</td>\n      <td>NaN</td>\n      <td>NaN</td>\n      <td>12.0</td>\n      <td>12.0</td>\n      <td>0.0</td>\n      <td>0.0</td>\n      <td>NaN</td>\n      <td>NaN</td>\n      <td>NaN</td>\n      <td>NaN</td>\n      <td>NaN</td>\n      <td>NaN</td>\n      <td>NaN</td>\n      <td>NaN</td>\n    </tr>\n  </tbody>\n</table>\n</div>"
     },
     "execution_count": 34,
     "metadata": {},
     "output_type": "execute_result"
    }
   ],
   "source": [
    "# read in the event file and parse the year, month, day columns into a date\n",
    "scfs_events_df = pd.read_csv(scfs_events_filepath, parse_dates={'sampledate': ['year', 'month', 'day']})\n",
    "scfs_events_df.head()"
   ],
   "metadata": {
    "collapsed": false,
    "pycharm": {
     "name": "#%%\n"
    }
   }
  },
  {
   "cell_type": "code",
   "execution_count": 35,
   "outputs": [
    {
     "data": {
      "text/plain": "True"
     },
     "execution_count": 35,
     "metadata": {},
     "output_type": "execute_result"
    }
   ],
   "source": [
    "# check that site_id is unique. If it is we can use it as an event ID.\n",
    "len(scfs_events_df) == len(scfs_events_df.site_id.unique())"
   ],
   "metadata": {
    "collapsed": false,
    "pycharm": {
     "name": "#%%\n"
    }
   }
  },
  {
   "cell_type": "code",
   "execution_count": 36,
   "outputs": [
    {
     "data": {
      "text/plain": "  sampledate  site_id  location  salt  temp  salmon_captured  salmon_examined  \\\n0 2001-06-12      1.0  Burdwood   NaN   NaN              NaN             18.0   \n1 2001-06-13      2.0   Wicklow   NaN   NaN              NaN             10.0   \n2 2001-06-16      3.0   Glacier   NaN   NaN              NaN             77.0   \n3 2001-06-23      4.0  Burdwood   NaN   NaN              NaN             11.0   \n4 2001-06-24      5.0  Burdwood   NaN   NaN              NaN             12.0   \n\n   pink_examined  chum_examined  sockeye_examined  morts_recovery  \\\n0           18.0            0.0               0.0             NaN   \n1           10.0            0.0               0.0             NaN   \n2           77.0            0.0               0.0             NaN   \n3           11.0            0.0               0.0             NaN   \n4           12.0            0.0               0.0             NaN   \n\n   morts_other  P_ratio  C_ratio latitude longitude bycatch notes  event_id  \n0          NaN      NaN      NaN      NaN       NaN     NaN   NaN  scfs_1.0  \n1          NaN      NaN      NaN      NaN       NaN     NaN   NaN  scfs_2.0  \n2          NaN      NaN      NaN      NaN       NaN     NaN   NaN  scfs_3.0  \n3          NaN      NaN      NaN      NaN       NaN     NaN   NaN  scfs_4.0  \n4          NaN      NaN      NaN      NaN       NaN     NaN   NaN  scfs_5.0  ",
      "text/html": "<div>\n<style scoped>\n    .dataframe tbody tr th:only-of-type {\n        vertical-align: middle;\n    }\n\n    .dataframe tbody tr th {\n        vertical-align: top;\n    }\n\n    .dataframe thead th {\n        text-align: right;\n    }\n</style>\n<table border=\"1\" class=\"dataframe\">\n  <thead>\n    <tr style=\"text-align: right;\">\n      <th></th>\n      <th>sampledate</th>\n      <th>site_id</th>\n      <th>location</th>\n      <th>salt</th>\n      <th>temp</th>\n      <th>salmon_captured</th>\n      <th>salmon_examined</th>\n      <th>pink_examined</th>\n      <th>chum_examined</th>\n      <th>sockeye_examined</th>\n      <th>morts_recovery</th>\n      <th>morts_other</th>\n      <th>P_ratio</th>\n      <th>C_ratio</th>\n      <th>latitude</th>\n      <th>longitude</th>\n      <th>bycatch</th>\n      <th>notes</th>\n      <th>event_id</th>\n    </tr>\n  </thead>\n  <tbody>\n    <tr>\n      <th>0</th>\n      <td>2001-06-12</td>\n      <td>1.0</td>\n      <td>Burdwood</td>\n      <td>NaN</td>\n      <td>NaN</td>\n      <td>NaN</td>\n      <td>18.0</td>\n      <td>18.0</td>\n      <td>0.0</td>\n      <td>0.0</td>\n      <td>NaN</td>\n      <td>NaN</td>\n      <td>NaN</td>\n      <td>NaN</td>\n      <td>NaN</td>\n      <td>NaN</td>\n      <td>NaN</td>\n      <td>NaN</td>\n      <td>scfs_1.0</td>\n    </tr>\n    <tr>\n      <th>1</th>\n      <td>2001-06-13</td>\n      <td>2.0</td>\n      <td>Wicklow</td>\n      <td>NaN</td>\n      <td>NaN</td>\n      <td>NaN</td>\n      <td>10.0</td>\n      <td>10.0</td>\n      <td>0.0</td>\n      <td>0.0</td>\n      <td>NaN</td>\n      <td>NaN</td>\n      <td>NaN</td>\n      <td>NaN</td>\n      <td>NaN</td>\n      <td>NaN</td>\n      <td>NaN</td>\n      <td>NaN</td>\n      <td>scfs_2.0</td>\n    </tr>\n    <tr>\n      <th>2</th>\n      <td>2001-06-16</td>\n      <td>3.0</td>\n      <td>Glacier</td>\n      <td>NaN</td>\n      <td>NaN</td>\n      <td>NaN</td>\n      <td>77.0</td>\n      <td>77.0</td>\n      <td>0.0</td>\n      <td>0.0</td>\n      <td>NaN</td>\n      <td>NaN</td>\n      <td>NaN</td>\n      <td>NaN</td>\n      <td>NaN</td>\n      <td>NaN</td>\n      <td>NaN</td>\n      <td>NaN</td>\n      <td>scfs_3.0</td>\n    </tr>\n    <tr>\n      <th>3</th>\n      <td>2001-06-23</td>\n      <td>4.0</td>\n      <td>Burdwood</td>\n      <td>NaN</td>\n      <td>NaN</td>\n      <td>NaN</td>\n      <td>11.0</td>\n      <td>11.0</td>\n      <td>0.0</td>\n      <td>0.0</td>\n      <td>NaN</td>\n      <td>NaN</td>\n      <td>NaN</td>\n      <td>NaN</td>\n      <td>NaN</td>\n      <td>NaN</td>\n      <td>NaN</td>\n      <td>NaN</td>\n      <td>scfs_4.0</td>\n    </tr>\n    <tr>\n      <th>4</th>\n      <td>2001-06-24</td>\n      <td>5.0</td>\n      <td>Burdwood</td>\n      <td>NaN</td>\n      <td>NaN</td>\n      <td>NaN</td>\n      <td>12.0</td>\n      <td>12.0</td>\n      <td>0.0</td>\n      <td>0.0</td>\n      <td>NaN</td>\n      <td>NaN</td>\n      <td>NaN</td>\n      <td>NaN</td>\n      <td>NaN</td>\n      <td>NaN</td>\n      <td>NaN</td>\n      <td>NaN</td>\n      <td>scfs_5.0</td>\n    </tr>\n  </tbody>\n</table>\n</div>"
     },
     "execution_count": 36,
     "metadata": {},
     "output_type": "execute_result"
    }
   ],
   "source": [
    "# make an event ID that will be unique over all wild data sources - make it a string and prepend 'scfs_'\n",
    "scfs_events_df['event_id'] = scfs_events_df.site_id.apply(lambda sid: 'scfs_' + str(sid))\n",
    "scfs_events_df.head()"
   ],
   "metadata": {
    "collapsed": false,
    "pycharm": {
     "name": "#%%\n"
    }
   }
  },
  {
   "cell_type": "code",
   "execution_count": 37,
   "outputs": [],
   "source": [
    "# add in columns needed for future processing\n",
    "# These didn't make sense in a single region, single source setting\n",
    "scfs_events_df['region'] = 'Broughton Archipelago'\n",
    "scfs_events_df['dfozone'] = '3_3'\n",
    "scfs_events_df['sample_site'] = scfs_events_df['location']\n",
    "scfs_events_df['source'] = 'Salmon Coast Field Station'"
   ],
   "metadata": {
    "collapsed": false,
    "pycharm": {
     "name": "#%%\n"
    }
   }
  },
  {
   "cell_type": "code",
   "execution_count": 38,
   "outputs": [],
   "source": [
    "# some of the longitudes are positive - they should be around -126, others are NaN, some are correct\n",
    "# make sure they're all numbers\n",
    "scfs_events_df['longitude'] = pd.to_numeric(scfs_events_df.longitude, errors='coerce')\n",
    "# fix up the wrong ones\n",
    "scfs_events_df['longitude'] = scfs_events_df.longitude.apply(lambda long: -long if not pd.isnull(long) and long > 0 else long)"
   ],
   "metadata": {
    "collapsed": false,
    "pycharm": {
     "name": "#%%\n"
    }
   }
  },
  {
   "cell_type": "code",
   "execution_count": 39,
   "outputs": [],
   "source": [
    "# limit to the common columns with the main events file\n",
    "scfs_events_df = scfs_events_df.reindex(columns=['event_id', 'sampledate', 'region',\n",
    "                                                 'dfozone', 'sample_site', 'latitude',\n",
    "                                                 'longitude', 'source'])"
   ],
   "metadata": {
    "collapsed": false,
    "pycharm": {
     "name": "#%%\n"
    }
   }
  },
  {
   "cell_type": "code",
   "execution_count": 40,
   "outputs": [
    {
     "data": {
      "text/plain": "   event_id sampledate                 region dfozone sample_site latitude  \\\n0  scfs_1.0 2001-06-12  Broughton Archipelago     3_3    Burdwood      NaN   \n1  scfs_2.0 2001-06-13  Broughton Archipelago     3_3     Wicklow      NaN   \n2  scfs_3.0 2001-06-16  Broughton Archipelago     3_3     Glacier      NaN   \n3  scfs_4.0 2001-06-23  Broughton Archipelago     3_3    Burdwood      NaN   \n4  scfs_5.0 2001-06-24  Broughton Archipelago     3_3    Burdwood      NaN   \n\n   longitude                      source  \n0        NaN  Salmon Coast Field Station  \n1        NaN  Salmon Coast Field Station  \n2        NaN  Salmon Coast Field Station  \n3        NaN  Salmon Coast Field Station  \n4        NaN  Salmon Coast Field Station  ",
      "text/html": "<div>\n<style scoped>\n    .dataframe tbody tr th:only-of-type {\n        vertical-align: middle;\n    }\n\n    .dataframe tbody tr th {\n        vertical-align: top;\n    }\n\n    .dataframe thead th {\n        text-align: right;\n    }\n</style>\n<table border=\"1\" class=\"dataframe\">\n  <thead>\n    <tr style=\"text-align: right;\">\n      <th></th>\n      <th>event_id</th>\n      <th>sampledate</th>\n      <th>region</th>\n      <th>dfozone</th>\n      <th>sample_site</th>\n      <th>latitude</th>\n      <th>longitude</th>\n      <th>source</th>\n    </tr>\n  </thead>\n  <tbody>\n    <tr>\n      <th>0</th>\n      <td>scfs_1.0</td>\n      <td>2001-06-12</td>\n      <td>Broughton Archipelago</td>\n      <td>3_3</td>\n      <td>Burdwood</td>\n      <td>NaN</td>\n      <td>NaN</td>\n      <td>Salmon Coast Field Station</td>\n    </tr>\n    <tr>\n      <th>1</th>\n      <td>scfs_2.0</td>\n      <td>2001-06-13</td>\n      <td>Broughton Archipelago</td>\n      <td>3_3</td>\n      <td>Wicklow</td>\n      <td>NaN</td>\n      <td>NaN</td>\n      <td>Salmon Coast Field Station</td>\n    </tr>\n    <tr>\n      <th>2</th>\n      <td>scfs_3.0</td>\n      <td>2001-06-16</td>\n      <td>Broughton Archipelago</td>\n      <td>3_3</td>\n      <td>Glacier</td>\n      <td>NaN</td>\n      <td>NaN</td>\n      <td>Salmon Coast Field Station</td>\n    </tr>\n    <tr>\n      <th>3</th>\n      <td>scfs_4.0</td>\n      <td>2001-06-23</td>\n      <td>Broughton Archipelago</td>\n      <td>3_3</td>\n      <td>Burdwood</td>\n      <td>NaN</td>\n      <td>NaN</td>\n      <td>Salmon Coast Field Station</td>\n    </tr>\n    <tr>\n      <th>4</th>\n      <td>scfs_5.0</td>\n      <td>2001-06-24</td>\n      <td>Broughton Archipelago</td>\n      <td>3_3</td>\n      <td>Burdwood</td>\n      <td>NaN</td>\n      <td>NaN</td>\n      <td>Salmon Coast Field Station</td>\n    </tr>\n  </tbody>\n</table>\n</div>"
     },
     "execution_count": 40,
     "metadata": {},
     "output_type": "execute_result"
    }
   ],
   "source": [
    "scfs_events_df.head()"
   ],
   "metadata": {
    "collapsed": false,
    "pycharm": {
     "name": "#%%\n"
    }
   }
  },
  {
   "cell_type": "code",
   "execution_count": 41,
   "outputs": [],
   "source": [
    "# write out to a CSV\n",
    "scfs_events_df.to_csv(scfs_formatted_events_filepath, index=False)"
   ],
   "metadata": {
    "collapsed": false,
    "pycharm": {
     "name": "#%%\n"
    }
   }
  },
  {
   "cell_type": "markdown",
   "source": [
    "# Format the fish and lice data file"
   ],
   "metadata": {
    "collapsed": false,
    "pycharm": {
     "name": "#%% md\n"
    }
   }
  },
  {
   "cell_type": "code",
   "execution_count": 42,
   "outputs": [
    {
     "data": {
      "text/plain": "   fish_id  site_id  year  day  month  location  fish_num species  length  \\\n0        1      1.0  2001   12      6  Burdwood       NaN    pink    50.0   \n1        2      1.0  2001   12      6  Burdwood       NaN    pink    50.0   \n2        3      1.0  2001   12      6  Burdwood       NaN    pink    50.0   \n3        4      1.0  2001   12      6  Burdwood       NaN    pink    53.0   \n4        5      1.0  2001   12      6  Burdwood       NaN    pink    54.0   \n\n   height  ...  pred_scar  mot_scar  hem  mateguarding  eroded_gill  \\\n0     NaN  ...        NaN       NaN  NaN           NaN          NaN   \n1     NaN  ...        NaN       NaN  NaN           NaN          NaN   \n2     NaN  ...        NaN       NaN  NaN           NaN          NaN   \n3     NaN  ...        NaN       NaN  NaN           NaN          NaN   \n4     NaN  ...        NaN       NaN  NaN           NaN          NaN   \n\n   white_eye  blue_blotches  pinched_belly  scales  comments  \n0        NaN            NaN            NaN     NaN       NaN  \n1        NaN            NaN            NaN     NaN       NaN  \n2        NaN            NaN            NaN     NaN       NaN  \n3        NaN            NaN            NaN     NaN       NaN  \n4        NaN            NaN            NaN     NaN       NaN  \n\n[5 rows x 36 columns]",
      "text/html": "<div>\n<style scoped>\n    .dataframe tbody tr th:only-of-type {\n        vertical-align: middle;\n    }\n\n    .dataframe tbody tr th {\n        vertical-align: top;\n    }\n\n    .dataframe thead th {\n        text-align: right;\n    }\n</style>\n<table border=\"1\" class=\"dataframe\">\n  <thead>\n    <tr style=\"text-align: right;\">\n      <th></th>\n      <th>fish_id</th>\n      <th>site_id</th>\n      <th>year</th>\n      <th>day</th>\n      <th>month</th>\n      <th>location</th>\n      <th>fish_num</th>\n      <th>species</th>\n      <th>length</th>\n      <th>height</th>\n      <th>...</th>\n      <th>pred_scar</th>\n      <th>mot_scar</th>\n      <th>hem</th>\n      <th>mateguarding</th>\n      <th>eroded_gill</th>\n      <th>white_eye</th>\n      <th>blue_blotches</th>\n      <th>pinched_belly</th>\n      <th>scales</th>\n      <th>comments</th>\n    </tr>\n  </thead>\n  <tbody>\n    <tr>\n      <th>0</th>\n      <td>1</td>\n      <td>1.0</td>\n      <td>2001</td>\n      <td>12</td>\n      <td>6</td>\n      <td>Burdwood</td>\n      <td>NaN</td>\n      <td>pink</td>\n      <td>50.0</td>\n      <td>NaN</td>\n      <td>...</td>\n      <td>NaN</td>\n      <td>NaN</td>\n      <td>NaN</td>\n      <td>NaN</td>\n      <td>NaN</td>\n      <td>NaN</td>\n      <td>NaN</td>\n      <td>NaN</td>\n      <td>NaN</td>\n      <td>NaN</td>\n    </tr>\n    <tr>\n      <th>1</th>\n      <td>2</td>\n      <td>1.0</td>\n      <td>2001</td>\n      <td>12</td>\n      <td>6</td>\n      <td>Burdwood</td>\n      <td>NaN</td>\n      <td>pink</td>\n      <td>50.0</td>\n      <td>NaN</td>\n      <td>...</td>\n      <td>NaN</td>\n      <td>NaN</td>\n      <td>NaN</td>\n      <td>NaN</td>\n      <td>NaN</td>\n      <td>NaN</td>\n      <td>NaN</td>\n      <td>NaN</td>\n      <td>NaN</td>\n      <td>NaN</td>\n    </tr>\n    <tr>\n      <th>2</th>\n      <td>3</td>\n      <td>1.0</td>\n      <td>2001</td>\n      <td>12</td>\n      <td>6</td>\n      <td>Burdwood</td>\n      <td>NaN</td>\n      <td>pink</td>\n      <td>50.0</td>\n      <td>NaN</td>\n      <td>...</td>\n      <td>NaN</td>\n      <td>NaN</td>\n      <td>NaN</td>\n      <td>NaN</td>\n      <td>NaN</td>\n      <td>NaN</td>\n      <td>NaN</td>\n      <td>NaN</td>\n      <td>NaN</td>\n      <td>NaN</td>\n    </tr>\n    <tr>\n      <th>3</th>\n      <td>4</td>\n      <td>1.0</td>\n      <td>2001</td>\n      <td>12</td>\n      <td>6</td>\n      <td>Burdwood</td>\n      <td>NaN</td>\n      <td>pink</td>\n      <td>53.0</td>\n      <td>NaN</td>\n      <td>...</td>\n      <td>NaN</td>\n      <td>NaN</td>\n      <td>NaN</td>\n      <td>NaN</td>\n      <td>NaN</td>\n      <td>NaN</td>\n      <td>NaN</td>\n      <td>NaN</td>\n      <td>NaN</td>\n      <td>NaN</td>\n    </tr>\n    <tr>\n      <th>4</th>\n      <td>5</td>\n      <td>1.0</td>\n      <td>2001</td>\n      <td>12</td>\n      <td>6</td>\n      <td>Burdwood</td>\n      <td>NaN</td>\n      <td>pink</td>\n      <td>54.0</td>\n      <td>NaN</td>\n      <td>...</td>\n      <td>NaN</td>\n      <td>NaN</td>\n      <td>NaN</td>\n      <td>NaN</td>\n      <td>NaN</td>\n      <td>NaN</td>\n      <td>NaN</td>\n      <td>NaN</td>\n      <td>NaN</td>\n      <td>NaN</td>\n    </tr>\n  </tbody>\n</table>\n<p>5 rows × 36 columns</p>\n</div>"
     },
     "execution_count": 42,
     "metadata": {},
     "output_type": "execute_result"
    }
   ],
   "source": [
    "# load the fish and lice data files\n",
    "scfs_fish_df = pd.read_csv(scfs_fish_lice_filepath, encoding='latin-1')\n",
    "scfs_fish_df.head()"
   ],
   "metadata": {
    "collapsed": false,
    "pycharm": {
     "name": "#%%\n"
    }
   }
  },
  {
   "cell_type": "code",
   "execution_count": 43,
   "outputs": [],
   "source": [
    "# rename SRS columns that have equivalent data\n",
    "scfs_fish_df.rename(columns={'species': 'fish_species',\n",
    "                            'Lep_cope': 'lep_cop',\n",
    "                            'Caligus_cope': 'cal_cop',\n",
    "                            'unid_cope': 'unknown_cop'},\n",
    "                  inplace=True)"
   ],
   "metadata": {
    "collapsed": false,
    "pycharm": {
     "name": "#%%\n"
    }
   }
  },
  {
   "cell_type": "markdown",
   "source": [
    "### Convert event_id and fish_id"
   ],
   "metadata": {
    "collapsed": false,
    "pycharm": {
     "name": "#%% md\n"
    }
   }
  },
  {
   "cell_type": "code",
   "execution_count": 44,
   "outputs": [],
   "source": [
    "# make the event_id column in fish_lice matche the event_id in the events\n",
    "scfs_fish_df['event_id'] = scfs_fish_df.site_id.apply(lambda sid: 'scfs_' + str(sid))"
   ],
   "metadata": {
    "collapsed": false,
    "pycharm": {
     "name": "#%%\n"
    }
   }
  },
  {
   "cell_type": "code",
   "execution_count": 45,
   "outputs": [],
   "source": [
    "# make sure SRS fish get globally unique IDs - use the same prefix method as event IDs\n",
    "scfs_fish_df['fish_id'] = scfs_fish_df.fish_id.apply(lambda fid: 'scfs_' + str(fid))\n",
    "# max_fish_id = max(fish_df.fish_id)\n",
    "# srs_fish_df.fish_id = srs_fish_df.fish_id + max_fish_id"
   ],
   "metadata": {
    "collapsed": false,
    "pycharm": {
     "name": "#%%\n"
    }
   }
  },
  {
   "cell_type": "code",
   "execution_count": 46,
   "outputs": [
    {
     "data": {
      "text/plain": "  fish_id  site_id  year  day  month  location  fish_num fish_species  length  \\\n0  scfs_1      1.0  2001   12      6  Burdwood       NaN         pink    50.0   \n1  scfs_2      1.0  2001   12      6  Burdwood       NaN         pink    50.0   \n2  scfs_3      1.0  2001   12      6  Burdwood       NaN         pink    50.0   \n3  scfs_4      1.0  2001   12      6  Burdwood       NaN         pink    53.0   \n4  scfs_5      1.0  2001   12      6  Burdwood       NaN         pink    54.0   \n\n   height  ...  mot_scar  hem  mateguarding  eroded_gill  white_eye  \\\n0     NaN  ...       NaN  NaN           NaN          NaN        NaN   \n1     NaN  ...       NaN  NaN           NaN          NaN        NaN   \n2     NaN  ...       NaN  NaN           NaN          NaN        NaN   \n3     NaN  ...       NaN  NaN           NaN          NaN        NaN   \n4     NaN  ...       NaN  NaN           NaN          NaN        NaN   \n\n   blue_blotches  pinched_belly  scales  comments  event_id  \n0            NaN            NaN     NaN       NaN  scfs_1.0  \n1            NaN            NaN     NaN       NaN  scfs_1.0  \n2            NaN            NaN     NaN       NaN  scfs_1.0  \n3            NaN            NaN     NaN       NaN  scfs_1.0  \n4            NaN            NaN     NaN       NaN  scfs_1.0  \n\n[5 rows x 37 columns]",
      "text/html": "<div>\n<style scoped>\n    .dataframe tbody tr th:only-of-type {\n        vertical-align: middle;\n    }\n\n    .dataframe tbody tr th {\n        vertical-align: top;\n    }\n\n    .dataframe thead th {\n        text-align: right;\n    }\n</style>\n<table border=\"1\" class=\"dataframe\">\n  <thead>\n    <tr style=\"text-align: right;\">\n      <th></th>\n      <th>fish_id</th>\n      <th>site_id</th>\n      <th>year</th>\n      <th>day</th>\n      <th>month</th>\n      <th>location</th>\n      <th>fish_num</th>\n      <th>fish_species</th>\n      <th>length</th>\n      <th>height</th>\n      <th>...</th>\n      <th>mot_scar</th>\n      <th>hem</th>\n      <th>mateguarding</th>\n      <th>eroded_gill</th>\n      <th>white_eye</th>\n      <th>blue_blotches</th>\n      <th>pinched_belly</th>\n      <th>scales</th>\n      <th>comments</th>\n      <th>event_id</th>\n    </tr>\n  </thead>\n  <tbody>\n    <tr>\n      <th>0</th>\n      <td>scfs_1</td>\n      <td>1.0</td>\n      <td>2001</td>\n      <td>12</td>\n      <td>6</td>\n      <td>Burdwood</td>\n      <td>NaN</td>\n      <td>pink</td>\n      <td>50.0</td>\n      <td>NaN</td>\n      <td>...</td>\n      <td>NaN</td>\n      <td>NaN</td>\n      <td>NaN</td>\n      <td>NaN</td>\n      <td>NaN</td>\n      <td>NaN</td>\n      <td>NaN</td>\n      <td>NaN</td>\n      <td>NaN</td>\n      <td>scfs_1.0</td>\n    </tr>\n    <tr>\n      <th>1</th>\n      <td>scfs_2</td>\n      <td>1.0</td>\n      <td>2001</td>\n      <td>12</td>\n      <td>6</td>\n      <td>Burdwood</td>\n      <td>NaN</td>\n      <td>pink</td>\n      <td>50.0</td>\n      <td>NaN</td>\n      <td>...</td>\n      <td>NaN</td>\n      <td>NaN</td>\n      <td>NaN</td>\n      <td>NaN</td>\n      <td>NaN</td>\n      <td>NaN</td>\n      <td>NaN</td>\n      <td>NaN</td>\n      <td>NaN</td>\n      <td>scfs_1.0</td>\n    </tr>\n    <tr>\n      <th>2</th>\n      <td>scfs_3</td>\n      <td>1.0</td>\n      <td>2001</td>\n      <td>12</td>\n      <td>6</td>\n      <td>Burdwood</td>\n      <td>NaN</td>\n      <td>pink</td>\n      <td>50.0</td>\n      <td>NaN</td>\n      <td>...</td>\n      <td>NaN</td>\n      <td>NaN</td>\n      <td>NaN</td>\n      <td>NaN</td>\n      <td>NaN</td>\n      <td>NaN</td>\n      <td>NaN</td>\n      <td>NaN</td>\n      <td>NaN</td>\n      <td>scfs_1.0</td>\n    </tr>\n    <tr>\n      <th>3</th>\n      <td>scfs_4</td>\n      <td>1.0</td>\n      <td>2001</td>\n      <td>12</td>\n      <td>6</td>\n      <td>Burdwood</td>\n      <td>NaN</td>\n      <td>pink</td>\n      <td>53.0</td>\n      <td>NaN</td>\n      <td>...</td>\n      <td>NaN</td>\n      <td>NaN</td>\n      <td>NaN</td>\n      <td>NaN</td>\n      <td>NaN</td>\n      <td>NaN</td>\n      <td>NaN</td>\n      <td>NaN</td>\n      <td>NaN</td>\n      <td>scfs_1.0</td>\n    </tr>\n    <tr>\n      <th>4</th>\n      <td>scfs_5</td>\n      <td>1.0</td>\n      <td>2001</td>\n      <td>12</td>\n      <td>6</td>\n      <td>Burdwood</td>\n      <td>NaN</td>\n      <td>pink</td>\n      <td>54.0</td>\n      <td>NaN</td>\n      <td>...</td>\n      <td>NaN</td>\n      <td>NaN</td>\n      <td>NaN</td>\n      <td>NaN</td>\n      <td>NaN</td>\n      <td>NaN</td>\n      <td>NaN</td>\n      <td>NaN</td>\n      <td>NaN</td>\n      <td>scfs_1.0</td>\n    </tr>\n  </tbody>\n</table>\n<p>5 rows × 37 columns</p>\n</div>"
     },
     "execution_count": 46,
     "metadata": {},
     "output_type": "execute_result"
    }
   ],
   "source": [
    "scfs_fish_df.head()"
   ],
   "metadata": {
    "collapsed": false,
    "pycharm": {
     "name": "#%%\n"
    }
   }
  },
  {
   "cell_type": "markdown",
   "source": [
    "## Convert Salmon Coast fish species to match the names we use\n",
    "Our names: ['Chum Salmon', 'Pink Salmon', 'Coho Salmon',\n",
    "       'Three-Spined Stickleback', 'Chinook Salmon', 'Other Species',\n",
    "       'Pacific Herring', 'Sockeye Salmon']"
   ],
   "metadata": {
    "collapsed": false,
    "pycharm": {
     "name": "#%% md\n"
    }
   }
  },
  {
   "cell_type": "code",
   "execution_count": 47,
   "outputs": [
    {
     "data": {
      "text/plain": "array(['pink', 'chum', 'sockeye'], dtype=object)"
     },
     "execution_count": 47,
     "metadata": {},
     "output_type": "execute_result"
    }
   ],
   "source": [
    "# check the fish species in the SRS dataset\n",
    "scfs_fish_df.fish_species.unique()"
   ],
   "metadata": {
    "collapsed": false,
    "pycharm": {
     "name": "#%%\n"
    }
   }
  },
  {
   "cell_type": "code",
   "execution_count": 48,
   "outputs": [],
   "source": [
    "# replace salmon species names as the string literals differ\n",
    "scfs_fish_df.replace({'fish_species': {'chum': 'Chum Salmon',\n",
    "                                       'pink': 'Pink Salmon',\n",
    "                                       'sockeye': 'Sockeye Salmon'}},\n",
    "                     inplace=True)"
   ],
   "metadata": {
    "collapsed": false,
    "pycharm": {
     "name": "#%%\n"
    }
   }
  },
  {
   "cell_type": "markdown",
   "source": [
    "## Convert SRS lice counts"
   ],
   "metadata": {
    "collapsed": false,
    "pycharm": {
     "name": "#%% md\n"
    }
   }
  },
  {
   "cell_type": "code",
   "execution_count": 49,
   "outputs": [],
   "source": [
    "# convert all the NaN in lice counts to 0\n",
    "# first, make sure our expression checking for NaN works\n",
    "assert scfs_fish_df.loc[:, 'lep_cop':'unid_adult'].isnull().values.any()"
   ],
   "metadata": {
    "collapsed": false,
    "pycharm": {
     "name": "#%%\n"
    }
   }
  },
  {
   "cell_type": "code",
   "execution_count": 50,
   "outputs": [],
   "source": [
    "# convert all the NaN lice counts to 0\n",
    "col_names = scfs_fish_df.loc[:, 'lep_cop':'unid_adult'].columns\n",
    "fill_dict = {col: 0 for col in col_names}\n",
    "scfs_fish_df.fillna(value=fill_dict, inplace=True)\n",
    "\n",
    "# confirm that they are all converted\n",
    "assert not scfs_fish_df.loc[:, 'lep_cop':'unid_adult'].isnull().values.any()"
   ],
   "metadata": {
    "collapsed": false,
    "pycharm": {
     "name": "#%%\n"
    }
   }
  },
  {
   "cell_type": "code",
   "execution_count": 51,
   "outputs": [],
   "source": [
    "# generate lice count fields to match our data from the SRS lice counts\n",
    "scfs_fish_df['unknown_chal'] = scfs_fish_df['chalA'] + \\\n",
    "                               scfs_fish_df['chalB'] + \\\n",
    "                               scfs_fish_df['chal_unid']\n",
    "\n",
    "scfs_fish_df['lep_motile'] = scfs_fish_df['Lep_PAmale'] + \\\n",
    "                            scfs_fish_df['Lep_PAfemale'] + \\\n",
    "                            scfs_fish_df['Lep_male'] + \\\n",
    "                            scfs_fish_df['Lep_nongravid'] + \\\n",
    "                            scfs_fish_df['Lep_gravid']\n",
    "\n",
    "scfs_fish_df['cal_motile'] = scfs_fish_df['Caligus_mot'] + scfs_fish_df['Caligus_gravid']\n",
    "\n",
    "scfs_fish_df['unknown_motile'] = scfs_fish_df['unid_PA'] + scfs_fish_df['unid_adult']"
   ],
   "metadata": {
    "collapsed": false,
    "pycharm": {
     "name": "#%%\n"
    }
   }
  },
  {
   "cell_type": "code",
   "execution_count": 52,
   "outputs": [
    {
     "data": {
      "text/plain": "   event_id fish_id  length  weight  height fish_species  lep_cop  lep_chal  \\\n0  scfs_1.0  scfs_1    50.0     NaN     NaN  Pink Salmon      0.0       NaN   \n1  scfs_1.0  scfs_2    50.0     NaN     NaN  Pink Salmon      0.0       NaN   \n2  scfs_1.0  scfs_3    50.0     NaN     NaN  Pink Salmon      0.0       NaN   \n3  scfs_1.0  scfs_4    53.0     NaN     NaN  Pink Salmon      0.0       NaN   \n4  scfs_1.0  scfs_5    54.0     NaN     NaN  Pink Salmon      0.0       NaN   \n\n   lep_motile  lep_unknown  cal_cop  cal_chal  cal_motile  cal_unknown  \\\n0         0.0          NaN      0.0       NaN         0.0          NaN   \n1         0.0          NaN      0.0       NaN         0.0          NaN   \n2         0.0          NaN      0.0       NaN         0.0          NaN   \n3         0.0          NaN      0.0       NaN         0.0          NaN   \n4         0.0          NaN      0.0       NaN         0.0          NaN   \n\n   unknown_cop  unknown_chal  unknown_motile  unknown_unknown  \n0          0.0           2.0             0.0              NaN  \n1          0.0           0.0             3.0              NaN  \n2          0.0           4.0             0.0              NaN  \n3          0.0           1.0             1.0              NaN  \n4          0.0           5.0             1.0              NaN  ",
      "text/html": "<div>\n<style scoped>\n    .dataframe tbody tr th:only-of-type {\n        vertical-align: middle;\n    }\n\n    .dataframe tbody tr th {\n        vertical-align: top;\n    }\n\n    .dataframe thead th {\n        text-align: right;\n    }\n</style>\n<table border=\"1\" class=\"dataframe\">\n  <thead>\n    <tr style=\"text-align: right;\">\n      <th></th>\n      <th>event_id</th>\n      <th>fish_id</th>\n      <th>length</th>\n      <th>weight</th>\n      <th>height</th>\n      <th>fish_species</th>\n      <th>lep_cop</th>\n      <th>lep_chal</th>\n      <th>lep_motile</th>\n      <th>lep_unknown</th>\n      <th>cal_cop</th>\n      <th>cal_chal</th>\n      <th>cal_motile</th>\n      <th>cal_unknown</th>\n      <th>unknown_cop</th>\n      <th>unknown_chal</th>\n      <th>unknown_motile</th>\n      <th>unknown_unknown</th>\n    </tr>\n  </thead>\n  <tbody>\n    <tr>\n      <th>0</th>\n      <td>scfs_1.0</td>\n      <td>scfs_1</td>\n      <td>50.0</td>\n      <td>NaN</td>\n      <td>NaN</td>\n      <td>Pink Salmon</td>\n      <td>0.0</td>\n      <td>NaN</td>\n      <td>0.0</td>\n      <td>NaN</td>\n      <td>0.0</td>\n      <td>NaN</td>\n      <td>0.0</td>\n      <td>NaN</td>\n      <td>0.0</td>\n      <td>2.0</td>\n      <td>0.0</td>\n      <td>NaN</td>\n    </tr>\n    <tr>\n      <th>1</th>\n      <td>scfs_1.0</td>\n      <td>scfs_2</td>\n      <td>50.0</td>\n      <td>NaN</td>\n      <td>NaN</td>\n      <td>Pink Salmon</td>\n      <td>0.0</td>\n      <td>NaN</td>\n      <td>0.0</td>\n      <td>NaN</td>\n      <td>0.0</td>\n      <td>NaN</td>\n      <td>0.0</td>\n      <td>NaN</td>\n      <td>0.0</td>\n      <td>0.0</td>\n      <td>3.0</td>\n      <td>NaN</td>\n    </tr>\n    <tr>\n      <th>2</th>\n      <td>scfs_1.0</td>\n      <td>scfs_3</td>\n      <td>50.0</td>\n      <td>NaN</td>\n      <td>NaN</td>\n      <td>Pink Salmon</td>\n      <td>0.0</td>\n      <td>NaN</td>\n      <td>0.0</td>\n      <td>NaN</td>\n      <td>0.0</td>\n      <td>NaN</td>\n      <td>0.0</td>\n      <td>NaN</td>\n      <td>0.0</td>\n      <td>4.0</td>\n      <td>0.0</td>\n      <td>NaN</td>\n    </tr>\n    <tr>\n      <th>3</th>\n      <td>scfs_1.0</td>\n      <td>scfs_4</td>\n      <td>53.0</td>\n      <td>NaN</td>\n      <td>NaN</td>\n      <td>Pink Salmon</td>\n      <td>0.0</td>\n      <td>NaN</td>\n      <td>0.0</td>\n      <td>NaN</td>\n      <td>0.0</td>\n      <td>NaN</td>\n      <td>0.0</td>\n      <td>NaN</td>\n      <td>0.0</td>\n      <td>1.0</td>\n      <td>1.0</td>\n      <td>NaN</td>\n    </tr>\n    <tr>\n      <th>4</th>\n      <td>scfs_1.0</td>\n      <td>scfs_5</td>\n      <td>54.0</td>\n      <td>NaN</td>\n      <td>NaN</td>\n      <td>Pink Salmon</td>\n      <td>0.0</td>\n      <td>NaN</td>\n      <td>0.0</td>\n      <td>NaN</td>\n      <td>0.0</td>\n      <td>NaN</td>\n      <td>0.0</td>\n      <td>NaN</td>\n      <td>0.0</td>\n      <td>5.0</td>\n      <td>1.0</td>\n      <td>NaN</td>\n    </tr>\n  </tbody>\n</table>\n</div>"
     },
     "execution_count": 52,
     "metadata": {},
     "output_type": "execute_result"
    }
   ],
   "source": [
    "# remove all the redundant working columns\n",
    "# easiest (not most efficient) way is to load our data file and use that list of columns\n",
    "our_fish_data_df = pd.read_csv(wild_data_dir / \"wild_fish_lice.csv\")\n",
    "scfs_fish_df = scfs_fish_df.reindex(columns=our_fish_data_df.columns)\n",
    "scfs_fish_df.head()"
   ],
   "metadata": {
    "collapsed": false,
    "pycharm": {
     "name": "#%%\n"
    }
   }
  },
  {
   "cell_type": "code",
   "execution_count": 53,
   "outputs": [],
   "source": [
    "# There are some new lice count columns - so again make sure all lice count columns NaN means 0\n",
    "col_names = scfs_fish_df.loc[:, 'lep_cop':'unknown_unknown'].columns\n",
    "fill_dict = {col: 0 for col in col_names}\n",
    "scfs_fish_df.fillna(value=fill_dict, inplace=True)\n",
    "\n",
    "# check if there are any NaN in the lice counts\n",
    "assert not scfs_fish_df.loc[:, 'lep_cop':'unknown_unknown'].isnull().values.any()"
   ],
   "metadata": {
    "collapsed": false,
    "pycharm": {
     "name": "#%%\n"
    }
   }
  },
  {
   "cell_type": "code",
   "execution_count": 54,
   "outputs": [],
   "source": [
    "\n",
    "scfs_fish_df.head().to_csv(scfs_formatted_lice_filepath, index=False)"
   ],
   "metadata": {
    "collapsed": false,
    "pycharm": {
     "name": "#%%\n"
    }
   }
  },
  {
   "cell_type": "code",
   "execution_count": 54,
   "outputs": [],
   "source": [],
   "metadata": {
    "collapsed": false,
    "pycharm": {
     "name": "#%%\n"
    }
   }
  }
 ],
 "metadata": {
  "kernelspec": {
   "display_name": "Python 3",
   "language": "python",
   "name": "python3"
  },
  "language_info": {
   "codemirror_mode": {
    "name": "ipython",
    "version": 2
   },
   "file_extension": ".py",
   "mimetype": "text/x-python",
   "name": "python",
   "nbconvert_exporter": "python",
   "pygments_lexer": "ipython2",
   "version": "2.7.6"
  }
 },
 "nbformat": 4,
 "nbformat_minor": 0
}