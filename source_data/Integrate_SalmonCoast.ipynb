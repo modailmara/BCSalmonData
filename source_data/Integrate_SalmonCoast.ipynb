{
 "cells": [
  {
   "cell_type": "markdown",
   "source": [
    "## This Notebook integrates the Salmon Coast Research Station wild sampling data into our wild sampling data."
   ],
   "metadata": {
    "collapsed": false,
    "pycharm": {
     "name": "#%% md\n"
    }
   }
  },
  {
   "cell_type": "code",
   "execution_count": 93,
   "outputs": [],
   "source": [
    "import pandas as pd\n",
    "from pathlib import Path"
   ],
   "metadata": {
    "collapsed": false,
    "pycharm": {
     "name": "#%%\n"
    }
   }
  },
  {
   "cell_type": "markdown",
   "source": [
    "### Configuration variables for this notebook"
   ],
   "metadata": {
    "collapsed": false,
    "pycharm": {
     "name": "#%% md\n"
    }
   }
  },
  {
   "cell_type": "code",
   "execution_count": 94,
   "outputs": [],
   "source": [
    "# paths to files for our data\n",
    "wild_data_dir = Path('.')\n",
    "events_filepath = wild_data_dir / 'wild_sample_events.csv'\n",
    "fish_lice_filepath = wild_data_dir / 'wild_fish_lice.csv'\n",
    "\n",
    "# paths to the SRS data files\n",
    "srs_wild_data_dir = Path('SalmonCoast') / 'Data'\n",
    "srs_events_filepath = srs_wild_data_dir / 'BroughtonSeaLice_siteData.csv'\n",
    "srs_fish_lice_filepath = srs_wild_data_dir / 'BroughtonSeaLice_fishData.csv'\n",
    "\n",
    "# output paths for writing the combined data\n",
    "all_events_filepath = wild_data_dir / 'all_wild_sample_events.csv'\n",
    "all_fish_lice_filepath = wild_data_dir / 'all_wild_fish_lice.csv'"
   ],
   "metadata": {
    "collapsed": false,
    "pycharm": {
     "name": "#%%\n"
    }
   }
  },
  {
   "cell_type": "markdown",
   "source": [
    "# Combine the event files"
   ],
   "metadata": {
    "collapsed": false,
    "pycharm": {
     "name": "#%% md\n"
    }
   }
  },
  {
   "cell_type": "code",
   "execution_count": 95,
   "outputs": [],
   "source": [
    "# load the events data files\n",
    "events_df = pd.read_csv(events_filepath, parse_dates=['sampledate'])\n",
    "srs_events_df = pd.read_csv(srs_events_filepath)"
   ],
   "metadata": {
    "collapsed": false,
    "pycharm": {
     "name": "#%%\n"
    }
   }
  },
  {
   "cell_type": "code",
   "execution_count": 96,
   "outputs": [
    {
     "data": {
      "text/plain": "   event_id sampledate                 region dfozone   sample_site  latitude  \\\n0         1 2003-05-13  Broughton Archipelago     3_3  Adeane Point  50.71978   \n1         2 2003-05-21  Broughton Archipelago     3_3  Adeane Point  50.71978   \n2         3 2003-05-26  Broughton Archipelago     3_3  Adeane Point  50.71970   \n3         4 2003-06-02  Broughton Archipelago     3_3  Adeane Point  50.71970   \n4         5 2003-05-13  Broughton Archipelago     3_3  Adeane Point  50.73840   \n\n   longitude                       source  \n0 -125.67950  Fisheries and Oceans Canada  \n1 -125.67950  Fisheries and Oceans Canada  \n2 -125.67950  Fisheries and Oceans Canada  \n3 -125.67950  Fisheries and Oceans Canada  \n4 -125.67985  Fisheries and Oceans Canada  ",
      "text/html": "<div>\n<style scoped>\n    .dataframe tbody tr th:only-of-type {\n        vertical-align: middle;\n    }\n\n    .dataframe tbody tr th {\n        vertical-align: top;\n    }\n\n    .dataframe thead th {\n        text-align: right;\n    }\n</style>\n<table border=\"1\" class=\"dataframe\">\n  <thead>\n    <tr style=\"text-align: right;\">\n      <th></th>\n      <th>event_id</th>\n      <th>sampledate</th>\n      <th>region</th>\n      <th>dfozone</th>\n      <th>sample_site</th>\n      <th>latitude</th>\n      <th>longitude</th>\n      <th>source</th>\n    </tr>\n  </thead>\n  <tbody>\n    <tr>\n      <th>0</th>\n      <td>1</td>\n      <td>2003-05-13</td>\n      <td>Broughton Archipelago</td>\n      <td>3_3</td>\n      <td>Adeane Point</td>\n      <td>50.71978</td>\n      <td>-125.67950</td>\n      <td>Fisheries and Oceans Canada</td>\n    </tr>\n    <tr>\n      <th>1</th>\n      <td>2</td>\n      <td>2003-05-21</td>\n      <td>Broughton Archipelago</td>\n      <td>3_3</td>\n      <td>Adeane Point</td>\n      <td>50.71978</td>\n      <td>-125.67950</td>\n      <td>Fisheries and Oceans Canada</td>\n    </tr>\n    <tr>\n      <th>2</th>\n      <td>3</td>\n      <td>2003-05-26</td>\n      <td>Broughton Archipelago</td>\n      <td>3_3</td>\n      <td>Adeane Point</td>\n      <td>50.71970</td>\n      <td>-125.67950</td>\n      <td>Fisheries and Oceans Canada</td>\n    </tr>\n    <tr>\n      <th>3</th>\n      <td>4</td>\n      <td>2003-06-02</td>\n      <td>Broughton Archipelago</td>\n      <td>3_3</td>\n      <td>Adeane Point</td>\n      <td>50.71970</td>\n      <td>-125.67950</td>\n      <td>Fisheries and Oceans Canada</td>\n    </tr>\n    <tr>\n      <th>4</th>\n      <td>5</td>\n      <td>2003-05-13</td>\n      <td>Broughton Archipelago</td>\n      <td>3_3</td>\n      <td>Adeane Point</td>\n      <td>50.73840</td>\n      <td>-125.67985</td>\n      <td>Fisheries and Oceans Canada</td>\n    </tr>\n  </tbody>\n</table>\n</div>"
     },
     "execution_count": 96,
     "metadata": {},
     "output_type": "execute_result"
    }
   ],
   "source": [
    "events_df.head()"
   ],
   "metadata": {
    "collapsed": false,
    "pycharm": {
     "name": "#%%\n"
    }
   }
  },
  {
   "cell_type": "code",
   "execution_count": 97,
   "outputs": [
    {
     "data": {
      "text/plain": "   site_id  year  month  day  location  salt  temp  salmon_captured  \\\n0      1.0  2001      6   12  Burdwood   NaN   NaN              NaN   \n1      2.0  2001      6   13   Wicklow   NaN   NaN              NaN   \n2      3.0  2001      6   16   Glacier   NaN   NaN              NaN   \n3      4.0  2001      6   23  Burdwood   NaN   NaN              NaN   \n4      5.0  2001      6   24  Burdwood   NaN   NaN              NaN   \n\n   salmon_examined  pink_examined  chum_examined  sockeye_examined  \\\n0             18.0           18.0            0.0               0.0   \n1             10.0           10.0            0.0               0.0   \n2             77.0           77.0            0.0               0.0   \n3             11.0           11.0            0.0               0.0   \n4             12.0           12.0            0.0               0.0   \n\n   morts_recovery  morts_other  P_ratio  C_ratio latitude longitude bycatch  \\\n0             NaN          NaN      NaN      NaN      NaN       NaN     NaN   \n1             NaN          NaN      NaN      NaN      NaN       NaN     NaN   \n2             NaN          NaN      NaN      NaN      NaN       NaN     NaN   \n3             NaN          NaN      NaN      NaN      NaN       NaN     NaN   \n4             NaN          NaN      NaN      NaN      NaN       NaN     NaN   \n\n  notes  \n0   NaN  \n1   NaN  \n2   NaN  \n3   NaN  \n4   NaN  ",
      "text/html": "<div>\n<style scoped>\n    .dataframe tbody tr th:only-of-type {\n        vertical-align: middle;\n    }\n\n    .dataframe tbody tr th {\n        vertical-align: top;\n    }\n\n    .dataframe thead th {\n        text-align: right;\n    }\n</style>\n<table border=\"1\" class=\"dataframe\">\n  <thead>\n    <tr style=\"text-align: right;\">\n      <th></th>\n      <th>site_id</th>\n      <th>year</th>\n      <th>month</th>\n      <th>day</th>\n      <th>location</th>\n      <th>salt</th>\n      <th>temp</th>\n      <th>salmon_captured</th>\n      <th>salmon_examined</th>\n      <th>pink_examined</th>\n      <th>chum_examined</th>\n      <th>sockeye_examined</th>\n      <th>morts_recovery</th>\n      <th>morts_other</th>\n      <th>P_ratio</th>\n      <th>C_ratio</th>\n      <th>latitude</th>\n      <th>longitude</th>\n      <th>bycatch</th>\n      <th>notes</th>\n    </tr>\n  </thead>\n  <tbody>\n    <tr>\n      <th>0</th>\n      <td>1.0</td>\n      <td>2001</td>\n      <td>6</td>\n      <td>12</td>\n      <td>Burdwood</td>\n      <td>NaN</td>\n      <td>NaN</td>\n      <td>NaN</td>\n      <td>18.0</td>\n      <td>18.0</td>\n      <td>0.0</td>\n      <td>0.0</td>\n      <td>NaN</td>\n      <td>NaN</td>\n      <td>NaN</td>\n      <td>NaN</td>\n      <td>NaN</td>\n      <td>NaN</td>\n      <td>NaN</td>\n      <td>NaN</td>\n    </tr>\n    <tr>\n      <th>1</th>\n      <td>2.0</td>\n      <td>2001</td>\n      <td>6</td>\n      <td>13</td>\n      <td>Wicklow</td>\n      <td>NaN</td>\n      <td>NaN</td>\n      <td>NaN</td>\n      <td>10.0</td>\n      <td>10.0</td>\n      <td>0.0</td>\n      <td>0.0</td>\n      <td>NaN</td>\n      <td>NaN</td>\n      <td>NaN</td>\n      <td>NaN</td>\n      <td>NaN</td>\n      <td>NaN</td>\n      <td>NaN</td>\n      <td>NaN</td>\n    </tr>\n    <tr>\n      <th>2</th>\n      <td>3.0</td>\n      <td>2001</td>\n      <td>6</td>\n      <td>16</td>\n      <td>Glacier</td>\n      <td>NaN</td>\n      <td>NaN</td>\n      <td>NaN</td>\n      <td>77.0</td>\n      <td>77.0</td>\n      <td>0.0</td>\n      <td>0.0</td>\n      <td>NaN</td>\n      <td>NaN</td>\n      <td>NaN</td>\n      <td>NaN</td>\n      <td>NaN</td>\n      <td>NaN</td>\n      <td>NaN</td>\n      <td>NaN</td>\n    </tr>\n    <tr>\n      <th>3</th>\n      <td>4.0</td>\n      <td>2001</td>\n      <td>6</td>\n      <td>23</td>\n      <td>Burdwood</td>\n      <td>NaN</td>\n      <td>NaN</td>\n      <td>NaN</td>\n      <td>11.0</td>\n      <td>11.0</td>\n      <td>0.0</td>\n      <td>0.0</td>\n      <td>NaN</td>\n      <td>NaN</td>\n      <td>NaN</td>\n      <td>NaN</td>\n      <td>NaN</td>\n      <td>NaN</td>\n      <td>NaN</td>\n      <td>NaN</td>\n    </tr>\n    <tr>\n      <th>4</th>\n      <td>5.0</td>\n      <td>2001</td>\n      <td>6</td>\n      <td>24</td>\n      <td>Burdwood</td>\n      <td>NaN</td>\n      <td>NaN</td>\n      <td>NaN</td>\n      <td>12.0</td>\n      <td>12.0</td>\n      <td>0.0</td>\n      <td>0.0</td>\n      <td>NaN</td>\n      <td>NaN</td>\n      <td>NaN</td>\n      <td>NaN</td>\n      <td>NaN</td>\n      <td>NaN</td>\n      <td>NaN</td>\n      <td>NaN</td>\n    </tr>\n  </tbody>\n</table>\n</div>"
     },
     "execution_count": 97,
     "metadata": {},
     "output_type": "execute_result"
    }
   ],
   "source": [
    "srs_events_df.head()"
   ],
   "metadata": {
    "collapsed": false,
    "pycharm": {
     "name": "#%%\n"
    }
   }
  },
  {
   "cell_type": "code",
   "execution_count": 98,
   "outputs": [],
   "source": [
    "# shift the SRS site_id to maintain uniqueness when we put the DFs together (add a bit extra so it's easy to tell the different sources)\n",
    "max_old_event_id = max(events_df.event_id) + 50000\n",
    "\n",
    "# put the new event IDs in a new column\n",
    "srs_events_df['event_id'] = srs_events_df['site_id'] + max_old_event_id"
   ],
   "metadata": {
    "collapsed": false,
    "pycharm": {
     "name": "#%%\n"
    }
   }
  },
  {
   "cell_type": "code",
   "execution_count": 99,
   "outputs": [
    {
     "data": {
      "text/plain": "65092"
     },
     "execution_count": 99,
     "metadata": {},
     "output_type": "execute_result"
    }
   ],
   "source": [
    "max_old_event_id"
   ],
   "metadata": {
    "collapsed": false,
    "pycharm": {
     "name": "#%%\n"
    }
   }
  },
  {
   "cell_type": "code",
   "execution_count": 100,
   "outputs": [],
   "source": [
    "# add in columns needed for future processing\n",
    "# These didn't make sense in a single region, single source setting\n",
    "srs_events_df['region'] = 'Broughton Archipelago'\n",
    "srs_events_df['dfozone'] = '3_3'\n",
    "srs_events_df['sample_site'] = srs_events_df['location']\n",
    "srs_events_df['source'] = 'Salmon Coast Field Station / Raincoast Research'"
   ],
   "metadata": {
    "collapsed": false,
    "pycharm": {
     "name": "#%%\n"
    }
   }
  },
  {
   "cell_type": "code",
   "execution_count": 101,
   "outputs": [],
   "source": [
    "# create a date field from SRS year, month, day fields\n",
    "srs_events_df['sampledate'] = srs_events_df.apply(lambda x: pd.Timestamp(x.year,\n",
    "                                                                         x.month,\n",
    "                                                                         x.day),\n",
    "                                                  axis=1)"
   ],
   "metadata": {
    "collapsed": false,
    "pycharm": {
     "name": "#%%\n"
    }
   }
  },
  {
   "cell_type": "code",
   "execution_count": 102,
   "outputs": [],
   "source": [
    "# limit to the common columns with the main events file\n",
    "srs_events_df = srs_events_df.reindex(columns=['event_id', 'sampledate', 'region',\n",
    "                                               'dfozone', 'sample_site', 'latitude',\n",
    "                                               'longitude', 'source'])"
   ],
   "metadata": {
    "collapsed": false,
    "pycharm": {
     "name": "#%%\n"
    }
   }
  },
  {
   "cell_type": "code",
   "execution_count": 103,
   "outputs": [
    {
     "data": {
      "text/plain": "   event_id sampledate                 region dfozone sample_site latitude  \\\n0   65093.0 2001-06-12  Broughton Archipelago     3_3    Burdwood      NaN   \n1   65094.0 2001-06-13  Broughton Archipelago     3_3     Wicklow      NaN   \n2   65095.0 2001-06-16  Broughton Archipelago     3_3     Glacier      NaN   \n3   65096.0 2001-06-23  Broughton Archipelago     3_3    Burdwood      NaN   \n4   65097.0 2001-06-24  Broughton Archipelago     3_3    Burdwood      NaN   \n\n  longitude                                           source  \n0       NaN  Salmon Coast Field Station / Raincoast Research  \n1       NaN  Salmon Coast Field Station / Raincoast Research  \n2       NaN  Salmon Coast Field Station / Raincoast Research  \n3       NaN  Salmon Coast Field Station / Raincoast Research  \n4       NaN  Salmon Coast Field Station / Raincoast Research  ",
      "text/html": "<div>\n<style scoped>\n    .dataframe tbody tr th:only-of-type {\n        vertical-align: middle;\n    }\n\n    .dataframe tbody tr th {\n        vertical-align: top;\n    }\n\n    .dataframe thead th {\n        text-align: right;\n    }\n</style>\n<table border=\"1\" class=\"dataframe\">\n  <thead>\n    <tr style=\"text-align: right;\">\n      <th></th>\n      <th>event_id</th>\n      <th>sampledate</th>\n      <th>region</th>\n      <th>dfozone</th>\n      <th>sample_site</th>\n      <th>latitude</th>\n      <th>longitude</th>\n      <th>source</th>\n    </tr>\n  </thead>\n  <tbody>\n    <tr>\n      <th>0</th>\n      <td>65093.0</td>\n      <td>2001-06-12</td>\n      <td>Broughton Archipelago</td>\n      <td>3_3</td>\n      <td>Burdwood</td>\n      <td>NaN</td>\n      <td>NaN</td>\n      <td>Salmon Coast Field Station / Raincoast Research</td>\n    </tr>\n    <tr>\n      <th>1</th>\n      <td>65094.0</td>\n      <td>2001-06-13</td>\n      <td>Broughton Archipelago</td>\n      <td>3_3</td>\n      <td>Wicklow</td>\n      <td>NaN</td>\n      <td>NaN</td>\n      <td>Salmon Coast Field Station / Raincoast Research</td>\n    </tr>\n    <tr>\n      <th>2</th>\n      <td>65095.0</td>\n      <td>2001-06-16</td>\n      <td>Broughton Archipelago</td>\n      <td>3_3</td>\n      <td>Glacier</td>\n      <td>NaN</td>\n      <td>NaN</td>\n      <td>Salmon Coast Field Station / Raincoast Research</td>\n    </tr>\n    <tr>\n      <th>3</th>\n      <td>65096.0</td>\n      <td>2001-06-23</td>\n      <td>Broughton Archipelago</td>\n      <td>3_3</td>\n      <td>Burdwood</td>\n      <td>NaN</td>\n      <td>NaN</td>\n      <td>Salmon Coast Field Station / Raincoast Research</td>\n    </tr>\n    <tr>\n      <th>4</th>\n      <td>65097.0</td>\n      <td>2001-06-24</td>\n      <td>Broughton Archipelago</td>\n      <td>3_3</td>\n      <td>Burdwood</td>\n      <td>NaN</td>\n      <td>NaN</td>\n      <td>Salmon Coast Field Station / Raincoast Research</td>\n    </tr>\n  </tbody>\n</table>\n</div>"
     },
     "execution_count": 103,
     "metadata": {},
     "output_type": "execute_result"
    }
   ],
   "source": [
    "srs_events_df.head()"
   ],
   "metadata": {
    "collapsed": false,
    "pycharm": {
     "name": "#%%\n"
    }
   }
  },
  {
   "cell_type": "code",
   "execution_count": 104,
   "outputs": [
    {
     "data": {
      "text/plain": "   event_id sampledate                 region dfozone   sample_site  latitude  \\\n0       1.0 2003-05-13  Broughton Archipelago     3_3  Adeane Point  50.71978   \n1       2.0 2003-05-21  Broughton Archipelago     3_3  Adeane Point  50.71978   \n2       3.0 2003-05-26  Broughton Archipelago     3_3  Adeane Point   50.7197   \n3       4.0 2003-06-02  Broughton Archipelago     3_3  Adeane Point   50.7197   \n4       5.0 2003-05-13  Broughton Archipelago     3_3  Adeane Point   50.7384   \n\n   longitude                       source  \n0  -125.6795  Fisheries and Oceans Canada  \n1  -125.6795  Fisheries and Oceans Canada  \n2  -125.6795  Fisheries and Oceans Canada  \n3  -125.6795  Fisheries and Oceans Canada  \n4 -125.67985  Fisheries and Oceans Canada  ",
      "text/html": "<div>\n<style scoped>\n    .dataframe tbody tr th:only-of-type {\n        vertical-align: middle;\n    }\n\n    .dataframe tbody tr th {\n        vertical-align: top;\n    }\n\n    .dataframe thead th {\n        text-align: right;\n    }\n</style>\n<table border=\"1\" class=\"dataframe\">\n  <thead>\n    <tr style=\"text-align: right;\">\n      <th></th>\n      <th>event_id</th>\n      <th>sampledate</th>\n      <th>region</th>\n      <th>dfozone</th>\n      <th>sample_site</th>\n      <th>latitude</th>\n      <th>longitude</th>\n      <th>source</th>\n    </tr>\n  </thead>\n  <tbody>\n    <tr>\n      <th>0</th>\n      <td>1.0</td>\n      <td>2003-05-13</td>\n      <td>Broughton Archipelago</td>\n      <td>3_3</td>\n      <td>Adeane Point</td>\n      <td>50.71978</td>\n      <td>-125.6795</td>\n      <td>Fisheries and Oceans Canada</td>\n    </tr>\n    <tr>\n      <th>1</th>\n      <td>2.0</td>\n      <td>2003-05-21</td>\n      <td>Broughton Archipelago</td>\n      <td>3_3</td>\n      <td>Adeane Point</td>\n      <td>50.71978</td>\n      <td>-125.6795</td>\n      <td>Fisheries and Oceans Canada</td>\n    </tr>\n    <tr>\n      <th>2</th>\n      <td>3.0</td>\n      <td>2003-05-26</td>\n      <td>Broughton Archipelago</td>\n      <td>3_3</td>\n      <td>Adeane Point</td>\n      <td>50.7197</td>\n      <td>-125.6795</td>\n      <td>Fisheries and Oceans Canada</td>\n    </tr>\n    <tr>\n      <th>3</th>\n      <td>4.0</td>\n      <td>2003-06-02</td>\n      <td>Broughton Archipelago</td>\n      <td>3_3</td>\n      <td>Adeane Point</td>\n      <td>50.7197</td>\n      <td>-125.6795</td>\n      <td>Fisheries and Oceans Canada</td>\n    </tr>\n    <tr>\n      <th>4</th>\n      <td>5.0</td>\n      <td>2003-05-13</td>\n      <td>Broughton Archipelago</td>\n      <td>3_3</td>\n      <td>Adeane Point</td>\n      <td>50.7384</td>\n      <td>-125.67985</td>\n      <td>Fisheries and Oceans Canada</td>\n    </tr>\n  </tbody>\n</table>\n</div>"
     },
     "execution_count": 104,
     "metadata": {},
     "output_type": "execute_result"
    }
   ],
   "source": [
    "# append to the main events DF\n",
    "all_events_df = pd.concat([events_df, srs_events_df])\n",
    "all_events_df.head()"
   ],
   "metadata": {
    "collapsed": false,
    "pycharm": {
     "name": "#%%\n"
    }
   }
  },
  {
   "cell_type": "code",
   "execution_count": 105,
   "outputs": [],
   "source": [
    "# write out to a CSV. This file will be used for all\n",
    "all_events_df.to_csv(all_events_filepath, index=False)"
   ],
   "metadata": {
    "collapsed": false,
    "pycharm": {
     "name": "#%%\n"
    }
   }
  },
  {
   "cell_type": "markdown",
   "source": [
    "# Combine the fish and lice data files"
   ],
   "metadata": {
    "collapsed": false,
    "pycharm": {
     "name": "#%% md\n"
    }
   }
  },
  {
   "cell_type": "code",
   "execution_count": 106,
   "outputs": [],
   "source": [
    "# load the fish and lice data files\n",
    "fish_df = pd.read_csv(fish_lice_filepath)\n",
    "srs_fish_df = pd.read_csv(srs_fish_lice_filepath, encoding='latin-1')"
   ],
   "metadata": {
    "collapsed": false,
    "pycharm": {
     "name": "#%%\n"
    }
   }
  },
  {
   "cell_type": "code",
   "execution_count": 107,
   "outputs": [
    {
     "data": {
      "text/plain": "15092"
     },
     "execution_count": 107,
     "metadata": {},
     "output_type": "execute_result"
    }
   ],
   "source": [
    "max(fish_df.event_id)"
   ],
   "metadata": {
    "collapsed": false,
    "pycharm": {
     "name": "#%%\n"
    }
   }
  },
  {
   "cell_type": "code",
   "execution_count": 108,
   "outputs": [
    {
     "data": {
      "text/plain": "   event_id  fish_id  length  weight  height fish_species  lep_cop  lep_chal  \\\n0      5666        1    44.0    0.96     NaN  Chum Salmon      1.0       0.0   \n1      5666        2    39.0    0.61     NaN  Pink Salmon      0.0       1.0   \n2      5666        3    45.0    0.94     NaN  Pink Salmon      0.0       0.0   \n3      5666        4    43.0    0.84     NaN  Chum Salmon      0.0       0.0   \n4      5666        5    38.0    0.53     NaN  Pink Salmon      0.0       0.0   \n\n   lep_motile  lep_unknown  cal_cop  cal_chal  cal_motile  cal_unknown  \\\n0         0.0          0.0      0.0       0.0         0.0          0.0   \n1         0.0          0.0      0.0       1.0         0.0          0.0   \n2         0.0          0.0      0.0       2.0         0.0          0.0   \n3         0.0          0.0      0.0       0.0         0.0          0.0   \n4         0.0          0.0      0.0       3.0         0.0          0.0   \n\n   unknown_cop  unknown_chal  unknown_motile  unknown_unknown  \n0          0.0           0.0             0.0              0.0  \n1          0.0           0.0             0.0              0.0  \n2          0.0           0.0             0.0              0.0  \n3          0.0           0.0             0.0              0.0  \n4          0.0           0.0             0.0              0.0  ",
      "text/html": "<div>\n<style scoped>\n    .dataframe tbody tr th:only-of-type {\n        vertical-align: middle;\n    }\n\n    .dataframe tbody tr th {\n        vertical-align: top;\n    }\n\n    .dataframe thead th {\n        text-align: right;\n    }\n</style>\n<table border=\"1\" class=\"dataframe\">\n  <thead>\n    <tr style=\"text-align: right;\">\n      <th></th>\n      <th>event_id</th>\n      <th>fish_id</th>\n      <th>length</th>\n      <th>weight</th>\n      <th>height</th>\n      <th>fish_species</th>\n      <th>lep_cop</th>\n      <th>lep_chal</th>\n      <th>lep_motile</th>\n      <th>lep_unknown</th>\n      <th>cal_cop</th>\n      <th>cal_chal</th>\n      <th>cal_motile</th>\n      <th>cal_unknown</th>\n      <th>unknown_cop</th>\n      <th>unknown_chal</th>\n      <th>unknown_motile</th>\n      <th>unknown_unknown</th>\n    </tr>\n  </thead>\n  <tbody>\n    <tr>\n      <th>0</th>\n      <td>5666</td>\n      <td>1</td>\n      <td>44.0</td>\n      <td>0.96</td>\n      <td>NaN</td>\n      <td>Chum Salmon</td>\n      <td>1.0</td>\n      <td>0.0</td>\n      <td>0.0</td>\n      <td>0.0</td>\n      <td>0.0</td>\n      <td>0.0</td>\n      <td>0.0</td>\n      <td>0.0</td>\n      <td>0.0</td>\n      <td>0.0</td>\n      <td>0.0</td>\n      <td>0.0</td>\n    </tr>\n    <tr>\n      <th>1</th>\n      <td>5666</td>\n      <td>2</td>\n      <td>39.0</td>\n      <td>0.61</td>\n      <td>NaN</td>\n      <td>Pink Salmon</td>\n      <td>0.0</td>\n      <td>1.0</td>\n      <td>0.0</td>\n      <td>0.0</td>\n      <td>0.0</td>\n      <td>1.0</td>\n      <td>0.0</td>\n      <td>0.0</td>\n      <td>0.0</td>\n      <td>0.0</td>\n      <td>0.0</td>\n      <td>0.0</td>\n    </tr>\n    <tr>\n      <th>2</th>\n      <td>5666</td>\n      <td>3</td>\n      <td>45.0</td>\n      <td>0.94</td>\n      <td>NaN</td>\n      <td>Pink Salmon</td>\n      <td>0.0</td>\n      <td>0.0</td>\n      <td>0.0</td>\n      <td>0.0</td>\n      <td>0.0</td>\n      <td>2.0</td>\n      <td>0.0</td>\n      <td>0.0</td>\n      <td>0.0</td>\n      <td>0.0</td>\n      <td>0.0</td>\n      <td>0.0</td>\n    </tr>\n    <tr>\n      <th>3</th>\n      <td>5666</td>\n      <td>4</td>\n      <td>43.0</td>\n      <td>0.84</td>\n      <td>NaN</td>\n      <td>Chum Salmon</td>\n      <td>0.0</td>\n      <td>0.0</td>\n      <td>0.0</td>\n      <td>0.0</td>\n      <td>0.0</td>\n      <td>0.0</td>\n      <td>0.0</td>\n      <td>0.0</td>\n      <td>0.0</td>\n      <td>0.0</td>\n      <td>0.0</td>\n      <td>0.0</td>\n    </tr>\n    <tr>\n      <th>4</th>\n      <td>5666</td>\n      <td>5</td>\n      <td>38.0</td>\n      <td>0.53</td>\n      <td>NaN</td>\n      <td>Pink Salmon</td>\n      <td>0.0</td>\n      <td>0.0</td>\n      <td>0.0</td>\n      <td>0.0</td>\n      <td>0.0</td>\n      <td>3.0</td>\n      <td>0.0</td>\n      <td>0.0</td>\n      <td>0.0</td>\n      <td>0.0</td>\n      <td>0.0</td>\n      <td>0.0</td>\n    </tr>\n  </tbody>\n</table>\n</div>"
     },
     "execution_count": 108,
     "metadata": {},
     "output_type": "execute_result"
    }
   ],
   "source": [
    "fish_df.head()"
   ],
   "metadata": {
    "collapsed": false,
    "pycharm": {
     "name": "#%%\n"
    }
   }
  },
  {
   "cell_type": "code",
   "execution_count": 109,
   "outputs": [
    {
     "data": {
      "text/plain": "   fish_id  site_id  year  day  month  location  fish_num species  length  \\\n0        1      1.0  2001   12      6  Burdwood       NaN    pink    50.0   \n1        2      1.0  2001   12      6  Burdwood       NaN    pink    50.0   \n2        3      1.0  2001   12      6  Burdwood       NaN    pink    50.0   \n3        4      1.0  2001   12      6  Burdwood       NaN    pink    53.0   \n4        5      1.0  2001   12      6  Burdwood       NaN    pink    54.0   \n\n   height  ...  pred_scar  mot_scar  hem  mateguarding  eroded_gill  \\\n0     NaN  ...        NaN       NaN  NaN           NaN          NaN   \n1     NaN  ...        NaN       NaN  NaN           NaN          NaN   \n2     NaN  ...        NaN       NaN  NaN           NaN          NaN   \n3     NaN  ...        NaN       NaN  NaN           NaN          NaN   \n4     NaN  ...        NaN       NaN  NaN           NaN          NaN   \n\n   white_eye  blue_blotches  pinched_belly  scales  comments  \n0        NaN            NaN            NaN     NaN       NaN  \n1        NaN            NaN            NaN     NaN       NaN  \n2        NaN            NaN            NaN     NaN       NaN  \n3        NaN            NaN            NaN     NaN       NaN  \n4        NaN            NaN            NaN     NaN       NaN  \n\n[5 rows x 36 columns]",
      "text/html": "<div>\n<style scoped>\n    .dataframe tbody tr th:only-of-type {\n        vertical-align: middle;\n    }\n\n    .dataframe tbody tr th {\n        vertical-align: top;\n    }\n\n    .dataframe thead th {\n        text-align: right;\n    }\n</style>\n<table border=\"1\" class=\"dataframe\">\n  <thead>\n    <tr style=\"text-align: right;\">\n      <th></th>\n      <th>fish_id</th>\n      <th>site_id</th>\n      <th>year</th>\n      <th>day</th>\n      <th>month</th>\n      <th>location</th>\n      <th>fish_num</th>\n      <th>species</th>\n      <th>length</th>\n      <th>height</th>\n      <th>...</th>\n      <th>pred_scar</th>\n      <th>mot_scar</th>\n      <th>hem</th>\n      <th>mateguarding</th>\n      <th>eroded_gill</th>\n      <th>white_eye</th>\n      <th>blue_blotches</th>\n      <th>pinched_belly</th>\n      <th>scales</th>\n      <th>comments</th>\n    </tr>\n  </thead>\n  <tbody>\n    <tr>\n      <th>0</th>\n      <td>1</td>\n      <td>1.0</td>\n      <td>2001</td>\n      <td>12</td>\n      <td>6</td>\n      <td>Burdwood</td>\n      <td>NaN</td>\n      <td>pink</td>\n      <td>50.0</td>\n      <td>NaN</td>\n      <td>...</td>\n      <td>NaN</td>\n      <td>NaN</td>\n      <td>NaN</td>\n      <td>NaN</td>\n      <td>NaN</td>\n      <td>NaN</td>\n      <td>NaN</td>\n      <td>NaN</td>\n      <td>NaN</td>\n      <td>NaN</td>\n    </tr>\n    <tr>\n      <th>1</th>\n      <td>2</td>\n      <td>1.0</td>\n      <td>2001</td>\n      <td>12</td>\n      <td>6</td>\n      <td>Burdwood</td>\n      <td>NaN</td>\n      <td>pink</td>\n      <td>50.0</td>\n      <td>NaN</td>\n      <td>...</td>\n      <td>NaN</td>\n      <td>NaN</td>\n      <td>NaN</td>\n      <td>NaN</td>\n      <td>NaN</td>\n      <td>NaN</td>\n      <td>NaN</td>\n      <td>NaN</td>\n      <td>NaN</td>\n      <td>NaN</td>\n    </tr>\n    <tr>\n      <th>2</th>\n      <td>3</td>\n      <td>1.0</td>\n      <td>2001</td>\n      <td>12</td>\n      <td>6</td>\n      <td>Burdwood</td>\n      <td>NaN</td>\n      <td>pink</td>\n      <td>50.0</td>\n      <td>NaN</td>\n      <td>...</td>\n      <td>NaN</td>\n      <td>NaN</td>\n      <td>NaN</td>\n      <td>NaN</td>\n      <td>NaN</td>\n      <td>NaN</td>\n      <td>NaN</td>\n      <td>NaN</td>\n      <td>NaN</td>\n      <td>NaN</td>\n    </tr>\n    <tr>\n      <th>3</th>\n      <td>4</td>\n      <td>1.0</td>\n      <td>2001</td>\n      <td>12</td>\n      <td>6</td>\n      <td>Burdwood</td>\n      <td>NaN</td>\n      <td>pink</td>\n      <td>53.0</td>\n      <td>NaN</td>\n      <td>...</td>\n      <td>NaN</td>\n      <td>NaN</td>\n      <td>NaN</td>\n      <td>NaN</td>\n      <td>NaN</td>\n      <td>NaN</td>\n      <td>NaN</td>\n      <td>NaN</td>\n      <td>NaN</td>\n      <td>NaN</td>\n    </tr>\n    <tr>\n      <th>4</th>\n      <td>5</td>\n      <td>1.0</td>\n      <td>2001</td>\n      <td>12</td>\n      <td>6</td>\n      <td>Burdwood</td>\n      <td>NaN</td>\n      <td>pink</td>\n      <td>54.0</td>\n      <td>NaN</td>\n      <td>...</td>\n      <td>NaN</td>\n      <td>NaN</td>\n      <td>NaN</td>\n      <td>NaN</td>\n      <td>NaN</td>\n      <td>NaN</td>\n      <td>NaN</td>\n      <td>NaN</td>\n      <td>NaN</td>\n      <td>NaN</td>\n    </tr>\n  </tbody>\n</table>\n<p>5 rows × 36 columns</p>\n</div>"
     },
     "execution_count": 109,
     "metadata": {},
     "output_type": "execute_result"
    }
   ],
   "source": [
    "srs_fish_df.head()"
   ],
   "metadata": {
    "collapsed": false,
    "pycharm": {
     "name": "#%%\n"
    }
   }
  },
  {
   "cell_type": "code",
   "execution_count": 110,
   "outputs": [],
   "source": [
    "# rename SRS columns that have equivalent data\n",
    "srs_fish_df.rename(columns={'species': 'fish_species',\n",
    "                            'Lep_cope': 'lep_cop',\n",
    "                            'Caligus_cope': 'cal_cop',\n",
    "                            'unid_cope': 'unknown_cop'},\n",
    "                  inplace=True)"
   ],
   "metadata": {
    "collapsed": false,
    "pycharm": {
     "name": "#%%\n"
    }
   }
  },
  {
   "cell_type": "markdown",
   "source": [
    "## Convert event_id and fish_id"
   ],
   "metadata": {
    "collapsed": false,
    "pycharm": {
     "name": "#%% md\n"
    }
   }
  },
  {
   "cell_type": "code",
   "execution_count": 111,
   "outputs": [],
   "source": [
    "# make sure SRS fish get unique IDs\n",
    "max_fish_id = max(fish_df.fish_id)\n",
    "srs_fish_df.fish_id = srs_fish_df.fish_id + max_fish_id"
   ],
   "metadata": {
    "collapsed": false,
    "pycharm": {
     "name": "#%%\n"
    }
   }
  },
  {
   "cell_type": "code",
   "execution_count": 112,
   "outputs": [],
   "source": [
    "# make a new SRS event_id column that matches the event_id in the all_events_df\n",
    "srs_fish_df['event_id'] = srs_fish_df.site_id + max_old_event_id"
   ],
   "metadata": {
    "collapsed": false,
    "pycharm": {
     "name": "#%%\n"
    }
   }
  },
  {
   "cell_type": "markdown",
   "source": [
    "## Convert SRS fish species to match"
   ],
   "metadata": {
    "collapsed": false,
    "pycharm": {
     "name": "#%% md\n"
    }
   }
  },
  {
   "cell_type": "code",
   "execution_count": 113,
   "outputs": [
    {
     "data": {
      "text/plain": "array(['pink', 'chum', 'sockeye'], dtype=object)"
     },
     "execution_count": 113,
     "metadata": {},
     "output_type": "execute_result"
    }
   ],
   "source": [
    "# check the fish species in the SRS dataset\n",
    "srs_fish_df.fish_species.unique()"
   ],
   "metadata": {
    "collapsed": false,
    "pycharm": {
     "name": "#%%\n"
    }
   }
  },
  {
   "cell_type": "code",
   "execution_count": 114,
   "outputs": [
    {
     "data": {
      "text/plain": "array(['Chum Salmon', 'Pink Salmon', 'Coho Salmon',\n       'Three-Spined Stickleback', 'Chinook Salmon', 'Other Species',\n       'Pacific Herring', 'Sockeye Salmon'], dtype=object)"
     },
     "execution_count": 114,
     "metadata": {},
     "output_type": "execute_result"
    }
   ],
   "source": [
    "fish_df.fish_species.unique()"
   ],
   "metadata": {
    "collapsed": false,
    "pycharm": {
     "name": "#%%\n"
    }
   }
  },
  {
   "cell_type": "code",
   "execution_count": 115,
   "outputs": [],
   "source": [
    "# replace salmon species names as the string literals differ\n",
    "srs_fish_df.replace({'fish_species': {'chum': 'Chum Salmon',\n",
    "                                      'pink': 'Pink Salmon',\n",
    "                                      'sockeye': 'Sockeye Salmon'}},\n",
    "                   inplace=True)"
   ],
   "metadata": {
    "collapsed": false,
    "pycharm": {
     "name": "#%%\n"
    }
   }
  },
  {
   "cell_type": "markdown",
   "source": [
    "## Convert SRS lice counts"
   ],
   "metadata": {
    "collapsed": false,
    "pycharm": {
     "name": "#%% md\n"
    }
   }
  },
  {
   "cell_type": "code",
   "execution_count": 116,
   "outputs": [],
   "source": [
    "# convert all the NaN in lice counts to 0\n",
    "# first, make sure our expression checking for NaN works\n",
    "assert srs_fish_df.loc[:, 'lep_cop':'unid_adult'].isnull().values.any()"
   ],
   "metadata": {
    "collapsed": false,
    "pycharm": {
     "name": "#%%\n"
    }
   }
  },
  {
   "cell_type": "code",
   "execution_count": 117,
   "outputs": [],
   "source": [
    "# convert all the NaN lice counts to 0\n",
    "col_names = srs_fish_df.loc[:, 'lep_cop':'unid_adult'].columns\n",
    "fill_dict = {col: 0 for col in col_names}\n",
    "srs_fish_df.fillna(value=fill_dict, inplace=True)\n",
    "\n",
    "# confirm that they are all converted\n",
    "assert not srs_fish_df.loc[:, 'lep_cop':'unid_adult'].isnull().values.any()"
   ],
   "metadata": {
    "collapsed": false,
    "pycharm": {
     "name": "#%%\n"
    }
   }
  },
  {
   "cell_type": "code",
   "execution_count": 118,
   "outputs": [],
   "source": [
    "# confirm there are no NaN lice counts in our data - should return False\n",
    "assert not fish_df.loc[:, 'lep_cop':'unknown_unknown'].isnull().values.any()"
   ],
   "metadata": {
    "collapsed": false,
    "pycharm": {
     "name": "#%%\n"
    }
   }
  },
  {
   "cell_type": "code",
   "execution_count": 119,
   "outputs": [],
   "source": [
    "# generate lice count fields to match our data from the SRS lice counts\n",
    "srs_fish_df['unknown_chal'] = srs_fish_df['chalA'] + \\\n",
    "                              srs_fish_df['chalB'] + \\\n",
    "                              srs_fish_df['chal_unid']\n",
    "\n",
    "srs_fish_df['lep_motile'] = srs_fish_df['Lep_PAmale'] + \\\n",
    "                            srs_fish_df['Lep_PAfemale'] + \\\n",
    "                            srs_fish_df['Lep_male'] + \\\n",
    "                            srs_fish_df['Lep_nongravid'] + \\\n",
    "                            srs_fish_df['Lep_gravid']\n",
    "\n",
    "srs_fish_df['cal_motile'] = srs_fish_df['Caligus_mot'] + srs_fish_df['Caligus_gravid']\n",
    "\n",
    "srs_fish_df['unknown_motile'] = srs_fish_df['unid_PA'] + srs_fish_df['unid_adult']"
   ],
   "metadata": {
    "collapsed": false,
    "pycharm": {
     "name": "#%%\n"
    }
   }
  },
  {
   "cell_type": "code",
   "execution_count": 120,
   "outputs": [
    {
     "data": {
      "text/plain": "Index(['fish_id', 'site_id', 'year', 'day', 'month', 'location', 'fish_num',\n       'fish_species', 'length', 'height', 'lep_cop', 'chalA', 'chalB',\n       'Lep_PAmale', 'Lep_PAfemale', 'Lep_male', 'Lep_nongravid', 'Lep_gravid',\n       'cal_cop', 'Caligus_mot', 'Caligus_gravid', 'unknown_cop', 'chal_unid',\n       'unid_PA', 'unid_adult', 'chal_scar', 'pred_scar', 'mot_scar', 'hem',\n       'mateguarding', 'eroded_gill', 'white_eye', 'blue_blotches',\n       'pinched_belly', 'scales', 'comments', 'event_id', 'unknown_chal',\n       'lep_motile', 'cal_motile', 'unknown_motile'],\n      dtype='object')"
     },
     "execution_count": 120,
     "metadata": {},
     "output_type": "execute_result"
    }
   ],
   "source": [
    "srs_fish_df.columns"
   ],
   "metadata": {
    "collapsed": false,
    "pycharm": {
     "name": "#%%\n"
    }
   }
  },
  {
   "cell_type": "markdown",
   "source": [
    "## Join the two fish/lice dataframes"
   ],
   "metadata": {
    "collapsed": false,
    "pycharm": {
     "name": "#%% md\n"
    }
   }
  },
  {
   "cell_type": "code",
   "execution_count": 121,
   "outputs": [],
   "source": [
    "# make sure only the common columns are in the SRS dataframe\n",
    "srs_fish_df = srs_fish_df.reindex(columns=fish_df.columns)"
   ],
   "metadata": {
    "collapsed": false,
    "pycharm": {
     "name": "#%%\n"
    }
   }
  },
  {
   "cell_type": "code",
   "execution_count": 122,
   "outputs": [
    {
     "data": {
      "text/plain": "Index(['event_id', 'fish_id', 'length', 'weight', 'height', 'fish_species',\n       'lep_cop', 'lep_chal', 'lep_motile', 'lep_unknown', 'cal_cop',\n       'cal_chal', 'cal_motile', 'cal_unknown', 'unknown_cop', 'unknown_chal',\n       'unknown_motile', 'unknown_unknown'],\n      dtype='object')"
     },
     "execution_count": 122,
     "metadata": {},
     "output_type": "execute_result"
    }
   ],
   "source": [
    "srs_fish_df.columns"
   ],
   "metadata": {
    "collapsed": false,
    "pycharm": {
     "name": "#%%\n"
    }
   }
  },
  {
   "cell_type": "code",
   "execution_count": 123,
   "outputs": [],
   "source": [
    "# There are some new lice count columns - so again make sure all lice count columns NaN means 0\n",
    "col_names = srs_fish_df.loc[:, 'lep_cop':'unknown_unknown'].columns\n",
    "fill_dict = {col: 0 for col in col_names}\n",
    "srs_fish_df.fillna(value=fill_dict, inplace=True)\n",
    "\n",
    "# check if there are any NaN in the lice counts\n",
    "assert not srs_fish_df.loc[:, 'lep_cop':'unknown_unknown'].isnull().values.any()"
   ],
   "metadata": {
    "collapsed": false,
    "pycharm": {
     "name": "#%%\n"
    }
   }
  },
  {
   "cell_type": "code",
   "execution_count": 124,
   "outputs": [],
   "source": [
    "# join the DFs together\n",
    "all_fish_df = pd.concat([fish_df, srs_fish_df])"
   ],
   "metadata": {
    "collapsed": false,
    "pycharm": {
     "name": "#%%\n"
    }
   }
  },
  {
   "cell_type": "code",
   "execution_count": 125,
   "outputs": [
    {
     "data": {
      "text/plain": "   event_id  fish_id  length  weight  height fish_species  lep_cop  lep_chal  \\\n0    5666.0        1    44.0    0.96     NaN  Chum Salmon      1.0       0.0   \n1    5666.0        2    39.0    0.61     NaN  Pink Salmon      0.0       1.0   \n2    5666.0        3    45.0    0.94     NaN  Pink Salmon      0.0       0.0   \n3    5666.0        4    43.0    0.84     NaN  Chum Salmon      0.0       0.0   \n4    5666.0        5    38.0    0.53     NaN  Pink Salmon      0.0       0.0   \n\n   lep_motile  lep_unknown  cal_cop  cal_chal  cal_motile  cal_unknown  \\\n0         0.0          0.0      0.0       0.0         0.0          0.0   \n1         0.0          0.0      0.0       1.0         0.0          0.0   \n2         0.0          0.0      0.0       2.0         0.0          0.0   \n3         0.0          0.0      0.0       0.0         0.0          0.0   \n4         0.0          0.0      0.0       3.0         0.0          0.0   \n\n   unknown_cop  unknown_chal  unknown_motile  unknown_unknown  \n0          0.0           0.0             0.0              0.0  \n1          0.0           0.0             0.0              0.0  \n2          0.0           0.0             0.0              0.0  \n3          0.0           0.0             0.0              0.0  \n4          0.0           0.0             0.0              0.0  ",
      "text/html": "<div>\n<style scoped>\n    .dataframe tbody tr th:only-of-type {\n        vertical-align: middle;\n    }\n\n    .dataframe tbody tr th {\n        vertical-align: top;\n    }\n\n    .dataframe thead th {\n        text-align: right;\n    }\n</style>\n<table border=\"1\" class=\"dataframe\">\n  <thead>\n    <tr style=\"text-align: right;\">\n      <th></th>\n      <th>event_id</th>\n      <th>fish_id</th>\n      <th>length</th>\n      <th>weight</th>\n      <th>height</th>\n      <th>fish_species</th>\n      <th>lep_cop</th>\n      <th>lep_chal</th>\n      <th>lep_motile</th>\n      <th>lep_unknown</th>\n      <th>cal_cop</th>\n      <th>cal_chal</th>\n      <th>cal_motile</th>\n      <th>cal_unknown</th>\n      <th>unknown_cop</th>\n      <th>unknown_chal</th>\n      <th>unknown_motile</th>\n      <th>unknown_unknown</th>\n    </tr>\n  </thead>\n  <tbody>\n    <tr>\n      <th>0</th>\n      <td>5666.0</td>\n      <td>1</td>\n      <td>44.0</td>\n      <td>0.96</td>\n      <td>NaN</td>\n      <td>Chum Salmon</td>\n      <td>1.0</td>\n      <td>0.0</td>\n      <td>0.0</td>\n      <td>0.0</td>\n      <td>0.0</td>\n      <td>0.0</td>\n      <td>0.0</td>\n      <td>0.0</td>\n      <td>0.0</td>\n      <td>0.0</td>\n      <td>0.0</td>\n      <td>0.0</td>\n    </tr>\n    <tr>\n      <th>1</th>\n      <td>5666.0</td>\n      <td>2</td>\n      <td>39.0</td>\n      <td>0.61</td>\n      <td>NaN</td>\n      <td>Pink Salmon</td>\n      <td>0.0</td>\n      <td>1.0</td>\n      <td>0.0</td>\n      <td>0.0</td>\n      <td>0.0</td>\n      <td>1.0</td>\n      <td>0.0</td>\n      <td>0.0</td>\n      <td>0.0</td>\n      <td>0.0</td>\n      <td>0.0</td>\n      <td>0.0</td>\n    </tr>\n    <tr>\n      <th>2</th>\n      <td>5666.0</td>\n      <td>3</td>\n      <td>45.0</td>\n      <td>0.94</td>\n      <td>NaN</td>\n      <td>Pink Salmon</td>\n      <td>0.0</td>\n      <td>0.0</td>\n      <td>0.0</td>\n      <td>0.0</td>\n      <td>0.0</td>\n      <td>2.0</td>\n      <td>0.0</td>\n      <td>0.0</td>\n      <td>0.0</td>\n      <td>0.0</td>\n      <td>0.0</td>\n      <td>0.0</td>\n    </tr>\n    <tr>\n      <th>3</th>\n      <td>5666.0</td>\n      <td>4</td>\n      <td>43.0</td>\n      <td>0.84</td>\n      <td>NaN</td>\n      <td>Chum Salmon</td>\n      <td>0.0</td>\n      <td>0.0</td>\n      <td>0.0</td>\n      <td>0.0</td>\n      <td>0.0</td>\n      <td>0.0</td>\n      <td>0.0</td>\n      <td>0.0</td>\n      <td>0.0</td>\n      <td>0.0</td>\n      <td>0.0</td>\n      <td>0.0</td>\n    </tr>\n    <tr>\n      <th>4</th>\n      <td>5666.0</td>\n      <td>5</td>\n      <td>38.0</td>\n      <td>0.53</td>\n      <td>NaN</td>\n      <td>Pink Salmon</td>\n      <td>0.0</td>\n      <td>0.0</td>\n      <td>0.0</td>\n      <td>0.0</td>\n      <td>0.0</td>\n      <td>3.0</td>\n      <td>0.0</td>\n      <td>0.0</td>\n      <td>0.0</td>\n      <td>0.0</td>\n      <td>0.0</td>\n      <td>0.0</td>\n    </tr>\n  </tbody>\n</table>\n</div>"
     },
     "execution_count": 125,
     "metadata": {},
     "output_type": "execute_result"
    }
   ],
   "source": [
    "# rename species: Blenny, Cutthroat Trout, Non Salmonid => Other Species\n",
    "other_species = \"Other Species\"\n",
    "all_fish_df['fish_species'].replace({'Blenny': other_species,\n",
    "                                     'Cutthroat Trout': other_species,\n",
    "                                     'Non Salmonid': other_species},\n",
    "                                    inplace=True)\n",
    "all_fish_df.head()"
   ],
   "metadata": {
    "collapsed": false,
    "pycharm": {
     "name": "#%%\n"
    }
   }
  },
  {
   "cell_type": "code",
   "execution_count": 126,
   "outputs": [],
   "source": [
    "# save to file\n",
    "all_fish_df.to_csv(all_fish_lice_filepath, index=False)"
   ],
   "metadata": {
    "collapsed": false,
    "pycharm": {
     "name": "#%%\n"
    }
   }
  },
  {
   "cell_type": "code",
   "execution_count": 126,
   "outputs": [],
   "source": [],
   "metadata": {
    "collapsed": false,
    "pycharm": {
     "name": "#%%\n"
    }
   }
  }
 ],
 "metadata": {
  "kernelspec": {
   "display_name": "Python 3",
   "language": "python",
   "name": "python3"
  },
  "language_info": {
   "codemirror_mode": {
    "name": "ipython",
    "version": 2
   },
   "file_extension": ".py",
   "mimetype": "text/x-python",
   "name": "python",
   "nbconvert_exporter": "python",
   "pygments_lexer": "ipython2",
   "version": "2.7.6"
  }
 },
 "nbformat": 4,
 "nbformat_minor": 0
}