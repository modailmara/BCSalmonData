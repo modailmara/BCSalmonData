{
 "cells": [
  {
   "cell_type": "markdown",
   "source": [
    "## This Notebook generates two CSVs for Table 2\n",
    "The first CSV is a table with mean infestation abundance for fish health zones each year as in Table 2, except for the 'Mean' row at the bottom.\n",
    "The second CSV has the last two rows of the Table in the paper with counts of the months reported and number of farms in each zone."
   ],
   "metadata": {
    "collapsed": false,
    "pycharm": {
     "name": "#%% md\n"
    }
   }
  },
  {
   "cell_type": "code",
   "execution_count": 1,
   "outputs": [],
   "source": [
    "from pathlib import Path\n",
    "import pandas as pd"
   ],
   "metadata": {
    "collapsed": false,
    "pycharm": {
     "name": "#%%\n"
    }
   }
  },
  {
   "cell_type": "code",
   "execution_count": 2,
   "outputs": [],
   "source": [
    "# define the data location constants\n",
    "DATA_DIR = Path('..') / 'source_data'\n",
    "FARM_INFO_PATH = DATA_DIR / 'industry_farm_details.csv'\n",
    "FARM_SAMPLE_PATH = DATA_DIR / 'industry_farm_abundance.csv'\n",
    "\n",
    "OUTPUT_DIR = Path('..') / 'output' / 'Table_2'"
   ],
   "metadata": {
    "collapsed": false,
    "pycharm": {
     "name": "#%%\n"
    }
   }
  },
  {
   "cell_type": "code",
   "execution_count": 3,
   "outputs": [],
   "source": [
    "# import and merge the data\n",
    "info_df = pd.read_csv(FARM_INFO_PATH)\n",
    "sample_df = pd.read_csv(FARM_SAMPLE_PATH)\n",
    "\n",
    "farm_df = pd.merge(info_df, sample_df, on='facility_id', how='left')"
   ],
   "metadata": {
    "collapsed": false,
    "pycharm": {
     "name": "#%%\n"
    }
   }
  },
  {
   "cell_type": "code",
   "execution_count": 4,
   "outputs": [
    {
     "data": {
      "text/plain": "   facility_id      name dfozone   latitude   longitude company  \\\n0            1  Ahlstrom     3_1  49.778527 -124.154337   Grieg   \n1            1  Ahlstrom     3_1  49.778527 -124.154337   Grieg   \n2            1  Ahlstrom     3_1  49.778527 -124.154337   Grieg   \n7            1  Ahlstrom     3_1  49.778527 -124.154337   Grieg   \n8            1  Ahlstrom     3_1  49.778527 -124.154337   Grieg   \n\n                region_name  Year  month  fishselected  chalimus_ab  \\\n0  Jervis and Sechelt Inlet  2005      4             0          NaN   \n1  Jervis and Sechelt Inlet  2009      5           120        0.000   \n2  Jervis and Sechelt Inlet  2009      6            40        0.000   \n7  Jervis and Sechelt Inlet  2011      3           120        0.225   \n8  Jervis and Sechelt Inlet  2011      4           120        0.192   \n\n   lep_motile_ab  lep_af_ab  cal_motile_ab  weight  \n0            NaN        NaN            NaN   0.162  \n1          0.017      0.008          0.000   1.000  \n2          0.000      0.000          0.000   0.479  \n7          0.400      0.258          6.017   0.210  \n8          0.400      0.117          1.217   0.234  ",
      "text/html": "<div>\n<style scoped>\n    .dataframe tbody tr th:only-of-type {\n        vertical-align: middle;\n    }\n\n    .dataframe tbody tr th {\n        vertical-align: top;\n    }\n\n    .dataframe thead th {\n        text-align: right;\n    }\n</style>\n<table border=\"1\" class=\"dataframe\">\n  <thead>\n    <tr style=\"text-align: right;\">\n      <th></th>\n      <th>facility_id</th>\n      <th>name</th>\n      <th>dfozone</th>\n      <th>latitude</th>\n      <th>longitude</th>\n      <th>company</th>\n      <th>region_name</th>\n      <th>Year</th>\n      <th>month</th>\n      <th>fishselected</th>\n      <th>chalimus_ab</th>\n      <th>lep_motile_ab</th>\n      <th>lep_af_ab</th>\n      <th>cal_motile_ab</th>\n      <th>weight</th>\n    </tr>\n  </thead>\n  <tbody>\n    <tr>\n      <th>0</th>\n      <td>1</td>\n      <td>Ahlstrom</td>\n      <td>3_1</td>\n      <td>49.778527</td>\n      <td>-124.154337</td>\n      <td>Grieg</td>\n      <td>Jervis and Sechelt Inlet</td>\n      <td>2005</td>\n      <td>4</td>\n      <td>0</td>\n      <td>NaN</td>\n      <td>NaN</td>\n      <td>NaN</td>\n      <td>NaN</td>\n      <td>0.162</td>\n    </tr>\n    <tr>\n      <th>1</th>\n      <td>1</td>\n      <td>Ahlstrom</td>\n      <td>3_1</td>\n      <td>49.778527</td>\n      <td>-124.154337</td>\n      <td>Grieg</td>\n      <td>Jervis and Sechelt Inlet</td>\n      <td>2009</td>\n      <td>5</td>\n      <td>120</td>\n      <td>0.000</td>\n      <td>0.017</td>\n      <td>0.008</td>\n      <td>0.000</td>\n      <td>1.000</td>\n    </tr>\n    <tr>\n      <th>2</th>\n      <td>1</td>\n      <td>Ahlstrom</td>\n      <td>3_1</td>\n      <td>49.778527</td>\n      <td>-124.154337</td>\n      <td>Grieg</td>\n      <td>Jervis and Sechelt Inlet</td>\n      <td>2009</td>\n      <td>6</td>\n      <td>40</td>\n      <td>0.000</td>\n      <td>0.000</td>\n      <td>0.000</td>\n      <td>0.000</td>\n      <td>0.479</td>\n    </tr>\n    <tr>\n      <th>7</th>\n      <td>1</td>\n      <td>Ahlstrom</td>\n      <td>3_1</td>\n      <td>49.778527</td>\n      <td>-124.154337</td>\n      <td>Grieg</td>\n      <td>Jervis and Sechelt Inlet</td>\n      <td>2011</td>\n      <td>3</td>\n      <td>120</td>\n      <td>0.225</td>\n      <td>0.400</td>\n      <td>0.258</td>\n      <td>6.017</td>\n      <td>0.210</td>\n    </tr>\n    <tr>\n      <th>8</th>\n      <td>1</td>\n      <td>Ahlstrom</td>\n      <td>3_1</td>\n      <td>49.778527</td>\n      <td>-124.154337</td>\n      <td>Grieg</td>\n      <td>Jervis and Sechelt Inlet</td>\n      <td>2011</td>\n      <td>4</td>\n      <td>120</td>\n      <td>0.192</td>\n      <td>0.400</td>\n      <td>0.117</td>\n      <td>1.217</td>\n      <td>0.234</td>\n    </tr>\n  </tbody>\n</table>\n</div>"
     },
     "execution_count": 4,
     "metadata": {},
     "output_type": "execute_result"
    }
   ],
   "source": [
    "# restrict to wild outmigration months - March (3) to June (6)\n",
    "farm_df = farm_df[farm_df.month.isin(range(3, 7))]\n",
    "\n",
    "# rename column 'year' -> 'Year'\n",
    "farm_df.rename(columns={'year': 'Year'}, inplace=True)\n",
    "\n",
    "farm_df.head()"
   ],
   "metadata": {
    "collapsed": false,
    "pycharm": {
     "name": "#%%\n"
    }
   }
  },
  {
   "cell_type": "markdown",
   "source": [
    "## Calculate the weighted mean motile abundance each year in each zone"
   ],
   "metadata": {
    "collapsed": false,
    "pycharm": {
     "name": "#%% md\n"
    }
   }
  },
  {
   "cell_type": "code",
   "execution_count": 5,
   "outputs": [
    {
     "data": {
      "text/plain": "  dfozone  Year  weighted_lep_motile_ab  weight  mean_weighted_lep_motile_ab\n0     2_3  2005                4.102113   4.003                     1.024760\n1     2_3  2006                8.556279   3.999                     2.139605\n2     2_3  2007                4.217627   4.001                     1.054143\n3     2_3  2008                4.171839   3.999                     1.043221\n4     2_3  2009                2.316315   3.998                     0.579368",
      "text/html": "<div>\n<style scoped>\n    .dataframe tbody tr th:only-of-type {\n        vertical-align: middle;\n    }\n\n    .dataframe tbody tr th {\n        vertical-align: top;\n    }\n\n    .dataframe thead th {\n        text-align: right;\n    }\n</style>\n<table border=\"1\" class=\"dataframe\">\n  <thead>\n    <tr style=\"text-align: right;\">\n      <th></th>\n      <th>dfozone</th>\n      <th>Year</th>\n      <th>weighted_lep_motile_ab</th>\n      <th>weight</th>\n      <th>mean_weighted_lep_motile_ab</th>\n    </tr>\n  </thead>\n  <tbody>\n    <tr>\n      <th>0</th>\n      <td>2_3</td>\n      <td>2005</td>\n      <td>4.102113</td>\n      <td>4.003</td>\n      <td>1.024760</td>\n    </tr>\n    <tr>\n      <th>1</th>\n      <td>2_3</td>\n      <td>2006</td>\n      <td>8.556279</td>\n      <td>3.999</td>\n      <td>2.139605</td>\n    </tr>\n    <tr>\n      <th>2</th>\n      <td>2_3</td>\n      <td>2007</td>\n      <td>4.217627</td>\n      <td>4.001</td>\n      <td>1.054143</td>\n    </tr>\n    <tr>\n      <th>3</th>\n      <td>2_3</td>\n      <td>2008</td>\n      <td>4.171839</td>\n      <td>3.999</td>\n      <td>1.043221</td>\n    </tr>\n    <tr>\n      <th>4</th>\n      <td>2_3</td>\n      <td>2009</td>\n      <td>2.316315</td>\n      <td>3.998</td>\n      <td>0.579368</td>\n    </tr>\n  </tbody>\n</table>\n</div>"
     },
     "execution_count": 5,
     "metadata": {},
     "output_type": "execute_result"
    }
   ],
   "source": [
    "# calculate the weighted lep_motile_ab for each farm in each year-month\n",
    "farm_df['weighted_lep_motile_ab'] = farm_df.lep_motile_ab * farm_df.weight\n",
    "\n",
    "# sum weighted abundance and weights over each year\n",
    "farm_weight_group = farm_df.groupby(['dfozone', 'Year'])\n",
    "farm_year_weight_df = farm_weight_group[['weighted_lep_motile_ab', 'weight']].sum().reset_index()\n",
    "\n",
    "# weighted abundance / weight sum\n",
    "farm_year_weight_df['mean_weighted_lep_motile_ab'] = \\\n",
    "    farm_year_weight_df.weighted_lep_motile_ab / farm_year_weight_df.weight\n",
    "\n",
    "farm_year_weight_df.head()"
   ],
   "metadata": {
    "collapsed": false,
    "pycharm": {
     "name": "#%%\n"
    }
   }
  },
  {
   "cell_type": "code",
   "execution_count": 6,
   "outputs": [
    {
     "data": {
      "text/plain": "dfozone  Year       2_3       2_4       3_1       3_2       3_3       3_4  \\\n0        2004       NaN       NaN       NaN       NaN  5.516735       NaN   \n1        2005  1.024760  0.481102  0.106337  1.523956  1.403539  0.773191   \n2        2006  2.139605  0.597383  0.121585  1.459378  0.895611  0.875623   \n3        2007  1.054143  0.497624       NaN  0.513928  0.456994  0.969694   \n4        2008  1.043221  0.402736       NaN  1.719096  0.268074  0.994317   \n\ndfozone       3_5  \n0             NaN  \n1        0.234109  \n2        0.157166  \n3        0.199435  \n4        0.235523  ",
      "text/html": "<div>\n<style scoped>\n    .dataframe tbody tr th:only-of-type {\n        vertical-align: middle;\n    }\n\n    .dataframe tbody tr th {\n        vertical-align: top;\n    }\n\n    .dataframe thead th {\n        text-align: right;\n    }\n</style>\n<table border=\"1\" class=\"dataframe\">\n  <thead>\n    <tr style=\"text-align: right;\">\n      <th>dfozone</th>\n      <th>Year</th>\n      <th>2_3</th>\n      <th>2_4</th>\n      <th>3_1</th>\n      <th>3_2</th>\n      <th>3_3</th>\n      <th>3_4</th>\n      <th>3_5</th>\n    </tr>\n  </thead>\n  <tbody>\n    <tr>\n      <th>0</th>\n      <td>2004</td>\n      <td>NaN</td>\n      <td>NaN</td>\n      <td>NaN</td>\n      <td>NaN</td>\n      <td>5.516735</td>\n      <td>NaN</td>\n      <td>NaN</td>\n    </tr>\n    <tr>\n      <th>1</th>\n      <td>2005</td>\n      <td>1.024760</td>\n      <td>0.481102</td>\n      <td>0.106337</td>\n      <td>1.523956</td>\n      <td>1.403539</td>\n      <td>0.773191</td>\n      <td>0.234109</td>\n    </tr>\n    <tr>\n      <th>2</th>\n      <td>2006</td>\n      <td>2.139605</td>\n      <td>0.597383</td>\n      <td>0.121585</td>\n      <td>1.459378</td>\n      <td>0.895611</td>\n      <td>0.875623</td>\n      <td>0.157166</td>\n    </tr>\n    <tr>\n      <th>3</th>\n      <td>2007</td>\n      <td>1.054143</td>\n      <td>0.497624</td>\n      <td>NaN</td>\n      <td>0.513928</td>\n      <td>0.456994</td>\n      <td>0.969694</td>\n      <td>0.199435</td>\n    </tr>\n    <tr>\n      <th>4</th>\n      <td>2008</td>\n      <td>1.043221</td>\n      <td>0.402736</td>\n      <td>NaN</td>\n      <td>1.719096</td>\n      <td>0.268074</td>\n      <td>0.994317</td>\n      <td>0.235523</td>\n    </tr>\n  </tbody>\n</table>\n</div>"
     },
     "execution_count": 6,
     "metadata": {},
     "output_type": "execute_result"
    }
   ],
   "source": [
    "year_zone_abundance_df = pd.pivot_table(farm_year_weight_df, values='mean_weighted_lep_motile_ab',\n",
    "                                        index='Year', columns='dfozone', aggfunc='first').reset_index()\n",
    "\n",
    "year_zone_abundance_df.head()"
   ],
   "metadata": {
    "collapsed": false,
    "pycharm": {
     "name": "#%%\n"
    }
   }
  },
  {
   "cell_type": "code",
   "execution_count": 7,
   "outputs": [
    {
     "data": {
      "text/plain": "dfozone  Year       2.3       2.4       3.1       3.2       3.3       3.4  \\\n0        2004       NaN       NaN       NaN       NaN  5.516735       NaN   \n1        2005  1.024760  0.481102  0.106337  1.523956  1.403539  0.773191   \n2        2006  2.139605  0.597383  0.121585  1.459378  0.895611  0.875623   \n3        2007  1.054143  0.497624       NaN  0.513928  0.456994  0.969694   \n4        2008  1.043221  0.402736       NaN  1.719096  0.268074  0.994317   \n\ndfozone       3.5  \n0             NaN  \n1        0.234109  \n2        0.157166  \n3        0.199435  \n4        0.235523  ",
      "text/html": "<div>\n<style scoped>\n    .dataframe tbody tr th:only-of-type {\n        vertical-align: middle;\n    }\n\n    .dataframe tbody tr th {\n        vertical-align: top;\n    }\n\n    .dataframe thead th {\n        text-align: right;\n    }\n</style>\n<table border=\"1\" class=\"dataframe\">\n  <thead>\n    <tr style=\"text-align: right;\">\n      <th>dfozone</th>\n      <th>Year</th>\n      <th>2.3</th>\n      <th>2.4</th>\n      <th>3.1</th>\n      <th>3.2</th>\n      <th>3.3</th>\n      <th>3.4</th>\n      <th>3.5</th>\n    </tr>\n  </thead>\n  <tbody>\n    <tr>\n      <th>0</th>\n      <td>2004</td>\n      <td>NaN</td>\n      <td>NaN</td>\n      <td>NaN</td>\n      <td>NaN</td>\n      <td>5.516735</td>\n      <td>NaN</td>\n      <td>NaN</td>\n    </tr>\n    <tr>\n      <th>1</th>\n      <td>2005</td>\n      <td>1.024760</td>\n      <td>0.481102</td>\n      <td>0.106337</td>\n      <td>1.523956</td>\n      <td>1.403539</td>\n      <td>0.773191</td>\n      <td>0.234109</td>\n    </tr>\n    <tr>\n      <th>2</th>\n      <td>2006</td>\n      <td>2.139605</td>\n      <td>0.597383</td>\n      <td>0.121585</td>\n      <td>1.459378</td>\n      <td>0.895611</td>\n      <td>0.875623</td>\n      <td>0.157166</td>\n    </tr>\n    <tr>\n      <th>3</th>\n      <td>2007</td>\n      <td>1.054143</td>\n      <td>0.497624</td>\n      <td>NaN</td>\n      <td>0.513928</td>\n      <td>0.456994</td>\n      <td>0.969694</td>\n      <td>0.199435</td>\n    </tr>\n    <tr>\n      <th>4</th>\n      <td>2008</td>\n      <td>1.043221</td>\n      <td>0.402736</td>\n      <td>NaN</td>\n      <td>1.719096</td>\n      <td>0.268074</td>\n      <td>0.994317</td>\n      <td>0.235523</td>\n    </tr>\n  </tbody>\n</table>\n</div>"
     },
     "execution_count": 7,
     "metadata": {},
     "output_type": "execute_result"
    }
   ],
   "source": [
    "# rename the zones to use '.' instead of '_'\n",
    "zone_rename_dict = {name: name.replace('_', '.') for name in year_zone_abundance_df.columns}\n",
    "\n",
    "year_zone_abundance_df.rename(columns=zone_rename_dict, inplace=True)\n",
    "year_zone_abundance_df.head()"
   ],
   "metadata": {
    "collapsed": false,
    "pycharm": {
     "name": "#%%\n"
    }
   }
  },
  {
   "cell_type": "code",
   "execution_count": 8,
   "outputs": [],
   "source": [
    "# export the table to a CSV\n",
    "year_zone_abundance_df.to_csv(OUTPUT_DIR / 'Table_2_abundance.csv', index=False)"
   ],
   "metadata": {
    "collapsed": false,
    "pycharm": {
     "name": "#%%\n"
    }
   }
  },
  {
   "cell_type": "markdown",
   "source": [
    "## Calculate the number of reported months and number of farms in each zone"
   ],
   "metadata": {
    "collapsed": false,
    "pycharm": {
     "name": "#%% md\n"
    }
   }
  },
  {
   "cell_type": "code",
   "execution_count": 9,
   "outputs": [
    {
     "data": {
      "text/plain": "  dfozone  facility_id\n0     2_3           14\n1     2_4           15\n2     3_1            7\n3     3_2           19\n4     3_3           23",
      "text/html": "<div>\n<style scoped>\n    .dataframe tbody tr th:only-of-type {\n        vertical-align: middle;\n    }\n\n    .dataframe tbody tr th {\n        vertical-align: top;\n    }\n\n    .dataframe thead th {\n        text-align: right;\n    }\n</style>\n<table border=\"1\" class=\"dataframe\">\n  <thead>\n    <tr style=\"text-align: right;\">\n      <th></th>\n      <th>dfozone</th>\n      <th>facility_id</th>\n    </tr>\n  </thead>\n  <tbody>\n    <tr>\n      <th>0</th>\n      <td>2_3</td>\n      <td>14</td>\n    </tr>\n    <tr>\n      <th>1</th>\n      <td>2_4</td>\n      <td>15</td>\n    </tr>\n    <tr>\n      <th>2</th>\n      <td>3_1</td>\n      <td>7</td>\n    </tr>\n    <tr>\n      <th>3</th>\n      <td>3_2</td>\n      <td>19</td>\n    </tr>\n    <tr>\n      <th>4</th>\n      <td>3_3</td>\n      <td>23</td>\n    </tr>\n  </tbody>\n</table>\n</div>"
     },
     "execution_count": 9,
     "metadata": {},
     "output_type": "execute_result"
    }
   ],
   "source": [
    "num_farm_zone_group = farm_df.groupby('dfozone')\n",
    "num_farms_in_zone_df = num_farm_zone_group['facility_id'].agg('nunique').reset_index()\n",
    "\n",
    "num_farms_in_zone_df.head()"
   ],
   "metadata": {
    "collapsed": false,
    "pycharm": {
     "name": "#%%\n"
    }
   }
  },
  {
   "cell_type": "code",
   "execution_count": 10,
   "outputs": [
    {
     "data": {
      "text/plain": "  dfozone  count      label\n0     2_3     14  Farms (N)\n1     2_4     15  Farms (N)\n2     3_1      7  Farms (N)\n3     3_2     19  Farms (N)\n4     3_3     23  Farms (N)",
      "text/html": "<div>\n<style scoped>\n    .dataframe tbody tr th:only-of-type {\n        vertical-align: middle;\n    }\n\n    .dataframe tbody tr th {\n        vertical-align: top;\n    }\n\n    .dataframe thead th {\n        text-align: right;\n    }\n</style>\n<table border=\"1\" class=\"dataframe\">\n  <thead>\n    <tr style=\"text-align: right;\">\n      <th></th>\n      <th>dfozone</th>\n      <th>count</th>\n      <th>label</th>\n    </tr>\n  </thead>\n  <tbody>\n    <tr>\n      <th>0</th>\n      <td>2_3</td>\n      <td>14</td>\n      <td>Farms (N)</td>\n    </tr>\n    <tr>\n      <th>1</th>\n      <td>2_4</td>\n      <td>15</td>\n      <td>Farms (N)</td>\n    </tr>\n    <tr>\n      <th>2</th>\n      <td>3_1</td>\n      <td>7</td>\n      <td>Farms (N)</td>\n    </tr>\n    <tr>\n      <th>3</th>\n      <td>3_2</td>\n      <td>19</td>\n      <td>Farms (N)</td>\n    </tr>\n    <tr>\n      <th>4</th>\n      <td>3_3</td>\n      <td>23</td>\n      <td>Farms (N)</td>\n    </tr>\n  </tbody>\n</table>\n</div>"
     },
     "execution_count": 10,
     "metadata": {},
     "output_type": "execute_result"
    }
   ],
   "source": [
    "num_farms_in_zone_df['label'] = 'Farms (N)'\n",
    "num_farms_in_zone_df.rename(columns={'facility_id': 'count'}, inplace=True)\n",
    "num_farms_in_zone_df.head()"
   ],
   "metadata": {
    "collapsed": false,
    "pycharm": {
     "name": "#%%\n"
    }
   }
  },
  {
   "cell_type": "code",
   "execution_count": 11,
   "outputs": [
    {
     "data": {
      "text/plain": "  dfozone  month\n0     2_3    609\n1     2_4    604\n2     3_1    224\n3     3_2    598\n4     3_3    979",
      "text/html": "<div>\n<style scoped>\n    .dataframe tbody tr th:only-of-type {\n        vertical-align: middle;\n    }\n\n    .dataframe tbody tr th {\n        vertical-align: top;\n    }\n\n    .dataframe thead th {\n        text-align: right;\n    }\n</style>\n<table border=\"1\" class=\"dataframe\">\n  <thead>\n    <tr style=\"text-align: right;\">\n      <th></th>\n      <th>dfozone</th>\n      <th>month</th>\n    </tr>\n  </thead>\n  <tbody>\n    <tr>\n      <th>0</th>\n      <td>2_3</td>\n      <td>609</td>\n    </tr>\n    <tr>\n      <th>1</th>\n      <td>2_4</td>\n      <td>604</td>\n    </tr>\n    <tr>\n      <th>2</th>\n      <td>3_1</td>\n      <td>224</td>\n    </tr>\n    <tr>\n      <th>3</th>\n      <td>3_2</td>\n      <td>598</td>\n    </tr>\n    <tr>\n      <th>4</th>\n      <td>3_3</td>\n      <td>979</td>\n    </tr>\n  </tbody>\n</table>\n</div>"
     },
     "execution_count": 11,
     "metadata": {},
     "output_type": "execute_result"
    }
   ],
   "source": [
    "# only select months where the number of fish sampled is more than 0\n",
    "num_months_zone_group = farm_df[farm_df.fishselected > 0].groupby('dfozone')\n",
    "num_months_in_zone_df = num_months_zone_group['month'].agg('count').reset_index()\n",
    "\n",
    "num_months_in_zone_df.head()"
   ],
   "metadata": {
    "collapsed": false,
    "pycharm": {
     "name": "#%%\n"
    }
   }
  },
  {
   "cell_type": "code",
   "execution_count": 12,
   "outputs": [
    {
     "data": {
      "text/plain": "  dfozone  count       label\n0     2_3    609  Months (N)\n1     2_4    604  Months (N)\n2     3_1    224  Months (N)\n3     3_2    598  Months (N)\n4     3_3    979  Months (N)",
      "text/html": "<div>\n<style scoped>\n    .dataframe tbody tr th:only-of-type {\n        vertical-align: middle;\n    }\n\n    .dataframe tbody tr th {\n        vertical-align: top;\n    }\n\n    .dataframe thead th {\n        text-align: right;\n    }\n</style>\n<table border=\"1\" class=\"dataframe\">\n  <thead>\n    <tr style=\"text-align: right;\">\n      <th></th>\n      <th>dfozone</th>\n      <th>count</th>\n      <th>label</th>\n    </tr>\n  </thead>\n  <tbody>\n    <tr>\n      <th>0</th>\n      <td>2_3</td>\n      <td>609</td>\n      <td>Months (N)</td>\n    </tr>\n    <tr>\n      <th>1</th>\n      <td>2_4</td>\n      <td>604</td>\n      <td>Months (N)</td>\n    </tr>\n    <tr>\n      <th>2</th>\n      <td>3_1</td>\n      <td>224</td>\n      <td>Months (N)</td>\n    </tr>\n    <tr>\n      <th>3</th>\n      <td>3_2</td>\n      <td>598</td>\n      <td>Months (N)</td>\n    </tr>\n    <tr>\n      <th>4</th>\n      <td>3_3</td>\n      <td>979</td>\n      <td>Months (N)</td>\n    </tr>\n  </tbody>\n</table>\n</div>"
     },
     "execution_count": 12,
     "metadata": {},
     "output_type": "execute_result"
    }
   ],
   "source": [
    "num_months_in_zone_df['label'] = 'Months (N)'\n",
    "num_months_in_zone_df.rename(columns={'month': 'count'}, inplace=True)\n",
    "num_months_in_zone_df.head()"
   ],
   "metadata": {
    "collapsed": false,
    "pycharm": {
     "name": "#%%\n"
    }
   }
  },
  {
   "cell_type": "code",
   "execution_count": 13,
   "outputs": [],
   "source": [
    "num_months_farms_df = pd.concat([num_farms_in_zone_df, num_months_in_zone_df])"
   ],
   "metadata": {
    "collapsed": false,
    "pycharm": {
     "name": "#%%\n"
    }
   }
  },
  {
   "cell_type": "code",
   "execution_count": 14,
   "outputs": [
    {
     "data": {
      "text/plain": "dfozone       label  2_3  2_4  3_1  3_2  3_3  3_4  3_5\n0         Farms (N)   14   15    7   19   23   10    8\n1        Months (N)  609  604  224  598  979  347  259",
      "text/html": "<div>\n<style scoped>\n    .dataframe tbody tr th:only-of-type {\n        vertical-align: middle;\n    }\n\n    .dataframe tbody tr th {\n        vertical-align: top;\n    }\n\n    .dataframe thead th {\n        text-align: right;\n    }\n</style>\n<table border=\"1\" class=\"dataframe\">\n  <thead>\n    <tr style=\"text-align: right;\">\n      <th>dfozone</th>\n      <th>label</th>\n      <th>2_3</th>\n      <th>2_4</th>\n      <th>3_1</th>\n      <th>3_2</th>\n      <th>3_3</th>\n      <th>3_4</th>\n      <th>3_5</th>\n    </tr>\n  </thead>\n  <tbody>\n    <tr>\n      <th>0</th>\n      <td>Farms (N)</td>\n      <td>14</td>\n      <td>15</td>\n      <td>7</td>\n      <td>19</td>\n      <td>23</td>\n      <td>10</td>\n      <td>8</td>\n    </tr>\n    <tr>\n      <th>1</th>\n      <td>Months (N)</td>\n      <td>609</td>\n      <td>604</td>\n      <td>224</td>\n      <td>598</td>\n      <td>979</td>\n      <td>347</td>\n      <td>259</td>\n    </tr>\n  </tbody>\n</table>\n</div>"
     },
     "execution_count": 14,
     "metadata": {},
     "output_type": "execute_result"
    }
   ],
   "source": [
    "num_per_zone_df = pd.pivot_table(num_months_farms_df, values='count', index='label', columns=['dfozone'],\n",
    "                                 aggfunc='first', fill_value=0).reset_index()\n",
    "\n",
    "num_per_zone_df.head()"
   ],
   "metadata": {
    "collapsed": false,
    "pycharm": {
     "name": "#%%\n"
    }
   }
  },
  {
   "cell_type": "code",
   "execution_count": 15,
   "outputs": [],
   "source": [
    "# export the table to a CSV file\n",
    "num_per_zone_df.to_csv(OUTPUT_DIR / 'Table_2_months_farms.csv')"
   ],
   "metadata": {
    "collapsed": false,
    "pycharm": {
     "name": "#%%\n"
    }
   }
  },
  {
   "cell_type": "code",
   "execution_count": 15,
   "outputs": [],
   "source": [],
   "metadata": {
    "collapsed": false,
    "pycharm": {
     "name": "#%%\n"
    }
   }
  }
 ],
 "metadata": {
  "kernelspec": {
   "display_name": "Python 3",
   "language": "python",
   "name": "python3"
  },
  "language_info": {
   "codemirror_mode": {
    "name": "ipython",
    "version": 2
   },
   "file_extension": ".py",
   "mimetype": "text/x-python",
   "name": "python",
   "nbconvert_exporter": "python",
   "pygments_lexer": "ipython2",
   "version": "2.7.6"
  }
 },
 "nbformat": 4,
 "nbformat_minor": 0
}