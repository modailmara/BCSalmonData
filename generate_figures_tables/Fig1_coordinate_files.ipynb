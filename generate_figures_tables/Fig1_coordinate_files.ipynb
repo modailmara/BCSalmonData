{
 "cells": [
  {
   "cell_type": "markdown",
   "id": "dcd6a56c",
   "metadata": {
    "pycharm": {
     "name": "#%% md\n"
    }
   },
   "source": [
    "## This notebook creates CSV files with latitude/longitude locations of farms and wild sample sites.\n",
    "The output files can be used to import into mapping software. We used them in QGIS to create figure 1."
   ]
  },
  {
   "cell_type": "code",
   "execution_count": 1,
   "outputs": [],
   "source": [
    "import pandas as pd\n",
    "from pathlib import Path"
   ],
   "metadata": {
    "collapsed": false,
    "pycharm": {
     "name": "#%%\n"
    }
   }
  },
  {
   "cell_type": "code",
   "execution_count": 2,
   "id": "ffe7de27",
   "metadata": {
    "pycharm": {
     "name": "#%%\n"
    }
   },
   "outputs": [],
   "source": [
    "DATA_DIR = Path('..') / 'source_data'\n",
    "OUTPUT_DIR = Path('..') / 'output' / 'Figure_1'"
   ]
  },
  {
   "cell_type": "markdown",
   "id": "2ed4ce7f",
   "metadata": {
    "pycharm": {
     "name": "#%% md\n"
    }
   },
   "source": [
    "## Create farm location files"
   ]
  },
  {
   "cell_type": "markdown",
   "id": "ee6fd421",
   "metadata": {
    "pycharm": {
     "name": "#%% md\n"
    }
   },
   "source": [
    "One file per DFO fish health zone for farm sites. This allows colour coding on the map."
   ]
  },
  {
   "cell_type": "code",
   "execution_count": 3,
   "id": "84b4b5be",
   "metadata": {
    "pycharm": {
     "name": "#%%\n"
    }
   },
   "outputs": [
    {
     "data": {
      "text/plain": "   facility_id             name dfozone   latitude   longitude  \\\n0            1         Ahlstrom     3_1  49.778527 -124.154337   \n1            2  Alexander Inlet     3_5  52.676480 -128.574940   \n2            3         Althorpe     3_2  50.472800 -125.808583   \n3            5    Arrow Passage     3_3  50.709400 -126.662967   \n4            7         Atrevida     2_4  49.656067 -126.453783   \n\n            company                                     region_name  \n0             Grieg                        Jervis and Sechelt Inlet  \n1  MOWI Canada West                                          Klemtu  \n2  MOWI Canada West                               Discovery Islands  \n3  MOWI Canada West                           Broughton Archipelago  \n4             Grieg  Nootka / Muchalet Inlet / Esperanza / Quatsino  ",
      "text/html": "<div>\n<style scoped>\n    .dataframe tbody tr th:only-of-type {\n        vertical-align: middle;\n    }\n\n    .dataframe tbody tr th {\n        vertical-align: top;\n    }\n\n    .dataframe thead th {\n        text-align: right;\n    }\n</style>\n<table border=\"1\" class=\"dataframe\">\n  <thead>\n    <tr style=\"text-align: right;\">\n      <th></th>\n      <th>facility_id</th>\n      <th>name</th>\n      <th>dfozone</th>\n      <th>latitude</th>\n      <th>longitude</th>\n      <th>company</th>\n      <th>region_name</th>\n    </tr>\n  </thead>\n  <tbody>\n    <tr>\n      <th>0</th>\n      <td>1</td>\n      <td>Ahlstrom</td>\n      <td>3_1</td>\n      <td>49.778527</td>\n      <td>-124.154337</td>\n      <td>Grieg</td>\n      <td>Jervis and Sechelt Inlet</td>\n    </tr>\n    <tr>\n      <th>1</th>\n      <td>2</td>\n      <td>Alexander Inlet</td>\n      <td>3_5</td>\n      <td>52.676480</td>\n      <td>-128.574940</td>\n      <td>MOWI Canada West</td>\n      <td>Klemtu</td>\n    </tr>\n    <tr>\n      <th>2</th>\n      <td>3</td>\n      <td>Althorpe</td>\n      <td>3_2</td>\n      <td>50.472800</td>\n      <td>-125.808583</td>\n      <td>MOWI Canada West</td>\n      <td>Discovery Islands</td>\n    </tr>\n    <tr>\n      <th>3</th>\n      <td>5</td>\n      <td>Arrow Passage</td>\n      <td>3_3</td>\n      <td>50.709400</td>\n      <td>-126.662967</td>\n      <td>MOWI Canada West</td>\n      <td>Broughton Archipelago</td>\n    </tr>\n    <tr>\n      <th>4</th>\n      <td>7</td>\n      <td>Atrevida</td>\n      <td>2_4</td>\n      <td>49.656067</td>\n      <td>-126.453783</td>\n      <td>Grieg</td>\n      <td>Nootka / Muchalet Inlet / Esperanza / Quatsino</td>\n    </tr>\n  </tbody>\n</table>\n</div>"
     },
     "execution_count": 3,
     "metadata": {},
     "output_type": "execute_result"
    }
   ],
   "source": [
    "# get the farm data\n",
    "farm_df = pd.read_csv(DATA_DIR / 'industry_farm_details.csv')\n",
    "farm_df.head()"
   ]
  },
  {
   "cell_type": "code",
   "execution_count": 4,
   "id": "aa8ad6e5",
   "metadata": {
    "pycharm": {
     "name": "#%%\n"
    }
   },
   "outputs": [],
   "source": [
    "for zone in farm_df.dfozone.unique():\n",
    "    zone_farm_df = farm_df[farm_df.dfozone == zone]\n",
    "    \n",
    "    # only need location fields. Leave the name in for reference as well.\n",
    "    zone_farm_df = zone_farm_df.reindex(columns=['name', 'latitude', 'longitude'])\n",
    "    \n",
    "    # write out to a new file for this zone\n",
    "    path = OUTPUT_DIR / \"{}_farm.csv\".format(zone)\n",
    "    zone_farm_df.to_csv(path, index=False)"
   ]
  },
  {
   "cell_type": "markdown",
   "id": "87853d19",
   "metadata": {
    "pycharm": {
     "name": "#%% md\n"
    }
   },
   "source": [
    "## Create wild sampling location files"
   ]
  },
  {
   "cell_type": "markdown",
   "id": "f65a3fa2",
   "metadata": {
    "pycharm": {
     "name": "#%% md\n"
    }
   },
   "source": [
    "One file per DFO fish health zone for all the wild sampling sites. This allows colour coding on the map."
   ]
  },
  {
   "cell_type": "code",
   "execution_count": 5,
   "id": "c0c667ed",
   "metadata": {
    "pycharm": {
     "name": "#%%\n"
    }
   },
   "outputs": [
    {
     "data": {
      "text/plain": "  event_id sampledate                 region dfozone   sample_site  latitude  \\\n0     bc_1 2003-05-13  Broughton Archipelago     3_3  Adeane Point  50.71978   \n1     bc_2 2003-05-21  Broughton Archipelago     3_3  Adeane Point  50.71978   \n2     bc_3 2003-05-26  Broughton Archipelago     3_3  Adeane Point   50.7197   \n3     bc_4 2003-06-02  Broughton Archipelago     3_3  Adeane Point   50.7197   \n4     bc_5 2003-05-13  Broughton Archipelago     3_3  Adeane Point   50.7384   \n\n   longitude                       source source_code  \n0 -125.67950  Fisheries and Oceans Canada         DFO  \n1 -125.67950  Fisheries and Oceans Canada         DFO  \n2 -125.67950  Fisheries and Oceans Canada         DFO  \n3 -125.67950  Fisheries and Oceans Canada         DFO  \n4 -125.67985  Fisheries and Oceans Canada         DFO  ",
      "text/html": "<div>\n<style scoped>\n    .dataframe tbody tr th:only-of-type {\n        vertical-align: middle;\n    }\n\n    .dataframe tbody tr th {\n        vertical-align: top;\n    }\n\n    .dataframe thead th {\n        text-align: right;\n    }\n</style>\n<table border=\"1\" class=\"dataframe\">\n  <thead>\n    <tr style=\"text-align: right;\">\n      <th></th>\n      <th>event_id</th>\n      <th>sampledate</th>\n      <th>region</th>\n      <th>dfozone</th>\n      <th>sample_site</th>\n      <th>latitude</th>\n      <th>longitude</th>\n      <th>source</th>\n      <th>source_code</th>\n    </tr>\n  </thead>\n  <tbody>\n    <tr>\n      <th>0</th>\n      <td>bc_1</td>\n      <td>2003-05-13</td>\n      <td>Broughton Archipelago</td>\n      <td>3_3</td>\n      <td>Adeane Point</td>\n      <td>50.71978</td>\n      <td>-125.67950</td>\n      <td>Fisheries and Oceans Canada</td>\n      <td>DFO</td>\n    </tr>\n    <tr>\n      <th>1</th>\n      <td>bc_2</td>\n      <td>2003-05-21</td>\n      <td>Broughton Archipelago</td>\n      <td>3_3</td>\n      <td>Adeane Point</td>\n      <td>50.71978</td>\n      <td>-125.67950</td>\n      <td>Fisheries and Oceans Canada</td>\n      <td>DFO</td>\n    </tr>\n    <tr>\n      <th>2</th>\n      <td>bc_3</td>\n      <td>2003-05-26</td>\n      <td>Broughton Archipelago</td>\n      <td>3_3</td>\n      <td>Adeane Point</td>\n      <td>50.7197</td>\n      <td>-125.67950</td>\n      <td>Fisheries and Oceans Canada</td>\n      <td>DFO</td>\n    </tr>\n    <tr>\n      <th>3</th>\n      <td>bc_4</td>\n      <td>2003-06-02</td>\n      <td>Broughton Archipelago</td>\n      <td>3_3</td>\n      <td>Adeane Point</td>\n      <td>50.7197</td>\n      <td>-125.67950</td>\n      <td>Fisheries and Oceans Canada</td>\n      <td>DFO</td>\n    </tr>\n    <tr>\n      <th>4</th>\n      <td>bc_5</td>\n      <td>2003-05-13</td>\n      <td>Broughton Archipelago</td>\n      <td>3_3</td>\n      <td>Adeane Point</td>\n      <td>50.7384</td>\n      <td>-125.67985</td>\n      <td>Fisheries and Oceans Canada</td>\n      <td>DFO</td>\n    </tr>\n  </tbody>\n</table>\n</div>"
     },
     "execution_count": 5,
     "metadata": {},
     "output_type": "execute_result"
    }
   ],
   "source": [
    "wild_events_df = pd.read_csv(DATA_DIR / \"all_wild_sample_events.csv\", parse_dates=['sampledate'])\n",
    "wild_events_df.head()"
   ]
  },
  {
   "cell_type": "code",
   "execution_count": 6,
   "id": "ff81723a",
   "metadata": {
    "pycharm": {
     "name": "#%%\n"
    }
   },
   "outputs": [],
   "source": [
    "for zone in wild_events_df.dfozone.unique():\n",
    "    zone_wild_df = wild_events_df[wild_events_df.dfozone == zone]\n",
    "    \n",
    "    # only need location fields. Leave the name in for reference as well.\n",
    "    zone_wild_df = zone_wild_df.reindex(columns=['sample_site', 'latitude', 'longitude'])\n",
    "    \n",
    "    # There will be duplicates as the same locations are sampled.\n",
    "    # Remove them as each site only needs to be shown once.\n",
    "    zone_wild_df.drop_duplicates(inplace=True)\n",
    "\n",
    "    # Write out to a file for this zone\n",
    "    zone_wild_df.to_csv(OUTPUT_DIR / \"{}_wild.csv\".format(zone), index=False)"
   ]
  },
  {
   "cell_type": "code",
   "execution_count": 6,
   "id": "bbecc4ec",
   "metadata": {
    "pycharm": {
     "name": "#%%\n"
    }
   },
   "outputs": [],
   "source": []
  }
 ],
 "metadata": {
  "kernelspec": {
   "display_name": "Python 3 (ipykernel)",
   "language": "python",
   "name": "python3"
  },
  "language_info": {
   "codemirror_mode": {
    "name": "ipython",
    "version": 3
   },
   "file_extension": ".py",
   "mimetype": "text/x-python",
   "name": "python",
   "nbconvert_exporter": "python",
   "pygments_lexer": "ipython3",
   "version": "3.9.7"
  }
 },
 "nbformat": 4,
 "nbformat_minor": 5
}