{
 "cells": [
  {
   "cell_type": "markdown",
   "source": [
    "## This Notebook generates a CSV for Table 1b\n",
    "The table shows the number of wild fish sampled by each organisation.\n",
    "The CSV has the structure of Table 1b, except for the Total row at the bottom. The presentation and the Total row as in the paper was done in another tool."
   ],
   "metadata": {
    "collapsed": false,
    "pycharm": {
     "name": "#%% md\n"
    }
   }
  },
  {
   "cell_type": "code",
   "execution_count": 11,
   "outputs": [],
   "source": [
    "from pathlib import Path\n",
    "import pandas as pd"
   ],
   "metadata": {
    "collapsed": false,
    "pycharm": {
     "name": "#%%\n"
    }
   }
  },
  {
   "cell_type": "code",
   "execution_count": 12,
   "outputs": [],
   "source": [
    "# define data location constants\n",
    "DATA_DIR = Path('..') / 'source_data'\n",
    "WILD_FISH_DATA = DATA_DIR / 'all_wild_fish_lice.csv'\n",
    "WILD_EVENT_DATA = DATA_DIR / 'all_wild_sample_events.csv'\n",
    "\n",
    "OUTPUT_DIR = Path('..') / 'output' / 'Table_1b'"
   ],
   "metadata": {
    "collapsed": false,
    "pycharm": {
     "name": "#%%\n"
    }
   }
  },
  {
   "cell_type": "code",
   "execution_count": 13,
   "outputs": [],
   "source": [
    "# import and merge the data\n",
    "events_df = pd.read_csv(WILD_EVENT_DATA, parse_dates=['sampledate'])\n",
    "fish_df = pd.read_csv(WILD_FISH_DATA)\n",
    "\n",
    "wild_df = pd.merge(events_df, fish_df, on='event_id', how='left')"
   ],
   "metadata": {
    "collapsed": false,
    "pycharm": {
     "name": "#%%\n"
    }
   }
  },
  {
   "cell_type": "markdown",
   "source": [
    "## Calculate the fish sampled each year by each sampling organisation"
   ],
   "metadata": {
    "collapsed": false,
    "pycharm": {
     "name": "#%% md\n"
    }
   }
  },
  {
   "cell_type": "code",
   "execution_count": 14,
   "outputs": [],
   "source": [
    "# make a year column\n",
    "wild_df['Year'] = wild_df.sampledate.dt.year"
   ],
   "metadata": {
    "collapsed": false,
    "pycharm": {
     "name": "#%%\n"
    }
   }
  },
  {
   "cell_type": "code",
   "execution_count": 15,
   "outputs": [
    {
     "data": {
      "text/plain": "source  Year  Broughton Archipelago Monitoring Plan  \\\n0       2001                                      0   \n1       2002                                      0   \n2       2003                                      0   \n3       2004                                      0   \n4       2005                                      0   \n\nsource  Fisheries and Oceans Canada  Kitasoo First Nation  \\\n0                                 0                     0   \n1                                 0                     0   \n2                             29472                     0   \n3                              8657                     0   \n4                              6198                   192   \n\nsource  Mainstream Biological Consulting  \\\n0                                      0   \n1                                      0   \n2                                      0   \n3                                      0   \n4                                      0   \n\nsource  Marine Environmental Research Program  Marty Krkosek  \\\n0                                           0              0   \n1                                           0              0   \n2                                         535           4333   \n3                                        4065          11575   \n4                                        3422              0   \n\nsource  Pacificus Biological Services  \\\n0                                   0   \n1                                   0   \n2                                   0   \n3                                   0   \n4                                   0   \n\nsource  Salmon Coast Field Station / Raincoast Research  \n0                                                   268  \n1                                                   564  \n2                                                   676  \n3                                                  1087  \n4                                                  2084  ",
      "text/html": "<div>\n<style scoped>\n    .dataframe tbody tr th:only-of-type {\n        vertical-align: middle;\n    }\n\n    .dataframe tbody tr th {\n        vertical-align: top;\n    }\n\n    .dataframe thead th {\n        text-align: right;\n    }\n</style>\n<table border=\"1\" class=\"dataframe\">\n  <thead>\n    <tr style=\"text-align: right;\">\n      <th>source</th>\n      <th>Year</th>\n      <th>Broughton Archipelago Monitoring Plan</th>\n      <th>Fisheries and Oceans Canada</th>\n      <th>Kitasoo First Nation</th>\n      <th>Mainstream Biological Consulting</th>\n      <th>Marine Environmental Research Program</th>\n      <th>Marty Krkosek</th>\n      <th>Pacificus Biological Services</th>\n      <th>Salmon Coast Field Station / Raincoast Research</th>\n    </tr>\n  </thead>\n  <tbody>\n    <tr>\n      <th>0</th>\n      <td>2001</td>\n      <td>0</td>\n      <td>0</td>\n      <td>0</td>\n      <td>0</td>\n      <td>0</td>\n      <td>0</td>\n      <td>0</td>\n      <td>268</td>\n    </tr>\n    <tr>\n      <th>1</th>\n      <td>2002</td>\n      <td>0</td>\n      <td>0</td>\n      <td>0</td>\n      <td>0</td>\n      <td>0</td>\n      <td>0</td>\n      <td>0</td>\n      <td>564</td>\n    </tr>\n    <tr>\n      <th>2</th>\n      <td>2003</td>\n      <td>0</td>\n      <td>29472</td>\n      <td>0</td>\n      <td>0</td>\n      <td>535</td>\n      <td>4333</td>\n      <td>0</td>\n      <td>676</td>\n    </tr>\n    <tr>\n      <th>3</th>\n      <td>2004</td>\n      <td>0</td>\n      <td>8657</td>\n      <td>0</td>\n      <td>0</td>\n      <td>4065</td>\n      <td>11575</td>\n      <td>0</td>\n      <td>1087</td>\n    </tr>\n    <tr>\n      <th>4</th>\n      <td>2005</td>\n      <td>0</td>\n      <td>6198</td>\n      <td>192</td>\n      <td>0</td>\n      <td>3422</td>\n      <td>0</td>\n      <td>0</td>\n      <td>2084</td>\n    </tr>\n  </tbody>\n</table>\n</div>"
     },
     "execution_count": 15,
     "metadata": {},
     "output_type": "execute_result"
    }
   ],
   "source": [
    "# pivot and count to get counts of each species of fish each year\n",
    "year_source_df = pd.pivot_table(wild_df, values='fish_id', index='Year', columns=['source'],\n",
    "                                 aggfunc='count', fill_value=0).reset_index()\n",
    "\n",
    "year_source_df.head()"
   ],
   "metadata": {
    "collapsed": false,
    "pycharm": {
     "name": "#%%\n"
    }
   }
  },
  {
   "cell_type": "code",
   "execution_count": 16,
   "outputs": [
    {
     "data": {
      "text/plain": "Index(['Year', 'Broughton Archipelago Monitoring Plan',\n       'Fisheries and Oceans Canada', 'Kitasoo First Nation',\n       'Mainstream Biological Consulting',\n       'Marine Environmental Research Program', 'Marty Krkosek',\n       'Pacificus Biological Services',\n       'Salmon Coast Field Station / Raincoast Research'],\n      dtype='object', name='source')"
     },
     "execution_count": 16,
     "metadata": {},
     "output_type": "execute_result"
    }
   ],
   "source": [
    "year_source_df.columns"
   ],
   "metadata": {
    "collapsed": false,
    "pycharm": {
     "name": "#%%\n"
    }
   }
  },
  {
   "cell_type": "code",
   "execution_count": 17,
   "outputs": [
    {
     "data": {
      "text/plain": "source  Year   SCS     MK  Kitasoo    DFO  MERP  MBC  Pacificus  BAMP\n0       2001   268      0        0      0     0    0          0     0\n1       2002   564      0        0      0     0    0          0     0\n2       2003   676   4333        0  29472   535    0          0     0\n3       2004  1087  11575        0   8657  4065    0          0     0\n4       2005  2084      0      192   6198  3422    0          0     0",
      "text/html": "<div>\n<style scoped>\n    .dataframe tbody tr th:only-of-type {\n        vertical-align: middle;\n    }\n\n    .dataframe tbody tr th {\n        vertical-align: top;\n    }\n\n    .dataframe thead th {\n        text-align: right;\n    }\n</style>\n<table border=\"1\" class=\"dataframe\">\n  <thead>\n    <tr style=\"text-align: right;\">\n      <th>source</th>\n      <th>Year</th>\n      <th>SCS</th>\n      <th>MK</th>\n      <th>Kitasoo</th>\n      <th>DFO</th>\n      <th>MERP</th>\n      <th>MBC</th>\n      <th>Pacificus</th>\n      <th>BAMP</th>\n    </tr>\n  </thead>\n  <tbody>\n    <tr>\n      <th>0</th>\n      <td>2001</td>\n      <td>268</td>\n      <td>0</td>\n      <td>0</td>\n      <td>0</td>\n      <td>0</td>\n      <td>0</td>\n      <td>0</td>\n      <td>0</td>\n    </tr>\n    <tr>\n      <th>1</th>\n      <td>2002</td>\n      <td>564</td>\n      <td>0</td>\n      <td>0</td>\n      <td>0</td>\n      <td>0</td>\n      <td>0</td>\n      <td>0</td>\n      <td>0</td>\n    </tr>\n    <tr>\n      <th>2</th>\n      <td>2003</td>\n      <td>676</td>\n      <td>4333</td>\n      <td>0</td>\n      <td>29472</td>\n      <td>535</td>\n      <td>0</td>\n      <td>0</td>\n      <td>0</td>\n    </tr>\n    <tr>\n      <th>3</th>\n      <td>2004</td>\n      <td>1087</td>\n      <td>11575</td>\n      <td>0</td>\n      <td>8657</td>\n      <td>4065</td>\n      <td>0</td>\n      <td>0</td>\n      <td>0</td>\n    </tr>\n    <tr>\n      <th>4</th>\n      <td>2005</td>\n      <td>2084</td>\n      <td>0</td>\n      <td>192</td>\n      <td>6198</td>\n      <td>3422</td>\n      <td>0</td>\n      <td>0</td>\n      <td>0</td>\n    </tr>\n  </tbody>\n</table>\n</div>"
     },
     "execution_count": 17,
     "metadata": {},
     "output_type": "execute_result"
    }
   ],
   "source": [
    "# rename the columns for the paper\n",
    "year_source_df.rename(columns={'Broughton Archipelago Monitoring Plan': 'BAMP',\n",
    "                               'Fisheries and Oceans Canada': 'DFO',\n",
    "                               'Kitasoo First Nation': 'Kitasoo',\n",
    "                               'Mainstream Biological Consulting': 'MBC',\n",
    "                               'Marine Environmental Research Program': 'MERP',\n",
    "                               'Marty Krkosek': 'MK',\n",
    "                               'Pacificus Biological Services': 'Pacificus',\n",
    "                               'Salmon Coast Field Station / Raincoast Research': 'SCS'},\n",
    "                      inplace=True)\n",
    "\n",
    "# re-order the columns for presentation purposes\n",
    "year_source_df = year_source_df.reindex(columns=['Year', 'SCS', 'MK', 'Kitasoo', 'DFO', 'MERP', 'MBC', 'Pacificus', 'BAMP'])\n",
    "\n",
    "year_source_df.head()"
   ],
   "metadata": {
    "collapsed": false,
    "pycharm": {
     "name": "#%%\n"
    }
   }
  },
  {
   "cell_type": "markdown",
   "source": [
    "## Calculate the total fish sampled each year"
   ],
   "metadata": {
    "collapsed": false,
    "pycharm": {
     "name": "#%% md\n"
    }
   }
  },
  {
   "cell_type": "code",
   "execution_count": 18,
   "outputs": [
    {
     "data": {
      "text/plain": "Index(['SCS', 'MK', 'Kitasoo', 'DFO', 'MERP', 'MBC', 'Pacificus', 'BAMP'], dtype='object', name='source')"
     },
     "execution_count": 18,
     "metadata": {},
     "output_type": "execute_result"
    }
   ],
   "source": [
    "year_source_df.loc[:, 'SCS':'BAMP'].columns"
   ],
   "metadata": {
    "collapsed": false,
    "pycharm": {
     "name": "#%%\n"
    }
   }
  },
  {
   "cell_type": "code",
   "execution_count": 19,
   "outputs": [
    {
     "data": {
      "text/plain": "source  Year   SCS     MK  Kitasoo    DFO  MERP  MBC  Pacificus  BAMP  \\\n0       2001   268      0        0      0     0    0          0     0   \n1       2002   564      0        0      0     0    0          0     0   \n2       2003   676   4333        0  29472   535    0          0     0   \n3       2004  1087  11575        0   8657  4065    0          0     0   \n4       2005  2084      0      192   6198  3422    0          0     0   \n\nsource  All fish  \n0            268  \n1            564  \n2          35016  \n3          25384  \n4          11896  ",
      "text/html": "<div>\n<style scoped>\n    .dataframe tbody tr th:only-of-type {\n        vertical-align: middle;\n    }\n\n    .dataframe tbody tr th {\n        vertical-align: top;\n    }\n\n    .dataframe thead th {\n        text-align: right;\n    }\n</style>\n<table border=\"1\" class=\"dataframe\">\n  <thead>\n    <tr style=\"text-align: right;\">\n      <th>source</th>\n      <th>Year</th>\n      <th>SCS</th>\n      <th>MK</th>\n      <th>Kitasoo</th>\n      <th>DFO</th>\n      <th>MERP</th>\n      <th>MBC</th>\n      <th>Pacificus</th>\n      <th>BAMP</th>\n      <th>All fish</th>\n    </tr>\n  </thead>\n  <tbody>\n    <tr>\n      <th>0</th>\n      <td>2001</td>\n      <td>268</td>\n      <td>0</td>\n      <td>0</td>\n      <td>0</td>\n      <td>0</td>\n      <td>0</td>\n      <td>0</td>\n      <td>0</td>\n      <td>268</td>\n    </tr>\n    <tr>\n      <th>1</th>\n      <td>2002</td>\n      <td>564</td>\n      <td>0</td>\n      <td>0</td>\n      <td>0</td>\n      <td>0</td>\n      <td>0</td>\n      <td>0</td>\n      <td>0</td>\n      <td>564</td>\n    </tr>\n    <tr>\n      <th>2</th>\n      <td>2003</td>\n      <td>676</td>\n      <td>4333</td>\n      <td>0</td>\n      <td>29472</td>\n      <td>535</td>\n      <td>0</td>\n      <td>0</td>\n      <td>0</td>\n      <td>35016</td>\n    </tr>\n    <tr>\n      <th>3</th>\n      <td>2004</td>\n      <td>1087</td>\n      <td>11575</td>\n      <td>0</td>\n      <td>8657</td>\n      <td>4065</td>\n      <td>0</td>\n      <td>0</td>\n      <td>0</td>\n      <td>25384</td>\n    </tr>\n    <tr>\n      <th>4</th>\n      <td>2005</td>\n      <td>2084</td>\n      <td>0</td>\n      <td>192</td>\n      <td>6198</td>\n      <td>3422</td>\n      <td>0</td>\n      <td>0</td>\n      <td>0</td>\n      <td>11896</td>\n    </tr>\n  </tbody>\n</table>\n</div>"
     },
     "execution_count": 19,
     "metadata": {},
     "output_type": "execute_result"
    }
   ],
   "source": [
    "# make a column for the total fish sampled that year\n",
    "source_list = list(year_source_df)\n",
    "source_list.remove('Year')\n",
    "year_source_df['All fish'] = year_source_df[source_list].sum(axis=1)\n",
    "\n",
    "year_source_df.head()"
   ],
   "metadata": {
    "collapsed": false,
    "pycharm": {
     "name": "#%%\n"
    }
   }
  },
  {
   "cell_type": "code",
   "execution_count": 20,
   "outputs": [],
   "source": [
    "# export the table to a CSV for final formatting\n",
    "year_source_df.to_csv(OUTPUT_DIR / 'Table_1b.csv', index=False)"
   ],
   "metadata": {
    "collapsed": false,
    "pycharm": {
     "name": "#%%\n"
    }
   }
  },
  {
   "cell_type": "code",
   "execution_count": 20,
   "outputs": [],
   "source": [],
   "metadata": {
    "collapsed": false,
    "pycharm": {
     "name": "#%%\n"
    }
   }
  }
 ],
 "metadata": {
  "kernelspec": {
   "display_name": "Python 3",
   "language": "python",
   "name": "python3"
  },
  "language_info": {
   "codemirror_mode": {
    "name": "ipython",
    "version": 2
   },
   "file_extension": ".py",
   "mimetype": "text/x-python",
   "name": "python",
   "nbconvert_exporter": "python",
   "pygments_lexer": "ipython2",
   "version": "2.7.6"
  }
 },
 "nbformat": 4,
 "nbformat_minor": 0
}