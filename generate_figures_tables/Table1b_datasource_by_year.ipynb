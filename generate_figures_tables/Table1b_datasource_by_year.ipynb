{
 "cells": [
  {
   "cell_type": "markdown",
   "source": [
    "## This Notebook generates a CSV for Table 1b\n",
    "The table shows the number of wild fish sampled by each organisation.\n",
    "The CSV has the structure of Table 1b, except for the Total row at the bottom. The presentation and the Total row as in the paper was done in another tool."
   ],
   "metadata": {
    "collapsed": false,
    "pycharm": {
     "name": "#%% md\n"
    }
   }
  },
  {
   "cell_type": "code",
   "execution_count": 64,
   "outputs": [],
   "source": [
    "from pathlib import Path\n",
    "import pandas as pd"
   ],
   "metadata": {
    "collapsed": false,
    "pycharm": {
     "name": "#%%\n"
    }
   }
  },
  {
   "cell_type": "code",
   "execution_count": 65,
   "outputs": [],
   "source": [
    "# define data location constants\n",
    "DATA_DIR = Path('..') / 'source_data'\n",
    "WILD_FISH_DATA = DATA_DIR / 'all_wild_fish_lice.csv'\n",
    "WILD_EVENT_DATA = DATA_DIR / 'all_wild_sample_events.csv'\n",
    "\n",
    "OUTPUT_DIR = Path('..') / 'output' / 'Table_1b'"
   ],
   "metadata": {
    "collapsed": false,
    "pycharm": {
     "name": "#%%\n"
    }
   }
  },
  {
   "cell_type": "code",
   "execution_count": 66,
   "outputs": [
    {
     "name": "stderr",
     "output_type": "stream",
     "text": [
      "/tmp/ipykernel_852789/923700518.py:4: DtypeWarning: Columns (0,1,6,18) have mixed types. Specify dtype option on import or set low_memory=False.\n",
      "  fish_df = pd.read_csv(WILD_FISH_DATA)\n"
     ]
    },
    {
     "data": {
      "text/plain": "  event_id  sampledate                 region dfozone  \\\n0     5666  2017-05-15  Broughton Archipelago     3_3   \n1     5666  2017-05-15  Broughton Archipelago     3_3   \n2     5666  2017-05-15  Broughton Archipelago     3_3   \n3     5666  2017-05-15  Broughton Archipelago     3_3   \n4     5666  2017-05-15  Broughton Archipelago     3_3   \n\n                sample_site           latitude   longitude  \\\n0  Swanson Island Fish Farm  50.61806666666666 -126.701233   \n1  Swanson Island Fish Farm  50.61806666666666 -126.701233   \n2  Swanson Island Fish Farm  50.61806666666666 -126.701233   \n3  Swanson Island Fish Farm  50.61806666666666 -126.701233   \n4  Swanson Island Fish Farm  50.61806666666666 -126.701233   \n\n                             source fish_id  length  ...  lep_unknown  \\\n0  Mainstream Biological Consulting       1    44.0  ...          0.0   \n1  Mainstream Biological Consulting       2    39.0  ...          0.0   \n2  Mainstream Biological Consulting       3    45.0  ...          0.0   \n3  Mainstream Biological Consulting       4    43.0  ...          0.0   \n4  Mainstream Biological Consulting       5    38.0  ...          0.0   \n\n   cal_cop cal_chal cal_motile  cal_unknown  unknown_cop  unknown_chal  \\\n0      0.0      0.0        0.0          0.0          0.0           0.0   \n1      0.0      1.0        0.0          0.0          0.0           0.0   \n2      0.0      2.0        0.0          0.0          0.0           0.0   \n3      0.0      0.0        0.0          0.0          0.0           0.0   \n4      0.0      3.0        0.0          0.0          0.0           0.0   \n\n   unknown_motile  unknown_unknown  lice_protocol  \n0             0.0              0.0            NaN  \n1             0.0              0.0            NaN  \n2             0.0              0.0            NaN  \n3             0.0              0.0            NaN  \n4             0.0              0.0            NaN  \n\n[5 rows x 26 columns]",
      "text/html": "<div>\n<style scoped>\n    .dataframe tbody tr th:only-of-type {\n        vertical-align: middle;\n    }\n\n    .dataframe tbody tr th {\n        vertical-align: top;\n    }\n\n    .dataframe thead th {\n        text-align: right;\n    }\n</style>\n<table border=\"1\" class=\"dataframe\">\n  <thead>\n    <tr style=\"text-align: right;\">\n      <th></th>\n      <th>event_id</th>\n      <th>sampledate</th>\n      <th>region</th>\n      <th>dfozone</th>\n      <th>sample_site</th>\n      <th>latitude</th>\n      <th>longitude</th>\n      <th>source</th>\n      <th>fish_id</th>\n      <th>length</th>\n      <th>...</th>\n      <th>lep_unknown</th>\n      <th>cal_cop</th>\n      <th>cal_chal</th>\n      <th>cal_motile</th>\n      <th>cal_unknown</th>\n      <th>unknown_cop</th>\n      <th>unknown_chal</th>\n      <th>unknown_motile</th>\n      <th>unknown_unknown</th>\n      <th>lice_protocol</th>\n    </tr>\n  </thead>\n  <tbody>\n    <tr>\n      <th>0</th>\n      <td>5666</td>\n      <td>2017-05-15</td>\n      <td>Broughton Archipelago</td>\n      <td>3_3</td>\n      <td>Swanson Island Fish Farm</td>\n      <td>50.61806666666666</td>\n      <td>-126.701233</td>\n      <td>Mainstream Biological Consulting</td>\n      <td>1</td>\n      <td>44.0</td>\n      <td>...</td>\n      <td>0.0</td>\n      <td>0.0</td>\n      <td>0.0</td>\n      <td>0.0</td>\n      <td>0.0</td>\n      <td>0.0</td>\n      <td>0.0</td>\n      <td>0.0</td>\n      <td>0.0</td>\n      <td>NaN</td>\n    </tr>\n    <tr>\n      <th>1</th>\n      <td>5666</td>\n      <td>2017-05-15</td>\n      <td>Broughton Archipelago</td>\n      <td>3_3</td>\n      <td>Swanson Island Fish Farm</td>\n      <td>50.61806666666666</td>\n      <td>-126.701233</td>\n      <td>Mainstream Biological Consulting</td>\n      <td>2</td>\n      <td>39.0</td>\n      <td>...</td>\n      <td>0.0</td>\n      <td>0.0</td>\n      <td>1.0</td>\n      <td>0.0</td>\n      <td>0.0</td>\n      <td>0.0</td>\n      <td>0.0</td>\n      <td>0.0</td>\n      <td>0.0</td>\n      <td>NaN</td>\n    </tr>\n    <tr>\n      <th>2</th>\n      <td>5666</td>\n      <td>2017-05-15</td>\n      <td>Broughton Archipelago</td>\n      <td>3_3</td>\n      <td>Swanson Island Fish Farm</td>\n      <td>50.61806666666666</td>\n      <td>-126.701233</td>\n      <td>Mainstream Biological Consulting</td>\n      <td>3</td>\n      <td>45.0</td>\n      <td>...</td>\n      <td>0.0</td>\n      <td>0.0</td>\n      <td>2.0</td>\n      <td>0.0</td>\n      <td>0.0</td>\n      <td>0.0</td>\n      <td>0.0</td>\n      <td>0.0</td>\n      <td>0.0</td>\n      <td>NaN</td>\n    </tr>\n    <tr>\n      <th>3</th>\n      <td>5666</td>\n      <td>2017-05-15</td>\n      <td>Broughton Archipelago</td>\n      <td>3_3</td>\n      <td>Swanson Island Fish Farm</td>\n      <td>50.61806666666666</td>\n      <td>-126.701233</td>\n      <td>Mainstream Biological Consulting</td>\n      <td>4</td>\n      <td>43.0</td>\n      <td>...</td>\n      <td>0.0</td>\n      <td>0.0</td>\n      <td>0.0</td>\n      <td>0.0</td>\n      <td>0.0</td>\n      <td>0.0</td>\n      <td>0.0</td>\n      <td>0.0</td>\n      <td>0.0</td>\n      <td>NaN</td>\n    </tr>\n    <tr>\n      <th>4</th>\n      <td>5666</td>\n      <td>2017-05-15</td>\n      <td>Broughton Archipelago</td>\n      <td>3_3</td>\n      <td>Swanson Island Fish Farm</td>\n      <td>50.61806666666666</td>\n      <td>-126.701233</td>\n      <td>Mainstream Biological Consulting</td>\n      <td>5</td>\n      <td>38.0</td>\n      <td>...</td>\n      <td>0.0</td>\n      <td>0.0</td>\n      <td>3.0</td>\n      <td>0.0</td>\n      <td>0.0</td>\n      <td>0.0</td>\n      <td>0.0</td>\n      <td>0.0</td>\n      <td>0.0</td>\n      <td>NaN</td>\n    </tr>\n  </tbody>\n</table>\n<p>5 rows × 26 columns</p>\n</div>"
     },
     "execution_count": 66,
     "metadata": {},
     "output_type": "execute_result"
    }
   ],
   "source": [
    "# import and merge the data\n",
    "events_df = pd.read_csv(WILD_EVENT_DATA)\n",
    "events_df['event_id'] = events_df['event_id'].astype(str)\n",
    "fish_df = pd.read_csv(WILD_FISH_DATA)\n",
    "fish_df['event_id'] = fish_df['event_id'].astype(str)\n",
    "\n",
    "wild_df = pd.merge(events_df, fish_df, on='event_id', how='right')\n",
    "wild_df.head()"
   ],
   "metadata": {
    "collapsed": false,
    "pycharm": {
     "name": "#%%\n"
    }
   }
  },
  {
   "cell_type": "markdown",
   "source": [
    "## Calculate the fish sampled each year by each sampling organisation"
   ],
   "metadata": {
    "collapsed": false,
    "pycharm": {
     "name": "#%% md\n"
    }
   }
  },
  {
   "cell_type": "code",
   "execution_count": 67,
   "outputs": [],
   "source": [
    "# make a year column\n",
    "wild_df['sampledate'] = pd.to_datetime(wild_df['sampledate'], errors='coerce', utc=True)\n",
    "wild_df['Year'] = wild_df['sampledate'].dt.year"
   ],
   "metadata": {
    "collapsed": false,
    "pycharm": {
     "name": "#%%\n"
    }
   }
  },
  {
   "cell_type": "code",
   "execution_count": 68,
   "outputs": [
    {
     "data": {
      "text/plain": "source    Year  Broughton Archipelago Monitoring Plan  \\\n0       2001.0                                      0   \n1       2003.0                                      0   \n2       2004.0                                      0   \n3       2005.0                                      0   \n4       2006.0                                      0   \n\nsource  Cedar Coast Field Station  Fisheries and Oceans Canada  \\\n0                               0                            0   \n1                               0                        29472   \n2                               0                         8657   \n3                               0                         6198   \n4                               0                         7360   \n\nsource  Hakai Institute  Kitasoo First Nation  \\\n0                     0                     0   \n1                     0                     0   \n2                     0                     0   \n3                     0                   192   \n4                     0                  1816   \n\nsource  Mainstream Biological Consulting  \\\n0                                      0   \n1                                      0   \n2                                      0   \n3                                      0   \n4                                      0   \n\nsource  Marine Environmental Research Program  Marty Krkosek  \\\n0                                           0              0   \n1                                         535           4333   \n2                                        4065          11575   \n3                                        3422              0   \n4                                        3227          12609   \n\nsource  Pacificus Biological Services  Salmon Coast Field Station  \n0                                   0                           5  \n1                                   0                           0  \n2                                   0                           0  \n3                                   0                           0  \n4                                   0                           0  ",
      "text/html": "<div>\n<style scoped>\n    .dataframe tbody tr th:only-of-type {\n        vertical-align: middle;\n    }\n\n    .dataframe tbody tr th {\n        vertical-align: top;\n    }\n\n    .dataframe thead th {\n        text-align: right;\n    }\n</style>\n<table border=\"1\" class=\"dataframe\">\n  <thead>\n    <tr style=\"text-align: right;\">\n      <th>source</th>\n      <th>Year</th>\n      <th>Broughton Archipelago Monitoring Plan</th>\n      <th>Cedar Coast Field Station</th>\n      <th>Fisheries and Oceans Canada</th>\n      <th>Hakai Institute</th>\n      <th>Kitasoo First Nation</th>\n      <th>Mainstream Biological Consulting</th>\n      <th>Marine Environmental Research Program</th>\n      <th>Marty Krkosek</th>\n      <th>Pacificus Biological Services</th>\n      <th>Salmon Coast Field Station</th>\n    </tr>\n  </thead>\n  <tbody>\n    <tr>\n      <th>0</th>\n      <td>2001.0</td>\n      <td>0</td>\n      <td>0</td>\n      <td>0</td>\n      <td>0</td>\n      <td>0</td>\n      <td>0</td>\n      <td>0</td>\n      <td>0</td>\n      <td>0</td>\n      <td>5</td>\n    </tr>\n    <tr>\n      <th>1</th>\n      <td>2003.0</td>\n      <td>0</td>\n      <td>0</td>\n      <td>29472</td>\n      <td>0</td>\n      <td>0</td>\n      <td>0</td>\n      <td>535</td>\n      <td>4333</td>\n      <td>0</td>\n      <td>0</td>\n    </tr>\n    <tr>\n      <th>2</th>\n      <td>2004.0</td>\n      <td>0</td>\n      <td>0</td>\n      <td>8657</td>\n      <td>0</td>\n      <td>0</td>\n      <td>0</td>\n      <td>4065</td>\n      <td>11575</td>\n      <td>0</td>\n      <td>0</td>\n    </tr>\n    <tr>\n      <th>3</th>\n      <td>2005.0</td>\n      <td>0</td>\n      <td>0</td>\n      <td>6198</td>\n      <td>0</td>\n      <td>192</td>\n      <td>0</td>\n      <td>3422</td>\n      <td>0</td>\n      <td>0</td>\n      <td>0</td>\n    </tr>\n    <tr>\n      <th>4</th>\n      <td>2006.0</td>\n      <td>0</td>\n      <td>0</td>\n      <td>7360</td>\n      <td>0</td>\n      <td>1816</td>\n      <td>0</td>\n      <td>3227</td>\n      <td>12609</td>\n      <td>0</td>\n      <td>0</td>\n    </tr>\n  </tbody>\n</table>\n</div>"
     },
     "execution_count": 68,
     "metadata": {},
     "output_type": "execute_result"
    }
   ],
   "source": [
    "# pivot and count to get counts of each species of fish each year\n",
    "year_source_df = pd.pivot_table(wild_df, values='fish_id', index='Year', columns=['source'],\n",
    "                                 aggfunc='count', fill_value=0).reset_index()\n",
    "\n",
    "year_source_df.head()"
   ],
   "metadata": {
    "collapsed": false,
    "pycharm": {
     "name": "#%%\n"
    }
   }
  },
  {
   "cell_type": "code",
   "execution_count": 69,
   "outputs": [
    {
     "data": {
      "text/plain": "Index(['Year', 'Broughton Archipelago Monitoring Plan',\n       'Cedar Coast Field Station', 'Fisheries and Oceans Canada',\n       'Hakai Institute', 'Kitasoo First Nation',\n       'Mainstream Biological Consulting',\n       'Marine Environmental Research Program', 'Marty Krkosek',\n       'Pacificus Biological Services', 'Salmon Coast Field Station'],\n      dtype='object', name='source')"
     },
     "execution_count": 69,
     "metadata": {},
     "output_type": "execute_result"
    }
   ],
   "source": [
    "year_source_df.columns"
   ],
   "metadata": {
    "collapsed": false,
    "pycharm": {
     "name": "#%%\n"
    }
   }
  },
  {
   "cell_type": "code",
   "execution_count": 70,
   "outputs": [
    {
     "data": {
      "text/plain": "source    Year  SCS  CCS  Hakai     MK  Kitasoo    DFO  MERP  MBC  Pacificus  \\\n0       2001.0    5    0      0      0        0      0     0    0          0   \n1       2003.0    0    0      0   4333        0  29472   535    0          0   \n2       2004.0    0    0      0  11575        0   8657  4065    0          0   \n3       2005.0    0    0      0      0      192   6198  3422    0          0   \n4       2006.0    0    0      0  12609     1816   7360  3227    0          0   \n\nsource  BAMP  \n0          0  \n1          0  \n2          0  \n3          0  \n4          0  ",
      "text/html": "<div>\n<style scoped>\n    .dataframe tbody tr th:only-of-type {\n        vertical-align: middle;\n    }\n\n    .dataframe tbody tr th {\n        vertical-align: top;\n    }\n\n    .dataframe thead th {\n        text-align: right;\n    }\n</style>\n<table border=\"1\" class=\"dataframe\">\n  <thead>\n    <tr style=\"text-align: right;\">\n      <th>source</th>\n      <th>Year</th>\n      <th>SCS</th>\n      <th>CCS</th>\n      <th>Hakai</th>\n      <th>MK</th>\n      <th>Kitasoo</th>\n      <th>DFO</th>\n      <th>MERP</th>\n      <th>MBC</th>\n      <th>Pacificus</th>\n      <th>BAMP</th>\n    </tr>\n  </thead>\n  <tbody>\n    <tr>\n      <th>0</th>\n      <td>2001.0</td>\n      <td>5</td>\n      <td>0</td>\n      <td>0</td>\n      <td>0</td>\n      <td>0</td>\n      <td>0</td>\n      <td>0</td>\n      <td>0</td>\n      <td>0</td>\n      <td>0</td>\n    </tr>\n    <tr>\n      <th>1</th>\n      <td>2003.0</td>\n      <td>0</td>\n      <td>0</td>\n      <td>0</td>\n      <td>4333</td>\n      <td>0</td>\n      <td>29472</td>\n      <td>535</td>\n      <td>0</td>\n      <td>0</td>\n      <td>0</td>\n    </tr>\n    <tr>\n      <th>2</th>\n      <td>2004.0</td>\n      <td>0</td>\n      <td>0</td>\n      <td>0</td>\n      <td>11575</td>\n      <td>0</td>\n      <td>8657</td>\n      <td>4065</td>\n      <td>0</td>\n      <td>0</td>\n      <td>0</td>\n    </tr>\n    <tr>\n      <th>3</th>\n      <td>2005.0</td>\n      <td>0</td>\n      <td>0</td>\n      <td>0</td>\n      <td>0</td>\n      <td>192</td>\n      <td>6198</td>\n      <td>3422</td>\n      <td>0</td>\n      <td>0</td>\n      <td>0</td>\n    </tr>\n    <tr>\n      <th>4</th>\n      <td>2006.0</td>\n      <td>0</td>\n      <td>0</td>\n      <td>0</td>\n      <td>12609</td>\n      <td>1816</td>\n      <td>7360</td>\n      <td>3227</td>\n      <td>0</td>\n      <td>0</td>\n      <td>0</td>\n    </tr>\n  </tbody>\n</table>\n</div>"
     },
     "execution_count": 70,
     "metadata": {},
     "output_type": "execute_result"
    }
   ],
   "source": [
    "# rename the columns for the paper\n",
    "year_source_df.rename(columns={'Broughton Archipelago Monitoring Plan': 'BAMP',\n",
    "                               'Fisheries and Oceans Canada': 'DFO',\n",
    "                               'Kitasoo First Nation': 'Kitasoo',\n",
    "                               'Mainstream Biological Consulting': 'MBC',\n",
    "                               'Marine Environmental Research Program': 'MERP',\n",
    "                               'Marty Krkosek': 'MK',\n",
    "                               'Pacificus Biological Services': 'Pacificus',\n",
    "                               'Salmon Coast Field Station': 'SCS',\n",
    "                               'Cedar Coast Field Station': 'CCS',\n",
    "                               'Hakai Institute': 'Hakai'},\n",
    "                      inplace=True)\n",
    "\n",
    "# re-order the columns for presentation purposes\n",
    "year_source_df = year_source_df.reindex(columns=['Year', 'SCS', 'CCS', 'Hakai', 'MK', 'Kitasoo', 'DFO', 'MERP', 'MBC', 'Pacificus', 'BAMP'])\n",
    "\n",
    "year_source_df.head()"
   ],
   "metadata": {
    "collapsed": false,
    "pycharm": {
     "name": "#%%\n"
    }
   }
  },
  {
   "cell_type": "markdown",
   "source": [
    "## Calculate the total fish sampled each year"
   ],
   "metadata": {
    "collapsed": false,
    "pycharm": {
     "name": "#%% md\n"
    }
   }
  },
  {
   "cell_type": "code",
   "execution_count": 71,
   "outputs": [
    {
     "data": {
      "text/plain": "Index(['SCS', 'CCS', 'Hakai', 'MK', 'Kitasoo', 'DFO', 'MERP', 'MBC',\n       'Pacificus', 'BAMP'],\n      dtype='object', name='source')"
     },
     "execution_count": 71,
     "metadata": {},
     "output_type": "execute_result"
    }
   ],
   "source": [
    "year_source_df.loc[:, 'SCS':'BAMP'].columns"
   ],
   "metadata": {
    "collapsed": false,
    "pycharm": {
     "name": "#%%\n"
    }
   }
  },
  {
   "cell_type": "code",
   "execution_count": 72,
   "outputs": [
    {
     "data": {
      "text/plain": "source    Year  SCS  CCS  Hakai     MK  Kitasoo    DFO  MERP  MBC  Pacificus  \\\n0       2001.0    5    0      0      0        0      0     0    0          0   \n1       2003.0    0    0      0   4333        0  29472   535    0          0   \n2       2004.0    0    0      0  11575        0   8657  4065    0          0   \n3       2005.0    0    0      0      0      192   6198  3422    0          0   \n4       2006.0    0    0      0  12609     1816   7360  3227    0          0   \n\nsource  BAMP  All fish  \n0          0         5  \n1          0     34340  \n2          0     24297  \n3          0      9812  \n4          0     25012  ",
      "text/html": "<div>\n<style scoped>\n    .dataframe tbody tr th:only-of-type {\n        vertical-align: middle;\n    }\n\n    .dataframe tbody tr th {\n        vertical-align: top;\n    }\n\n    .dataframe thead th {\n        text-align: right;\n    }\n</style>\n<table border=\"1\" class=\"dataframe\">\n  <thead>\n    <tr style=\"text-align: right;\">\n      <th>source</th>\n      <th>Year</th>\n      <th>SCS</th>\n      <th>CCS</th>\n      <th>Hakai</th>\n      <th>MK</th>\n      <th>Kitasoo</th>\n      <th>DFO</th>\n      <th>MERP</th>\n      <th>MBC</th>\n      <th>Pacificus</th>\n      <th>BAMP</th>\n      <th>All fish</th>\n    </tr>\n  </thead>\n  <tbody>\n    <tr>\n      <th>0</th>\n      <td>2001.0</td>\n      <td>5</td>\n      <td>0</td>\n      <td>0</td>\n      <td>0</td>\n      <td>0</td>\n      <td>0</td>\n      <td>0</td>\n      <td>0</td>\n      <td>0</td>\n      <td>0</td>\n      <td>5</td>\n    </tr>\n    <tr>\n      <th>1</th>\n      <td>2003.0</td>\n      <td>0</td>\n      <td>0</td>\n      <td>0</td>\n      <td>4333</td>\n      <td>0</td>\n      <td>29472</td>\n      <td>535</td>\n      <td>0</td>\n      <td>0</td>\n      <td>0</td>\n      <td>34340</td>\n    </tr>\n    <tr>\n      <th>2</th>\n      <td>2004.0</td>\n      <td>0</td>\n      <td>0</td>\n      <td>0</td>\n      <td>11575</td>\n      <td>0</td>\n      <td>8657</td>\n      <td>4065</td>\n      <td>0</td>\n      <td>0</td>\n      <td>0</td>\n      <td>24297</td>\n    </tr>\n    <tr>\n      <th>3</th>\n      <td>2005.0</td>\n      <td>0</td>\n      <td>0</td>\n      <td>0</td>\n      <td>0</td>\n      <td>192</td>\n      <td>6198</td>\n      <td>3422</td>\n      <td>0</td>\n      <td>0</td>\n      <td>0</td>\n      <td>9812</td>\n    </tr>\n    <tr>\n      <th>4</th>\n      <td>2006.0</td>\n      <td>0</td>\n      <td>0</td>\n      <td>0</td>\n      <td>12609</td>\n      <td>1816</td>\n      <td>7360</td>\n      <td>3227</td>\n      <td>0</td>\n      <td>0</td>\n      <td>0</td>\n      <td>25012</td>\n    </tr>\n  </tbody>\n</table>\n</div>"
     },
     "execution_count": 72,
     "metadata": {},
     "output_type": "execute_result"
    }
   ],
   "source": [
    "# make a column for the total fish sampled that year\n",
    "source_list = list(year_source_df)\n",
    "source_list.remove('Year')\n",
    "year_source_df['All fish'] = year_source_df[source_list].sum(axis=1)\n",
    "\n",
    "year_source_df.head()"
   ],
   "metadata": {
    "collapsed": false,
    "pycharm": {
     "name": "#%%\n"
    }
   }
  },
  {
   "cell_type": "code",
   "execution_count": 73,
   "outputs": [],
   "source": [
    "# export the table to a CSV for final formatting\n",
    "year_source_df.to_csv(OUTPUT_DIR / 'Table_1b.csv', index=False)"
   ],
   "metadata": {
    "collapsed": false,
    "pycharm": {
     "name": "#%%\n"
    }
   }
  },
  {
   "cell_type": "code",
   "execution_count": 73,
   "outputs": [],
   "source": [],
   "metadata": {
    "collapsed": false,
    "pycharm": {
     "name": "#%%\n"
    }
   }
  }
 ],
 "metadata": {
  "kernelspec": {
   "display_name": "Python 3",
   "language": "python",
   "name": "python3"
  },
  "language_info": {
   "codemirror_mode": {
    "name": "ipython",
    "version": 2
   },
   "file_extension": ".py",
   "mimetype": "text/x-python",
   "name": "python",
   "nbconvert_exporter": "python",
   "pygments_lexer": "ipython2",
   "version": "2.7.6"
  }
 },
 "nbformat": 4,
 "nbformat_minor": 0
}