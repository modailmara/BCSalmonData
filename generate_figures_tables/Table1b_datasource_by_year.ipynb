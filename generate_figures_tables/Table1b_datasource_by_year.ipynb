{
 "cells": [
  {
   "cell_type": "markdown",
   "source": [
    "## This Notebook generates a CSV for Table 1b\n",
    "The table shows the number of wild fish sampled by each organisation.\n",
    "The CSV has the structure of Table 1b, except for the Total row at the bottom. The presentation and the Total row as in the paper was done in another tool."
   ],
   "metadata": {
    "collapsed": false,
    "pycharm": {
     "name": "#%% md\n"
    }
   }
  },
  {
   "cell_type": "code",
   "execution_count": 11,
   "outputs": [],
   "source": [
    "from pathlib import Path\n",
    "import pandas as pd"
   ],
   "metadata": {
    "collapsed": false,
    "pycharm": {
     "name": "#%%\n"
    }
   }
  },
  {
   "cell_type": "code",
   "execution_count": 12,
   "outputs": [],
   "source": [
    "# define data location constants\n",
    "DATA_DIR = Path('..') / 'source_data'\n",
    "WILD_FISH_DATA = DATA_DIR / 'all_wild_fish_lice.csv'\n",
    "WILD_EVENT_DATA = DATA_DIR / 'all_wild_sample_events.csv'\n",
    "\n",
    "OUTPUT_DIR = Path('..') / 'output' / 'Table_1b'"
   ],
   "metadata": {
    "collapsed": false,
    "pycharm": {
     "name": "#%%\n"
    }
   }
  },
  {
   "cell_type": "code",
   "execution_count": 13,
   "outputs": [
    {
     "name": "stderr",
     "output_type": "stream",
     "text": [
      "/tmp/ipykernel_849448/923700518.py:4: DtypeWarning: Columns (1,6) have mixed types. Specify dtype option on import or set low_memory=False.\n",
      "  fish_df = pd.read_csv(WILD_FISH_DATA)\n"
     ]
    },
    {
     "data": {
      "text/plain": "  event_id  sampledate                 region dfozone  \\\n0  bc_5666  2017-05-15  Broughton Archipelago     3_3   \n1  bc_5666  2017-05-15  Broughton Archipelago     3_3   \n2  bc_5666  2017-05-15  Broughton Archipelago     3_3   \n3  bc_5666  2017-05-15  Broughton Archipelago     3_3   \n4  bc_5666  2017-05-15  Broughton Archipelago     3_3   \n\n                sample_site           latitude   longitude  \\\n0  Swanson Island Fish Farm  50.61806666666666 -126.701233   \n1  Swanson Island Fish Farm  50.61806666666666 -126.701233   \n2  Swanson Island Fish Farm  50.61806666666666 -126.701233   \n3  Swanson Island Fish Farm  50.61806666666666 -126.701233   \n4  Swanson Island Fish Farm  50.61806666666666 -126.701233   \n\n                             source source_code fish_id  ...  lep_unknown  \\\n0  Mainstream Biological Consulting         MBC       1  ...          0.0   \n1  Mainstream Biological Consulting         MBC       2  ...          0.0   \n2  Mainstream Biological Consulting         MBC       3  ...          0.0   \n3  Mainstream Biological Consulting         MBC       4  ...          0.0   \n4  Mainstream Biological Consulting         MBC       5  ...          0.0   \n\n   cal_cop  cal_chal cal_motile cal_unknown  unknown_cop  unknown_chal  \\\n0      0.0       0.0        0.0         0.0          0.0           0.0   \n1      0.0       1.0        0.0         0.0          0.0           0.0   \n2      0.0       2.0        0.0         0.0          0.0           0.0   \n3      0.0       0.0        0.0         0.0          0.0           0.0   \n4      0.0       3.0        0.0         0.0          0.0           0.0   \n\n   unknown_motile  unknown_unknown  lice_protocol  \n0             0.0              0.0         Lethal  \n1             0.0              0.0         Lethal  \n2             0.0              0.0         Lethal  \n3             0.0              0.0         Lethal  \n4             0.0              0.0         Lethal  \n\n[5 rows x 27 columns]",
      "text/html": "<div>\n<style scoped>\n    .dataframe tbody tr th:only-of-type {\n        vertical-align: middle;\n    }\n\n    .dataframe tbody tr th {\n        vertical-align: top;\n    }\n\n    .dataframe thead th {\n        text-align: right;\n    }\n</style>\n<table border=\"1\" class=\"dataframe\">\n  <thead>\n    <tr style=\"text-align: right;\">\n      <th></th>\n      <th>event_id</th>\n      <th>sampledate</th>\n      <th>region</th>\n      <th>dfozone</th>\n      <th>sample_site</th>\n      <th>latitude</th>\n      <th>longitude</th>\n      <th>source</th>\n      <th>source_code</th>\n      <th>fish_id</th>\n      <th>...</th>\n      <th>lep_unknown</th>\n      <th>cal_cop</th>\n      <th>cal_chal</th>\n      <th>cal_motile</th>\n      <th>cal_unknown</th>\n      <th>unknown_cop</th>\n      <th>unknown_chal</th>\n      <th>unknown_motile</th>\n      <th>unknown_unknown</th>\n      <th>lice_protocol</th>\n    </tr>\n  </thead>\n  <tbody>\n    <tr>\n      <th>0</th>\n      <td>bc_5666</td>\n      <td>2017-05-15</td>\n      <td>Broughton Archipelago</td>\n      <td>3_3</td>\n      <td>Swanson Island Fish Farm</td>\n      <td>50.61806666666666</td>\n      <td>-126.701233</td>\n      <td>Mainstream Biological Consulting</td>\n      <td>MBC</td>\n      <td>1</td>\n      <td>...</td>\n      <td>0.0</td>\n      <td>0.0</td>\n      <td>0.0</td>\n      <td>0.0</td>\n      <td>0.0</td>\n      <td>0.0</td>\n      <td>0.0</td>\n      <td>0.0</td>\n      <td>0.0</td>\n      <td>Lethal</td>\n    </tr>\n    <tr>\n      <th>1</th>\n      <td>bc_5666</td>\n      <td>2017-05-15</td>\n      <td>Broughton Archipelago</td>\n      <td>3_3</td>\n      <td>Swanson Island Fish Farm</td>\n      <td>50.61806666666666</td>\n      <td>-126.701233</td>\n      <td>Mainstream Biological Consulting</td>\n      <td>MBC</td>\n      <td>2</td>\n      <td>...</td>\n      <td>0.0</td>\n      <td>0.0</td>\n      <td>1.0</td>\n      <td>0.0</td>\n      <td>0.0</td>\n      <td>0.0</td>\n      <td>0.0</td>\n      <td>0.0</td>\n      <td>0.0</td>\n      <td>Lethal</td>\n    </tr>\n    <tr>\n      <th>2</th>\n      <td>bc_5666</td>\n      <td>2017-05-15</td>\n      <td>Broughton Archipelago</td>\n      <td>3_3</td>\n      <td>Swanson Island Fish Farm</td>\n      <td>50.61806666666666</td>\n      <td>-126.701233</td>\n      <td>Mainstream Biological Consulting</td>\n      <td>MBC</td>\n      <td>3</td>\n      <td>...</td>\n      <td>0.0</td>\n      <td>0.0</td>\n      <td>2.0</td>\n      <td>0.0</td>\n      <td>0.0</td>\n      <td>0.0</td>\n      <td>0.0</td>\n      <td>0.0</td>\n      <td>0.0</td>\n      <td>Lethal</td>\n    </tr>\n    <tr>\n      <th>3</th>\n      <td>bc_5666</td>\n      <td>2017-05-15</td>\n      <td>Broughton Archipelago</td>\n      <td>3_3</td>\n      <td>Swanson Island Fish Farm</td>\n      <td>50.61806666666666</td>\n      <td>-126.701233</td>\n      <td>Mainstream Biological Consulting</td>\n      <td>MBC</td>\n      <td>4</td>\n      <td>...</td>\n      <td>0.0</td>\n      <td>0.0</td>\n      <td>0.0</td>\n      <td>0.0</td>\n      <td>0.0</td>\n      <td>0.0</td>\n      <td>0.0</td>\n      <td>0.0</td>\n      <td>0.0</td>\n      <td>Lethal</td>\n    </tr>\n    <tr>\n      <th>4</th>\n      <td>bc_5666</td>\n      <td>2017-05-15</td>\n      <td>Broughton Archipelago</td>\n      <td>3_3</td>\n      <td>Swanson Island Fish Farm</td>\n      <td>50.61806666666666</td>\n      <td>-126.701233</td>\n      <td>Mainstream Biological Consulting</td>\n      <td>MBC</td>\n      <td>5</td>\n      <td>...</td>\n      <td>0.0</td>\n      <td>0.0</td>\n      <td>3.0</td>\n      <td>0.0</td>\n      <td>0.0</td>\n      <td>0.0</td>\n      <td>0.0</td>\n      <td>0.0</td>\n      <td>0.0</td>\n      <td>Lethal</td>\n    </tr>\n  </tbody>\n</table>\n<p>5 rows × 27 columns</p>\n</div>"
     },
     "execution_count": 13,
     "metadata": {},
     "output_type": "execute_result"
    }
   ],
   "source": [
    "# import and merge the data\n",
    "events_df = pd.read_csv(WILD_EVENT_DATA)\n",
    "events_df['event_id'] = events_df['event_id'].astype(str)\n",
    "fish_df = pd.read_csv(WILD_FISH_DATA)\n",
    "fish_df['event_id'] = fish_df['event_id'].astype(str)\n",
    "\n",
    "wild_df = pd.merge(events_df, fish_df, on='event_id', how='right')\n",
    "wild_df.head()"
   ],
   "metadata": {
    "collapsed": false,
    "pycharm": {
     "name": "#%%\n"
    }
   }
  },
  {
   "cell_type": "markdown",
   "source": [
    "## Calculate the fish sampled each year by each sampling organisation"
   ],
   "metadata": {
    "collapsed": false,
    "pycharm": {
     "name": "#%% md\n"
    }
   }
  },
  {
   "cell_type": "code",
   "execution_count": 14,
   "outputs": [],
   "source": [
    "# make a year column\n",
    "wild_df['sampledate'] = pd.to_datetime(wild_df['sampledate'], errors='coerce', utc=True)\n",
    "wild_df['Year'] = wild_df['sampledate'].dt.year"
   ],
   "metadata": {
    "collapsed": false,
    "pycharm": {
     "name": "#%%\n"
    }
   }
  },
  {
   "cell_type": "code",
   "execution_count": 15,
   "outputs": [
    {
     "data": {
      "text/plain": "source  Year  Broughton Archipelago Monitoring Plan  \\\n0       2001                                      0   \n1       2002                                      0   \n2       2003                                      0   \n3       2004                                      0   \n4       2005                                      0   \n\nsource  Cedar Coast Field Station  Fisheries and Oceans Canada  \\\n0                               0                            0   \n1                               0                            0   \n2                               0                        29472   \n3                               0                         8657   \n4                               0                         6198   \n\nsource  Hakai Institute  Kitasoo First Nation  \\\n0                     0                     0   \n1                     0                     0   \n2                     0                     0   \n3                     0                     0   \n4                     0                   192   \n\nsource  Mainstream Biological Consulting  \\\n0                                      0   \n1                                      0   \n2                                      0   \n3                                      0   \n4                                      0   \n\nsource  Marine Environmental Research Program  Marty Krkosek  \\\n0                                           0              0   \n1                                           0              0   \n2                                         535           4333   \n3                                        4065          11575   \n4                                        3422              0   \n\nsource  Pacificus Biological Services  Salmon Coast Field Station  \n0                                   0                         268  \n1                                   0                         564  \n2                                   0                         676  \n3                                   0                        1087  \n4                                   0                        2084  ",
      "text/html": "<div>\n<style scoped>\n    .dataframe tbody tr th:only-of-type {\n        vertical-align: middle;\n    }\n\n    .dataframe tbody tr th {\n        vertical-align: top;\n    }\n\n    .dataframe thead th {\n        text-align: right;\n    }\n</style>\n<table border=\"1\" class=\"dataframe\">\n  <thead>\n    <tr style=\"text-align: right;\">\n      <th>source</th>\n      <th>Year</th>\n      <th>Broughton Archipelago Monitoring Plan</th>\n      <th>Cedar Coast Field Station</th>\n      <th>Fisheries and Oceans Canada</th>\n      <th>Hakai Institute</th>\n      <th>Kitasoo First Nation</th>\n      <th>Mainstream Biological Consulting</th>\n      <th>Marine Environmental Research Program</th>\n      <th>Marty Krkosek</th>\n      <th>Pacificus Biological Services</th>\n      <th>Salmon Coast Field Station</th>\n    </tr>\n  </thead>\n  <tbody>\n    <tr>\n      <th>0</th>\n      <td>2001</td>\n      <td>0</td>\n      <td>0</td>\n      <td>0</td>\n      <td>0</td>\n      <td>0</td>\n      <td>0</td>\n      <td>0</td>\n      <td>0</td>\n      <td>0</td>\n      <td>268</td>\n    </tr>\n    <tr>\n      <th>1</th>\n      <td>2002</td>\n      <td>0</td>\n      <td>0</td>\n      <td>0</td>\n      <td>0</td>\n      <td>0</td>\n      <td>0</td>\n      <td>0</td>\n      <td>0</td>\n      <td>0</td>\n      <td>564</td>\n    </tr>\n    <tr>\n      <th>2</th>\n      <td>2003</td>\n      <td>0</td>\n      <td>0</td>\n      <td>29472</td>\n      <td>0</td>\n      <td>0</td>\n      <td>0</td>\n      <td>535</td>\n      <td>4333</td>\n      <td>0</td>\n      <td>676</td>\n    </tr>\n    <tr>\n      <th>3</th>\n      <td>2004</td>\n      <td>0</td>\n      <td>0</td>\n      <td>8657</td>\n      <td>0</td>\n      <td>0</td>\n      <td>0</td>\n      <td>4065</td>\n      <td>11575</td>\n      <td>0</td>\n      <td>1087</td>\n    </tr>\n    <tr>\n      <th>4</th>\n      <td>2005</td>\n      <td>0</td>\n      <td>0</td>\n      <td>6198</td>\n      <td>0</td>\n      <td>192</td>\n      <td>0</td>\n      <td>3422</td>\n      <td>0</td>\n      <td>0</td>\n      <td>2084</td>\n    </tr>\n  </tbody>\n</table>\n</div>"
     },
     "execution_count": 15,
     "metadata": {},
     "output_type": "execute_result"
    }
   ],
   "source": [
    "# pivot and count to get counts of each species of fish each year\n",
    "year_source_df = pd.pivot_table(wild_df, values='fish_id', index='Year', columns=['source'],\n",
    "                                 aggfunc='count', fill_value=0).reset_index()\n",
    "\n",
    "year_source_df.head()"
   ],
   "metadata": {
    "collapsed": false,
    "pycharm": {
     "name": "#%%\n"
    }
   }
  },
  {
   "cell_type": "code",
   "execution_count": 16,
   "outputs": [
    {
     "data": {
      "text/plain": "Index(['Year', 'Broughton Archipelago Monitoring Plan',\n       'Cedar Coast Field Station', 'Fisheries and Oceans Canada',\n       'Hakai Institute', 'Kitasoo First Nation',\n       'Mainstream Biological Consulting',\n       'Marine Environmental Research Program', 'Marty Krkosek',\n       'Pacificus Biological Services', 'Salmon Coast Field Station'],\n      dtype='object', name='source')"
     },
     "execution_count": 16,
     "metadata": {},
     "output_type": "execute_result"
    }
   ],
   "source": [
    "year_source_df.columns"
   ],
   "metadata": {
    "collapsed": false,
    "pycharm": {
     "name": "#%%\n"
    }
   }
  },
  {
   "cell_type": "code",
   "execution_count": 17,
   "outputs": [
    {
     "data": {
      "text/plain": "source  Year   SCS   CCS  Hakai     MK  Kitasoo    DFO  MERP   MBC  Pacificus  \\\n0       2001   268     0      0      0        0      0     0     0          0   \n1       2002   564     0      0      0        0      0     0     0          0   \n2       2003   676     0      0   4333        0  29472   535     0          0   \n3       2004  1087     0      0  11575        0   8657  4065     0          0   \n4       2005  2084     0      0      0      192   6198  3422     0          0   \n5       2006  1708     0      0  12609     1816   7360  3227     0          0   \n6       2007  1650     0      0  17829     1132   9378  4599     0          0   \n7       2008  2345     0      0  21361      954   9170  5197     0          0   \n8       2009  2549     0      0  16577     1675  10320  4160     0          0   \n9       2010  2276     0      0      0     1852      0  3627     0          0   \n10      2011  3300     0      0      0     2031      0  5219     0          0   \n11      2012  2979     0      0      0     2203      0  2853     0          0   \n12      2013  3780     0      0      0     2190      0  1822     0          0   \n13      2014  3356     0      0      0     1989      0  1349     0          0   \n14      2015  2771     0   6794      0     1230      0  1695     0          0   \n15      2016  2698     0   4435      0     1355      0   598  3974          0   \n16      2017  2170     0   1595      0     1753      0     0  6926        378   \n17      2018  1578   172   1205      0     1353      0     0  5160        260   \n18      2019  2334  1553   1628      0     1277      0     0  4521        520   \n19      2020  1989   993    444      0     1652      0     0  5690        355   \n20      2021  2367  2235    375      0     1543      0     0  7809        642   \n21      2022  2944     0    285      0     1657      0     0  6801        696   \n22      2023  2457     0    484      0     1485      0     0  4637          0   \n\nsource  BAMP  \n0          0  \n1          0  \n2          0  \n3          0  \n4          0  \n5          0  \n6          0  \n7          0  \n8          0  \n9       6090  \n10      6164  \n11      7467  \n12         0  \n13         0  \n14         0  \n15         0  \n16         0  \n17         0  \n18         0  \n19         0  \n20         0  \n21         0  \n22         0  ",
      "text/html": "<div>\n<style scoped>\n    .dataframe tbody tr th:only-of-type {\n        vertical-align: middle;\n    }\n\n    .dataframe tbody tr th {\n        vertical-align: top;\n    }\n\n    .dataframe thead th {\n        text-align: right;\n    }\n</style>\n<table border=\"1\" class=\"dataframe\">\n  <thead>\n    <tr style=\"text-align: right;\">\n      <th>source</th>\n      <th>Year</th>\n      <th>SCS</th>\n      <th>CCS</th>\n      <th>Hakai</th>\n      <th>MK</th>\n      <th>Kitasoo</th>\n      <th>DFO</th>\n      <th>MERP</th>\n      <th>MBC</th>\n      <th>Pacificus</th>\n      <th>BAMP</th>\n    </tr>\n  </thead>\n  <tbody>\n    <tr>\n      <th>0</th>\n      <td>2001</td>\n      <td>268</td>\n      <td>0</td>\n      <td>0</td>\n      <td>0</td>\n      <td>0</td>\n      <td>0</td>\n      <td>0</td>\n      <td>0</td>\n      <td>0</td>\n      <td>0</td>\n    </tr>\n    <tr>\n      <th>1</th>\n      <td>2002</td>\n      <td>564</td>\n      <td>0</td>\n      <td>0</td>\n      <td>0</td>\n      <td>0</td>\n      <td>0</td>\n      <td>0</td>\n      <td>0</td>\n      <td>0</td>\n      <td>0</td>\n    </tr>\n    <tr>\n      <th>2</th>\n      <td>2003</td>\n      <td>676</td>\n      <td>0</td>\n      <td>0</td>\n      <td>4333</td>\n      <td>0</td>\n      <td>29472</td>\n      <td>535</td>\n      <td>0</td>\n      <td>0</td>\n      <td>0</td>\n    </tr>\n    <tr>\n      <th>3</th>\n      <td>2004</td>\n      <td>1087</td>\n      <td>0</td>\n      <td>0</td>\n      <td>11575</td>\n      <td>0</td>\n      <td>8657</td>\n      <td>4065</td>\n      <td>0</td>\n      <td>0</td>\n      <td>0</td>\n    </tr>\n    <tr>\n      <th>4</th>\n      <td>2005</td>\n      <td>2084</td>\n      <td>0</td>\n      <td>0</td>\n      <td>0</td>\n      <td>192</td>\n      <td>6198</td>\n      <td>3422</td>\n      <td>0</td>\n      <td>0</td>\n      <td>0</td>\n    </tr>\n    <tr>\n      <th>5</th>\n      <td>2006</td>\n      <td>1708</td>\n      <td>0</td>\n      <td>0</td>\n      <td>12609</td>\n      <td>1816</td>\n      <td>7360</td>\n      <td>3227</td>\n      <td>0</td>\n      <td>0</td>\n      <td>0</td>\n    </tr>\n    <tr>\n      <th>6</th>\n      <td>2007</td>\n      <td>1650</td>\n      <td>0</td>\n      <td>0</td>\n      <td>17829</td>\n      <td>1132</td>\n      <td>9378</td>\n      <td>4599</td>\n      <td>0</td>\n      <td>0</td>\n      <td>0</td>\n    </tr>\n    <tr>\n      <th>7</th>\n      <td>2008</td>\n      <td>2345</td>\n      <td>0</td>\n      <td>0</td>\n      <td>21361</td>\n      <td>954</td>\n      <td>9170</td>\n      <td>5197</td>\n      <td>0</td>\n      <td>0</td>\n      <td>0</td>\n    </tr>\n    <tr>\n      <th>8</th>\n      <td>2009</td>\n      <td>2549</td>\n      <td>0</td>\n      <td>0</td>\n      <td>16577</td>\n      <td>1675</td>\n      <td>10320</td>\n      <td>4160</td>\n      <td>0</td>\n      <td>0</td>\n      <td>0</td>\n    </tr>\n    <tr>\n      <th>9</th>\n      <td>2010</td>\n      <td>2276</td>\n      <td>0</td>\n      <td>0</td>\n      <td>0</td>\n      <td>1852</td>\n      <td>0</td>\n      <td>3627</td>\n      <td>0</td>\n      <td>0</td>\n      <td>6090</td>\n    </tr>\n    <tr>\n      <th>10</th>\n      <td>2011</td>\n      <td>3300</td>\n      <td>0</td>\n      <td>0</td>\n      <td>0</td>\n      <td>2031</td>\n      <td>0</td>\n      <td>5219</td>\n      <td>0</td>\n      <td>0</td>\n      <td>6164</td>\n    </tr>\n    <tr>\n      <th>11</th>\n      <td>2012</td>\n      <td>2979</td>\n      <td>0</td>\n      <td>0</td>\n      <td>0</td>\n      <td>2203</td>\n      <td>0</td>\n      <td>2853</td>\n      <td>0</td>\n      <td>0</td>\n      <td>7467</td>\n    </tr>\n    <tr>\n      <th>12</th>\n      <td>2013</td>\n      <td>3780</td>\n      <td>0</td>\n      <td>0</td>\n      <td>0</td>\n      <td>2190</td>\n      <td>0</td>\n      <td>1822</td>\n      <td>0</td>\n      <td>0</td>\n      <td>0</td>\n    </tr>\n    <tr>\n      <th>13</th>\n      <td>2014</td>\n      <td>3356</td>\n      <td>0</td>\n      <td>0</td>\n      <td>0</td>\n      <td>1989</td>\n      <td>0</td>\n      <td>1349</td>\n      <td>0</td>\n      <td>0</td>\n      <td>0</td>\n    </tr>\n    <tr>\n      <th>14</th>\n      <td>2015</td>\n      <td>2771</td>\n      <td>0</td>\n      <td>6794</td>\n      <td>0</td>\n      <td>1230</td>\n      <td>0</td>\n      <td>1695</td>\n      <td>0</td>\n      <td>0</td>\n      <td>0</td>\n    </tr>\n    <tr>\n      <th>15</th>\n      <td>2016</td>\n      <td>2698</td>\n      <td>0</td>\n      <td>4435</td>\n      <td>0</td>\n      <td>1355</td>\n      <td>0</td>\n      <td>598</td>\n      <td>3974</td>\n      <td>0</td>\n      <td>0</td>\n    </tr>\n    <tr>\n      <th>16</th>\n      <td>2017</td>\n      <td>2170</td>\n      <td>0</td>\n      <td>1595</td>\n      <td>0</td>\n      <td>1753</td>\n      <td>0</td>\n      <td>0</td>\n      <td>6926</td>\n      <td>378</td>\n      <td>0</td>\n    </tr>\n    <tr>\n      <th>17</th>\n      <td>2018</td>\n      <td>1578</td>\n      <td>172</td>\n      <td>1205</td>\n      <td>0</td>\n      <td>1353</td>\n      <td>0</td>\n      <td>0</td>\n      <td>5160</td>\n      <td>260</td>\n      <td>0</td>\n    </tr>\n    <tr>\n      <th>18</th>\n      <td>2019</td>\n      <td>2334</td>\n      <td>1553</td>\n      <td>1628</td>\n      <td>0</td>\n      <td>1277</td>\n      <td>0</td>\n      <td>0</td>\n      <td>4521</td>\n      <td>520</td>\n      <td>0</td>\n    </tr>\n    <tr>\n      <th>19</th>\n      <td>2020</td>\n      <td>1989</td>\n      <td>993</td>\n      <td>444</td>\n      <td>0</td>\n      <td>1652</td>\n      <td>0</td>\n      <td>0</td>\n      <td>5690</td>\n      <td>355</td>\n      <td>0</td>\n    </tr>\n    <tr>\n      <th>20</th>\n      <td>2021</td>\n      <td>2367</td>\n      <td>2235</td>\n      <td>375</td>\n      <td>0</td>\n      <td>1543</td>\n      <td>0</td>\n      <td>0</td>\n      <td>7809</td>\n      <td>642</td>\n      <td>0</td>\n    </tr>\n    <tr>\n      <th>21</th>\n      <td>2022</td>\n      <td>2944</td>\n      <td>0</td>\n      <td>285</td>\n      <td>0</td>\n      <td>1657</td>\n      <td>0</td>\n      <td>0</td>\n      <td>6801</td>\n      <td>696</td>\n      <td>0</td>\n    </tr>\n    <tr>\n      <th>22</th>\n      <td>2023</td>\n      <td>2457</td>\n      <td>0</td>\n      <td>484</td>\n      <td>0</td>\n      <td>1485</td>\n      <td>0</td>\n      <td>0</td>\n      <td>4637</td>\n      <td>0</td>\n      <td>0</td>\n    </tr>\n  </tbody>\n</table>\n</div>"
     },
     "execution_count": 17,
     "metadata": {},
     "output_type": "execute_result"
    }
   ],
   "source": [
    "# rename the columns for the paper\n",
    "year_source_df.rename(columns={'Broughton Archipelago Monitoring Plan': 'BAMP',\n",
    "                               'Fisheries and Oceans Canada': 'DFO',\n",
    "                               'Kitasoo First Nation': 'Kitasoo',\n",
    "                               'Mainstream Biological Consulting': 'MBC',\n",
    "                               'Marine Environmental Research Program': 'MERP',\n",
    "                               'Marty Krkosek': 'MK',\n",
    "                               'Pacificus Biological Services': 'Pacificus',\n",
    "                               'Salmon Coast Field Station': 'SCS',\n",
    "                               'Cedar Coast Field Station': 'CCS',\n",
    "                               'Hakai Institute': 'Hakai'},\n",
    "                      inplace=True)\n",
    "\n",
    "# re-order the columns for presentation purposes\n",
    "year_source_df = year_source_df.reindex(columns=['Year', 'SCS', 'CCS', 'Hakai', 'MK', 'Kitasoo', 'DFO', 'MERP', 'MBC', 'Pacificus', 'BAMP'])\n",
    "\n",
    "year_source_df"
   ],
   "metadata": {
    "collapsed": false,
    "pycharm": {
     "name": "#%%\n"
    }
   }
  },
  {
   "cell_type": "markdown",
   "source": [
    "## Calculate the total fish sampled each year"
   ],
   "metadata": {
    "collapsed": false,
    "pycharm": {
     "name": "#%% md\n"
    }
   }
  },
  {
   "cell_type": "code",
   "execution_count": 18,
   "outputs": [
    {
     "data": {
      "text/plain": "Index(['SCS', 'CCS', 'Hakai', 'MK', 'Kitasoo', 'DFO', 'MERP', 'MBC',\n       'Pacificus', 'BAMP'],\n      dtype='object', name='source')"
     },
     "execution_count": 18,
     "metadata": {},
     "output_type": "execute_result"
    }
   ],
   "source": [
    "year_source_df.loc[:, 'SCS':'BAMP'].columns"
   ],
   "metadata": {
    "collapsed": false,
    "pycharm": {
     "name": "#%%\n"
    }
   }
  },
  {
   "cell_type": "code",
   "execution_count": 19,
   "outputs": [
    {
     "data": {
      "text/plain": "source  Year   SCS  CCS  Hakai     MK  Kitasoo    DFO  MERP  MBC  Pacificus  \\\n0       2001   268    0      0      0        0      0     0    0          0   \n1       2002   564    0      0      0        0      0     0    0          0   \n2       2003   676    0      0   4333        0  29472   535    0          0   \n3       2004  1087    0      0  11575        0   8657  4065    0          0   \n4       2005  2084    0      0      0      192   6198  3422    0          0   \n\nsource  BAMP  All fish  \n0          0       268  \n1          0       564  \n2          0     35016  \n3          0     25384  \n4          0     11896  ",
      "text/html": "<div>\n<style scoped>\n    .dataframe tbody tr th:only-of-type {\n        vertical-align: middle;\n    }\n\n    .dataframe tbody tr th {\n        vertical-align: top;\n    }\n\n    .dataframe thead th {\n        text-align: right;\n    }\n</style>\n<table border=\"1\" class=\"dataframe\">\n  <thead>\n    <tr style=\"text-align: right;\">\n      <th>source</th>\n      <th>Year</th>\n      <th>SCS</th>\n      <th>CCS</th>\n      <th>Hakai</th>\n      <th>MK</th>\n      <th>Kitasoo</th>\n      <th>DFO</th>\n      <th>MERP</th>\n      <th>MBC</th>\n      <th>Pacificus</th>\n      <th>BAMP</th>\n      <th>All fish</th>\n    </tr>\n  </thead>\n  <tbody>\n    <tr>\n      <th>0</th>\n      <td>2001</td>\n      <td>268</td>\n      <td>0</td>\n      <td>0</td>\n      <td>0</td>\n      <td>0</td>\n      <td>0</td>\n      <td>0</td>\n      <td>0</td>\n      <td>0</td>\n      <td>0</td>\n      <td>268</td>\n    </tr>\n    <tr>\n      <th>1</th>\n      <td>2002</td>\n      <td>564</td>\n      <td>0</td>\n      <td>0</td>\n      <td>0</td>\n      <td>0</td>\n      <td>0</td>\n      <td>0</td>\n      <td>0</td>\n      <td>0</td>\n      <td>0</td>\n      <td>564</td>\n    </tr>\n    <tr>\n      <th>2</th>\n      <td>2003</td>\n      <td>676</td>\n      <td>0</td>\n      <td>0</td>\n      <td>4333</td>\n      <td>0</td>\n      <td>29472</td>\n      <td>535</td>\n      <td>0</td>\n      <td>0</td>\n      <td>0</td>\n      <td>35016</td>\n    </tr>\n    <tr>\n      <th>3</th>\n      <td>2004</td>\n      <td>1087</td>\n      <td>0</td>\n      <td>0</td>\n      <td>11575</td>\n      <td>0</td>\n      <td>8657</td>\n      <td>4065</td>\n      <td>0</td>\n      <td>0</td>\n      <td>0</td>\n      <td>25384</td>\n    </tr>\n    <tr>\n      <th>4</th>\n      <td>2005</td>\n      <td>2084</td>\n      <td>0</td>\n      <td>0</td>\n      <td>0</td>\n      <td>192</td>\n      <td>6198</td>\n      <td>3422</td>\n      <td>0</td>\n      <td>0</td>\n      <td>0</td>\n      <td>11896</td>\n    </tr>\n  </tbody>\n</table>\n</div>"
     },
     "execution_count": 19,
     "metadata": {},
     "output_type": "execute_result"
    }
   ],
   "source": [
    "# make a column for the total fish sampled that year\n",
    "source_list = list(year_source_df)\n",
    "source_list.remove('Year')\n",
    "year_source_df['All fish'] = year_source_df[source_list].sum(axis=1)\n",
    "\n",
    "year_source_df.head()"
   ],
   "metadata": {
    "collapsed": false,
    "pycharm": {
     "name": "#%%\n"
    }
   }
  },
  {
   "cell_type": "code",
   "execution_count": 20,
   "outputs": [],
   "source": [
    "# export the table to a CSV for final formatting\n",
    "year_source_df.to_csv(OUTPUT_DIR / 'Table_1b.csv', index=False)"
   ],
   "metadata": {
    "collapsed": false,
    "pycharm": {
     "name": "#%%\n"
    }
   }
  },
  {
   "cell_type": "code",
   "execution_count": 20,
   "outputs": [],
   "source": [],
   "metadata": {
    "collapsed": false,
    "pycharm": {
     "name": "#%%\n"
    }
   }
  }
 ],
 "metadata": {
  "kernelspec": {
   "display_name": "Python 3",
   "language": "python",
   "name": "python3"
  },
  "language_info": {
   "codemirror_mode": {
    "name": "ipython",
    "version": 2
   },
   "file_extension": ".py",
   "mimetype": "text/x-python",
   "name": "python",
   "nbconvert_exporter": "python",
   "pygments_lexer": "ipython2",
   "version": "2.7.6"
  }
 },
 "nbformat": 4,
 "nbformat_minor": 0
}