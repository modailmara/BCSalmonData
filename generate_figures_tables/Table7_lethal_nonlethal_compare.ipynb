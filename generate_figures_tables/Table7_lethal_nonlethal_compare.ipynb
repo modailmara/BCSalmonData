{
 "cells": [
  {
   "cell_type": "markdown",
   "source": [
    "## This notebook creates CSVs with summary statistics for lethal and non-lethal sampling\n",
    "The table shows a comparison of lethal and non-lethal sampling.\n",
    "Non-lethal sampling is source=\"Salmon Coast Field Station / Raincoast Research\" and 'Marty Krkosek'\n",
    "The data is constrained to\n",
    " - zone 3.3,\n",
    " - years 2008 and 2009,\n",
    " - out-migration months (March-June)\n",
    " - Chum and pink salmon\n",
    "\n",
    "This script produces four CSVs: (non-lethal, lethal) X (2008, 2009)"
   ],
   "metadata": {
    "collapsed": false,
    "pycharm": {
     "name": "#%% md\n"
    }
   }
  },
  {
   "cell_type": "code",
   "execution_count": 84,
   "outputs": [],
   "source": [
    "from pathlib import Path\n",
    "import pandas as pd"
   ],
   "metadata": {
    "collapsed": false,
    "pycharm": {
     "name": "#%%\n"
    }
   }
  },
  {
   "cell_type": "code",
   "execution_count": 85,
   "outputs": [],
   "source": [
    "# define data location constants\n",
    "DATA_DIR = Path('..') / 'source_data'\n",
    "WILD_FISH_DATA = DATA_DIR / 'all_wild_fish_lice.csv'\n",
    "WILD_EVENT_DATA = DATA_DIR / 'all_wild_sample_events.csv'\n",
    "\n",
    "OUTPUT_DIR = Path('..') / 'output' / 'Table_7'"
   ],
   "metadata": {
    "collapsed": false,
    "pycharm": {
     "name": "#%%\n"
    }
   }
  },
  {
   "cell_type": "code",
   "execution_count": 86,
   "outputs": [
    {
     "name": "stderr",
     "output_type": "stream",
     "text": [
      "/tmp/ipykernel_853237/609916669.py:4: DtypeWarning: Columns (0,1,6,18) have mixed types. Specify dtype option on import or set low_memory=False.\n",
      "  fish_df = pd.read_csv(WILD_FISH_DATA)\n"
     ]
    },
    {
     "data": {
      "text/plain": "  event_id  sampledate                 region dfozone  \\\n0     5666  2017-05-15  Broughton Archipelago     3_3   \n1     5666  2017-05-15  Broughton Archipelago     3_3   \n2     5666  2017-05-15  Broughton Archipelago     3_3   \n3     5666  2017-05-15  Broughton Archipelago     3_3   \n4     5666  2017-05-15  Broughton Archipelago     3_3   \n\n                sample_site           latitude   longitude  \\\n0  Swanson Island Fish Farm  50.61806666666666 -126.701233   \n1  Swanson Island Fish Farm  50.61806666666666 -126.701233   \n2  Swanson Island Fish Farm  50.61806666666666 -126.701233   \n3  Swanson Island Fish Farm  50.61806666666666 -126.701233   \n4  Swanson Island Fish Farm  50.61806666666666 -126.701233   \n\n                             source fish_id  length  ...  lep_unknown  \\\n0  Mainstream Biological Consulting       1    44.0  ...          0.0   \n1  Mainstream Biological Consulting       2    39.0  ...          0.0   \n2  Mainstream Biological Consulting       3    45.0  ...          0.0   \n3  Mainstream Biological Consulting       4    43.0  ...          0.0   \n4  Mainstream Biological Consulting       5    38.0  ...          0.0   \n\n   cal_cop cal_chal cal_motile  cal_unknown  unknown_cop  unknown_chal  \\\n0      0.0      0.0        0.0          0.0          0.0           0.0   \n1      0.0      1.0        0.0          0.0          0.0           0.0   \n2      0.0      2.0        0.0          0.0          0.0           0.0   \n3      0.0      0.0        0.0          0.0          0.0           0.0   \n4      0.0      3.0        0.0          0.0          0.0           0.0   \n\n   unknown_motile  unknown_unknown  lice_protocol  \n0             0.0              0.0            NaN  \n1             0.0              0.0            NaN  \n2             0.0              0.0            NaN  \n3             0.0              0.0            NaN  \n4             0.0              0.0            NaN  \n\n[5 rows x 26 columns]",
      "text/html": "<div>\n<style scoped>\n    .dataframe tbody tr th:only-of-type {\n        vertical-align: middle;\n    }\n\n    .dataframe tbody tr th {\n        vertical-align: top;\n    }\n\n    .dataframe thead th {\n        text-align: right;\n    }\n</style>\n<table border=\"1\" class=\"dataframe\">\n  <thead>\n    <tr style=\"text-align: right;\">\n      <th></th>\n      <th>event_id</th>\n      <th>sampledate</th>\n      <th>region</th>\n      <th>dfozone</th>\n      <th>sample_site</th>\n      <th>latitude</th>\n      <th>longitude</th>\n      <th>source</th>\n      <th>fish_id</th>\n      <th>length</th>\n      <th>...</th>\n      <th>lep_unknown</th>\n      <th>cal_cop</th>\n      <th>cal_chal</th>\n      <th>cal_motile</th>\n      <th>cal_unknown</th>\n      <th>unknown_cop</th>\n      <th>unknown_chal</th>\n      <th>unknown_motile</th>\n      <th>unknown_unknown</th>\n      <th>lice_protocol</th>\n    </tr>\n  </thead>\n  <tbody>\n    <tr>\n      <th>0</th>\n      <td>5666</td>\n      <td>2017-05-15</td>\n      <td>Broughton Archipelago</td>\n      <td>3_3</td>\n      <td>Swanson Island Fish Farm</td>\n      <td>50.61806666666666</td>\n      <td>-126.701233</td>\n      <td>Mainstream Biological Consulting</td>\n      <td>1</td>\n      <td>44.0</td>\n      <td>...</td>\n      <td>0.0</td>\n      <td>0.0</td>\n      <td>0.0</td>\n      <td>0.0</td>\n      <td>0.0</td>\n      <td>0.0</td>\n      <td>0.0</td>\n      <td>0.0</td>\n      <td>0.0</td>\n      <td>NaN</td>\n    </tr>\n    <tr>\n      <th>1</th>\n      <td>5666</td>\n      <td>2017-05-15</td>\n      <td>Broughton Archipelago</td>\n      <td>3_3</td>\n      <td>Swanson Island Fish Farm</td>\n      <td>50.61806666666666</td>\n      <td>-126.701233</td>\n      <td>Mainstream Biological Consulting</td>\n      <td>2</td>\n      <td>39.0</td>\n      <td>...</td>\n      <td>0.0</td>\n      <td>0.0</td>\n      <td>1.0</td>\n      <td>0.0</td>\n      <td>0.0</td>\n      <td>0.0</td>\n      <td>0.0</td>\n      <td>0.0</td>\n      <td>0.0</td>\n      <td>NaN</td>\n    </tr>\n    <tr>\n      <th>2</th>\n      <td>5666</td>\n      <td>2017-05-15</td>\n      <td>Broughton Archipelago</td>\n      <td>3_3</td>\n      <td>Swanson Island Fish Farm</td>\n      <td>50.61806666666666</td>\n      <td>-126.701233</td>\n      <td>Mainstream Biological Consulting</td>\n      <td>3</td>\n      <td>45.0</td>\n      <td>...</td>\n      <td>0.0</td>\n      <td>0.0</td>\n      <td>2.0</td>\n      <td>0.0</td>\n      <td>0.0</td>\n      <td>0.0</td>\n      <td>0.0</td>\n      <td>0.0</td>\n      <td>0.0</td>\n      <td>NaN</td>\n    </tr>\n    <tr>\n      <th>3</th>\n      <td>5666</td>\n      <td>2017-05-15</td>\n      <td>Broughton Archipelago</td>\n      <td>3_3</td>\n      <td>Swanson Island Fish Farm</td>\n      <td>50.61806666666666</td>\n      <td>-126.701233</td>\n      <td>Mainstream Biological Consulting</td>\n      <td>4</td>\n      <td>43.0</td>\n      <td>...</td>\n      <td>0.0</td>\n      <td>0.0</td>\n      <td>0.0</td>\n      <td>0.0</td>\n      <td>0.0</td>\n      <td>0.0</td>\n      <td>0.0</td>\n      <td>0.0</td>\n      <td>0.0</td>\n      <td>NaN</td>\n    </tr>\n    <tr>\n      <th>4</th>\n      <td>5666</td>\n      <td>2017-05-15</td>\n      <td>Broughton Archipelago</td>\n      <td>3_3</td>\n      <td>Swanson Island Fish Farm</td>\n      <td>50.61806666666666</td>\n      <td>-126.701233</td>\n      <td>Mainstream Biological Consulting</td>\n      <td>5</td>\n      <td>38.0</td>\n      <td>...</td>\n      <td>0.0</td>\n      <td>0.0</td>\n      <td>3.0</td>\n      <td>0.0</td>\n      <td>0.0</td>\n      <td>0.0</td>\n      <td>0.0</td>\n      <td>0.0</td>\n      <td>0.0</td>\n      <td>NaN</td>\n    </tr>\n  </tbody>\n</table>\n<p>5 rows × 26 columns</p>\n</div>"
     },
     "execution_count": 86,
     "metadata": {},
     "output_type": "execute_result"
    }
   ],
   "source": [
    "# import and merge the data\n",
    "events_df = pd.read_csv(WILD_EVENT_DATA)\n",
    "events_df['event_id'] = events_df['event_id'].astype(str)\n",
    "fish_df = pd.read_csv(WILD_FISH_DATA)\n",
    "fish_df['event_id'] = fish_df['event_id'].astype(str)\n",
    "wild_df = pd.merge(events_df, fish_df, on='event_id', how='right')\n",
    "wild_df.head()"
   ],
   "metadata": {
    "collapsed": false,
    "pycharm": {
     "name": "#%%\n"
    }
   }
  },
  {
   "cell_type": "code",
   "execution_count": 87,
   "outputs": [],
   "source": [
    "# create month and year columns\n",
    "wild_df['sampledate'] = pd.to_datetime(wild_df['sampledate'], errors='coerce', utc=True)\n",
    "wild_df['year'] = wild_df.sampledate.dt.year\n",
    "wild_df['month'] = wild_df.sampledate.dt.month"
   ],
   "metadata": {
    "collapsed": false,
    "pycharm": {
     "name": "#%%\n"
    }
   }
  },
  {
   "cell_type": "code",
   "execution_count": 88,
   "outputs": [
    {
     "name": "stderr",
     "output_type": "stream",
     "text": [
      "/tmp/ipykernel_853237/2920208545.py:2: FutureWarning: Dropping of nuisance columns in DataFrame reductions (with 'numeric_only=None') is deprecated; in a future version this will raise TypeError.  Select only valid columns before calling the reduction.\n",
      "  wild_df['all_lice'] = wild_df.loc[:, 'lep_cop':'unknown_unknown'].sum(axis=1)\n"
     ]
    },
    {
     "data": {
      "text/plain": "  event_id                sampledate                 region dfozone  \\\n0     5666 2017-05-15 00:00:00+00:00  Broughton Archipelago     3_3   \n1     5666 2017-05-15 00:00:00+00:00  Broughton Archipelago     3_3   \n2     5666 2017-05-15 00:00:00+00:00  Broughton Archipelago     3_3   \n3     5666 2017-05-15 00:00:00+00:00  Broughton Archipelago     3_3   \n4     5666 2017-05-15 00:00:00+00:00  Broughton Archipelago     3_3   \n\n                sample_site           latitude   longitude  \\\n0  Swanson Island Fish Farm  50.61806666666666 -126.701233   \n1  Swanson Island Fish Farm  50.61806666666666 -126.701233   \n2  Swanson Island Fish Farm  50.61806666666666 -126.701233   \n3  Swanson Island Fish Farm  50.61806666666666 -126.701233   \n4  Swanson Island Fish Farm  50.61806666666666 -126.701233   \n\n                             source fish_id  length  ...  cal_motile  \\\n0  Mainstream Biological Consulting       1    44.0  ...         0.0   \n1  Mainstream Biological Consulting       2    39.0  ...         0.0   \n2  Mainstream Biological Consulting       3    45.0  ...         0.0   \n3  Mainstream Biological Consulting       4    43.0  ...         0.0   \n4  Mainstream Biological Consulting       5    38.0  ...         0.0   \n\n   cal_unknown unknown_cop unknown_chal  unknown_motile  unknown_unknown  \\\n0          0.0         0.0          0.0             0.0              0.0   \n1          0.0         0.0          0.0             0.0              0.0   \n2          0.0         0.0          0.0             0.0              0.0   \n3          0.0         0.0          0.0             0.0              0.0   \n4          0.0         0.0          0.0             0.0              0.0   \n\n   lice_protocol    year  month  all_lice  \n0            NaN  2017.0    5.0       0.0  \n1            NaN  2017.0    5.0       2.0  \n2            NaN  2017.0    5.0       2.0  \n3            NaN  2017.0    5.0       0.0  \n4            NaN  2017.0    5.0       3.0  \n\n[5 rows x 29 columns]",
      "text/html": "<div>\n<style scoped>\n    .dataframe tbody tr th:only-of-type {\n        vertical-align: middle;\n    }\n\n    .dataframe tbody tr th {\n        vertical-align: top;\n    }\n\n    .dataframe thead th {\n        text-align: right;\n    }\n</style>\n<table border=\"1\" class=\"dataframe\">\n  <thead>\n    <tr style=\"text-align: right;\">\n      <th></th>\n      <th>event_id</th>\n      <th>sampledate</th>\n      <th>region</th>\n      <th>dfozone</th>\n      <th>sample_site</th>\n      <th>latitude</th>\n      <th>longitude</th>\n      <th>source</th>\n      <th>fish_id</th>\n      <th>length</th>\n      <th>...</th>\n      <th>cal_motile</th>\n      <th>cal_unknown</th>\n      <th>unknown_cop</th>\n      <th>unknown_chal</th>\n      <th>unknown_motile</th>\n      <th>unknown_unknown</th>\n      <th>lice_protocol</th>\n      <th>year</th>\n      <th>month</th>\n      <th>all_lice</th>\n    </tr>\n  </thead>\n  <tbody>\n    <tr>\n      <th>0</th>\n      <td>5666</td>\n      <td>2017-05-15 00:00:00+00:00</td>\n      <td>Broughton Archipelago</td>\n      <td>3_3</td>\n      <td>Swanson Island Fish Farm</td>\n      <td>50.61806666666666</td>\n      <td>-126.701233</td>\n      <td>Mainstream Biological Consulting</td>\n      <td>1</td>\n      <td>44.0</td>\n      <td>...</td>\n      <td>0.0</td>\n      <td>0.0</td>\n      <td>0.0</td>\n      <td>0.0</td>\n      <td>0.0</td>\n      <td>0.0</td>\n      <td>NaN</td>\n      <td>2017.0</td>\n      <td>5.0</td>\n      <td>0.0</td>\n    </tr>\n    <tr>\n      <th>1</th>\n      <td>5666</td>\n      <td>2017-05-15 00:00:00+00:00</td>\n      <td>Broughton Archipelago</td>\n      <td>3_3</td>\n      <td>Swanson Island Fish Farm</td>\n      <td>50.61806666666666</td>\n      <td>-126.701233</td>\n      <td>Mainstream Biological Consulting</td>\n      <td>2</td>\n      <td>39.0</td>\n      <td>...</td>\n      <td>0.0</td>\n      <td>0.0</td>\n      <td>0.0</td>\n      <td>0.0</td>\n      <td>0.0</td>\n      <td>0.0</td>\n      <td>NaN</td>\n      <td>2017.0</td>\n      <td>5.0</td>\n      <td>2.0</td>\n    </tr>\n    <tr>\n      <th>2</th>\n      <td>5666</td>\n      <td>2017-05-15 00:00:00+00:00</td>\n      <td>Broughton Archipelago</td>\n      <td>3_3</td>\n      <td>Swanson Island Fish Farm</td>\n      <td>50.61806666666666</td>\n      <td>-126.701233</td>\n      <td>Mainstream Biological Consulting</td>\n      <td>3</td>\n      <td>45.0</td>\n      <td>...</td>\n      <td>0.0</td>\n      <td>0.0</td>\n      <td>0.0</td>\n      <td>0.0</td>\n      <td>0.0</td>\n      <td>0.0</td>\n      <td>NaN</td>\n      <td>2017.0</td>\n      <td>5.0</td>\n      <td>2.0</td>\n    </tr>\n    <tr>\n      <th>3</th>\n      <td>5666</td>\n      <td>2017-05-15 00:00:00+00:00</td>\n      <td>Broughton Archipelago</td>\n      <td>3_3</td>\n      <td>Swanson Island Fish Farm</td>\n      <td>50.61806666666666</td>\n      <td>-126.701233</td>\n      <td>Mainstream Biological Consulting</td>\n      <td>4</td>\n      <td>43.0</td>\n      <td>...</td>\n      <td>0.0</td>\n      <td>0.0</td>\n      <td>0.0</td>\n      <td>0.0</td>\n      <td>0.0</td>\n      <td>0.0</td>\n      <td>NaN</td>\n      <td>2017.0</td>\n      <td>5.0</td>\n      <td>0.0</td>\n    </tr>\n    <tr>\n      <th>4</th>\n      <td>5666</td>\n      <td>2017-05-15 00:00:00+00:00</td>\n      <td>Broughton Archipelago</td>\n      <td>3_3</td>\n      <td>Swanson Island Fish Farm</td>\n      <td>50.61806666666666</td>\n      <td>-126.701233</td>\n      <td>Mainstream Biological Consulting</td>\n      <td>5</td>\n      <td>38.0</td>\n      <td>...</td>\n      <td>0.0</td>\n      <td>0.0</td>\n      <td>0.0</td>\n      <td>0.0</td>\n      <td>0.0</td>\n      <td>0.0</td>\n      <td>NaN</td>\n      <td>2017.0</td>\n      <td>5.0</td>\n      <td>3.0</td>\n    </tr>\n  </tbody>\n</table>\n<p>5 rows × 29 columns</p>\n</div>"
     },
     "execution_count": 88,
     "metadata": {},
     "output_type": "execute_result"
    }
   ],
   "source": [
    "# make a new column for count of all lice\n",
    "wild_df['all_lice'] = wild_df.loc[:, 'lep_cop':'unknown_unknown'].sum(axis=1)\n",
    "wild_df.head()"
   ],
   "metadata": {
    "collapsed": false,
    "pycharm": {
     "name": "#%%\n"
    }
   }
  },
  {
   "cell_type": "code",
   "execution_count": 89,
   "outputs": [
    {
     "data": {
      "text/plain": "array(['3_3', '2_3', '3_2', '2_4', '3_4', '3_1', '3_5', nan], dtype=object)"
     },
     "execution_count": 89,
     "metadata": {},
     "output_type": "execute_result"
    }
   ],
   "source": [
    "wild_df.dfozone.unique()"
   ],
   "metadata": {
    "collapsed": false,
    "pycharm": {
     "name": "#%%\n"
    }
   }
  },
  {
   "cell_type": "code",
   "execution_count": 90,
   "outputs": [
    {
     "data": {
      "text/plain": "array([2017., 2016., 2015., 2003., 2010., 2011., 2012., 2004., 2005.,\n       2006., 2008., 2009., 2007., 2018., 2019., 2020., 2021., 2022.,\n       2023., 2001.])"
     },
     "execution_count": 90,
     "metadata": {},
     "output_type": "execute_result"
    }
   ],
   "source": [
    "# constrain to the data that we are interested in\n",
    "wild_df = wild_df[(wild_df.dfozone == \"3_3\")]\n",
    "wild_df.year.unique()"
   ],
   "metadata": {
    "collapsed": false,
    "pycharm": {
     "name": "#%%\n"
    }
   }
  },
  {
   "cell_type": "code",
   "execution_count": 91,
   "outputs": [
    {
     "data": {
      "text/plain": "array([2008., 2009.])"
     },
     "execution_count": 91,
     "metadata": {},
     "output_type": "execute_result"
    }
   ],
   "source": [
    "wild_df = wild_df[(wild_df.year.isin([2008.0, 2009.0]))]\n",
    "wild_df.year.unique()"
   ],
   "metadata": {
    "collapsed": false,
    "pycharm": {
     "name": "#%%\n"
    }
   }
  },
  {
   "cell_type": "code",
   "execution_count": 92,
   "outputs": [
    {
     "data": {
      "text/plain": "array(['Pink Salmon', 'Chum Salmon', 'Three-Spined Stickleback',\n       'Other Species', 'Chinook Salmon', 'Pacific Herring',\n       'Coho Salmon'], dtype=object)"
     },
     "execution_count": 92,
     "metadata": {},
     "output_type": "execute_result"
    }
   ],
   "source": [
    "wild_df = wild_df[(wild_df.month.isin([3, 4, 5, 6, 7]))]\n",
    "wild_df.fish_species.unique()"
   ],
   "metadata": {
    "collapsed": false,
    "pycharm": {
     "name": "#%%\n"
    }
   }
  },
  {
   "cell_type": "code",
   "execution_count": 93,
   "outputs": [
    {
     "data": {
      "text/plain": "      event_id                sampledate                 region dfozone  \\\n35679     5371 2008-03-26 00:00:00+00:00  Broughton Archipelago     3_3   \n35680     6027 2008-03-27 00:00:00+00:00  Broughton Archipelago     3_3   \n35681     2264 2008-03-27 00:00:00+00:00  Broughton Archipelago     3_3   \n35682     1786 2008-03-28 00:00:00+00:00  Broughton Archipelago     3_3   \n35683     1786 2008-03-28 00:00:00+00:00  Broughton Archipelago     3_3   \n\n         sample_site   latitude  longitude                       source  \\\n35679    Slope Point  50.639999    -126.54  Fisheries and Oceans Canada   \n35680    Tribune Bay  50.639999    -126.46  Fisheries and Oceans Canada   \n35681    Gilford Bay  50.650002    -126.38  Fisheries and Oceans Canada   \n35682  Doctor Island  50.650002    -126.29  Fisheries and Oceans Canada   \n35683  Doctor Island  50.650002    -126.29  Fisheries and Oceans Canada   \n\n      fish_id  length  ...  cal_motile  cal_unknown unknown_cop unknown_chal  \\\n35679   35680    35.0  ...         0.0          0.0         0.0          0.0   \n35680   35681    34.0  ...         0.0          0.0         0.0          0.0   \n35681   35682    31.0  ...         0.0          0.0         0.0          0.0   \n35682   35683    32.0  ...         0.0          0.0         0.0          0.0   \n35683   35684    31.0  ...         0.0          0.0         0.0          0.0   \n\n       unknown_motile  unknown_unknown  lice_protocol    year  month  all_lice  \n35679             0.0              0.0            NaN  2008.0    3.0       0.0  \n35680             0.0              0.0            NaN  2008.0    3.0       0.0  \n35681             0.0              0.0            NaN  2008.0    3.0       0.0  \n35682             0.0              0.0            NaN  2008.0    3.0       0.0  \n35683             0.0              0.0            NaN  2008.0    3.0       0.0  \n\n[5 rows x 29 columns]",
      "text/html": "<div>\n<style scoped>\n    .dataframe tbody tr th:only-of-type {\n        vertical-align: middle;\n    }\n\n    .dataframe tbody tr th {\n        vertical-align: top;\n    }\n\n    .dataframe thead th {\n        text-align: right;\n    }\n</style>\n<table border=\"1\" class=\"dataframe\">\n  <thead>\n    <tr style=\"text-align: right;\">\n      <th></th>\n      <th>event_id</th>\n      <th>sampledate</th>\n      <th>region</th>\n      <th>dfozone</th>\n      <th>sample_site</th>\n      <th>latitude</th>\n      <th>longitude</th>\n      <th>source</th>\n      <th>fish_id</th>\n      <th>length</th>\n      <th>...</th>\n      <th>cal_motile</th>\n      <th>cal_unknown</th>\n      <th>unknown_cop</th>\n      <th>unknown_chal</th>\n      <th>unknown_motile</th>\n      <th>unknown_unknown</th>\n      <th>lice_protocol</th>\n      <th>year</th>\n      <th>month</th>\n      <th>all_lice</th>\n    </tr>\n  </thead>\n  <tbody>\n    <tr>\n      <th>35679</th>\n      <td>5371</td>\n      <td>2008-03-26 00:00:00+00:00</td>\n      <td>Broughton Archipelago</td>\n      <td>3_3</td>\n      <td>Slope Point</td>\n      <td>50.639999</td>\n      <td>-126.54</td>\n      <td>Fisheries and Oceans Canada</td>\n      <td>35680</td>\n      <td>35.0</td>\n      <td>...</td>\n      <td>0.0</td>\n      <td>0.0</td>\n      <td>0.0</td>\n      <td>0.0</td>\n      <td>0.0</td>\n      <td>0.0</td>\n      <td>NaN</td>\n      <td>2008.0</td>\n      <td>3.0</td>\n      <td>0.0</td>\n    </tr>\n    <tr>\n      <th>35680</th>\n      <td>6027</td>\n      <td>2008-03-27 00:00:00+00:00</td>\n      <td>Broughton Archipelago</td>\n      <td>3_3</td>\n      <td>Tribune Bay</td>\n      <td>50.639999</td>\n      <td>-126.46</td>\n      <td>Fisheries and Oceans Canada</td>\n      <td>35681</td>\n      <td>34.0</td>\n      <td>...</td>\n      <td>0.0</td>\n      <td>0.0</td>\n      <td>0.0</td>\n      <td>0.0</td>\n      <td>0.0</td>\n      <td>0.0</td>\n      <td>NaN</td>\n      <td>2008.0</td>\n      <td>3.0</td>\n      <td>0.0</td>\n    </tr>\n    <tr>\n      <th>35681</th>\n      <td>2264</td>\n      <td>2008-03-27 00:00:00+00:00</td>\n      <td>Broughton Archipelago</td>\n      <td>3_3</td>\n      <td>Gilford Bay</td>\n      <td>50.650002</td>\n      <td>-126.38</td>\n      <td>Fisheries and Oceans Canada</td>\n      <td>35682</td>\n      <td>31.0</td>\n      <td>...</td>\n      <td>0.0</td>\n      <td>0.0</td>\n      <td>0.0</td>\n      <td>0.0</td>\n      <td>0.0</td>\n      <td>0.0</td>\n      <td>NaN</td>\n      <td>2008.0</td>\n      <td>3.0</td>\n      <td>0.0</td>\n    </tr>\n    <tr>\n      <th>35682</th>\n      <td>1786</td>\n      <td>2008-03-28 00:00:00+00:00</td>\n      <td>Broughton Archipelago</td>\n      <td>3_3</td>\n      <td>Doctor Island</td>\n      <td>50.650002</td>\n      <td>-126.29</td>\n      <td>Fisheries and Oceans Canada</td>\n      <td>35683</td>\n      <td>32.0</td>\n      <td>...</td>\n      <td>0.0</td>\n      <td>0.0</td>\n      <td>0.0</td>\n      <td>0.0</td>\n      <td>0.0</td>\n      <td>0.0</td>\n      <td>NaN</td>\n      <td>2008.0</td>\n      <td>3.0</td>\n      <td>0.0</td>\n    </tr>\n    <tr>\n      <th>35683</th>\n      <td>1786</td>\n      <td>2008-03-28 00:00:00+00:00</td>\n      <td>Broughton Archipelago</td>\n      <td>3_3</td>\n      <td>Doctor Island</td>\n      <td>50.650002</td>\n      <td>-126.29</td>\n      <td>Fisheries and Oceans Canada</td>\n      <td>35684</td>\n      <td>31.0</td>\n      <td>...</td>\n      <td>0.0</td>\n      <td>0.0</td>\n      <td>0.0</td>\n      <td>0.0</td>\n      <td>0.0</td>\n      <td>0.0</td>\n      <td>NaN</td>\n      <td>2008.0</td>\n      <td>3.0</td>\n      <td>0.0</td>\n    </tr>\n  </tbody>\n</table>\n<p>5 rows × 29 columns</p>\n</div>"
     },
     "execution_count": 93,
     "metadata": {},
     "output_type": "execute_result"
    }
   ],
   "source": [
    "wild_df = wild_df[(wild_df.fish_species.isin(['Chum Salmon', 'Pink Salmon']))]\n",
    "wild_df.head()"
   ],
   "metadata": {
    "collapsed": false,
    "pycharm": {
     "name": "#%%\n"
    }
   }
  },
  {
   "cell_type": "code",
   "execution_count": 94,
   "outputs": [
    {
     "data": {
      "text/plain": "array(['Fisheries and Oceans Canada', 'Marty Krkosek'], dtype=object)"
     },
     "execution_count": 94,
     "metadata": {},
     "output_type": "execute_result"
    }
   ],
   "source": [
    "wild_df.source.unique()"
   ],
   "metadata": {
    "collapsed": false,
    "pycharm": {
     "name": "#%%\n"
    }
   }
  },
  {
   "cell_type": "code",
   "execution_count": 95,
   "outputs": [],
   "source": [
    "# label the non-lethal sampling\n",
    "NONLETHAL = 'nonlethal'\n",
    "LETHAL = 'lethal'\n",
    "# All sampling from Marty Krkosek and Salmon Coast are non-lethal\n",
    "nonlethal_sources = ['Marty Krkosek', 'Salmon Coast Field Station', 'Cedar Coast Field Station']\n",
    "\n",
    "wild_df['sampling'] = wild_df.source.apply(lambda x: NONLETHAL if x in nonlethal_sources else LETHAL)"
   ],
   "metadata": {
    "collapsed": false,
    "pycharm": {
     "name": "#%%\n"
    }
   }
  },
  {
   "cell_type": "code",
   "execution_count": 96,
   "outputs": [],
   "source": [
    "def fill_year_stats(input_df, lethality_type):\n",
    "    \"\"\"\n",
    "    Creates a dataframe from the input data. Output is number of fish, non-infested fish count, infested fish count, lice count,\n",
    "    prevalence, intensity. Output is broken down by month.\n",
    "    :param input_df: restricted to lethal or non-lethal and year\n",
    "    :type input_df: pandas.Dataframe object\n",
    "    :param lethality_type: Indicator of type of data, will be used as first column name\n",
    "    :type lethality_type: str\n",
    "    :return: Dataframe of summary stats as per table 7\n",
    "    :rtype: pandas.Dataframe object\n",
    "    \"\"\"\n",
    "    month_list = sorted(list(input_df.month.unique()))\n",
    "\n",
    "    output_dict = {lethality_type: []}\n",
    "    for month in month_list:\n",
    "        output_dict[month] = []\n",
    "\n",
    "    # keep track of some numbers to help later calculations\n",
    "    num_all_fish = {}\n",
    "    num_infested_fish = {}\n",
    "    num_all_lice = {}\n",
    "\n",
    "    # get counts of all fish\n",
    "    output_dict[lethality_type].append('All fish')\n",
    "    for month in month_list:\n",
    "        num_fish = len(input_df[input_df.month == month])\n",
    "        output_dict[month].append(num_fish)\n",
    "\n",
    "        num_all_fish[month] = num_fish\n",
    "\n",
    "    # get counts of non-infested fish\n",
    "    output_dict[lethality_type].append('Non-infested')\n",
    "    for month in month_list:\n",
    "        num_fish = len(input_df[(input_df.month == month) & (input_df.all_lice == 0)])\n",
    "        output_dict[month].append(num_fish)\n",
    "\n",
    "    # get counts of infested fish\n",
    "    output_dict[lethality_type].append('Infested')\n",
    "    for month in month_list:\n",
    "        num_fish = len(input_df[(input_df.month == month) & (input_df.all_lice > 0)])\n",
    "        output_dict[month].append(num_fish)\n",
    "\n",
    "        num_infested_fish[month] = num_fish\n",
    "\n",
    "    # get counts of all lice\n",
    "    output_dict[lethality_type].append('All lice')\n",
    "    for month in month_list:\n",
    "        num_lice = input_df[(input_df.month == month)].all_lice.sum()\n",
    "        output_dict[month].append(num_lice)\n",
    "\n",
    "        num_all_lice[month] = num_lice\n",
    "\n",
    "    # calculate prevalence\n",
    "    output_dict[lethality_type].append('Prevalence')\n",
    "    for month in month_list:\n",
    "        prevalence = num_infested_fish[month] / num_all_fish[month]\n",
    "        output_dict[month].append(prevalence)\n",
    "\n",
    "    # calculate intensity\n",
    "    output_dict[lethality_type].append('Intensity')\n",
    "    for month in month_list:\n",
    "        prevalence = num_all_lice[month] / num_infested_fish[month]\n",
    "        output_dict[month].append(prevalence)\n",
    "\n",
    "    # make into a dataframe and return\n",
    "    output_df = pd.DataFrame(output_dict)\n",
    "\n",
    "    # give the months friendly names\n",
    "    output_df.rename(columns={3: 'Mar', 4: 'Apr', 5:'May', 6:'Jun', 7:'Jul'}, inplace=True)\n",
    "\n",
    "    return output_df"
   ],
   "metadata": {
    "collapsed": false,
    "pycharm": {
     "name": "#%%\n"
    }
   }
  },
  {
   "cell_type": "markdown",
   "source": [
    "### Non-lethal, 2008"
   ],
   "metadata": {
    "collapsed": false,
    "pycharm": {
     "name": "#%% md\n"
    }
   }
  },
  {
   "cell_type": "code",
   "execution_count": 97,
   "outputs": [
    {
     "data": {
      "text/plain": "     Non-lethal          Apr          May          Jun\n0      All fish  5300.000000  8818.000000  7243.000000\n1  Non-infested  4911.000000  7922.000000  5538.000000\n2      Infested   389.000000   896.000000  1705.000000\n3      All lice   429.000000  1152.000000  2615.000000\n4    Prevalence     0.073396     0.101610     0.235400\n5     Intensity     1.102828     1.285714     1.533724",
      "text/html": "<div>\n<style scoped>\n    .dataframe tbody tr th:only-of-type {\n        vertical-align: middle;\n    }\n\n    .dataframe tbody tr th {\n        vertical-align: top;\n    }\n\n    .dataframe thead th {\n        text-align: right;\n    }\n</style>\n<table border=\"1\" class=\"dataframe\">\n  <thead>\n    <tr style=\"text-align: right;\">\n      <th></th>\n      <th>Non-lethal</th>\n      <th>Apr</th>\n      <th>May</th>\n      <th>Jun</th>\n    </tr>\n  </thead>\n  <tbody>\n    <tr>\n      <th>0</th>\n      <td>All fish</td>\n      <td>5300.000000</td>\n      <td>8818.000000</td>\n      <td>7243.000000</td>\n    </tr>\n    <tr>\n      <th>1</th>\n      <td>Non-infested</td>\n      <td>4911.000000</td>\n      <td>7922.000000</td>\n      <td>5538.000000</td>\n    </tr>\n    <tr>\n      <th>2</th>\n      <td>Infested</td>\n      <td>389.000000</td>\n      <td>896.000000</td>\n      <td>1705.000000</td>\n    </tr>\n    <tr>\n      <th>3</th>\n      <td>All lice</td>\n      <td>429.000000</td>\n      <td>1152.000000</td>\n      <td>2615.000000</td>\n    </tr>\n    <tr>\n      <th>4</th>\n      <td>Prevalence</td>\n      <td>0.073396</td>\n      <td>0.101610</td>\n      <td>0.235400</td>\n    </tr>\n    <tr>\n      <th>5</th>\n      <td>Intensity</td>\n      <td>1.102828</td>\n      <td>1.285714</td>\n      <td>1.533724</td>\n    </tr>\n  </tbody>\n</table>\n</div>"
     },
     "execution_count": 97,
     "metadata": {},
     "output_type": "execute_result"
    }
   ],
   "source": [
    "non_lethal_2008_input_df = wild_df[(wild_df.sampling == NONLETHAL) & (wild_df.year == 2008)]\n",
    "non_lethal_2008_df = fill_year_stats(non_lethal_2008_input_df, 'Non-lethal')\n",
    "\n",
    "# write to file\n",
    "non_lethal_2008_df.to_csv(OUTPUT_DIR / 'non_lethal_2008.csv', index=False)\n",
    "\n",
    "non_lethal_2008_df.head(10)"
   ],
   "metadata": {
    "collapsed": false,
    "pycharm": {
     "name": "#%%\n"
    }
   }
  },
  {
   "cell_type": "markdown",
   "source": [
    "### Non-lethal, 2009"
   ],
   "metadata": {
    "collapsed": false,
    "pycharm": {
     "name": "#%% md\n"
    }
   }
  },
  {
   "cell_type": "code",
   "execution_count": 98,
   "outputs": [
    {
     "data": {
      "text/plain": "     Non-lethal          Apr          May          Jun\n0      All fish  3174.000000  8948.000000  4455.000000\n1  Non-infested  3081.000000  7483.000000  3699.000000\n2      Infested    93.000000  1465.000000   756.000000\n3      All lice    94.000000  1943.000000  1057.000000\n4    Prevalence     0.029301     0.163724     0.169697\n5     Intensity     1.010753     1.326280     1.398148",
      "text/html": "<div>\n<style scoped>\n    .dataframe tbody tr th:only-of-type {\n        vertical-align: middle;\n    }\n\n    .dataframe tbody tr th {\n        vertical-align: top;\n    }\n\n    .dataframe thead th {\n        text-align: right;\n    }\n</style>\n<table border=\"1\" class=\"dataframe\">\n  <thead>\n    <tr style=\"text-align: right;\">\n      <th></th>\n      <th>Non-lethal</th>\n      <th>Apr</th>\n      <th>May</th>\n      <th>Jun</th>\n    </tr>\n  </thead>\n  <tbody>\n    <tr>\n      <th>0</th>\n      <td>All fish</td>\n      <td>3174.000000</td>\n      <td>8948.000000</td>\n      <td>4455.000000</td>\n    </tr>\n    <tr>\n      <th>1</th>\n      <td>Non-infested</td>\n      <td>3081.000000</td>\n      <td>7483.000000</td>\n      <td>3699.000000</td>\n    </tr>\n    <tr>\n      <th>2</th>\n      <td>Infested</td>\n      <td>93.000000</td>\n      <td>1465.000000</td>\n      <td>756.000000</td>\n    </tr>\n    <tr>\n      <th>3</th>\n      <td>All lice</td>\n      <td>94.000000</td>\n      <td>1943.000000</td>\n      <td>1057.000000</td>\n    </tr>\n    <tr>\n      <th>4</th>\n      <td>Prevalence</td>\n      <td>0.029301</td>\n      <td>0.163724</td>\n      <td>0.169697</td>\n    </tr>\n    <tr>\n      <th>5</th>\n      <td>Intensity</td>\n      <td>1.010753</td>\n      <td>1.326280</td>\n      <td>1.398148</td>\n    </tr>\n  </tbody>\n</table>\n</div>"
     },
     "execution_count": 98,
     "metadata": {},
     "output_type": "execute_result"
    }
   ],
   "source": [
    "non_lethal_2009_input_df = wild_df[(wild_df.sampling == NONLETHAL) & (wild_df.year == 2009)]\n",
    "non_lethal_2009_df = fill_year_stats(non_lethal_2009_input_df, 'Non-lethal')\n",
    "\n",
    "# write to file\n",
    "non_lethal_2009_df.to_csv(OUTPUT_DIR / 'non_lethal_2009.csv', index=False)\n",
    "\n",
    "non_lethal_2009_df.head(10)\n"
   ],
   "metadata": {
    "collapsed": false,
    "pycharm": {
     "name": "#%%\n"
    }
   }
  },
  {
   "cell_type": "markdown",
   "source": [
    "### Lethal, 2008"
   ],
   "metadata": {
    "collapsed": false,
    "pycharm": {
     "name": "#%% md\n"
    }
   }
  },
  {
   "cell_type": "code",
   "execution_count": 99,
   "outputs": [
    {
     "data": {
      "text/plain": "         Lethal         Mar          Apr          May          Jun\n0      All fish  544.000000  1432.000000  3348.000000  2343.000000\n1  Non-infested  542.000000  1375.000000  3162.000000  2026.000000\n2      Infested    2.000000    57.000000   186.000000   317.000000\n3      All lice    2.000000    68.000000   253.000000   489.000000\n4    Prevalence    0.003676     0.039804     0.055556     0.135297\n5     Intensity    1.000000     1.192982     1.360215     1.542587",
      "text/html": "<div>\n<style scoped>\n    .dataframe tbody tr th:only-of-type {\n        vertical-align: middle;\n    }\n\n    .dataframe tbody tr th {\n        vertical-align: top;\n    }\n\n    .dataframe thead th {\n        text-align: right;\n    }\n</style>\n<table border=\"1\" class=\"dataframe\">\n  <thead>\n    <tr style=\"text-align: right;\">\n      <th></th>\n      <th>Lethal</th>\n      <th>Mar</th>\n      <th>Apr</th>\n      <th>May</th>\n      <th>Jun</th>\n    </tr>\n  </thead>\n  <tbody>\n    <tr>\n      <th>0</th>\n      <td>All fish</td>\n      <td>544.000000</td>\n      <td>1432.000000</td>\n      <td>3348.000000</td>\n      <td>2343.000000</td>\n    </tr>\n    <tr>\n      <th>1</th>\n      <td>Non-infested</td>\n      <td>542.000000</td>\n      <td>1375.000000</td>\n      <td>3162.000000</td>\n      <td>2026.000000</td>\n    </tr>\n    <tr>\n      <th>2</th>\n      <td>Infested</td>\n      <td>2.000000</td>\n      <td>57.000000</td>\n      <td>186.000000</td>\n      <td>317.000000</td>\n    </tr>\n    <tr>\n      <th>3</th>\n      <td>All lice</td>\n      <td>2.000000</td>\n      <td>68.000000</td>\n      <td>253.000000</td>\n      <td>489.000000</td>\n    </tr>\n    <tr>\n      <th>4</th>\n      <td>Prevalence</td>\n      <td>0.003676</td>\n      <td>0.039804</td>\n      <td>0.055556</td>\n      <td>0.135297</td>\n    </tr>\n    <tr>\n      <th>5</th>\n      <td>Intensity</td>\n      <td>1.000000</td>\n      <td>1.192982</td>\n      <td>1.360215</td>\n      <td>1.542587</td>\n    </tr>\n  </tbody>\n</table>\n</div>"
     },
     "execution_count": 99,
     "metadata": {},
     "output_type": "execute_result"
    }
   ],
   "source": [
    "lethal_2008_input_df = wild_df[(wild_df.sampling == LETHAL) & (wild_df.year == 2008)]\n",
    "lethal_2008_df = fill_year_stats(lethal_2008_input_df, 'Lethal')\n",
    "\n",
    "# write to file\n",
    "lethal_2008_df.to_csv(OUTPUT_DIR / 'lethal_2008.csv', index=False)\n",
    "\n",
    "lethal_2008_df.head(10)"
   ],
   "metadata": {
    "collapsed": false,
    "pycharm": {
     "name": "#%%\n"
    }
   }
  },
  {
   "cell_type": "markdown",
   "source": [
    "### Lethal, 2009"
   ],
   "metadata": {
    "collapsed": false,
    "pycharm": {
     "name": "#%% md\n"
    }
   }
  },
  {
   "cell_type": "code",
   "execution_count": 100,
   "outputs": [
    {
     "name": "stderr",
     "output_type": "stream",
     "text": [
      "/tmp/ipykernel_853237/3002635560.py:62: RuntimeWarning: invalid value encountered in double_scalars\n",
      "  prevalence = num_all_lice[month] / num_infested_fish[month]\n"
     ]
    },
    {
     "data": {
      "text/plain": "         Lethal    Mar          Apr          May          Jun         Jul\n0      All fish  479.0  1092.000000  2988.000000  2904.000000  261.000000\n1  Non-infested  479.0  1070.000000  2790.000000  2490.000000  206.000000\n2      Infested    0.0    22.000000   198.000000   414.000000   55.000000\n3      All lice    0.0    26.000000   231.000000   770.000000  104.000000\n4    Prevalence    0.0     0.020147     0.066265     0.142562    0.210728\n5     Intensity    NaN     1.181818     1.166667     1.859903    1.890909",
      "text/html": "<div>\n<style scoped>\n    .dataframe tbody tr th:only-of-type {\n        vertical-align: middle;\n    }\n\n    .dataframe tbody tr th {\n        vertical-align: top;\n    }\n\n    .dataframe thead th {\n        text-align: right;\n    }\n</style>\n<table border=\"1\" class=\"dataframe\">\n  <thead>\n    <tr style=\"text-align: right;\">\n      <th></th>\n      <th>Lethal</th>\n      <th>Mar</th>\n      <th>Apr</th>\n      <th>May</th>\n      <th>Jun</th>\n      <th>Jul</th>\n    </tr>\n  </thead>\n  <tbody>\n    <tr>\n      <th>0</th>\n      <td>All fish</td>\n      <td>479.0</td>\n      <td>1092.000000</td>\n      <td>2988.000000</td>\n      <td>2904.000000</td>\n      <td>261.000000</td>\n    </tr>\n    <tr>\n      <th>1</th>\n      <td>Non-infested</td>\n      <td>479.0</td>\n      <td>1070.000000</td>\n      <td>2790.000000</td>\n      <td>2490.000000</td>\n      <td>206.000000</td>\n    </tr>\n    <tr>\n      <th>2</th>\n      <td>Infested</td>\n      <td>0.0</td>\n      <td>22.000000</td>\n      <td>198.000000</td>\n      <td>414.000000</td>\n      <td>55.000000</td>\n    </tr>\n    <tr>\n      <th>3</th>\n      <td>All lice</td>\n      <td>0.0</td>\n      <td>26.000000</td>\n      <td>231.000000</td>\n      <td>770.000000</td>\n      <td>104.000000</td>\n    </tr>\n    <tr>\n      <th>4</th>\n      <td>Prevalence</td>\n      <td>0.0</td>\n      <td>0.020147</td>\n      <td>0.066265</td>\n      <td>0.142562</td>\n      <td>0.210728</td>\n    </tr>\n    <tr>\n      <th>5</th>\n      <td>Intensity</td>\n      <td>NaN</td>\n      <td>1.181818</td>\n      <td>1.166667</td>\n      <td>1.859903</td>\n      <td>1.890909</td>\n    </tr>\n  </tbody>\n</table>\n</div>"
     },
     "execution_count": 100,
     "metadata": {},
     "output_type": "execute_result"
    }
   ],
   "source": [
    "lethal_2009_input_df = wild_df[(wild_df.sampling == LETHAL) & (wild_df.year == 2009)]\n",
    "lethal_2009_df = fill_year_stats(lethal_2009_input_df, 'Lethal')\n",
    "\n",
    "# write to file\n",
    "lethal_2009_df.to_csv(OUTPUT_DIR / 'lethal_2009.csv', index=False)\n",
    "\n",
    "lethal_2009_df.head(10)"
   ],
   "metadata": {
    "collapsed": false,
    "pycharm": {
     "name": "#%%\n"
    }
   }
  },
  {
   "cell_type": "code",
   "execution_count": 100,
   "outputs": [],
   "source": [],
   "metadata": {
    "collapsed": false,
    "pycharm": {
     "name": "#%%\n"
    }
   }
  }
 ],
 "metadata": {
  "kernelspec": {
   "display_name": "Python 3",
   "language": "python",
   "name": "python3"
  },
  "language_info": {
   "codemirror_mode": {
    "name": "ipython",
    "version": 2
   },
   "file_extension": ".py",
   "mimetype": "text/x-python",
   "name": "python",
   "nbconvert_exporter": "python",
   "pygments_lexer": "ipython2",
   "version": "2.7.6"
  }
 },
 "nbformat": 4,
 "nbformat_minor": 0
}