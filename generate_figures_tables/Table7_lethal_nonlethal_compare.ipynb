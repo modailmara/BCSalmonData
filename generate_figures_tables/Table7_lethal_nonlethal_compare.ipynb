{
 "cells": [
  {
   "cell_type": "markdown",
   "source": [
    "## This notebook creates CSVs with summary statistics for lethal and non-lethal sampling\n",
    "The table shows a comparison of lethal and non-lethal sampling.\n",
    "Non-lethal sampling is source=\"Salmon Coast Field Station\" and 'Marty Krkosek'\n",
    "The data is constrained to\n",
    " - zone 3.3,\n",
    " - years 2008 and 2009,\n",
    " - out-migration months (March-June)\n",
    " - Chum and pink salmon\n",
    "\n",
    "This script produces four CSVs: (non-lethal, lethal) X (2008, 2009)"
   ],
   "metadata": {
    "collapsed": false,
    "pycharm": {
     "name": "#%% md\n"
    }
   }
  },
  {
   "cell_type": "code",
   "execution_count": 344,
   "outputs": [],
   "source": [
    "from pathlib import Path\n",
    "import pandas as pd"
   ],
   "metadata": {
    "collapsed": false,
    "pycharm": {
     "name": "#%%\n"
    }
   }
  },
  {
   "cell_type": "code",
   "execution_count": 345,
   "outputs": [],
   "source": [
    "# define data location constants\n",
    "DATA_DIR = Path('..') / 'source_data'\n",
    "WILD_FISH_DATA = DATA_DIR / 'all_wild_fish_lice.csv'\n",
    "WILD_EVENT_DATA = DATA_DIR / 'all_wild_sample_events.csv'\n",
    "\n",
    "OUTPUT_DIR = Path('..') / 'output' / 'Table_7'"
   ],
   "metadata": {
    "collapsed": false,
    "pycharm": {
     "name": "#%%\n"
    }
   }
  },
  {
   "cell_type": "code",
   "execution_count": 346,
   "outputs": [
    {
     "name": "stderr",
     "output_type": "stream",
     "text": [
      "/tmp/ipykernel_853237/3587232408.py:4: DtypeWarning: Columns (0,1,6) have mixed types. Specify dtype option on import or set low_memory=False.\n",
      "  fish_df = pd.read_csv(WILD_FISH_DATA)\n"
     ]
    },
    {
     "data": {
      "text/plain": "  event_id sampledate                 region dfozone   sample_site  latitude  \\\n0        1 2003-05-13  Broughton Archipelago     3_3  Adeane Point  50.71978   \n1        1 2003-05-13  Broughton Archipelago     3_3  Adeane Point  50.71978   \n2        1 2003-05-13  Broughton Archipelago     3_3  Adeane Point  50.71978   \n3        1 2003-05-13  Broughton Archipelago     3_3  Adeane Point  50.71978   \n4        1 2003-05-13  Broughton Archipelago     3_3  Adeane Point  50.71978   \n\n   longitude                       source source_code fish_id  ...  \\\n0  -125.6795  Fisheries and Oceans Canada         DFO    1715  ...   \n1  -125.6795  Fisheries and Oceans Canada         DFO    1716  ...   \n2  -125.6795  Fisheries and Oceans Canada         DFO    1717  ...   \n3  -125.6795  Fisheries and Oceans Canada         DFO    1718  ...   \n4  -125.6795  Fisheries and Oceans Canada         DFO    1719  ...   \n\n   lep_unknown  cal_cop  cal_chal cal_motile cal_unknown  unknown_cop  \\\n0          0.0      0.0       0.0        0.0         0.0          0.0   \n1          0.0      0.0       0.0        0.0         0.0          0.0   \n2          0.0      0.0       0.0        0.0         0.0          0.0   \n3          0.0      0.0       0.0        0.0         0.0          0.0   \n4          0.0      0.0       0.0        0.0         0.0          0.0   \n\n   unknown_chal  unknown_motile  unknown_unknown  lice_protocol  \n0           0.0             0.0              0.0         Lethal  \n1           0.0             0.0              0.0         Lethal  \n2           0.0             0.0              0.0         Lethal  \n3           0.0             0.0              0.0         Lethal  \n4           0.0             0.0              0.0         Lethal  \n\n[5 rows x 27 columns]",
      "text/html": "<div>\n<style scoped>\n    .dataframe tbody tr th:only-of-type {\n        vertical-align: middle;\n    }\n\n    .dataframe tbody tr th {\n        vertical-align: top;\n    }\n\n    .dataframe thead th {\n        text-align: right;\n    }\n</style>\n<table border=\"1\" class=\"dataframe\">\n  <thead>\n    <tr style=\"text-align: right;\">\n      <th></th>\n      <th>event_id</th>\n      <th>sampledate</th>\n      <th>region</th>\n      <th>dfozone</th>\n      <th>sample_site</th>\n      <th>latitude</th>\n      <th>longitude</th>\n      <th>source</th>\n      <th>source_code</th>\n      <th>fish_id</th>\n      <th>...</th>\n      <th>lep_unknown</th>\n      <th>cal_cop</th>\n      <th>cal_chal</th>\n      <th>cal_motile</th>\n      <th>cal_unknown</th>\n      <th>unknown_cop</th>\n      <th>unknown_chal</th>\n      <th>unknown_motile</th>\n      <th>unknown_unknown</th>\n      <th>lice_protocol</th>\n    </tr>\n  </thead>\n  <tbody>\n    <tr>\n      <th>0</th>\n      <td>1</td>\n      <td>2003-05-13</td>\n      <td>Broughton Archipelago</td>\n      <td>3_3</td>\n      <td>Adeane Point</td>\n      <td>50.71978</td>\n      <td>-125.6795</td>\n      <td>Fisheries and Oceans Canada</td>\n      <td>DFO</td>\n      <td>1715</td>\n      <td>...</td>\n      <td>0.0</td>\n      <td>0.0</td>\n      <td>0.0</td>\n      <td>0.0</td>\n      <td>0.0</td>\n      <td>0.0</td>\n      <td>0.0</td>\n      <td>0.0</td>\n      <td>0.0</td>\n      <td>Lethal</td>\n    </tr>\n    <tr>\n      <th>1</th>\n      <td>1</td>\n      <td>2003-05-13</td>\n      <td>Broughton Archipelago</td>\n      <td>3_3</td>\n      <td>Adeane Point</td>\n      <td>50.71978</td>\n      <td>-125.6795</td>\n      <td>Fisheries and Oceans Canada</td>\n      <td>DFO</td>\n      <td>1716</td>\n      <td>...</td>\n      <td>0.0</td>\n      <td>0.0</td>\n      <td>0.0</td>\n      <td>0.0</td>\n      <td>0.0</td>\n      <td>0.0</td>\n      <td>0.0</td>\n      <td>0.0</td>\n      <td>0.0</td>\n      <td>Lethal</td>\n    </tr>\n    <tr>\n      <th>2</th>\n      <td>1</td>\n      <td>2003-05-13</td>\n      <td>Broughton Archipelago</td>\n      <td>3_3</td>\n      <td>Adeane Point</td>\n      <td>50.71978</td>\n      <td>-125.6795</td>\n      <td>Fisheries and Oceans Canada</td>\n      <td>DFO</td>\n      <td>1717</td>\n      <td>...</td>\n      <td>0.0</td>\n      <td>0.0</td>\n      <td>0.0</td>\n      <td>0.0</td>\n      <td>0.0</td>\n      <td>0.0</td>\n      <td>0.0</td>\n      <td>0.0</td>\n      <td>0.0</td>\n      <td>Lethal</td>\n    </tr>\n    <tr>\n      <th>3</th>\n      <td>1</td>\n      <td>2003-05-13</td>\n      <td>Broughton Archipelago</td>\n      <td>3_3</td>\n      <td>Adeane Point</td>\n      <td>50.71978</td>\n      <td>-125.6795</td>\n      <td>Fisheries and Oceans Canada</td>\n      <td>DFO</td>\n      <td>1718</td>\n      <td>...</td>\n      <td>0.0</td>\n      <td>0.0</td>\n      <td>0.0</td>\n      <td>0.0</td>\n      <td>0.0</td>\n      <td>0.0</td>\n      <td>0.0</td>\n      <td>0.0</td>\n      <td>0.0</td>\n      <td>Lethal</td>\n    </tr>\n    <tr>\n      <th>4</th>\n      <td>1</td>\n      <td>2003-05-13</td>\n      <td>Broughton Archipelago</td>\n      <td>3_3</td>\n      <td>Adeane Point</td>\n      <td>50.71978</td>\n      <td>-125.6795</td>\n      <td>Fisheries and Oceans Canada</td>\n      <td>DFO</td>\n      <td>1719</td>\n      <td>...</td>\n      <td>0.0</td>\n      <td>0.0</td>\n      <td>0.0</td>\n      <td>0.0</td>\n      <td>0.0</td>\n      <td>0.0</td>\n      <td>0.0</td>\n      <td>0.0</td>\n      <td>0.0</td>\n      <td>Lethal</td>\n    </tr>\n  </tbody>\n</table>\n<p>5 rows × 27 columns</p>\n</div>"
     },
     "execution_count": 346,
     "metadata": {},
     "output_type": "execute_result"
    }
   ],
   "source": [
    "# import and merge the data\n",
    "events_df = pd.read_csv(WILD_EVENT_DATA, parse_dates=['sampledate'])\n",
    "events_df['event_id'] = events_df['event_id'].astype(str)\n",
    "fish_df = pd.read_csv(WILD_FISH_DATA)\n",
    "fish_df['event_id'] = fish_df['event_id'].astype(str)\n",
    "wild_df = pd.merge(events_df, fish_df, on='event_id', how='left')\n",
    "wild_df.head()"
   ],
   "metadata": {
    "collapsed": false,
    "pycharm": {
     "name": "#%%\n"
    }
   }
  },
  {
   "cell_type": "markdown",
   "source": [],
   "metadata": {
    "collapsed": false,
    "pycharm": {
     "name": "#%% md\n"
    }
   }
  },
  {
   "cell_type": "code",
   "execution_count": 347,
   "outputs": [
    {
     "data": {
      "text/plain": "array(['Pink Salmon', 'Chum Salmon', 'Sockeye Salmon', nan], dtype=object)"
     },
     "execution_count": 347,
     "metadata": {},
     "output_type": "execute_result"
    }
   ],
   "source": [
    "wild_df.loc[wild_df.source_code == 'SCS'].fish_species.unique()"
   ],
   "metadata": {
    "collapsed": false,
    "pycharm": {
     "name": "#%%\n"
    }
   }
  },
  {
   "cell_type": "code",
   "execution_count": 348,
   "outputs": [
    {
     "data": {
      "text/plain": "dtype('<M8[ns]')"
     },
     "execution_count": 348,
     "metadata": {},
     "output_type": "execute_result"
    }
   ],
   "source": [
    "wild_df.sampledate.dtype"
   ],
   "metadata": {
    "collapsed": false,
    "pycharm": {
     "name": "#%%\n"
    }
   }
  },
  {
   "cell_type": "code",
   "execution_count": 349,
   "outputs": [],
   "source": [
    "# create month and year columns\n",
    "wild_df['year'] = wild_df.sampledate.dt.year\n",
    "wild_df['month'] = wild_df.sampledate.dt.month"
   ],
   "metadata": {
    "collapsed": false,
    "pycharm": {
     "name": "#%%\n"
    }
   }
  },
  {
   "cell_type": "code",
   "execution_count": 350,
   "outputs": [
    {
     "data": {
      "text/plain": "array(['Chum Salmon', 'Pink Salmon'], dtype=object)"
     },
     "execution_count": 350,
     "metadata": {},
     "output_type": "execute_result"
    }
   ],
   "source": [
    "# just the bits we need for this analysis\n",
    "wild_df = wild_df[(wild_df.dfozone == \"3_3\")]\n",
    "\n",
    "wild_df = wild_df[(wild_df.year.isin([2008, 2009]))]\n",
    "\n",
    "wild_df.loc[wild_df.source_code == 'SCS'].fish_species.unique()\n",
    "# wild_df.source_code.unique()\n",
    "# wild_df.month.dtype"
   ],
   "metadata": {
    "collapsed": false,
    "pycharm": {
     "name": "#%%\n"
    }
   }
  },
  {
   "cell_type": "code",
   "execution_count": 351,
   "outputs": [
    {
     "name": "stdout",
     "output_type": "stream",
     "text": [
      "years: [2008 2009]\n",
      "months: [4 5 6 3 7]\n",
      "species: ['Pink Salmon' 'Chum Salmon']\n",
      "sources: ['DFO' 'MK' 'SCS']['Fisheries and Oceans Canada' 'Marty Krkosek'\n",
      " 'Salmon Coast Field Station']\n"
     ]
    }
   ],
   "source": [
    "\n",
    "wild_df = wild_df[(wild_df.month.isin([3, 4, 5, 6, 7]))]\n",
    "\n",
    "wild_df = wild_df[(wild_df.fish_species.isin(['Chum Salmon', 'Pink Salmon']))]\n",
    "sc = wild_df.source_code.unique()\n",
    "sf = wild_df.source.unique()\n",
    "print(\"years: {}\\nmonths: {}\\nspecies: {}\\nsources: {}{}\".format(\n",
    "    wild_df.year.unique(), wild_df.month.unique(), wild_df.fish_species.unique(),\n",
    "    sc, sf\n",
    "))"
   ],
   "metadata": {
    "collapsed": false,
    "pycharm": {
     "name": "#%%\n"
    }
   }
  },
  {
   "cell_type": "code",
   "execution_count": 352,
   "outputs": [
    {
     "data": {
      "text/plain": "     event_id sampledate                 region dfozone  sample_site  \\\n1868      130 2008-04-28  Broughton Archipelago     3_3  Alder Point   \n1869      130 2008-04-28  Broughton Archipelago     3_3  Alder Point   \n1870      130 2008-04-28  Broughton Archipelago     3_3  Alder Point   \n1871      130 2008-04-28  Broughton Archipelago     3_3  Alder Point   \n1872      130 2008-04-28  Broughton Archipelago     3_3  Alder Point   \n\n       latitude  longitude                       source source_code fish_id  \\\n1868  50.869999    -126.87  Fisheries and Oceans Canada         DFO   37358   \n1869  50.869999    -126.87  Fisheries and Oceans Canada         DFO   37359   \n1870  50.869999    -126.87  Fisheries and Oceans Canada         DFO   37360   \n1871  50.869999    -126.87  Fisheries and Oceans Canada         DFO   37361   \n1872  50.869999    -126.87  Fisheries and Oceans Canada         DFO   37362   \n\n      ...  cal_motile  cal_unknown  unknown_cop unknown_chal unknown_motile  \\\n1868  ...         0.0          0.0          0.0          0.0            0.0   \n1869  ...         0.0          0.0          0.0          0.0            0.0   \n1870  ...         0.0          0.0          0.0          0.0            0.0   \n1871  ...         0.0          0.0          0.0          0.0            0.0   \n1872  ...         0.0          0.0          0.0          0.0            0.0   \n\n      unknown_unknown  lice_protocol  year  month  all_lice  \n1868              0.0         Lethal  2008      4       0.0  \n1869              0.0         Lethal  2008      4       0.0  \n1870              0.0         Lethal  2008      4       0.0  \n1871              0.0         Lethal  2008      4       0.0  \n1872              0.0         Lethal  2008      4       0.0  \n\n[5 rows x 30 columns]",
      "text/html": "<div>\n<style scoped>\n    .dataframe tbody tr th:only-of-type {\n        vertical-align: middle;\n    }\n\n    .dataframe tbody tr th {\n        vertical-align: top;\n    }\n\n    .dataframe thead th {\n        text-align: right;\n    }\n</style>\n<table border=\"1\" class=\"dataframe\">\n  <thead>\n    <tr style=\"text-align: right;\">\n      <th></th>\n      <th>event_id</th>\n      <th>sampledate</th>\n      <th>region</th>\n      <th>dfozone</th>\n      <th>sample_site</th>\n      <th>latitude</th>\n      <th>longitude</th>\n      <th>source</th>\n      <th>source_code</th>\n      <th>fish_id</th>\n      <th>...</th>\n      <th>cal_motile</th>\n      <th>cal_unknown</th>\n      <th>unknown_cop</th>\n      <th>unknown_chal</th>\n      <th>unknown_motile</th>\n      <th>unknown_unknown</th>\n      <th>lice_protocol</th>\n      <th>year</th>\n      <th>month</th>\n      <th>all_lice</th>\n    </tr>\n  </thead>\n  <tbody>\n    <tr>\n      <th>1868</th>\n      <td>130</td>\n      <td>2008-04-28</td>\n      <td>Broughton Archipelago</td>\n      <td>3_3</td>\n      <td>Alder Point</td>\n      <td>50.869999</td>\n      <td>-126.87</td>\n      <td>Fisheries and Oceans Canada</td>\n      <td>DFO</td>\n      <td>37358</td>\n      <td>...</td>\n      <td>0.0</td>\n      <td>0.0</td>\n      <td>0.0</td>\n      <td>0.0</td>\n      <td>0.0</td>\n      <td>0.0</td>\n      <td>Lethal</td>\n      <td>2008</td>\n      <td>4</td>\n      <td>0.0</td>\n    </tr>\n    <tr>\n      <th>1869</th>\n      <td>130</td>\n      <td>2008-04-28</td>\n      <td>Broughton Archipelago</td>\n      <td>3_3</td>\n      <td>Alder Point</td>\n      <td>50.869999</td>\n      <td>-126.87</td>\n      <td>Fisheries and Oceans Canada</td>\n      <td>DFO</td>\n      <td>37359</td>\n      <td>...</td>\n      <td>0.0</td>\n      <td>0.0</td>\n      <td>0.0</td>\n      <td>0.0</td>\n      <td>0.0</td>\n      <td>0.0</td>\n      <td>Lethal</td>\n      <td>2008</td>\n      <td>4</td>\n      <td>0.0</td>\n    </tr>\n    <tr>\n      <th>1870</th>\n      <td>130</td>\n      <td>2008-04-28</td>\n      <td>Broughton Archipelago</td>\n      <td>3_3</td>\n      <td>Alder Point</td>\n      <td>50.869999</td>\n      <td>-126.87</td>\n      <td>Fisheries and Oceans Canada</td>\n      <td>DFO</td>\n      <td>37360</td>\n      <td>...</td>\n      <td>0.0</td>\n      <td>0.0</td>\n      <td>0.0</td>\n      <td>0.0</td>\n      <td>0.0</td>\n      <td>0.0</td>\n      <td>Lethal</td>\n      <td>2008</td>\n      <td>4</td>\n      <td>0.0</td>\n    </tr>\n    <tr>\n      <th>1871</th>\n      <td>130</td>\n      <td>2008-04-28</td>\n      <td>Broughton Archipelago</td>\n      <td>3_3</td>\n      <td>Alder Point</td>\n      <td>50.869999</td>\n      <td>-126.87</td>\n      <td>Fisheries and Oceans Canada</td>\n      <td>DFO</td>\n      <td>37361</td>\n      <td>...</td>\n      <td>0.0</td>\n      <td>0.0</td>\n      <td>0.0</td>\n      <td>0.0</td>\n      <td>0.0</td>\n      <td>0.0</td>\n      <td>Lethal</td>\n      <td>2008</td>\n      <td>4</td>\n      <td>0.0</td>\n    </tr>\n    <tr>\n      <th>1872</th>\n      <td>130</td>\n      <td>2008-04-28</td>\n      <td>Broughton Archipelago</td>\n      <td>3_3</td>\n      <td>Alder Point</td>\n      <td>50.869999</td>\n      <td>-126.87</td>\n      <td>Fisheries and Oceans Canada</td>\n      <td>DFO</td>\n      <td>37362</td>\n      <td>...</td>\n      <td>0.0</td>\n      <td>0.0</td>\n      <td>0.0</td>\n      <td>0.0</td>\n      <td>0.0</td>\n      <td>0.0</td>\n      <td>Lethal</td>\n      <td>2008</td>\n      <td>4</td>\n      <td>0.0</td>\n    </tr>\n  </tbody>\n</table>\n<p>5 rows × 30 columns</p>\n</div>"
     },
     "execution_count": 352,
     "metadata": {},
     "output_type": "execute_result"
    }
   ],
   "source": [
    "# make a new column for count of all lice\n",
    "wild_df['all_lice'] = wild_df.loc[:, 'lep_cop':'unknown_unknown'].sum(axis=1)\n",
    "wild_df.head()"
   ],
   "metadata": {
    "collapsed": false,
    "pycharm": {
     "name": "#%%\n"
    }
   }
  },
  {
   "cell_type": "code",
   "execution_count": 353,
   "outputs": [
    {
     "data": {
      "text/plain": "array(['Fisheries and Oceans Canada', 'Marty Krkosek',\n       'Salmon Coast Field Station'], dtype=object)"
     },
     "execution_count": 353,
     "metadata": {},
     "output_type": "execute_result"
    }
   ],
   "source": [
    "wild_df.source.unique()"
   ],
   "metadata": {
    "collapsed": false,
    "pycharm": {
     "name": "#%%\n"
    }
   }
  },
  {
   "cell_type": "code",
   "execution_count": 354,
   "outputs": [],
   "source": [
    "# label the non-lethal sampling\n",
    "NONLETHAL = 'nonlethal'\n",
    "LETHAL = 'lethal'\n",
    "# All sampling from Marty Krkosek and Salmon Coast are non-lethal\n",
    "nonlethal_sources = ['Marty Krkosek', 'Salmon Coast Field Station', 'Cedar Coast Field Station']\n",
    "\n",
    "wild_df['sampling'] = wild_df.source.apply(lambda x: NONLETHAL if x in nonlethal_sources else LETHAL)"
   ],
   "metadata": {
    "collapsed": false,
    "pycharm": {
     "name": "#%%\n"
    }
   }
  },
  {
   "cell_type": "code",
   "execution_count": 355,
   "outputs": [],
   "source": [
    "def fill_year_stats(input_df, lethality_type):\n",
    "    \"\"\"\n",
    "    Creates a dataframe from the input data. Output is number of fish, non-infested fish count, infested fish count, lice count,\n",
    "    prevalence, intensity. Output is broken down by month.\n",
    "    :param input_df: restricted to lethal or non-lethal and year\n",
    "    :type input_df: pandas.Dataframe object\n",
    "    :param lethality_type: Indicator of type of data, will be used as first column name\n",
    "    :type lethality_type: str\n",
    "    :return: Dataframe of summary stats as per table 7\n",
    "    :rtype: pandas.Dataframe object\n",
    "    \"\"\"\n",
    "    month_list = sorted(list(input_df.month.unique()))\n",
    "\n",
    "    output_dict = {lethality_type: []}\n",
    "    for month in month_list:\n",
    "        output_dict[month] = []\n",
    "\n",
    "    # keep track of some numbers to help later calculations\n",
    "    num_all_fish = {}\n",
    "    num_infested_fish = {}\n",
    "    num_all_lice = {}\n",
    "\n",
    "    # get counts of all fish\n",
    "    output_dict[lethality_type].append('All fish')\n",
    "    for month in month_list:\n",
    "        num_fish = len(input_df[input_df.month == month])\n",
    "        output_dict[month].append(num_fish)\n",
    "\n",
    "        num_all_fish[month] = num_fish\n",
    "\n",
    "    # get counts of non-infested fish\n",
    "    output_dict[lethality_type].append('Non-infested')\n",
    "    for month in month_list:\n",
    "        num_fish = len(input_df[(input_df.month == month) & (input_df.all_lice == 0)])\n",
    "        output_dict[month].append(num_fish)\n",
    "\n",
    "    # get counts of infested fish\n",
    "    output_dict[lethality_type].append('Infested')\n",
    "    for month in month_list:\n",
    "        num_fish = len(input_df[(input_df.month == month) & (input_df.all_lice > 0)])\n",
    "        output_dict[month].append(num_fish)\n",
    "\n",
    "        num_infested_fish[month] = num_fish\n",
    "\n",
    "    # get counts of all lice\n",
    "    output_dict[lethality_type].append('All lice')\n",
    "    for month in month_list:\n",
    "        num_lice = input_df[(input_df.month == month)].all_lice.sum()\n",
    "        output_dict[month].append(num_lice)\n",
    "\n",
    "        num_all_lice[month] = num_lice\n",
    "\n",
    "    # calculate prevalence\n",
    "    output_dict[lethality_type].append('Prevalence')\n",
    "    for month in month_list:\n",
    "        prevalence = num_infested_fish[month] / num_all_fish[month]\n",
    "        output_dict[month].append(prevalence)\n",
    "\n",
    "    # calculate intensity\n",
    "    output_dict[lethality_type].append('Intensity')\n",
    "    for month in month_list:\n",
    "        prevalence = num_all_lice[month] / num_infested_fish[month]\n",
    "        output_dict[month].append(prevalence)\n",
    "\n",
    "    # make into a dataframe and return\n",
    "    output_df = pd.DataFrame(output_dict)\n",
    "\n",
    "    # give the months friendly names\n",
    "    output_df.rename(columns={3: 'Mar', 4: 'Apr', 5:'May', 6:'Jun', 7:'Jul'}, inplace=True)\n",
    "\n",
    "    return output_df"
   ],
   "metadata": {
    "collapsed": false,
    "pycharm": {
     "name": "#%%\n"
    }
   }
  },
  {
   "cell_type": "markdown",
   "source": [
    "### Non-lethal, 2008"
   ],
   "metadata": {
    "collapsed": false,
    "pycharm": {
     "name": "#%% md\n"
    }
   }
  },
  {
   "cell_type": "code",
   "execution_count": 356,
   "outputs": [
    {
     "data": {
      "text/plain": "     Non-lethal        Mar          Apr          May          Jun         Jul\n0      All fish  29.000000  5669.000000  9451.000000  7997.000000  560.000000\n1  Non-infested  25.000000  5216.000000  8160.000000  5978.000000  221.000000\n2      Infested   4.000000   453.000000  1291.000000  2019.000000  339.000000\n3      All lice   5.000000   504.000000  1738.000000  3114.000000  645.000000\n4    Prevalence   0.137931     0.079908     0.136599     0.252470    0.605357\n5     Intensity   1.250000     1.112583     1.346243     1.542348    1.902655",
      "text/html": "<div>\n<style scoped>\n    .dataframe tbody tr th:only-of-type {\n        vertical-align: middle;\n    }\n\n    .dataframe tbody tr th {\n        vertical-align: top;\n    }\n\n    .dataframe thead th {\n        text-align: right;\n    }\n</style>\n<table border=\"1\" class=\"dataframe\">\n  <thead>\n    <tr style=\"text-align: right;\">\n      <th></th>\n      <th>Non-lethal</th>\n      <th>Mar</th>\n      <th>Apr</th>\n      <th>May</th>\n      <th>Jun</th>\n      <th>Jul</th>\n    </tr>\n  </thead>\n  <tbody>\n    <tr>\n      <th>0</th>\n      <td>All fish</td>\n      <td>29.000000</td>\n      <td>5669.000000</td>\n      <td>9451.000000</td>\n      <td>7997.000000</td>\n      <td>560.000000</td>\n    </tr>\n    <tr>\n      <th>1</th>\n      <td>Non-infested</td>\n      <td>25.000000</td>\n      <td>5216.000000</td>\n      <td>8160.000000</td>\n      <td>5978.000000</td>\n      <td>221.000000</td>\n    </tr>\n    <tr>\n      <th>2</th>\n      <td>Infested</td>\n      <td>4.000000</td>\n      <td>453.000000</td>\n      <td>1291.000000</td>\n      <td>2019.000000</td>\n      <td>339.000000</td>\n    </tr>\n    <tr>\n      <th>3</th>\n      <td>All lice</td>\n      <td>5.000000</td>\n      <td>504.000000</td>\n      <td>1738.000000</td>\n      <td>3114.000000</td>\n      <td>645.000000</td>\n    </tr>\n    <tr>\n      <th>4</th>\n      <td>Prevalence</td>\n      <td>0.137931</td>\n      <td>0.079908</td>\n      <td>0.136599</td>\n      <td>0.252470</td>\n      <td>0.605357</td>\n    </tr>\n    <tr>\n      <th>5</th>\n      <td>Intensity</td>\n      <td>1.250000</td>\n      <td>1.112583</td>\n      <td>1.346243</td>\n      <td>1.542348</td>\n      <td>1.902655</td>\n    </tr>\n  </tbody>\n</table>\n</div>"
     },
     "execution_count": 356,
     "metadata": {},
     "output_type": "execute_result"
    }
   ],
   "source": [
    "non_lethal_2008_input_df = wild_df[(wild_df.sampling == NONLETHAL) & (wild_df.year == 2008)]\n",
    "non_lethal_2008_df = fill_year_stats(non_lethal_2008_input_df, 'Non-lethal')\n",
    "\n",
    "# write to file\n",
    "non_lethal_2008_df.to_csv(OUTPUT_DIR / 'non_lethal_2008.csv', index=False)\n",
    "\n",
    "non_lethal_2008_df.head(10)"
   ],
   "metadata": {
    "collapsed": false,
    "pycharm": {
     "name": "#%%\n"
    }
   }
  },
  {
   "cell_type": "markdown",
   "source": [
    "### Non-lethal, 2009"
   ],
   "metadata": {
    "collapsed": false,
    "pycharm": {
     "name": "#%% md\n"
    }
   }
  },
  {
   "cell_type": "code",
   "execution_count": 357,
   "outputs": [
    {
     "data": {
      "text/plain": "     Non-lethal          Apr          May          Jun         Jul\n0      All fish  3174.000000  9929.000000  5495.000000  528.000000\n1  Non-infested  3049.000000  8160.000000  4489.000000  396.000000\n2      Infested   125.000000  1769.000000  1006.000000  132.000000\n3      All lice   128.000000  2322.000000  1386.000000  187.000000\n4    Prevalence     0.039382     0.178165     0.183076    0.250000\n5     Intensity     1.024000     1.312606     1.377734    1.416667",
      "text/html": "<div>\n<style scoped>\n    .dataframe tbody tr th:only-of-type {\n        vertical-align: middle;\n    }\n\n    .dataframe tbody tr th {\n        vertical-align: top;\n    }\n\n    .dataframe thead th {\n        text-align: right;\n    }\n</style>\n<table border=\"1\" class=\"dataframe\">\n  <thead>\n    <tr style=\"text-align: right;\">\n      <th></th>\n      <th>Non-lethal</th>\n      <th>Apr</th>\n      <th>May</th>\n      <th>Jun</th>\n      <th>Jul</th>\n    </tr>\n  </thead>\n  <tbody>\n    <tr>\n      <th>0</th>\n      <td>All fish</td>\n      <td>3174.000000</td>\n      <td>9929.000000</td>\n      <td>5495.000000</td>\n      <td>528.000000</td>\n    </tr>\n    <tr>\n      <th>1</th>\n      <td>Non-infested</td>\n      <td>3049.000000</td>\n      <td>8160.000000</td>\n      <td>4489.000000</td>\n      <td>396.000000</td>\n    </tr>\n    <tr>\n      <th>2</th>\n      <td>Infested</td>\n      <td>125.000000</td>\n      <td>1769.000000</td>\n      <td>1006.000000</td>\n      <td>132.000000</td>\n    </tr>\n    <tr>\n      <th>3</th>\n      <td>All lice</td>\n      <td>128.000000</td>\n      <td>2322.000000</td>\n      <td>1386.000000</td>\n      <td>187.000000</td>\n    </tr>\n    <tr>\n      <th>4</th>\n      <td>Prevalence</td>\n      <td>0.039382</td>\n      <td>0.178165</td>\n      <td>0.183076</td>\n      <td>0.250000</td>\n    </tr>\n    <tr>\n      <th>5</th>\n      <td>Intensity</td>\n      <td>1.024000</td>\n      <td>1.312606</td>\n      <td>1.377734</td>\n      <td>1.416667</td>\n    </tr>\n  </tbody>\n</table>\n</div>"
     },
     "execution_count": 357,
     "metadata": {},
     "output_type": "execute_result"
    }
   ],
   "source": [
    "non_lethal_2009_input_df = wild_df[(wild_df.sampling == NONLETHAL) & (wild_df.year == 2009)]\n",
    "non_lethal_2009_df = fill_year_stats(non_lethal_2009_input_df, 'Non-lethal')\n",
    "\n",
    "# write to file\n",
    "non_lethal_2009_df.to_csv(OUTPUT_DIR / 'non_lethal_2009.csv', index=False)\n",
    "\n",
    "non_lethal_2009_df.head(10)\n"
   ],
   "metadata": {
    "collapsed": false,
    "pycharm": {
     "name": "#%%\n"
    }
   }
  },
  {
   "cell_type": "markdown",
   "source": [
    "### Lethal, 2008"
   ],
   "metadata": {
    "collapsed": false,
    "pycharm": {
     "name": "#%% md\n"
    }
   }
  },
  {
   "cell_type": "code",
   "execution_count": 358,
   "outputs": [
    {
     "data": {
      "text/plain": "         Lethal         Mar          Apr          May          Jun\n0      All fish  544.000000  1432.000000  3348.000000  2343.000000\n1  Non-infested  542.000000  1374.000000  3138.000000  2025.000000\n2      Infested    2.000000    58.000000   210.000000   318.000000\n3      All lice    2.000000    70.000000   302.000000   494.000000\n4    Prevalence    0.003676     0.040503     0.062724     0.135723\n5     Intensity    1.000000     1.206897     1.438095     1.553459",
      "text/html": "<div>\n<style scoped>\n    .dataframe tbody tr th:only-of-type {\n        vertical-align: middle;\n    }\n\n    .dataframe tbody tr th {\n        vertical-align: top;\n    }\n\n    .dataframe thead th {\n        text-align: right;\n    }\n</style>\n<table border=\"1\" class=\"dataframe\">\n  <thead>\n    <tr style=\"text-align: right;\">\n      <th></th>\n      <th>Lethal</th>\n      <th>Mar</th>\n      <th>Apr</th>\n      <th>May</th>\n      <th>Jun</th>\n    </tr>\n  </thead>\n  <tbody>\n    <tr>\n      <th>0</th>\n      <td>All fish</td>\n      <td>544.000000</td>\n      <td>1432.000000</td>\n      <td>3348.000000</td>\n      <td>2343.000000</td>\n    </tr>\n    <tr>\n      <th>1</th>\n      <td>Non-infested</td>\n      <td>542.000000</td>\n      <td>1374.000000</td>\n      <td>3138.000000</td>\n      <td>2025.000000</td>\n    </tr>\n    <tr>\n      <th>2</th>\n      <td>Infested</td>\n      <td>2.000000</td>\n      <td>58.000000</td>\n      <td>210.000000</td>\n      <td>318.000000</td>\n    </tr>\n    <tr>\n      <th>3</th>\n      <td>All lice</td>\n      <td>2.000000</td>\n      <td>70.000000</td>\n      <td>302.000000</td>\n      <td>494.000000</td>\n    </tr>\n    <tr>\n      <th>4</th>\n      <td>Prevalence</td>\n      <td>0.003676</td>\n      <td>0.040503</td>\n      <td>0.062724</td>\n      <td>0.135723</td>\n    </tr>\n    <tr>\n      <th>5</th>\n      <td>Intensity</td>\n      <td>1.000000</td>\n      <td>1.206897</td>\n      <td>1.438095</td>\n      <td>1.553459</td>\n    </tr>\n  </tbody>\n</table>\n</div>"
     },
     "execution_count": 358,
     "metadata": {},
     "output_type": "execute_result"
    }
   ],
   "source": [
    "lethal_2008_input_df = wild_df[(wild_df.sampling == LETHAL) & (wild_df.year == 2008)]\n",
    "lethal_2008_df = fill_year_stats(lethal_2008_input_df, 'Lethal')\n",
    "\n",
    "# write to file\n",
    "lethal_2008_df.to_csv(OUTPUT_DIR / 'lethal_2008.csv', index=False)\n",
    "\n",
    "lethal_2008_df.head(10)"
   ],
   "metadata": {
    "collapsed": false,
    "pycharm": {
     "name": "#%%\n"
    }
   }
  },
  {
   "cell_type": "markdown",
   "source": [
    "### Lethal, 2009"
   ],
   "metadata": {
    "collapsed": false,
    "pycharm": {
     "name": "#%% md\n"
    }
   }
  },
  {
   "cell_type": "code",
   "execution_count": 359,
   "outputs": [
    {
     "name": "stderr",
     "output_type": "stream",
     "text": [
      "/tmp/ipykernel_853237/3002635560.py:62: RuntimeWarning: invalid value encountered in double_scalars\n",
      "  prevalence = num_all_lice[month] / num_infested_fish[month]\n"
     ]
    },
    {
     "data": {
      "text/plain": "         Lethal    Mar          Apr          May          Jun         Jul\n0      All fish  479.0  1092.000000  2988.000000  2904.000000  261.000000\n1  Non-infested  479.0  1070.000000  2776.000000  2486.000000  206.000000\n2      Infested    0.0    22.000000   212.000000   418.000000   55.000000\n3      All lice    0.0    26.000000   251.000000   776.000000  104.000000\n4    Prevalence    0.0     0.020147     0.070950     0.143939    0.210728\n5     Intensity    NaN     1.181818     1.183962     1.856459    1.890909",
      "text/html": "<div>\n<style scoped>\n    .dataframe tbody tr th:only-of-type {\n        vertical-align: middle;\n    }\n\n    .dataframe tbody tr th {\n        vertical-align: top;\n    }\n\n    .dataframe thead th {\n        text-align: right;\n    }\n</style>\n<table border=\"1\" class=\"dataframe\">\n  <thead>\n    <tr style=\"text-align: right;\">\n      <th></th>\n      <th>Lethal</th>\n      <th>Mar</th>\n      <th>Apr</th>\n      <th>May</th>\n      <th>Jun</th>\n      <th>Jul</th>\n    </tr>\n  </thead>\n  <tbody>\n    <tr>\n      <th>0</th>\n      <td>All fish</td>\n      <td>479.0</td>\n      <td>1092.000000</td>\n      <td>2988.000000</td>\n      <td>2904.000000</td>\n      <td>261.000000</td>\n    </tr>\n    <tr>\n      <th>1</th>\n      <td>Non-infested</td>\n      <td>479.0</td>\n      <td>1070.000000</td>\n      <td>2776.000000</td>\n      <td>2486.000000</td>\n      <td>206.000000</td>\n    </tr>\n    <tr>\n      <th>2</th>\n      <td>Infested</td>\n      <td>0.0</td>\n      <td>22.000000</td>\n      <td>212.000000</td>\n      <td>418.000000</td>\n      <td>55.000000</td>\n    </tr>\n    <tr>\n      <th>3</th>\n      <td>All lice</td>\n      <td>0.0</td>\n      <td>26.000000</td>\n      <td>251.000000</td>\n      <td>776.000000</td>\n      <td>104.000000</td>\n    </tr>\n    <tr>\n      <th>4</th>\n      <td>Prevalence</td>\n      <td>0.0</td>\n      <td>0.020147</td>\n      <td>0.070950</td>\n      <td>0.143939</td>\n      <td>0.210728</td>\n    </tr>\n    <tr>\n      <th>5</th>\n      <td>Intensity</td>\n      <td>NaN</td>\n      <td>1.181818</td>\n      <td>1.183962</td>\n      <td>1.856459</td>\n      <td>1.890909</td>\n    </tr>\n  </tbody>\n</table>\n</div>"
     },
     "execution_count": 359,
     "metadata": {},
     "output_type": "execute_result"
    }
   ],
   "source": [
    "lethal_2009_input_df = wild_df[(wild_df.sampling == LETHAL) & (wild_df.year == 2009)]\n",
    "lethal_2009_df = fill_year_stats(lethal_2009_input_df, 'Lethal')\n",
    "\n",
    "# write to file\n",
    "lethal_2009_df.to_csv(OUTPUT_DIR / 'lethal_2009.csv', index=False)\n",
    "\n",
    "lethal_2009_df.head(10)"
   ],
   "metadata": {
    "collapsed": false,
    "pycharm": {
     "name": "#%%\n"
    }
   }
  },
  {
   "cell_type": "code",
   "execution_count": 359,
   "outputs": [],
   "source": [],
   "metadata": {
    "collapsed": false,
    "pycharm": {
     "name": "#%%\n"
    }
   }
  }
 ],
 "metadata": {
  "kernelspec": {
   "display_name": "Python 3",
   "language": "python",
   "name": "python3"
  },
  "language_info": {
   "codemirror_mode": {
    "name": "ipython",
    "version": 2
   },
   "file_extension": ".py",
   "mimetype": "text/x-python",
   "name": "python",
   "nbconvert_exporter": "python",
   "pygments_lexer": "ipython2",
   "version": "2.7.6"
  }
 },
 "nbformat": 4,
 "nbformat_minor": 0
}