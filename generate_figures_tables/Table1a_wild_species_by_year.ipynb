{
 "cells": [
  {
   "cell_type": "markdown",
   "source": [
    "## This Notebook generates a CSV for Table 1a\n",
    "The CSV has the structure of Table 1a, except for the Total row at the bottom. The presentation and the Total row as in the paper was done in another tool."
   ],
   "metadata": {
    "collapsed": false,
    "pycharm": {
     "name": "#%% md\n"
    }
   }
  },
  {
   "cell_type": "code",
   "execution_count": 14,
   "outputs": [],
   "source": [
    "from pathlib import Path\n",
    "import pandas as pd"
   ],
   "metadata": {
    "collapsed": false,
    "pycharm": {
     "name": "#%%\n"
    }
   }
  },
  {
   "cell_type": "code",
   "execution_count": 15,
   "outputs": [],
   "source": [
    "# define data location constants\n",
    "DATA_DIR = Path('..') / 'source_data'\n",
    "WILD_FISH_DATA = DATA_DIR / 'all_wild_fish_lice.csv'\n",
    "WILD_EVENT_DATA = DATA_DIR / 'all_wild_sample_events.csv'\n",
    "\n",
    "OUTPUT_DIR = Path('..') / 'output' / 'Table_1a'"
   ],
   "metadata": {
    "collapsed": false,
    "pycharm": {
     "name": "#%%\n"
    }
   }
  },
  {
   "cell_type": "code",
   "execution_count": 16,
   "outputs": [],
   "source": [
    "# import the data\n",
    "events_df = pd.read_csv(WILD_EVENT_DATA)\n",
    "fish_df = pd.read_csv(WILD_FISH_DATA)\n",
    "\n",
    "# make a year column\n",
    "events_df['sampledate'] = pd.to_datetime(events_df.sampledate)\n",
    "events_df['year'] = events_df.sampledate.dt.year"
   ],
   "metadata": {
    "collapsed": false,
    "pycharm": {
     "name": "#%%\n"
    }
   }
  },
  {
   "cell_type": "markdown",
   "source": [
    "## Calculate the \"All Events\" column"
   ],
   "metadata": {
    "collapsed": false,
    "pycharm": {
     "name": "#%% md\n"
    }
   }
  },
  {
   "cell_type": "code",
   "execution_count": 17,
   "outputs": [
    {
     "data": {
      "text/plain": "   year  All Events\n0  2001          16\n1  2002          31\n2  2003        1807\n3  2004        1109\n4  2005         969",
      "text/html": "<div>\n<style scoped>\n    .dataframe tbody tr th:only-of-type {\n        vertical-align: middle;\n    }\n\n    .dataframe tbody tr th {\n        vertical-align: top;\n    }\n\n    .dataframe thead th {\n        text-align: right;\n    }\n</style>\n<table border=\"1\" class=\"dataframe\">\n  <thead>\n    <tr style=\"text-align: right;\">\n      <th></th>\n      <th>year</th>\n      <th>All Events</th>\n    </tr>\n  </thead>\n  <tbody>\n    <tr>\n      <th>0</th>\n      <td>2001</td>\n      <td>16</td>\n    </tr>\n    <tr>\n      <th>1</th>\n      <td>2002</td>\n      <td>31</td>\n    </tr>\n    <tr>\n      <th>2</th>\n      <td>2003</td>\n      <td>1807</td>\n    </tr>\n    <tr>\n      <th>3</th>\n      <td>2004</td>\n      <td>1109</td>\n    </tr>\n    <tr>\n      <th>4</th>\n      <td>2005</td>\n      <td>969</td>\n    </tr>\n  </tbody>\n</table>\n</div>"
     },
     "execution_count": 17,
     "metadata": {},
     "output_type": "execute_result"
    }
   ],
   "source": [
    "# group by year\n",
    "events_year_group = events_df.groupby(['year'])\n",
    "\n",
    "# get the number of sample events each year\n",
    "num_events_df = events_year_group['event_id'].count().reset_index()\n",
    "num_events_df.rename(columns={'event_id': 'All Events'}, inplace=True)\n",
    "num_events_df.head()"
   ],
   "metadata": {
    "collapsed": false,
    "pycharm": {
     "name": "#%%\n"
    }
   }
  },
  {
   "cell_type": "markdown",
   "source": [
    "## Calculate the \"Events with Fish\" column"
   ],
   "metadata": {
    "collapsed": false,
    "pycharm": {
     "name": "#%% md\n"
    }
   }
  },
  {
   "cell_type": "code",
   "execution_count": 18,
   "outputs": [],
   "source": [
    "# join events and fish data, merge 'right' to only include events that have fish\n",
    "wild_with_fish_df = pd.merge(events_df, fish_df, how='right', on=['event_id'])"
   ],
   "metadata": {
    "collapsed": false,
    "pycharm": {
     "name": "#%%\n"
    }
   }
  },
  {
   "cell_type": "code",
   "execution_count": 19,
   "outputs": [
    {
     "data": {
      "text/plain": "   year  event_id  fish_id\n0  2001   65093.0       18\n1  2001   65094.0       10\n2  2001   65095.0       77\n3  2001   65096.0       11\n4  2001   65097.0       12",
      "text/html": "<div>\n<style scoped>\n    .dataframe tbody tr th:only-of-type {\n        vertical-align: middle;\n    }\n\n    .dataframe tbody tr th {\n        vertical-align: top;\n    }\n\n    .dataframe thead th {\n        text-align: right;\n    }\n</style>\n<table border=\"1\" class=\"dataframe\">\n  <thead>\n    <tr style=\"text-align: right;\">\n      <th></th>\n      <th>year</th>\n      <th>event_id</th>\n      <th>fish_id</th>\n    </tr>\n  </thead>\n  <tbody>\n    <tr>\n      <th>0</th>\n      <td>2001</td>\n      <td>65093.0</td>\n      <td>18</td>\n    </tr>\n    <tr>\n      <th>1</th>\n      <td>2001</td>\n      <td>65094.0</td>\n      <td>10</td>\n    </tr>\n    <tr>\n      <th>2</th>\n      <td>2001</td>\n      <td>65095.0</td>\n      <td>77</td>\n    </tr>\n    <tr>\n      <th>3</th>\n      <td>2001</td>\n      <td>65096.0</td>\n      <td>11</td>\n    </tr>\n    <tr>\n      <th>4</th>\n      <td>2001</td>\n      <td>65097.0</td>\n      <td>12</td>\n    </tr>\n  </tbody>\n</table>\n</div>"
     },
     "execution_count": 19,
     "metadata": {},
     "output_type": "execute_result"
    }
   ],
   "source": [
    "# get a row for each year-event_id combination\n",
    "wild_with_fish_year_group = wild_with_fish_df.groupby(['year', 'event_id'])\n",
    "num_events_with_fish_id_df = wild_with_fish_year_group['fish_id'].count().reset_index()\n",
    "num_events_with_fish_id_df.head()"
   ],
   "metadata": {
    "collapsed": false,
    "pycharm": {
     "name": "#%%\n"
    }
   }
  },
  {
   "cell_type": "code",
   "execution_count": 20,
   "outputs": [
    {
     "data": {
      "text/plain": "   year  Events with fish\n0  2001                16\n1  2002                31\n2  2003              1273\n3  2004               799\n4  2005               599",
      "text/html": "<div>\n<style scoped>\n    .dataframe tbody tr th:only-of-type {\n        vertical-align: middle;\n    }\n\n    .dataframe tbody tr th {\n        vertical-align: top;\n    }\n\n    .dataframe thead th {\n        text-align: right;\n    }\n</style>\n<table border=\"1\" class=\"dataframe\">\n  <thead>\n    <tr style=\"text-align: right;\">\n      <th></th>\n      <th>year</th>\n      <th>Events with fish</th>\n    </tr>\n  </thead>\n  <tbody>\n    <tr>\n      <th>0</th>\n      <td>2001</td>\n      <td>16</td>\n    </tr>\n    <tr>\n      <th>1</th>\n      <td>2002</td>\n      <td>31</td>\n    </tr>\n    <tr>\n      <th>2</th>\n      <td>2003</td>\n      <td>1273</td>\n    </tr>\n    <tr>\n      <th>3</th>\n      <td>2004</td>\n      <td>799</td>\n    </tr>\n    <tr>\n      <th>4</th>\n      <td>2005</td>\n      <td>599</td>\n    </tr>\n  </tbody>\n</table>\n</div>"
     },
     "execution_count": 20,
     "metadata": {},
     "output_type": "execute_result"
    }
   ],
   "source": [
    "# group by year and count the unique event_id for each year\n",
    "num_events_with_fish_group = num_events_with_fish_id_df.groupby('year')\n",
    "num_events_with_fish_df = num_events_with_fish_group['event_id'].count().reset_index()\n",
    "num_events_with_fish_df.rename(columns={'event_id': 'Events with fish'}, inplace=True)\n",
    "num_events_with_fish_df.head()"
   ],
   "metadata": {
    "collapsed": false,
    "pycharm": {
     "name": "#%%\n"
    }
   }
  },
  {
   "cell_type": "markdown",
   "source": [
    "## Calculate numbers of fish caught each year"
   ],
   "metadata": {
    "collapsed": false,
    "pycharm": {
     "name": "#%% md\n"
    }
   }
  },
  {
   "cell_type": "code",
   "execution_count": 21,
   "outputs": [
    {
     "data": {
      "text/plain": "   event_id sampledate                 region dfozone   sample_site  latitude  \\\n0       1.0 2003-05-13  Broughton Archipelago     3_3  Adeane Point  50.71978   \n1       1.0 2003-05-13  Broughton Archipelago     3_3  Adeane Point  50.71978   \n2       1.0 2003-05-13  Broughton Archipelago     3_3  Adeane Point  50.71978   \n3       1.0 2003-05-13  Broughton Archipelago     3_3  Adeane Point  50.71978   \n4       1.0 2003-05-13  Broughton Archipelago     3_3  Adeane Point  50.71978   \n\n   longitude                       source  year  fish_id  ...  lep_motile  \\\n0  -125.6795  Fisheries and Oceans Canada  2003   1715.0  ...         0.0   \n1  -125.6795  Fisheries and Oceans Canada  2003   1716.0  ...         0.0   \n2  -125.6795  Fisheries and Oceans Canada  2003   1717.0  ...         0.0   \n3  -125.6795  Fisheries and Oceans Canada  2003   1718.0  ...         0.0   \n4  -125.6795  Fisheries and Oceans Canada  2003   1719.0  ...         0.0   \n\n   lep_unknown  cal_cop cal_chal  cal_motile  cal_unknown  unknown_cop  \\\n0          0.0      0.0      0.0         0.0          0.0          0.0   \n1          0.0      0.0      0.0         0.0          0.0          0.0   \n2          0.0      0.0      0.0         0.0          0.0          0.0   \n3          0.0      0.0      0.0         0.0          0.0          0.0   \n4          0.0      0.0      0.0         0.0          0.0          0.0   \n\n   unknown_chal  unknown_motile  unknown_unknown  \n0           0.0             0.0              0.0  \n1           0.0             0.0              0.0  \n2           0.0             0.0              0.0  \n3           0.0             0.0              0.0  \n4           0.0             0.0              0.0  \n\n[5 rows x 26 columns]",
      "text/html": "<div>\n<style scoped>\n    .dataframe tbody tr th:only-of-type {\n        vertical-align: middle;\n    }\n\n    .dataframe tbody tr th {\n        vertical-align: top;\n    }\n\n    .dataframe thead th {\n        text-align: right;\n    }\n</style>\n<table border=\"1\" class=\"dataframe\">\n  <thead>\n    <tr style=\"text-align: right;\">\n      <th></th>\n      <th>event_id</th>\n      <th>sampledate</th>\n      <th>region</th>\n      <th>dfozone</th>\n      <th>sample_site</th>\n      <th>latitude</th>\n      <th>longitude</th>\n      <th>source</th>\n      <th>year</th>\n      <th>fish_id</th>\n      <th>...</th>\n      <th>lep_motile</th>\n      <th>lep_unknown</th>\n      <th>cal_cop</th>\n      <th>cal_chal</th>\n      <th>cal_motile</th>\n      <th>cal_unknown</th>\n      <th>unknown_cop</th>\n      <th>unknown_chal</th>\n      <th>unknown_motile</th>\n      <th>unknown_unknown</th>\n    </tr>\n  </thead>\n  <tbody>\n    <tr>\n      <th>0</th>\n      <td>1.0</td>\n      <td>2003-05-13</td>\n      <td>Broughton Archipelago</td>\n      <td>3_3</td>\n      <td>Adeane Point</td>\n      <td>50.71978</td>\n      <td>-125.6795</td>\n      <td>Fisheries and Oceans Canada</td>\n      <td>2003</td>\n      <td>1715.0</td>\n      <td>...</td>\n      <td>0.0</td>\n      <td>0.0</td>\n      <td>0.0</td>\n      <td>0.0</td>\n      <td>0.0</td>\n      <td>0.0</td>\n      <td>0.0</td>\n      <td>0.0</td>\n      <td>0.0</td>\n      <td>0.0</td>\n    </tr>\n    <tr>\n      <th>1</th>\n      <td>1.0</td>\n      <td>2003-05-13</td>\n      <td>Broughton Archipelago</td>\n      <td>3_3</td>\n      <td>Adeane Point</td>\n      <td>50.71978</td>\n      <td>-125.6795</td>\n      <td>Fisheries and Oceans Canada</td>\n      <td>2003</td>\n      <td>1716.0</td>\n      <td>...</td>\n      <td>0.0</td>\n      <td>0.0</td>\n      <td>0.0</td>\n      <td>0.0</td>\n      <td>0.0</td>\n      <td>0.0</td>\n      <td>0.0</td>\n      <td>0.0</td>\n      <td>0.0</td>\n      <td>0.0</td>\n    </tr>\n    <tr>\n      <th>2</th>\n      <td>1.0</td>\n      <td>2003-05-13</td>\n      <td>Broughton Archipelago</td>\n      <td>3_3</td>\n      <td>Adeane Point</td>\n      <td>50.71978</td>\n      <td>-125.6795</td>\n      <td>Fisheries and Oceans Canada</td>\n      <td>2003</td>\n      <td>1717.0</td>\n      <td>...</td>\n      <td>0.0</td>\n      <td>0.0</td>\n      <td>0.0</td>\n      <td>0.0</td>\n      <td>0.0</td>\n      <td>0.0</td>\n      <td>0.0</td>\n      <td>0.0</td>\n      <td>0.0</td>\n      <td>0.0</td>\n    </tr>\n    <tr>\n      <th>3</th>\n      <td>1.0</td>\n      <td>2003-05-13</td>\n      <td>Broughton Archipelago</td>\n      <td>3_3</td>\n      <td>Adeane Point</td>\n      <td>50.71978</td>\n      <td>-125.6795</td>\n      <td>Fisheries and Oceans Canada</td>\n      <td>2003</td>\n      <td>1718.0</td>\n      <td>...</td>\n      <td>0.0</td>\n      <td>0.0</td>\n      <td>0.0</td>\n      <td>0.0</td>\n      <td>0.0</td>\n      <td>0.0</td>\n      <td>0.0</td>\n      <td>0.0</td>\n      <td>0.0</td>\n      <td>0.0</td>\n    </tr>\n    <tr>\n      <th>4</th>\n      <td>1.0</td>\n      <td>2003-05-13</td>\n      <td>Broughton Archipelago</td>\n      <td>3_3</td>\n      <td>Adeane Point</td>\n      <td>50.71978</td>\n      <td>-125.6795</td>\n      <td>Fisheries and Oceans Canada</td>\n      <td>2003</td>\n      <td>1719.0</td>\n      <td>...</td>\n      <td>0.0</td>\n      <td>0.0</td>\n      <td>0.0</td>\n      <td>0.0</td>\n      <td>0.0</td>\n      <td>0.0</td>\n      <td>0.0</td>\n      <td>0.0</td>\n      <td>0.0</td>\n      <td>0.0</td>\n    </tr>\n  </tbody>\n</table>\n<p>5 rows × 26 columns</p>\n</div>"
     },
     "execution_count": 21,
     "metadata": {},
     "output_type": "execute_result"
    }
   ],
   "source": [
    "# merge events and fish with all the entries\n",
    "all_events_fish_df = pd.merge(events_df, fish_df, how='left', on='event_id')\n",
    "all_events_fish_df.head()"
   ],
   "metadata": {
    "collapsed": false,
    "pycharm": {
     "name": "#%%\n"
    }
   }
  },
  {
   "cell_type": "code",
   "execution_count": 22,
   "outputs": [
    {
     "data": {
      "text/plain": "fish_species  year  Chinook Salmon  Chum Salmon  Coho Salmon  Other Species  \\\n0             2001               0            0            0              0   \n1             2002               0           67            0              0   \n2             2003            1011        15484         2909           1614   \n3             2004             754        19698          104              1   \n4             2005             405         4955          128              1   \n5             2006             214        14267          170            695   \n6             2007             345        18770          165              1   \n7             2008             521        15785          190              0   \n8             2009             126        15699          136             65   \n9             2010             137         5991          226              0   \n10            2011             181         8062          320             18   \n11            2012             137         7841          330              0   \n12            2013              18         3981           66              7   \n13            2014              27         2908           58              1   \n14            2015             129         2004          166              1   \n15            2016             230         4795          249             25   \n16            2017              37         7513          320              1   \n17            2018              89         4535          135              3   \n18            2019              59         5248          199              0   \n19            2020              55         5068          269              1   \n20            2021             105         6497          156              5   \n21            2022             169         6983          302              1   \n22            2023              25         2610          205              2   \n\nfish_species  Pacific Herring  Pink Salmon  Sockeye Salmon  \\\n0                           0          268               0   \n1                           0          497               0   \n2                         828        10220              64   \n3                          93         3253               2   \n4                           0         6091             271   \n5                           0        11355               9   \n6                           0        13907              50   \n7                           0        20920              10   \n8                           6        16680               2   \n9                           0         7381              84   \n10                         60         8017               1   \n11                          0         6961             206   \n12                          0         3694              26   \n13                          1         3644              55   \n14                          3         3310              59   \n15                          0         3242              76   \n16                          0         3180             165   \n17                          0         3480              68   \n18                          0         3015              27   \n19                          5         4227              57   \n20                         12         5355              42   \n21                          0         4642               1   \n22                          0         3068              70   \n\nfish_species  Three-Spined Stickleback  \n0                                    0  \n1                                    0  \n2                                 2886  \n3                                 1479  \n4                                   45  \n5                                   10  \n6                                 1350  \n7                                 1601  \n8                                 2567  \n9                                   26  \n10                                  55  \n11                                  27  \n12                                   0  \n13                                   0  \n14                                  24  \n15                                   8  \n16                                  11  \n17                                  41  \n18                                 104  \n19                                   4  \n20                                 189  \n21                                   0  \n22                                   0  ",
      "text/html": "<div>\n<style scoped>\n    .dataframe tbody tr th:only-of-type {\n        vertical-align: middle;\n    }\n\n    .dataframe tbody tr th {\n        vertical-align: top;\n    }\n\n    .dataframe thead th {\n        text-align: right;\n    }\n</style>\n<table border=\"1\" class=\"dataframe\">\n  <thead>\n    <tr style=\"text-align: right;\">\n      <th>fish_species</th>\n      <th>year</th>\n      <th>Chinook Salmon</th>\n      <th>Chum Salmon</th>\n      <th>Coho Salmon</th>\n      <th>Other Species</th>\n      <th>Pacific Herring</th>\n      <th>Pink Salmon</th>\n      <th>Sockeye Salmon</th>\n      <th>Three-Spined Stickleback</th>\n    </tr>\n  </thead>\n  <tbody>\n    <tr>\n      <th>0</th>\n      <td>2001</td>\n      <td>0</td>\n      <td>0</td>\n      <td>0</td>\n      <td>0</td>\n      <td>0</td>\n      <td>268</td>\n      <td>0</td>\n      <td>0</td>\n    </tr>\n    <tr>\n      <th>1</th>\n      <td>2002</td>\n      <td>0</td>\n      <td>67</td>\n      <td>0</td>\n      <td>0</td>\n      <td>0</td>\n      <td>497</td>\n      <td>0</td>\n      <td>0</td>\n    </tr>\n    <tr>\n      <th>2</th>\n      <td>2003</td>\n      <td>1011</td>\n      <td>15484</td>\n      <td>2909</td>\n      <td>1614</td>\n      <td>828</td>\n      <td>10220</td>\n      <td>64</td>\n      <td>2886</td>\n    </tr>\n    <tr>\n      <th>3</th>\n      <td>2004</td>\n      <td>754</td>\n      <td>19698</td>\n      <td>104</td>\n      <td>1</td>\n      <td>93</td>\n      <td>3253</td>\n      <td>2</td>\n      <td>1479</td>\n    </tr>\n    <tr>\n      <th>4</th>\n      <td>2005</td>\n      <td>405</td>\n      <td>4955</td>\n      <td>128</td>\n      <td>1</td>\n      <td>0</td>\n      <td>6091</td>\n      <td>271</td>\n      <td>45</td>\n    </tr>\n    <tr>\n      <th>5</th>\n      <td>2006</td>\n      <td>214</td>\n      <td>14267</td>\n      <td>170</td>\n      <td>695</td>\n      <td>0</td>\n      <td>11355</td>\n      <td>9</td>\n      <td>10</td>\n    </tr>\n    <tr>\n      <th>6</th>\n      <td>2007</td>\n      <td>345</td>\n      <td>18770</td>\n      <td>165</td>\n      <td>1</td>\n      <td>0</td>\n      <td>13907</td>\n      <td>50</td>\n      <td>1350</td>\n    </tr>\n    <tr>\n      <th>7</th>\n      <td>2008</td>\n      <td>521</td>\n      <td>15785</td>\n      <td>190</td>\n      <td>0</td>\n      <td>0</td>\n      <td>20920</td>\n      <td>10</td>\n      <td>1601</td>\n    </tr>\n    <tr>\n      <th>8</th>\n      <td>2009</td>\n      <td>126</td>\n      <td>15699</td>\n      <td>136</td>\n      <td>65</td>\n      <td>6</td>\n      <td>16680</td>\n      <td>2</td>\n      <td>2567</td>\n    </tr>\n    <tr>\n      <th>9</th>\n      <td>2010</td>\n      <td>137</td>\n      <td>5991</td>\n      <td>226</td>\n      <td>0</td>\n      <td>0</td>\n      <td>7381</td>\n      <td>84</td>\n      <td>26</td>\n    </tr>\n    <tr>\n      <th>10</th>\n      <td>2011</td>\n      <td>181</td>\n      <td>8062</td>\n      <td>320</td>\n      <td>18</td>\n      <td>60</td>\n      <td>8017</td>\n      <td>1</td>\n      <td>55</td>\n    </tr>\n    <tr>\n      <th>11</th>\n      <td>2012</td>\n      <td>137</td>\n      <td>7841</td>\n      <td>330</td>\n      <td>0</td>\n      <td>0</td>\n      <td>6961</td>\n      <td>206</td>\n      <td>27</td>\n    </tr>\n    <tr>\n      <th>12</th>\n      <td>2013</td>\n      <td>18</td>\n      <td>3981</td>\n      <td>66</td>\n      <td>7</td>\n      <td>0</td>\n      <td>3694</td>\n      <td>26</td>\n      <td>0</td>\n    </tr>\n    <tr>\n      <th>13</th>\n      <td>2014</td>\n      <td>27</td>\n      <td>2908</td>\n      <td>58</td>\n      <td>1</td>\n      <td>1</td>\n      <td>3644</td>\n      <td>55</td>\n      <td>0</td>\n    </tr>\n    <tr>\n      <th>14</th>\n      <td>2015</td>\n      <td>129</td>\n      <td>2004</td>\n      <td>166</td>\n      <td>1</td>\n      <td>3</td>\n      <td>3310</td>\n      <td>59</td>\n      <td>24</td>\n    </tr>\n    <tr>\n      <th>15</th>\n      <td>2016</td>\n      <td>230</td>\n      <td>4795</td>\n      <td>249</td>\n      <td>25</td>\n      <td>0</td>\n      <td>3242</td>\n      <td>76</td>\n      <td>8</td>\n    </tr>\n    <tr>\n      <th>16</th>\n      <td>2017</td>\n      <td>37</td>\n      <td>7513</td>\n      <td>320</td>\n      <td>1</td>\n      <td>0</td>\n      <td>3180</td>\n      <td>165</td>\n      <td>11</td>\n    </tr>\n    <tr>\n      <th>17</th>\n      <td>2018</td>\n      <td>89</td>\n      <td>4535</td>\n      <td>135</td>\n      <td>3</td>\n      <td>0</td>\n      <td>3480</td>\n      <td>68</td>\n      <td>41</td>\n    </tr>\n    <tr>\n      <th>18</th>\n      <td>2019</td>\n      <td>59</td>\n      <td>5248</td>\n      <td>199</td>\n      <td>0</td>\n      <td>0</td>\n      <td>3015</td>\n      <td>27</td>\n      <td>104</td>\n    </tr>\n    <tr>\n      <th>19</th>\n      <td>2020</td>\n      <td>55</td>\n      <td>5068</td>\n      <td>269</td>\n      <td>1</td>\n      <td>5</td>\n      <td>4227</td>\n      <td>57</td>\n      <td>4</td>\n    </tr>\n    <tr>\n      <th>20</th>\n      <td>2021</td>\n      <td>105</td>\n      <td>6497</td>\n      <td>156</td>\n      <td>5</td>\n      <td>12</td>\n      <td>5355</td>\n      <td>42</td>\n      <td>189</td>\n    </tr>\n    <tr>\n      <th>21</th>\n      <td>2022</td>\n      <td>169</td>\n      <td>6983</td>\n      <td>302</td>\n      <td>1</td>\n      <td>0</td>\n      <td>4642</td>\n      <td>1</td>\n      <td>0</td>\n    </tr>\n    <tr>\n      <th>22</th>\n      <td>2023</td>\n      <td>25</td>\n      <td>2610</td>\n      <td>205</td>\n      <td>2</td>\n      <td>0</td>\n      <td>3068</td>\n      <td>70</td>\n      <td>0</td>\n    </tr>\n  </tbody>\n</table>\n</div>"
     },
     "execution_count": 22,
     "metadata": {},
     "output_type": "execute_result"
    }
   ],
   "source": [
    "# pivot and count to get counts of each species of fish each year\n",
    "year_species_df = pd.pivot_table(all_events_fish_df, values='region', index='year', columns=['fish_species'],\n",
    "                                    aggfunc='count', fill_value=0).reset_index()\n",
    "\n",
    "year_species_df"
   ],
   "metadata": {
    "collapsed": false,
    "pycharm": {
     "name": "#%%\n"
    }
   }
  },
  {
   "cell_type": "markdown",
   "source": [
    "## Calculate the total numbers of fish each year"
   ],
   "metadata": {
    "collapsed": false,
    "pycharm": {
     "name": "#%% md\n"
    }
   }
  },
  {
   "cell_type": "code",
   "execution_count": 23,
   "outputs": [
    {
     "data": {
      "text/plain": "   year  fish_id\n0  2001      268\n1  2002      564\n2  2003    35016\n3  2004    25384\n4  2005    11896\n5  2006    26720\n6  2007    34588\n7  2008    39027\n8  2009    35281\n9  2010    13845",
      "text/html": "<div>\n<style scoped>\n    .dataframe tbody tr th:only-of-type {\n        vertical-align: middle;\n    }\n\n    .dataframe tbody tr th {\n        vertical-align: top;\n    }\n\n    .dataframe thead th {\n        text-align: right;\n    }\n</style>\n<table border=\"1\" class=\"dataframe\">\n  <thead>\n    <tr style=\"text-align: right;\">\n      <th></th>\n      <th>year</th>\n      <th>fish_id</th>\n    </tr>\n  </thead>\n  <tbody>\n    <tr>\n      <th>0</th>\n      <td>2001</td>\n      <td>268</td>\n    </tr>\n    <tr>\n      <th>1</th>\n      <td>2002</td>\n      <td>564</td>\n    </tr>\n    <tr>\n      <th>2</th>\n      <td>2003</td>\n      <td>35016</td>\n    </tr>\n    <tr>\n      <th>3</th>\n      <td>2004</td>\n      <td>25384</td>\n    </tr>\n    <tr>\n      <th>4</th>\n      <td>2005</td>\n      <td>11896</td>\n    </tr>\n    <tr>\n      <th>5</th>\n      <td>2006</td>\n      <td>26720</td>\n    </tr>\n    <tr>\n      <th>6</th>\n      <td>2007</td>\n      <td>34588</td>\n    </tr>\n    <tr>\n      <th>7</th>\n      <td>2008</td>\n      <td>39027</td>\n    </tr>\n    <tr>\n      <th>8</th>\n      <td>2009</td>\n      <td>35281</td>\n    </tr>\n    <tr>\n      <th>9</th>\n      <td>2010</td>\n      <td>13845</td>\n    </tr>\n  </tbody>\n</table>\n</div>"
     },
     "execution_count": 23,
     "metadata": {},
     "output_type": "execute_result"
    }
   ],
   "source": [
    "# calculate total number of fish each year\n",
    "total_fish_df = all_events_fish_df.groupby('year')['fish_id'].count().reset_index()\n",
    "total_fish_df.head(10)"
   ],
   "metadata": {
    "collapsed": false,
    "pycharm": {
     "name": "#%%\n"
    }
   }
  },
  {
   "cell_type": "markdown",
   "source": [
    "## Merge all the results into the final table"
   ],
   "metadata": {
    "collapsed": false,
    "pycharm": {
     "name": "#%% md\n"
    }
   }
  },
  {
   "cell_type": "code",
   "execution_count": 27,
   "outputs": [
    {
     "data": {
      "text/plain": "   year  All Events  Events with fish  Chinook Salmon  Chum Salmon  \\\n0  2001          16                16               0            0   \n1  2002          31                31               0           67   \n2  2003        1807              1273            1011        15484   \n3  2004        1109               799             754        19698   \n4  2005         969               599             405         4955   \n5  2006        1098               707             214        14267   \n6  2007        1127               943             345        18770   \n7  2008        1214               953             521        15785   \n8  2009        1168               960             126        15699   \n9  2010         732               603             137         5991   \n\n   Coho Salmon  Other Species  Pacific Herring  Pink Salmon  Sockeye Salmon  \\\n0            0              0                0          268               0   \n1            0              0                0          497               0   \n2         2909           1614              828        10220              64   \n3          104              1               93         3253               2   \n4          128              1                0         6091             271   \n5          170            695                0        11355               9   \n6          165              1                0        13907              50   \n7          190              0                0        20920              10   \n8          136             65                6        16680               2   \n9          226              0                0         7381              84   \n\n   Three-Spined Stickleback  fish_id  \n0                         0      268  \n1                         0      564  \n2                      2886    35016  \n3                      1479    25384  \n4                        45    11896  \n5                        10    26720  \n6                      1350    34588  \n7                      1601    39027  \n8                      2567    35281  \n9                        26    13845  ",
      "text/html": "<div>\n<style scoped>\n    .dataframe tbody tr th:only-of-type {\n        vertical-align: middle;\n    }\n\n    .dataframe tbody tr th {\n        vertical-align: top;\n    }\n\n    .dataframe thead th {\n        text-align: right;\n    }\n</style>\n<table border=\"1\" class=\"dataframe\">\n  <thead>\n    <tr style=\"text-align: right;\">\n      <th></th>\n      <th>year</th>\n      <th>All Events</th>\n      <th>Events with fish</th>\n      <th>Chinook Salmon</th>\n      <th>Chum Salmon</th>\n      <th>Coho Salmon</th>\n      <th>Other Species</th>\n      <th>Pacific Herring</th>\n      <th>Pink Salmon</th>\n      <th>Sockeye Salmon</th>\n      <th>Three-Spined Stickleback</th>\n      <th>fish_id</th>\n    </tr>\n  </thead>\n  <tbody>\n    <tr>\n      <th>0</th>\n      <td>2001</td>\n      <td>16</td>\n      <td>16</td>\n      <td>0</td>\n      <td>0</td>\n      <td>0</td>\n      <td>0</td>\n      <td>0</td>\n      <td>268</td>\n      <td>0</td>\n      <td>0</td>\n      <td>268</td>\n    </tr>\n    <tr>\n      <th>1</th>\n      <td>2002</td>\n      <td>31</td>\n      <td>31</td>\n      <td>0</td>\n      <td>67</td>\n      <td>0</td>\n      <td>0</td>\n      <td>0</td>\n      <td>497</td>\n      <td>0</td>\n      <td>0</td>\n      <td>564</td>\n    </tr>\n    <tr>\n      <th>2</th>\n      <td>2003</td>\n      <td>1807</td>\n      <td>1273</td>\n      <td>1011</td>\n      <td>15484</td>\n      <td>2909</td>\n      <td>1614</td>\n      <td>828</td>\n      <td>10220</td>\n      <td>64</td>\n      <td>2886</td>\n      <td>35016</td>\n    </tr>\n    <tr>\n      <th>3</th>\n      <td>2004</td>\n      <td>1109</td>\n      <td>799</td>\n      <td>754</td>\n      <td>19698</td>\n      <td>104</td>\n      <td>1</td>\n      <td>93</td>\n      <td>3253</td>\n      <td>2</td>\n      <td>1479</td>\n      <td>25384</td>\n    </tr>\n    <tr>\n      <th>4</th>\n      <td>2005</td>\n      <td>969</td>\n      <td>599</td>\n      <td>405</td>\n      <td>4955</td>\n      <td>128</td>\n      <td>1</td>\n      <td>0</td>\n      <td>6091</td>\n      <td>271</td>\n      <td>45</td>\n      <td>11896</td>\n    </tr>\n    <tr>\n      <th>5</th>\n      <td>2006</td>\n      <td>1098</td>\n      <td>707</td>\n      <td>214</td>\n      <td>14267</td>\n      <td>170</td>\n      <td>695</td>\n      <td>0</td>\n      <td>11355</td>\n      <td>9</td>\n      <td>10</td>\n      <td>26720</td>\n    </tr>\n    <tr>\n      <th>6</th>\n      <td>2007</td>\n      <td>1127</td>\n      <td>943</td>\n      <td>345</td>\n      <td>18770</td>\n      <td>165</td>\n      <td>1</td>\n      <td>0</td>\n      <td>13907</td>\n      <td>50</td>\n      <td>1350</td>\n      <td>34588</td>\n    </tr>\n    <tr>\n      <th>7</th>\n      <td>2008</td>\n      <td>1214</td>\n      <td>953</td>\n      <td>521</td>\n      <td>15785</td>\n      <td>190</td>\n      <td>0</td>\n      <td>0</td>\n      <td>20920</td>\n      <td>10</td>\n      <td>1601</td>\n      <td>39027</td>\n    </tr>\n    <tr>\n      <th>8</th>\n      <td>2009</td>\n      <td>1168</td>\n      <td>960</td>\n      <td>126</td>\n      <td>15699</td>\n      <td>136</td>\n      <td>65</td>\n      <td>6</td>\n      <td>16680</td>\n      <td>2</td>\n      <td>2567</td>\n      <td>35281</td>\n    </tr>\n    <tr>\n      <th>9</th>\n      <td>2010</td>\n      <td>732</td>\n      <td>603</td>\n      <td>137</td>\n      <td>5991</td>\n      <td>226</td>\n      <td>0</td>\n      <td>0</td>\n      <td>7381</td>\n      <td>84</td>\n      <td>26</td>\n      <td>13845</td>\n    </tr>\n  </tbody>\n</table>\n</div>"
     },
     "execution_count": 27,
     "metadata": {},
     "output_type": "execute_result"
    }
   ],
   "source": [
    "# counts of all the events and events with fish each year\n",
    "table_1a_df = pd.merge(num_events_df, num_events_with_fish_df, on='year', how='left')\n",
    "# add in the counts of species each year\n",
    "table_1a_df = pd.merge(table_1a_df, year_species_df, on='year', how='left')\n",
    "# add the total number of fish\n",
    "table_1a_df = pd.merge(table_1a_df, total_fish_df, on='year', how='left')\n",
    "table_1a_df.head(10)"
   ],
   "metadata": {
    "collapsed": false,
    "pycharm": {
     "name": "#%%\n"
    }
   }
  },
  {
   "cell_type": "code",
   "execution_count": 28,
   "outputs": [
    {
     "data": {
      "text/plain": "    Year  All events  Events with fish   Chum   Pink  Coho  Chinook  Sockeye  \\\n0   2001          16                16      0    268     0        0        0   \n1   2002          31                31     67    497     0        0        0   \n2   2003        1807              1273  15484  10220  2909     1011       64   \n3   2004        1109               799  19698   3253   104      754        2   \n4   2005         969               599   4955   6091   128      405      271   \n5   2006        1098               707  14267  11355   170      214        9   \n6   2007        1127               943  18770  13907   165      345       50   \n7   2008        1214               953  15785  20920   190      521       10   \n8   2009        1168               960  15699  16680   136      126        2   \n9   2010         732               603   5991   7381   226      137       84   \n10  2011         852               669   8062   8017   320      181        1   \n11  2012         543               491   7841   6961   330      137      206   \n12  2013         225               215   3981   3694    66       18       26   \n13  2014         191               179   2908   3644    58       27       55   \n14  2015         196               164   2004   3310   166      129       59   \n15  2016         377               274   4795   3242   249      230       76   \n16  2017         473               405   7513   3180   320       37      165   \n17  2018         463               343   4535   3480   135       89       68   \n18  2019         612               348   5248   3015   199       59       27   \n19  2020         642               423   5068   4227   269       55       57   \n20  2021         737               534   6497   5355   156      105       42   \n21  2022         728               499   6983   4642   302      169        1   \n22  2023         506               292   2610   3068   205       25       70   \n\n    Stickleback  Pacific Herring  Other species  All fish  \n0             0                0              0       268  \n1             0                0              0       564  \n2          2886              828           1614     35016  \n3          1479               93              1     25384  \n4            45                0              1     11896  \n5            10                0            695     26720  \n6          1350                0              1     34588  \n7          1601                0              0     39027  \n8          2567                6             65     35281  \n9            26                0              0     13845  \n10           55               60             18     16714  \n11           27                0              0     15502  \n12            0                0              7      7792  \n13            0                1              1      6694  \n14           24                3              1      5696  \n15            8                0             25      8625  \n16           11                0              1     11227  \n17           41                0              3      8351  \n18          104                0              0      8652  \n19            4                5              1      9686  \n20          189               12              5     12361  \n21            0                0              1     12098  \n22            0                0              2      5980  ",
      "text/html": "<div>\n<style scoped>\n    .dataframe tbody tr th:only-of-type {\n        vertical-align: middle;\n    }\n\n    .dataframe tbody tr th {\n        vertical-align: top;\n    }\n\n    .dataframe thead th {\n        text-align: right;\n    }\n</style>\n<table border=\"1\" class=\"dataframe\">\n  <thead>\n    <tr style=\"text-align: right;\">\n      <th></th>\n      <th>Year</th>\n      <th>All events</th>\n      <th>Events with fish</th>\n      <th>Chum</th>\n      <th>Pink</th>\n      <th>Coho</th>\n      <th>Chinook</th>\n      <th>Sockeye</th>\n      <th>Stickleback</th>\n      <th>Pacific Herring</th>\n      <th>Other species</th>\n      <th>All fish</th>\n    </tr>\n  </thead>\n  <tbody>\n    <tr>\n      <th>0</th>\n      <td>2001</td>\n      <td>16</td>\n      <td>16</td>\n      <td>0</td>\n      <td>268</td>\n      <td>0</td>\n      <td>0</td>\n      <td>0</td>\n      <td>0</td>\n      <td>0</td>\n      <td>0</td>\n      <td>268</td>\n    </tr>\n    <tr>\n      <th>1</th>\n      <td>2002</td>\n      <td>31</td>\n      <td>31</td>\n      <td>67</td>\n      <td>497</td>\n      <td>0</td>\n      <td>0</td>\n      <td>0</td>\n      <td>0</td>\n      <td>0</td>\n      <td>0</td>\n      <td>564</td>\n    </tr>\n    <tr>\n      <th>2</th>\n      <td>2003</td>\n      <td>1807</td>\n      <td>1273</td>\n      <td>15484</td>\n      <td>10220</td>\n      <td>2909</td>\n      <td>1011</td>\n      <td>64</td>\n      <td>2886</td>\n      <td>828</td>\n      <td>1614</td>\n      <td>35016</td>\n    </tr>\n    <tr>\n      <th>3</th>\n      <td>2004</td>\n      <td>1109</td>\n      <td>799</td>\n      <td>19698</td>\n      <td>3253</td>\n      <td>104</td>\n      <td>754</td>\n      <td>2</td>\n      <td>1479</td>\n      <td>93</td>\n      <td>1</td>\n      <td>25384</td>\n    </tr>\n    <tr>\n      <th>4</th>\n      <td>2005</td>\n      <td>969</td>\n      <td>599</td>\n      <td>4955</td>\n      <td>6091</td>\n      <td>128</td>\n      <td>405</td>\n      <td>271</td>\n      <td>45</td>\n      <td>0</td>\n      <td>1</td>\n      <td>11896</td>\n    </tr>\n    <tr>\n      <th>5</th>\n      <td>2006</td>\n      <td>1098</td>\n      <td>707</td>\n      <td>14267</td>\n      <td>11355</td>\n      <td>170</td>\n      <td>214</td>\n      <td>9</td>\n      <td>10</td>\n      <td>0</td>\n      <td>695</td>\n      <td>26720</td>\n    </tr>\n    <tr>\n      <th>6</th>\n      <td>2007</td>\n      <td>1127</td>\n      <td>943</td>\n      <td>18770</td>\n      <td>13907</td>\n      <td>165</td>\n      <td>345</td>\n      <td>50</td>\n      <td>1350</td>\n      <td>0</td>\n      <td>1</td>\n      <td>34588</td>\n    </tr>\n    <tr>\n      <th>7</th>\n      <td>2008</td>\n      <td>1214</td>\n      <td>953</td>\n      <td>15785</td>\n      <td>20920</td>\n      <td>190</td>\n      <td>521</td>\n      <td>10</td>\n      <td>1601</td>\n      <td>0</td>\n      <td>0</td>\n      <td>39027</td>\n    </tr>\n    <tr>\n      <th>8</th>\n      <td>2009</td>\n      <td>1168</td>\n      <td>960</td>\n      <td>15699</td>\n      <td>16680</td>\n      <td>136</td>\n      <td>126</td>\n      <td>2</td>\n      <td>2567</td>\n      <td>6</td>\n      <td>65</td>\n      <td>35281</td>\n    </tr>\n    <tr>\n      <th>9</th>\n      <td>2010</td>\n      <td>732</td>\n      <td>603</td>\n      <td>5991</td>\n      <td>7381</td>\n      <td>226</td>\n      <td>137</td>\n      <td>84</td>\n      <td>26</td>\n      <td>0</td>\n      <td>0</td>\n      <td>13845</td>\n    </tr>\n    <tr>\n      <th>10</th>\n      <td>2011</td>\n      <td>852</td>\n      <td>669</td>\n      <td>8062</td>\n      <td>8017</td>\n      <td>320</td>\n      <td>181</td>\n      <td>1</td>\n      <td>55</td>\n      <td>60</td>\n      <td>18</td>\n      <td>16714</td>\n    </tr>\n    <tr>\n      <th>11</th>\n      <td>2012</td>\n      <td>543</td>\n      <td>491</td>\n      <td>7841</td>\n      <td>6961</td>\n      <td>330</td>\n      <td>137</td>\n      <td>206</td>\n      <td>27</td>\n      <td>0</td>\n      <td>0</td>\n      <td>15502</td>\n    </tr>\n    <tr>\n      <th>12</th>\n      <td>2013</td>\n      <td>225</td>\n      <td>215</td>\n      <td>3981</td>\n      <td>3694</td>\n      <td>66</td>\n      <td>18</td>\n      <td>26</td>\n      <td>0</td>\n      <td>0</td>\n      <td>7</td>\n      <td>7792</td>\n    </tr>\n    <tr>\n      <th>13</th>\n      <td>2014</td>\n      <td>191</td>\n      <td>179</td>\n      <td>2908</td>\n      <td>3644</td>\n      <td>58</td>\n      <td>27</td>\n      <td>55</td>\n      <td>0</td>\n      <td>1</td>\n      <td>1</td>\n      <td>6694</td>\n    </tr>\n    <tr>\n      <th>14</th>\n      <td>2015</td>\n      <td>196</td>\n      <td>164</td>\n      <td>2004</td>\n      <td>3310</td>\n      <td>166</td>\n      <td>129</td>\n      <td>59</td>\n      <td>24</td>\n      <td>3</td>\n      <td>1</td>\n      <td>5696</td>\n    </tr>\n    <tr>\n      <th>15</th>\n      <td>2016</td>\n      <td>377</td>\n      <td>274</td>\n      <td>4795</td>\n      <td>3242</td>\n      <td>249</td>\n      <td>230</td>\n      <td>76</td>\n      <td>8</td>\n      <td>0</td>\n      <td>25</td>\n      <td>8625</td>\n    </tr>\n    <tr>\n      <th>16</th>\n      <td>2017</td>\n      <td>473</td>\n      <td>405</td>\n      <td>7513</td>\n      <td>3180</td>\n      <td>320</td>\n      <td>37</td>\n      <td>165</td>\n      <td>11</td>\n      <td>0</td>\n      <td>1</td>\n      <td>11227</td>\n    </tr>\n    <tr>\n      <th>17</th>\n      <td>2018</td>\n      <td>463</td>\n      <td>343</td>\n      <td>4535</td>\n      <td>3480</td>\n      <td>135</td>\n      <td>89</td>\n      <td>68</td>\n      <td>41</td>\n      <td>0</td>\n      <td>3</td>\n      <td>8351</td>\n    </tr>\n    <tr>\n      <th>18</th>\n      <td>2019</td>\n      <td>612</td>\n      <td>348</td>\n      <td>5248</td>\n      <td>3015</td>\n      <td>199</td>\n      <td>59</td>\n      <td>27</td>\n      <td>104</td>\n      <td>0</td>\n      <td>0</td>\n      <td>8652</td>\n    </tr>\n    <tr>\n      <th>19</th>\n      <td>2020</td>\n      <td>642</td>\n      <td>423</td>\n      <td>5068</td>\n      <td>4227</td>\n      <td>269</td>\n      <td>55</td>\n      <td>57</td>\n      <td>4</td>\n      <td>5</td>\n      <td>1</td>\n      <td>9686</td>\n    </tr>\n    <tr>\n      <th>20</th>\n      <td>2021</td>\n      <td>737</td>\n      <td>534</td>\n      <td>6497</td>\n      <td>5355</td>\n      <td>156</td>\n      <td>105</td>\n      <td>42</td>\n      <td>189</td>\n      <td>12</td>\n      <td>5</td>\n      <td>12361</td>\n    </tr>\n    <tr>\n      <th>21</th>\n      <td>2022</td>\n      <td>728</td>\n      <td>499</td>\n      <td>6983</td>\n      <td>4642</td>\n      <td>302</td>\n      <td>169</td>\n      <td>1</td>\n      <td>0</td>\n      <td>0</td>\n      <td>1</td>\n      <td>12098</td>\n    </tr>\n    <tr>\n      <th>22</th>\n      <td>2023</td>\n      <td>506</td>\n      <td>292</td>\n      <td>2610</td>\n      <td>3068</td>\n      <td>205</td>\n      <td>25</td>\n      <td>70</td>\n      <td>0</td>\n      <td>0</td>\n      <td>2</td>\n      <td>5980</td>\n    </tr>\n  </tbody>\n</table>\n</div>"
     },
     "execution_count": 28,
     "metadata": {},
     "output_type": "execute_result"
    }
   ],
   "source": [
    "# rename columns nicely for publication\n",
    "table_1a_df.rename(\n",
    "    columns={'year': 'Year', 'All Events': 'All events',\n",
    "             'Chum Salmon': 'Chum', 'Pink Salmon': 'Pink', 'Coho Salmon': 'Coho', 'Chinook Salmon': 'Chinook',\n",
    "             'Sockeye Salmon': 'Sockeye', 'Three-Spined Stickleback': 'Stickleback', 'Other Species': 'Other species',\n",
    "             'fish_id': 'All fish'},\n",
    "    inplace=True\n",
    ")\n",
    "\n",
    "# order the columns\n",
    "col_order = ['Year', 'All events', 'Events with fish','Chum','Pink', 'Coho', 'Chinook', 'Sockeye',\n",
    "             'Stickleback', 'Pacific Herring', 'Other species', 'All fish']\n",
    "table_1a_df = table_1a_df.reindex(columns=col_order)\n",
    "table_1a_df"
   ],
   "metadata": {
    "collapsed": false,
    "pycharm": {
     "name": "#%%\n"
    }
   }
  },
  {
   "cell_type": "code",
   "execution_count": 29,
   "outputs": [],
   "source": [
    "# export the table to a CSV for final formatting\n",
    "table_1a_df.to_csv(OUTPUT_DIR / \"Table_1a.csv\", index=False)"
   ],
   "metadata": {
    "collapsed": false,
    "pycharm": {
     "name": "#%%\n"
    }
   }
  },
  {
   "cell_type": "code",
   "execution_count": 26,
   "outputs": [],
   "source": [],
   "metadata": {
    "collapsed": false,
    "pycharm": {
     "name": "#%%\n"
    }
   }
  }
 ],
 "metadata": {
  "kernelspec": {
   "display_name": "Python 3",
   "language": "python",
   "name": "python3"
  },
  "language_info": {
   "codemirror_mode": {
    "name": "ipython",
    "version": 2
   },
   "file_extension": ".py",
   "mimetype": "text/x-python",
   "name": "python",
   "nbconvert_exporter": "python",
   "pygments_lexer": "ipython2",
   "version": "2.7.6"
  }
 },
 "nbformat": 4,
 "nbformat_minor": 0
}