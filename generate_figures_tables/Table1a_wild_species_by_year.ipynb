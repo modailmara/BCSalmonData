{
 "cells": [
  {
   "cell_type": "markdown",
   "source": [
    "## This Notebook generates a CSV for Table 1a\n",
    "The CSV has the structure of Table 1a, except for the Total row at the bottom. The presentation and the Total row as in the paper was done in another tool."
   ],
   "metadata": {
    "collapsed": false,
    "pycharm": {
     "name": "#%% md\n"
    }
   }
  },
  {
   "cell_type": "code",
   "execution_count": 28,
   "outputs": [],
   "source": [
    "from pathlib import Path\n",
    "import pandas as pd"
   ],
   "metadata": {
    "collapsed": false,
    "pycharm": {
     "name": "#%%\n"
    }
   }
  },
  {
   "cell_type": "code",
   "execution_count": 29,
   "outputs": [],
   "source": [
    "# define data location constants\n",
    "DATA_DIR = Path('..') / 'source_data'\n",
    "WILD_FISH_DATA = DATA_DIR / 'all_wild_fish_lice.csv'\n",
    "WILD_EVENT_DATA = DATA_DIR / 'all_wild_sample_events.csv'\n",
    "\n",
    "OUTPUT_DIR = Path('..') / 'output' / 'Table_1a'"
   ],
   "metadata": {
    "collapsed": false,
    "pycharm": {
     "name": "#%%\n"
    }
   }
  },
  {
   "cell_type": "code",
   "execution_count": 30,
   "outputs": [
    {
     "name": "stderr",
     "output_type": "stream",
     "text": [
      "/tmp/ipykernel_824914/468452417.py:4: DtypeWarning: Columns (0,1,6,18) have mixed types. Specify dtype option on import or set low_memory=False.\n",
      "  fish_df = pd.read_csv(WILD_FISH_DATA)\n"
     ]
    }
   ],
   "source": [
    "# import the data\n",
    "events_df = pd.read_csv(WILD_EVENT_DATA)\n",
    "events_df['event_id'] = events_df['event_id'].astype(str)\n",
    "fish_df = pd.read_csv(WILD_FISH_DATA)\n",
    "fish_df['event_id'] = fish_df['event_id'].astype(str)\n"
   ],
   "metadata": {
    "collapsed": false,
    "pycharm": {
     "name": "#%%\n"
    }
   }
  },
  {
   "cell_type": "code",
   "execution_count": 31,
   "outputs": [],
   "source": [
    "\n",
    "# make a year column\n",
    "events_df['sampledate'] = pd.to_datetime(events_df.sampledate, errors='raise', utc=True)\n",
    "events_df['year'] = events_df['sampledate'].dt.year"
   ],
   "metadata": {
    "collapsed": false,
    "pycharm": {
     "name": "#%%\n"
    }
   }
  },
  {
   "cell_type": "markdown",
   "source": [
    "## Calculate the \"All Events\" column"
   ],
   "metadata": {
    "collapsed": false,
    "pycharm": {
     "name": "#%% md\n"
    }
   }
  },
  {
   "cell_type": "code",
   "execution_count": 32,
   "outputs": [
    {
     "data": {
      "text/plain": "   year  All Events\n0  2001          16\n1  2002          31\n2  2003        1807\n3  2004        1109\n4  2005         969",
      "text/html": "<div>\n<style scoped>\n    .dataframe tbody tr th:only-of-type {\n        vertical-align: middle;\n    }\n\n    .dataframe tbody tr th {\n        vertical-align: top;\n    }\n\n    .dataframe thead th {\n        text-align: right;\n    }\n</style>\n<table border=\"1\" class=\"dataframe\">\n  <thead>\n    <tr style=\"text-align: right;\">\n      <th></th>\n      <th>year</th>\n      <th>All Events</th>\n    </tr>\n  </thead>\n  <tbody>\n    <tr>\n      <th>0</th>\n      <td>2001</td>\n      <td>16</td>\n    </tr>\n    <tr>\n      <th>1</th>\n      <td>2002</td>\n      <td>31</td>\n    </tr>\n    <tr>\n      <th>2</th>\n      <td>2003</td>\n      <td>1807</td>\n    </tr>\n    <tr>\n      <th>3</th>\n      <td>2004</td>\n      <td>1109</td>\n    </tr>\n    <tr>\n      <th>4</th>\n      <td>2005</td>\n      <td>969</td>\n    </tr>\n  </tbody>\n</table>\n</div>"
     },
     "execution_count": 32,
     "metadata": {},
     "output_type": "execute_result"
    }
   ],
   "source": [
    "# group by year\n",
    "events_year_group = events_df.groupby(['year'])\n",
    "\n",
    "# get the number of sample events each year\n",
    "num_events_df = events_year_group['event_id'].count().reset_index()\n",
    "num_events_df.rename(columns={'event_id': 'All Events'}, inplace=True)\n",
    "num_events_df.head()"
   ],
   "metadata": {
    "collapsed": false,
    "pycharm": {
     "name": "#%%\n"
    }
   }
  },
  {
   "cell_type": "markdown",
   "source": [
    "## Calculate the \"Events with Fish\" column"
   ],
   "metadata": {
    "collapsed": false,
    "pycharm": {
     "name": "#%% md\n"
    }
   }
  },
  {
   "cell_type": "code",
   "execution_count": 33,
   "outputs": [],
   "source": [
    "# join events and fish data, merge 'right' to only include events that have fish\n",
    "wild_with_fish_df = pd.merge(events_df, fish_df, how='right', on=['event_id'])"
   ],
   "metadata": {
    "collapsed": false,
    "pycharm": {
     "name": "#%%\n"
    }
   }
  },
  {
   "cell_type": "code",
   "execution_count": 34,
   "outputs": [
    {
     "data": {
      "text/plain": "     year  event_id  fish_id\n0  2001.0  scfs_1.0        5\n1  2003.0         1        8\n2  2003.0        10       16\n3  2003.0     10011       36\n4  2003.0     10013       41",
      "text/html": "<div>\n<style scoped>\n    .dataframe tbody tr th:only-of-type {\n        vertical-align: middle;\n    }\n\n    .dataframe tbody tr th {\n        vertical-align: top;\n    }\n\n    .dataframe thead th {\n        text-align: right;\n    }\n</style>\n<table border=\"1\" class=\"dataframe\">\n  <thead>\n    <tr style=\"text-align: right;\">\n      <th></th>\n      <th>year</th>\n      <th>event_id</th>\n      <th>fish_id</th>\n    </tr>\n  </thead>\n  <tbody>\n    <tr>\n      <th>0</th>\n      <td>2001.0</td>\n      <td>scfs_1.0</td>\n      <td>5</td>\n    </tr>\n    <tr>\n      <th>1</th>\n      <td>2003.0</td>\n      <td>1</td>\n      <td>8</td>\n    </tr>\n    <tr>\n      <th>2</th>\n      <td>2003.0</td>\n      <td>10</td>\n      <td>16</td>\n    </tr>\n    <tr>\n      <th>3</th>\n      <td>2003.0</td>\n      <td>10011</td>\n      <td>36</td>\n    </tr>\n    <tr>\n      <th>4</th>\n      <td>2003.0</td>\n      <td>10013</td>\n      <td>41</td>\n    </tr>\n  </tbody>\n</table>\n</div>"
     },
     "execution_count": 34,
     "metadata": {},
     "output_type": "execute_result"
    }
   ],
   "source": [
    "# get a row for each year-event_id combination\n",
    "wild_with_fish_year_group = wild_with_fish_df.groupby(['year', 'event_id'])\n",
    "num_events_with_fish_id_df = wild_with_fish_year_group['fish_id'].count().reset_index()\n",
    "num_events_with_fish_id_df.head()"
   ],
   "metadata": {
    "collapsed": false,
    "pycharm": {
     "name": "#%%\n"
    }
   }
  },
  {
   "cell_type": "code",
   "execution_count": 35,
   "outputs": [
    {
     "data": {
      "text/plain": "     year  Events with fish\n0  2001.0                 1\n1  2003.0              1237\n2  2004.0               757\n3  2005.0               555\n4  2006.0               671",
      "text/html": "<div>\n<style scoped>\n    .dataframe tbody tr th:only-of-type {\n        vertical-align: middle;\n    }\n\n    .dataframe tbody tr th {\n        vertical-align: top;\n    }\n\n    .dataframe thead th {\n        text-align: right;\n    }\n</style>\n<table border=\"1\" class=\"dataframe\">\n  <thead>\n    <tr style=\"text-align: right;\">\n      <th></th>\n      <th>year</th>\n      <th>Events with fish</th>\n    </tr>\n  </thead>\n  <tbody>\n    <tr>\n      <th>0</th>\n      <td>2001.0</td>\n      <td>1</td>\n    </tr>\n    <tr>\n      <th>1</th>\n      <td>2003.0</td>\n      <td>1237</td>\n    </tr>\n    <tr>\n      <th>2</th>\n      <td>2004.0</td>\n      <td>757</td>\n    </tr>\n    <tr>\n      <th>3</th>\n      <td>2005.0</td>\n      <td>555</td>\n    </tr>\n    <tr>\n      <th>4</th>\n      <td>2006.0</td>\n      <td>671</td>\n    </tr>\n  </tbody>\n</table>\n</div>"
     },
     "execution_count": 35,
     "metadata": {},
     "output_type": "execute_result"
    }
   ],
   "source": [
    "# group by year and count the unique event_id for each year\n",
    "num_events_with_fish_group = num_events_with_fish_id_df.groupby('year')\n",
    "num_events_with_fish_df = num_events_with_fish_group['event_id'].count().reset_index()\n",
    "num_events_with_fish_df.rename(columns={'event_id': 'Events with fish'}, inplace=True)\n",
    "num_events_with_fish_df.head()"
   ],
   "metadata": {
    "collapsed": false,
    "pycharm": {
     "name": "#%%\n"
    }
   }
  },
  {
   "cell_type": "markdown",
   "source": [
    "## Calculate numbers of fish caught each year"
   ],
   "metadata": {
    "collapsed": false,
    "pycharm": {
     "name": "#%% md\n"
    }
   }
  },
  {
   "cell_type": "code",
   "execution_count": 36,
   "outputs": [
    {
     "data": {
      "text/plain": "  event_id                sampledate                 region dfozone  \\\n0        1 2003-05-13 00:00:00+00:00  Broughton Archipelago     3_3   \n1        1 2003-05-13 00:00:00+00:00  Broughton Archipelago     3_3   \n2        1 2003-05-13 00:00:00+00:00  Broughton Archipelago     3_3   \n3        1 2003-05-13 00:00:00+00:00  Broughton Archipelago     3_3   \n4        1 2003-05-13 00:00:00+00:00  Broughton Archipelago     3_3   \n\n    sample_site  latitude  longitude                       source  year  \\\n0  Adeane Point  50.71978  -125.6795  Fisheries and Oceans Canada  2003   \n1  Adeane Point  50.71978  -125.6795  Fisheries and Oceans Canada  2003   \n2  Adeane Point  50.71978  -125.6795  Fisheries and Oceans Canada  2003   \n3  Adeane Point  50.71978  -125.6795  Fisheries and Oceans Canada  2003   \n4  Adeane Point  50.71978  -125.6795  Fisheries and Oceans Canada  2003   \n\n  fish_id  ...  lep_unknown  cal_cop  cal_chal cal_motile cal_unknown  \\\n0    1715  ...          0.0      0.0       0.0        0.0         0.0   \n1    1716  ...          0.0      0.0       0.0        0.0         0.0   \n2    1717  ...          0.0      0.0       0.0        0.0         0.0   \n3    1718  ...          0.0      0.0       0.0        0.0         0.0   \n4    1719  ...          0.0      0.0       0.0        0.0         0.0   \n\n   unknown_cop  unknown_chal  unknown_motile  unknown_unknown  lice_protocol  \n0          0.0           0.0             0.0              0.0            NaN  \n1          0.0           0.0             0.0              0.0            NaN  \n2          0.0           0.0             0.0              0.0            NaN  \n3          0.0           0.0             0.0              0.0            NaN  \n4          0.0           0.0             0.0              0.0            NaN  \n\n[5 rows x 27 columns]",
      "text/html": "<div>\n<style scoped>\n    .dataframe tbody tr th:only-of-type {\n        vertical-align: middle;\n    }\n\n    .dataframe tbody tr th {\n        vertical-align: top;\n    }\n\n    .dataframe thead th {\n        text-align: right;\n    }\n</style>\n<table border=\"1\" class=\"dataframe\">\n  <thead>\n    <tr style=\"text-align: right;\">\n      <th></th>\n      <th>event_id</th>\n      <th>sampledate</th>\n      <th>region</th>\n      <th>dfozone</th>\n      <th>sample_site</th>\n      <th>latitude</th>\n      <th>longitude</th>\n      <th>source</th>\n      <th>year</th>\n      <th>fish_id</th>\n      <th>...</th>\n      <th>lep_unknown</th>\n      <th>cal_cop</th>\n      <th>cal_chal</th>\n      <th>cal_motile</th>\n      <th>cal_unknown</th>\n      <th>unknown_cop</th>\n      <th>unknown_chal</th>\n      <th>unknown_motile</th>\n      <th>unknown_unknown</th>\n      <th>lice_protocol</th>\n    </tr>\n  </thead>\n  <tbody>\n    <tr>\n      <th>0</th>\n      <td>1</td>\n      <td>2003-05-13 00:00:00+00:00</td>\n      <td>Broughton Archipelago</td>\n      <td>3_3</td>\n      <td>Adeane Point</td>\n      <td>50.71978</td>\n      <td>-125.6795</td>\n      <td>Fisheries and Oceans Canada</td>\n      <td>2003</td>\n      <td>1715</td>\n      <td>...</td>\n      <td>0.0</td>\n      <td>0.0</td>\n      <td>0.0</td>\n      <td>0.0</td>\n      <td>0.0</td>\n      <td>0.0</td>\n      <td>0.0</td>\n      <td>0.0</td>\n      <td>0.0</td>\n      <td>NaN</td>\n    </tr>\n    <tr>\n      <th>1</th>\n      <td>1</td>\n      <td>2003-05-13 00:00:00+00:00</td>\n      <td>Broughton Archipelago</td>\n      <td>3_3</td>\n      <td>Adeane Point</td>\n      <td>50.71978</td>\n      <td>-125.6795</td>\n      <td>Fisheries and Oceans Canada</td>\n      <td>2003</td>\n      <td>1716</td>\n      <td>...</td>\n      <td>0.0</td>\n      <td>0.0</td>\n      <td>0.0</td>\n      <td>0.0</td>\n      <td>0.0</td>\n      <td>0.0</td>\n      <td>0.0</td>\n      <td>0.0</td>\n      <td>0.0</td>\n      <td>NaN</td>\n    </tr>\n    <tr>\n      <th>2</th>\n      <td>1</td>\n      <td>2003-05-13 00:00:00+00:00</td>\n      <td>Broughton Archipelago</td>\n      <td>3_3</td>\n      <td>Adeane Point</td>\n      <td>50.71978</td>\n      <td>-125.6795</td>\n      <td>Fisheries and Oceans Canada</td>\n      <td>2003</td>\n      <td>1717</td>\n      <td>...</td>\n      <td>0.0</td>\n      <td>0.0</td>\n      <td>0.0</td>\n      <td>0.0</td>\n      <td>0.0</td>\n      <td>0.0</td>\n      <td>0.0</td>\n      <td>0.0</td>\n      <td>0.0</td>\n      <td>NaN</td>\n    </tr>\n    <tr>\n      <th>3</th>\n      <td>1</td>\n      <td>2003-05-13 00:00:00+00:00</td>\n      <td>Broughton Archipelago</td>\n      <td>3_3</td>\n      <td>Adeane Point</td>\n      <td>50.71978</td>\n      <td>-125.6795</td>\n      <td>Fisheries and Oceans Canada</td>\n      <td>2003</td>\n      <td>1718</td>\n      <td>...</td>\n      <td>0.0</td>\n      <td>0.0</td>\n      <td>0.0</td>\n      <td>0.0</td>\n      <td>0.0</td>\n      <td>0.0</td>\n      <td>0.0</td>\n      <td>0.0</td>\n      <td>0.0</td>\n      <td>NaN</td>\n    </tr>\n    <tr>\n      <th>4</th>\n      <td>1</td>\n      <td>2003-05-13 00:00:00+00:00</td>\n      <td>Broughton Archipelago</td>\n      <td>3_3</td>\n      <td>Adeane Point</td>\n      <td>50.71978</td>\n      <td>-125.6795</td>\n      <td>Fisheries and Oceans Canada</td>\n      <td>2003</td>\n      <td>1719</td>\n      <td>...</td>\n      <td>0.0</td>\n      <td>0.0</td>\n      <td>0.0</td>\n      <td>0.0</td>\n      <td>0.0</td>\n      <td>0.0</td>\n      <td>0.0</td>\n      <td>0.0</td>\n      <td>0.0</td>\n      <td>NaN</td>\n    </tr>\n  </tbody>\n</table>\n<p>5 rows × 27 columns</p>\n</div>"
     },
     "execution_count": 36,
     "metadata": {},
     "output_type": "execute_result"
    }
   ],
   "source": [
    "# merge events and fish with all the entries\n",
    "all_events_fish_df = pd.merge(events_df, fish_df, how='left', on='event_id')\n",
    "all_events_fish_df.head()"
   ],
   "metadata": {
    "collapsed": false,
    "pycharm": {
     "name": "#%%\n"
    }
   }
  },
  {
   "cell_type": "code",
   "execution_count": 37,
   "outputs": [
    {
     "data": {
      "text/plain": "fish_species  year  Chinook Salmon  Chum Salmon  Coho Salmon  Other Species  \\\n0             2001               0            0            0              0   \n1             2003            1011        15175         2909           1614   \n2             2004             754        19157          104              1   \n3             2005             405         4888          128              1   \n4             2006             214        13402          170            695   \n5             2007             345        18421          165              1   \n6             2008             521        15515          190              0   \n7             2009             126        14766          136             65   \n8             2010             137         5210          226              0   \n9             2011             181         7006          320             18   \n10            2012             137         6496          330              0   \n11            2013              18         2156           66              7   \n12            2014              27         1329           58              1   \n13            2015             129         2267          312              1   \n14            2016             230         4128          346             25   \n15            2017              45         7000          374              1   \n16            2018              99         4469          200              3   \n17            2019             327         5764          362              0   \n18            2020              62         4360          282              1   \n19            2021             279         8145          180              5   \n20            2022             171         5683          302              1   \n21            2023              99         3173          238              2   \n\nfish_species  Pacific Herring  Pink Salmon  Sockeye Salmon  \\\n0                           0            5               0   \n1                         828         9853              64   \n2                          93         2707               2   \n3                           0         4074             271   \n4                           0        10512               9   \n5                           0        12606              50   \n6                           0        18845              10   \n7                           6        15064               2   \n8                           0         5946              24   \n9                          60         5773               1   \n10                          0         5392             141   \n11                          0         1744              21   \n12                          1         1888              34   \n13                        284         1764            2833   \n14                        130         2432            1917   \n15                         58         2149             780   \n16                         52         2867             419   \n17                        128         1914             766   \n18                         10         3182             240   \n19                         22         3618             116   \n20                          1         3239              42   \n21                          3         2903             188   \n\nfish_species  Three-Spined Stickleback  \n0                                    0  \n1                                 2886  \n2                                 1479  \n3                                   45  \n4                                   10  \n5                                 1350  \n6                                 1601  \n7                                 2567  \n8                                   26  \n9                                   55  \n10                                  27  \n11                                   0  \n12                                   0  \n13                                  24  \n14                                   8  \n15                                  11  \n16                                  41  \n17                                 104  \n18                                   4  \n19                                 189  \n20                                   0  \n21                                   0  ",
      "text/html": "<div>\n<style scoped>\n    .dataframe tbody tr th:only-of-type {\n        vertical-align: middle;\n    }\n\n    .dataframe tbody tr th {\n        vertical-align: top;\n    }\n\n    .dataframe thead th {\n        text-align: right;\n    }\n</style>\n<table border=\"1\" class=\"dataframe\">\n  <thead>\n    <tr style=\"text-align: right;\">\n      <th>fish_species</th>\n      <th>year</th>\n      <th>Chinook Salmon</th>\n      <th>Chum Salmon</th>\n      <th>Coho Salmon</th>\n      <th>Other Species</th>\n      <th>Pacific Herring</th>\n      <th>Pink Salmon</th>\n      <th>Sockeye Salmon</th>\n      <th>Three-Spined Stickleback</th>\n    </tr>\n  </thead>\n  <tbody>\n    <tr>\n      <th>0</th>\n      <td>2001</td>\n      <td>0</td>\n      <td>0</td>\n      <td>0</td>\n      <td>0</td>\n      <td>0</td>\n      <td>5</td>\n      <td>0</td>\n      <td>0</td>\n    </tr>\n    <tr>\n      <th>1</th>\n      <td>2003</td>\n      <td>1011</td>\n      <td>15175</td>\n      <td>2909</td>\n      <td>1614</td>\n      <td>828</td>\n      <td>9853</td>\n      <td>64</td>\n      <td>2886</td>\n    </tr>\n    <tr>\n      <th>2</th>\n      <td>2004</td>\n      <td>754</td>\n      <td>19157</td>\n      <td>104</td>\n      <td>1</td>\n      <td>93</td>\n      <td>2707</td>\n      <td>2</td>\n      <td>1479</td>\n    </tr>\n    <tr>\n      <th>3</th>\n      <td>2005</td>\n      <td>405</td>\n      <td>4888</td>\n      <td>128</td>\n      <td>1</td>\n      <td>0</td>\n      <td>4074</td>\n      <td>271</td>\n      <td>45</td>\n    </tr>\n    <tr>\n      <th>4</th>\n      <td>2006</td>\n      <td>214</td>\n      <td>13402</td>\n      <td>170</td>\n      <td>695</td>\n      <td>0</td>\n      <td>10512</td>\n      <td>9</td>\n      <td>10</td>\n    </tr>\n    <tr>\n      <th>5</th>\n      <td>2007</td>\n      <td>345</td>\n      <td>18421</td>\n      <td>165</td>\n      <td>1</td>\n      <td>0</td>\n      <td>12606</td>\n      <td>50</td>\n      <td>1350</td>\n    </tr>\n    <tr>\n      <th>6</th>\n      <td>2008</td>\n      <td>521</td>\n      <td>15515</td>\n      <td>190</td>\n      <td>0</td>\n      <td>0</td>\n      <td>18845</td>\n      <td>10</td>\n      <td>1601</td>\n    </tr>\n    <tr>\n      <th>7</th>\n      <td>2009</td>\n      <td>126</td>\n      <td>14766</td>\n      <td>136</td>\n      <td>65</td>\n      <td>6</td>\n      <td>15064</td>\n      <td>2</td>\n      <td>2567</td>\n    </tr>\n    <tr>\n      <th>8</th>\n      <td>2010</td>\n      <td>137</td>\n      <td>5210</td>\n      <td>226</td>\n      <td>0</td>\n      <td>0</td>\n      <td>5946</td>\n      <td>24</td>\n      <td>26</td>\n    </tr>\n    <tr>\n      <th>9</th>\n      <td>2011</td>\n      <td>181</td>\n      <td>7006</td>\n      <td>320</td>\n      <td>18</td>\n      <td>60</td>\n      <td>5773</td>\n      <td>1</td>\n      <td>55</td>\n    </tr>\n    <tr>\n      <th>10</th>\n      <td>2012</td>\n      <td>137</td>\n      <td>6496</td>\n      <td>330</td>\n      <td>0</td>\n      <td>0</td>\n      <td>5392</td>\n      <td>141</td>\n      <td>27</td>\n    </tr>\n    <tr>\n      <th>11</th>\n      <td>2013</td>\n      <td>18</td>\n      <td>2156</td>\n      <td>66</td>\n      <td>7</td>\n      <td>0</td>\n      <td>1744</td>\n      <td>21</td>\n      <td>0</td>\n    </tr>\n    <tr>\n      <th>12</th>\n      <td>2014</td>\n      <td>27</td>\n      <td>1329</td>\n      <td>58</td>\n      <td>1</td>\n      <td>1</td>\n      <td>1888</td>\n      <td>34</td>\n      <td>0</td>\n    </tr>\n    <tr>\n      <th>13</th>\n      <td>2015</td>\n      <td>129</td>\n      <td>2267</td>\n      <td>312</td>\n      <td>1</td>\n      <td>284</td>\n      <td>1764</td>\n      <td>2833</td>\n      <td>24</td>\n    </tr>\n    <tr>\n      <th>14</th>\n      <td>2016</td>\n      <td>230</td>\n      <td>4128</td>\n      <td>346</td>\n      <td>25</td>\n      <td>130</td>\n      <td>2432</td>\n      <td>1917</td>\n      <td>8</td>\n    </tr>\n    <tr>\n      <th>15</th>\n      <td>2017</td>\n      <td>45</td>\n      <td>7000</td>\n      <td>374</td>\n      <td>1</td>\n      <td>58</td>\n      <td>2149</td>\n      <td>780</td>\n      <td>11</td>\n    </tr>\n    <tr>\n      <th>16</th>\n      <td>2018</td>\n      <td>99</td>\n      <td>4469</td>\n      <td>200</td>\n      <td>3</td>\n      <td>52</td>\n      <td>2867</td>\n      <td>419</td>\n      <td>41</td>\n    </tr>\n    <tr>\n      <th>17</th>\n      <td>2019</td>\n      <td>327</td>\n      <td>5764</td>\n      <td>362</td>\n      <td>0</td>\n      <td>128</td>\n      <td>1914</td>\n      <td>766</td>\n      <td>104</td>\n    </tr>\n    <tr>\n      <th>18</th>\n      <td>2020</td>\n      <td>62</td>\n      <td>4360</td>\n      <td>282</td>\n      <td>1</td>\n      <td>10</td>\n      <td>3182</td>\n      <td>240</td>\n      <td>4</td>\n    </tr>\n    <tr>\n      <th>19</th>\n      <td>2021</td>\n      <td>279</td>\n      <td>8145</td>\n      <td>180</td>\n      <td>5</td>\n      <td>22</td>\n      <td>3618</td>\n      <td>116</td>\n      <td>189</td>\n    </tr>\n    <tr>\n      <th>20</th>\n      <td>2022</td>\n      <td>171</td>\n      <td>5683</td>\n      <td>302</td>\n      <td>1</td>\n      <td>1</td>\n      <td>3239</td>\n      <td>42</td>\n      <td>0</td>\n    </tr>\n    <tr>\n      <th>21</th>\n      <td>2023</td>\n      <td>99</td>\n      <td>3173</td>\n      <td>238</td>\n      <td>2</td>\n      <td>3</td>\n      <td>2903</td>\n      <td>188</td>\n      <td>0</td>\n    </tr>\n  </tbody>\n</table>\n</div>"
     },
     "execution_count": 37,
     "metadata": {},
     "output_type": "execute_result"
    }
   ],
   "source": [
    "# pivot and count to get counts of each species of fish each year\n",
    "year_species_df = pd.pivot_table(all_events_fish_df, values='region', index='year', columns=['fish_species'],\n",
    "                                    aggfunc='count', fill_value=0).reset_index()\n",
    "\n",
    "year_species_df"
   ],
   "metadata": {
    "collapsed": false,
    "pycharm": {
     "name": "#%%\n"
    }
   }
  },
  {
   "cell_type": "markdown",
   "source": [
    "## Calculate the total numbers of fish each year"
   ],
   "metadata": {
    "collapsed": false,
    "pycharm": {
     "name": "#%% md\n"
    }
   }
  },
  {
   "cell_type": "code",
   "execution_count": 38,
   "outputs": [
    {
     "data": {
      "text/plain": "   year  fish_id\n0  2001        5\n1  2002        0\n2  2003    34340\n3  2004    24297\n4  2005     9812\n5  2006    25012\n6  2007    32938\n7  2008    36682\n8  2009    32732\n9  2010    11569",
      "text/html": "<div>\n<style scoped>\n    .dataframe tbody tr th:only-of-type {\n        vertical-align: middle;\n    }\n\n    .dataframe tbody tr th {\n        vertical-align: top;\n    }\n\n    .dataframe thead th {\n        text-align: right;\n    }\n</style>\n<table border=\"1\" class=\"dataframe\">\n  <thead>\n    <tr style=\"text-align: right;\">\n      <th></th>\n      <th>year</th>\n      <th>fish_id</th>\n    </tr>\n  </thead>\n  <tbody>\n    <tr>\n      <th>0</th>\n      <td>2001</td>\n      <td>5</td>\n    </tr>\n    <tr>\n      <th>1</th>\n      <td>2002</td>\n      <td>0</td>\n    </tr>\n    <tr>\n      <th>2</th>\n      <td>2003</td>\n      <td>34340</td>\n    </tr>\n    <tr>\n      <th>3</th>\n      <td>2004</td>\n      <td>24297</td>\n    </tr>\n    <tr>\n      <th>4</th>\n      <td>2005</td>\n      <td>9812</td>\n    </tr>\n    <tr>\n      <th>5</th>\n      <td>2006</td>\n      <td>25012</td>\n    </tr>\n    <tr>\n      <th>6</th>\n      <td>2007</td>\n      <td>32938</td>\n    </tr>\n    <tr>\n      <th>7</th>\n      <td>2008</td>\n      <td>36682</td>\n    </tr>\n    <tr>\n      <th>8</th>\n      <td>2009</td>\n      <td>32732</td>\n    </tr>\n    <tr>\n      <th>9</th>\n      <td>2010</td>\n      <td>11569</td>\n    </tr>\n  </tbody>\n</table>\n</div>"
     },
     "execution_count": 38,
     "metadata": {},
     "output_type": "execute_result"
    }
   ],
   "source": [
    "# calculate total number of fish each year\n",
    "total_fish_df = all_events_fish_df.groupby('year')['fish_id'].count().reset_index()\n",
    "total_fish_df.head(10)"
   ],
   "metadata": {
    "collapsed": false,
    "pycharm": {
     "name": "#%%\n"
    }
   }
  },
  {
   "cell_type": "markdown",
   "source": [
    "## Merge all the results into the final table"
   ],
   "metadata": {
    "collapsed": false,
    "pycharm": {
     "name": "#%% md\n"
    }
   }
  },
  {
   "cell_type": "code",
   "execution_count": 39,
   "outputs": [
    {
     "data": {
      "text/plain": "   year  All Events  Events with fish  Chinook Salmon  Chum Salmon  \\\n0  2001          16               1.0             0.0          0.0   \n1  2002          31               NaN             NaN          NaN   \n2  2003        1807            1237.0          1011.0      15175.0   \n3  2004        1109             757.0           754.0      19157.0   \n4  2005         969             555.0           405.0       4888.0   \n5  2006        1098             671.0           214.0      13402.0   \n6  2007        1127             926.0           345.0      18421.0   \n7  2008        1214             923.0           521.0      15515.0   \n8  2009        1168             931.0           126.0      14766.0   \n9  2010         732             567.0           137.0       5210.0   \n\n   Coho Salmon  Other Species  Pacific Herring  Pink Salmon  Sockeye Salmon  \\\n0          0.0            0.0              0.0          5.0             0.0   \n1          NaN            NaN              NaN          NaN             NaN   \n2       2909.0         1614.0            828.0       9853.0            64.0   \n3        104.0            1.0             93.0       2707.0             2.0   \n4        128.0            1.0              0.0       4074.0           271.0   \n5        170.0          695.0              0.0      10512.0             9.0   \n6        165.0            1.0              0.0      12606.0            50.0   \n7        190.0            0.0              0.0      18845.0            10.0   \n8        136.0           65.0              6.0      15064.0             2.0   \n9        226.0            0.0              0.0       5946.0            24.0   \n\n   Three-Spined Stickleback  fish_id  \n0                       0.0        5  \n1                       NaN        0  \n2                    2886.0    34340  \n3                    1479.0    24297  \n4                      45.0     9812  \n5                      10.0    25012  \n6                    1350.0    32938  \n7                    1601.0    36682  \n8                    2567.0    32732  \n9                      26.0    11569  ",
      "text/html": "<div>\n<style scoped>\n    .dataframe tbody tr th:only-of-type {\n        vertical-align: middle;\n    }\n\n    .dataframe tbody tr th {\n        vertical-align: top;\n    }\n\n    .dataframe thead th {\n        text-align: right;\n    }\n</style>\n<table border=\"1\" class=\"dataframe\">\n  <thead>\n    <tr style=\"text-align: right;\">\n      <th></th>\n      <th>year</th>\n      <th>All Events</th>\n      <th>Events with fish</th>\n      <th>Chinook Salmon</th>\n      <th>Chum Salmon</th>\n      <th>Coho Salmon</th>\n      <th>Other Species</th>\n      <th>Pacific Herring</th>\n      <th>Pink Salmon</th>\n      <th>Sockeye Salmon</th>\n      <th>Three-Spined Stickleback</th>\n      <th>fish_id</th>\n    </tr>\n  </thead>\n  <tbody>\n    <tr>\n      <th>0</th>\n      <td>2001</td>\n      <td>16</td>\n      <td>1.0</td>\n      <td>0.0</td>\n      <td>0.0</td>\n      <td>0.0</td>\n      <td>0.0</td>\n      <td>0.0</td>\n      <td>5.0</td>\n      <td>0.0</td>\n      <td>0.0</td>\n      <td>5</td>\n    </tr>\n    <tr>\n      <th>1</th>\n      <td>2002</td>\n      <td>31</td>\n      <td>NaN</td>\n      <td>NaN</td>\n      <td>NaN</td>\n      <td>NaN</td>\n      <td>NaN</td>\n      <td>NaN</td>\n      <td>NaN</td>\n      <td>NaN</td>\n      <td>NaN</td>\n      <td>0</td>\n    </tr>\n    <tr>\n      <th>2</th>\n      <td>2003</td>\n      <td>1807</td>\n      <td>1237.0</td>\n      <td>1011.0</td>\n      <td>15175.0</td>\n      <td>2909.0</td>\n      <td>1614.0</td>\n      <td>828.0</td>\n      <td>9853.0</td>\n      <td>64.0</td>\n      <td>2886.0</td>\n      <td>34340</td>\n    </tr>\n    <tr>\n      <th>3</th>\n      <td>2004</td>\n      <td>1109</td>\n      <td>757.0</td>\n      <td>754.0</td>\n      <td>19157.0</td>\n      <td>104.0</td>\n      <td>1.0</td>\n      <td>93.0</td>\n      <td>2707.0</td>\n      <td>2.0</td>\n      <td>1479.0</td>\n      <td>24297</td>\n    </tr>\n    <tr>\n      <th>4</th>\n      <td>2005</td>\n      <td>969</td>\n      <td>555.0</td>\n      <td>405.0</td>\n      <td>4888.0</td>\n      <td>128.0</td>\n      <td>1.0</td>\n      <td>0.0</td>\n      <td>4074.0</td>\n      <td>271.0</td>\n      <td>45.0</td>\n      <td>9812</td>\n    </tr>\n    <tr>\n      <th>5</th>\n      <td>2006</td>\n      <td>1098</td>\n      <td>671.0</td>\n      <td>214.0</td>\n      <td>13402.0</td>\n      <td>170.0</td>\n      <td>695.0</td>\n      <td>0.0</td>\n      <td>10512.0</td>\n      <td>9.0</td>\n      <td>10.0</td>\n      <td>25012</td>\n    </tr>\n    <tr>\n      <th>6</th>\n      <td>2007</td>\n      <td>1127</td>\n      <td>926.0</td>\n      <td>345.0</td>\n      <td>18421.0</td>\n      <td>165.0</td>\n      <td>1.0</td>\n      <td>0.0</td>\n      <td>12606.0</td>\n      <td>50.0</td>\n      <td>1350.0</td>\n      <td>32938</td>\n    </tr>\n    <tr>\n      <th>7</th>\n      <td>2008</td>\n      <td>1214</td>\n      <td>923.0</td>\n      <td>521.0</td>\n      <td>15515.0</td>\n      <td>190.0</td>\n      <td>0.0</td>\n      <td>0.0</td>\n      <td>18845.0</td>\n      <td>10.0</td>\n      <td>1601.0</td>\n      <td>36682</td>\n    </tr>\n    <tr>\n      <th>8</th>\n      <td>2009</td>\n      <td>1168</td>\n      <td>931.0</td>\n      <td>126.0</td>\n      <td>14766.0</td>\n      <td>136.0</td>\n      <td>65.0</td>\n      <td>6.0</td>\n      <td>15064.0</td>\n      <td>2.0</td>\n      <td>2567.0</td>\n      <td>32732</td>\n    </tr>\n    <tr>\n      <th>9</th>\n      <td>2010</td>\n      <td>732</td>\n      <td>567.0</td>\n      <td>137.0</td>\n      <td>5210.0</td>\n      <td>226.0</td>\n      <td>0.0</td>\n      <td>0.0</td>\n      <td>5946.0</td>\n      <td>24.0</td>\n      <td>26.0</td>\n      <td>11569</td>\n    </tr>\n  </tbody>\n</table>\n</div>"
     },
     "execution_count": 39,
     "metadata": {},
     "output_type": "execute_result"
    }
   ],
   "source": [
    "# counts of all the events and events with fish each year\n",
    "table_1a_df = pd.merge(num_events_df, num_events_with_fish_df, on='year', how='left')\n",
    "# add in the counts of species each year\n",
    "table_1a_df = pd.merge(table_1a_df, year_species_df, on='year', how='left')\n",
    "# add the total number of fish\n",
    "table_1a_df = pd.merge(table_1a_df, total_fish_df, on='year', how='left')\n",
    "table_1a_df.head(10)"
   ],
   "metadata": {
    "collapsed": false,
    "pycharm": {
     "name": "#%%\n"
    }
   }
  },
  {
   "cell_type": "code",
   "execution_count": 40,
   "outputs": [
    {
     "data": {
      "text/plain": "    Year  All events  Events with fish     Chum     Pink    Coho  Chinook  \\\n0   2001          16               1.0      0.0      5.0     0.0      0.0   \n1   2002          31               NaN      NaN      NaN     NaN      NaN   \n2   2003        1807            1237.0  15175.0   9853.0  2909.0   1011.0   \n3   2004        1109             757.0  19157.0   2707.0   104.0    754.0   \n4   2005         969             555.0   4888.0   4074.0   128.0    405.0   \n5   2006        1098             671.0  13402.0  10512.0   170.0    214.0   \n6   2007        1127             926.0  18421.0  12606.0   165.0    345.0   \n7   2008        1214             923.0  15515.0  18845.0   190.0    521.0   \n8   2009        1168             931.0  14766.0  15064.0   136.0    126.0   \n9   2010         732             567.0   5210.0   5946.0   226.0    137.0   \n10  2011         852             636.0   7006.0   5773.0   320.0    181.0   \n11  2012         543             459.0   6496.0   5392.0   330.0    137.0   \n12  2013         225             176.0   2156.0   1744.0    66.0     18.0   \n13  2014         191             143.0   1329.0   1888.0    58.0     27.0   \n14  2015         460             292.0   2267.0   1764.0   312.0    129.0   \n15  2016         535             339.0   4128.0   2432.0   346.0    230.0   \n16  2017         552             447.0   7000.0   2149.0   374.0     45.0   \n17  2018         556             373.0   4469.0   2867.0   200.0     99.0   \n18  2019         799             426.0   5764.0   1914.0   362.0    327.0   \n19  2020         702             408.0   4360.0   3182.0   282.0     62.0   \n20  2021         831             556.0   8145.0   3618.0   180.0    279.0   \n21  2022         752             474.0   5683.0   3239.0   302.0    171.0   \n22  2023         695             389.0   3173.0   2903.0   238.0     99.0   \n\n    Sockeye  Stickleback  Pacific Herring  Other species  All fish  \n0       0.0          0.0              0.0            0.0         5  \n1       NaN          NaN              NaN            NaN         0  \n2      64.0       2886.0            828.0         1614.0     34340  \n3       2.0       1479.0             93.0            1.0     24297  \n4     271.0         45.0              0.0            1.0      9812  \n5       9.0         10.0              0.0          695.0     25012  \n6      50.0       1350.0              0.0            1.0     32938  \n7      10.0       1601.0              0.0            0.0     36682  \n8       2.0       2567.0              6.0           65.0     32732  \n9      24.0         26.0              0.0            0.0     11569  \n10      1.0         55.0             60.0           18.0     13414  \n11    141.0         27.0              0.0            0.0     12523  \n12     21.0          0.0              0.0            7.0      4012  \n13     34.0          0.0              1.0            1.0      3338  \n14   2833.0         24.0            284.0            1.0      9719  \n15   1917.0          8.0            130.0           25.0     10362  \n16    780.0         11.0             58.0            1.0     10652  \n17    419.0         41.0             52.0            3.0      8150  \n18    766.0        104.0            128.0            0.0      9365  \n19    240.0          4.0             10.0            1.0      8141  \n20    116.0        189.0             22.0            5.0     12554  \n21     42.0          0.0              1.0            1.0      9439  \n22    188.0          0.0              3.0            2.0      6606  ",
      "text/html": "<div>\n<style scoped>\n    .dataframe tbody tr th:only-of-type {\n        vertical-align: middle;\n    }\n\n    .dataframe tbody tr th {\n        vertical-align: top;\n    }\n\n    .dataframe thead th {\n        text-align: right;\n    }\n</style>\n<table border=\"1\" class=\"dataframe\">\n  <thead>\n    <tr style=\"text-align: right;\">\n      <th></th>\n      <th>Year</th>\n      <th>All events</th>\n      <th>Events with fish</th>\n      <th>Chum</th>\n      <th>Pink</th>\n      <th>Coho</th>\n      <th>Chinook</th>\n      <th>Sockeye</th>\n      <th>Stickleback</th>\n      <th>Pacific Herring</th>\n      <th>Other species</th>\n      <th>All fish</th>\n    </tr>\n  </thead>\n  <tbody>\n    <tr>\n      <th>0</th>\n      <td>2001</td>\n      <td>16</td>\n      <td>1.0</td>\n      <td>0.0</td>\n      <td>5.0</td>\n      <td>0.0</td>\n      <td>0.0</td>\n      <td>0.0</td>\n      <td>0.0</td>\n      <td>0.0</td>\n      <td>0.0</td>\n      <td>5</td>\n    </tr>\n    <tr>\n      <th>1</th>\n      <td>2002</td>\n      <td>31</td>\n      <td>NaN</td>\n      <td>NaN</td>\n      <td>NaN</td>\n      <td>NaN</td>\n      <td>NaN</td>\n      <td>NaN</td>\n      <td>NaN</td>\n      <td>NaN</td>\n      <td>NaN</td>\n      <td>0</td>\n    </tr>\n    <tr>\n      <th>2</th>\n      <td>2003</td>\n      <td>1807</td>\n      <td>1237.0</td>\n      <td>15175.0</td>\n      <td>9853.0</td>\n      <td>2909.0</td>\n      <td>1011.0</td>\n      <td>64.0</td>\n      <td>2886.0</td>\n      <td>828.0</td>\n      <td>1614.0</td>\n      <td>34340</td>\n    </tr>\n    <tr>\n      <th>3</th>\n      <td>2004</td>\n      <td>1109</td>\n      <td>757.0</td>\n      <td>19157.0</td>\n      <td>2707.0</td>\n      <td>104.0</td>\n      <td>754.0</td>\n      <td>2.0</td>\n      <td>1479.0</td>\n      <td>93.0</td>\n      <td>1.0</td>\n      <td>24297</td>\n    </tr>\n    <tr>\n      <th>4</th>\n      <td>2005</td>\n      <td>969</td>\n      <td>555.0</td>\n      <td>4888.0</td>\n      <td>4074.0</td>\n      <td>128.0</td>\n      <td>405.0</td>\n      <td>271.0</td>\n      <td>45.0</td>\n      <td>0.0</td>\n      <td>1.0</td>\n      <td>9812</td>\n    </tr>\n    <tr>\n      <th>5</th>\n      <td>2006</td>\n      <td>1098</td>\n      <td>671.0</td>\n      <td>13402.0</td>\n      <td>10512.0</td>\n      <td>170.0</td>\n      <td>214.0</td>\n      <td>9.0</td>\n      <td>10.0</td>\n      <td>0.0</td>\n      <td>695.0</td>\n      <td>25012</td>\n    </tr>\n    <tr>\n      <th>6</th>\n      <td>2007</td>\n      <td>1127</td>\n      <td>926.0</td>\n      <td>18421.0</td>\n      <td>12606.0</td>\n      <td>165.0</td>\n      <td>345.0</td>\n      <td>50.0</td>\n      <td>1350.0</td>\n      <td>0.0</td>\n      <td>1.0</td>\n      <td>32938</td>\n    </tr>\n    <tr>\n      <th>7</th>\n      <td>2008</td>\n      <td>1214</td>\n      <td>923.0</td>\n      <td>15515.0</td>\n      <td>18845.0</td>\n      <td>190.0</td>\n      <td>521.0</td>\n      <td>10.0</td>\n      <td>1601.0</td>\n      <td>0.0</td>\n      <td>0.0</td>\n      <td>36682</td>\n    </tr>\n    <tr>\n      <th>8</th>\n      <td>2009</td>\n      <td>1168</td>\n      <td>931.0</td>\n      <td>14766.0</td>\n      <td>15064.0</td>\n      <td>136.0</td>\n      <td>126.0</td>\n      <td>2.0</td>\n      <td>2567.0</td>\n      <td>6.0</td>\n      <td>65.0</td>\n      <td>32732</td>\n    </tr>\n    <tr>\n      <th>9</th>\n      <td>2010</td>\n      <td>732</td>\n      <td>567.0</td>\n      <td>5210.0</td>\n      <td>5946.0</td>\n      <td>226.0</td>\n      <td>137.0</td>\n      <td>24.0</td>\n      <td>26.0</td>\n      <td>0.0</td>\n      <td>0.0</td>\n      <td>11569</td>\n    </tr>\n    <tr>\n      <th>10</th>\n      <td>2011</td>\n      <td>852</td>\n      <td>636.0</td>\n      <td>7006.0</td>\n      <td>5773.0</td>\n      <td>320.0</td>\n      <td>181.0</td>\n      <td>1.0</td>\n      <td>55.0</td>\n      <td>60.0</td>\n      <td>18.0</td>\n      <td>13414</td>\n    </tr>\n    <tr>\n      <th>11</th>\n      <td>2012</td>\n      <td>543</td>\n      <td>459.0</td>\n      <td>6496.0</td>\n      <td>5392.0</td>\n      <td>330.0</td>\n      <td>137.0</td>\n      <td>141.0</td>\n      <td>27.0</td>\n      <td>0.0</td>\n      <td>0.0</td>\n      <td>12523</td>\n    </tr>\n    <tr>\n      <th>12</th>\n      <td>2013</td>\n      <td>225</td>\n      <td>176.0</td>\n      <td>2156.0</td>\n      <td>1744.0</td>\n      <td>66.0</td>\n      <td>18.0</td>\n      <td>21.0</td>\n      <td>0.0</td>\n      <td>0.0</td>\n      <td>7.0</td>\n      <td>4012</td>\n    </tr>\n    <tr>\n      <th>13</th>\n      <td>2014</td>\n      <td>191</td>\n      <td>143.0</td>\n      <td>1329.0</td>\n      <td>1888.0</td>\n      <td>58.0</td>\n      <td>27.0</td>\n      <td>34.0</td>\n      <td>0.0</td>\n      <td>1.0</td>\n      <td>1.0</td>\n      <td>3338</td>\n    </tr>\n    <tr>\n      <th>14</th>\n      <td>2015</td>\n      <td>460</td>\n      <td>292.0</td>\n      <td>2267.0</td>\n      <td>1764.0</td>\n      <td>312.0</td>\n      <td>129.0</td>\n      <td>2833.0</td>\n      <td>24.0</td>\n      <td>284.0</td>\n      <td>1.0</td>\n      <td>9719</td>\n    </tr>\n    <tr>\n      <th>15</th>\n      <td>2016</td>\n      <td>535</td>\n      <td>339.0</td>\n      <td>4128.0</td>\n      <td>2432.0</td>\n      <td>346.0</td>\n      <td>230.0</td>\n      <td>1917.0</td>\n      <td>8.0</td>\n      <td>130.0</td>\n      <td>25.0</td>\n      <td>10362</td>\n    </tr>\n    <tr>\n      <th>16</th>\n      <td>2017</td>\n      <td>552</td>\n      <td>447.0</td>\n      <td>7000.0</td>\n      <td>2149.0</td>\n      <td>374.0</td>\n      <td>45.0</td>\n      <td>780.0</td>\n      <td>11.0</td>\n      <td>58.0</td>\n      <td>1.0</td>\n      <td>10652</td>\n    </tr>\n    <tr>\n      <th>17</th>\n      <td>2018</td>\n      <td>556</td>\n      <td>373.0</td>\n      <td>4469.0</td>\n      <td>2867.0</td>\n      <td>200.0</td>\n      <td>99.0</td>\n      <td>419.0</td>\n      <td>41.0</td>\n      <td>52.0</td>\n      <td>3.0</td>\n      <td>8150</td>\n    </tr>\n    <tr>\n      <th>18</th>\n      <td>2019</td>\n      <td>799</td>\n      <td>426.0</td>\n      <td>5764.0</td>\n      <td>1914.0</td>\n      <td>362.0</td>\n      <td>327.0</td>\n      <td>766.0</td>\n      <td>104.0</td>\n      <td>128.0</td>\n      <td>0.0</td>\n      <td>9365</td>\n    </tr>\n    <tr>\n      <th>19</th>\n      <td>2020</td>\n      <td>702</td>\n      <td>408.0</td>\n      <td>4360.0</td>\n      <td>3182.0</td>\n      <td>282.0</td>\n      <td>62.0</td>\n      <td>240.0</td>\n      <td>4.0</td>\n      <td>10.0</td>\n      <td>1.0</td>\n      <td>8141</td>\n    </tr>\n    <tr>\n      <th>20</th>\n      <td>2021</td>\n      <td>831</td>\n      <td>556.0</td>\n      <td>8145.0</td>\n      <td>3618.0</td>\n      <td>180.0</td>\n      <td>279.0</td>\n      <td>116.0</td>\n      <td>189.0</td>\n      <td>22.0</td>\n      <td>5.0</td>\n      <td>12554</td>\n    </tr>\n    <tr>\n      <th>21</th>\n      <td>2022</td>\n      <td>752</td>\n      <td>474.0</td>\n      <td>5683.0</td>\n      <td>3239.0</td>\n      <td>302.0</td>\n      <td>171.0</td>\n      <td>42.0</td>\n      <td>0.0</td>\n      <td>1.0</td>\n      <td>1.0</td>\n      <td>9439</td>\n    </tr>\n    <tr>\n      <th>22</th>\n      <td>2023</td>\n      <td>695</td>\n      <td>389.0</td>\n      <td>3173.0</td>\n      <td>2903.0</td>\n      <td>238.0</td>\n      <td>99.0</td>\n      <td>188.0</td>\n      <td>0.0</td>\n      <td>3.0</td>\n      <td>2.0</td>\n      <td>6606</td>\n    </tr>\n  </tbody>\n</table>\n</div>"
     },
     "execution_count": 40,
     "metadata": {},
     "output_type": "execute_result"
    }
   ],
   "source": [
    "# rename columns nicely for publication\n",
    "table_1a_df.rename(\n",
    "    columns={'year': 'Year', 'All Events': 'All events',\n",
    "             'Chum Salmon': 'Chum', 'Pink Salmon': 'Pink', 'Coho Salmon': 'Coho', 'Chinook Salmon': 'Chinook',\n",
    "             'Sockeye Salmon': 'Sockeye', 'Three-Spined Stickleback': 'Stickleback', 'Other Species': 'Other species',\n",
    "             'fish_id': 'All fish'},\n",
    "    inplace=True\n",
    ")\n",
    "\n",
    "# order the columns\n",
    "col_order = ['Year', 'All events', 'Events with fish','Chum','Pink', 'Coho', 'Chinook', 'Sockeye',\n",
    "             'Stickleback', 'Pacific Herring', 'Other species', 'All fish']\n",
    "table_1a_df = table_1a_df.reindex(columns=col_order)\n",
    "table_1a_df"
   ],
   "metadata": {
    "collapsed": false,
    "pycharm": {
     "name": "#%%\n"
    }
   }
  },
  {
   "cell_type": "code",
   "execution_count": 41,
   "outputs": [],
   "source": [
    "# export the table to a CSV for final formatting\n",
    "table_1a_df.to_csv(OUTPUT_DIR / \"Table_1a.csv\", index=False)"
   ],
   "metadata": {
    "collapsed": false,
    "pycharm": {
     "name": "#%%\n"
    }
   }
  },
  {
   "cell_type": "code",
   "execution_count": 41,
   "outputs": [],
   "source": [],
   "metadata": {
    "collapsed": false,
    "pycharm": {
     "name": "#%%\n"
    }
   }
  }
 ],
 "metadata": {
  "kernelspec": {
   "display_name": "Python 3",
   "language": "python",
   "name": "python3"
  },
  "language_info": {
   "codemirror_mode": {
    "name": "ipython",
    "version": 2
   },
   "file_extension": ".py",
   "mimetype": "text/x-python",
   "name": "python",
   "nbconvert_exporter": "python",
   "pygments_lexer": "ipython2",
   "version": "2.7.6"
  }
 },
 "nbformat": 4,
 "nbformat_minor": 0
}