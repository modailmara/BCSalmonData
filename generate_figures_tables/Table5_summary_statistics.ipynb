{
 "cells": [
  {
   "cell_type": "markdown",
   "source": [
    "## This notebook creates a CSV with the summary statistics in Table 5\n",
    "The table shows N, NA, min, max, mean, median for each of fish length, weight, and height, as well as numbers of any lice on wild fish, and abundance in farms of chalimus, lep motile, lep AF, and caligus motile"
   ],
   "metadata": {
    "collapsed": false,
    "pycharm": {
     "name": "#%% md\n"
    }
   }
  },
  {
   "cell_type": "code",
   "execution_count": 35,
   "outputs": [],
   "source": [
    "import pandas as pd\n",
    "import numpy as np\n",
    "from pathlib import Path"
   ],
   "metadata": {
    "collapsed": false,
    "pycharm": {
     "name": "#%%\n"
    }
   }
  },
  {
   "cell_type": "code",
   "execution_count": 36,
   "outputs": [],
   "source": [
    "# define the paths\n",
    "DATA_DIR = Path('..') / 'source_data'\n",
    "\n",
    "wild_fish_filepath = DATA_DIR / 'all_wild_fish_lice.csv'\n",
    "\n",
    "farm_events_filepath = DATA_DIR / 'industry_farm_abundance.csv'\n",
    "\n",
    "chart_output_dirpath = Path('..') / 'output' / 'Table_5'"
   ],
   "metadata": {
    "collapsed": false,
    "pycharm": {
     "name": "#%%\n"
    }
   }
  },
  {
   "cell_type": "code",
   "execution_count": 37,
   "outputs": [],
   "source": [
    "# import the data\n",
    "wild_fish_df = pd.read_csv(wild_fish_filepath)\n",
    "farm_events_df = pd.read_csv(farm_events_filepath)"
   ],
   "metadata": {
    "collapsed": false,
    "pycharm": {
     "name": "#%%\n"
    }
   }
  },
  {
   "cell_type": "markdown",
   "source": [
    "## Construct a dataframe"
   ],
   "metadata": {
    "collapsed": false,
    "pycharm": {
     "name": "#%% md\n"
    }
   }
  },
  {
   "cell_type": "code",
   "execution_count": 38,
   "outputs": [],
   "source": [
    "# make an empty dictionary in the format pandas can make into a Dataframe\n",
    "summary_dict = {'Field': [], 'Dataset': [], 'N': [], 'NA': [], 'Min': [], 'Max': [], 'Mean': [], 'Median': []}"
   ],
   "metadata": {
    "collapsed": false,
    "pycharm": {
     "name": "#%%\n"
    }
   }
  },
  {
   "cell_type": "markdown",
   "source": [
    "### Wild Fish"
   ],
   "metadata": {
    "collapsed": false,
    "pycharm": {
     "name": "#%% md\n"
    }
   }
  },
  {
   "cell_type": "code",
   "execution_count": 39,
   "outputs": [],
   "source": [
    "# length=0, weight=0, height=0 mean null\n",
    "wild_fish_df.replace({'length': 0, 'weight': 0, 'height': 0}, np.nan, inplace=True)"
   ],
   "metadata": {
    "collapsed": false,
    "pycharm": {
     "name": "#%%\n"
    }
   }
  },
  {
   "cell_type": "code",
   "execution_count": 40,
   "outputs": [],
   "source": [
    "def add_wild_row(label, field, num=None):\n",
    "    \"\"\"Adds a row to summary_dict with summary stats for a column in wild_fish_df\"\"\"\n",
    "    summary_dict['Field'].append(label)\n",
    "    summary_dict['Dataset'].append(wild_fish_filepath.stem)\n",
    "\n",
    "    if num is None:\n",
    "        # N is a count of all non-null values\n",
    "        summary_dict['N'].append(wild_fish_df[field].count())\n",
    "\n",
    "        # NA is null values as % of total\n",
    "        proportion = len(wild_fish_df[pd.isnull(wild_fish_df[field])]) / len(wild_fish_df)\n",
    "        summary_dict['NA'].append(proportion*100)\n",
    "    else:\n",
    "        # special case, use the supplied num as N\n",
    "        summary_dict['N'].append(num)\n",
    "\n",
    "        # NA doesn't make sense here, so is None\n",
    "        summary_dict['NA'].append(None)\n",
    "\n",
    "    # stats\n",
    "    summary_dict['Min'].append(wild_fish_df[field].min())\n",
    "    summary_dict['Max'].append(wild_fish_df[field].max())\n",
    "    summary_dict['Mean'].append(wild_fish_df[field].mean())\n",
    "    summary_dict['Median'].append(wild_fish_df[field].median())"
   ],
   "metadata": {
    "collapsed": false,
    "pycharm": {
     "name": "#%%\n"
    }
   }
  },
  {
   "cell_type": "code",
   "execution_count": 41,
   "outputs": [],
   "source": [
    "# length\n",
    "add_wild_row('Length (mm)', 'length')"
   ],
   "metadata": {
    "collapsed": false,
    "pycharm": {
     "name": "#%%\n"
    }
   }
  },
  {
   "cell_type": "code",
   "execution_count": 42,
   "outputs": [],
   "source": [
    "# weight\n",
    "add_wild_row('Weight (g)', 'weight')"
   ],
   "metadata": {
    "collapsed": false,
    "pycharm": {
     "name": "#%%\n"
    }
   }
  },
  {
   "cell_type": "code",
   "execution_count": 43,
   "outputs": [],
   "source": [
    "# height\n",
    "add_wild_row('Height (mm)', 'height')"
   ],
   "metadata": {
    "collapsed": false,
    "pycharm": {
     "name": "#%%\n"
    }
   }
  },
  {
   "cell_type": "code",
   "execution_count": 44,
   "outputs": [],
   "source": [
    "# all lice\n",
    "\n",
    "# make a new column that is the number of all types of lice\n",
    "wild_fish_df['num_all_lice'] = wild_fish_df.loc[:,'lep_cop':].sum(axis=1)\n",
    "\n",
    "add_wild_row('Any louse', 'num_all_lice', num=len(wild_fish_df))"
   ],
   "metadata": {
    "collapsed": false,
    "pycharm": {
     "name": "#%%\n"
    }
   }
  },
  {
   "cell_type": "markdown",
   "source": [
    "### Farm events"
   ],
   "metadata": {
    "collapsed": false,
    "pycharm": {
     "name": "#%% md\n"
    }
   }
  },
  {
   "cell_type": "code",
   "execution_count": 45,
   "outputs": [],
   "source": [
    "def add_farm_row(label, field):\n",
    "    \"\"\"Adds a row to summary_dict for a column in farm_events_df\"\"\"\n",
    "    summary_dict['Field'].append(label)\n",
    "    summary_dict['Dataset'].append(farm_events_filepath.stem)\n",
    "\n",
    "    # N is number of sampling events\n",
    "    summary_dict['N'].append(len(farm_events_df))\n",
    "\n",
    "    # NA is null values as % of total\n",
    "    proportion = len(farm_events_df[pd.isnull(farm_events_df[field])]) / len(farm_events_df)\n",
    "    summary_dict['NA'].append(proportion*100)\n",
    "\n",
    "    # stats\n",
    "    summary_dict['Min'].append(farm_events_df[field].min())\n",
    "    summary_dict['Max'].append(farm_events_df[field].max())\n",
    "    summary_dict['Mean'].append(farm_events_df[field].mean())\n",
    "    summary_dict['Median'].append(farm_events_df[field].median())"
   ],
   "metadata": {
    "collapsed": false,
    "pycharm": {
     "name": "#%%\n"
    }
   }
  },
  {
   "cell_type": "code",
   "execution_count": 46,
   "outputs": [],
   "source": [
    "# chalimus abundance\n",
    "add_farm_row('Chalimus_ab', 'chalimus_ab')"
   ],
   "metadata": {
    "collapsed": false,
    "pycharm": {
     "name": "#%%\n"
    }
   }
  },
  {
   "cell_type": "code",
   "execution_count": 47,
   "outputs": [],
   "source": [
    "# lep motile abundance\n",
    "add_farm_row('Lep_motile_ab', 'lep_motile_ab')"
   ],
   "metadata": {
    "collapsed": false,
    "pycharm": {
     "name": "#%%\n"
    }
   }
  },
  {
   "cell_type": "code",
   "execution_count": 48,
   "outputs": [],
   "source": [
    "# lep AF abundance\n",
    "add_farm_row('Lep_AF_ab', 'lep_af_ab')"
   ],
   "metadata": {
    "collapsed": false,
    "pycharm": {
     "name": "#%%\n"
    }
   }
  },
  {
   "cell_type": "code",
   "execution_count": 49,
   "outputs": [],
   "source": [
    "# Caligus motile abundance\n",
    "add_farm_row('Cal_motile_ab', 'cal_motile_ab')"
   ],
   "metadata": {
    "collapsed": false,
    "pycharm": {
     "name": "#%%\n"
    }
   }
  },
  {
   "cell_type": "code",
   "execution_count": 50,
   "outputs": [
    {
     "data": {
      "text/plain": "           Field                  Dataset       N         NA   Min       Max  \\\n0    Length (mm)       all_wild_fish_lice  351849   0.033526  0.24   553.000   \n1     Weight (g)       all_wild_fish_lice  217655  38.160396  0.04  1100.000   \n2    Height (mm)       all_wild_fish_lice  119297  66.105629  1.00    35.000   \n3      Any louse       all_wild_fish_lice  351967        NaN  0.00   384.000   \n4    Chalimus_ab  industry_farm_abundance   10146   0.049281  0.00    46.350   \n5  Lep_motile_ab  industry_farm_abundance   10146   0.049281  0.00    53.367   \n6      Lep_AF_ab  industry_farm_abundance   10146   0.049281  0.00    27.831   \n7  Cal_motile_ab  industry_farm_abundance   10146   0.049281  0.00    41.513   \n\n        Mean  Median  \n0  51.947462  46.000  \n1   2.617904   0.900  \n2   8.113069   7.620  \n3   0.903948   0.000  \n4   0.961783   0.167  \n5   1.628119   0.567  \n6   0.767576   0.208  \n7   0.410746   0.056  ",
      "text/html": "<div>\n<style scoped>\n    .dataframe tbody tr th:only-of-type {\n        vertical-align: middle;\n    }\n\n    .dataframe tbody tr th {\n        vertical-align: top;\n    }\n\n    .dataframe thead th {\n        text-align: right;\n    }\n</style>\n<table border=\"1\" class=\"dataframe\">\n  <thead>\n    <tr style=\"text-align: right;\">\n      <th></th>\n      <th>Field</th>\n      <th>Dataset</th>\n      <th>N</th>\n      <th>NA</th>\n      <th>Min</th>\n      <th>Max</th>\n      <th>Mean</th>\n      <th>Median</th>\n    </tr>\n  </thead>\n  <tbody>\n    <tr>\n      <th>0</th>\n      <td>Length (mm)</td>\n      <td>all_wild_fish_lice</td>\n      <td>351849</td>\n      <td>0.033526</td>\n      <td>0.24</td>\n      <td>553.000</td>\n      <td>51.947462</td>\n      <td>46.000</td>\n    </tr>\n    <tr>\n      <th>1</th>\n      <td>Weight (g)</td>\n      <td>all_wild_fish_lice</td>\n      <td>217655</td>\n      <td>38.160396</td>\n      <td>0.04</td>\n      <td>1100.000</td>\n      <td>2.617904</td>\n      <td>0.900</td>\n    </tr>\n    <tr>\n      <th>2</th>\n      <td>Height (mm)</td>\n      <td>all_wild_fish_lice</td>\n      <td>119297</td>\n      <td>66.105629</td>\n      <td>1.00</td>\n      <td>35.000</td>\n      <td>8.113069</td>\n      <td>7.620</td>\n    </tr>\n    <tr>\n      <th>3</th>\n      <td>Any louse</td>\n      <td>all_wild_fish_lice</td>\n      <td>351967</td>\n      <td>NaN</td>\n      <td>0.00</td>\n      <td>384.000</td>\n      <td>0.903948</td>\n      <td>0.000</td>\n    </tr>\n    <tr>\n      <th>4</th>\n      <td>Chalimus_ab</td>\n      <td>industry_farm_abundance</td>\n      <td>10146</td>\n      <td>0.049281</td>\n      <td>0.00</td>\n      <td>46.350</td>\n      <td>0.961783</td>\n      <td>0.167</td>\n    </tr>\n    <tr>\n      <th>5</th>\n      <td>Lep_motile_ab</td>\n      <td>industry_farm_abundance</td>\n      <td>10146</td>\n      <td>0.049281</td>\n      <td>0.00</td>\n      <td>53.367</td>\n      <td>1.628119</td>\n      <td>0.567</td>\n    </tr>\n    <tr>\n      <th>6</th>\n      <td>Lep_AF_ab</td>\n      <td>industry_farm_abundance</td>\n      <td>10146</td>\n      <td>0.049281</td>\n      <td>0.00</td>\n      <td>27.831</td>\n      <td>0.767576</td>\n      <td>0.208</td>\n    </tr>\n    <tr>\n      <th>7</th>\n      <td>Cal_motile_ab</td>\n      <td>industry_farm_abundance</td>\n      <td>10146</td>\n      <td>0.049281</td>\n      <td>0.00</td>\n      <td>41.513</td>\n      <td>0.410746</td>\n      <td>0.056</td>\n    </tr>\n  </tbody>\n</table>\n</div>"
     },
     "execution_count": 50,
     "metadata": {},
     "output_type": "execute_result"
    }
   ],
   "source": [
    "summary_df = pd.DataFrame(summary_dict)\n",
    "summary_df.head(10)"
   ],
   "metadata": {
    "collapsed": false,
    "pycharm": {
     "name": "#%%\n"
    }
   }
  },
  {
   "cell_type": "code",
   "execution_count": 51,
   "outputs": [],
   "source": [
    "summary_df.to_csv(chart_output_dirpath / 'Table_5_summary_statistics.csv', index=False)"
   ],
   "metadata": {
    "collapsed": false,
    "pycharm": {
     "name": "#%%\n"
    }
   }
  },
  {
   "cell_type": "code",
   "execution_count": 51,
   "outputs": [],
   "source": [],
   "metadata": {
    "collapsed": false,
    "pycharm": {
     "name": "#%%\n"
    }
   }
  }
 ],
 "metadata": {
  "kernelspec": {
   "display_name": "Python 3",
   "language": "python",
   "name": "python3"
  },
  "language_info": {
   "codemirror_mode": {
    "name": "ipython",
    "version": 2
   },
   "file_extension": ".py",
   "mimetype": "text/x-python",
   "name": "python",
   "nbconvert_exporter": "python",
   "pygments_lexer": "ipython2",
   "version": "2.7.6"
  }
 },
 "nbformat": 4,
 "nbformat_minor": 0
}