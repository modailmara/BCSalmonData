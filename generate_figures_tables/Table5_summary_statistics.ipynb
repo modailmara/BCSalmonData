{
 "cells": [
  {
   "cell_type": "markdown",
   "source": [
    "## This notebook creates a CSV with the summary statistics in Table 5\n",
    "The table shows N, NA, min, max, mean, median for each of fish length, weight, and height, as well as numbers of any lice on wild fish, and abundance in farms of chalimus, lep motile, lep AF, and caligus motile"
   ],
   "metadata": {
    "collapsed": false,
    "pycharm": {
     "name": "#%% md\n"
    }
   }
  },
  {
   "cell_type": "code",
   "execution_count": 18,
   "outputs": [],
   "source": [
    "import pandas as pd\n",
    "import numpy as np\n",
    "from pathlib import Path"
   ],
   "metadata": {
    "collapsed": false,
    "pycharm": {
     "name": "#%%\n"
    }
   }
  },
  {
   "cell_type": "code",
   "execution_count": 19,
   "outputs": [],
   "source": [
    "# define the paths\n",
    "DATA_DIR = Path('..') / 'source_data'\n",
    "\n",
    "wild_fish_filepath = DATA_DIR / 'all_wild_fish_lice.csv'\n",
    "\n",
    "farm_events_filepath = DATA_DIR / 'industry_farm_abundance.csv'\n",
    "\n",
    "chart_output_dirpath = Path('..') / 'output' / 'Table_5'"
   ],
   "metadata": {
    "collapsed": false,
    "pycharm": {
     "name": "#%%\n"
    }
   }
  },
  {
   "cell_type": "code",
   "execution_count": 20,
   "outputs": [
    {
     "name": "stderr",
     "output_type": "stream",
     "text": [
      "/tmp/ipykernel_1120342/3320784442.py:2: DtypeWarning: Columns (1,6) have mixed types. Specify dtype option on import or set low_memory=False.\n",
      "  wild_fish_df = pd.read_csv(wild_fish_filepath)\n"
     ]
    }
   ],
   "source": [
    "# import the data\n",
    "wild_fish_df = pd.read_csv(wild_fish_filepath)\n",
    "\n",
    "farm_events_df = pd.read_csv(farm_events_filepath)"
   ],
   "metadata": {
    "collapsed": false,
    "pycharm": {
     "name": "#%%\n"
    }
   }
  },
  {
   "cell_type": "markdown",
   "source": [
    "## Construct a dataframe"
   ],
   "metadata": {
    "collapsed": false,
    "pycharm": {
     "name": "#%% md\n"
    }
   }
  },
  {
   "cell_type": "code",
   "execution_count": 21,
   "outputs": [],
   "source": [
    "# make an empty dictionary in the format pandas can make into a Dataframe\n",
    "summary_dict = {'Field': [], 'Dataset': [], 'N': [], 'NA': [], 'Min': [], 'Max': [], 'Mean': [], 'Median': []}"
   ],
   "metadata": {
    "collapsed": false,
    "pycharm": {
     "name": "#%%\n"
    }
   }
  },
  {
   "cell_type": "markdown",
   "source": [
    "### Wild Fish"
   ],
   "metadata": {
    "collapsed": false,
    "pycharm": {
     "name": "#%% md\n"
    }
   }
  },
  {
   "cell_type": "code",
   "execution_count": 22,
   "outputs": [],
   "source": [
    "# length=0, weight=0, height=0 mean null\n",
    "wild_fish_df.replace({'length': 0, 'weight': 0, 'height': 0}, np.nan, inplace=True)"
   ],
   "metadata": {
    "collapsed": false,
    "pycharm": {
     "name": "#%%\n"
    }
   }
  },
  {
   "cell_type": "code",
   "execution_count": 23,
   "outputs": [],
   "source": [
    "def add_wild_row(label, field, num=None):\n",
    "    \"\"\"Adds a row to summary_dict with summary stats for a column in wild_fish_df\"\"\"\n",
    "    summary_dict['Field'].append(label)\n",
    "    summary_dict['Dataset'].append(wild_fish_filepath.stem)\n",
    "\n",
    "    if num is None:\n",
    "        # N is a count of all non-null values\n",
    "        summary_dict['N'].append(wild_fish_df[field].count())\n",
    "\n",
    "        # NA is null values as % of total\n",
    "        proportion = len(wild_fish_df[pd.isnull(wild_fish_df[field])]) / len(wild_fish_df)\n",
    "        summary_dict['NA'].append(proportion*100)\n",
    "    else:\n",
    "        # special case, use the supplied num as N\n",
    "        summary_dict['N'].append(num)\n",
    "\n",
    "        # NA doesn't make sense here, so is None\n",
    "        summary_dict['NA'].append(None)\n",
    "\n",
    "    # stats\n",
    "    summary_dict['Min'].append(wild_fish_df[field].min())\n",
    "    summary_dict['Max'].append(wild_fish_df[field].max())\n",
    "    summary_dict['Mean'].append(wild_fish_df[field].mean())\n",
    "    summary_dict['Median'].append(wild_fish_df[field].median())"
   ],
   "metadata": {
    "collapsed": false,
    "pycharm": {
     "name": "#%%\n"
    }
   }
  },
  {
   "cell_type": "code",
   "execution_count": 24,
   "outputs": [],
   "source": [
    "# length\n",
    "add_wild_row('Length (mm)', 'length')"
   ],
   "metadata": {
    "collapsed": false,
    "pycharm": {
     "name": "#%%\n"
    }
   }
  },
  {
   "cell_type": "code",
   "execution_count": 25,
   "outputs": [],
   "source": [
    "# weight\n",
    "add_wild_row('Weight (g)', 'weight')"
   ],
   "metadata": {
    "collapsed": false,
    "pycharm": {
     "name": "#%%\n"
    }
   }
  },
  {
   "cell_type": "code",
   "execution_count": 26,
   "outputs": [],
   "source": [
    "# height\n",
    "add_wild_row('Height (mm)', 'height')"
   ],
   "metadata": {
    "collapsed": false,
    "pycharm": {
     "name": "#%%\n"
    }
   }
  },
  {
   "cell_type": "code",
   "execution_count": 27,
   "outputs": [
    {
     "name": "stderr",
     "output_type": "stream",
     "text": [
      "/tmp/ipykernel_1120342/1263182653.py:4: FutureWarning: Dropping of nuisance columns in DataFrame reductions (with 'numeric_only=None') is deprecated; in a future version this will raise TypeError.  Select only valid columns before calling the reduction.\n",
      "  wild_fish_df['num_all_lice'] = wild_fish_df.loc[:,'lep_cop':].sum(axis=1)\n"
     ]
    }
   ],
   "source": [
    "# all lice\n",
    "\n",
    "# make a new column that is the number of all types of lice\n",
    "wild_fish_df['num_all_lice'] = wild_fish_df.loc[:,'lep_cop':].sum(axis=1)\n",
    "\n",
    "add_wild_row('Any louse', 'num_all_lice', num=len(wild_fish_df))"
   ],
   "metadata": {
    "collapsed": false,
    "pycharm": {
     "name": "#%%\n"
    }
   }
  },
  {
   "cell_type": "markdown",
   "source": [
    "### Farm events"
   ],
   "metadata": {
    "collapsed": false,
    "pycharm": {
     "name": "#%% md\n"
    }
   }
  },
  {
   "cell_type": "code",
   "execution_count": 28,
   "outputs": [],
   "source": [
    "def add_farm_row(label, field):\n",
    "    \"\"\"Adds a row to summary_dict for a column in farm_events_df\"\"\"\n",
    "    summary_dict['Field'].append(label)\n",
    "    summary_dict['Dataset'].append(farm_events_filepath.stem)\n",
    "\n",
    "    # N is number of sampling events\n",
    "    summary_dict['N'].append(len(farm_events_df))\n",
    "\n",
    "    # NA is null values as % of total\n",
    "    proportion = len(farm_events_df[pd.isnull(farm_events_df[field])]) / len(farm_events_df)\n",
    "    summary_dict['NA'].append(proportion*100)\n",
    "\n",
    "    # stats\n",
    "    summary_dict['Min'].append(farm_events_df[field].min())\n",
    "    summary_dict['Max'].append(farm_events_df[field].max())\n",
    "    summary_dict['Mean'].append(farm_events_df[field].mean())\n",
    "    summary_dict['Median'].append(farm_events_df[field].median())"
   ],
   "metadata": {
    "collapsed": false,
    "pycharm": {
     "name": "#%%\n"
    }
   }
  },
  {
   "cell_type": "code",
   "execution_count": 29,
   "outputs": [],
   "source": [
    "# chalimus abundance\n",
    "add_farm_row('Chalimus_ab', 'chalimus_ab')"
   ],
   "metadata": {
    "collapsed": false,
    "pycharm": {
     "name": "#%%\n"
    }
   }
  },
  {
   "cell_type": "code",
   "execution_count": 30,
   "outputs": [],
   "source": [
    "# lep motile abundance\n",
    "add_farm_row('Lep_motile_ab', 'lep_motile_ab')"
   ],
   "metadata": {
    "collapsed": false,
    "pycharm": {
     "name": "#%%\n"
    }
   }
  },
  {
   "cell_type": "code",
   "execution_count": 31,
   "outputs": [],
   "source": [
    "# lep AF abundance\n",
    "add_farm_row('Lep_AF_ab', 'lep_af_ab')"
   ],
   "metadata": {
    "collapsed": false,
    "pycharm": {
     "name": "#%%\n"
    }
   }
  },
  {
   "cell_type": "code",
   "execution_count": 32,
   "outputs": [],
   "source": [
    "# Caligus motile abundance\n",
    "add_farm_row('Cal_motile_ab', 'cal_motile_ab')"
   ],
   "metadata": {
    "collapsed": false,
    "pycharm": {
     "name": "#%%\n"
    }
   }
  },
  {
   "cell_type": "code",
   "execution_count": 33,
   "outputs": [
    {
     "data": {
      "text/plain": "           Field                  Dataset       N         NA  Min        Max  \\\n0    Length (mm)       all_wild_fish_lice  368150   2.286312  3.0   553.0000   \n1     Weight (g)       all_wild_fish_lice  229000  39.219246  0.1  1100.0000   \n2    Height (mm)       all_wild_fish_lice  127844  66.067883  1.0    39.0000   \n3      Any louse       all_wild_fish_lice  376764        NaN  0.0   263.0000   \n4    Chalimus_ab  industry_farm_abundance   10159   0.000000  0.0    46.3500   \n5  Lep_motile_ab  industry_farm_abundance   10159   0.000000  0.0    53.3667   \n6      Lep_AF_ab  industry_farm_abundance   10159   0.000000  0.0    27.8310   \n7  Cal_motile_ab  industry_farm_abundance   10159   0.000000  0.0    41.5125   \n\n        Mean   Median  \n0  53.296541  47.0000  \n1   3.018305   0.9600  \n2   8.491698   8.0000  \n3   0.836417   0.0000  \n4   0.961493   0.1667  \n5   1.627923   0.5667  \n6   0.766945   0.2063  \n7   0.410069   0.0556  ",
      "text/html": "<div>\n<style scoped>\n    .dataframe tbody tr th:only-of-type {\n        vertical-align: middle;\n    }\n\n    .dataframe tbody tr th {\n        vertical-align: top;\n    }\n\n    .dataframe thead th {\n        text-align: right;\n    }\n</style>\n<table border=\"1\" class=\"dataframe\">\n  <thead>\n    <tr style=\"text-align: right;\">\n      <th></th>\n      <th>Field</th>\n      <th>Dataset</th>\n      <th>N</th>\n      <th>NA</th>\n      <th>Min</th>\n      <th>Max</th>\n      <th>Mean</th>\n      <th>Median</th>\n    </tr>\n  </thead>\n  <tbody>\n    <tr>\n      <th>0</th>\n      <td>Length (mm)</td>\n      <td>all_wild_fish_lice</td>\n      <td>368150</td>\n      <td>2.286312</td>\n      <td>3.0</td>\n      <td>553.0000</td>\n      <td>53.296541</td>\n      <td>47.0000</td>\n    </tr>\n    <tr>\n      <th>1</th>\n      <td>Weight (g)</td>\n      <td>all_wild_fish_lice</td>\n      <td>229000</td>\n      <td>39.219246</td>\n      <td>0.1</td>\n      <td>1100.0000</td>\n      <td>3.018305</td>\n      <td>0.9600</td>\n    </tr>\n    <tr>\n      <th>2</th>\n      <td>Height (mm)</td>\n      <td>all_wild_fish_lice</td>\n      <td>127844</td>\n      <td>66.067883</td>\n      <td>1.0</td>\n      <td>39.0000</td>\n      <td>8.491698</td>\n      <td>8.0000</td>\n    </tr>\n    <tr>\n      <th>3</th>\n      <td>Any louse</td>\n      <td>all_wild_fish_lice</td>\n      <td>376764</td>\n      <td>NaN</td>\n      <td>0.0</td>\n      <td>263.0000</td>\n      <td>0.836417</td>\n      <td>0.0000</td>\n    </tr>\n    <tr>\n      <th>4</th>\n      <td>Chalimus_ab</td>\n      <td>industry_farm_abundance</td>\n      <td>10159</td>\n      <td>0.000000</td>\n      <td>0.0</td>\n      <td>46.3500</td>\n      <td>0.961493</td>\n      <td>0.1667</td>\n    </tr>\n    <tr>\n      <th>5</th>\n      <td>Lep_motile_ab</td>\n      <td>industry_farm_abundance</td>\n      <td>10159</td>\n      <td>0.000000</td>\n      <td>0.0</td>\n      <td>53.3667</td>\n      <td>1.627923</td>\n      <td>0.5667</td>\n    </tr>\n    <tr>\n      <th>6</th>\n      <td>Lep_AF_ab</td>\n      <td>industry_farm_abundance</td>\n      <td>10159</td>\n      <td>0.000000</td>\n      <td>0.0</td>\n      <td>27.8310</td>\n      <td>0.766945</td>\n      <td>0.2063</td>\n    </tr>\n    <tr>\n      <th>7</th>\n      <td>Cal_motile_ab</td>\n      <td>industry_farm_abundance</td>\n      <td>10159</td>\n      <td>0.000000</td>\n      <td>0.0</td>\n      <td>41.5125</td>\n      <td>0.410069</td>\n      <td>0.0556</td>\n    </tr>\n  </tbody>\n</table>\n</div>"
     },
     "execution_count": 33,
     "metadata": {},
     "output_type": "execute_result"
    }
   ],
   "source": [
    "summary_df = pd.DataFrame(summary_dict)\n",
    "summary_df.head(10)"
   ],
   "metadata": {
    "collapsed": false,
    "pycharm": {
     "name": "#%%\n"
    }
   }
  },
  {
   "cell_type": "code",
   "execution_count": 34,
   "outputs": [],
   "source": [
    "summary_df.to_csv(chart_output_dirpath / 'Table_5_summary_statistics.csv', index=False)"
   ],
   "metadata": {
    "collapsed": false,
    "pycharm": {
     "name": "#%%\n"
    }
   }
  },
  {
   "cell_type": "code",
   "execution_count": 34,
   "outputs": [],
   "source": [],
   "metadata": {
    "collapsed": false,
    "pycharm": {
     "name": "#%%\n"
    }
   }
  }
 ],
 "metadata": {
  "kernelspec": {
   "display_name": "Python 3",
   "language": "python",
   "name": "python3"
  },
  "language_info": {
   "codemirror_mode": {
    "name": "ipython",
    "version": 2
   },
   "file_extension": ".py",
   "mimetype": "text/x-python",
   "name": "python",
   "nbconvert_exporter": "python",
   "pygments_lexer": "ipython2",
   "version": "2.7.6"
  }
 },
 "nbformat": 4,
 "nbformat_minor": 0
}