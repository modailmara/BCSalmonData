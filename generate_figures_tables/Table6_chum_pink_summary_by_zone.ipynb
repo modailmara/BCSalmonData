{
 "cells": [
  {
   "cell_type": "markdown",
   "source": [
    "## This notebook creates CSVs with summaries of Chum and Pink examined in each zone\n",
    "The table shows numbers and means of length and weight of chum and pink each migration month (March - June) in each zone.\n",
    "\n",
    "This script produces six CSVs: (chum, pink) X (number of fish, mean length, mean weight)"
   ],
   "metadata": {
    "collapsed": false,
    "pycharm": {
     "name": "#%% md\n"
    }
   }
  },
  {
   "cell_type": "code",
   "execution_count": 22,
   "outputs": [],
   "source": [
    "import pandas as pd\n",
    "from pathlib import Path"
   ],
   "metadata": {
    "collapsed": false,
    "pycharm": {
     "name": "#%%\n"
    }
   }
  },
  {
   "cell_type": "code",
   "execution_count": 23,
   "outputs": [],
   "source": [
    "# define data location constants\n",
    "DATA_DIR = Path('..') / 'source_data'\n",
    "WILD_FISH_DATA = DATA_DIR / 'all_wild_fish_lice.csv'\n",
    "WILD_EVENT_DATA = DATA_DIR / 'all_wild_sample_events.csv'\n",
    "\n",
    "OUTPUT_DIR = Path('..') / 'output' / 'Table_6'"
   ],
   "metadata": {
    "collapsed": false,
    "pycharm": {
     "name": "#%%\n"
    }
   }
  },
  {
   "cell_type": "code",
   "execution_count": 24,
   "outputs": [
    {
     "name": "stderr",
     "output_type": "stream",
     "text": [
      "/tmp/ipykernel_853119/3668870944.py:4: DtypeWarning: Columns (0,1,6,18) have mixed types. Specify dtype option on import or set low_memory=False.\n",
      "  wild_fish_df = pd.read_csv(WILD_FISH_DATA)\n"
     ]
    }
   ],
   "source": [
    "# load the data\n",
    "wild_events_df = pd.read_csv(WILD_EVENT_DATA)\n",
    "wild_events_df['event_id'] = wild_events_df['event_id'].astype(str)\n",
    "wild_fish_df = pd.read_csv(WILD_FISH_DATA)\n",
    "wild_fish_df['event_id'] = wild_fish_df['event_id'].astype(str)\n",
    "wild_df = pd.merge(wild_events_df, wild_fish_df, on='event_id', how='left')"
   ],
   "metadata": {
    "collapsed": false,
    "pycharm": {
     "name": "#%%\n"
    }
   }
  },
  {
   "cell_type": "code",
   "execution_count": 25,
   "outputs": [
    {
     "data": {
      "text/plain": "array([5, 6, 3, 4])"
     },
     "execution_count": 25,
     "metadata": {},
     "output_type": "execute_result"
    }
   ],
   "source": [
    "# create a month column\n",
    "wild_df['sampledate'] = pd.to_datetime(wild_df['sampledate'], errors='coerce', utc=True)\n",
    "wild_df['month'] = wild_df.sampledate.dt.month\n",
    "# restrict to the out-migration months\n",
    "wild_df = wild_df[wild_df.month.isin([3, 4, 5, 6])]\n",
    "\n",
    "wild_df.month.unique()"
   ],
   "metadata": {
    "collapsed": false,
    "pycharm": {
     "name": "#%%\n"
    }
   }
  },
  {
   "cell_type": "code",
   "execution_count": 26,
   "outputs": [],
   "source": [
    "def count_fish(species_name):\n",
    "    \"\"\"\n",
    "    Gets the counts of wild fish sampled in each zone.\n",
    "    First column is totals per zone, then a column for each month during the out-migration period (March-June).\n",
    "    :param species_name: Name of the fish species to count.\n",
    "    :type species_name: str\n",
    "    :return: Dataframe with one row per DFO zone; columns DFO zone, total count, one per month\n",
    "    :rtype: pandas.Dataframe object\n",
    "    \"\"\"\n",
    "    # get the part of the wild that is just this species\n",
    "    species_df = wild_df[wild_df.fish_species == species_name]\n",
    "\n",
    "    # get the number of fish per zone, all year\n",
    "    species_all_num_fish_df = pd.pivot_table(species_df, values='fish_id', index='dfozone',\n",
    "                                          columns=['fish_species'], aggfunc='count').reset_index()\n",
    "\n",
    "    # get the number of fish per zone, each month\n",
    "    species_month_num_fish_df = pd.pivot_table(species_df, values='fish_id', index='dfozone',\n",
    "                                               columns=['month'], aggfunc='count').reset_index()\n",
    "\n",
    "    # combine all year with months\n",
    "    species_num_df = pd.merge(species_all_num_fish_df, species_month_num_fish_df, on='dfozone', how='left')\n",
    "\n",
    "    # give the columns friendlier names\n",
    "    species_num_df.rename(columns={'dfozone': 'DFO Zone', species_name: 'All year', 3: 'March', 4: 'April', 5: 'May', 6:'June'},\n",
    "                          inplace=True)\n",
    "\n",
    "    return species_num_df"
   ],
   "metadata": {
    "collapsed": false,
    "pycharm": {
     "name": "#%%\n"
    }
   }
  },
  {
   "cell_type": "code",
   "execution_count": 27,
   "outputs": [],
   "source": [
    "def mean_fish(species_name, field_name):\n",
    "    \"\"\"\n",
    "    Gets the mean of a property of wild fish sampled in each zone for each month during the out-migration period (March-June).\n",
    "\n",
    "    :param species_name: Name of the fish species.\n",
    "    :type species_name: str\n",
    "    :param field_name: Name of the dataframe field to take the mean from\n",
    "    :type field_name: str\n",
    "    :return: Dataframe with one row per DFO zone; columns DFO zone, one column per month with the mean of the field for that month\n",
    "    :rtype: pandas.Dataframe object\n",
    "    \"\"\"\n",
    "    # get the part of the wild that is just this species\n",
    "    species_df = wild_df[wild_df.fish_species == species_name]\n",
    "\n",
    "    # get the number of fish per zone, each month\n",
    "    species_month_num_fish_df = pd.pivot_table(species_df, values=field_name, index='dfozone',\n",
    "                                               columns=['month'], aggfunc='mean').reset_index()\n",
    "\n",
    "    # give the columns friendlier names\n",
    "    species_month_num_fish_df.rename(columns={'dfozone': 'DFO Zone', 3: 'March', 4: 'April', 5: 'May', 6:'June'},\n",
    "                                     inplace=True)\n",
    "\n",
    "    return species_month_num_fish_df"
   ],
   "metadata": {
    "collapsed": false,
    "pycharm": {
     "name": "#%%\n"
    }
   }
  },
  {
   "cell_type": "markdown",
   "source": [
    "## Chum"
   ],
   "metadata": {
    "collapsed": false,
    "pycharm": {
     "name": "#%% md\n"
    }
   }
  },
  {
   "cell_type": "code",
   "execution_count": 28,
   "outputs": [],
   "source": [
    "# calculate the fish counts\n",
    "chum_num_df = count_fish(\"Chum Salmon\")\n",
    "\n",
    "# write out to a CSV\n",
    "chum_num_df.to_csv(OUTPUT_DIR / 'chum_number.csv', index=False)"
   ],
   "metadata": {
    "collapsed": false,
    "pycharm": {
     "name": "#%%\n"
    }
   }
  },
  {
   "cell_type": "code",
   "execution_count": 29,
   "outputs": [],
   "source": [
    "# calculate the mean of the lengths\n",
    "chum_length_df = mean_fish(\"Chum Salmon\", 'length')\n",
    "\n",
    "# write out to a CSV\n",
    "chum_length_df.to_csv(OUTPUT_DIR / 'chum_length.csv', index=False)"
   ],
   "metadata": {
    "collapsed": false,
    "pycharm": {
     "name": "#%%\n"
    }
   }
  },
  {
   "cell_type": "code",
   "execution_count": 30,
   "outputs": [],
   "source": [
    "# calculate the mean of the lengths\n",
    "chum_weight_df = mean_fish(\"Chum Salmon\", 'weight')\n",
    "\n",
    "# write out to a CSV\n",
    "chum_weight_df.to_csv(OUTPUT_DIR / 'chum_weight.csv', index=False)"
   ],
   "metadata": {
    "collapsed": false,
    "pycharm": {
     "name": "#%%\n"
    }
   }
  },
  {
   "cell_type": "markdown",
   "source": [
    "## Pink"
   ],
   "metadata": {
    "collapsed": false,
    "pycharm": {
     "name": "#%% md\n"
    }
   }
  },
  {
   "cell_type": "code",
   "execution_count": 31,
   "outputs": [],
   "source": [
    "# calculate the fish counts\n",
    "pink_num_df = count_fish(\"Pink Salmon\")\n",
    "\n",
    "# write out to a CSV\n",
    "pink_num_df.to_csv(OUTPUT_DIR / 'pink_number.csv', index=False)"
   ],
   "metadata": {
    "collapsed": false,
    "pycharm": {
     "name": "#%%\n"
    }
   }
  },
  {
   "cell_type": "code",
   "execution_count": 32,
   "outputs": [],
   "source": [
    "# calculate the mean of the lengths\n",
    "pink_length_df = mean_fish(\"Pink Salmon\", 'length')\n",
    "\n",
    "# write out to a CSV\n",
    "pink_length_df.to_csv(OUTPUT_DIR / 'pink_length.csv', index=False)"
   ],
   "metadata": {
    "collapsed": false,
    "pycharm": {
     "name": "#%%\n"
    }
   }
  },
  {
   "cell_type": "code",
   "execution_count": 33,
   "outputs": [
    {
     "data": {
      "text/plain": "month DFO Zone     March     April       May      June\n0          2_3       NaN  0.300000       NaN       NaN\n1          2_4       NaN  0.403571  0.575000       NaN\n2          3_1  0.354861  0.620376  0.918750       NaN\n3          3_2       NaN  0.373223  2.089765  7.378668\n4          3_3  0.260417  0.460349  1.873368  4.822033",
      "text/html": "<div>\n<style scoped>\n    .dataframe tbody tr th:only-of-type {\n        vertical-align: middle;\n    }\n\n    .dataframe tbody tr th {\n        vertical-align: top;\n    }\n\n    .dataframe thead th {\n        text-align: right;\n    }\n</style>\n<table border=\"1\" class=\"dataframe\">\n  <thead>\n    <tr style=\"text-align: right;\">\n      <th>month</th>\n      <th>DFO Zone</th>\n      <th>March</th>\n      <th>April</th>\n      <th>May</th>\n      <th>June</th>\n    </tr>\n  </thead>\n  <tbody>\n    <tr>\n      <th>0</th>\n      <td>2_3</td>\n      <td>NaN</td>\n      <td>0.300000</td>\n      <td>NaN</td>\n      <td>NaN</td>\n    </tr>\n    <tr>\n      <th>1</th>\n      <td>2_4</td>\n      <td>NaN</td>\n      <td>0.403571</td>\n      <td>0.575000</td>\n      <td>NaN</td>\n    </tr>\n    <tr>\n      <th>2</th>\n      <td>3_1</td>\n      <td>0.354861</td>\n      <td>0.620376</td>\n      <td>0.918750</td>\n      <td>NaN</td>\n    </tr>\n    <tr>\n      <th>3</th>\n      <td>3_2</td>\n      <td>NaN</td>\n      <td>0.373223</td>\n      <td>2.089765</td>\n      <td>7.378668</td>\n    </tr>\n    <tr>\n      <th>4</th>\n      <td>3_3</td>\n      <td>0.260417</td>\n      <td>0.460349</td>\n      <td>1.873368</td>\n      <td>4.822033</td>\n    </tr>\n  </tbody>\n</table>\n</div>"
     },
     "execution_count": 33,
     "metadata": {},
     "output_type": "execute_result"
    }
   ],
   "source": [
    "# calculate the mean of the lengths\n",
    "pink_weight_df = mean_fish(\"Pink Salmon\", 'weight')\n",
    "pink_weight_df.head()"
   ],
   "metadata": {
    "collapsed": false,
    "pycharm": {
     "name": "#%%\n"
    }
   }
  },
  {
   "cell_type": "code",
   "execution_count": 34,
   "outputs": [],
   "source": [
    "\n",
    "# write out to a CSV\n",
    "pink_weight_df.to_csv(OUTPUT_DIR / 'pink_weight.csv', index=False)"
   ],
   "metadata": {
    "collapsed": false,
    "pycharm": {
     "name": "#%%\n"
    }
   }
  },
  {
   "cell_type": "code",
   "execution_count": 34,
   "outputs": [],
   "source": [],
   "metadata": {
    "collapsed": false,
    "pycharm": {
     "name": "#%%\n"
    }
   }
  }
 ],
 "metadata": {
  "kernelspec": {
   "display_name": "Python 3",
   "language": "python",
   "name": "python3"
  },
  "language_info": {
   "codemirror_mode": {
    "name": "ipython",
    "version": 2
   },
   "file_extension": ".py",
   "mimetype": "text/x-python",
   "name": "python",
   "nbconvert_exporter": "python",
   "pygments_lexer": "ipython2",
   "version": "2.7.6"
  }
 },
 "nbformat": 4,
 "nbformat_minor": 0
}