{
 "cells": [
  {
   "cell_type": "markdown",
   "source": [
    "## This Notebook generates an image file for Figure 2\n",
    "The figure is a frequency plot showing the number of fish assessed in the wild sampling events where fish were caught."
   ],
   "metadata": {
    "collapsed": false,
    "pycharm": {
     "name": "#%% md\n"
    }
   }
  },
  {
   "cell_type": "code",
   "execution_count": 1,
   "outputs": [],
   "source": [
    "from pathlib import Path\n",
    "import pandas as pd\n",
    "import seaborn as sns"
   ],
   "metadata": {
    "collapsed": false,
    "pycharm": {
     "name": "#%%\n"
    }
   }
  },
  {
   "cell_type": "code",
   "execution_count": 2,
   "outputs": [],
   "source": [
    "# define data location constants\n",
    "DATA_DIR = Path('..') / 'source_data'\n",
    "WILD_FISH_DATA = DATA_DIR / 'all_wild_fish_lice.csv'\n",
    "WILD_EVENT_DATA = DATA_DIR / 'all_wild_sample_events.csv'\n",
    "\n",
    "OUTPUT_DIR = Path('..') / 'output' / 'Figure_2'"
   ],
   "metadata": {
    "collapsed": false,
    "pycharm": {
     "name": "#%%\n"
    }
   }
  },
  {
   "cell_type": "markdown",
   "source": [
    "## Format the data"
   ],
   "metadata": {
    "collapsed": false,
    "pycharm": {
     "name": "#%% md\n"
    }
   }
  },
  {
   "cell_type": "code",
   "execution_count": 3,
   "outputs": [],
   "source": [
    "# import and merge the data\n",
    "events_df = pd.read_csv(WILD_EVENT_DATA, parse_dates=['sampledate'])\n",
    "fish_df = pd.read_csv(WILD_FISH_DATA)\n",
    "\n",
    "# merge on the right so we only get events where there were fish caught\n",
    "wild_df = pd.merge(events_df, fish_df, on='event_id', how='left')"
   ],
   "metadata": {
    "collapsed": false,
    "pycharm": {
     "name": "#%%\n"
    }
   }
  },
  {
   "cell_type": "code",
   "execution_count": 4,
   "outputs": [],
   "source": [
    "# group by event and count the number of fish\n",
    "wild_event_group = wild_df.groupby(['event_id'])\n",
    "wild_num_fish_per_event_df = wild_event_group['fish_id'].agg('count').reset_index()"
   ],
   "metadata": {
    "collapsed": false,
    "pycharm": {
     "name": "#%%\n"
    }
   }
  },
  {
   "cell_type": "code",
   "execution_count": 5,
   "outputs": [
    {
     "data": {
      "text/plain": "   event_id  fish_count\n0       1.0           8\n1       2.0          10\n2       3.0          15\n3       4.0           3\n4       5.0          26",
      "text/html": "<div>\n<style scoped>\n    .dataframe tbody tr th:only-of-type {\n        vertical-align: middle;\n    }\n\n    .dataframe tbody tr th {\n        vertical-align: top;\n    }\n\n    .dataframe thead th {\n        text-align: right;\n    }\n</style>\n<table border=\"1\" class=\"dataframe\">\n  <thead>\n    <tr style=\"text-align: right;\">\n      <th></th>\n      <th>event_id</th>\n      <th>fish_count</th>\n    </tr>\n  </thead>\n  <tbody>\n    <tr>\n      <th>0</th>\n      <td>1.0</td>\n      <td>8</td>\n    </tr>\n    <tr>\n      <th>1</th>\n      <td>2.0</td>\n      <td>10</td>\n    </tr>\n    <tr>\n      <th>2</th>\n      <td>3.0</td>\n      <td>15</td>\n    </tr>\n    <tr>\n      <th>3</th>\n      <td>4.0</td>\n      <td>3</td>\n    </tr>\n    <tr>\n      <th>4</th>\n      <td>5.0</td>\n      <td>26</td>\n    </tr>\n  </tbody>\n</table>\n</div>"
     },
     "execution_count": 5,
     "metadata": {},
     "output_type": "execute_result"
    }
   ],
   "source": [
    "# rename fish_id column to 'fish_count' so it's clearer what it's for\n",
    "wild_num_fish_per_event_df.rename(columns={'fish_id': 'fish_count'}, inplace=True)\n",
    "\n",
    "wild_num_fish_per_event_df.head()"
   ],
   "metadata": {
    "collapsed": false,
    "pycharm": {
     "name": "#%%\n"
    }
   }
  },
  {
   "cell_type": "markdown",
   "source": [
    "## Create the frequency plot"
   ],
   "metadata": {
    "collapsed": false,
    "pycharm": {
     "name": "#%% md\n"
    }
   }
  },
  {
   "cell_type": "code",
   "execution_count": 6,
   "outputs": [],
   "source": [
    "# configure seaborn\n",
    "sns.set_style('whitegrid')\n",
    "sns.set(rc={\"figure.figsize\": (15, 10)})\n",
    "sns.set_context(\"paper\")\n",
    "sns.set_palette('colorblind')\n",
    "\n",
    "sns.set(font_scale=1.2)"
   ],
   "metadata": {
    "collapsed": false,
    "pycharm": {
     "name": "#%%\n"
    }
   }
  },
  {
   "cell_type": "code",
   "execution_count": 7,
   "outputs": [
    {
     "data": {
      "text/plain": "[Text(0.5, 0, 'Number of fish in sample'),\n Text(0, 0.5, 'Number of sampling events'),\n (1.0, 115.0),\n (0.0, 1200.0),\n [<matplotlib.axis.XTick at 0x735c6846da20>,\n  <matplotlib.axis.XTick at 0x735c6846d9f0>,\n  <matplotlib.axis.XTick at 0x735c684ee8f0>,\n  <matplotlib.axis.XTick at 0x735c671d2170>,\n  <matplotlib.axis.XTick at 0x735c671d27a0>,\n  <matplotlib.axis.XTick at 0x735c671d2ef0>,\n  <matplotlib.axis.XTick at 0x735c671d3640>,\n  <matplotlib.axis.XTick at 0x735c6846c670>,\n  <matplotlib.axis.XTick at 0x735c684edf90>,\n  <matplotlib.axis.XTick at 0x735c684ecfa0>,\n  <matplotlib.axis.XTick at 0x735c64715d20>,\n  <matplotlib.axis.XTick at 0x735c64714b20>]]"
     },
     "execution_count": 7,
     "metadata": {},
     "output_type": "execute_result"
    },
    {
     "data": {
      "text/plain": "<Figure size 1080x720 with 1 Axes>",
      "image/png": "[encoded data removed]"
     },
     "metadata": {},
     "output_type": "display_data"
    }
   ],
   "source": [
    "chart = sns.histplot(data=wild_num_fish_per_event_df, x='fish_count', binwidth=1)\n",
    "chart.set(xlabel=\"Number of fish in sample\", ylabel=\"Number of sampling events\",  xlim=(1, 115), ylim=(0, 1200),\n",
    "          xticks=[1] + list(range(10, 115, 10)))\n"
   ],
   "metadata": {
    "collapsed": false,
    "pycharm": {
     "name": "#%%\n"
    }
   }
  },
  {
   "cell_type": "code",
   "execution_count": 8,
   "outputs": [],
   "source": [
    "chart.get_figure().savefig(OUTPUT_DIR / 'Fig2_wild_sample_freq.png', bbox_inches='tight')"
   ],
   "metadata": {
    "collapsed": false,
    "pycharm": {
     "name": "#%%\n"
    }
   }
  },
  {
   "cell_type": "code",
   "execution_count": 9,
   "outputs": [
    {
     "data": {
      "text/plain": "       event_id  fish_count\n6634     6635.0         116\n6124     6125.0         120\n3605     3606.0         123\n6623     6624.0         124\n15378   65467.0         126\n4600     4601.0         126\n6638     6639.0         129\n6639     6640.0         129\n6626     6627.0         130\n6628     6629.0         130\n6632     6633.0         130\n6630     6631.0         130\n6622     6623.0         131\n6627     6628.0         135\n6887     6888.0         150\n6633     6634.0         171\n6648     6649.0         237",
      "text/html": "<div>\n<style scoped>\n    .dataframe tbody tr th:only-of-type {\n        vertical-align: middle;\n    }\n\n    .dataframe tbody tr th {\n        vertical-align: top;\n    }\n\n    .dataframe thead th {\n        text-align: right;\n    }\n</style>\n<table border=\"1\" class=\"dataframe\">\n  <thead>\n    <tr style=\"text-align: right;\">\n      <th></th>\n      <th>event_id</th>\n      <th>fish_count</th>\n    </tr>\n  </thead>\n  <tbody>\n    <tr>\n      <th>6634</th>\n      <td>6635.0</td>\n      <td>116</td>\n    </tr>\n    <tr>\n      <th>6124</th>\n      <td>6125.0</td>\n      <td>120</td>\n    </tr>\n    <tr>\n      <th>3605</th>\n      <td>3606.0</td>\n      <td>123</td>\n    </tr>\n    <tr>\n      <th>6623</th>\n      <td>6624.0</td>\n      <td>124</td>\n    </tr>\n    <tr>\n      <th>15378</th>\n      <td>65467.0</td>\n      <td>126</td>\n    </tr>\n    <tr>\n      <th>4600</th>\n      <td>4601.0</td>\n      <td>126</td>\n    </tr>\n    <tr>\n      <th>6638</th>\n      <td>6639.0</td>\n      <td>129</td>\n    </tr>\n    <tr>\n      <th>6639</th>\n      <td>6640.0</td>\n      <td>129</td>\n    </tr>\n    <tr>\n      <th>6626</th>\n      <td>6627.0</td>\n      <td>130</td>\n    </tr>\n    <tr>\n      <th>6628</th>\n      <td>6629.0</td>\n      <td>130</td>\n    </tr>\n    <tr>\n      <th>6632</th>\n      <td>6633.0</td>\n      <td>130</td>\n    </tr>\n    <tr>\n      <th>6630</th>\n      <td>6631.0</td>\n      <td>130</td>\n    </tr>\n    <tr>\n      <th>6622</th>\n      <td>6623.0</td>\n      <td>131</td>\n    </tr>\n    <tr>\n      <th>6627</th>\n      <td>6628.0</td>\n      <td>135</td>\n    </tr>\n    <tr>\n      <th>6887</th>\n      <td>6888.0</td>\n      <td>150</td>\n    </tr>\n    <tr>\n      <th>6633</th>\n      <td>6634.0</td>\n      <td>171</td>\n    </tr>\n    <tr>\n      <th>6648</th>\n      <td>6649.0</td>\n      <td>237</td>\n    </tr>\n  </tbody>\n</table>\n</div>"
     },
     "execution_count": 9,
     "metadata": {},
     "output_type": "execute_result"
    }
   ],
   "source": [
    "# more than 115 fish in the events - not shown in the chart\n",
    "wild_num_fish_per_event_df[wild_num_fish_per_event_df.fish_count > 115].sort_values('fish_count')"
   ],
   "metadata": {
    "collapsed": false,
    "pycharm": {
     "name": "#%%\n"
    }
   }
  },
  {
   "cell_type": "code",
   "execution_count": 9,
   "outputs": [],
   "source": [],
   "metadata": {
    "collapsed": false,
    "pycharm": {
     "name": "#%%\n"
    }
   }
  }
 ],
 "metadata": {
  "kernelspec": {
   "display_name": "Python 3",
   "language": "python",
   "name": "python3"
  },
  "language_info": {
   "codemirror_mode": {
    "name": "ipython",
    "version": 2
   },
   "file_extension": ".py",
   "mimetype": "text/x-python",
   "name": "python",
   "nbconvert_exporter": "python",
   "pygments_lexer": "ipython2",
   "version": "2.7.6"
  }
 },
 "nbformat": 4,
 "nbformat_minor": 0
}